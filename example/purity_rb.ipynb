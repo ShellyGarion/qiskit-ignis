{
 "cells": [
  {
   "cell_type": "markdown",
   "metadata": {},
   "source": [
    "<img src=\"../../images/qiskit-heading.gif\" alt=\"Note: In order for images to show up in this jupyter notebook you need to select File => Trusted Notebook\" width=\"500 px\\\" align=\"left\">"
   ]
  },
  {
   "cell_type": "markdown",
   "metadata": {},
   "source": [
    "## Purity Randomized Benchmarking\n",
    "\n",
    "\n",
    "- Last Updated: June 24, 2019\n",
    "- Requires: qiskit-terra 0.8, qiskit-ignis 0.1.1, qiskit-aer 0.2\n",
    "\n",
    "## Introduction\n",
    "\n",
    "**Purity Randomized Benchmarking** is a variant of the Randomized Benchmarking (RB) method, which quantifies how *coherent* the errors are. The protocol executes the RB sequneces containing of Clifford gates, and then calculates the *purity* $Tr(\\rho^2)$, and fits the purity result to an exponentially decaying curve.\n",
    "\n",
    "This notebook gives an example for how to use the ``ignis.verification.randomized_benchmarking`` module in order to perform purity RB."
   ]
  },
  {
   "cell_type": "code",
   "execution_count": 1,
   "metadata": {},
   "outputs": [],
   "source": [
    "#Import general libraries (needed for functions)\n",
    "import numpy as np\n",
    "import matplotlib.pyplot as plt\n",
    "from IPython import display\n",
    "\n",
    "#Import the RB Functions\n",
    "import qiskit.ignis.verification.randomized_benchmarking as rb\n",
    "\n",
    "#Import Qiskit classes classes\n",
    "import qiskit\n",
    "from qiskit.providers.aer.noise import NoiseModel\n",
    "from qiskit.providers.aer.noise.errors.standard_errors import depolarizing_error, coherent_unitary_error"
   ]
  },
  {
   "cell_type": "markdown",
   "metadata": {},
   "source": [
    "## Select the Parameters of the Purity RB Run\n",
    "\n",
    "First, wee need to choose the regular RB parameters:\n",
    "\n",
    "- **nseeds**: The number of seeds. For each seed there you will get a separate list of output circuits.\n",
    "- **length_vector**: The length vector of Clifford lengths. Must be in ascending order. RB sequences of increasing length grow on top of the previous sequences.\n",
    "- **rb_pattern**: A list of the form [[i],[j],[k],...] or [[i,j],[k,l],...], etc. which will make simultaneous RB sequences. All the patterns should have the same dimetion, namely only 1-qubit sequences Qk or only 2-qubit sequences Qi,Qj, etc. The number of qubits is the sum of the entries.\n",
    "- **length_multiplier = None**: No length_multiplier for purity RB.\n",
    "- **seed_offset**: What to start the seeds at (e.g. if we want to add more seeds later).\n",
    "- **align_cliffs**: If true adds a barrier across all qubits in rb_pattern after each set of cliffords.\n",
    "\n",
    "As well as another parameter for purity RB:\n",
    "\n",
    "- **is_purity = True**\n",
    "\n",
    "In this example we have 4 qubits Q0,Q1,Q2,Q3. We are running 2Q RB (on qubits Q0,Q1 and on qubits Q2,Q3) simultaneously. "
   ]
  },
  {
   "cell_type": "code",
   "execution_count": 2,
   "metadata": {},
   "outputs": [],
   "source": [
    "# Example of 2-qubits Purity RB\n",
    "#Number of qubits\n",
    "nQ = 4\n",
    "#Number of seeds (random sequences)\n",
    "nseeds = 3\n",
    "#Number of Cliffords in the sequence (start, stop, steps)\n",
    "nCliffs = np.arange(1,200,20)\n",
    "#2Q RB on Q0,Q2 and 1Q RB on Q1\n",
    "rb_pattern = [[0,1],[2,3]]"
   ]
  },
  {
   "cell_type": "markdown",
   "metadata": {},
   "source": [
    "## Generate Purity RB sequences\n",
    "\n",
    "We generate purity RB sequences. We start with a small example (so it doesn't take too long to run).\n",
    "\n",
    "In order to generate the purity RB sequences **rb_purity_circs**, which is a list of lists of lists of quantum circuits, we run the function rb.randomized_benchmarking_seq.\n",
    "\n",
    "This function returns:\n",
    "\n",
    "- **rb_purity_circs**: A list of lists of lists of circuits for the purity rb sequences (separate list for each of the $3^n$ options and for each seed).\n",
    "- **xdata**: The Clifford lengths (with multiplier if applicable).\n",
    "- **rb_opts_dict**: Option dictionary back out with default options appended.\n",
    "\n",
    "As well as:\n",
    "\n",
    "- **npurity**: the number of purity rb circuits (per seed) which equals to $3^n$, where $n$ is the dimension, e.g npurity=3 for 1-qubit RB, npurity=9 for 2-qubit RB.\n",
    "\n",
    "In order to generate each of the $3^n$ circuits, we need to do (per each of the $n$ qubits) either:\n",
    "- nothing (Pauli-$Z$), or\n",
    "- $\\pi/2$-rotation around $x$ (Pauli-$X$), or\n",
    "- $\\pi/2$-rotation around $y$ (Pauli-$Y$),\n",
    "\n",
    "and then measure the result."
   ]
  },
  {
   "cell_type": "code",
   "execution_count": 3,
   "metadata": {},
   "outputs": [
    {
     "name": "stdout",
     "output_type": "stream",
     "text": [
      "9\n"
     ]
    }
   ],
   "source": [
    "rb_opts = {}\n",
    "rb_opts['length_vector'] = nCliffs\n",
    "rb_opts['nseeds'] = nseeds\n",
    "rb_opts['rb_pattern'] = rb_pattern\n",
    "rb_opts['is_purity'] = True\n",
    "rb_purity_circs, xdata, npurity = rb.randomized_benchmarking_seq(**rb_opts)\n",
    "print (npurity)"
   ]
  },
  {
   "cell_type": "markdown",
   "metadata": {},
   "source": [
    "To illustrate, we print the circuit names for purity RB."
   ]
  },
  {
   "cell_type": "code",
   "execution_count": 4,
   "metadata": {},
   "outputs": [
    {
     "name": "stdout",
     "output_type": "stream",
     "text": [
      "rb_purity_ZZ_length_0_seed_0\n",
      "rb_purity_ZZ_length_1_seed_0\n",
      "rb_purity_ZZ_length_2_seed_0\n",
      "rb_purity_ZZ_length_3_seed_0\n",
      "rb_purity_ZZ_length_4_seed_0\n",
      "rb_purity_ZZ_length_5_seed_0\n",
      "rb_purity_ZZ_length_6_seed_0\n",
      "rb_purity_ZZ_length_7_seed_0\n",
      "rb_purity_ZZ_length_8_seed_0\n",
      "rb_purity_ZZ_length_9_seed_0\n",
      "rb_purity_XZ_length_0_seed_0\n",
      "rb_purity_XZ_length_1_seed_0\n",
      "rb_purity_XZ_length_2_seed_0\n",
      "rb_purity_XZ_length_3_seed_0\n",
      "rb_purity_XZ_length_4_seed_0\n",
      "rb_purity_XZ_length_5_seed_0\n",
      "rb_purity_XZ_length_6_seed_0\n",
      "rb_purity_XZ_length_7_seed_0\n",
      "rb_purity_XZ_length_8_seed_0\n",
      "rb_purity_XZ_length_9_seed_0\n",
      "rb_purity_YZ_length_0_seed_0\n",
      "rb_purity_YZ_length_1_seed_0\n",
      "rb_purity_YZ_length_2_seed_0\n",
      "rb_purity_YZ_length_3_seed_0\n",
      "rb_purity_YZ_length_4_seed_0\n",
      "rb_purity_YZ_length_5_seed_0\n",
      "rb_purity_YZ_length_6_seed_0\n",
      "rb_purity_YZ_length_7_seed_0\n",
      "rb_purity_YZ_length_8_seed_0\n",
      "rb_purity_YZ_length_9_seed_0\n",
      "rb_purity_ZX_length_0_seed_0\n",
      "rb_purity_ZX_length_1_seed_0\n",
      "rb_purity_ZX_length_2_seed_0\n",
      "rb_purity_ZX_length_3_seed_0\n",
      "rb_purity_ZX_length_4_seed_0\n",
      "rb_purity_ZX_length_5_seed_0\n",
      "rb_purity_ZX_length_6_seed_0\n",
      "rb_purity_ZX_length_7_seed_0\n",
      "rb_purity_ZX_length_8_seed_0\n",
      "rb_purity_ZX_length_9_seed_0\n",
      "rb_purity_XX_length_0_seed_0\n",
      "rb_purity_XX_length_1_seed_0\n",
      "rb_purity_XX_length_2_seed_0\n",
      "rb_purity_XX_length_3_seed_0\n",
      "rb_purity_XX_length_4_seed_0\n",
      "rb_purity_XX_length_5_seed_0\n",
      "rb_purity_XX_length_6_seed_0\n",
      "rb_purity_XX_length_7_seed_0\n",
      "rb_purity_XX_length_8_seed_0\n",
      "rb_purity_XX_length_9_seed_0\n",
      "rb_purity_YX_length_0_seed_0\n",
      "rb_purity_YX_length_1_seed_0\n",
      "rb_purity_YX_length_2_seed_0\n",
      "rb_purity_YX_length_3_seed_0\n",
      "rb_purity_YX_length_4_seed_0\n",
      "rb_purity_YX_length_5_seed_0\n",
      "rb_purity_YX_length_6_seed_0\n",
      "rb_purity_YX_length_7_seed_0\n",
      "rb_purity_YX_length_8_seed_0\n",
      "rb_purity_YX_length_9_seed_0\n",
      "rb_purity_ZY_length_0_seed_0\n",
      "rb_purity_ZY_length_1_seed_0\n",
      "rb_purity_ZY_length_2_seed_0\n",
      "rb_purity_ZY_length_3_seed_0\n",
      "rb_purity_ZY_length_4_seed_0\n",
      "rb_purity_ZY_length_5_seed_0\n",
      "rb_purity_ZY_length_6_seed_0\n",
      "rb_purity_ZY_length_7_seed_0\n",
      "rb_purity_ZY_length_8_seed_0\n",
      "rb_purity_ZY_length_9_seed_0\n",
      "rb_purity_XY_length_0_seed_0\n",
      "rb_purity_XY_length_1_seed_0\n",
      "rb_purity_XY_length_2_seed_0\n",
      "rb_purity_XY_length_3_seed_0\n",
      "rb_purity_XY_length_4_seed_0\n",
      "rb_purity_XY_length_5_seed_0\n",
      "rb_purity_XY_length_6_seed_0\n",
      "rb_purity_XY_length_7_seed_0\n",
      "rb_purity_XY_length_8_seed_0\n",
      "rb_purity_XY_length_9_seed_0\n",
      "rb_purity_YY_length_0_seed_0\n",
      "rb_purity_YY_length_1_seed_0\n",
      "rb_purity_YY_length_2_seed_0\n",
      "rb_purity_YY_length_3_seed_0\n",
      "rb_purity_YY_length_4_seed_0\n",
      "rb_purity_YY_length_5_seed_0\n",
      "rb_purity_YY_length_6_seed_0\n",
      "rb_purity_YY_length_7_seed_0\n",
      "rb_purity_YY_length_8_seed_0\n",
      "rb_purity_YY_length_9_seed_0\n",
      "rb_purity_ZZ_length_0_seed_1\n",
      "rb_purity_ZZ_length_1_seed_1\n",
      "rb_purity_ZZ_length_2_seed_1\n",
      "rb_purity_ZZ_length_3_seed_1\n",
      "rb_purity_ZZ_length_4_seed_1\n",
      "rb_purity_ZZ_length_5_seed_1\n",
      "rb_purity_ZZ_length_6_seed_1\n",
      "rb_purity_ZZ_length_7_seed_1\n",
      "rb_purity_ZZ_length_8_seed_1\n",
      "rb_purity_ZZ_length_9_seed_1\n",
      "rb_purity_XZ_length_0_seed_1\n",
      "rb_purity_XZ_length_1_seed_1\n",
      "rb_purity_XZ_length_2_seed_1\n",
      "rb_purity_XZ_length_3_seed_1\n",
      "rb_purity_XZ_length_4_seed_1\n",
      "rb_purity_XZ_length_5_seed_1\n",
      "rb_purity_XZ_length_6_seed_1\n",
      "rb_purity_XZ_length_7_seed_1\n",
      "rb_purity_XZ_length_8_seed_1\n",
      "rb_purity_XZ_length_9_seed_1\n",
      "rb_purity_YZ_length_0_seed_1\n",
      "rb_purity_YZ_length_1_seed_1\n",
      "rb_purity_YZ_length_2_seed_1\n",
      "rb_purity_YZ_length_3_seed_1\n",
      "rb_purity_YZ_length_4_seed_1\n",
      "rb_purity_YZ_length_5_seed_1\n",
      "rb_purity_YZ_length_6_seed_1\n",
      "rb_purity_YZ_length_7_seed_1\n",
      "rb_purity_YZ_length_8_seed_1\n",
      "rb_purity_YZ_length_9_seed_1\n",
      "rb_purity_ZX_length_0_seed_1\n",
      "rb_purity_ZX_length_1_seed_1\n",
      "rb_purity_ZX_length_2_seed_1\n",
      "rb_purity_ZX_length_3_seed_1\n",
      "rb_purity_ZX_length_4_seed_1\n",
      "rb_purity_ZX_length_5_seed_1\n",
      "rb_purity_ZX_length_6_seed_1\n",
      "rb_purity_ZX_length_7_seed_1\n",
      "rb_purity_ZX_length_8_seed_1\n",
      "rb_purity_ZX_length_9_seed_1\n",
      "rb_purity_XX_length_0_seed_1\n",
      "rb_purity_XX_length_1_seed_1\n",
      "rb_purity_XX_length_2_seed_1\n",
      "rb_purity_XX_length_3_seed_1\n",
      "rb_purity_XX_length_4_seed_1\n",
      "rb_purity_XX_length_5_seed_1\n",
      "rb_purity_XX_length_6_seed_1\n",
      "rb_purity_XX_length_7_seed_1\n",
      "rb_purity_XX_length_8_seed_1\n",
      "rb_purity_XX_length_9_seed_1\n",
      "rb_purity_YX_length_0_seed_1\n",
      "rb_purity_YX_length_1_seed_1\n",
      "rb_purity_YX_length_2_seed_1\n",
      "rb_purity_YX_length_3_seed_1\n",
      "rb_purity_YX_length_4_seed_1\n",
      "rb_purity_YX_length_5_seed_1\n",
      "rb_purity_YX_length_6_seed_1\n",
      "rb_purity_YX_length_7_seed_1\n",
      "rb_purity_YX_length_8_seed_1\n",
      "rb_purity_YX_length_9_seed_1\n",
      "rb_purity_ZY_length_0_seed_1\n",
      "rb_purity_ZY_length_1_seed_1\n",
      "rb_purity_ZY_length_2_seed_1\n",
      "rb_purity_ZY_length_3_seed_1\n",
      "rb_purity_ZY_length_4_seed_1\n",
      "rb_purity_ZY_length_5_seed_1\n",
      "rb_purity_ZY_length_6_seed_1\n",
      "rb_purity_ZY_length_7_seed_1\n",
      "rb_purity_ZY_length_8_seed_1\n",
      "rb_purity_ZY_length_9_seed_1\n",
      "rb_purity_XY_length_0_seed_1\n",
      "rb_purity_XY_length_1_seed_1\n",
      "rb_purity_XY_length_2_seed_1\n",
      "rb_purity_XY_length_3_seed_1\n",
      "rb_purity_XY_length_4_seed_1\n",
      "rb_purity_XY_length_5_seed_1\n",
      "rb_purity_XY_length_6_seed_1\n",
      "rb_purity_XY_length_7_seed_1\n",
      "rb_purity_XY_length_8_seed_1\n",
      "rb_purity_XY_length_9_seed_1\n",
      "rb_purity_YY_length_0_seed_1\n",
      "rb_purity_YY_length_1_seed_1\n",
      "rb_purity_YY_length_2_seed_1\n",
      "rb_purity_YY_length_3_seed_1\n",
      "rb_purity_YY_length_4_seed_1\n",
      "rb_purity_YY_length_5_seed_1\n",
      "rb_purity_YY_length_6_seed_1\n",
      "rb_purity_YY_length_7_seed_1\n",
      "rb_purity_YY_length_8_seed_1\n",
      "rb_purity_YY_length_9_seed_1\n",
      "rb_purity_ZZ_length_0_seed_2\n",
      "rb_purity_ZZ_length_1_seed_2\n",
      "rb_purity_ZZ_length_2_seed_2\n",
      "rb_purity_ZZ_length_3_seed_2\n",
      "rb_purity_ZZ_length_4_seed_2\n",
      "rb_purity_ZZ_length_5_seed_2\n",
      "rb_purity_ZZ_length_6_seed_2\n",
      "rb_purity_ZZ_length_7_seed_2\n",
      "rb_purity_ZZ_length_8_seed_2\n",
      "rb_purity_ZZ_length_9_seed_2\n",
      "rb_purity_XZ_length_0_seed_2\n",
      "rb_purity_XZ_length_1_seed_2\n",
      "rb_purity_XZ_length_2_seed_2\n",
      "rb_purity_XZ_length_3_seed_2\n",
      "rb_purity_XZ_length_4_seed_2\n",
      "rb_purity_XZ_length_5_seed_2\n",
      "rb_purity_XZ_length_6_seed_2\n",
      "rb_purity_XZ_length_7_seed_2\n",
      "rb_purity_XZ_length_8_seed_2\n",
      "rb_purity_XZ_length_9_seed_2\n",
      "rb_purity_YZ_length_0_seed_2\n",
      "rb_purity_YZ_length_1_seed_2\n",
      "rb_purity_YZ_length_2_seed_2\n",
      "rb_purity_YZ_length_3_seed_2\n",
      "rb_purity_YZ_length_4_seed_2\n",
      "rb_purity_YZ_length_5_seed_2\n",
      "rb_purity_YZ_length_6_seed_2\n",
      "rb_purity_YZ_length_7_seed_2\n",
      "rb_purity_YZ_length_8_seed_2\n",
      "rb_purity_YZ_length_9_seed_2\n",
      "rb_purity_ZX_length_0_seed_2\n",
      "rb_purity_ZX_length_1_seed_2\n",
      "rb_purity_ZX_length_2_seed_2\n",
      "rb_purity_ZX_length_3_seed_2\n",
      "rb_purity_ZX_length_4_seed_2\n",
      "rb_purity_ZX_length_5_seed_2\n",
      "rb_purity_ZX_length_6_seed_2\n",
      "rb_purity_ZX_length_7_seed_2\n",
      "rb_purity_ZX_length_8_seed_2\n",
      "rb_purity_ZX_length_9_seed_2\n",
      "rb_purity_XX_length_0_seed_2\n",
      "rb_purity_XX_length_1_seed_2\n",
      "rb_purity_XX_length_2_seed_2\n",
      "rb_purity_XX_length_3_seed_2\n",
      "rb_purity_XX_length_4_seed_2\n",
      "rb_purity_XX_length_5_seed_2\n",
      "rb_purity_XX_length_6_seed_2\n",
      "rb_purity_XX_length_7_seed_2\n",
      "rb_purity_XX_length_8_seed_2\n",
      "rb_purity_XX_length_9_seed_2\n",
      "rb_purity_YX_length_0_seed_2\n",
      "rb_purity_YX_length_1_seed_2\n",
      "rb_purity_YX_length_2_seed_2\n",
      "rb_purity_YX_length_3_seed_2\n",
      "rb_purity_YX_length_4_seed_2\n",
      "rb_purity_YX_length_5_seed_2\n",
      "rb_purity_YX_length_6_seed_2\n",
      "rb_purity_YX_length_7_seed_2\n",
      "rb_purity_YX_length_8_seed_2\n",
      "rb_purity_YX_length_9_seed_2\n",
      "rb_purity_ZY_length_0_seed_2\n",
      "rb_purity_ZY_length_1_seed_2\n",
      "rb_purity_ZY_length_2_seed_2\n",
      "rb_purity_ZY_length_3_seed_2\n",
      "rb_purity_ZY_length_4_seed_2\n",
      "rb_purity_ZY_length_5_seed_2\n",
      "rb_purity_ZY_length_6_seed_2\n",
      "rb_purity_ZY_length_7_seed_2\n",
      "rb_purity_ZY_length_8_seed_2\n",
      "rb_purity_ZY_length_9_seed_2\n",
      "rb_purity_XY_length_0_seed_2\n",
      "rb_purity_XY_length_1_seed_2\n",
      "rb_purity_XY_length_2_seed_2\n",
      "rb_purity_XY_length_3_seed_2\n",
      "rb_purity_XY_length_4_seed_2\n",
      "rb_purity_XY_length_5_seed_2\n",
      "rb_purity_XY_length_6_seed_2\n",
      "rb_purity_XY_length_7_seed_2\n",
      "rb_purity_XY_length_8_seed_2\n",
      "rb_purity_XY_length_9_seed_2\n",
      "rb_purity_YY_length_0_seed_2\n",
      "rb_purity_YY_length_1_seed_2\n",
      "rb_purity_YY_length_2_seed_2\n",
      "rb_purity_YY_length_3_seed_2\n",
      "rb_purity_YY_length_4_seed_2\n",
      "rb_purity_YY_length_5_seed_2\n",
      "rb_purity_YY_length_6_seed_2\n",
      "rb_purity_YY_length_7_seed_2\n",
      "rb_purity_YY_length_8_seed_2\n",
      "rb_purity_YY_length_9_seed_2\n"
     ]
    }
   ],
   "source": [
    "for i in range(len(rb_purity_circs)):\n",
    "    for j in range(len(rb_purity_circs[i])):\n",
    "        for k in range(len(rb_purity_circs[i][j])):\n",
    "            print (rb_purity_circs[i][j][k].name)"
   ]
  },
  {
   "cell_type": "markdown",
   "metadata": {},
   "source": [
    "As an example, we print the circuit corresponding to the first RB sequences, for each of the $3^n$ parameters."
   ]
  },
  {
   "cell_type": "code",
   "execution_count": 5,
   "metadata": {},
   "outputs": [
    {
     "name": "stdout",
     "output_type": "stream",
     "text": [
      "circ no.  0\n",
      "          ┌───┐ ┌───┐┌───┐       ┌───┐ ┌───┐        ░   ┌───┐      ┌───┐       »\n",
      "qr_0: |0>─┤ H ├─┤ H ├┤ S ├───■───┤ X ├─┤ Y ├────────░───┤ Y ├──────┤ X ├───■───»\n",
      "          └───┘ └───┘└───┘ ┌─┴─┐ └─┬─┘┌┴───┴┐┌───┐  ░   ├───┤ ┌───┐└─┬─┘ ┌─┴─┐ »\n",
      "qr_1: |0>──────────────────┤ X ├───■──┤ Sdg ├┤ H ├──░───┤ H ├─┤ S ├──■───┤ X ├─»\n",
      "         ┌─────┐┌───┐      ├───┤ ┌───┐└┬───┬┘└─░─┘┌───┐┌┴───┴┐├───┤      ├───┤ »\n",
      "qr_2: |0>┤ Sdg ├┤ H ├──■───┤ H ├─┤ S ├─┤ Y ├───░──┤ Y ├┤ Sdg ├┤ H ├──■───┤ H ├─»\n",
      "         └┬───┬┘├───┤┌─┴─┐┌┴───┴┐├───┤ └───┘   ░  ├───┤└┬───┬┘└───┘┌─┴─┐┌┴───┴┐»\n",
      "qr_3: |0>─┤ H ├─┤ S ├┤ X ├┤ Sdg ├┤ H ├─────────░──┤ H ├─┤ S ├──────┤ X ├┤ Sdg ├»\n",
      "          └───┘ └───┘└───┘└─────┘└───┘         ░  └───┘ └───┘      └───┘└─────┘»\n",
      " cr_0: 0 ══════════════════════════════════════════════════════════════════════»\n",
      "                                                                               »\n",
      " cr_1: 0 ══════════════════════════════════════════════════════════════════════»\n",
      "                                                                               »\n",
      " cr_2: 0 ══════════════════════════════════════════════════════════════════════»\n",
      "                                                                               »\n",
      " cr_3: 0 ══════════════════════════════════════════════════════════════════════»\n",
      "                                                                               »\n",
      "«         ┌─────┐      ┌───┐┌───┐┌─┐\n",
      "«qr_0: ───┤ Sdg ├──────┤ H ├┤ H ├┤M├\n",
      "«      ┌─┐└─────┘      └───┘└───┘└╥┘\n",
      "«qr_1: ┤M├────────────────────────╫─\n",
      "«      └╥┘ ┌───┐ ┌─┐              ║ \n",
      "«qr_2: ─╫──┤ S ├─┤M├──────────────╫─\n",
      "«       ║  ├───┤ └╥┘┌─┐           ║ \n",
      "«qr_3: ─╫──┤ H ├──╫─┤M├───────────╫─\n",
      "«       ║  └───┘  ║ └╥┘           ║ \n",
      "«cr_0: ═╬═════════╬══╬════════════╩═\n",
      "«       ║         ║  ║              \n",
      "«cr_1: ═╩═════════╬══╬══════════════\n",
      "«                 ║  ║              \n",
      "«cr_2: ═══════════╩══╬══════════════\n",
      "«                    ║              \n",
      "«cr_3: ══════════════╩══════════════\n",
      "«                                   \n",
      "circ no.  1\n",
      "          ┌───┐ ┌───┐┌───┐       ┌───┐ ┌───┐        ░   ┌───┐      ┌───┐       »\n",
      "qr_0: |0>─┤ H ├─┤ H ├┤ S ├───■───┤ X ├─┤ Y ├────────░───┤ Y ├──────┤ X ├───■───»\n",
      "          └───┘ └───┘└───┘ ┌─┴─┐ └─┬─┘┌┴───┴┐┌───┐  ░   ├───┤ ┌───┐└─┬─┘ ┌─┴─┐ »\n",
      "qr_1: |0>──────────────────┤ X ├───■──┤ Sdg ├┤ H ├──░───┤ H ├─┤ S ├──■───┤ X ├─»\n",
      "         ┌─────┐┌───┐      ├───┤ ┌───┐└┬───┬┘└─░─┘┌───┐┌┴───┴┐├───┤      ├───┤ »\n",
      "qr_2: |0>┤ Sdg ├┤ H ├──■───┤ H ├─┤ S ├─┤ Y ├───░──┤ Y ├┤ Sdg ├┤ H ├──■───┤ H ├─»\n",
      "         └┬───┬┘├───┤┌─┴─┐┌┴───┴┐├───┤ └───┘   ░  ├───┤└┬───┬┘└───┘┌─┴─┐┌┴───┴┐»\n",
      "qr_3: |0>─┤ H ├─┤ S ├┤ X ├┤ Sdg ├┤ H ├─────────░──┤ H ├─┤ S ├──────┤ X ├┤ Sdg ├»\n",
      "          └───┘ └───┘└───┘└─────┘└───┘         ░  └───┘ └───┘      └───┘└─────┘»\n",
      " cr_0: 0 ══════════════════════════════════════════════════════════════════════»\n",
      "                                                                               »\n",
      " cr_1: 0 ══════════════════════════════════════════════════════════════════════»\n",
      "                                                                               »\n",
      " cr_2: 0 ══════════════════════════════════════════════════════════════════════»\n",
      "                                                                               »\n",
      " cr_3: 0 ══════════════════════════════════════════════════════════════════════»\n",
      "                                                                               »\n",
      "«         ┌─────┐    ┌───┐     ┌───┐┌────────────┐┌─┐\n",
      "«qr_0: ───┤ Sdg ├────┤ H ├─────┤ H ├┤ Rx(1.5708) ├┤M├\n",
      "«      ┌─┐└─────┘    └───┘     └───┘└────────────┘└╥┘\n",
      "«qr_1: ┤M├─────────────────────────────────────────╫─\n",
      "«      └╥┘ ┌───┐ ┌────────────┐ ┌─┐                ║ \n",
      "«qr_2: ─╫──┤ S ├─┤ Rx(1.5708) ├─┤M├────────────────╫─\n",
      "«       ║  ├───┤ └────┬─┬─────┘ └╥┘                ║ \n",
      "«qr_3: ─╫──┤ H ├──────┤M├────────╫─────────────────╫─\n",
      "«       ║  └───┘      └╥┘        ║                 ║ \n",
      "«cr_0: ═╬══════════════╬═════════╬═════════════════╩═\n",
      "«       ║              ║         ║                   \n",
      "«cr_1: ═╩══════════════╬═════════╬═══════════════════\n",
      "«                      ║         ║                   \n",
      "«cr_2: ════════════════╬═════════╩═══════════════════\n",
      "«                      ║                             \n",
      "«cr_3: ════════════════╩═════════════════════════════\n",
      "«                                                    \n",
      "circ no.  2\n",
      "          ┌───┐ ┌───┐┌───┐       ┌───┐ ┌───┐        ░   ┌───┐      ┌───┐       »\n",
      "qr_0: |0>─┤ H ├─┤ H ├┤ S ├───■───┤ X ├─┤ Y ├────────░───┤ Y ├──────┤ X ├───■───»\n",
      "          └───┘ └───┘└───┘ ┌─┴─┐ └─┬─┘┌┴───┴┐┌───┐  ░   ├───┤ ┌───┐└─┬─┘ ┌─┴─┐ »\n",
      "qr_1: |0>──────────────────┤ X ├───■──┤ Sdg ├┤ H ├──░───┤ H ├─┤ S ├──■───┤ X ├─»\n",
      "         ┌─────┐┌───┐      ├───┤ ┌───┐└┬───┬┘└─░─┘┌───┐┌┴───┴┐├───┤      ├───┤ »\n",
      "qr_2: |0>┤ Sdg ├┤ H ├──■───┤ H ├─┤ S ├─┤ Y ├───░──┤ Y ├┤ Sdg ├┤ H ├──■───┤ H ├─»\n",
      "         └┬───┬┘├───┤┌─┴─┐┌┴───┴┐├───┤ └───┘   ░  ├───┤└┬───┬┘└───┘┌─┴─┐┌┴───┴┐»\n",
      "qr_3: |0>─┤ H ├─┤ S ├┤ X ├┤ Sdg ├┤ H ├─────────░──┤ H ├─┤ S ├──────┤ X ├┤ Sdg ├»\n",
      "          └───┘ └───┘└───┘└─────┘└───┘         ░  └───┘ └───┘      └───┘└─────┘»\n",
      " cr_0: 0 ══════════════════════════════════════════════════════════════════════»\n",
      "                                                                               »\n",
      " cr_1: 0 ══════════════════════════════════════════════════════════════════════»\n",
      "                                                                               »\n",
      " cr_2: 0 ══════════════════════════════════════════════════════════════════════»\n",
      "                                                                               »\n",
      " cr_3: 0 ══════════════════════════════════════════════════════════════════════»\n",
      "                                                                               »\n",
      "«         ┌─────┐    ┌───┐     ┌───┐┌────────────┐┌─┐\n",
      "«qr_0: ───┤ Sdg ├────┤ H ├─────┤ H ├┤ Ry(1.5708) ├┤M├\n",
      "«      ┌─┐└─────┘    └───┘     └───┘└────────────┘└╥┘\n",
      "«qr_1: ┤M├─────────────────────────────────────────╫─\n",
      "«      └╥┘ ┌───┐ ┌────────────┐ ┌─┐                ║ \n",
      "«qr_2: ─╫──┤ S ├─┤ Ry(1.5708) ├─┤M├────────────────╫─\n",
      "«       ║  ├───┤ └────┬─┬─────┘ └╥┘                ║ \n",
      "«qr_3: ─╫──┤ H ├──────┤M├────────╫─────────────────╫─\n",
      "«       ║  └───┘      └╥┘        ║                 ║ \n",
      "«cr_0: ═╬══════════════╬═════════╬═════════════════╩═\n",
      "«       ║              ║         ║                   \n",
      "«cr_1: ═╩══════════════╬═════════╬═══════════════════\n",
      "«                      ║         ║                   \n",
      "«cr_2: ════════════════╬═════════╩═══════════════════\n",
      "«                      ║                             \n",
      "«cr_3: ════════════════╩═════════════════════════════\n",
      "«                                                    \n",
      "circ no.  3\n",
      "          ┌───┐ ┌───┐┌───┐       ┌───┐ ┌───┐        ░   ┌───┐      ┌───┐       »\n",
      "qr_0: |0>─┤ H ├─┤ H ├┤ S ├───■───┤ X ├─┤ Y ├────────░───┤ Y ├──────┤ X ├───■───»\n",
      "          └───┘ └───┘└───┘ ┌─┴─┐ └─┬─┘┌┴───┴┐┌───┐  ░   ├───┤ ┌───┐└─┬─┘ ┌─┴─┐ »\n",
      "qr_1: |0>──────────────────┤ X ├───■──┤ Sdg ├┤ H ├──░───┤ H ├─┤ S ├──■───┤ X ├─»\n",
      "         ┌─────┐┌───┐      ├───┤ ┌───┐└┬───┬┘└─░─┘┌───┐┌┴───┴┐├───┤      ├───┤ »\n",
      "qr_2: |0>┤ Sdg ├┤ H ├──■───┤ H ├─┤ S ├─┤ Y ├───░──┤ Y ├┤ Sdg ├┤ H ├──■───┤ H ├─»\n",
      "         └┬───┬┘├───┤┌─┴─┐┌┴───┴┐├───┤ └───┘   ░  ├───┤└┬───┬┘└───┘┌─┴─┐┌┴───┴┐»\n",
      "qr_3: |0>─┤ H ├─┤ S ├┤ X ├┤ Sdg ├┤ H ├─────────░──┤ H ├─┤ S ├──────┤ X ├┤ Sdg ├»\n",
      "          └───┘ └───┘└───┘└─────┘└───┘         ░  └───┘ └───┘      └───┘└─────┘»\n",
      " cr_0: 0 ══════════════════════════════════════════════════════════════════════»\n",
      "                                                                               »\n",
      " cr_1: 0 ══════════════════════════════════════════════════════════════════════»\n",
      "                                                                               »\n",
      " cr_2: 0 ══════════════════════════════════════════════════════════════════════»\n",
      "                                                                               »\n",
      " cr_3: 0 ══════════════════════════════════════════════════════════════════════»\n",
      "                                                                               »\n",
      "«         ┌─────┐              ┌───┐     ┌───┐┌─┐\n",
      "«qr_0: ───┤ Sdg ├──────────────┤ H ├─────┤ H ├┤M├\n",
      "«      ┌──┴─────┴───┐┌─┐       └───┘     └───┘└╥┘\n",
      "«qr_1: ┤ Rx(1.5708) ├┤M├───────────────────────╫─\n",
      "«      └───┬───┬────┘└╥┘┌─┐                    ║ \n",
      "«qr_2: ────┤ S ├──────╫─┤M├────────────────────╫─\n",
      "«          ├───┤      ║ └╥┘┌────────────┐ ┌─┐  ║ \n",
      "«qr_3: ────┤ H ├──────╫──╫─┤ Rx(1.5708) ├─┤M├──╫─\n",
      "«          └───┘      ║  ║ └────────────┘ └╥┘  ║ \n",
      "«cr_0: ═══════════════╬══╬═════════════════╬═══╩═\n",
      "«                     ║  ║                 ║     \n",
      "«cr_1: ═══════════════╩══╬═════════════════╬═════\n",
      "«                        ║                 ║     \n",
      "«cr_2: ══════════════════╩═════════════════╬═════\n",
      "«                                          ║     \n",
      "«cr_3: ════════════════════════════════════╩═════\n",
      "«                                                \n",
      "circ no.  4\n",
      "          ┌───┐ ┌───┐┌───┐       ┌───┐ ┌───┐        ░   ┌───┐      ┌───┐       »\n",
      "qr_0: |0>─┤ H ├─┤ H ├┤ S ├───■───┤ X ├─┤ Y ├────────░───┤ Y ├──────┤ X ├───■───»\n",
      "          └───┘ └───┘└───┘ ┌─┴─┐ └─┬─┘┌┴───┴┐┌───┐  ░   ├───┤ ┌───┐└─┬─┘ ┌─┴─┐ »\n",
      "qr_1: |0>──────────────────┤ X ├───■──┤ Sdg ├┤ H ├──░───┤ H ├─┤ S ├──■───┤ X ├─»\n",
      "         ┌─────┐┌───┐      ├───┤ ┌───┐└┬───┬┘└─░─┘┌───┐┌┴───┴┐├───┤      ├───┤ »\n",
      "qr_2: |0>┤ Sdg ├┤ H ├──■───┤ H ├─┤ S ├─┤ Y ├───░──┤ Y ├┤ Sdg ├┤ H ├──■───┤ H ├─»\n",
      "         └┬───┬┘├───┤┌─┴─┐┌┴───┴┐├───┤ └───┘   ░  ├───┤└┬───┬┘└───┘┌─┴─┐┌┴───┴┐»\n",
      "qr_3: |0>─┤ H ├─┤ S ├┤ X ├┤ Sdg ├┤ H ├─────────░──┤ H ├─┤ S ├──────┤ X ├┤ Sdg ├»\n",
      "          └───┘ └───┘└───┘└─────┘└───┘         ░  └───┘ └───┘      └───┘└─────┘»\n",
      " cr_0: 0 ══════════════════════════════════════════════════════════════════════»\n",
      "                                                                               »\n",
      " cr_1: 0 ══════════════════════════════════════════════════════════════════════»\n",
      "                                                                               »\n",
      " cr_2: 0 ══════════════════════════════════════════════════════════════════════»\n",
      "                                                                               »\n",
      " cr_3: 0 ══════════════════════════════════════════════════════════════════════»\n",
      "                                                                               »\n",
      "«         ┌─────┐           ┌───┐           ┌───┐┌────────────┐┌─┐\n",
      "«qr_0: ───┤ Sdg ├───────────┤ H ├───────────┤ H ├┤ Rx(1.5708) ├┤M├\n",
      "«      ┌──┴─────┴───┐┌─┐    └───┘           └───┘└────────────┘└╥┘\n",
      "«qr_1: ┤ Rx(1.5708) ├┤M├────────────────────────────────────────╫─\n",
      "«      └───┬───┬────┘└╥┘┌────────────┐┌─┐                       ║ \n",
      "«qr_2: ────┤ S ├──────╫─┤ Rx(1.5708) ├┤M├───────────────────────╫─\n",
      "«          ├───┤      ║ ├────────────┤└╥┘┌─┐                    ║ \n",
      "«qr_3: ────┤ H ├──────╫─┤ Rx(1.5708) ├─╫─┤M├────────────────────╫─\n",
      "«          └───┘      ║ └────────────┘ ║ └╥┘                    ║ \n",
      "«cr_0: ═══════════════╬════════════════╬══╬═════════════════════╩═\n",
      "«                     ║                ║  ║                       \n",
      "«cr_1: ═══════════════╩════════════════╬══╬═══════════════════════\n",
      "«                                      ║  ║                       \n",
      "«cr_2: ════════════════════════════════╩══╬═══════════════════════\n",
      "«                                         ║                       \n",
      "«cr_3: ═══════════════════════════════════╩═══════════════════════\n",
      "«                                                                 \n",
      "circ no.  5\n"
     ]
    },
    {
     "name": "stdout",
     "output_type": "stream",
     "text": [
      "          ┌───┐ ┌───┐┌───┐       ┌───┐ ┌───┐        ░   ┌───┐      ┌───┐       »\n",
      "qr_0: |0>─┤ H ├─┤ H ├┤ S ├───■───┤ X ├─┤ Y ├────────░───┤ Y ├──────┤ X ├───■───»\n",
      "          └───┘ └───┘└───┘ ┌─┴─┐ └─┬─┘┌┴───┴┐┌───┐  ░   ├───┤ ┌───┐└─┬─┘ ┌─┴─┐ »\n",
      "qr_1: |0>──────────────────┤ X ├───■──┤ Sdg ├┤ H ├──░───┤ H ├─┤ S ├──■───┤ X ├─»\n",
      "         ┌─────┐┌───┐      ├───┤ ┌───┐└┬───┬┘└─░─┘┌───┐┌┴───┴┐├───┤      ├───┤ »\n",
      "qr_2: |0>┤ Sdg ├┤ H ├──■───┤ H ├─┤ S ├─┤ Y ├───░──┤ Y ├┤ Sdg ├┤ H ├──■───┤ H ├─»\n",
      "         └┬───┬┘├───┤┌─┴─┐┌┴───┴┐├───┤ └───┘   ░  ├───┤└┬───┬┘└───┘┌─┴─┐┌┴───┴┐»\n",
      "qr_3: |0>─┤ H ├─┤ S ├┤ X ├┤ Sdg ├┤ H ├─────────░──┤ H ├─┤ S ├──────┤ X ├┤ Sdg ├»\n",
      "          └───┘ └───┘└───┘└─────┘└───┘         ░  └───┘ └───┘      └───┘└─────┘»\n",
      " cr_0: 0 ══════════════════════════════════════════════════════════════════════»\n",
      "                                                                               »\n",
      " cr_1: 0 ══════════════════════════════════════════════════════════════════════»\n",
      "                                                                               »\n",
      " cr_2: 0 ══════════════════════════════════════════════════════════════════════»\n",
      "                                                                               »\n",
      " cr_3: 0 ══════════════════════════════════════════════════════════════════════»\n",
      "                                                                               »\n",
      "«         ┌─────┐           ┌───┐           ┌───┐┌────────────┐┌─┐\n",
      "«qr_0: ───┤ Sdg ├───────────┤ H ├───────────┤ H ├┤ Ry(1.5708) ├┤M├\n",
      "«      ┌──┴─────┴───┐┌─┐    └───┘           └───┘└────────────┘└╥┘\n",
      "«qr_1: ┤ Rx(1.5708) ├┤M├────────────────────────────────────────╫─\n",
      "«      └───┬───┬────┘└╥┘┌────────────┐┌─┐                       ║ \n",
      "«qr_2: ────┤ S ├──────╫─┤ Ry(1.5708) ├┤M├───────────────────────╫─\n",
      "«          ├───┤      ║ ├────────────┤└╥┘┌─┐                    ║ \n",
      "«qr_3: ────┤ H ├──────╫─┤ Rx(1.5708) ├─╫─┤M├────────────────────╫─\n",
      "«          └───┘      ║ └────────────┘ ║ └╥┘                    ║ \n",
      "«cr_0: ═══════════════╬════════════════╬══╬═════════════════════╩═\n",
      "«                     ║                ║  ║                       \n",
      "«cr_1: ═══════════════╩════════════════╬══╬═══════════════════════\n",
      "«                                      ║  ║                       \n",
      "«cr_2: ════════════════════════════════╩══╬═══════════════════════\n",
      "«                                         ║                       \n",
      "«cr_3: ═══════════════════════════════════╩═══════════════════════\n",
      "«                                                                 \n",
      "circ no.  6\n",
      "          ┌───┐ ┌───┐┌───┐       ┌───┐ ┌───┐        ░   ┌───┐      ┌───┐       »\n",
      "qr_0: |0>─┤ H ├─┤ H ├┤ S ├───■───┤ X ├─┤ Y ├────────░───┤ Y ├──────┤ X ├───■───»\n",
      "          └───┘ └───┘└───┘ ┌─┴─┐ └─┬─┘┌┴───┴┐┌───┐  ░   ├───┤ ┌───┐└─┬─┘ ┌─┴─┐ »\n",
      "qr_1: |0>──────────────────┤ X ├───■──┤ Sdg ├┤ H ├──░───┤ H ├─┤ S ├──■───┤ X ├─»\n",
      "         ┌─────┐┌───┐      ├───┤ ┌───┐└┬───┬┘└─░─┘┌───┐┌┴───┴┐├───┤      ├───┤ »\n",
      "qr_2: |0>┤ Sdg ├┤ H ├──■───┤ H ├─┤ S ├─┤ Y ├───░──┤ Y ├┤ Sdg ├┤ H ├──■───┤ H ├─»\n",
      "         └┬───┬┘├───┤┌─┴─┐┌┴───┴┐├───┤ └───┘   ░  ├───┤└┬───┬┘└───┘┌─┴─┐┌┴───┴┐»\n",
      "qr_3: |0>─┤ H ├─┤ S ├┤ X ├┤ Sdg ├┤ H ├─────────░──┤ H ├─┤ S ├──────┤ X ├┤ Sdg ├»\n",
      "          └───┘ └───┘└───┘└─────┘└───┘         ░  └───┘ └───┘      └───┘└─────┘»\n",
      " cr_0: 0 ══════════════════════════════════════════════════════════════════════»\n",
      "                                                                               »\n",
      " cr_1: 0 ══════════════════════════════════════════════════════════════════════»\n",
      "                                                                               »\n",
      " cr_2: 0 ══════════════════════════════════════════════════════════════════════»\n",
      "                                                                               »\n",
      " cr_3: 0 ══════════════════════════════════════════════════════════════════════»\n",
      "                                                                               »\n",
      "«         ┌─────┐              ┌───┐     ┌───┐┌─┐\n",
      "«qr_0: ───┤ Sdg ├──────────────┤ H ├─────┤ H ├┤M├\n",
      "«      ┌──┴─────┴───┐┌─┐       └───┘     └───┘└╥┘\n",
      "«qr_1: ┤ Ry(1.5708) ├┤M├───────────────────────╫─\n",
      "«      └───┬───┬────┘└╥┘┌─┐                    ║ \n",
      "«qr_2: ────┤ S ├──────╫─┤M├────────────────────╫─\n",
      "«          ├───┤      ║ └╥┘┌────────────┐ ┌─┐  ║ \n",
      "«qr_3: ────┤ H ├──────╫──╫─┤ Ry(1.5708) ├─┤M├──╫─\n",
      "«          └───┘      ║  ║ └────────────┘ └╥┘  ║ \n",
      "«cr_0: ═══════════════╬══╬═════════════════╬═══╩═\n",
      "«                     ║  ║                 ║     \n",
      "«cr_1: ═══════════════╩══╬═════════════════╬═════\n",
      "«                        ║                 ║     \n",
      "«cr_2: ══════════════════╩═════════════════╬═════\n",
      "«                                          ║     \n",
      "«cr_3: ════════════════════════════════════╩═════\n",
      "«                                                \n",
      "circ no.  7\n",
      "          ┌───┐ ┌───┐┌───┐       ┌───┐ ┌───┐        ░   ┌───┐      ┌───┐       »\n",
      "qr_0: |0>─┤ H ├─┤ H ├┤ S ├───■───┤ X ├─┤ Y ├────────░───┤ Y ├──────┤ X ├───■───»\n",
      "          └───┘ └───┘└───┘ ┌─┴─┐ └─┬─┘┌┴───┴┐┌───┐  ░   ├───┤ ┌───┐└─┬─┘ ┌─┴─┐ »\n",
      "qr_1: |0>──────────────────┤ X ├───■──┤ Sdg ├┤ H ├──░───┤ H ├─┤ S ├──■───┤ X ├─»\n",
      "         ┌─────┐┌───┐      ├───┤ ┌───┐└┬───┬┘└─░─┘┌───┐┌┴───┴┐├───┤      ├───┤ »\n",
      "qr_2: |0>┤ Sdg ├┤ H ├──■───┤ H ├─┤ S ├─┤ Y ├───░──┤ Y ├┤ Sdg ├┤ H ├──■───┤ H ├─»\n",
      "         └┬───┬┘├───┤┌─┴─┐┌┴───┴┐├───┤ └───┘   ░  ├───┤└┬───┬┘└───┘┌─┴─┐┌┴───┴┐»\n",
      "qr_3: |0>─┤ H ├─┤ S ├┤ X ├┤ Sdg ├┤ H ├─────────░──┤ H ├─┤ S ├──────┤ X ├┤ Sdg ├»\n",
      "          └───┘ └───┘└───┘└─────┘└───┘         ░  └───┘ └───┘      └───┘└─────┘»\n",
      " cr_0: 0 ══════════════════════════════════════════════════════════════════════»\n",
      "                                                                               »\n",
      " cr_1: 0 ══════════════════════════════════════════════════════════════════════»\n",
      "                                                                               »\n",
      " cr_2: 0 ══════════════════════════════════════════════════════════════════════»\n",
      "                                                                               »\n",
      " cr_3: 0 ══════════════════════════════════════════════════════════════════════»\n",
      "                                                                               »\n",
      "«         ┌─────┐           ┌───┐           ┌───┐┌────────────┐┌─┐\n",
      "«qr_0: ───┤ Sdg ├───────────┤ H ├───────────┤ H ├┤ Rx(1.5708) ├┤M├\n",
      "«      ┌──┴─────┴───┐┌─┐    └───┘           └───┘└────────────┘└╥┘\n",
      "«qr_1: ┤ Ry(1.5708) ├┤M├────────────────────────────────────────╫─\n",
      "«      └───┬───┬────┘└╥┘┌────────────┐┌─┐                       ║ \n",
      "«qr_2: ────┤ S ├──────╫─┤ Rx(1.5708) ├┤M├───────────────────────╫─\n",
      "«          ├───┤      ║ ├────────────┤└╥┘┌─┐                    ║ \n",
      "«qr_3: ────┤ H ├──────╫─┤ Ry(1.5708) ├─╫─┤M├────────────────────╫─\n",
      "«          └───┘      ║ └────────────┘ ║ └╥┘                    ║ \n",
      "«cr_0: ═══════════════╬════════════════╬══╬═════════════════════╩═\n",
      "«                     ║                ║  ║                       \n",
      "«cr_1: ═══════════════╩════════════════╬══╬═══════════════════════\n",
      "«                                      ║  ║                       \n",
      "«cr_2: ════════════════════════════════╩══╬═══════════════════════\n",
      "«                                         ║                       \n",
      "«cr_3: ═══════════════════════════════════╩═══════════════════════\n",
      "«                                                                 \n",
      "circ no.  8\n",
      "          ┌───┐ ┌───┐┌───┐       ┌───┐ ┌───┐        ░   ┌───┐      ┌───┐       »\n",
      "qr_0: |0>─┤ H ├─┤ H ├┤ S ├───■───┤ X ├─┤ Y ├────────░───┤ Y ├──────┤ X ├───■───»\n",
      "          └───┘ └───┘└───┘ ┌─┴─┐ └─┬─┘┌┴───┴┐┌───┐  ░   ├───┤ ┌───┐└─┬─┘ ┌─┴─┐ »\n",
      "qr_1: |0>──────────────────┤ X ├───■──┤ Sdg ├┤ H ├──░───┤ H ├─┤ S ├──■───┤ X ├─»\n",
      "         ┌─────┐┌───┐      ├───┤ ┌───┐└┬───┬┘└─░─┘┌───┐┌┴───┴┐├───┤      ├───┤ »\n",
      "qr_2: |0>┤ Sdg ├┤ H ├──■───┤ H ├─┤ S ├─┤ Y ├───░──┤ Y ├┤ Sdg ├┤ H ├──■───┤ H ├─»\n",
      "         └┬───┬┘├───┤┌─┴─┐┌┴───┴┐├───┤ └───┘   ░  ├───┤└┬───┬┘└───┘┌─┴─┐┌┴───┴┐»\n",
      "qr_3: |0>─┤ H ├─┤ S ├┤ X ├┤ Sdg ├┤ H ├─────────░──┤ H ├─┤ S ├──────┤ X ├┤ Sdg ├»\n",
      "          └───┘ └───┘└───┘└─────┘└───┘         ░  └───┘ └───┘      └───┘└─────┘»\n",
      " cr_0: 0 ══════════════════════════════════════════════════════════════════════»\n",
      "                                                                               »\n",
      " cr_1: 0 ══════════════════════════════════════════════════════════════════════»\n",
      "                                                                               »\n",
      " cr_2: 0 ══════════════════════════════════════════════════════════════════════»\n",
      "                                                                               »\n",
      " cr_3: 0 ══════════════════════════════════════════════════════════════════════»\n",
      "                                                                               »\n",
      "«         ┌─────┐           ┌───┐           ┌───┐┌────────────┐┌─┐\n",
      "«qr_0: ───┤ Sdg ├───────────┤ H ├───────────┤ H ├┤ Ry(1.5708) ├┤M├\n",
      "«      ┌──┴─────┴───┐┌─┐    └───┘           └───┘└────────────┘└╥┘\n",
      "«qr_1: ┤ Ry(1.5708) ├┤M├────────────────────────────────────────╫─\n",
      "«      └───┬───┬────┘└╥┘┌────────────┐┌─┐                       ║ \n",
      "«qr_2: ────┤ S ├──────╫─┤ Ry(1.5708) ├┤M├───────────────────────╫─\n",
      "«          ├───┤      ║ ├────────────┤└╥┘┌─┐                    ║ \n",
      "«qr_3: ────┤ H ├──────╫─┤ Ry(1.5708) ├─╫─┤M├────────────────────╫─\n",
      "«          └───┘      ║ └────────────┘ ║ └╥┘                    ║ \n",
      "«cr_0: ═══════════════╬════════════════╬══╬═════════════════════╩═\n",
      "«                     ║                ║  ║                       \n",
      "«cr_1: ═══════════════╩════════════════╬══╬═══════════════════════\n",
      "«                                      ║  ║                       \n",
      "«cr_2: ════════════════════════════════╩══╬═══════════════════════\n",
      "«                                         ║                       \n",
      "«cr_3: ═══════════════════════════════════╩═══════════════════════\n",
      "«                                                                 \n"
     ]
    }
   ],
   "source": [
    "for i in range(npurity):\n",
    "    print (\"circ no. \", i)\n",
    "    print (rb_purity_circs[0][i][0])"
   ]
  },
  {
   "cell_type": "markdown",
   "metadata": {},
   "source": [
    "## Define a non-coherent noise model\n",
    "\n",
    "We define a non-coherent noise model for the simulator. To simulate decay, we add depolarizing error probabilities to the CNOT and U gates."
   ]
  },
  {
   "cell_type": "code",
   "execution_count": 6,
   "metadata": {
    "collapsed": true
   },
   "outputs": [],
   "source": [
    "noise_model = NoiseModel()\n",
    "p2Q = 0.01\n",
    "noise_model.add_all_qubit_quantum_error(depolarizing_error(p2Q, 2), 'cx')"
   ]
  },
  {
   "cell_type": "markdown",
   "metadata": {},
   "source": [
    "We can execute the purity RB sequences either using Qiskit Aer Simulator (with some noise model) or using IBMQ provider, and obtain a list of results result_list."
   ]
  },
  {
   "cell_type": "code",
   "execution_count": 7,
   "metadata": {},
   "outputs": [
    {
     "name": "stdout",
     "output_type": "stream",
     "text": [
      "Executing seed 0 purity 0 length 10\n",
      "Executing seed 0 purity 1 length 10\n",
      "Executing seed 0 purity 2 length 10\n",
      "Executing seed 0 purity 3 length 10\n",
      "Executing seed 0 purity 4 length 10\n",
      "Executing seed 0 purity 5 length 10\n",
      "Executing seed 0 purity 6 length 10\n",
      "Executing seed 0 purity 7 length 10\n",
      "Executing seed 0 purity 8 length 10\n",
      "Executing seed 1 purity 0 length 10\n",
      "Executing seed 1 purity 1 length 10\n",
      "Executing seed 1 purity 2 length 10\n",
      "Executing seed 1 purity 3 length 10\n",
      "Executing seed 1 purity 4 length 10\n",
      "Executing seed 1 purity 5 length 10\n",
      "Executing seed 1 purity 6 length 10\n",
      "Executing seed 1 purity 7 length 10\n",
      "Executing seed 1 purity 8 length 10\n",
      "Executing seed 2 purity 0 length 10\n",
      "Executing seed 2 purity 1 length 10\n",
      "Executing seed 2 purity 2 length 10\n",
      "Executing seed 2 purity 3 length 10\n",
      "Executing seed 2 purity 4 length 10\n",
      "Executing seed 2 purity 5 length 10\n",
      "Executing seed 2 purity 6 length 10\n",
      "Executing seed 2 purity 7 length 10\n",
      "Executing seed 2 purity 8 length 10\n",
      "Finished Simulating Purity RB Circuits\n"
     ]
    }
   ],
   "source": [
    "#Execute purity RB circuits \n",
    "backend = qiskit.Aer.get_backend('qasm_simulator')\n",
    "basis_gates = ['u1','u2','u3','cx'] # use U,CX for now\n",
    "shots = 200\n",
    "purity_result_list = []\n",
    "import time\n",
    "for rb_seed in range(len(rb_purity_circs)):\n",
    "    for d in range(npurity):\n",
    "        print('Executing seed %d purity %d length %d'%(rb_seed, d, len(nCliffs)))\n",
    "        new_circ = rb_purity_circs[rb_seed][d]\n",
    "        job = qiskit.execute(new_circ, backend=backend, noise_model=noise_model, shots=shots, basis_gates=['u1','u2','u3','cx'])\n",
    "        purity_result_list.append(job.result())\n",
    "print(\"Finished Simulating Purity RB Circuits\")"
   ]
  },
  {
   "cell_type": "markdown",
   "metadata": {},
   "source": [
    "## Fit the results\n",
    "\n",
    "Calculate the *purity* $Tr(\\rho^2)$ as the sum $\\sum_k \\langle P_k \\rangle ^2/2^n$, and fit the purity result into an exponentially decaying function to obtain $\\alpha$."
   ]
  },
  {
   "cell_type": "code",
   "execution_count": 8,
   "metadata": {},
   "outputs": [],
   "source": [
    "rbfit_purity = rb.PurityRBFitter(purity_result_list, npurity, xdata, rb_opts['rb_pattern'])"
   ]
  },
  {
   "cell_type": "markdown",
   "metadata": {},
   "source": [
    "Print the fit result (seperately for each pattern)"
   ]
  },
  {
   "cell_type": "code",
   "execution_count": 9,
   "metadata": {},
   "outputs": [
    {
     "name": "stdout",
     "output_type": "stream",
     "text": [
      "fit: [{'params': array([0.75163487, 0.98554775, 0.26283338]), 'params_err': array([0.01433558, 0.00047206, 0.00073454]), 'epc': 0.021521729008479734, 'epc_err': 0.0007237241929079784, 'pepc': 0.010839189862151682, 'pepc_err': 0.0003592377185900463}, {'params': array([0.74679215, 0.9835602 , 0.26501484]), 'params_err': array([0.00880608, 0.00045893, 0.00269894]), 'epc': 0.024457001621703306, 'epc_err': 0.0007057333217703058, 'pepc': 0.012329850960659722, 'pepc_err': 0.00034995411195546327}]\n"
     ]
    }
   ],
   "source": [
    "print (\"fit:\", rbfit_purity.fit)"
   ]
  },
  {
   "cell_type": "markdown",
   "metadata": {},
   "source": [
    "## Plot the results and the fit"
   ]
  },
  {
   "cell_type": "code",
   "execution_count": 10,
   "metadata": {},
   "outputs": [
    {
     "data": {
      "image/png": "[encoded data removed]",
      "text/plain": [
       "<matplotlib.figure.Figure at 0x7fa0d68eca58>"
      ]
     },
     "metadata": {},
     "output_type": "display_data"
    }
   ],
   "source": [
    "plt.figure(figsize=(8, 6))\n",
    "ax = plt.subplot(1, 1, 1)\n",
    "\n",
    "# Plot the essence by calling plot_rb_data\n",
    "rbfit_purity.plot_rb_data(0, ax=ax, add_label=True, show_plt=False)\n",
    "    \n",
    "# Add title and label\n",
    "ax.set_title('%d Qubit Purity RB'%(nQ), fontsize=18)\n",
    "\n",
    "plt.show()"
   ]
  },
  {
   "cell_type": "markdown",
   "metadata": {},
   "source": [
    "## Standard RB results"
   ]
  },
  {
   "cell_type": "markdown",
   "metadata": {},
   "source": [
    "For comparison, we also print the standard RB fit results"
   ]
  },
  {
   "cell_type": "code",
   "execution_count": 11,
   "metadata": {},
   "outputs": [],
   "source": [
    "standard_result_list = []\n",
    "count = 0\n",
    "for rb_seed in range(len(rb_purity_circs)):\n",
    "    for d in range(npurity):\n",
    "        if d==0:\n",
    "            standard_result_list.append(purity_result_list[count])\n",
    "        count += 1"
   ]
  },
  {
   "cell_type": "code",
   "execution_count": 12,
   "metadata": {},
   "outputs": [],
   "source": [
    "rbfit_standard = rb.RBFitter(standard_result_list, xdata, rb_opts['rb_pattern'])"
   ]
  },
  {
   "cell_type": "code",
   "execution_count": 13,
   "metadata": {},
   "outputs": [
    {
     "name": "stdout",
     "output_type": "stream",
     "text": [
      "[{'params': array([0.76355717, 0.98581042, 0.23369482]), 'params_err': array([0.01063052, 0.00059587, 0.01176143]), 'epc': 0.010642188498914434, 'epc_err': 0.00045333806943769216}, {'params': array([0.78257633, 0.98574059, 0.21856392]), 'params_err': array([0.00468259, 0.00040281, 0.00484034]), 'epc': 0.010694560974121053, 'epc_err': 0.00030647543191107896}]\n"
     ]
    }
   ],
   "source": [
    "print (rbfit_standard.fit)"
   ]
  },
  {
   "cell_type": "code",
   "execution_count": 14,
   "metadata": {},
   "outputs": [
    {
     "data": {
      "image/png": "[encoded data removed]",
      "text/plain": [
       "<matplotlib.figure.Figure at 0x7fa0f9725898>"
      ]
     },
     "metadata": {},
     "output_type": "display_data"
    }
   ],
   "source": [
    "plt.figure(figsize=(8, 6))\n",
    "ax = plt.subplot(1, 1, 1)\n",
    "\n",
    "# Plot the essence by calling plot_rb_data\n",
    "rbfit_standard.plot_rb_data(0, ax=ax, add_label=True, show_plt=False)\n",
    "    \n",
    "# Add title and label\n",
    "ax.set_title('%d Qubit Standard RB'%(nQ), fontsize=18)\n",
    "\n",
    "plt.show()"
   ]
  },
  {
   "cell_type": "markdown",
   "metadata": {},
   "source": [
    "## Define a coherent noise model\n",
    "\n",
    "We define a coherent noise model for the simulator. "
   ]
  },
  {
   "cell_type": "code",
   "execution_count": 15,
   "metadata": {},
   "outputs": [],
   "source": [
    "err_unitary = np.zeros([2, 2], dtype=complex)\n",
    "angle_err = 0.1\n",
    "for i in range(2):\n",
    "    err_unitary[i, i] = np.cos(angle_err)\n",
    "    err_unitary[i, (i+1) % 2] = np.sin(angle_err)\n",
    "err_unitary[0, 1] *= -1.0\n",
    "\n",
    "error = coherent_unitary_error(err_unitary)\n",
    "noise_model = NoiseModel()\n",
    "noise_model.add_all_qubit_quantum_error(error, 'u3')"
   ]
  },
  {
   "cell_type": "code",
   "execution_count": 16,
   "metadata": {},
   "outputs": [
    {
     "name": "stdout",
     "output_type": "stream",
     "text": [
      "Executing seed 0 purity 0 length 10\n",
      "Executing seed 0 purity 1 length 10\n",
      "Executing seed 0 purity 2 length 10\n",
      "Executing seed 0 purity 3 length 10\n",
      "Executing seed 0 purity 4 length 10\n",
      "Executing seed 0 purity 5 length 10\n",
      "Executing seed 0 purity 6 length 10\n",
      "Executing seed 0 purity 7 length 10\n",
      "Executing seed 0 purity 8 length 10\n",
      "Executing seed 1 purity 0 length 10\n",
      "Executing seed 1 purity 1 length 10\n",
      "Executing seed 1 purity 2 length 10\n",
      "Executing seed 1 purity 3 length 10\n",
      "Executing seed 1 purity 4 length 10\n",
      "Executing seed 1 purity 5 length 10\n",
      "Executing seed 1 purity 6 length 10\n",
      "Executing seed 1 purity 7 length 10\n",
      "Executing seed 1 purity 8 length 10\n",
      "Executing seed 2 purity 0 length 10\n",
      "Executing seed 2 purity 1 length 10\n",
      "Executing seed 2 purity 2 length 10\n",
      "Executing seed 2 purity 3 length 10\n",
      "Executing seed 2 purity 4 length 10\n",
      "Executing seed 2 purity 5 length 10\n",
      "Executing seed 2 purity 6 length 10\n",
      "Executing seed 2 purity 7 length 10\n",
      "Executing seed 2 purity 8 length 10\n",
      "Finished Simulating Purity RB Circuits\n"
     ]
    }
   ],
   "source": [
    "#Execute purity RB circuits \n",
    "backend = qiskit.Aer.get_backend('qasm_simulator')\n",
    "basis_gates = ['u1','u2','u3','cx'] # use U,CX for now\n",
    "shots = 200\n",
    "coherent_purity_result_list = []\n",
    "import time\n",
    "for rb_seed in range(len(rb_purity_circs)):\n",
    "    for d in range(npurity):\n",
    "        print('Executing seed %d purity %d length %d'%(rb_seed, d, len(nCliffs)))\n",
    "        new_circ = rb_purity_circs[rb_seed][d]\n",
    "        job = qiskit.execute(new_circ, backend=backend, shots=shots, noise_model=noise_model, basis_gates=['u1','u2','u3','cx'])\n",
    "        coherent_purity_result_list.append(job.result())\n",
    "print(\"Finished Simulating Purity RB Circuits\")"
   ]
  },
  {
   "cell_type": "code",
   "execution_count": 17,
   "metadata": {},
   "outputs": [],
   "source": [
    "rbfit_purity = rb.PurityRBFitter(coherent_purity_result_list, npurity, xdata, rb_opts['rb_pattern'])"
   ]
  },
  {
   "cell_type": "markdown",
   "metadata": {},
   "source": [
    "Print the fit result (seperately for each pattern)"
   ]
  },
  {
   "cell_type": "code",
   "execution_count": 18,
   "metadata": {},
   "outputs": [
    {
     "name": "stdout",
     "output_type": "stream",
     "text": [
      "fit: [{'params': array([ 2.        ,  0.99994085, -0.99123082]), 'params_err': array([7.02368933e+02, 2.10013074e-02, 7.02396646e+02]), 'epc': 8.872549519881034e-05, 'epc_err': 0.03150475637673385, 'pepc': 4.436405971261492e-05, 'pepc_err': 0.015751912288512707}, {'params': array([0.29481181, 1.        , 0.7239019 ]), 'params_err': array([0.00505217, 0.00035111, 0.00505217]), 'epc': 8.326672684688674e-17, 'epc_err': 0.0005266649630270721, 'pepc': 8.326672684688674e-17, 'pepc_err': 0.0002633324815135361}]\n"
     ]
    }
   ],
   "source": [
    "print (\"fit:\", rbfit_purity.fit)"
   ]
  },
  {
   "cell_type": "markdown",
   "metadata": {},
   "source": [
    "## Plot the results and the fit"
   ]
  },
  {
   "cell_type": "code",
   "execution_count": 19,
   "metadata": {},
   "outputs": [
    {
     "data": {
      "image/png": "[encoded data removed]",
      "text/plain": [
       "<matplotlib.figure.Figure at 0x7fa0dcd09e10>"
      ]
     },
     "metadata": {},
     "output_type": "display_data"
    }
   ],
   "source": [
    "plt.figure(figsize=(8, 6))\n",
    "ax = plt.subplot(1, 1, 1)\n",
    "\n",
    "# Plot the essence by calling plot_rb_data\n",
    "rbfit_purity.plot_rb_data(0, ax=ax, add_label=True, show_plt=False)\n",
    "    \n",
    "# Add title and label\n",
    "ax.set_title('%d Qubit Purity RB'%(nQ), fontsize=18)\n",
    "\n",
    "plt.show()"
   ]
  },
  {
   "cell_type": "markdown",
   "metadata": {},
   "source": [
    "## Standard RB results\n",
    "\n",
    "For comparison, we also print the standard RB fit results"
   ]
  },
  {
   "cell_type": "code",
   "execution_count": 20,
   "metadata": {
    "collapsed": true
   },
   "outputs": [],
   "source": [
    "standard_result_list = []\n",
    "count = 0\n",
    "for rb_seed in range(len(rb_purity_circs)):\n",
    "    for d in range(npurity):\n",
    "        if d==0:\n",
    "            standard_result_list.append(coherent_purity_result_list[count])\n",
    "        count += 1"
   ]
  },
  {
   "cell_type": "code",
   "execution_count": 21,
   "metadata": {},
   "outputs": [],
   "source": [
    "rbfit_standard = rb.RBFitter(standard_result_list, xdata, rb_opts['rb_pattern'])"
   ]
  },
  {
   "cell_type": "code",
   "execution_count": 22,
   "metadata": {},
   "outputs": [
    {
     "name": "stdout",
     "output_type": "stream",
     "text": [
      "[{'params': array([0.95113524, 0.9890997 , 0.01756276]), 'params_err': array([0.25826999, 0.00549458, 0.26303743]), 'epc': 0.008175221790507808, 'epc_err': 0.004166350907685159}, {'params': array([ 2.        ,  0.99661181, -1.03575205]), 'params_err': array([1.35398025, 0.00315084, 1.35692594]), 'epc': 0.0025411457608293664, 'epc_err': 0.002371164558629498}]\n"
     ]
    }
   ],
   "source": [
    "print (rbfit_standard.fit)"
   ]
  },
  {
   "cell_type": "code",
   "execution_count": 23,
   "metadata": {},
   "outputs": [
    {
     "data": {
      "image/png": "[encoded data removed]",
      "text/plain": [
       "<matplotlib.figure.Figure at 0x7fa0d78d8908>"
      ]
     },
     "metadata": {},
     "output_type": "display_data"
    }
   ],
   "source": [
    "plt.figure(figsize=(8, 6))\n",
    "ax = plt.subplot(1, 1, 1)\n",
    "\n",
    "# Plot the essence by calling plot_rb_data\n",
    "rbfit_standard.plot_rb_data(0, ax=ax, add_label=True, show_plt=False)\n",
    "    \n",
    "# Add title and label\n",
    "ax.set_title('%d Qubit Standard RB'%(nQ), fontsize=18)\n",
    "\n",
    "plt.show()"
   ]
  },
  {
   "cell_type": "code",
   "execution_count": null,
   "metadata": {
    "collapsed": true
   },
   "outputs": [],
   "source": []
  }
 ],
 "metadata": {
  "kernelspec": {
   "display_name": "Python 3",
   "language": "python",
   "name": "python3"
  },
  "language_info": {
   "codemirror_mode": {
    "name": "ipython",
    "version": 3
   },
   "file_extension": ".py",
   "mimetype": "text/x-python",
   "name": "python",
   "nbconvert_exporter": "python",
   "pygments_lexer": "ipython3",
   "version": "3.6.3"
  }
 },
 "nbformat": 4,
 "nbformat_minor": 2
}
