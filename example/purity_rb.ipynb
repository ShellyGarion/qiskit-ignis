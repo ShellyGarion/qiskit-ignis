{
 "cells": [
  {
   "cell_type": "markdown",
   "metadata": {},
   "source": [
    "<img src=\"../../images/qiskit-heading.gif\" alt=\"Note: In order for images to show up in this jupyter notebook you need to select File => Trusted Notebook\" width=\"500 px\\\" align=\"left\">"
   ]
  },
  {
   "cell_type": "markdown",
   "metadata": {},
   "source": [
    "## Purity Randomized Benchmarking\n",
    "\n",
    "\n",
    "- Last Updated: June 24, 2019\n",
    "- Requires: qiskit-terra 0.8, qiskit-ignis 0.1.1, qiskit-aer 0.2\n",
    "\n",
    "## Introduction\n",
    "\n",
    "**Purity Randomized Benchmarking** is a variant of the Randomized Benchmarking (RB) method, which quantifies how *coherent* the errors are. The protocol executes the RB sequneces containing of Clifford gates, and then calculates the *purity* $Tr(\\rho^2)$, and fits the purity result to an exponentially decaying curve.\n",
    "\n",
    "This notebook gives an example for how to use the ``ignis.verification.randomized_benchmarking`` module in order to perform purity RB."
   ]
  },
  {
   "cell_type": "code",
   "execution_count": 1,
   "metadata": {},
   "outputs": [],
   "source": [
    "#Import general libraries (needed for functions)\n",
    "import numpy as np\n",
    "import matplotlib.pyplot as plt\n",
    "from IPython import display\n",
    "\n",
    "import qiskit.ignis.verification.randomized_benchmarking as rb\n",
    "\n",
    "#Import Qiskit classes classes\n",
    "import qiskit\n",
    "from qiskit.providers.aer.noise import NoiseModel\n",
    "from qiskit.providers.aer.noise.errors.standard_errors import depolarizing_error, coherent_unitary_error\n"
   ]
  },
  {
   "cell_type": "markdown",
   "metadata": {},
   "source": [
    "## Select the Parameters of the Purity RB Run\n",
    "\n",
    "First, wee need to choose the regular RB parameters:\n",
    "\n",
    "- **nseeds**: The number of seeds. For each seed there you will get a separate list of output circuits.\n",
    "- **length_vector**: The length vector of Clifford lengths. Must be in ascending order. RB sequences of increasing length grow on top of the previous sequences.\n",
    "- **rb_pattern**: A list of the form [[i],[j],[k],...] or [[i,j],[k,l],...], etc. which will make simultaneous RB sequences. All the patterns should have the same dimetion, namely only 1-qubit sequences Qk or only 2-qubit sequences Qi,Qj, etc. The number of qubits is the sum of the entries.\n",
    "- **length_multiplier = None**: No length_multiplier for purity RB.\n",
    "- **seed_offset**: What to start the seeds at (e.g. if we want to add more seeds later).\n",
    "- **align_cliffs**: If true adds a barrier across all qubits in rb_pattern after each set of cliffords.\n",
    "\n",
    "As well as another parameter for purity RB:\n",
    "\n",
    "- **is_purity = True**\n",
    "\n",
    "In this example we have 4 qubits Q0,Q1,Q2,Q3. We are running 2Q RB (on qubits Q0,Q1 and on qubits Q2,Q3) simultaneously. "
   ]
  },
  {
   "cell_type": "code",
   "execution_count": 2,
   "metadata": {},
   "outputs": [],
   "source": [
    "# Example of 2-qubits Purity RB\n",
    "#Number of qubits\n",
    "nQ = 4\n",
    "#Number of seeds (random sequences)\n",
    "nseeds = 3\n",
    "#Number of Cliffords in the sequence (start, stop, steps)\n",
    "nCliffs = np.arange(1,20,2)\n",
    "#2Q RB on Q0,Q2 and 1Q RB on Q1\n",
    "rb_pattern = [[0,1],[2,3]]"
   ]
  },
  {
   "cell_type": "markdown",
   "metadata": {},
   "source": [
    "## Generate Interleaved RB sequences\n",
    "\n",
    "We generate purity RB sequences. We start with a small example (so it doesn't take too long to run).\n",
    "\n",
    "In order to generate the purity RB sequences **rb_purity_circs**, which is a list of lists of lists of quantum circuits, we run the function rb.randomized_benchmarking_seq.\n",
    "\n",
    "This function returns:\n",
    "\n",
    "- **rb_purity_circs**: A list of lists of lists of circuits for the purity rb sequences (separate list for each of the $3^n$ options and for each seed).\n",
    "- **xdata**: The Clifford lengths (with multiplier if applicable).\n",
    "- **rb_opts_dict**: Option dictionary back out with default options appended.\n",
    "\n",
    "As well as:\n",
    "\n",
    "- **npurity**: the number of purity rb circuits (per seed) which equals to $3^n$, where $n$ is the dimension, e.g npurity=3 for 1-qubit RB, npurity=9 for 2-qubit RB.\n",
    "\n",
    "In order to generate each of the $3^n$ circuits, we need to do (per each of the $n$ qubits) either:\n",
    "- nothing (Pauli-$Z$), or\n",
    "- $\\pi/2$-rotation around $x$ (Pauli-$X$), or\n",
    "- $\\pi/2$-rotation around $y$ (Pauli-$Y$),\n",
    "\n",
    "and then measure the result."
   ]
  },
  {
   "cell_type": "code",
   "execution_count": 3,
   "metadata": {},
   "outputs": [
    {
     "name": "stdout",
     "output_type": "stream",
     "text": [
      "9\n"
     ]
    }
   ],
   "source": [
    "rb_opts = {}\n",
    "rb_opts['length_vector'] = nCliffs\n",
    "rb_opts['nseeds'] = nseeds\n",
    "rb_opts['rb_pattern'] = rb_pattern\n",
    "rb_opts['is_purity'] = True\n",
    "rb_purity_circs, xdata, npurity = rb.randomized_benchmarking_seq(**rb_opts)\n",
    "print (npurity)"
   ]
  },
  {
   "cell_type": "markdown",
   "metadata": {},
   "source": [
    "To illustrate, we print the circuit names for purity RB."
   ]
  },
  {
   "cell_type": "code",
   "execution_count": 4,
   "metadata": {},
   "outputs": [
    {
     "name": "stdout",
     "output_type": "stream",
     "text": [
      "rb_purity_ZZ_length_0_seed_0\n",
      "rb_purity_ZZ_length_1_seed_0\n",
      "rb_purity_ZZ_length_2_seed_0\n",
      "rb_purity_ZZ_length_3_seed_0\n",
      "rb_purity_ZZ_length_4_seed_0\n",
      "rb_purity_ZZ_length_5_seed_0\n",
      "rb_purity_ZZ_length_6_seed_0\n",
      "rb_purity_ZZ_length_7_seed_0\n",
      "rb_purity_ZZ_length_8_seed_0\n",
      "rb_purity_ZZ_length_9_seed_0\n",
      "rb_purity_XZ_length_0_seed_0\n",
      "rb_purity_XZ_length_1_seed_0\n",
      "rb_purity_XZ_length_2_seed_0\n",
      "rb_purity_XZ_length_3_seed_0\n",
      "rb_purity_XZ_length_4_seed_0\n",
      "rb_purity_XZ_length_5_seed_0\n",
      "rb_purity_XZ_length_6_seed_0\n",
      "rb_purity_XZ_length_7_seed_0\n",
      "rb_purity_XZ_length_8_seed_0\n",
      "rb_purity_XZ_length_9_seed_0\n",
      "rb_purity_YZ_length_0_seed_0\n",
      "rb_purity_YZ_length_1_seed_0\n",
      "rb_purity_YZ_length_2_seed_0\n",
      "rb_purity_YZ_length_3_seed_0\n",
      "rb_purity_YZ_length_4_seed_0\n",
      "rb_purity_YZ_length_5_seed_0\n",
      "rb_purity_YZ_length_6_seed_0\n",
      "rb_purity_YZ_length_7_seed_0\n",
      "rb_purity_YZ_length_8_seed_0\n",
      "rb_purity_YZ_length_9_seed_0\n",
      "rb_purity_ZX_length_0_seed_0\n",
      "rb_purity_ZX_length_1_seed_0\n",
      "rb_purity_ZX_length_2_seed_0\n",
      "rb_purity_ZX_length_3_seed_0\n",
      "rb_purity_ZX_length_4_seed_0\n",
      "rb_purity_ZX_length_5_seed_0\n",
      "rb_purity_ZX_length_6_seed_0\n",
      "rb_purity_ZX_length_7_seed_0\n",
      "rb_purity_ZX_length_8_seed_0\n",
      "rb_purity_ZX_length_9_seed_0\n",
      "rb_purity_XX_length_0_seed_0\n",
      "rb_purity_XX_length_1_seed_0\n",
      "rb_purity_XX_length_2_seed_0\n",
      "rb_purity_XX_length_3_seed_0\n",
      "rb_purity_XX_length_4_seed_0\n",
      "rb_purity_XX_length_5_seed_0\n",
      "rb_purity_XX_length_6_seed_0\n",
      "rb_purity_XX_length_7_seed_0\n",
      "rb_purity_XX_length_8_seed_0\n",
      "rb_purity_XX_length_9_seed_0\n",
      "rb_purity_YX_length_0_seed_0\n",
      "rb_purity_YX_length_1_seed_0\n",
      "rb_purity_YX_length_2_seed_0\n",
      "rb_purity_YX_length_3_seed_0\n",
      "rb_purity_YX_length_4_seed_0\n",
      "rb_purity_YX_length_5_seed_0\n",
      "rb_purity_YX_length_6_seed_0\n",
      "rb_purity_YX_length_7_seed_0\n",
      "rb_purity_YX_length_8_seed_0\n",
      "rb_purity_YX_length_9_seed_0\n",
      "rb_purity_ZY_length_0_seed_0\n",
      "rb_purity_ZY_length_1_seed_0\n",
      "rb_purity_ZY_length_2_seed_0\n",
      "rb_purity_ZY_length_3_seed_0\n",
      "rb_purity_ZY_length_4_seed_0\n",
      "rb_purity_ZY_length_5_seed_0\n",
      "rb_purity_ZY_length_6_seed_0\n",
      "rb_purity_ZY_length_7_seed_0\n",
      "rb_purity_ZY_length_8_seed_0\n",
      "rb_purity_ZY_length_9_seed_0\n",
      "rb_purity_XY_length_0_seed_0\n",
      "rb_purity_XY_length_1_seed_0\n",
      "rb_purity_XY_length_2_seed_0\n",
      "rb_purity_XY_length_3_seed_0\n",
      "rb_purity_XY_length_4_seed_0\n",
      "rb_purity_XY_length_5_seed_0\n",
      "rb_purity_XY_length_6_seed_0\n",
      "rb_purity_XY_length_7_seed_0\n",
      "rb_purity_XY_length_8_seed_0\n",
      "rb_purity_XY_length_9_seed_0\n",
      "rb_purity_YY_length_0_seed_0\n",
      "rb_purity_YY_length_1_seed_0\n",
      "rb_purity_YY_length_2_seed_0\n",
      "rb_purity_YY_length_3_seed_0\n",
      "rb_purity_YY_length_4_seed_0\n",
      "rb_purity_YY_length_5_seed_0\n",
      "rb_purity_YY_length_6_seed_0\n",
      "rb_purity_YY_length_7_seed_0\n",
      "rb_purity_YY_length_8_seed_0\n",
      "rb_purity_YY_length_9_seed_0\n",
      "rb_purity_ZZ_length_0_seed_1\n",
      "rb_purity_ZZ_length_1_seed_1\n",
      "rb_purity_ZZ_length_2_seed_1\n",
      "rb_purity_ZZ_length_3_seed_1\n",
      "rb_purity_ZZ_length_4_seed_1\n",
      "rb_purity_ZZ_length_5_seed_1\n",
      "rb_purity_ZZ_length_6_seed_1\n",
      "rb_purity_ZZ_length_7_seed_1\n",
      "rb_purity_ZZ_length_8_seed_1\n",
      "rb_purity_ZZ_length_9_seed_1\n",
      "rb_purity_XZ_length_0_seed_1\n",
      "rb_purity_XZ_length_1_seed_1\n",
      "rb_purity_XZ_length_2_seed_1\n",
      "rb_purity_XZ_length_3_seed_1\n",
      "rb_purity_XZ_length_4_seed_1\n",
      "rb_purity_XZ_length_5_seed_1\n",
      "rb_purity_XZ_length_6_seed_1\n",
      "rb_purity_XZ_length_7_seed_1\n",
      "rb_purity_XZ_length_8_seed_1\n",
      "rb_purity_XZ_length_9_seed_1\n",
      "rb_purity_YZ_length_0_seed_1\n",
      "rb_purity_YZ_length_1_seed_1\n",
      "rb_purity_YZ_length_2_seed_1\n",
      "rb_purity_YZ_length_3_seed_1\n",
      "rb_purity_YZ_length_4_seed_1\n",
      "rb_purity_YZ_length_5_seed_1\n",
      "rb_purity_YZ_length_6_seed_1\n",
      "rb_purity_YZ_length_7_seed_1\n",
      "rb_purity_YZ_length_8_seed_1\n",
      "rb_purity_YZ_length_9_seed_1\n",
      "rb_purity_ZX_length_0_seed_1\n",
      "rb_purity_ZX_length_1_seed_1\n",
      "rb_purity_ZX_length_2_seed_1\n",
      "rb_purity_ZX_length_3_seed_1\n",
      "rb_purity_ZX_length_4_seed_1\n",
      "rb_purity_ZX_length_5_seed_1\n",
      "rb_purity_ZX_length_6_seed_1\n",
      "rb_purity_ZX_length_7_seed_1\n",
      "rb_purity_ZX_length_8_seed_1\n",
      "rb_purity_ZX_length_9_seed_1\n",
      "rb_purity_XX_length_0_seed_1\n",
      "rb_purity_XX_length_1_seed_1\n",
      "rb_purity_XX_length_2_seed_1\n",
      "rb_purity_XX_length_3_seed_1\n",
      "rb_purity_XX_length_4_seed_1\n",
      "rb_purity_XX_length_5_seed_1\n",
      "rb_purity_XX_length_6_seed_1\n",
      "rb_purity_XX_length_7_seed_1\n",
      "rb_purity_XX_length_8_seed_1\n",
      "rb_purity_XX_length_9_seed_1\n",
      "rb_purity_YX_length_0_seed_1\n",
      "rb_purity_YX_length_1_seed_1\n",
      "rb_purity_YX_length_2_seed_1\n",
      "rb_purity_YX_length_3_seed_1\n",
      "rb_purity_YX_length_4_seed_1\n",
      "rb_purity_YX_length_5_seed_1\n",
      "rb_purity_YX_length_6_seed_1\n",
      "rb_purity_YX_length_7_seed_1\n",
      "rb_purity_YX_length_8_seed_1\n",
      "rb_purity_YX_length_9_seed_1\n",
      "rb_purity_ZY_length_0_seed_1\n",
      "rb_purity_ZY_length_1_seed_1\n",
      "rb_purity_ZY_length_2_seed_1\n",
      "rb_purity_ZY_length_3_seed_1\n",
      "rb_purity_ZY_length_4_seed_1\n",
      "rb_purity_ZY_length_5_seed_1\n",
      "rb_purity_ZY_length_6_seed_1\n",
      "rb_purity_ZY_length_7_seed_1\n",
      "rb_purity_ZY_length_8_seed_1\n",
      "rb_purity_ZY_length_9_seed_1\n",
      "rb_purity_XY_length_0_seed_1\n",
      "rb_purity_XY_length_1_seed_1\n",
      "rb_purity_XY_length_2_seed_1\n",
      "rb_purity_XY_length_3_seed_1\n",
      "rb_purity_XY_length_4_seed_1\n",
      "rb_purity_XY_length_5_seed_1\n",
      "rb_purity_XY_length_6_seed_1\n",
      "rb_purity_XY_length_7_seed_1\n",
      "rb_purity_XY_length_8_seed_1\n",
      "rb_purity_XY_length_9_seed_1\n",
      "rb_purity_YY_length_0_seed_1\n",
      "rb_purity_YY_length_1_seed_1\n",
      "rb_purity_YY_length_2_seed_1\n",
      "rb_purity_YY_length_3_seed_1\n",
      "rb_purity_YY_length_4_seed_1\n",
      "rb_purity_YY_length_5_seed_1\n",
      "rb_purity_YY_length_6_seed_1\n",
      "rb_purity_YY_length_7_seed_1\n",
      "rb_purity_YY_length_8_seed_1\n",
      "rb_purity_YY_length_9_seed_1\n",
      "rb_purity_ZZ_length_0_seed_2\n",
      "rb_purity_ZZ_length_1_seed_2\n",
      "rb_purity_ZZ_length_2_seed_2\n",
      "rb_purity_ZZ_length_3_seed_2\n",
      "rb_purity_ZZ_length_4_seed_2\n",
      "rb_purity_ZZ_length_5_seed_2\n",
      "rb_purity_ZZ_length_6_seed_2\n",
      "rb_purity_ZZ_length_7_seed_2\n",
      "rb_purity_ZZ_length_8_seed_2\n",
      "rb_purity_ZZ_length_9_seed_2\n",
      "rb_purity_XZ_length_0_seed_2\n",
      "rb_purity_XZ_length_1_seed_2\n",
      "rb_purity_XZ_length_2_seed_2\n",
      "rb_purity_XZ_length_3_seed_2\n",
      "rb_purity_XZ_length_4_seed_2\n",
      "rb_purity_XZ_length_5_seed_2\n",
      "rb_purity_XZ_length_6_seed_2\n",
      "rb_purity_XZ_length_7_seed_2\n",
      "rb_purity_XZ_length_8_seed_2\n",
      "rb_purity_XZ_length_9_seed_2\n",
      "rb_purity_YZ_length_0_seed_2\n",
      "rb_purity_YZ_length_1_seed_2\n",
      "rb_purity_YZ_length_2_seed_2\n",
      "rb_purity_YZ_length_3_seed_2\n",
      "rb_purity_YZ_length_4_seed_2\n",
      "rb_purity_YZ_length_5_seed_2\n",
      "rb_purity_YZ_length_6_seed_2\n",
      "rb_purity_YZ_length_7_seed_2\n",
      "rb_purity_YZ_length_8_seed_2\n",
      "rb_purity_YZ_length_9_seed_2\n",
      "rb_purity_ZX_length_0_seed_2\n",
      "rb_purity_ZX_length_1_seed_2\n",
      "rb_purity_ZX_length_2_seed_2\n",
      "rb_purity_ZX_length_3_seed_2\n",
      "rb_purity_ZX_length_4_seed_2\n",
      "rb_purity_ZX_length_5_seed_2\n",
      "rb_purity_ZX_length_6_seed_2\n",
      "rb_purity_ZX_length_7_seed_2\n",
      "rb_purity_ZX_length_8_seed_2\n",
      "rb_purity_ZX_length_9_seed_2\n",
      "rb_purity_XX_length_0_seed_2\n",
      "rb_purity_XX_length_1_seed_2\n",
      "rb_purity_XX_length_2_seed_2\n",
      "rb_purity_XX_length_3_seed_2\n",
      "rb_purity_XX_length_4_seed_2\n",
      "rb_purity_XX_length_5_seed_2\n",
      "rb_purity_XX_length_6_seed_2\n",
      "rb_purity_XX_length_7_seed_2\n",
      "rb_purity_XX_length_8_seed_2\n",
      "rb_purity_XX_length_9_seed_2\n",
      "rb_purity_YX_length_0_seed_2\n",
      "rb_purity_YX_length_1_seed_2\n",
      "rb_purity_YX_length_2_seed_2\n",
      "rb_purity_YX_length_3_seed_2\n",
      "rb_purity_YX_length_4_seed_2\n",
      "rb_purity_YX_length_5_seed_2\n",
      "rb_purity_YX_length_6_seed_2\n",
      "rb_purity_YX_length_7_seed_2\n",
      "rb_purity_YX_length_8_seed_2\n",
      "rb_purity_YX_length_9_seed_2\n",
      "rb_purity_ZY_length_0_seed_2\n",
      "rb_purity_ZY_length_1_seed_2\n",
      "rb_purity_ZY_length_2_seed_2\n",
      "rb_purity_ZY_length_3_seed_2\n",
      "rb_purity_ZY_length_4_seed_2\n",
      "rb_purity_ZY_length_5_seed_2\n",
      "rb_purity_ZY_length_6_seed_2\n",
      "rb_purity_ZY_length_7_seed_2\n",
      "rb_purity_ZY_length_8_seed_2\n",
      "rb_purity_ZY_length_9_seed_2\n",
      "rb_purity_XY_length_0_seed_2\n",
      "rb_purity_XY_length_1_seed_2\n",
      "rb_purity_XY_length_2_seed_2\n",
      "rb_purity_XY_length_3_seed_2\n",
      "rb_purity_XY_length_4_seed_2\n",
      "rb_purity_XY_length_5_seed_2\n",
      "rb_purity_XY_length_6_seed_2\n",
      "rb_purity_XY_length_7_seed_2\n",
      "rb_purity_XY_length_8_seed_2\n",
      "rb_purity_XY_length_9_seed_2\n",
      "rb_purity_YY_length_0_seed_2\n",
      "rb_purity_YY_length_1_seed_2\n",
      "rb_purity_YY_length_2_seed_2\n",
      "rb_purity_YY_length_3_seed_2\n",
      "rb_purity_YY_length_4_seed_2\n",
      "rb_purity_YY_length_5_seed_2\n",
      "rb_purity_YY_length_6_seed_2\n",
      "rb_purity_YY_length_7_seed_2\n",
      "rb_purity_YY_length_8_seed_2\n",
      "rb_purity_YY_length_9_seed_2\n"
     ]
    }
   ],
   "source": [
    "for i in range(len(rb_purity_circs)):\n",
    "    for j in range(len(rb_purity_circs[i])):\n",
    "        for k in range(len(rb_purity_circs[i][j])):\n",
    "            print (rb_purity_circs[i][j][k].name)"
   ]
  },
  {
   "cell_type": "markdown",
   "metadata": {},
   "source": [
    "As an example, we print the circuit corresponding to the first RB sequences, for each of the $3^n$ parameters."
   ]
  },
  {
   "cell_type": "code",
   "execution_count": 5,
   "metadata": {},
   "outputs": [
    {
     "name": "stdout",
     "output_type": "stream",
     "text": [
      "circ no.  0\n",
      "         ┌───┐ ┌───┐   ░  ┌───┐┌───┐┌─┐                                      »\n",
      "qr_0: |0>┤ H ├─┤ Z ├───░──┤ Z ├┤ H ├┤M├──────────────────────────────────────»\n",
      "         ├───┤ ├───┤   ░  ├───┤├───┤└╥┘┌─┐                                   »\n",
      "qr_1: |0>┤ H ├─┤ X ├───░──┤ X ├┤ H ├─╫─┤M├───────────────────────────────────»\n",
      "         ├───┤ └───┘   ░  └───┘├───┤ ║ └╥┘┌───┐           ░ ┌───┐            »\n",
      "qr_2: |0>┤ H ├──────────────■──┤ X ├─╫──╫─┤ X ├───────────░─┤ X ├────────────»\n",
      "         ├───┤┌─────┐┌───┐┌─┴─┐└─┬─┘ ║  ║ ├───┤┌───┐┌───┐ ░ ├───┤┌─────┐┌───┐»\n",
      "qr_3: |0>┤ H ├┤ Sdg ├┤ H ├┤ X ├──■───╫──╫─┤ H ├┤ S ├┤ Y ├─░─┤ Y ├┤ Sdg ├┤ H ├»\n",
      "         └───┘└─────┘└───┘└───┘      ║  ║ └───┘└───┘└───┘ ░ └───┘└─────┘└───┘»\n",
      " cr_0: 0 ════════════════════════════╩══╬════════════════════════════════════»\n",
      "                                        ║                                    »\n",
      " cr_1: 0 ═══════════════════════════════╩════════════════════════════════════»\n",
      "                                                                             »\n",
      " cr_2: 0 ════════════════════════════════════════════════════════════════════»\n",
      "                                                                             »\n",
      " cr_3: 0 ════════════════════════════════════════════════════════════════════»\n",
      "                                                                             »\n",
      "«                                     \n",
      "«qr_0: ───────────────────────────────\n",
      "«                                     \n",
      "«qr_1: ───────────────────────────────\n",
      "«      ┌───┐     ┌───┐┌─┐             \n",
      "«qr_2: ┤ X ├──■──┤ H ├┤M├─────────────\n",
      "«      └─┬─┘┌─┴─┐├───┤└╥┘┌───┐┌───┐┌─┐\n",
      "«qr_3: ──■──┤ X ├┤ H ├─╫─┤ S ├┤ H ├┤M├\n",
      "«           └───┘└───┘ ║ └───┘└───┘└╥┘\n",
      "«cr_0: ════════════════╬════════════╬═\n",
      "«                      ║            ║ \n",
      "«cr_1: ════════════════╬════════════╬═\n",
      "«                      ║            ║ \n",
      "«cr_2: ════════════════╩════════════╬═\n",
      "«                                   ║ \n",
      "«cr_3: ═════════════════════════════╩═\n",
      "«                                     \n",
      "circ no.  1\n",
      "         ┌───┐ ┌───┐   ░  ┌───┐┌───┐   ┌────────────┐┌─┐                  »\n",
      "qr_0: |0>┤ H ├─┤ Z ├───░──┤ Z ├┤ H ├───┤ Rx(1.5708) ├┤M├──────────────────»\n",
      "         ├───┤ ├───┤   ░  ├───┤├───┤┌─┐└────────────┘└╥┘                  »\n",
      "qr_1: |0>┤ H ├─┤ X ├───░──┤ X ├┤ H ├┤M├───────────────╫───────────────────»\n",
      "         ├───┤ └───┘   ░  └───┘├───┤└╥┘    ┌───┐      ║            ░ ┌───┐»\n",
      "qr_2: |0>┤ H ├──────────────■──┤ X ├─╫─────┤ X ├──────╫────────────░─┤ X ├»\n",
      "         ├───┤┌─────┐┌───┐┌─┴─┐└─┬─┘ ║     ├───┤      ║ ┌───┐┌───┐ ░ ├───┤»\n",
      "qr_3: |0>┤ H ├┤ Sdg ├┤ H ├┤ X ├──■───╫─────┤ H ├──────╫─┤ S ├┤ Y ├─░─┤ Y ├»\n",
      "         └───┘└─────┘└───┘└───┘      ║     └───┘      ║ └───┘└───┘ ░ └───┘»\n",
      " cr_0: 0 ════════════════════════════╬════════════════╩═══════════════════»\n",
      "                                     ║                                    »\n",
      " cr_1: 0 ════════════════════════════╩════════════════════════════════════»\n",
      "                                                                          »\n",
      " cr_2: 0 ═════════════════════════════════════════════════════════════════»\n",
      "                                                                          »\n",
      " cr_3: 0 ═════════════════════════════════════════════════════════════════»\n",
      "                                                                          »\n",
      "«                                                          \n",
      "«qr_0: ────────────────────────────────────────────────────\n",
      "«                                                          \n",
      "«qr_1: ────────────────────────────────────────────────────\n",
      "«                  ┌───┐     ┌───┐┌────────────┐┌─┐        \n",
      "«qr_2: ────────────┤ X ├──■──┤ H ├┤ Rx(1.5708) ├┤M├────────\n",
      "«      ┌─────┐┌───┐└─┬─┘┌─┴─┐├───┤└───┬───┬────┘└╥┘┌───┐┌─┐\n",
      "«qr_3: ┤ Sdg ├┤ H ├──■──┤ X ├┤ H ├────┤ S ├──────╫─┤ H ├┤M├\n",
      "«      └─────┘└───┘     └───┘└───┘    └───┘      ║ └───┘└╥┘\n",
      "«cr_0: ══════════════════════════════════════════╬═══════╬═\n",
      "«                                                ║       ║ \n",
      "«cr_1: ══════════════════════════════════════════╬═══════╬═\n",
      "«                                                ║       ║ \n",
      "«cr_2: ══════════════════════════════════════════╩═══════╬═\n",
      "«                                                        ║ \n",
      "«cr_3: ══════════════════════════════════════════════════╩═\n",
      "«                                                          \n",
      "circ no.  2\n",
      "         ┌───┐ ┌───┐   ░  ┌───┐┌───┐   ┌────────────┐┌─┐                  »\n",
      "qr_0: |0>┤ H ├─┤ Z ├───░──┤ Z ├┤ H ├───┤ Ry(1.5708) ├┤M├──────────────────»\n",
      "         ├───┤ ├───┤   ░  ├───┤├───┤┌─┐└────────────┘└╥┘                  »\n",
      "qr_1: |0>┤ H ├─┤ X ├───░──┤ X ├┤ H ├┤M├───────────────╫───────────────────»\n",
      "         ├───┤ └───┘   ░  └───┘├───┤└╥┘    ┌───┐      ║            ░ ┌───┐»\n",
      "qr_2: |0>┤ H ├──────────────■──┤ X ├─╫─────┤ X ├──────╫────────────░─┤ X ├»\n",
      "         ├───┤┌─────┐┌───┐┌─┴─┐└─┬─┘ ║     ├───┤      ║ ┌───┐┌───┐ ░ ├───┤»\n",
      "qr_3: |0>┤ H ├┤ Sdg ├┤ H ├┤ X ├──■───╫─────┤ H ├──────╫─┤ S ├┤ Y ├─░─┤ Y ├»\n",
      "         └───┘└─────┘└───┘└───┘      ║     └───┘      ║ └───┘└───┘ ░ └───┘»\n",
      " cr_0: 0 ════════════════════════════╬════════════════╩═══════════════════»\n",
      "                                     ║                                    »\n",
      " cr_1: 0 ════════════════════════════╩════════════════════════════════════»\n",
      "                                                                          »\n",
      " cr_2: 0 ═════════════════════════════════════════════════════════════════»\n",
      "                                                                          »\n",
      " cr_3: 0 ═════════════════════════════════════════════════════════════════»\n",
      "                                                                          »\n",
      "«                                                          \n",
      "«qr_0: ────────────────────────────────────────────────────\n",
      "«                                                          \n",
      "«qr_1: ────────────────────────────────────────────────────\n",
      "«                  ┌───┐     ┌───┐┌────────────┐┌─┐        \n",
      "«qr_2: ────────────┤ X ├──■──┤ H ├┤ Ry(1.5708) ├┤M├────────\n",
      "«      ┌─────┐┌───┐└─┬─┘┌─┴─┐├───┤└───┬───┬────┘└╥┘┌───┐┌─┐\n",
      "«qr_3: ┤ Sdg ├┤ H ├──■──┤ X ├┤ H ├────┤ S ├──────╫─┤ H ├┤M├\n",
      "«      └─────┘└───┘     └───┘└───┘    └───┘      ║ └───┘└╥┘\n",
      "«cr_0: ══════════════════════════════════════════╬═══════╬═\n",
      "«                                                ║       ║ \n",
      "«cr_1: ══════════════════════════════════════════╬═══════╬═\n",
      "«                                                ║       ║ \n",
      "«cr_2: ══════════════════════════════════════════╩═══════╬═\n",
      "«                                                        ║ \n",
      "«cr_3: ══════════════════════════════════════════════════╩═\n",
      "«                                                          \n",
      "circ no.  3\n",
      "         ┌───┐ ┌───┐   ░  ┌───┐┌───┐┌─┐                                   »\n",
      "qr_0: |0>┤ H ├─┤ Z ├───░──┤ Z ├┤ H ├┤M├───────────────────────────────────»\n",
      "         ├───┤ ├───┤   ░  ├───┤├───┤└╥┘┌────────────┐┌─┐                  »\n",
      "qr_1: |0>┤ H ├─┤ X ├───░──┤ X ├┤ H ├─╫─┤ Rx(1.5708) ├┤M├──────────────────»\n",
      "         ├───┤ └───┘   ░  └───┘├───┤ ║ └───┬───┬────┘└╥┘           ░ ┌───┐»\n",
      "qr_2: |0>┤ H ├──────────────■──┤ X ├─╫─────┤ X ├──────╫────────────░─┤ X ├»\n",
      "         ├───┤┌─────┐┌───┐┌─┴─┐└─┬─┘ ║     ├───┤      ║ ┌───┐┌───┐ ░ ├───┤»\n",
      "qr_3: |0>┤ H ├┤ Sdg ├┤ H ├┤ X ├──■───╫─────┤ H ├──────╫─┤ S ├┤ Y ├─░─┤ Y ├»\n",
      "         └───┘└─────┘└───┘└───┘      ║     └───┘      ║ └───┘└───┘ ░ └───┘»\n",
      " cr_0: 0 ════════════════════════════╩════════════════╬═══════════════════»\n",
      "                                                      ║                   »\n",
      " cr_1: 0 ═════════════════════════════════════════════╩═══════════════════»\n",
      "                                                                          »\n",
      " cr_2: 0 ═════════════════════════════════════════════════════════════════»\n",
      "                                                                          »\n",
      " cr_3: 0 ═════════════════════════════════════════════════════════════════»\n",
      "                                                                          »\n",
      "«                                                               \n",
      "«qr_0: ─────────────────────────────────────────────────────────\n",
      "«                                                               \n",
      "«qr_1: ─────────────────────────────────────────────────────────\n",
      "«                  ┌───┐     ┌───┐┌─┐                           \n",
      "«qr_2: ────────────┤ X ├──■──┤ H ├┤M├───────────────────────────\n",
      "«      ┌─────┐┌───┐└─┬─┘┌─┴─┐├───┤└╥┘┌───┐┌───┐┌────────────┐┌─┐\n",
      "«qr_3: ┤ Sdg ├┤ H ├──■──┤ X ├┤ H ├─╫─┤ S ├┤ H ├┤ Rx(1.5708) ├┤M├\n",
      "«      └─────┘└───┘     └───┘└───┘ ║ └───┘└───┘└────────────┘└╥┘\n",
      "«cr_0: ════════════════════════════╬══════════════════════════╬═\n",
      "«                                  ║                          ║ \n",
      "«cr_1: ════════════════════════════╬══════════════════════════╬═\n",
      "«                                  ║                          ║ \n",
      "«cr_2: ════════════════════════════╩══════════════════════════╬═\n",
      "«                                                             ║ \n",
      "«cr_3: ═══════════════════════════════════════════════════════╩═\n",
      "«                                                               \n",
      "circ no.  4\n",
      "         ┌───┐ ┌───┐   ░  ┌───┐┌───┐┌────────────┐┌─┐                     »\n",
      "qr_0: |0>┤ H ├─┤ Z ├───░──┤ Z ├┤ H ├┤ Rx(1.5708) ├┤M├─────────────────────»\n",
      "         ├───┤ ├───┤   ░  ├───┤├───┤├────────────┤└╥┘┌─┐                  »\n",
      "qr_1: |0>┤ H ├─┤ X ├───░──┤ X ├┤ H ├┤ Rx(1.5708) ├─╫─┤M├──────────────────»\n",
      "         ├───┤ └───┘   ░  └───┘├───┤└───┬───┬────┘ ║ └╥┘           ░ ┌───┐»\n",
      "qr_2: |0>┤ H ├──────────────■──┤ X ├────┤ X ├──────╫──╫────────────░─┤ X ├»\n",
      "         ├───┤┌─────┐┌───┐┌─┴─┐└─┬─┘    ├───┤      ║  ║ ┌───┐┌───┐ ░ ├───┤»\n",
      "qr_3: |0>┤ H ├┤ Sdg ├┤ H ├┤ X ├──■──────┤ H ├──────╫──╫─┤ S ├┤ Y ├─░─┤ Y ├»\n",
      "         └───┘└─────┘└───┘└───┘         └───┘      ║  ║ └───┘└───┘ ░ └───┘»\n",
      " cr_0: 0 ══════════════════════════════════════════╩══╬═══════════════════»\n",
      "                                                      ║                   »\n",
      " cr_1: 0 ═════════════════════════════════════════════╩═══════════════════»\n",
      "                                                                          »\n",
      " cr_2: 0 ═════════════════════════════════════════════════════════════════»\n",
      "                                                                          »\n",
      " cr_3: 0 ═════════════════════════════════════════════════════════════════»\n",
      "                                                                          »\n",
      "«                                                                        \n",
      "«qr_0: ──────────────────────────────────────────────────────────────────\n",
      "«                                                                        \n",
      "«qr_1: ──────────────────────────────────────────────────────────────────\n",
      "«                  ┌───┐     ┌───┐┌────────────┐┌─┐                      \n",
      "«qr_2: ────────────┤ X ├──■──┤ H ├┤ Rx(1.5708) ├┤M├──────────────────────\n",
      "«      ┌─────┐┌───┐└─┬─┘┌─┴─┐├───┤└───┬───┬────┘└╥┘┌───┐┌────────────┐┌─┐\n",
      "«qr_3: ┤ Sdg ├┤ H ├──■──┤ X ├┤ H ├────┤ S ├──────╫─┤ H ├┤ Rx(1.5708) ├┤M├\n",
      "«      └─────┘└───┘     └───┘└───┘    └───┘      ║ └───┘└────────────┘└╥┘\n",
      "«cr_0: ══════════════════════════════════════════╬═════════════════════╬═\n",
      "«                                                ║                     ║ \n",
      "«cr_1: ══════════════════════════════════════════╬═════════════════════╬═\n",
      "«                                                ║                     ║ \n",
      "«cr_2: ══════════════════════════════════════════╩═════════════════════╬═\n",
      "«                                                                      ║ \n",
      "«cr_3: ════════════════════════════════════════════════════════════════╩═\n",
      "«                                                                        \n",
      "circ no.  5\n"
     ]
    },
    {
     "name": "stdout",
     "output_type": "stream",
     "text": [
      "         ┌───┐ ┌───┐   ░  ┌───┐┌───┐┌────────────┐┌─┐                     »\n",
      "qr_0: |0>┤ H ├─┤ Z ├───░──┤ Z ├┤ H ├┤ Ry(1.5708) ├┤M├─────────────────────»\n",
      "         ├───┤ ├───┤   ░  ├───┤├───┤├────────────┤└╥┘┌─┐                  »\n",
      "qr_1: |0>┤ H ├─┤ X ├───░──┤ X ├┤ H ├┤ Rx(1.5708) ├─╫─┤M├──────────────────»\n",
      "         ├───┤ └───┘   ░  └───┘├───┤└───┬───┬────┘ ║ └╥┘           ░ ┌───┐»\n",
      "qr_2: |0>┤ H ├──────────────■──┤ X ├────┤ X ├──────╫──╫────────────░─┤ X ├»\n",
      "         ├───┤┌─────┐┌───┐┌─┴─┐└─┬─┘    ├───┤      ║  ║ ┌───┐┌───┐ ░ ├───┤»\n",
      "qr_3: |0>┤ H ├┤ Sdg ├┤ H ├┤ X ├──■──────┤ H ├──────╫──╫─┤ S ├┤ Y ├─░─┤ Y ├»\n",
      "         └───┘└─────┘└───┘└───┘         └───┘      ║  ║ └───┘└───┘ ░ └───┘»\n",
      " cr_0: 0 ══════════════════════════════════════════╩══╬═══════════════════»\n",
      "                                                      ║                   »\n",
      " cr_1: 0 ═════════════════════════════════════════════╩═══════════════════»\n",
      "                                                                          »\n",
      " cr_2: 0 ═════════════════════════════════════════════════════════════════»\n",
      "                                                                          »\n",
      " cr_3: 0 ═════════════════════════════════════════════════════════════════»\n",
      "                                                                          »\n",
      "«                                                                        \n",
      "«qr_0: ──────────────────────────────────────────────────────────────────\n",
      "«                                                                        \n",
      "«qr_1: ──────────────────────────────────────────────────────────────────\n",
      "«                  ┌───┐     ┌───┐┌────────────┐┌─┐                      \n",
      "«qr_2: ────────────┤ X ├──■──┤ H ├┤ Ry(1.5708) ├┤M├──────────────────────\n",
      "«      ┌─────┐┌───┐└─┬─┘┌─┴─┐├───┤└───┬───┬────┘└╥┘┌───┐┌────────────┐┌─┐\n",
      "«qr_3: ┤ Sdg ├┤ H ├──■──┤ X ├┤ H ├────┤ S ├──────╫─┤ H ├┤ Rx(1.5708) ├┤M├\n",
      "«      └─────┘└───┘     └───┘└───┘    └───┘      ║ └───┘└────────────┘└╥┘\n",
      "«cr_0: ══════════════════════════════════════════╬═════════════════════╬═\n",
      "«                                                ║                     ║ \n",
      "«cr_1: ══════════════════════════════════════════╬═════════════════════╬═\n",
      "«                                                ║                     ║ \n",
      "«cr_2: ══════════════════════════════════════════╩═════════════════════╬═\n",
      "«                                                                      ║ \n",
      "«cr_3: ════════════════════════════════════════════════════════════════╩═\n",
      "«                                                                        \n",
      "circ no.  6\n",
      "         ┌───┐ ┌───┐   ░  ┌───┐┌───┐┌─┐                                   »\n",
      "qr_0: |0>┤ H ├─┤ Z ├───░──┤ Z ├┤ H ├┤M├───────────────────────────────────»\n",
      "         ├───┤ ├───┤   ░  ├───┤├───┤└╥┘┌────────────┐┌─┐                  »\n",
      "qr_1: |0>┤ H ├─┤ X ├───░──┤ X ├┤ H ├─╫─┤ Ry(1.5708) ├┤M├──────────────────»\n",
      "         ├───┤ └───┘   ░  └───┘├───┤ ║ └───┬───┬────┘└╥┘           ░ ┌───┐»\n",
      "qr_2: |0>┤ H ├──────────────■──┤ X ├─╫─────┤ X ├──────╫────────────░─┤ X ├»\n",
      "         ├───┤┌─────┐┌───┐┌─┴─┐└─┬─┘ ║     ├───┤      ║ ┌───┐┌───┐ ░ ├───┤»\n",
      "qr_3: |0>┤ H ├┤ Sdg ├┤ H ├┤ X ├──■───╫─────┤ H ├──────╫─┤ S ├┤ Y ├─░─┤ Y ├»\n",
      "         └───┘└─────┘└───┘└───┘      ║     └───┘      ║ └───┘└───┘ ░ └───┘»\n",
      " cr_0: 0 ════════════════════════════╩════════════════╬═══════════════════»\n",
      "                                                      ║                   »\n",
      " cr_1: 0 ═════════════════════════════════════════════╩═══════════════════»\n",
      "                                                                          »\n",
      " cr_2: 0 ═════════════════════════════════════════════════════════════════»\n",
      "                                                                          »\n",
      " cr_3: 0 ═════════════════════════════════════════════════════════════════»\n",
      "                                                                          »\n",
      "«                                                               \n",
      "«qr_0: ─────────────────────────────────────────────────────────\n",
      "«                                                               \n",
      "«qr_1: ─────────────────────────────────────────────────────────\n",
      "«                  ┌───┐     ┌───┐┌─┐                           \n",
      "«qr_2: ────────────┤ X ├──■──┤ H ├┤M├───────────────────────────\n",
      "«      ┌─────┐┌───┐└─┬─┘┌─┴─┐├───┤└╥┘┌───┐┌───┐┌────────────┐┌─┐\n",
      "«qr_3: ┤ Sdg ├┤ H ├──■──┤ X ├┤ H ├─╫─┤ S ├┤ H ├┤ Ry(1.5708) ├┤M├\n",
      "«      └─────┘└───┘     └───┘└───┘ ║ └───┘└───┘└────────────┘└╥┘\n",
      "«cr_0: ════════════════════════════╬══════════════════════════╬═\n",
      "«                                  ║                          ║ \n",
      "«cr_1: ════════════════════════════╬══════════════════════════╬═\n",
      "«                                  ║                          ║ \n",
      "«cr_2: ════════════════════════════╩══════════════════════════╬═\n",
      "«                                                             ║ \n",
      "«cr_3: ═══════════════════════════════════════════════════════╩═\n",
      "«                                                               \n",
      "circ no.  7\n",
      "         ┌───┐ ┌───┐   ░  ┌───┐┌───┐┌────────────┐┌─┐                     »\n",
      "qr_0: |0>┤ H ├─┤ Z ├───░──┤ Z ├┤ H ├┤ Rx(1.5708) ├┤M├─────────────────────»\n",
      "         ├───┤ ├───┤   ░  ├───┤├───┤├────────────┤└╥┘┌─┐                  »\n",
      "qr_1: |0>┤ H ├─┤ X ├───░──┤ X ├┤ H ├┤ Ry(1.5708) ├─╫─┤M├──────────────────»\n",
      "         ├───┤ └───┘   ░  └───┘├───┤└───┬───┬────┘ ║ └╥┘           ░ ┌───┐»\n",
      "qr_2: |0>┤ H ├──────────────■──┤ X ├────┤ X ├──────╫──╫────────────░─┤ X ├»\n",
      "         ├───┤┌─────┐┌───┐┌─┴─┐└─┬─┘    ├───┤      ║  ║ ┌───┐┌───┐ ░ ├───┤»\n",
      "qr_3: |0>┤ H ├┤ Sdg ├┤ H ├┤ X ├──■──────┤ H ├──────╫──╫─┤ S ├┤ Y ├─░─┤ Y ├»\n",
      "         └───┘└─────┘└───┘└───┘         └───┘      ║  ║ └───┘└───┘ ░ └───┘»\n",
      " cr_0: 0 ══════════════════════════════════════════╩══╬═══════════════════»\n",
      "                                                      ║                   »\n",
      " cr_1: 0 ═════════════════════════════════════════════╩═══════════════════»\n",
      "                                                                          »\n",
      " cr_2: 0 ═════════════════════════════════════════════════════════════════»\n",
      "                                                                          »\n",
      " cr_3: 0 ═════════════════════════════════════════════════════════════════»\n",
      "                                                                          »\n",
      "«                                                                        \n",
      "«qr_0: ──────────────────────────────────────────────────────────────────\n",
      "«                                                                        \n",
      "«qr_1: ──────────────────────────────────────────────────────────────────\n",
      "«                  ┌───┐     ┌───┐┌────────────┐┌─┐                      \n",
      "«qr_2: ────────────┤ X ├──■──┤ H ├┤ Rx(1.5708) ├┤M├──────────────────────\n",
      "«      ┌─────┐┌───┐└─┬─┘┌─┴─┐├───┤└───┬───┬────┘└╥┘┌───┐┌────────────┐┌─┐\n",
      "«qr_3: ┤ Sdg ├┤ H ├──■──┤ X ├┤ H ├────┤ S ├──────╫─┤ H ├┤ Ry(1.5708) ├┤M├\n",
      "«      └─────┘└───┘     └───┘└───┘    └───┘      ║ └───┘└────────────┘└╥┘\n",
      "«cr_0: ══════════════════════════════════════════╬═════════════════════╬═\n",
      "«                                                ║                     ║ \n",
      "«cr_1: ══════════════════════════════════════════╬═════════════════════╬═\n",
      "«                                                ║                     ║ \n",
      "«cr_2: ══════════════════════════════════════════╩═════════════════════╬═\n",
      "«                                                                      ║ \n",
      "«cr_3: ════════════════════════════════════════════════════════════════╩═\n",
      "«                                                                        \n",
      "circ no.  8\n",
      "         ┌───┐ ┌───┐   ░  ┌───┐┌───┐┌────────────┐┌─┐                     »\n",
      "qr_0: |0>┤ H ├─┤ Z ├───░──┤ Z ├┤ H ├┤ Ry(1.5708) ├┤M├─────────────────────»\n",
      "         ├───┤ ├───┤   ░  ├───┤├───┤├────────────┤└╥┘┌─┐                  »\n",
      "qr_1: |0>┤ H ├─┤ X ├───░──┤ X ├┤ H ├┤ Ry(1.5708) ├─╫─┤M├──────────────────»\n",
      "         ├───┤ └───┘   ░  └───┘├───┤└───┬───┬────┘ ║ └╥┘           ░ ┌───┐»\n",
      "qr_2: |0>┤ H ├──────────────■──┤ X ├────┤ X ├──────╫──╫────────────░─┤ X ├»\n",
      "         ├───┤┌─────┐┌───┐┌─┴─┐└─┬─┘    ├───┤      ║  ║ ┌───┐┌───┐ ░ ├───┤»\n",
      "qr_3: |0>┤ H ├┤ Sdg ├┤ H ├┤ X ├──■──────┤ H ├──────╫──╫─┤ S ├┤ Y ├─░─┤ Y ├»\n",
      "         └───┘└─────┘└───┘└───┘         └───┘      ║  ║ └───┘└───┘ ░ └───┘»\n",
      " cr_0: 0 ══════════════════════════════════════════╩══╬═══════════════════»\n",
      "                                                      ║                   »\n",
      " cr_1: 0 ═════════════════════════════════════════════╩═══════════════════»\n",
      "                                                                          »\n",
      " cr_2: 0 ═════════════════════════════════════════════════════════════════»\n",
      "                                                                          »\n",
      " cr_3: 0 ═════════════════════════════════════════════════════════════════»\n",
      "                                                                          »\n",
      "«                                                                        \n",
      "«qr_0: ──────────────────────────────────────────────────────────────────\n",
      "«                                                                        \n",
      "«qr_1: ──────────────────────────────────────────────────────────────────\n",
      "«                  ┌───┐     ┌───┐┌────────────┐┌─┐                      \n",
      "«qr_2: ────────────┤ X ├──■──┤ H ├┤ Ry(1.5708) ├┤M├──────────────────────\n",
      "«      ┌─────┐┌───┐└─┬─┘┌─┴─┐├───┤└───┬───┬────┘└╥┘┌───┐┌────────────┐┌─┐\n",
      "«qr_3: ┤ Sdg ├┤ H ├──■──┤ X ├┤ H ├────┤ S ├──────╫─┤ H ├┤ Ry(1.5708) ├┤M├\n",
      "«      └─────┘└───┘     └───┘└───┘    └───┘      ║ └───┘└────────────┘└╥┘\n",
      "«cr_0: ══════════════════════════════════════════╬═════════════════════╬═\n",
      "«                                                ║                     ║ \n",
      "«cr_1: ══════════════════════════════════════════╬═════════════════════╬═\n",
      "«                                                ║                     ║ \n",
      "«cr_2: ══════════════════════════════════════════╩═════════════════════╬═\n",
      "«                                                                      ║ \n",
      "«cr_3: ════════════════════════════════════════════════════════════════╩═\n",
      "«                                                                        \n"
     ]
    }
   ],
   "source": [
    "for i in range(npurity):\n",
    "    print (\"circ no. \", i)\n",
    "    print (rb_purity_circs[0][i][0])"
   ]
  },
  {
   "cell_type": "markdown",
   "metadata": {},
   "source": [
    "## Define a non-coherent noise model\n",
    "\n",
    "We define a non-coherent noise model for the simulator. To simulate decay, we add depolarizing error probabilities to the CNOT and U gates."
   ]
  },
  {
   "cell_type": "code",
   "execution_count": 6,
   "metadata": {
    "collapsed": true
   },
   "outputs": [],
   "source": [
    "noise_model = NoiseModel()\n",
    "p1Q = 0.002\n",
    "p2Q = 0.01\n",
    "noise_model.add_all_qubit_quantum_error(depolarizing_error(p1Q, 1), 'u2')\n",
    "noise_model.add_all_qubit_quantum_error(depolarizing_error(2*p1Q, 1), 'u3')\n",
    "noise_model.add_all_qubit_quantum_error(depolarizing_error(p2Q, 2), 'cx')"
   ]
  },
  {
   "cell_type": "markdown",
   "metadata": {},
   "source": [
    "We can execute the purity RB sequences either using Qiskit Aer Simulator (with some noise model) or using IBMQ provider, and obtain a list of results result_list."
   ]
  },
  {
   "cell_type": "code",
   "execution_count": 7,
   "metadata": {},
   "outputs": [
    {
     "name": "stdout",
     "output_type": "stream",
     "text": [
      "Executing seed 0 purity 0 length 10\n",
      "Executing seed 0 purity 1 length 10\n",
      "Executing seed 0 purity 2 length 10\n",
      "Executing seed 0 purity 3 length 10\n",
      "Executing seed 0 purity 4 length 10\n",
      "Executing seed 0 purity 5 length 10\n",
      "Executing seed 0 purity 6 length 10\n",
      "Executing seed 0 purity 7 length 10\n",
      "Executing seed 0 purity 8 length 10\n",
      "Executing seed 1 purity 0 length 10\n",
      "Executing seed 1 purity 1 length 10\n",
      "Executing seed 1 purity 2 length 10\n",
      "Executing seed 1 purity 3 length 10\n",
      "Executing seed 1 purity 4 length 10\n",
      "Executing seed 1 purity 5 length 10\n",
      "Executing seed 1 purity 6 length 10\n",
      "Executing seed 1 purity 7 length 10\n",
      "Executing seed 1 purity 8 length 10\n",
      "Executing seed 2 purity 0 length 10\n",
      "Executing seed 2 purity 1 length 10\n",
      "Executing seed 2 purity 2 length 10\n",
      "Executing seed 2 purity 3 length 10\n",
      "Executing seed 2 purity 4 length 10\n",
      "Executing seed 2 purity 5 length 10\n",
      "Executing seed 2 purity 6 length 10\n",
      "Executing seed 2 purity 7 length 10\n",
      "Executing seed 2 purity 8 length 10\n",
      "Finished Simulating Purity RB Circuits\n"
     ]
    }
   ],
   "source": [
    "#Execute purity RB circuits \n",
    "backend = qiskit.Aer.get_backend('qasm_simulator')\n",
    "basis_gates = ['u1','u2','u3','cx'] # use U,CX for now\n",
    "shots = 200\n",
    "purity_result_list = []\n",
    "import time\n",
    "for rb_seed in range(len(rb_purity_circs)):\n",
    "    for d in range(npurity):\n",
    "        print('Executing seed %d purity %d length %d'%(rb_seed, d, len(nCliffs)))\n",
    "        new_circ = rb_purity_circs[rb_seed][d]\n",
    "        job = qiskit.execute(new_circ, backend=backend, noise_model=noise_model, shots=shots, basis_gates=['u1','u2','u3','cx'])\n",
    "        purity_result_list.append(job.result())\n",
    "print(\"Finished Simulating Purity RB Circuits\")"
   ]
  },
  {
   "cell_type": "markdown",
   "metadata": {},
   "source": [
    "## Fit the results\n",
    "\n",
    "Calculate the *purity* $Tr(\\rho^2)$ as the sum $\\sum_k \\langle P_k \\rangle ^2/2^n$, and fit the purity result into an exponentially decaying function to obtain $\\alpha$."
   ]
  },
  {
   "cell_type": "code",
   "execution_count": 8,
   "metadata": {},
   "outputs": [],
   "source": [
    "rbfit_purity = rb.PurityRBFitter(purity_result_list, npurity, xdata, rb_opts['rb_pattern'])"
   ]
  },
  {
   "cell_type": "markdown",
   "metadata": {},
   "source": [
    "Print the fit result (seperately for each pattern)"
   ]
  },
  {
   "cell_type": "code",
   "execution_count": 9,
   "metadata": {},
   "outputs": [
    {
     "name": "stdout",
     "output_type": "stream",
     "text": [
      "in add_data\n",
      "in calc_data\n",
      "[[[0.9917166666666666, 0.9032833333333333, 0.8853888888888889, 0.8444333333333333, 0.7639277777777778, 0.7384444444444443, 0.6170944444444445, 0.5772555555555555, 0.6259611111111111, 0.5341722222222223], [0.9547500000000001, 0.9214611111111111, 0.8346611111111111, 0.7711277777777779, 0.7214777777777777, 0.713961111111111, 0.6173777777777778, 0.5960166666666666, 0.5436833333333334, 0.5757833333333332], [0.9484166666666667, 0.8939111111111109, 0.8279666666666665, 0.7284777777777777, 0.7358555555555556, 0.6555944444444445, 0.6450777777777777, 0.6248222222222222, 0.5713833333333335, 0.530411111111111]], [[0.9295499999999999, 0.8869666666666667, 0.8099277777777778, 0.7387777777777778, 0.7174777777777777, 0.6803722222222222, 0.6647222222222222, 0.6043944444444445, 0.5764, 0.5472222222222222], [0.947738888888889, 0.8762611111111112, 0.7736611111111111, 0.8109500000000001, 0.6942, 0.6944611111111108, 0.6112111111111111, 0.6170722222222222, 0.5947055555555556, 0.5431166666666666], [0.9649833333333332, 0.8876, 0.8675666666666667, 0.8312055555555555, 0.7273777777777776, 0.6440277777777779, 0.6676555555555554, 0.5948555555555556, 0.5589444444444445, 0.5286388888888889]]]\n",
      "in calc_statistics\n",
      "[{'mean': array([0.96496111, 0.90621852, 0.84933889, 0.7813463 , 0.74042037,\n",
      "       0.70266667, 0.62651667, 0.59936481, 0.58034259, 0.54678889]), 'std': array([0.0190949 , 0.01143714, 0.02563729, 0.04788692, 0.01762817,\n",
      "       0.03475346, 0.0131252 , 0.0195628 , 0.03418196, 0.02055959])}, {'mean': array([0.94742407, 0.88360926, 0.81705185, 0.79364444, 0.71301852,\n",
      "       0.6729537 , 0.64786296, 0.60544074, 0.57668333, 0.53965926]), 'std': array([0.01446731, 0.00520235, 0.03866633, 0.03966808, 0.01390695,\n",
      "       0.02124706, 0.02594443, 0.00910004, 0.01460079, 0.00797079])}]\n",
      "in fit_data\n",
      "[{'params': array([ 2.        ,  0.99587441, -1.00651888]), 'params_err': array([2.60924881, 0.00581212, 2.61446315]), 'epc': 0.0061756256058551895, 'epc_err': 7.223354215845482e-05, 'pepc': 0.00206421798424522, 'pepc_err': 0.0029100690534973484}, {'params': array([0.45080554, 0.97410148, 0.54885294]), 'params_err': array([0.0335366 , 0.00331184, 0.0363517 ]), 'epc': 0.03834472587855636, 'epc_err': 0.00026417949251372004, 'pepc': 0.013005806284494104, 'pepc_err': 0.0016704688364071085}]\n",
      "[{'params': array([ 2.        ,  0.99587441, -1.00651888]), 'params_err': array([2.60924881, 0.00581212, 2.61446315]), 'epc': 0.0061756256058551895, 'epc_err': 7.223354215845482e-05, 'pepc': 0.00206421798424522, 'pepc_err': 0.0029100690534973484}, {'params': array([0.45080554, 0.97410148, 0.54885294]), 'params_err': array([0.0335366 , 0.00331184, 0.0363517 ]), 'epc': 0.03834472587855636, 'epc_err': 0.00026417949251372004, 'pepc': 0.013005806284494104, 'pepc_err': 0.0016704688364071085}]\n"
     ]
    }
   ],
   "source": [
    "rbfit_purity.add_data(purity_result_list)\n",
    "print (rbfit_purity.fit)"
   ]
  },
  {
   "cell_type": "markdown",
   "metadata": {},
   "source": [
    "## Plot the results and the fit"
   ]
  },
  {
   "cell_type": "code",
   "execution_count": 10,
   "metadata": {},
   "outputs": [
    {
     "data": {
      "image/png": "[encoded data removed]",
      "text/plain": [
       "<matplotlib.figure.Figure at 0x7fbb43040c18>"
      ]
     },
     "metadata": {},
     "output_type": "display_data"
    }
   ],
   "source": [
    "plt.figure(figsize=(8, 6))\n",
    "ax = plt.subplot(1, 1, 1)\n",
    "\n",
    "# Plot the essence by calling plot_rb_data\n",
    "rbfit_purity.plot_rb_data(0, ax=ax, add_label=False, show_plt=False)\n",
    "    \n",
    "# Add title and label\n",
    "ax.set_title('%d Qubit Purity RB'%(nQ), fontsize=18)\n",
    "\n",
    "plt.show()"
   ]
  },
  {
   "cell_type": "markdown",
   "metadata": {},
   "source": [
    "For comparison, we also print the standard RB fit results"
   ]
  },
  {
   "cell_type": "code",
   "execution_count": 11,
   "metadata": {},
   "outputs": [],
   "source": [
    "standard_result_list = []\n",
    "count = 0\n",
    "for rb_seed in range(len(rb_purity_circs)):\n",
    "    for d in range(npurity):\n",
    "        if d==0:\n",
    "            standard_result_list.append(purity_result_list[count])\n",
    "        count += 1"
   ]
  },
  {
   "cell_type": "code",
   "execution_count": 12,
   "metadata": {},
   "outputs": [],
   "source": [
    "rbfit_standard = rb.RBFitter(standard_result_list, xdata, rb_opts['rb_pattern'])"
   ]
  },
  {
   "cell_type": "code",
   "execution_count": 13,
   "metadata": {},
   "outputs": [
    {
     "name": "stdout",
     "output_type": "stream",
     "text": [
      "[{'params': array([ 2.        ,  0.99176583, -1.00651888]), 'params_err': array([2.60924881, 0.01160024, 2.61446315]), 'epc': 0.0061756256058551895, 'epc_err': 7.223354215845482e-05}, {'params': array([0.45080554, 0.9488737 , 0.54885294]), 'params_err': array([0.0335366 , 0.00653735, 0.0363517 ]), 'epc': 0.03834472587855636, 'epc_err': 0.00026417949251372004}]\n"
     ]
    }
   ],
   "source": [
    "print (rbfit_standard.fit)"
   ]
  },
  {
   "cell_type": "code",
   "execution_count": 14,
   "metadata": {},
   "outputs": [
    {
     "data": {
      "image/png": "[encoded data removed]",
      "text/plain": [
       "<matplotlib.figure.Figure at 0x7fbb2356e5c0>"
      ]
     },
     "metadata": {},
     "output_type": "display_data"
    }
   ],
   "source": [
    "plt.figure(figsize=(8, 6))\n",
    "ax = plt.subplot(1, 1, 1)\n",
    "\n",
    "# Plot the essence by calling plot_rb_data\n",
    "rbfit_standard.plot_rb_data(0, ax=ax, add_label=True, show_plt=False)\n",
    "    \n",
    "# Add title and label\n",
    "ax.set_title('%d Qubit Standard RB'%(nQ), fontsize=18)\n",
    "\n",
    "plt.show()"
   ]
  },
  {
   "cell_type": "markdown",
   "metadata": {},
   "source": [
    "## Define a coherent noise model\n",
    "\n",
    "We define a coherent noise model for the simulator. "
   ]
  },
  {
   "cell_type": "code",
   "execution_count": 15,
   "metadata": {},
   "outputs": [],
   "source": [
    "err_unitary = np.zeros([2, 2], dtype=complex)\n",
    "angle_err = 0.1\n",
    "for i in range(2):\n",
    "    err_unitary[i, i] = np.cos(angle_err)\n",
    "    err_unitary[i, (i+1) % 2] = np.sin(angle_err)\n",
    "err_unitary[0, 1] *= -1.0\n",
    "\n",
    "error = coherent_unitary_error(err_unitary)\n",
    "noise_model = NoiseModel()\n",
    "noise_model.add_all_qubit_quantum_error(error, 'u3')"
   ]
  },
  {
   "cell_type": "code",
   "execution_count": 16,
   "metadata": {},
   "outputs": [
    {
     "name": "stdout",
     "output_type": "stream",
     "text": [
      "Executing seed 0 purity 0 length 10\n",
      "Executing seed 0 purity 1 length 10\n",
      "Executing seed 0 purity 2 length 10\n",
      "Executing seed 0 purity 3 length 10\n",
      "Executing seed 0 purity 4 length 10\n",
      "Executing seed 0 purity 5 length 10\n",
      "Executing seed 0 purity 6 length 10\n",
      "Executing seed 0 purity 7 length 10\n",
      "Executing seed 0 purity 8 length 10\n",
      "Executing seed 1 purity 0 length 10\n",
      "Executing seed 1 purity 1 length 10\n",
      "Executing seed 1 purity 2 length 10\n",
      "Executing seed 1 purity 3 length 10\n",
      "Executing seed 1 purity 4 length 10\n",
      "Executing seed 1 purity 5 length 10\n",
      "Executing seed 1 purity 6 length 10\n",
      "Executing seed 1 purity 7 length 10\n",
      "Executing seed 1 purity 8 length 10\n",
      "Executing seed 2 purity 0 length 10\n",
      "Executing seed 2 purity 1 length 10\n",
      "Executing seed 2 purity 2 length 10\n",
      "Executing seed 2 purity 3 length 10\n",
      "Executing seed 2 purity 4 length 10\n",
      "Executing seed 2 purity 5 length 10\n",
      "Executing seed 2 purity 6 length 10\n",
      "Executing seed 2 purity 7 length 10\n",
      "Executing seed 2 purity 8 length 10\n",
      "Finished Simulating Purity RB Circuits\n"
     ]
    }
   ],
   "source": [
    "#Execute purity RB circuits \n",
    "backend = qiskit.Aer.get_backend('qasm_simulator')\n",
    "basis_gates = ['u1','u2','u3','cx'] # use U,CX for now\n",
    "shots = 200\n",
    "coherent_purity_result_list = []\n",
    "import time\n",
    "for rb_seed in range(len(rb_purity_circs)):\n",
    "    for d in range(npurity):\n",
    "        print('Executing seed %d purity %d length %d'%(rb_seed, d, len(nCliffs)))\n",
    "        new_circ = rb_purity_circs[rb_seed][d]\n",
    "        job = qiskit.execute(new_circ, backend=backend, shots=shots, noise_model=noise_model, basis_gates=['u1','u2','u3','cx'])\n",
    "        coherent_purity_result_list.append(job.result())\n",
    "print(\"Finished Simulating Purity RB Circuits\")"
   ]
  },
  {
   "cell_type": "code",
   "execution_count": 17,
   "metadata": {},
   "outputs": [],
   "source": [
    "rbfit_purity = rb.PurityRBFitter(coherent_purity_result_list, npurity, xdata, rb_opts['rb_pattern'])"
   ]
  },
  {
   "cell_type": "markdown",
   "metadata": {},
   "source": [
    "Print the fit result (seperately for each pattern)"
   ]
  },
  {
   "cell_type": "code",
   "execution_count": 18,
   "metadata": {},
   "outputs": [
    {
     "name": "stdout",
     "output_type": "stream",
     "text": [
      "in add_data\n",
      "in calc_data\n",
      "[[[1.0527444444444445, 1.1136166666666665, 1.0051777777777775, 1.0499499999999997, 1.126372222222222, 1.2049555555555553, 1.261733333333333, 1.1101944444444443, 1.100072222222222, 1.1836888888888888], [1.0613000000000001, 1.0381166666666668, 0.9507666666666668, 0.9109555555555557, 0.9252111111111112, 0.9499499999999999, 0.9813055555555557, 0.9833944444444442, 0.9190999999999999, 1.075088888888889], [1.0966888888888888, 1.0396666666666667, 1.077888888888889, 1.0206055555555555, 1.0360777777777779, 1.0207277777777777, 1.12905, 1.052638888888889, 1.0044055555555556, 1.0257444444444441]], [[1.01995, 1.0194666666666667, 1.0480333333333332, 1.1059166666666667, 1.1274777777777778, 0.9633833333333333, 1.1847277777777778, 1.0639944444444445, 1.1019999999999996, 1.1144666666666667], [1.0788555555555557, 1.0756444444444444, 1.0208666666666666, 1.0382777777777776, 1.0269722222222222, 1.1017944444444445, 0.9800888888888889, 1.0711888888888885, 1.012788888888889, 1.0432333333333332], [1.0331111111111109, 1.06455, 1.1001277777777776, 1.0483222222222222, 1.0594999999999999, 1.0034833333333335, 0.9461222222222221, 1.0290222222222223, 0.9770444444444444, 0.9012944444444445]]]\n",
      "in calc_statistics\n",
      "[{'mean': array([1.07024444, 1.0638    , 1.01127778, 0.99383704, 1.02922037,\n",
      "       1.05854444, 1.12402963, 1.04874259, 1.00785926, 1.09484074]), 'std': array([0.01902246, 0.03523139, 0.05207637, 0.05981794, 0.08226671,\n",
      "       0.10748499, 0.11453919, 0.05183915, 0.07392195, 0.06597582])}, {'mean': array([1.04397222, 1.05322037, 1.05634259, 1.06417222, 1.07131667,\n",
      "       1.02288704, 1.03697963, 1.05473519, 1.03061111, 1.01966481]), 'std': array([0.02524466, 0.02429343, 0.03288732, 0.02980125, 0.04187336,\n",
      "       0.05814801, 0.10538997, 0.01841752, 0.05254646, 0.08860852])}]\n",
      "in fit_data\n",
      "[{'params': array([ 2.        ,  0.99799431, -1.00261939]), 'params_err': array([20.58525957,  0.02122518, 20.59044317]), 'epc': 0.003005521573832909, 'epc_err': 0.0001279703054591769, 'pepc': 0.0010031817578629865, 'pepc_err': 0.010619696544002456}, {'params': array([ 2.        ,  0.99798834, -1.0141354 ]), 'params_err': array([27.29337192,  0.02831243, 27.29975509]), 'epc': 0.003014450575831107, 'epc_err': 0.00017120921200222472, 'pepc': 0.001006166081900628, 'pepc_err': 0.014165720958506697}]\n",
      "[{'params': array([ 2.        ,  0.99799431, -1.00261939]), 'params_err': array([20.58525957,  0.02122518, 20.59044317]), 'epc': 0.003005521573832909, 'epc_err': 0.0001279703054591769, 'pepc': 0.0010031817578629865, 'pepc_err': 0.010619696544002456}, {'params': array([ 2.        ,  0.99798834, -1.0141354 ]), 'params_err': array([27.29337192,  0.02831243, 27.29975509]), 'epc': 0.003014450575831107, 'epc_err': 0.00017120921200222472, 'pepc': 0.001006166081900628, 'pepc_err': 0.014165720958506697}]\n"
     ]
    }
   ],
   "source": [
    "rbfit_purity.add_data(coherent_purity_result_list)\n",
    "print (rbfit_purity.fit)"
   ]
  },
  {
   "cell_type": "markdown",
   "metadata": {},
   "source": [
    "## Plot the results and the fit"
   ]
  },
  {
   "cell_type": "code",
   "execution_count": 19,
   "metadata": {},
   "outputs": [
    {
     "data": {
      "image/png": "[encoded data removed]",
      "text/plain": [
       "<matplotlib.figure.Figure at 0x7fbb4666d2b0>"
      ]
     },
     "metadata": {},
     "output_type": "display_data"
    }
   ],
   "source": [
    "plt.figure(figsize=(8, 6))\n",
    "ax = plt.subplot(1, 1, 1)\n",
    "\n",
    "# Plot the essence by calling plot_rb_data\n",
    "rbfit_purity.plot_rb_data(0, ax=ax, add_label=False, show_plt=False)\n",
    "    \n",
    "# Add title and label\n",
    "ax.set_title('%d Qubit Purity RB'%(nQ), fontsize=18)\n",
    "\n",
    "plt.show()"
   ]
  },
  {
   "cell_type": "markdown",
   "metadata": {},
   "source": [
    "For comparison, we also print the standard RB fit results"
   ]
  },
  {
   "cell_type": "code",
   "execution_count": 20,
   "metadata": {
    "collapsed": true
   },
   "outputs": [],
   "source": [
    "standard_result_list = []\n",
    "count = 0\n",
    "for rb_seed in range(len(rb_purity_circs)):\n",
    "    for d in range(npurity):\n",
    "        if d==0:\n",
    "            standard_result_list.append(purity_result_list[count])\n",
    "        count += 1"
   ]
  },
  {
   "cell_type": "code",
   "execution_count": 21,
   "metadata": {},
   "outputs": [],
   "source": [
    "rbfit_standard = rb.RBFitter(standard_result_list, xdata, rb_opts['rb_pattern'])"
   ]
  },
  {
   "cell_type": "code",
   "execution_count": 22,
   "metadata": {},
   "outputs": [
    {
     "name": "stdout",
     "output_type": "stream",
     "text": [
      "[{'params': array([ 2.        ,  0.99176583, -1.00651888]), 'params_err': array([2.60924881, 0.01160024, 2.61446315]), 'epc': 0.0061756256058551895, 'epc_err': 7.223354215845482e-05}, {'params': array([0.45080554, 0.9488737 , 0.54885294]), 'params_err': array([0.0335366 , 0.00653735, 0.0363517 ]), 'epc': 0.03834472587855636, 'epc_err': 0.00026417949251372004}]\n"
     ]
    }
   ],
   "source": [
    "print (rbfit_standard.fit)"
   ]
  },
  {
   "cell_type": "code",
   "execution_count": 23,
   "metadata": {},
   "outputs": [
    {
     "data": {
      "image/png": "[encoded data removed]",
      "text/plain": [
       "<matplotlib.figure.Figure at 0x7fbb43216518>"
      ]
     },
     "metadata": {},
     "output_type": "display_data"
    }
   ],
   "source": [
    "plt.figure(figsize=(8, 6))\n",
    "ax = plt.subplot(1, 1, 1)\n",
    "\n",
    "# Plot the essence by calling plot_rb_data\n",
    "rbfit_standard.plot_rb_data(0, ax=ax, add_label=True, show_plt=False)\n",
    "    \n",
    "# Add title and label\n",
    "ax.set_title('%d Qubit Standard RB'%(nQ), fontsize=18)\n",
    "\n",
    "plt.show()"
   ]
  },
  {
   "cell_type": "code",
   "execution_count": null,
   "metadata": {
    "collapsed": true
   },
   "outputs": [],
   "source": []
  }
 ],
 "metadata": {
  "kernelspec": {
   "display_name": "Python 3",
   "language": "python",
   "name": "python3"
  },
  "language_info": {
   "codemirror_mode": {
    "name": "ipython",
    "version": 3
   },
   "file_extension": ".py",
   "mimetype": "text/x-python",
   "name": "python",
   "nbconvert_exporter": "python",
   "pygments_lexer": "ipython3",
   "version": "3.6.3"
  }
 },
 "nbformat": 4,
 "nbformat_minor": 2
}
