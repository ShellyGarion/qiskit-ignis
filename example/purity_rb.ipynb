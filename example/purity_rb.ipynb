{
 "cells": [
  {
   "cell_type": "markdown",
   "metadata": {},
   "source": [
    "<img src=\"../../images/qiskit-heading.gif\" alt=\"Note: In order for images to show up in this jupyter notebook you need to select File => Trusted Notebook\" width=\"500 px\\\" align=\"left\">"
   ]
  },
  {
   "cell_type": "markdown",
   "metadata": {},
   "source": [
    "## Purity Randomized Benchmarking\n",
    "\n",
    "\n",
    "- Last Updated: June 24, 2019\n",
    "- Requires: qiskit-terra 0.8, qiskit-ignis 0.1.1, qiskit-aer 0.2\n",
    "\n",
    "## Introduction\n",
    "\n",
    "**Purity Randomized Benchmarking** is a variant of the Randomized Benchmarking (RB) method, which quantifies how *coherent* the errors are. The protocol executes the RB sequneces containing of Clifford gates, and then calculates the *purity* $Tr(\\rho^2)$, and fits the purity result to an exponentially decaying curve.\n",
    "\n",
    "This notebook gives an example for how to use the ``ignis.verification.randomized_benchmarking`` module in order to perform purity RB."
   ]
  },
  {
   "cell_type": "code",
   "execution_count": 1,
   "metadata": {},
   "outputs": [],
   "source": [
    "#Import general libraries (needed for functions)\n",
    "import numpy as np\n",
    "import matplotlib.pyplot as plt\n",
    "from IPython import display\n",
    "\n",
    "import qiskit.ignis.verification.randomized_benchmarking as rb\n",
    "\n",
    "#Import Qiskit classes classes\n",
    "import qiskit\n",
    "from qiskit.providers.aer.noise import NoiseModel\n",
    "from qiskit.providers.aer.noise.errors.standard_errors import depolarizing_error, coherent_unitary_error"
   ]
  },
  {
   "cell_type": "markdown",
   "metadata": {},
   "source": [
    "## Select the Parameters of the Purity RB Run\n",
    "\n",
    "First, wee need to choose the regular RB parameters:\n",
    "\n",
    "- **nseeds**: The number of seeds. For each seed there you will get a separate list of output circuits.\n",
    "- **length_vector**: The length vector of Clifford lengths. Must be in ascending order. RB sequences of increasing length grow on top of the previous sequences.\n",
    "- **rb_pattern**: A list of the form [[i],[j],[k],...] or [[i,j],[k,l],...], etc. which will make simultaneous RB sequences. All the patterns should have the same dimetion, namely only 1-qubit sequences Qk or only 2-qubit sequences Qi,Qj, etc. The number of qubits is the sum of the entries.\n",
    "- **length_multiplier = None**: No length_multiplier for purity RB.\n",
    "- **seed_offset**: What to start the seeds at (e.g. if we want to add more seeds later).\n",
    "- **align_cliffs**: If true adds a barrier across all qubits in rb_pattern after each set of cliffords.\n",
    "\n",
    "As well as another parameter for purity RB:\n",
    "\n",
    "- **is_purity = True**\n",
    "\n",
    "In this example we have 4 qubits Q0,Q1,Q2,Q3. We are running 2Q RB (on qubits Q0,Q1 and on qubits Q2,Q3) simultaneously. "
   ]
  },
  {
   "cell_type": "code",
   "execution_count": 2,
   "metadata": {},
   "outputs": [],
   "source": [
    "# Example of 2-qubits Purity RB\n",
    "#Number of qubits\n",
    "nQ = 4\n",
    "#Number of seeds (random sequences)\n",
    "nseeds = 3\n",
    "#Number of Cliffords in the sequence (start, stop, steps)\n",
    "nCliffs = np.arange(1,200,20)\n",
    "#2Q RB on Q0,Q2 and 1Q RB on Q1\n",
    "rb_pattern = [[0,1],[2,3]]"
   ]
  },
  {
   "cell_type": "markdown",
   "metadata": {},
   "source": [
    "## Generate Purity RB sequences\n",
    "\n",
    "We generate purity RB sequences. We start with a small example (so it doesn't take too long to run).\n",
    "\n",
    "In order to generate the purity RB sequences **rb_purity_circs**, which is a list of lists of lists of quantum circuits, we run the function rb.randomized_benchmarking_seq.\n",
    "\n",
    "This function returns:\n",
    "\n",
    "- **rb_purity_circs**: A list of lists of lists of circuits for the purity rb sequences (separate list for each of the $3^n$ options and for each seed).\n",
    "- **xdata**: The Clifford lengths (with multiplier if applicable).\n",
    "- **rb_opts_dict**: Option dictionary back out with default options appended.\n",
    "\n",
    "As well as:\n",
    "\n",
    "- **npurity**: the number of purity rb circuits (per seed) which equals to $3^n$, where $n$ is the dimension, e.g npurity=3 for 1-qubit RB, npurity=9 for 2-qubit RB.\n",
    "\n",
    "In order to generate each of the $3^n$ circuits, we need to do (per each of the $n$ qubits) either:\n",
    "- nothing (Pauli-$Z$), or\n",
    "- $\\pi/2$-rotation around $x$ (Pauli-$X$), or\n",
    "- $\\pi/2$-rotation around $y$ (Pauli-$Y$),\n",
    "\n",
    "and then measure the result."
   ]
  },
  {
   "cell_type": "code",
   "execution_count": 3,
   "metadata": {},
   "outputs": [
    {
     "name": "stdout",
     "output_type": "stream",
     "text": [
      "9\n"
     ]
    }
   ],
   "source": [
    "rb_opts = {}\n",
    "rb_opts['length_vector'] = nCliffs\n",
    "rb_opts['nseeds'] = nseeds\n",
    "rb_opts['rb_pattern'] = rb_pattern\n",
    "rb_opts['is_purity'] = True\n",
    "rb_purity_circs, xdata, npurity = rb.randomized_benchmarking_seq(**rb_opts)\n",
    "print (npurity)"
   ]
  },
  {
   "cell_type": "markdown",
   "metadata": {},
   "source": [
    "To illustrate, we print the circuit names for purity RB."
   ]
  },
  {
   "cell_type": "code",
   "execution_count": 4,
   "metadata": {},
   "outputs": [
    {
     "name": "stdout",
     "output_type": "stream",
     "text": [
      "rb_purity_ZZ_length_0_seed_0\n",
      "rb_purity_ZZ_length_1_seed_0\n",
      "rb_purity_ZZ_length_2_seed_0\n",
      "rb_purity_ZZ_length_3_seed_0\n",
      "rb_purity_ZZ_length_4_seed_0\n",
      "rb_purity_ZZ_length_5_seed_0\n",
      "rb_purity_ZZ_length_6_seed_0\n",
      "rb_purity_ZZ_length_7_seed_0\n",
      "rb_purity_ZZ_length_8_seed_0\n",
      "rb_purity_ZZ_length_9_seed_0\n",
      "rb_purity_XZ_length_0_seed_0\n",
      "rb_purity_XZ_length_1_seed_0\n",
      "rb_purity_XZ_length_2_seed_0\n",
      "rb_purity_XZ_length_3_seed_0\n",
      "rb_purity_XZ_length_4_seed_0\n",
      "rb_purity_XZ_length_5_seed_0\n",
      "rb_purity_XZ_length_6_seed_0\n",
      "rb_purity_XZ_length_7_seed_0\n",
      "rb_purity_XZ_length_8_seed_0\n",
      "rb_purity_XZ_length_9_seed_0\n",
      "rb_purity_YZ_length_0_seed_0\n",
      "rb_purity_YZ_length_1_seed_0\n",
      "rb_purity_YZ_length_2_seed_0\n",
      "rb_purity_YZ_length_3_seed_0\n",
      "rb_purity_YZ_length_4_seed_0\n",
      "rb_purity_YZ_length_5_seed_0\n",
      "rb_purity_YZ_length_6_seed_0\n",
      "rb_purity_YZ_length_7_seed_0\n",
      "rb_purity_YZ_length_8_seed_0\n",
      "rb_purity_YZ_length_9_seed_0\n",
      "rb_purity_ZX_length_0_seed_0\n",
      "rb_purity_ZX_length_1_seed_0\n",
      "rb_purity_ZX_length_2_seed_0\n",
      "rb_purity_ZX_length_3_seed_0\n",
      "rb_purity_ZX_length_4_seed_0\n",
      "rb_purity_ZX_length_5_seed_0\n",
      "rb_purity_ZX_length_6_seed_0\n",
      "rb_purity_ZX_length_7_seed_0\n",
      "rb_purity_ZX_length_8_seed_0\n",
      "rb_purity_ZX_length_9_seed_0\n",
      "rb_purity_XX_length_0_seed_0\n",
      "rb_purity_XX_length_1_seed_0\n",
      "rb_purity_XX_length_2_seed_0\n",
      "rb_purity_XX_length_3_seed_0\n",
      "rb_purity_XX_length_4_seed_0\n",
      "rb_purity_XX_length_5_seed_0\n",
      "rb_purity_XX_length_6_seed_0\n",
      "rb_purity_XX_length_7_seed_0\n",
      "rb_purity_XX_length_8_seed_0\n",
      "rb_purity_XX_length_9_seed_0\n",
      "rb_purity_YX_length_0_seed_0\n",
      "rb_purity_YX_length_1_seed_0\n",
      "rb_purity_YX_length_2_seed_0\n",
      "rb_purity_YX_length_3_seed_0\n",
      "rb_purity_YX_length_4_seed_0\n",
      "rb_purity_YX_length_5_seed_0\n",
      "rb_purity_YX_length_6_seed_0\n",
      "rb_purity_YX_length_7_seed_0\n",
      "rb_purity_YX_length_8_seed_0\n",
      "rb_purity_YX_length_9_seed_0\n",
      "rb_purity_ZY_length_0_seed_0\n",
      "rb_purity_ZY_length_1_seed_0\n",
      "rb_purity_ZY_length_2_seed_0\n",
      "rb_purity_ZY_length_3_seed_0\n",
      "rb_purity_ZY_length_4_seed_0\n",
      "rb_purity_ZY_length_5_seed_0\n",
      "rb_purity_ZY_length_6_seed_0\n",
      "rb_purity_ZY_length_7_seed_0\n",
      "rb_purity_ZY_length_8_seed_0\n",
      "rb_purity_ZY_length_9_seed_0\n",
      "rb_purity_XY_length_0_seed_0\n",
      "rb_purity_XY_length_1_seed_0\n",
      "rb_purity_XY_length_2_seed_0\n",
      "rb_purity_XY_length_3_seed_0\n",
      "rb_purity_XY_length_4_seed_0\n",
      "rb_purity_XY_length_5_seed_0\n",
      "rb_purity_XY_length_6_seed_0\n",
      "rb_purity_XY_length_7_seed_0\n",
      "rb_purity_XY_length_8_seed_0\n",
      "rb_purity_XY_length_9_seed_0\n",
      "rb_purity_YY_length_0_seed_0\n",
      "rb_purity_YY_length_1_seed_0\n",
      "rb_purity_YY_length_2_seed_0\n",
      "rb_purity_YY_length_3_seed_0\n",
      "rb_purity_YY_length_4_seed_0\n",
      "rb_purity_YY_length_5_seed_0\n",
      "rb_purity_YY_length_6_seed_0\n",
      "rb_purity_YY_length_7_seed_0\n",
      "rb_purity_YY_length_8_seed_0\n",
      "rb_purity_YY_length_9_seed_0\n",
      "rb_purity_ZZ_length_0_seed_1\n",
      "rb_purity_ZZ_length_1_seed_1\n",
      "rb_purity_ZZ_length_2_seed_1\n",
      "rb_purity_ZZ_length_3_seed_1\n",
      "rb_purity_ZZ_length_4_seed_1\n",
      "rb_purity_ZZ_length_5_seed_1\n",
      "rb_purity_ZZ_length_6_seed_1\n",
      "rb_purity_ZZ_length_7_seed_1\n",
      "rb_purity_ZZ_length_8_seed_1\n",
      "rb_purity_ZZ_length_9_seed_1\n",
      "rb_purity_XZ_length_0_seed_1\n",
      "rb_purity_XZ_length_1_seed_1\n",
      "rb_purity_XZ_length_2_seed_1\n",
      "rb_purity_XZ_length_3_seed_1\n",
      "rb_purity_XZ_length_4_seed_1\n",
      "rb_purity_XZ_length_5_seed_1\n",
      "rb_purity_XZ_length_6_seed_1\n",
      "rb_purity_XZ_length_7_seed_1\n",
      "rb_purity_XZ_length_8_seed_1\n",
      "rb_purity_XZ_length_9_seed_1\n",
      "rb_purity_YZ_length_0_seed_1\n",
      "rb_purity_YZ_length_1_seed_1\n",
      "rb_purity_YZ_length_2_seed_1\n",
      "rb_purity_YZ_length_3_seed_1\n",
      "rb_purity_YZ_length_4_seed_1\n",
      "rb_purity_YZ_length_5_seed_1\n",
      "rb_purity_YZ_length_6_seed_1\n",
      "rb_purity_YZ_length_7_seed_1\n",
      "rb_purity_YZ_length_8_seed_1\n",
      "rb_purity_YZ_length_9_seed_1\n",
      "rb_purity_ZX_length_0_seed_1\n",
      "rb_purity_ZX_length_1_seed_1\n",
      "rb_purity_ZX_length_2_seed_1\n",
      "rb_purity_ZX_length_3_seed_1\n",
      "rb_purity_ZX_length_4_seed_1\n",
      "rb_purity_ZX_length_5_seed_1\n",
      "rb_purity_ZX_length_6_seed_1\n",
      "rb_purity_ZX_length_7_seed_1\n",
      "rb_purity_ZX_length_8_seed_1\n",
      "rb_purity_ZX_length_9_seed_1\n",
      "rb_purity_XX_length_0_seed_1\n",
      "rb_purity_XX_length_1_seed_1\n",
      "rb_purity_XX_length_2_seed_1\n",
      "rb_purity_XX_length_3_seed_1\n",
      "rb_purity_XX_length_4_seed_1\n",
      "rb_purity_XX_length_5_seed_1\n",
      "rb_purity_XX_length_6_seed_1\n",
      "rb_purity_XX_length_7_seed_1\n",
      "rb_purity_XX_length_8_seed_1\n",
      "rb_purity_XX_length_9_seed_1\n",
      "rb_purity_YX_length_0_seed_1\n",
      "rb_purity_YX_length_1_seed_1\n",
      "rb_purity_YX_length_2_seed_1\n",
      "rb_purity_YX_length_3_seed_1\n",
      "rb_purity_YX_length_4_seed_1\n",
      "rb_purity_YX_length_5_seed_1\n",
      "rb_purity_YX_length_6_seed_1\n",
      "rb_purity_YX_length_7_seed_1\n",
      "rb_purity_YX_length_8_seed_1\n",
      "rb_purity_YX_length_9_seed_1\n",
      "rb_purity_ZY_length_0_seed_1\n",
      "rb_purity_ZY_length_1_seed_1\n",
      "rb_purity_ZY_length_2_seed_1\n",
      "rb_purity_ZY_length_3_seed_1\n",
      "rb_purity_ZY_length_4_seed_1\n",
      "rb_purity_ZY_length_5_seed_1\n",
      "rb_purity_ZY_length_6_seed_1\n",
      "rb_purity_ZY_length_7_seed_1\n",
      "rb_purity_ZY_length_8_seed_1\n",
      "rb_purity_ZY_length_9_seed_1\n",
      "rb_purity_XY_length_0_seed_1\n",
      "rb_purity_XY_length_1_seed_1\n",
      "rb_purity_XY_length_2_seed_1\n",
      "rb_purity_XY_length_3_seed_1\n",
      "rb_purity_XY_length_4_seed_1\n",
      "rb_purity_XY_length_5_seed_1\n",
      "rb_purity_XY_length_6_seed_1\n",
      "rb_purity_XY_length_7_seed_1\n",
      "rb_purity_XY_length_8_seed_1\n",
      "rb_purity_XY_length_9_seed_1\n",
      "rb_purity_YY_length_0_seed_1\n",
      "rb_purity_YY_length_1_seed_1\n",
      "rb_purity_YY_length_2_seed_1\n",
      "rb_purity_YY_length_3_seed_1\n",
      "rb_purity_YY_length_4_seed_1\n",
      "rb_purity_YY_length_5_seed_1\n",
      "rb_purity_YY_length_6_seed_1\n",
      "rb_purity_YY_length_7_seed_1\n",
      "rb_purity_YY_length_8_seed_1\n",
      "rb_purity_YY_length_9_seed_1\n",
      "rb_purity_ZZ_length_0_seed_2\n",
      "rb_purity_ZZ_length_1_seed_2\n",
      "rb_purity_ZZ_length_2_seed_2\n",
      "rb_purity_ZZ_length_3_seed_2\n",
      "rb_purity_ZZ_length_4_seed_2\n",
      "rb_purity_ZZ_length_5_seed_2\n",
      "rb_purity_ZZ_length_6_seed_2\n",
      "rb_purity_ZZ_length_7_seed_2\n",
      "rb_purity_ZZ_length_8_seed_2\n",
      "rb_purity_ZZ_length_9_seed_2\n",
      "rb_purity_XZ_length_0_seed_2\n",
      "rb_purity_XZ_length_1_seed_2\n",
      "rb_purity_XZ_length_2_seed_2\n",
      "rb_purity_XZ_length_3_seed_2\n",
      "rb_purity_XZ_length_4_seed_2\n",
      "rb_purity_XZ_length_5_seed_2\n",
      "rb_purity_XZ_length_6_seed_2\n",
      "rb_purity_XZ_length_7_seed_2\n",
      "rb_purity_XZ_length_8_seed_2\n",
      "rb_purity_XZ_length_9_seed_2\n",
      "rb_purity_YZ_length_0_seed_2\n",
      "rb_purity_YZ_length_1_seed_2\n",
      "rb_purity_YZ_length_2_seed_2\n",
      "rb_purity_YZ_length_3_seed_2\n",
      "rb_purity_YZ_length_4_seed_2\n",
      "rb_purity_YZ_length_5_seed_2\n",
      "rb_purity_YZ_length_6_seed_2\n",
      "rb_purity_YZ_length_7_seed_2\n",
      "rb_purity_YZ_length_8_seed_2\n",
      "rb_purity_YZ_length_9_seed_2\n",
      "rb_purity_ZX_length_0_seed_2\n",
      "rb_purity_ZX_length_1_seed_2\n",
      "rb_purity_ZX_length_2_seed_2\n",
      "rb_purity_ZX_length_3_seed_2\n",
      "rb_purity_ZX_length_4_seed_2\n",
      "rb_purity_ZX_length_5_seed_2\n",
      "rb_purity_ZX_length_6_seed_2\n",
      "rb_purity_ZX_length_7_seed_2\n",
      "rb_purity_ZX_length_8_seed_2\n",
      "rb_purity_ZX_length_9_seed_2\n",
      "rb_purity_XX_length_0_seed_2\n",
      "rb_purity_XX_length_1_seed_2\n",
      "rb_purity_XX_length_2_seed_2\n",
      "rb_purity_XX_length_3_seed_2\n",
      "rb_purity_XX_length_4_seed_2\n",
      "rb_purity_XX_length_5_seed_2\n",
      "rb_purity_XX_length_6_seed_2\n",
      "rb_purity_XX_length_7_seed_2\n",
      "rb_purity_XX_length_8_seed_2\n",
      "rb_purity_XX_length_9_seed_2\n",
      "rb_purity_YX_length_0_seed_2\n",
      "rb_purity_YX_length_1_seed_2\n",
      "rb_purity_YX_length_2_seed_2\n",
      "rb_purity_YX_length_3_seed_2\n",
      "rb_purity_YX_length_4_seed_2\n",
      "rb_purity_YX_length_5_seed_2\n",
      "rb_purity_YX_length_6_seed_2\n",
      "rb_purity_YX_length_7_seed_2\n",
      "rb_purity_YX_length_8_seed_2\n",
      "rb_purity_YX_length_9_seed_2\n",
      "rb_purity_ZY_length_0_seed_2\n",
      "rb_purity_ZY_length_1_seed_2\n",
      "rb_purity_ZY_length_2_seed_2\n",
      "rb_purity_ZY_length_3_seed_2\n",
      "rb_purity_ZY_length_4_seed_2\n",
      "rb_purity_ZY_length_5_seed_2\n",
      "rb_purity_ZY_length_6_seed_2\n",
      "rb_purity_ZY_length_7_seed_2\n",
      "rb_purity_ZY_length_8_seed_2\n",
      "rb_purity_ZY_length_9_seed_2\n",
      "rb_purity_XY_length_0_seed_2\n",
      "rb_purity_XY_length_1_seed_2\n",
      "rb_purity_XY_length_2_seed_2\n",
      "rb_purity_XY_length_3_seed_2\n",
      "rb_purity_XY_length_4_seed_2\n",
      "rb_purity_XY_length_5_seed_2\n",
      "rb_purity_XY_length_6_seed_2\n",
      "rb_purity_XY_length_7_seed_2\n",
      "rb_purity_XY_length_8_seed_2\n",
      "rb_purity_XY_length_9_seed_2\n",
      "rb_purity_YY_length_0_seed_2\n",
      "rb_purity_YY_length_1_seed_2\n",
      "rb_purity_YY_length_2_seed_2\n",
      "rb_purity_YY_length_3_seed_2\n",
      "rb_purity_YY_length_4_seed_2\n",
      "rb_purity_YY_length_5_seed_2\n",
      "rb_purity_YY_length_6_seed_2\n",
      "rb_purity_YY_length_7_seed_2\n",
      "rb_purity_YY_length_8_seed_2\n",
      "rb_purity_YY_length_9_seed_2\n"
     ]
    }
   ],
   "source": [
    "for i in range(len(rb_purity_circs)):\n",
    "    for j in range(len(rb_purity_circs[i])):\n",
    "        for k in range(len(rb_purity_circs[i][j])):\n",
    "            print (rb_purity_circs[i][j][k].name)"
   ]
  },
  {
   "cell_type": "markdown",
   "metadata": {},
   "source": [
    "As an example, we print the circuit corresponding to the first RB sequences, for each of the $3^n$ parameters."
   ]
  },
  {
   "cell_type": "code",
   "execution_count": 5,
   "metadata": {},
   "outputs": [
    {
     "name": "stdout",
     "output_type": "stream",
     "text": [
      "circ no.  0\n",
      "         ┌─────┐┌───┐        ░    ┌───┐ ┌───┐   ┌─┐                         »\n",
      "qr_0: |0>┤ Sdg ├┤ H ├────────░────┤ H ├─┤ S ├───┤M├─────────────────────────»\n",
      "         └┬───┬┘├───┤┌───┐   ░   ┌┴───┴┐├───┤   └╥┘┌───┐┌─┐                 »\n",
      "qr_1: |0>─┤ H ├─┤ H ├┤ S ├───░───┤ Sdg ├┤ H ├────╫─┤ H ├┤M├─────────────────»\n",
      "          ├───┤ ├───┤└───┘ ┌───┐ └┬───┬┘├───┤ ░  ║ └───┘└╥┘┌───┐┌─────┐┌───┐»\n",
      "qr_2: |0>─┤ H ├─┤ S ├──■───┤ H ├──┤ S ├─┤ X ├─░──╫───────╫─┤ X ├┤ Sdg ├┤ H ├»\n",
      "          ├───┤ └───┘┌─┴─┐┌┴───┴┐ ├───┤ ├───┤ ░  ║       ║ ├───┤└┬───┬┘├───┤»\n",
      "qr_3: |0>─┤ H ├──────┤ X ├┤ Sdg ├─┤ H ├─┤ Z ├─░──╫───────╫─┤ Z ├─┤ H ├─┤ S ├»\n",
      "          └───┘      └───┘└─────┘ └───┘ └───┘ ░  ║       ║ └───┘ └───┘ └───┘»\n",
      " cr_0: 0 ════════════════════════════════════════╩═══════╬══════════════════»\n",
      "                                                         ║                  »\n",
      " cr_1: 0 ════════════════════════════════════════════════╩══════════════════»\n",
      "                                                                            »\n",
      " cr_2: 0 ═══════════════════════════════════════════════════════════════════»\n",
      "                                                                            »\n",
      " cr_3: 0 ═══════════════════════════════════════════════════════════════════»\n",
      "                                                                            »\n",
      "«                          \n",
      "«qr_0: ────────────────────\n",
      "«                          \n",
      "«qr_1: ────────────────────\n",
      "«           ┌─────┐┌───┐┌─┐\n",
      "«qr_2: ──■──┤ Sdg ├┤ H ├┤M├\n",
      "«      ┌─┴─┐└┬───┬┘└┬─┬┘└╥┘\n",
      "«qr_3: ┤ X ├─┤ H ├──┤M├──╫─\n",
      "«      └───┘ └───┘  └╥┘  ║ \n",
      "«cr_0: ══════════════╬═══╬═\n",
      "«                    ║   ║ \n",
      "«cr_1: ══════════════╬═══╬═\n",
      "«                    ║   ║ \n",
      "«cr_2: ══════════════╬═══╩═\n",
      "«                    ║     \n",
      "«cr_3: ══════════════╩═════\n",
      "«                          \n",
      "circ no.  1\n",
      "         ┌─────┐┌───┐        ░    ┌───┐ ┌───┐┌────────────┐┌─┐               »\n",
      "qr_0: |0>┤ Sdg ├┤ H ├────────░────┤ H ├─┤ S ├┤ Rx(1.5708) ├┤M├───────────────»\n",
      "         └┬───┬┘├───┤┌───┐   ░   ┌┴───┴┐├───┤└───┬───┬────┘└╥┘┌─┐            »\n",
      "qr_1: |0>─┤ H ├─┤ H ├┤ S ├───░───┤ Sdg ├┤ H ├────┤ H ├──────╫─┤M├────────────»\n",
      "          ├───┤ ├───┤└───┘ ┌───┐ └┬───┬┘├───┤    └─░─┘      ║ └╥┘┌───┐┌─────┐»\n",
      "qr_2: |0>─┤ H ├─┤ S ├──■───┤ H ├──┤ S ├─┤ X ├──────░────────╫──╫─┤ X ├┤ Sdg ├»\n",
      "          ├───┤ └───┘┌─┴─┐┌┴───┴┐ ├───┤ ├───┤      ░        ║  ║ ├───┤└┬───┬┘»\n",
      "qr_3: |0>─┤ H ├──────┤ X ├┤ Sdg ├─┤ H ├─┤ Z ├──────░────────╫──╫─┤ Z ├─┤ H ├─»\n",
      "          └───┘      └───┘└─────┘ └───┘ └───┘      ░        ║  ║ └───┘ └───┘ »\n",
      " cr_0: 0 ═══════════════════════════════════════════════════╩══╬═════════════»\n",
      "                                                               ║             »\n",
      " cr_1: 0 ══════════════════════════════════════════════════════╩═════════════»\n",
      "                                                                             »\n",
      " cr_2: 0 ════════════════════════════════════════════════════════════════════»\n",
      "                                                                             »\n",
      " cr_3: 0 ════════════════════════════════════════════════════════════════════»\n",
      "                                                                             »\n",
      "«                                             \n",
      "«qr_0: ───────────────────────────────────────\n",
      "«                                             \n",
      "«qr_1: ───────────────────────────────────────\n",
      "«      ┌───┐     ┌─────┐┌───┐┌────────────┐┌─┐\n",
      "«qr_2: ┤ H ├──■──┤ Sdg ├┤ H ├┤ Rx(1.5708) ├┤M├\n",
      "«      ├───┤┌─┴─┐└┬───┬┘└┬─┬┘└────────────┘└╥┘\n",
      "«qr_3: ┤ S ├┤ X ├─┤ H ├──┤M├────────────────╫─\n",
      "«      └───┘└───┘ └───┘  └╥┘                ║ \n",
      "«cr_0: ═══════════════════╬═════════════════╬═\n",
      "«                         ║                 ║ \n",
      "«cr_1: ═══════════════════╬═════════════════╬═\n",
      "«                         ║                 ║ \n",
      "«cr_2: ═══════════════════╬═════════════════╩═\n",
      "«                         ║                   \n",
      "«cr_3: ═══════════════════╩═══════════════════\n",
      "«                                             \n",
      "circ no.  2\n",
      "         ┌─────┐┌───┐        ░    ┌───┐ ┌───┐┌────────────┐┌─┐               »\n",
      "qr_0: |0>┤ Sdg ├┤ H ├────────░────┤ H ├─┤ S ├┤ Ry(1.5708) ├┤M├───────────────»\n",
      "         └┬───┬┘├───┤┌───┐   ░   ┌┴───┴┐├───┤└───┬───┬────┘└╥┘┌─┐            »\n",
      "qr_1: |0>─┤ H ├─┤ H ├┤ S ├───░───┤ Sdg ├┤ H ├────┤ H ├──────╫─┤M├────────────»\n",
      "          ├───┤ ├───┤└───┘ ┌───┐ └┬───┬┘├───┤    └─░─┘      ║ └╥┘┌───┐┌─────┐»\n",
      "qr_2: |0>─┤ H ├─┤ S ├──■───┤ H ├──┤ S ├─┤ X ├──────░────────╫──╫─┤ X ├┤ Sdg ├»\n",
      "          ├───┤ └───┘┌─┴─┐┌┴───┴┐ ├───┤ ├───┤      ░        ║  ║ ├───┤└┬───┬┘»\n",
      "qr_3: |0>─┤ H ├──────┤ X ├┤ Sdg ├─┤ H ├─┤ Z ├──────░────────╫──╫─┤ Z ├─┤ H ├─»\n",
      "          └───┘      └───┘└─────┘ └───┘ └───┘      ░        ║  ║ └───┘ └───┘ »\n",
      " cr_0: 0 ═══════════════════════════════════════════════════╩══╬═════════════»\n",
      "                                                               ║             »\n",
      " cr_1: 0 ══════════════════════════════════════════════════════╩═════════════»\n",
      "                                                                             »\n",
      " cr_2: 0 ════════════════════════════════════════════════════════════════════»\n",
      "                                                                             »\n",
      " cr_3: 0 ════════════════════════════════════════════════════════════════════»\n",
      "                                                                             »\n",
      "«                                             \n",
      "«qr_0: ───────────────────────────────────────\n",
      "«                                             \n",
      "«qr_1: ───────────────────────────────────────\n",
      "«      ┌───┐     ┌─────┐┌───┐┌────────────┐┌─┐\n",
      "«qr_2: ┤ H ├──■──┤ Sdg ├┤ H ├┤ Ry(1.5708) ├┤M├\n",
      "«      ├───┤┌─┴─┐└┬───┬┘└┬─┬┘└────────────┘└╥┘\n",
      "«qr_3: ┤ S ├┤ X ├─┤ H ├──┤M├────────────────╫─\n",
      "«      └───┘└───┘ └───┘  └╥┘                ║ \n",
      "«cr_0: ═══════════════════╬═════════════════╬═\n",
      "«                         ║                 ║ \n",
      "«cr_1: ═══════════════════╬═════════════════╬═\n",
      "«                         ║                 ║ \n",
      "«cr_2: ═══════════════════╬═════════════════╩═\n",
      "«                         ║                   \n",
      "«cr_3: ═══════════════════╩═══════════════════\n",
      "«                                             \n",
      "circ no.  3\n",
      "         ┌─────┐┌───┐        ░    ┌───┐ ┌───┐   ┌─┐                      »\n",
      "qr_0: |0>┤ Sdg ├┤ H ├────────░────┤ H ├─┤ S ├───┤M├──────────────────────»\n",
      "         └┬───┬┘├───┤┌───┐   ░   ┌┴───┴┐├───┤   └╥┘┌───┐┌────────────┐┌─┐»\n",
      "qr_1: |0>─┤ H ├─┤ H ├┤ S ├───░───┤ Sdg ├┤ H ├────╫─┤ H ├┤ Rx(1.5708) ├┤M├»\n",
      "          ├───┤ ├───┤└───┘ ┌───┐ └┬───┬┘├───┤ ░  ║ └───┘└───┬───┬────┘└╥┘»\n",
      "qr_2: |0>─┤ H ├─┤ S ├──■───┤ H ├──┤ S ├─┤ X ├─░──╫──────────┤ X ├──────╫─»\n",
      "          ├───┤ └───┘┌─┴─┐┌┴───┴┐ ├───┤ ├───┤ ░  ║          ├───┤      ║ »\n",
      "qr_3: |0>─┤ H ├──────┤ X ├┤ Sdg ├─┤ H ├─┤ Z ├─░──╫──────────┤ Z ├──────╫─»\n",
      "          └───┘      └───┘└─────┘ └───┘ └───┘ ░  ║          └───┘      ║ »\n",
      " cr_0: 0 ════════════════════════════════════════╩═════════════════════╬═»\n",
      "                                                                       ║ »\n",
      " cr_1: 0 ══════════════════════════════════════════════════════════════╩═»\n",
      "                                                                         »\n",
      " cr_2: 0 ════════════════════════════════════════════════════════════════»\n",
      "                                                                         »\n",
      " cr_3: 0 ════════════════════════════════════════════════════════════════»\n",
      "                                                                         »\n",
      "«                                                  \n",
      "«qr_0: ────────────────────────────────────────────\n",
      "«                                                  \n",
      "«qr_1: ────────────────────────────────────────────\n",
      "«      ┌─────┐┌───┐     ┌─────┐    ┌───┐     ┌─┐   \n",
      "«qr_2: ┤ Sdg ├┤ H ├──■──┤ Sdg ├────┤ H ├─────┤M├───\n",
      "«      └┬───┬┘├───┤┌─┴─┐└┬───┬┘┌───┴───┴────┐└╥┘┌─┐\n",
      "«qr_3: ─┤ H ├─┤ S ├┤ X ├─┤ H ├─┤ Rx(1.5708) ├─╫─┤M├\n",
      "«       └───┘ └───┘└───┘ └───┘ └────────────┘ ║ └╥┘\n",
      "«cr_0: ═══════════════════════════════════════╬══╬═\n",
      "«                                             ║  ║ \n",
      "«cr_1: ═══════════════════════════════════════╬══╬═\n",
      "«                                             ║  ║ \n",
      "«cr_2: ═══════════════════════════════════════╩══╬═\n",
      "«                                                ║ \n",
      "«cr_3: ══════════════════════════════════════════╩═\n",
      "«                                                  \n",
      "circ no.  4\n",
      "         ┌─────┐┌───┐        ░    ┌───┐ ┌───┐┌────────────┐┌─┐                 »\n",
      "qr_0: |0>┤ Sdg ├┤ H ├────────░────┤ H ├─┤ S ├┤ Rx(1.5708) ├┤M├─────────────────»\n",
      "         └┬───┬┘├───┤┌───┐   ░   ┌┴───┴┐├───┤└───┬───┬────┘└╥┘┌────────────┐┌─┐»\n",
      "qr_1: |0>─┤ H ├─┤ H ├┤ S ├───░───┤ Sdg ├┤ H ├────┤ H ├──────╫─┤ Rx(1.5708) ├┤M├»\n",
      "          ├───┤ ├───┤└───┘ ┌───┐ └┬───┬┘├───┤    └─░─┘      ║ └───┬───┬────┘└╥┘»\n",
      "qr_2: |0>─┤ H ├─┤ S ├──■───┤ H ├──┤ S ├─┤ X ├──────░────────╫─────┤ X ├──────╫─»\n",
      "          ├───┤ └───┘┌─┴─┐┌┴───┴┐ ├───┤ ├───┤      ░        ║     ├───┤      ║ »\n",
      "qr_3: |0>─┤ H ├──────┤ X ├┤ Sdg ├─┤ H ├─┤ Z ├──────░────────╫─────┤ Z ├──────╫─»\n",
      "          └───┘      └───┘└─────┘ └───┘ └───┘      ░        ║     └───┘      ║ »\n",
      " cr_0: 0 ═══════════════════════════════════════════════════╩════════════════╬═»\n",
      "                                                                             ║ »\n",
      " cr_1: 0 ════════════════════════════════════════════════════════════════════╩═»\n",
      "                                                                               »\n",
      " cr_2: 0 ══════════════════════════════════════════════════════════════════════»\n",
      "                                                                               »\n",
      " cr_3: 0 ══════════════════════════════════════════════════════════════════════»\n",
      "                                                                               »\n",
      "«                                                             \n",
      "«qr_0: ───────────────────────────────────────────────────────\n",
      "«                                                             \n",
      "«qr_1: ───────────────────────────────────────────────────────\n",
      "«      ┌─────┐┌───┐     ┌─────┐    ┌───┐     ┌────────────┐┌─┐\n",
      "«qr_2: ┤ Sdg ├┤ H ├──■──┤ Sdg ├────┤ H ├─────┤ Rx(1.5708) ├┤M├\n",
      "«      └┬───┬┘├───┤┌─┴─┐└┬───┬┘┌───┴───┴────┐└────┬─┬─────┘└╥┘\n",
      "«qr_3: ─┤ H ├─┤ S ├┤ X ├─┤ H ├─┤ Rx(1.5708) ├─────┤M├───────╫─\n",
      "«       └───┘ └───┘└───┘ └───┘ └────────────┘     └╥┘       ║ \n",
      "«cr_0: ════════════════════════════════════════════╬════════╬═\n",
      "«                                                  ║        ║ \n",
      "«cr_1: ════════════════════════════════════════════╬════════╬═\n",
      "«                                                  ║        ║ \n",
      "«cr_2: ════════════════════════════════════════════╬════════╩═\n",
      "«                                                  ║          \n",
      "«cr_3: ════════════════════════════════════════════╩══════════\n",
      "«                                                             \n",
      "circ no.  5\n",
      "         ┌─────┐┌───┐        ░    ┌───┐ ┌───┐┌────────────┐┌─┐                 »\n",
      "qr_0: |0>┤ Sdg ├┤ H ├────────░────┤ H ├─┤ S ├┤ Ry(1.5708) ├┤M├─────────────────»\n",
      "         └┬───┬┘├───┤┌───┐   ░   ┌┴───┴┐├───┤└───┬───┬────┘└╥┘┌────────────┐┌─┐»\n",
      "qr_1: |0>─┤ H ├─┤ H ├┤ S ├───░───┤ Sdg ├┤ H ├────┤ H ├──────╫─┤ Rx(1.5708) ├┤M├»\n",
      "          ├───┤ ├───┤└───┘ ┌───┐ └┬───┬┘├───┤    └─░─┘      ║ └───┬───┬────┘└╥┘»\n",
      "qr_2: |0>─┤ H ├─┤ S ├──■───┤ H ├──┤ S ├─┤ X ├──────░────────╫─────┤ X ├──────╫─»\n",
      "          ├───┤ └───┘┌─┴─┐┌┴───┴┐ ├───┤ ├───┤      ░        ║     ├───┤      ║ »\n",
      "qr_3: |0>─┤ H ├──────┤ X ├┤ Sdg ├─┤ H ├─┤ Z ├──────░────────╫─────┤ Z ├──────╫─»\n",
      "          └───┘      └───┘└─────┘ └───┘ └───┘      ░        ║     └───┘      ║ »\n",
      " cr_0: 0 ═══════════════════════════════════════════════════╩════════════════╬═»\n",
      "                                                                             ║ »\n",
      " cr_1: 0 ════════════════════════════════════════════════════════════════════╩═»\n",
      "                                                                               »\n",
      " cr_2: 0 ══════════════════════════════════════════════════════════════════════»\n",
      "                                                                               »\n",
      " cr_3: 0 ══════════════════════════════════════════════════════════════════════»\n",
      "                                                                               »\n",
      "«                                                             \n",
      "«qr_0: ───────────────────────────────────────────────────────\n",
      "«                                                             \n",
      "«qr_1: ───────────────────────────────────────────────────────\n",
      "«      ┌─────┐┌───┐     ┌─────┐    ┌───┐     ┌────────────┐┌─┐\n",
      "«qr_2: ┤ Sdg ├┤ H ├──■──┤ Sdg ├────┤ H ├─────┤ Ry(1.5708) ├┤M├\n",
      "«      └┬───┬┘├───┤┌─┴─┐└┬───┬┘┌───┴───┴────┐└────┬─┬─────┘└╥┘\n",
      "«qr_3: ─┤ H ├─┤ S ├┤ X ├─┤ H ├─┤ Rx(1.5708) ├─────┤M├───────╫─\n",
      "«       └───┘ └───┘└───┘ └───┘ └────────────┘     └╥┘       ║ \n",
      "«cr_0: ════════════════════════════════════════════╬════════╬═\n",
      "«                                                  ║        ║ \n",
      "«cr_1: ════════════════════════════════════════════╬════════╬═\n",
      "«                                                  ║        ║ \n",
      "«cr_2: ════════════════════════════════════════════╬════════╩═\n",
      "«                                                  ║          \n",
      "«cr_3: ════════════════════════════════════════════╩══════════\n",
      "«                                                             \n",
      "circ no.  6\n"
     ]
    },
    {
     "name": "stdout",
     "output_type": "stream",
     "text": [
      "         ┌─────┐┌───┐        ░    ┌───┐ ┌───┐   ┌─┐                      »\n",
      "qr_0: |0>┤ Sdg ├┤ H ├────────░────┤ H ├─┤ S ├───┤M├──────────────────────»\n",
      "         └┬───┬┘├───┤┌───┐   ░   ┌┴───┴┐├───┤   └╥┘┌───┐┌────────────┐┌─┐»\n",
      "qr_1: |0>─┤ H ├─┤ H ├┤ S ├───░───┤ Sdg ├┤ H ├────╫─┤ H ├┤ Ry(1.5708) ├┤M├»\n",
      "          ├───┤ ├───┤└───┘ ┌───┐ └┬───┬┘├───┤ ░  ║ └───┘└───┬───┬────┘└╥┘»\n",
      "qr_2: |0>─┤ H ├─┤ S ├──■───┤ H ├──┤ S ├─┤ X ├─░──╫──────────┤ X ├──────╫─»\n",
      "          ├───┤ └───┘┌─┴─┐┌┴───┴┐ ├───┤ ├───┤ ░  ║          ├───┤      ║ »\n",
      "qr_3: |0>─┤ H ├──────┤ X ├┤ Sdg ├─┤ H ├─┤ Z ├─░──╫──────────┤ Z ├──────╫─»\n",
      "          └───┘      └───┘└─────┘ └───┘ └───┘ ░  ║          └───┘      ║ »\n",
      " cr_0: 0 ════════════════════════════════════════╩═════════════════════╬═»\n",
      "                                                                       ║ »\n",
      " cr_1: 0 ══════════════════════════════════════════════════════════════╩═»\n",
      "                                                                         »\n",
      " cr_2: 0 ════════════════════════════════════════════════════════════════»\n",
      "                                                                         »\n",
      " cr_3: 0 ════════════════════════════════════════════════════════════════»\n",
      "                                                                         »\n",
      "«                                                  \n",
      "«qr_0: ────────────────────────────────────────────\n",
      "«                                                  \n",
      "«qr_1: ────────────────────────────────────────────\n",
      "«      ┌─────┐┌───┐     ┌─────┐    ┌───┐     ┌─┐   \n",
      "«qr_2: ┤ Sdg ├┤ H ├──■──┤ Sdg ├────┤ H ├─────┤M├───\n",
      "«      └┬───┬┘├───┤┌─┴─┐└┬───┬┘┌───┴───┴────┐└╥┘┌─┐\n",
      "«qr_3: ─┤ H ├─┤ S ├┤ X ├─┤ H ├─┤ Ry(1.5708) ├─╫─┤M├\n",
      "«       └───┘ └───┘└───┘ └───┘ └────────────┘ ║ └╥┘\n",
      "«cr_0: ═══════════════════════════════════════╬══╬═\n",
      "«                                             ║  ║ \n",
      "«cr_1: ═══════════════════════════════════════╬══╬═\n",
      "«                                             ║  ║ \n",
      "«cr_2: ═══════════════════════════════════════╩══╬═\n",
      "«                                                ║ \n",
      "«cr_3: ══════════════════════════════════════════╩═\n",
      "«                                                  \n",
      "circ no.  7\n",
      "         ┌─────┐┌───┐        ░    ┌───┐ ┌───┐┌────────────┐┌─┐                 »\n",
      "qr_0: |0>┤ Sdg ├┤ H ├────────░────┤ H ├─┤ S ├┤ Rx(1.5708) ├┤M├─────────────────»\n",
      "         └┬───┬┘├───┤┌───┐   ░   ┌┴───┴┐├───┤└───┬───┬────┘└╥┘┌────────────┐┌─┐»\n",
      "qr_1: |0>─┤ H ├─┤ H ├┤ S ├───░───┤ Sdg ├┤ H ├────┤ H ├──────╫─┤ Ry(1.5708) ├┤M├»\n",
      "          ├───┤ ├───┤└───┘ ┌───┐ └┬───┬┘├───┤    └─░─┘      ║ └───┬───┬────┘└╥┘»\n",
      "qr_2: |0>─┤ H ├─┤ S ├──■───┤ H ├──┤ S ├─┤ X ├──────░────────╫─────┤ X ├──────╫─»\n",
      "          ├───┤ └───┘┌─┴─┐┌┴───┴┐ ├───┤ ├───┤      ░        ║     ├───┤      ║ »\n",
      "qr_3: |0>─┤ H ├──────┤ X ├┤ Sdg ├─┤ H ├─┤ Z ├──────░────────╫─────┤ Z ├──────╫─»\n",
      "          └───┘      └───┘└─────┘ └───┘ └───┘      ░        ║     └───┘      ║ »\n",
      " cr_0: 0 ═══════════════════════════════════════════════════╩════════════════╬═»\n",
      "                                                                             ║ »\n",
      " cr_1: 0 ════════════════════════════════════════════════════════════════════╩═»\n",
      "                                                                               »\n",
      " cr_2: 0 ══════════════════════════════════════════════════════════════════════»\n",
      "                                                                               »\n",
      " cr_3: 0 ══════════════════════════════════════════════════════════════════════»\n",
      "                                                                               »\n",
      "«                                                             \n",
      "«qr_0: ───────────────────────────────────────────────────────\n",
      "«                                                             \n",
      "«qr_1: ───────────────────────────────────────────────────────\n",
      "«      ┌─────┐┌───┐     ┌─────┐    ┌───┐     ┌────────────┐┌─┐\n",
      "«qr_2: ┤ Sdg ├┤ H ├──■──┤ Sdg ├────┤ H ├─────┤ Rx(1.5708) ├┤M├\n",
      "«      └┬───┬┘├───┤┌─┴─┐└┬───┬┘┌───┴───┴────┐└────┬─┬─────┘└╥┘\n",
      "«qr_3: ─┤ H ├─┤ S ├┤ X ├─┤ H ├─┤ Ry(1.5708) ├─────┤M├───────╫─\n",
      "«       └───┘ └───┘└───┘ └───┘ └────────────┘     └╥┘       ║ \n",
      "«cr_0: ════════════════════════════════════════════╬════════╬═\n",
      "«                                                  ║        ║ \n",
      "«cr_1: ════════════════════════════════════════════╬════════╬═\n",
      "«                                                  ║        ║ \n",
      "«cr_2: ════════════════════════════════════════════╬════════╩═\n",
      "«                                                  ║          \n",
      "«cr_3: ════════════════════════════════════════════╩══════════\n",
      "«                                                             \n",
      "circ no.  8\n",
      "         ┌─────┐┌───┐        ░    ┌───┐ ┌───┐┌────────────┐┌─┐                 »\n",
      "qr_0: |0>┤ Sdg ├┤ H ├────────░────┤ H ├─┤ S ├┤ Ry(1.5708) ├┤M├─────────────────»\n",
      "         └┬───┬┘├───┤┌───┐   ░   ┌┴───┴┐├───┤└───┬───┬────┘└╥┘┌────────────┐┌─┐»\n",
      "qr_1: |0>─┤ H ├─┤ H ├┤ S ├───░───┤ Sdg ├┤ H ├────┤ H ├──────╫─┤ Ry(1.5708) ├┤M├»\n",
      "          ├───┤ ├───┤└───┘ ┌───┐ └┬───┬┘├───┤    └─░─┘      ║ └───┬───┬────┘└╥┘»\n",
      "qr_2: |0>─┤ H ├─┤ S ├──■───┤ H ├──┤ S ├─┤ X ├──────░────────╫─────┤ X ├──────╫─»\n",
      "          ├───┤ └───┘┌─┴─┐┌┴───┴┐ ├───┤ ├───┤      ░        ║     ├───┤      ║ »\n",
      "qr_3: |0>─┤ H ├──────┤ X ├┤ Sdg ├─┤ H ├─┤ Z ├──────░────────╫─────┤ Z ├──────╫─»\n",
      "          └───┘      └───┘└─────┘ └───┘ └───┘      ░        ║     └───┘      ║ »\n",
      " cr_0: 0 ═══════════════════════════════════════════════════╩════════════════╬═»\n",
      "                                                                             ║ »\n",
      " cr_1: 0 ════════════════════════════════════════════════════════════════════╩═»\n",
      "                                                                               »\n",
      " cr_2: 0 ══════════════════════════════════════════════════════════════════════»\n",
      "                                                                               »\n",
      " cr_3: 0 ══════════════════════════════════════════════════════════════════════»\n",
      "                                                                               »\n",
      "«                                                             \n",
      "«qr_0: ───────────────────────────────────────────────────────\n",
      "«                                                             \n",
      "«qr_1: ───────────────────────────────────────────────────────\n",
      "«      ┌─────┐┌───┐     ┌─────┐    ┌───┐     ┌────────────┐┌─┐\n",
      "«qr_2: ┤ Sdg ├┤ H ├──■──┤ Sdg ├────┤ H ├─────┤ Ry(1.5708) ├┤M├\n",
      "«      └┬───┬┘├───┤┌─┴─┐└┬───┬┘┌───┴───┴────┐└────┬─┬─────┘└╥┘\n",
      "«qr_3: ─┤ H ├─┤ S ├┤ X ├─┤ H ├─┤ Ry(1.5708) ├─────┤M├───────╫─\n",
      "«       └───┘ └───┘└───┘ └───┘ └────────────┘     └╥┘       ║ \n",
      "«cr_0: ════════════════════════════════════════════╬════════╬═\n",
      "«                                                  ║        ║ \n",
      "«cr_1: ════════════════════════════════════════════╬════════╬═\n",
      "«                                                  ║        ║ \n",
      "«cr_2: ════════════════════════════════════════════╬════════╩═\n",
      "«                                                  ║          \n",
      "«cr_3: ════════════════════════════════════════════╩══════════\n",
      "«                                                             \n"
     ]
    }
   ],
   "source": [
    "for i in range(npurity):\n",
    "    print (\"circ no. \", i)\n",
    "    print (rb_purity_circs[0][i][0])"
   ]
  },
  {
   "cell_type": "markdown",
   "metadata": {},
   "source": [
    "## Define a non-coherent noise model\n",
    "\n",
    "We define a non-coherent noise model for the simulator. To simulate decay, we add depolarizing error probabilities to the CNOT and U gates."
   ]
  },
  {
   "cell_type": "code",
   "execution_count": 6,
   "metadata": {
    "collapsed": true
   },
   "outputs": [],
   "source": [
    "noise_model = NoiseModel()\n",
    "p1Q = 0.002\n",
    "p2Q = 0.01\n",
    "noise_model.add_all_qubit_quantum_error(depolarizing_error(p1Q, 1), 'u2')\n",
    "noise_model.add_all_qubit_quantum_error(depolarizing_error(2*p1Q, 1), 'u3')\n",
    "noise_model.add_all_qubit_quantum_error(depolarizing_error(p2Q, 2), 'cx')"
   ]
  },
  {
   "cell_type": "markdown",
   "metadata": {},
   "source": [
    "We can execute the purity RB sequences either using Qiskit Aer Simulator (with some noise model) or using IBMQ provider, and obtain a list of results result_list."
   ]
  },
  {
   "cell_type": "code",
   "execution_count": 7,
   "metadata": {},
   "outputs": [
    {
     "name": "stdout",
     "output_type": "stream",
     "text": [
      "Executing seed 0 purity 0 length 10\n",
      "Executing seed 0 purity 1 length 10\n",
      "Executing seed 0 purity 2 length 10\n",
      "Executing seed 0 purity 3 length 10\n",
      "Executing seed 0 purity 4 length 10\n",
      "Executing seed 0 purity 5 length 10\n",
      "Executing seed 0 purity 6 length 10\n",
      "Executing seed 0 purity 7 length 10\n",
      "Executing seed 0 purity 8 length 10\n",
      "Executing seed 1 purity 0 length 10\n",
      "Executing seed 1 purity 1 length 10\n",
      "Executing seed 1 purity 2 length 10\n",
      "Executing seed 1 purity 3 length 10\n",
      "Executing seed 1 purity 4 length 10\n",
      "Executing seed 1 purity 5 length 10\n",
      "Executing seed 1 purity 6 length 10\n",
      "Executing seed 1 purity 7 length 10\n",
      "Executing seed 1 purity 8 length 10\n",
      "Executing seed 2 purity 0 length 10\n",
      "Executing seed 2 purity 1 length 10\n",
      "Executing seed 2 purity 2 length 10\n",
      "Executing seed 2 purity 3 length 10\n",
      "Executing seed 2 purity 4 length 10\n",
      "Executing seed 2 purity 5 length 10\n",
      "Executing seed 2 purity 6 length 10\n",
      "Executing seed 2 purity 7 length 10\n",
      "Executing seed 2 purity 8 length 10\n",
      "Finished Simulating Purity RB Circuits\n"
     ]
    }
   ],
   "source": [
    "#Execute purity RB circuits \n",
    "backend = qiskit.Aer.get_backend('qasm_simulator')\n",
    "basis_gates = ['u1','u2','u3','cx'] # use U,CX for now\n",
    "shots = 200\n",
    "purity_result_list = []\n",
    "import time\n",
    "for rb_seed in range(len(rb_purity_circs)):\n",
    "    for d in range(npurity):\n",
    "        print('Executing seed %d purity %d length %d'%(rb_seed, d, len(nCliffs)))\n",
    "        new_circ = rb_purity_circs[rb_seed][d]\n",
    "        job = qiskit.execute(new_circ, backend=backend, noise_model=noise_model, shots=shots, basis_gates=['u1','u2','u3','cx'])\n",
    "        purity_result_list.append(job.result())\n",
    "print(\"Finished Simulating Purity RB Circuits\")"
   ]
  },
  {
   "cell_type": "markdown",
   "metadata": {},
   "source": [
    "## Fit the results\n",
    "\n",
    "Calculate the *purity* $Tr(\\rho^2)$ as the sum $\\sum_k \\langle P_k \\rangle ^2/2^n$, and fit the purity result into an exponentially decaying function to obtain $\\alpha$."
   ]
  },
  {
   "cell_type": "code",
   "execution_count": 8,
   "metadata": {},
   "outputs": [],
   "source": [
    "rbfit_purity = rb.PurityRBFitter(purity_result_list, npurity, xdata, rb_opts['rb_pattern'])"
   ]
  },
  {
   "cell_type": "markdown",
   "metadata": {},
   "source": [
    "Print the fit result (seperately for each pattern)"
   ]
  },
  {
   "cell_type": "code",
   "execution_count": 9,
   "metadata": {},
   "outputs": [
    {
     "name": "stdout",
     "output_type": "stream",
     "text": [
      "raw_data: [[[0.9996888888888888, 0.5287944444444443, 0.36229999999999996, 0.27749999999999997, 0.27893333333333326, 0.27281666666666665, 0.2652555555555556, 0.25948888888888894, 0.25706666666666667, 0.26551111111111103], [0.8747, 0.5778666666666666, 0.35035555555555553, 0.30521111111111104, 0.27678888888888875, 0.26467777777777773, 0.2622888888888888, 0.2582055555555555, 0.2628166666666666, 0.2563277777777777], [0.9932666666666667, 0.5130555555555555, 0.3610888888888888, 0.29934444444444436, 0.2739444444444444, 0.25816111111111123, 0.2748777777777777, 0.26608333333333334, 0.25849999999999995, 0.2597222222222222]], [[0.9496222222222224, 0.5287166666666667, 0.3423055555555555, 0.28423888888888893, 0.2623777777777777, 0.2629055555555555, 0.27135555555555546, 0.26346111111111115, 0.2597611111111111, 0.26251111111111103], [0.9658833333333333, 0.5295833333333333, 0.3723444444444445, 0.284961111111111, 0.27535, 0.27488333333333326, 0.2608944444444443, 0.26255555555555543, 0.2595888888888888, 0.28135000000000004], [0.8988444444444443, 0.5041944444444444, 0.33504999999999996, 0.29799444444444445, 0.2727055555555556, 0.2812833333333333, 0.26538888888888884, 0.27222777777777774, 0.2647666666666666, 0.2650944444444444]]]\n",
      "ydata: [{'mean': array([0.95588519, 0.53990556, 0.35791481, 0.29401852, 0.27655556,\n",
      "       0.26521852, 0.26747407, 0.26125926, 0.25946111, 0.26052037]), 'std': array([0.05746644, 0.02760088, 0.00536802, 0.01192338, 0.00204338,\n",
      "       0.00599531, 0.00537348, 0.00345114, 0.00244383, 0.00379132])}, {'mean': array([0.93811667, 0.52083148, 0.3499    , 0.28906481, 0.27014444,\n",
      "       0.27302407, 0.26587963, 0.26608148, 0.26137222, 0.26965185]), 'std': array([0.02855213, 0.01176948, 0.01614467, 0.00632108, 0.00559697,\n",
      "       0.00761701, 0.00428481, 0.00436178, 0.00240126, 0.0083388 ])}]\n",
      "fit: [{'params': array([0.72412189, 0.97614547, 0.26078152]), 'params_err': array([0.03101281, 0.00060122, 0.00092851]), 'epc': 0.03535500976035008, 'epc_err': 4.408023044101952e-05, 'pepc': 0.011975192573942056, 'pepc_err': 0.00030303994096614074}, {'params': array([0.72542439, 0.97479906, 0.26255908]), 'params_err': array([0.02364944, 0.00090424, 0.00145993]), 'epc': 0.03732508941993351, 'epc_err': 7.013593209678649e-05, 'pepc': 0.012653993840858718, 'pepc_err': 0.00045598162859169383}]\n"
     ]
    }
   ],
   "source": [
    "rbfit_purity.add_data(purity_result_list)\n",
    "print (\"raw_data:\", rbfit_purity.raw_data)\n",
    "print (\"ydata:\", rbfit_purity.ydata)\n",
    "print (\"fit:\", rbfit_purity.fit)"
   ]
  },
  {
   "cell_type": "markdown",
   "metadata": {},
   "source": [
    "## Plot the results and the fit"
   ]
  },
  {
   "cell_type": "code",
   "execution_count": 10,
   "metadata": {},
   "outputs": [
    {
     "data": {
      "image/png": "[encoded data removed]",
      "text/plain": [
       "<matplotlib.figure.Figure at 0x7f689d67a9b0>"
      ]
     },
     "metadata": {},
     "output_type": "display_data"
    }
   ],
   "source": [
    "plt.figure(figsize=(8, 6))\n",
    "ax = plt.subplot(1, 1, 1)\n",
    "\n",
    "# Plot the essence by calling plot_rb_data\n",
    "rbfit_purity.plot_rb_data(0, ax=ax, add_label=True, show_plt=False)\n",
    "    \n",
    "# Add title and label\n",
    "ax.set_title('%d Qubit Purity RB'%(nQ), fontsize=18)\n",
    "\n",
    "plt.show()"
   ]
  },
  {
   "cell_type": "markdown",
   "metadata": {},
   "source": [
    "## Standard RB results"
   ]
  },
  {
   "cell_type": "markdown",
   "metadata": {},
   "source": [
    "For comparison, we also print the standard RB fit results"
   ]
  },
  {
   "cell_type": "code",
   "execution_count": 11,
   "metadata": {},
   "outputs": [],
   "source": [
    "standard_result_list = []\n",
    "count = 0\n",
    "for rb_seed in range(len(rb_purity_circs)):\n",
    "    for d in range(npurity):\n",
    "        if d==0:\n",
    "            standard_result_list.append(purity_result_list[count])\n",
    "        count += 1"
   ]
  },
  {
   "cell_type": "code",
   "execution_count": 12,
   "metadata": {},
   "outputs": [],
   "source": [
    "rbfit_standard = rb.RBFitter(standard_result_list, xdata, rb_opts['rb_pattern'])"
   ]
  },
  {
   "cell_type": "code",
   "execution_count": 13,
   "metadata": {},
   "outputs": [
    {
     "name": "stdout",
     "output_type": "stream",
     "text": [
      "[{'params': array([0.76785217, 0.97715592, 0.22159869]), 'params_err': array([0.02301556, 0.00116043, 0.00806635]), 'epc': 0.017133056736269747, 'epc_err': 2.034649918332208e-05}, {'params': array([0.74033657, 0.97572386, 0.23550468]), 'params_err': array([0.01773793, 0.00085935, 0.00906597]), 'epc': 0.01820710487276403, 'epc_err': 1.6035581988465095e-05}]\n"
     ]
    }
   ],
   "source": [
    "print (rbfit_standard.fit)"
   ]
  },
  {
   "cell_type": "code",
   "execution_count": 14,
   "metadata": {},
   "outputs": [
    {
     "data": {
      "image/png": "[encoded data removed]",
      "text/plain": [
       "<matplotlib.figure.Figure at 0x7f68a0d8d048>"
      ]
     },
     "metadata": {},
     "output_type": "display_data"
    }
   ],
   "source": [
    "plt.figure(figsize=(8, 6))\n",
    "ax = plt.subplot(1, 1, 1)\n",
    "\n",
    "# Plot the essence by calling plot_rb_data\n",
    "rbfit_standard.plot_rb_data(0, ax=ax, add_label=True, show_plt=False)\n",
    "    \n",
    "# Add title and label\n",
    "ax.set_title('%d Qubit Standard RB'%(nQ), fontsize=18)\n",
    "\n",
    "plt.show()"
   ]
  },
  {
   "cell_type": "markdown",
   "metadata": {},
   "source": [
    "## Define a coherent noise model\n",
    "\n",
    "We define a coherent noise model for the simulator. "
   ]
  },
  {
   "cell_type": "code",
   "execution_count": 15,
   "metadata": {},
   "outputs": [],
   "source": [
    "err_unitary = np.zeros([2, 2], dtype=complex)\n",
    "angle_err = 0.1\n",
    "for i in range(2):\n",
    "    err_unitary[i, i] = np.cos(angle_err)\n",
    "    err_unitary[i, (i+1) % 2] = np.sin(angle_err)\n",
    "err_unitary[0, 1] *= -1.0\n",
    "\n",
    "error = coherent_unitary_error(err_unitary)\n",
    "noise_model = NoiseModel()\n",
    "noise_model.add_all_qubit_quantum_error(error, 'u3')"
   ]
  },
  {
   "cell_type": "code",
   "execution_count": 16,
   "metadata": {},
   "outputs": [
    {
     "name": "stdout",
     "output_type": "stream",
     "text": [
      "Executing seed 0 purity 0 length 10\n",
      "Executing seed 0 purity 1 length 10\n",
      "Executing seed 0 purity 2 length 10\n",
      "Executing seed 0 purity 3 length 10\n",
      "Executing seed 0 purity 4 length 10\n",
      "Executing seed 0 purity 5 length 10\n",
      "Executing seed 0 purity 6 length 10\n",
      "Executing seed 0 purity 7 length 10\n",
      "Executing seed 0 purity 8 length 10\n",
      "Executing seed 1 purity 0 length 10\n",
      "Executing seed 1 purity 1 length 10\n",
      "Executing seed 1 purity 2 length 10\n",
      "Executing seed 1 purity 3 length 10\n",
      "Executing seed 1 purity 4 length 10\n",
      "Executing seed 1 purity 5 length 10\n",
      "Executing seed 1 purity 6 length 10\n",
      "Executing seed 1 purity 7 length 10\n",
      "Executing seed 1 purity 8 length 10\n",
      "Executing seed 2 purity 0 length 10\n",
      "Executing seed 2 purity 1 length 10\n",
      "Executing seed 2 purity 2 length 10\n",
      "Executing seed 2 purity 3 length 10\n",
      "Executing seed 2 purity 4 length 10\n",
      "Executing seed 2 purity 5 length 10\n",
      "Executing seed 2 purity 6 length 10\n",
      "Executing seed 2 purity 7 length 10\n",
      "Executing seed 2 purity 8 length 10\n",
      "Finished Simulating Purity RB Circuits\n"
     ]
    }
   ],
   "source": [
    "#Execute purity RB circuits \n",
    "backend = qiskit.Aer.get_backend('qasm_simulator')\n",
    "basis_gates = ['u1','u2','u3','cx'] # use U,CX for now\n",
    "shots = 200\n",
    "coherent_purity_result_list = []\n",
    "import time\n",
    "for rb_seed in range(len(rb_purity_circs)):\n",
    "    for d in range(npurity):\n",
    "        print('Executing seed %d purity %d length %d'%(rb_seed, d, len(nCliffs)))\n",
    "        new_circ = rb_purity_circs[rb_seed][d]\n",
    "        job = qiskit.execute(new_circ, backend=backend, shots=shots, noise_model=noise_model, basis_gates=['u1','u2','u3','cx'])\n",
    "        coherent_purity_result_list.append(job.result())\n",
    "print(\"Finished Simulating Purity RB Circuits\")"
   ]
  },
  {
   "cell_type": "code",
   "execution_count": 17,
   "metadata": {},
   "outputs": [],
   "source": [
    "rbfit_purity = rb.PurityRBFitter(coherent_purity_result_list, npurity, xdata, rb_opts['rb_pattern'])"
   ]
  },
  {
   "cell_type": "markdown",
   "metadata": {},
   "source": [
    "Print the fit result (seperately for each pattern)"
   ]
  },
  {
   "cell_type": "code",
   "execution_count": 18,
   "metadata": {},
   "outputs": [
    {
     "name": "stdout",
     "output_type": "stream",
     "text": [
      "raw_data: [[[1.0655555555555556, 1.0749166666666667, 1.1682944444444443, 1.2180222222222226, 0.9627833333333333, 1.0080333333333331, 1.088161111111111, 1.048488888888889, 1.0607444444444445, 1.036822222222222], [0.9340999999999999, 1.0624777777777776, 1.036411111111111, 1.1236722222222222, 1.066288888888889, 1.1264944444444442, 1.0165055555555553, 0.9410166666666666, 1.0396277777777776, 1.1802500000000002], [1.0360222222222224, 1.0107055555555555, 0.9001166666666666, 1.0086611111111112, 1.0277666666666667, 0.9001666666666668, 1.0140722222222223, 1.0117388888888892, 0.9257222222222223, 0.9166611111111111]], [[1.0682166666666668, 1.0606888888888888, 1.218522222222222, 1.0146555555555559, 1.0952222222222225, 0.886611111111111, 0.9961388888888888, 0.9677833333333334, 0.9653333333333334, 0.9333277777777778], [1.0948444444444445, 1.1536388888888889, 1.064822222222222, 0.9800777777777778, 1.0046388888888889, 1.0028833333333336, 1.1594944444444444, 1.1088888888888886, 0.9797666666666667, 1.0694888888888892], [1.0520833333333335, 1.1220555555555554, 1.0110888888888891, 0.9550222222222223, 1.045911111111111, 0.9264000000000001, 1.0312333333333334, 1.0199222222222222, 1.0184555555555552, 1.0710666666666666]]]\n",
      "ydata: [{'mean': array([1.01189259, 1.04936667, 1.03494074, 1.11678519, 1.0189463 ,\n",
      "       1.01156481, 1.03957963, 1.00041481, 1.00869815, 1.04457778]), 'std': array([0.05631353, 0.02780519, 0.10948806, 0.08560994, 0.04271377,\n",
      "       0.09243167, 0.03436666, 0.04460004, 0.05930279, 0.10774936])}, {'mean': array([1.07171481, 1.11212778, 1.09814444, 0.98325185, 1.04859074,\n",
      "       0.93863148, 1.06228889, 1.03219815, 0.98785185, 1.02462778]), 'std': array([0.01763152, 0.03859055, 0.08790117, 0.02444844, 0.037029  ,\n",
      "       0.04824945, 0.07021204, 0.05825643, 0.02242796, 0.06456206])}]\n",
      "fit: [{'params': array([ 1.99947705,  0.99995579, -0.95289195]), 'params_err': array([9.53922812e+02, 2.12427214e-02, 9.53935573e+02]), 'epc': 6.631737135642801e-05, 'epc_err': 2.817709758479604e-06, 'pepc': 2.2106442038760665e-05, 'pepc_err': 0.010621517259364876}, {'params': array([0.09105838, 0.99064173, 0.9882529 ]), 'params_err': array([0.03908382, 0.01153803, 0.03668274]), 'epc': 0.01397171922145446, 'epc_err': 0.00032699159489204795, 'pepc': 0.0046864626554690425, 'pepc_err': 0.0057871242200913196}]\n"
     ]
    }
   ],
   "source": [
    "rbfit_purity.add_data(purity_result_list)\n",
    "print (\"raw_data:\", rbfit_purity.raw_data)\n",
    "print (\"ydata:\", rbfit_purity.ydata)\n",
    "print (\"fit:\", rbfit_purity.fit)"
   ]
  },
  {
   "cell_type": "markdown",
   "metadata": {},
   "source": [
    "## Plot the results and the fit"
   ]
  },
  {
   "cell_type": "code",
   "execution_count": 19,
   "metadata": {},
   "outputs": [
    {
     "data": {
      "image/png": "[encoded data removed]",
      "text/plain": [
       "<matplotlib.figure.Figure at 0x7f68a14816a0>"
      ]
     },
     "metadata": {},
     "output_type": "display_data"
    }
   ],
   "source": [
    "plt.figure(figsize=(8, 6))\n",
    "ax = plt.subplot(1, 1, 1)\n",
    "\n",
    "# Plot the essence by calling plot_rb_data\n",
    "rbfit_purity.plot_rb_data(0, ax=ax, add_label=True, show_plt=False)\n",
    "    \n",
    "# Add title and label\n",
    "ax.set_title('%d Qubit Purity RB'%(nQ), fontsize=18)\n",
    "\n",
    "plt.show()"
   ]
  },
  {
   "cell_type": "markdown",
   "metadata": {},
   "source": [
    "## Standard RB results\n",
    "\n",
    "For comparison, we also print the standard RB fit results"
   ]
  },
  {
   "cell_type": "code",
   "execution_count": 24,
   "metadata": {
    "collapsed": true
   },
   "outputs": [],
   "source": [
    "standard_result_list = []\n",
    "count = 0\n",
    "for rb_seed in range(len(rb_purity_circs)):\n",
    "    for d in range(npurity):\n",
    "        if d==0:\n",
    "            standard_result_list.append(coherent_purity_result_list[count])\n",
    "        count += 1"
   ]
  },
  {
   "cell_type": "code",
   "execution_count": 25,
   "metadata": {},
   "outputs": [],
   "source": [
    "rbfit_standard = rb.RBFitter(standard_result_list, xdata, rb_opts['rb_pattern'])"
   ]
  },
  {
   "cell_type": "code",
   "execution_count": 26,
   "metadata": {},
   "outputs": [
    {
     "name": "stdout",
     "output_type": "stream",
     "text": [
      "[{'params': array([0.67129832, 0.98063026, 0.32867399]), 'params_err': array([0.12868849, 0.00849528, 0.13116744]), 'epc': 0.01452730681456485, 'epc_err': 0.00012585123273932297}, {'params': array([ 1.28163629,  0.99468353, -0.27443188]), 'params_err': array([0.63958501, 0.00352791, 0.64792874]), 'epc': 0.003987349440528504, 'epc_err': 1.4142207475960816e-05}]\n"
     ]
    }
   ],
   "source": [
    "print (rbfit_standard.fit)"
   ]
  },
  {
   "cell_type": "code",
   "execution_count": 27,
   "metadata": {},
   "outputs": [
    {
     "data": {
      "image/png": "[encoded data removed]",
      "text/plain": [
       "<matplotlib.figure.Figure at 0x7f68bdc56d30>"
      ]
     },
     "metadata": {},
     "output_type": "display_data"
    }
   ],
   "source": [
    "plt.figure(figsize=(8, 6))\n",
    "ax = plt.subplot(1, 1, 1)\n",
    "\n",
    "# Plot the essence by calling plot_rb_data\n",
    "rbfit_standard.plot_rb_data(0, ax=ax, add_label=True, show_plt=False)\n",
    "    \n",
    "# Add title and label\n",
    "ax.set_title('%d Qubit Standard RB'%(nQ), fontsize=18)\n",
    "\n",
    "plt.show()"
   ]
  },
  {
   "cell_type": "code",
   "execution_count": null,
   "metadata": {
    "collapsed": true
   },
   "outputs": [],
   "source": []
  }
 ],
 "metadata": {
  "kernelspec": {
   "display_name": "Python 3",
   "language": "python",
   "name": "python3"
  },
  "language_info": {
   "codemirror_mode": {
    "name": "ipython",
    "version": 3
   },
   "file_extension": ".py",
   "mimetype": "text/x-python",
   "name": "python",
   "nbconvert_exporter": "python",
   "pygments_lexer": "ipython3",
   "version": "3.6.3"
  }
 },
 "nbformat": 4,
 "nbformat_minor": 2
}
