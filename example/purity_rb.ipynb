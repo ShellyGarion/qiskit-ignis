{
 "cells": [
  {
   "cell_type": "markdown",
   "metadata": {},
   "source": [
    "<img src=\"../../images/qiskit-heading.gif\" alt=\"Note: In order for images to show up in this jupyter notebook you need to select File => Trusted Notebook\" width=\"500 px\\\" align=\"left\">"
   ]
  },
  {
   "cell_type": "markdown",
   "metadata": {},
   "source": [
    "# Purity Randomized Benchmarking"
   ]
  },
  {
   "cell_type": "code",
   "execution_count": 1,
   "metadata": {
    "collapsed": true
   },
   "outputs": [],
   "source": [
    "\n",
    "#Import general libraries (needed for functions)\n",
    "import numpy as np\n",
    "import matplotlib.pyplot as plt\n",
    "from IPython import display\n",
    "\n",
    "import qiskit.ignis.verification.randomized_benchmarking as rb\n",
    "\n",
    "#Import Qiskit classes classes\n",
    "import qiskit\n",
    "from qiskit.providers.aer.noise import NoiseModel\n",
    "from qiskit.providers.aer.noise.errors.standard_errors import depolarizing_error, thermal_relaxation_error\n"
   ]
  },
  {
   "cell_type": "code",
   "execution_count": 2,
   "metadata": {},
   "outputs": [
    {
     "name": "stdout",
     "output_type": "stream",
     "text": [
      "5\n"
     ]
    }
   ],
   "source": [
    "# Example of 1-qubit Purity RB\n",
    "#Number of qubits\n",
    "nQ = 3\n",
    "#There are 3 qubits: Q0,Q1,Q2.\n",
    "#Number of seeds (random sequences)\n",
    "nseeds = 5\n",
    "#Number of Cliffords in the sequence (start, stop, steps)\n",
    "nCliffs = np.arange(1,20,4)\n",
    "print (len(nCliffs))\n",
    "#2Q RB on Q0,Q2 and 1Q RB on Q1\n",
    "rb_pattern = [[0],[1],[2]]"
   ]
  },
  {
   "cell_type": "code",
   "execution_count": 3,
   "metadata": {},
   "outputs": [
    {
     "name": "stdout",
     "output_type": "stream",
     "text": [
      "3\n"
     ]
    }
   ],
   "source": [
    "rb_opts = {}\n",
    "rb_opts['length_vector'] = nCliffs\n",
    "rb_opts['nseeds'] = nseeds\n",
    "rb_opts['rb_pattern'] = rb_pattern\n",
    "rb_opts['is_purity'] = True\n",
    "rb_purity_circs, xdata, npurity = rb.randomized_benchmarking_seq(**rb_opts)\n",
    "print (npurity)"
   ]
  },
  {
   "cell_type": "code",
   "execution_count": 4,
   "metadata": {},
   "outputs": [
    {
     "name": "stdout",
     "output_type": "stream",
     "text": [
      "0 0 0 rb_purity_Z_length_0_seed_0\n",
      "0 0 1 rb_purity_Z_length_1_seed_0\n",
      "0 0 2 rb_purity_Z_length_2_seed_0\n",
      "0 0 3 rb_purity_Z_length_3_seed_0\n",
      "0 0 4 rb_purity_Z_length_4_seed_0\n",
      "0 1 0 rb_purity_X_length_0_seed_0\n",
      "0 1 1 rb_purity_X_length_1_seed_0\n",
      "0 1 2 rb_purity_X_length_2_seed_0\n",
      "0 1 3 rb_purity_X_length_3_seed_0\n",
      "0 1 4 rb_purity_X_length_4_seed_0\n",
      "0 2 0 rb_purity_Y_length_0_seed_0\n",
      "0 2 1 rb_purity_Y_length_1_seed_0\n",
      "0 2 2 rb_purity_Y_length_2_seed_0\n",
      "0 2 3 rb_purity_Y_length_3_seed_0\n",
      "0 2 4 rb_purity_Y_length_4_seed_0\n",
      "1 0 0 rb_purity_Z_length_0_seed_1\n",
      "1 0 1 rb_purity_Z_length_1_seed_1\n",
      "1 0 2 rb_purity_Z_length_2_seed_1\n",
      "1 0 3 rb_purity_Z_length_3_seed_1\n",
      "1 0 4 rb_purity_Z_length_4_seed_1\n",
      "1 1 0 rb_purity_X_length_0_seed_1\n",
      "1 1 1 rb_purity_X_length_1_seed_1\n",
      "1 1 2 rb_purity_X_length_2_seed_1\n",
      "1 1 3 rb_purity_X_length_3_seed_1\n",
      "1 1 4 rb_purity_X_length_4_seed_1\n",
      "1 2 0 rb_purity_Y_length_0_seed_1\n",
      "1 2 1 rb_purity_Y_length_1_seed_1\n",
      "1 2 2 rb_purity_Y_length_2_seed_1\n",
      "1 2 3 rb_purity_Y_length_3_seed_1\n",
      "1 2 4 rb_purity_Y_length_4_seed_1\n",
      "2 0 0 rb_purity_Z_length_0_seed_2\n",
      "2 0 1 rb_purity_Z_length_1_seed_2\n",
      "2 0 2 rb_purity_Z_length_2_seed_2\n",
      "2 0 3 rb_purity_Z_length_3_seed_2\n",
      "2 0 4 rb_purity_Z_length_4_seed_2\n",
      "2 1 0 rb_purity_X_length_0_seed_2\n",
      "2 1 1 rb_purity_X_length_1_seed_2\n",
      "2 1 2 rb_purity_X_length_2_seed_2\n",
      "2 1 3 rb_purity_X_length_3_seed_2\n",
      "2 1 4 rb_purity_X_length_4_seed_2\n",
      "2 2 0 rb_purity_Y_length_0_seed_2\n",
      "2 2 1 rb_purity_Y_length_1_seed_2\n",
      "2 2 2 rb_purity_Y_length_2_seed_2\n",
      "2 2 3 rb_purity_Y_length_3_seed_2\n",
      "2 2 4 rb_purity_Y_length_4_seed_2\n",
      "3 0 0 rb_purity_Z_length_0_seed_3\n",
      "3 0 1 rb_purity_Z_length_1_seed_3\n",
      "3 0 2 rb_purity_Z_length_2_seed_3\n",
      "3 0 3 rb_purity_Z_length_3_seed_3\n",
      "3 0 4 rb_purity_Z_length_4_seed_3\n",
      "3 1 0 rb_purity_X_length_0_seed_3\n",
      "3 1 1 rb_purity_X_length_1_seed_3\n",
      "3 1 2 rb_purity_X_length_2_seed_3\n",
      "3 1 3 rb_purity_X_length_3_seed_3\n",
      "3 1 4 rb_purity_X_length_4_seed_3\n",
      "3 2 0 rb_purity_Y_length_0_seed_3\n",
      "3 2 1 rb_purity_Y_length_1_seed_3\n",
      "3 2 2 rb_purity_Y_length_2_seed_3\n",
      "3 2 3 rb_purity_Y_length_3_seed_3\n",
      "3 2 4 rb_purity_Y_length_4_seed_3\n",
      "4 0 0 rb_purity_Z_length_0_seed_4\n",
      "4 0 1 rb_purity_Z_length_1_seed_4\n",
      "4 0 2 rb_purity_Z_length_2_seed_4\n",
      "4 0 3 rb_purity_Z_length_3_seed_4\n",
      "4 0 4 rb_purity_Z_length_4_seed_4\n",
      "4 1 0 rb_purity_X_length_0_seed_4\n",
      "4 1 1 rb_purity_X_length_1_seed_4\n",
      "4 1 2 rb_purity_X_length_2_seed_4\n",
      "4 1 3 rb_purity_X_length_3_seed_4\n",
      "4 1 4 rb_purity_X_length_4_seed_4\n",
      "4 2 0 rb_purity_Y_length_0_seed_4\n",
      "4 2 1 rb_purity_Y_length_1_seed_4\n",
      "4 2 2 rb_purity_Y_length_2_seed_4\n",
      "4 2 3 rb_purity_Y_length_3_seed_4\n",
      "4 2 4 rb_purity_Y_length_4_seed_4\n"
     ]
    }
   ],
   "source": [
    "for i in range(len(rb_purity_circs)):\n",
    "    for j in range(len(rb_purity_circs[i])):\n",
    "        for k in range(len(rb_purity_circs[i][j])):\n",
    "            print (i,j,k, rb_purity_circs[i][j][k].name)"
   ]
  },
  {
   "cell_type": "code",
   "execution_count": 5,
   "metadata": {},
   "outputs": [
    {
     "name": "stdout",
     "output_type": "stream",
     "text": [
      "         ┌─────┐ ┌───┐   ░  ┌───┐┌───┐┌─┐                            \n",
      "qr_0: |0>┤ Sdg ├─┤ H ├───░──┤ H ├┤ S ├┤M├────────────────────────────\n",
      "         └┬───┬┘ ├───┤ ┌───┐└─░─┘├───┤└╥┘┌─────┐┌───┐┌─┐             \n",
      "qr_1: |0>─┤ H ├──┤ S ├─┤ X ├──░──┤ X ├─╫─┤ Sdg ├┤ H ├┤M├─────────────\n",
      "          ├───┤ ┌┴───┴┐├───┤┌───┐└─░─┘ ║ └┬───┬┘├───┤└╥┘┌───┐┌───┐┌─┐\n",
      "qr_2: |0>─┤ H ├─┤ Sdg ├┤ H ├┤ Y ├──░───╫──┤ Y ├─┤ H ├─╫─┤ S ├┤ H ├┤M├\n",
      "          └───┘ └─────┘└───┘└───┘  ░   ║  └───┘ └───┘ ║ └───┘└───┘└╥┘\n",
      " cr_0: 0 ══════════════════════════════╩══════════════╬════════════╬═\n",
      "                                                      ║            ║ \n",
      " cr_1: 0 ═════════════════════════════════════════════╩════════════╬═\n",
      "                                                                   ║ \n",
      " cr_2: 0 ══════════════════════════════════════════════════════════╩═\n",
      "                                                                     \n"
     ]
    }
   ],
   "source": [
    "print (rb_purity_circs[0][0][0])"
   ]
  },
  {
   "cell_type": "code",
   "execution_count": 6,
   "metadata": {},
   "outputs": [
    {
     "name": "stdout",
     "output_type": "stream",
     "text": [
      "         ┌─────┐ ┌───┐   ░  ┌───┐┌───┐┌────────────┐┌─┐                      »\n",
      "qr_0: |0>┤ Sdg ├─┤ H ├───░──┤ H ├┤ S ├┤ Rx(1.5708) ├┤M├──────────────────────»\n",
      "         └┬───┬┘ ├───┤ ┌───┐└─░─┘├───┤└──┬─────┬───┘└╥┘┌───┐┌────────────┐┌─┐»\n",
      "qr_1: |0>─┤ H ├──┤ S ├─┤ X ├──░──┤ X ├───┤ Sdg ├─────╫─┤ H ├┤ Rx(1.5708) ├┤M├»\n",
      "          ├───┤ ┌┴───┴┐├───┤┌───┐└─░─┘   └┬───┬┘     ║ ├───┤└───┬───┬────┘└╥┘»\n",
      "qr_2: |0>─┤ H ├─┤ Sdg ├┤ H ├┤ Y ├──░──────┤ Y ├──────╫─┤ H ├────┤ S ├──────╫─»\n",
      "          └───┘ └─────┘└───┘└───┘  ░      └───┘      ║ └───┘    └───┘      ║ »\n",
      " cr_0: 0 ════════════════════════════════════════════╩═════════════════════╬═»\n",
      "                                                                           ║ »\n",
      " cr_1: 0 ══════════════════════════════════════════════════════════════════╩═»\n",
      "                                                                             »\n",
      " cr_2: 0 ════════════════════════════════════════════════════════════════════»\n",
      "                                                                             »\n",
      "«                            \n",
      "«qr_0: ──────────────────────\n",
      "«                            \n",
      "«qr_1: ──────────────────────\n",
      "«      ┌───┐┌────────────┐┌─┐\n",
      "«qr_2: ┤ H ├┤ Rx(1.5708) ├┤M├\n",
      "«      └───┘└────────────┘└╥┘\n",
      "«cr_0: ════════════════════╬═\n",
      "«                          ║ \n",
      "«cr_1: ════════════════════╬═\n",
      "«                          ║ \n",
      "«cr_2: ════════════════════╩═\n",
      "«                            \n"
     ]
    }
   ],
   "source": [
    "print (rb_purity_circs[0][1][0])"
   ]
  },
  {
   "cell_type": "code",
   "execution_count": 7,
   "metadata": {},
   "outputs": [
    {
     "name": "stdout",
     "output_type": "stream",
     "text": [
      "         ┌─────┐ ┌───┐   ░  ┌───┐┌───┐┌────────────┐┌─┐                      »\n",
      "qr_0: |0>┤ Sdg ├─┤ H ├───░──┤ H ├┤ S ├┤ Ry(1.5708) ├┤M├──────────────────────»\n",
      "         └┬───┬┘ ├───┤ ┌───┐└─░─┘├───┤└──┬─────┬───┘└╥┘┌───┐┌────────────┐┌─┐»\n",
      "qr_1: |0>─┤ H ├──┤ S ├─┤ X ├──░──┤ X ├───┤ Sdg ├─────╫─┤ H ├┤ Ry(1.5708) ├┤M├»\n",
      "          ├───┤ ┌┴───┴┐├───┤┌───┐└─░─┘   └┬───┬┘     ║ ├───┤└───┬───┬────┘└╥┘»\n",
      "qr_2: |0>─┤ H ├─┤ Sdg ├┤ H ├┤ Y ├──░──────┤ Y ├──────╫─┤ H ├────┤ S ├──────╫─»\n",
      "          └───┘ └─────┘└───┘└───┘  ░      └───┘      ║ └───┘    └───┘      ║ »\n",
      " cr_0: 0 ════════════════════════════════════════════╩═════════════════════╬═»\n",
      "                                                                           ║ »\n",
      " cr_1: 0 ══════════════════════════════════════════════════════════════════╩═»\n",
      "                                                                             »\n",
      " cr_2: 0 ════════════════════════════════════════════════════════════════════»\n",
      "                                                                             »\n",
      "«                            \n",
      "«qr_0: ──────────────────────\n",
      "«                            \n",
      "«qr_1: ──────────────────────\n",
      "«      ┌───┐┌────────────┐┌─┐\n",
      "«qr_2: ┤ H ├┤ Ry(1.5708) ├┤M├\n",
      "«      └───┘└────────────┘└╥┘\n",
      "«cr_0: ════════════════════╬═\n",
      "«                          ║ \n",
      "«cr_1: ════════════════════╬═\n",
      "«                          ║ \n",
      "«cr_2: ════════════════════╩═\n",
      "«                            \n"
     ]
    }
   ],
   "source": [
    "print (rb_purity_circs[0][2][0])"
   ]
  },
  {
   "cell_type": "code",
   "execution_count": 8,
   "metadata": {},
   "outputs": [
    {
     "name": "stdout",
     "output_type": "stream",
     "text": [
      "5\n"
     ]
    }
   ],
   "source": [
    "# Example of 2-qubits Purity RB\n",
    "#Number of qubits\n",
    "nQ = 4\n",
    "#Number of seeds (random sequences)\n",
    "nseeds = 3\n",
    "#Number of Cliffords in the sequence (start, stop, steps)\n",
    "nCliffs = np.arange(1,40,8)\n",
    "print (len(nCliffs))\n",
    "#2Q RB on Q0,Q2 and 1Q RB on Q1\n",
    "rb_pattern = [[0,1],[2,3]]"
   ]
  },
  {
   "cell_type": "code",
   "execution_count": 9,
   "metadata": {},
   "outputs": [
    {
     "name": "stdout",
     "output_type": "stream",
     "text": [
      "9\n"
     ]
    }
   ],
   "source": [
    "rb_opts = {}\n",
    "rb_opts['length_vector'] = nCliffs\n",
    "rb_opts['nseeds'] = nseeds\n",
    "rb_opts['rb_pattern'] = rb_pattern\n",
    "rb_opts['is_purity'] = True\n",
    "rb_purity_circs, xdata, npurity = rb.randomized_benchmarking_seq(**rb_opts)\n",
    "print (npurity)"
   ]
  },
  {
   "cell_type": "code",
   "execution_count": 10,
   "metadata": {},
   "outputs": [
    {
     "name": "stdout",
     "output_type": "stream",
     "text": [
      "0 0 0 rb_purity_ZZ_length_0_seed_0\n",
      "0 0 1 rb_purity_ZZ_length_1_seed_0\n",
      "0 0 2 rb_purity_ZZ_length_2_seed_0\n",
      "0 0 3 rb_purity_ZZ_length_3_seed_0\n",
      "0 0 4 rb_purity_ZZ_length_4_seed_0\n",
      "0 1 0 rb_purity_XZ_length_0_seed_0\n",
      "0 1 1 rb_purity_XZ_length_1_seed_0\n",
      "0 1 2 rb_purity_XZ_length_2_seed_0\n",
      "0 1 3 rb_purity_XZ_length_3_seed_0\n",
      "0 1 4 rb_purity_XZ_length_4_seed_0\n",
      "0 2 0 rb_purity_YZ_length_0_seed_0\n",
      "0 2 1 rb_purity_YZ_length_1_seed_0\n",
      "0 2 2 rb_purity_YZ_length_2_seed_0\n",
      "0 2 3 rb_purity_YZ_length_3_seed_0\n",
      "0 2 4 rb_purity_YZ_length_4_seed_0\n",
      "0 3 0 rb_purity_ZX_length_0_seed_0\n",
      "0 3 1 rb_purity_ZX_length_1_seed_0\n",
      "0 3 2 rb_purity_ZX_length_2_seed_0\n",
      "0 3 3 rb_purity_ZX_length_3_seed_0\n",
      "0 3 4 rb_purity_ZX_length_4_seed_0\n",
      "0 4 0 rb_purity_XX_length_0_seed_0\n",
      "0 4 1 rb_purity_XX_length_1_seed_0\n",
      "0 4 2 rb_purity_XX_length_2_seed_0\n",
      "0 4 3 rb_purity_XX_length_3_seed_0\n",
      "0 4 4 rb_purity_XX_length_4_seed_0\n",
      "0 5 0 rb_purity_YX_length_0_seed_0\n",
      "0 5 1 rb_purity_YX_length_1_seed_0\n",
      "0 5 2 rb_purity_YX_length_2_seed_0\n",
      "0 5 3 rb_purity_YX_length_3_seed_0\n",
      "0 5 4 rb_purity_YX_length_4_seed_0\n",
      "0 6 0 rb_purity_ZY_length_0_seed_0\n",
      "0 6 1 rb_purity_ZY_length_1_seed_0\n",
      "0 6 2 rb_purity_ZY_length_2_seed_0\n",
      "0 6 3 rb_purity_ZY_length_3_seed_0\n",
      "0 6 4 rb_purity_ZY_length_4_seed_0\n",
      "0 7 0 rb_purity_XY_length_0_seed_0\n",
      "0 7 1 rb_purity_XY_length_1_seed_0\n",
      "0 7 2 rb_purity_XY_length_2_seed_0\n",
      "0 7 3 rb_purity_XY_length_3_seed_0\n",
      "0 7 4 rb_purity_XY_length_4_seed_0\n",
      "0 8 0 rb_purity_YY_length_0_seed_0\n",
      "0 8 1 rb_purity_YY_length_1_seed_0\n",
      "0 8 2 rb_purity_YY_length_2_seed_0\n",
      "0 8 3 rb_purity_YY_length_3_seed_0\n",
      "0 8 4 rb_purity_YY_length_4_seed_0\n",
      "1 0 0 rb_purity_ZZ_length_0_seed_1\n",
      "1 0 1 rb_purity_ZZ_length_1_seed_1\n",
      "1 0 2 rb_purity_ZZ_length_2_seed_1\n",
      "1 0 3 rb_purity_ZZ_length_3_seed_1\n",
      "1 0 4 rb_purity_ZZ_length_4_seed_1\n",
      "1 1 0 rb_purity_XZ_length_0_seed_1\n",
      "1 1 1 rb_purity_XZ_length_1_seed_1\n",
      "1 1 2 rb_purity_XZ_length_2_seed_1\n",
      "1 1 3 rb_purity_XZ_length_3_seed_1\n",
      "1 1 4 rb_purity_XZ_length_4_seed_1\n",
      "1 2 0 rb_purity_YZ_length_0_seed_1\n",
      "1 2 1 rb_purity_YZ_length_1_seed_1\n",
      "1 2 2 rb_purity_YZ_length_2_seed_1\n",
      "1 2 3 rb_purity_YZ_length_3_seed_1\n",
      "1 2 4 rb_purity_YZ_length_4_seed_1\n",
      "1 3 0 rb_purity_ZX_length_0_seed_1\n",
      "1 3 1 rb_purity_ZX_length_1_seed_1\n",
      "1 3 2 rb_purity_ZX_length_2_seed_1\n",
      "1 3 3 rb_purity_ZX_length_3_seed_1\n",
      "1 3 4 rb_purity_ZX_length_4_seed_1\n",
      "1 4 0 rb_purity_XX_length_0_seed_1\n",
      "1 4 1 rb_purity_XX_length_1_seed_1\n",
      "1 4 2 rb_purity_XX_length_2_seed_1\n",
      "1 4 3 rb_purity_XX_length_3_seed_1\n",
      "1 4 4 rb_purity_XX_length_4_seed_1\n",
      "1 5 0 rb_purity_YX_length_0_seed_1\n",
      "1 5 1 rb_purity_YX_length_1_seed_1\n",
      "1 5 2 rb_purity_YX_length_2_seed_1\n",
      "1 5 3 rb_purity_YX_length_3_seed_1\n",
      "1 5 4 rb_purity_YX_length_4_seed_1\n",
      "1 6 0 rb_purity_ZY_length_0_seed_1\n",
      "1 6 1 rb_purity_ZY_length_1_seed_1\n",
      "1 6 2 rb_purity_ZY_length_2_seed_1\n",
      "1 6 3 rb_purity_ZY_length_3_seed_1\n",
      "1 6 4 rb_purity_ZY_length_4_seed_1\n",
      "1 7 0 rb_purity_XY_length_0_seed_1\n",
      "1 7 1 rb_purity_XY_length_1_seed_1\n",
      "1 7 2 rb_purity_XY_length_2_seed_1\n",
      "1 7 3 rb_purity_XY_length_3_seed_1\n",
      "1 7 4 rb_purity_XY_length_4_seed_1\n",
      "1 8 0 rb_purity_YY_length_0_seed_1\n",
      "1 8 1 rb_purity_YY_length_1_seed_1\n",
      "1 8 2 rb_purity_YY_length_2_seed_1\n",
      "1 8 3 rb_purity_YY_length_3_seed_1\n",
      "1 8 4 rb_purity_YY_length_4_seed_1\n",
      "2 0 0 rb_purity_ZZ_length_0_seed_2\n",
      "2 0 1 rb_purity_ZZ_length_1_seed_2\n",
      "2 0 2 rb_purity_ZZ_length_2_seed_2\n",
      "2 0 3 rb_purity_ZZ_length_3_seed_2\n",
      "2 0 4 rb_purity_ZZ_length_4_seed_2\n",
      "2 1 0 rb_purity_XZ_length_0_seed_2\n",
      "2 1 1 rb_purity_XZ_length_1_seed_2\n",
      "2 1 2 rb_purity_XZ_length_2_seed_2\n",
      "2 1 3 rb_purity_XZ_length_3_seed_2\n",
      "2 1 4 rb_purity_XZ_length_4_seed_2\n",
      "2 2 0 rb_purity_YZ_length_0_seed_2\n",
      "2 2 1 rb_purity_YZ_length_1_seed_2\n",
      "2 2 2 rb_purity_YZ_length_2_seed_2\n",
      "2 2 3 rb_purity_YZ_length_3_seed_2\n",
      "2 2 4 rb_purity_YZ_length_4_seed_2\n",
      "2 3 0 rb_purity_ZX_length_0_seed_2\n",
      "2 3 1 rb_purity_ZX_length_1_seed_2\n",
      "2 3 2 rb_purity_ZX_length_2_seed_2\n",
      "2 3 3 rb_purity_ZX_length_3_seed_2\n",
      "2 3 4 rb_purity_ZX_length_4_seed_2\n",
      "2 4 0 rb_purity_XX_length_0_seed_2\n",
      "2 4 1 rb_purity_XX_length_1_seed_2\n",
      "2 4 2 rb_purity_XX_length_2_seed_2\n",
      "2 4 3 rb_purity_XX_length_3_seed_2\n",
      "2 4 4 rb_purity_XX_length_4_seed_2\n",
      "2 5 0 rb_purity_YX_length_0_seed_2\n",
      "2 5 1 rb_purity_YX_length_1_seed_2\n",
      "2 5 2 rb_purity_YX_length_2_seed_2\n",
      "2 5 3 rb_purity_YX_length_3_seed_2\n",
      "2 5 4 rb_purity_YX_length_4_seed_2\n",
      "2 6 0 rb_purity_ZY_length_0_seed_2\n",
      "2 6 1 rb_purity_ZY_length_1_seed_2\n",
      "2 6 2 rb_purity_ZY_length_2_seed_2\n",
      "2 6 3 rb_purity_ZY_length_3_seed_2\n",
      "2 6 4 rb_purity_ZY_length_4_seed_2\n",
      "2 7 0 rb_purity_XY_length_0_seed_2\n",
      "2 7 1 rb_purity_XY_length_1_seed_2\n",
      "2 7 2 rb_purity_XY_length_2_seed_2\n",
      "2 7 3 rb_purity_XY_length_3_seed_2\n",
      "2 7 4 rb_purity_XY_length_4_seed_2\n",
      "2 8 0 rb_purity_YY_length_0_seed_2\n",
      "2 8 1 rb_purity_YY_length_1_seed_2\n",
      "2 8 2 rb_purity_YY_length_2_seed_2\n",
      "2 8 3 rb_purity_YY_length_3_seed_2\n",
      "2 8 4 rb_purity_YY_length_4_seed_2\n"
     ]
    }
   ],
   "source": [
    "for i in range(len(rb_purity_circs)):\n",
    "    for j in range(len(rb_purity_circs[i])):\n",
    "        for k in range(len(rb_purity_circs[i][j])):\n",
    "            print (i,j,k, rb_purity_circs[i][j][k].name)"
   ]
  },
  {
   "cell_type": "code",
   "execution_count": 11,
   "metadata": {},
   "outputs": [
    {
     "name": "stdout",
     "output_type": "stream",
     "text": [
      "                          ┌───┐┌─────┐┌───┐┌───┐ ░  ┌───┐ ┌───┐┌───┐┌───┐     »\n",
      "qr_0: |0>──────────────■──┤ X ├┤ Sdg ├┤ H ├┤ Y ├─░──┤ Y ├─┤ H ├┤ S ├┤ X ├──■──»\n",
      "          ┌───┐ ┌───┐┌─┴─┐└─┬─┘└┬───┬┘├───┤└───┘ ░ ┌┴───┴┐├───┤└───┘└─┬─┘┌─┴─┐»\n",
      "qr_1: |0>─┤ H ├─┤ S ├┤ X ├──■───┤ H ├─┤ S ├──────░─┤ Sdg ├┤ H ├───────■──┤ X ├»\n",
      "          ├───┤ └───┘└───┘┌───┐ ├───┤ └───┘      ░ └┬───┬┘└───┘     ┌───┐└───┘»\n",
      "qr_2: |0>─┤ H ├────────■──┤ X ├─┤ X ├────────────░──┤ X ├───────────┤ X ├──■──»\n",
      "         ┌┴───┴┐┌───┐┌─┴─┐└─┬─┘┌┴───┴┐┌───┐┌───┐ ░  ├───┤ ┌───┐┌───┐└─┬─┘┌─┴─┐»\n",
      "qr_3: |0>┤ Sdg ├┤ H ├┤ X ├──■──┤ Sdg ├┤ H ├┤ X ├─░──┤ X ├─┤ H ├┤ S ├──■──┤ X ├»\n",
      "         └─────┘└───┘└───┘     └─────┘└───┘└───┘ ░  └───┘ └───┘└───┘     └───┘»\n",
      " cr_0: 0 ═════════════════════════════════════════════════════════════════════»\n",
      "                                                                              »\n",
      " cr_1: 0 ═════════════════════════════════════════════════════════════════════»\n",
      "                                                                              »\n",
      " cr_2: 0 ═════════════════════════════════════════════════════════════════════»\n",
      "                                                                              »\n",
      " cr_3: 0 ═════════════════════════════════════════════════════════════════════»\n",
      "                                                                              »\n",
      "«      ┌─┐                     \n",
      "«qr_0: ┤M├─────────────────────\n",
      "«      └╥┘┌─────┐   ┌───┐┌─┐   \n",
      "«qr_1: ─╫─┤ Sdg ├───┤ H ├┤M├───\n",
      "«       ║ └┬───┬┘┌─┐└───┘└╥┘   \n",
      "«qr_2: ─╫──┤ H ├─┤M├──────╫────\n",
      "«       ║  ├───┤ └╥┘┌───┐ ║ ┌─┐\n",
      "«qr_3: ─╫──┤ H ├──╫─┤ S ├─╫─┤M├\n",
      "«       ║  └───┘  ║ └───┘ ║ └╥┘\n",
      "«cr_0: ═╩═════════╬═══════╬══╬═\n",
      "«                 ║       ║  ║ \n",
      "«cr_1: ═══════════╬═══════╩══╬═\n",
      "«                 ║          ║ \n",
      "«cr_2: ═══════════╩══════════╬═\n",
      "«                            ║ \n",
      "«cr_3: ══════════════════════╩═\n",
      "«                              \n"
     ]
    }
   ],
   "source": [
    "print (rb_purity_circs[0][0][0])"
   ]
  },
  {
   "cell_type": "code",
   "execution_count": 12,
   "metadata": {},
   "outputs": [
    {
     "name": "stdout",
     "output_type": "stream",
     "text": [
      "                          ┌───┐┌─────┐┌───┐┌───┐ ░  ┌───┐ ┌───┐┌───┐┌───┐     »\n",
      "qr_0: |0>──────────────■──┤ X ├┤ Sdg ├┤ H ├┤ Y ├─░──┤ Y ├─┤ H ├┤ S ├┤ X ├──■──»\n",
      "          ┌───┐ ┌───┐┌─┴─┐└─┬─┘└┬───┬┘├───┤└───┘ ░ ┌┴───┴┐├───┤└───┘└─┬─┘┌─┴─┐»\n",
      "qr_1: |0>─┤ H ├─┤ S ├┤ X ├──■───┤ H ├─┤ S ├──────░─┤ Sdg ├┤ H ├───────■──┤ X ├»\n",
      "          ├───┤ └───┘└───┘┌───┐ ├───┤ └───┘      ░ └┬───┬┘└───┘     ┌───┐└───┘»\n",
      "qr_2: |0>─┤ H ├────────■──┤ X ├─┤ X ├────────────░──┤ X ├───────────┤ X ├──■──»\n",
      "         ┌┴───┴┐┌───┐┌─┴─┐└─┬─┘┌┴───┴┐┌───┐┌───┐ ░  ├───┤ ┌───┐┌───┐└─┬─┘┌─┴─┐»\n",
      "qr_3: |0>┤ Sdg ├┤ H ├┤ X ├──■──┤ Sdg ├┤ H ├┤ X ├─░──┤ X ├─┤ H ├┤ S ├──■──┤ X ├»\n",
      "         └─────┘└───┘└───┘     └─────┘└───┘└───┘ ░  └───┘ └───┘└───┘     └───┘»\n",
      " cr_0: 0 ═════════════════════════════════════════════════════════════════════»\n",
      "                                                                              »\n",
      " cr_1: 0 ═════════════════════════════════════════════════════════════════════»\n",
      "                                                                              »\n",
      " cr_2: 0 ═════════════════════════════════════════════════════════════════════»\n",
      "                                                                              »\n",
      " cr_3: 0 ═════════════════════════════════════════════════════════════════════»\n",
      "                                                                              »\n",
      "«      ┌────────────┐┌─┐                       \n",
      "«qr_0: ┤ Rx(1.5708) ├┤M├───────────────────────\n",
      "«      └──┬─────┬───┘└╥┘    ┌───┐     ┌─┐      \n",
      "«qr_1: ───┤ Sdg ├─────╫─────┤ H ├─────┤M├──────\n",
      "«         └┬───┬┘     ║ ┌───┴───┴────┐└╥┘┌─┐   \n",
      "«qr_2: ────┤ H ├──────╫─┤ Rx(1.5708) ├─╫─┤M├───\n",
      "«          ├───┤      ║ └───┬───┬────┘ ║ └╥┘┌─┐\n",
      "«qr_3: ────┤ H ├──────╫─────┤ S ├──────╫──╫─┤M├\n",
      "«          └───┘      ║     └───┘      ║  ║ └╥┘\n",
      "«cr_0: ═══════════════╩════════════════╬══╬══╬═\n",
      "«                                      ║  ║  ║ \n",
      "«cr_1: ════════════════════════════════╩══╬══╬═\n",
      "«                                         ║  ║ \n",
      "«cr_2: ═══════════════════════════════════╩══╬═\n",
      "«                                            ║ \n",
      "«cr_3: ══════════════════════════════════════╩═\n",
      "«                                              \n"
     ]
    }
   ],
   "source": [
    "print (rb_purity_circs[0][1][0])"
   ]
  },
  {
   "cell_type": "code",
   "execution_count": 13,
   "metadata": {},
   "outputs": [
    {
     "name": "stdout",
     "output_type": "stream",
     "text": [
      "                          ┌───┐┌─────┐┌───┐┌───┐ ░  ┌───┐ ┌───┐┌───┐┌───┐     »\n",
      "qr_0: |0>──────────────■──┤ X ├┤ Sdg ├┤ H ├┤ Y ├─░──┤ Y ├─┤ H ├┤ S ├┤ X ├──■──»\n",
      "          ┌───┐ ┌───┐┌─┴─┐└─┬─┘└┬───┬┘├───┤└───┘ ░ ┌┴───┴┐├───┤└───┘└─┬─┘┌─┴─┐»\n",
      "qr_1: |0>─┤ H ├─┤ S ├┤ X ├──■───┤ H ├─┤ S ├──────░─┤ Sdg ├┤ H ├───────■──┤ X ├»\n",
      "          ├───┤ └───┘└───┘┌───┐ ├───┤ └───┘      ░ └┬───┬┘└───┘     ┌───┐└───┘»\n",
      "qr_2: |0>─┤ H ├────────■──┤ X ├─┤ X ├────────────░──┤ X ├───────────┤ X ├──■──»\n",
      "         ┌┴───┴┐┌───┐┌─┴─┐└─┬─┘┌┴───┴┐┌───┐┌───┐ ░  ├───┤ ┌───┐┌───┐└─┬─┘┌─┴─┐»\n",
      "qr_3: |0>┤ Sdg ├┤ H ├┤ X ├──■──┤ Sdg ├┤ H ├┤ X ├─░──┤ X ├─┤ H ├┤ S ├──■──┤ X ├»\n",
      "         └─────┘└───┘└───┘     └─────┘└───┘└───┘ ░  └───┘ └───┘└───┘     └───┘»\n",
      " cr_0: 0 ═════════════════════════════════════════════════════════════════════»\n",
      "                                                                              »\n",
      " cr_1: 0 ═════════════════════════════════════════════════════════════════════»\n",
      "                                                                              »\n",
      " cr_2: 0 ═════════════════════════════════════════════════════════════════════»\n",
      "                                                                              »\n",
      " cr_3: 0 ═════════════════════════════════════════════════════════════════════»\n",
      "                                                                              »\n",
      "«      ┌────────────┐┌─┐                       \n",
      "«qr_0: ┤ Ry(1.5708) ├┤M├───────────────────────\n",
      "«      └──┬─────┬───┘└╥┘    ┌───┐     ┌─┐      \n",
      "«qr_1: ───┤ Sdg ├─────╫─────┤ H ├─────┤M├──────\n",
      "«         └┬───┬┘     ║ ┌───┴───┴────┐└╥┘┌─┐   \n",
      "«qr_2: ────┤ H ├──────╫─┤ Ry(1.5708) ├─╫─┤M├───\n",
      "«          ├───┤      ║ └───┬───┬────┘ ║ └╥┘┌─┐\n",
      "«qr_3: ────┤ H ├──────╫─────┤ S ├──────╫──╫─┤M├\n",
      "«          └───┘      ║     └───┘      ║  ║ └╥┘\n",
      "«cr_0: ═══════════════╩════════════════╬══╬══╬═\n",
      "«                                      ║  ║  ║ \n",
      "«cr_1: ════════════════════════════════╩══╬══╬═\n",
      "«                                         ║  ║ \n",
      "«cr_2: ═══════════════════════════════════╩══╬═\n",
      "«                                            ║ \n",
      "«cr_3: ══════════════════════════════════════╩═\n",
      "«                                              \n"
     ]
    }
   ],
   "source": [
    "print (rb_purity_circs[0][2][0])"
   ]
  },
  {
   "cell_type": "code",
   "execution_count": 14,
   "metadata": {},
   "outputs": [
    {
     "name": "stdout",
     "output_type": "stream",
     "text": [
      "                          ┌───┐┌─────┐┌───┐┌───┐ ░  ┌───┐ ┌───┐┌───┐┌───┐     »\n",
      "qr_0: |0>──────────────■──┤ X ├┤ Sdg ├┤ H ├┤ Y ├─░──┤ Y ├─┤ H ├┤ S ├┤ X ├──■──»\n",
      "          ┌───┐ ┌───┐┌─┴─┐└─┬─┘└┬───┬┘├───┤└───┘ ░ ┌┴───┴┐├───┤└───┘└─┬─┘┌─┴─┐»\n",
      "qr_1: |0>─┤ H ├─┤ S ├┤ X ├──■───┤ H ├─┤ S ├──────░─┤ Sdg ├┤ H ├───────■──┤ X ├»\n",
      "          ├───┤ └───┘└───┘┌───┐ ├───┤ └───┘      ░ └┬───┬┘└───┘     ┌───┐└───┘»\n",
      "qr_2: |0>─┤ H ├────────■──┤ X ├─┤ X ├────────────░──┤ X ├───────────┤ X ├──■──»\n",
      "         ┌┴───┴┐┌───┐┌─┴─┐└─┬─┘┌┴───┴┐┌───┐┌───┐ ░  ├───┤ ┌───┐┌───┐└─┬─┘┌─┴─┐»\n",
      "qr_3: |0>┤ Sdg ├┤ H ├┤ X ├──■──┤ Sdg ├┤ H ├┤ X ├─░──┤ X ├─┤ H ├┤ S ├──■──┤ X ├»\n",
      "         └─────┘└───┘└───┘     └─────┘└───┘└───┘ ░  └───┘ └───┘└───┘     └───┘»\n",
      " cr_0: 0 ═════════════════════════════════════════════════════════════════════»\n",
      "                                                                              »\n",
      " cr_1: 0 ═════════════════════════════════════════════════════════════════════»\n",
      "                                                                              »\n",
      " cr_2: 0 ═════════════════════════════════════════════════════════════════════»\n",
      "                                                                              »\n",
      " cr_3: 0 ═════════════════════════════════════════════════════════════════════»\n",
      "                                                                              »\n",
      "«      ┌─┐                                   \n",
      "«qr_0: ┤M├───────────────────────────────────\n",
      "«      └╥┘┌─────┐   ┌───┐┌────────────┐┌─┐   \n",
      "«qr_1: ─╫─┤ Sdg ├───┤ H ├┤ Rx(1.5708) ├┤M├───\n",
      "«       ║ └┬───┬┘┌─┐└───┘└────────────┘└╥┘   \n",
      "«qr_2: ─╫──┤ H ├─┤M├────────────────────╫────\n",
      "«       ║  ├───┤ └╥┘┌───┐┌────────────┐ ║ ┌─┐\n",
      "«qr_3: ─╫──┤ H ├──╫─┤ S ├┤ Rx(1.5708) ├─╫─┤M├\n",
      "«       ║  └───┘  ║ └───┘└────────────┘ ║ └╥┘\n",
      "«cr_0: ═╩═════════╬═════════════════════╬══╬═\n",
      "«                 ║                     ║  ║ \n",
      "«cr_1: ═══════════╬═════════════════════╩══╬═\n",
      "«                 ║                        ║ \n",
      "«cr_2: ═══════════╩════════════════════════╬═\n",
      "«                                          ║ \n",
      "«cr_3: ════════════════════════════════════╩═\n",
      "«                                            \n"
     ]
    }
   ],
   "source": [
    "print (rb_purity_circs[0][3][0])"
   ]
  },
  {
   "cell_type": "code",
   "execution_count": 15,
   "metadata": {},
   "outputs": [
    {
     "name": "stdout",
     "output_type": "stream",
     "text": [
      "                          ┌───┐┌─────┐┌───┐┌───┐ ░  ┌───┐ ┌───┐┌───┐┌───┐     »\n",
      "qr_0: |0>──────────────■──┤ X ├┤ Sdg ├┤ H ├┤ Y ├─░──┤ Y ├─┤ H ├┤ S ├┤ X ├──■──»\n",
      "          ┌───┐ ┌───┐┌─┴─┐└─┬─┘└┬───┬┘├───┤└───┘ ░ ┌┴───┴┐├───┤└───┘└─┬─┘┌─┴─┐»\n",
      "qr_1: |0>─┤ H ├─┤ S ├┤ X ├──■───┤ H ├─┤ S ├──────░─┤ Sdg ├┤ H ├───────■──┤ X ├»\n",
      "          ├───┤ └───┘└───┘┌───┐ ├───┤ └───┘      ░ └┬───┬┘└───┘     ┌───┐└───┘»\n",
      "qr_2: |0>─┤ H ├────────■──┤ X ├─┤ X ├────────────░──┤ X ├───────────┤ X ├──■──»\n",
      "         ┌┴───┴┐┌───┐┌─┴─┐└─┬─┘┌┴───┴┐┌───┐┌───┐ ░  ├───┤ ┌───┐┌───┐└─┬─┘┌─┴─┐»\n",
      "qr_3: |0>┤ Sdg ├┤ H ├┤ X ├──■──┤ Sdg ├┤ H ├┤ X ├─░──┤ X ├─┤ H ├┤ S ├──■──┤ X ├»\n",
      "         └─────┘└───┘└───┘     └─────┘└───┘└───┘ ░  └───┘ └───┘└───┘     └───┘»\n",
      " cr_0: 0 ═════════════════════════════════════════════════════════════════════»\n",
      "                                                                              »\n",
      " cr_1: 0 ═════════════════════════════════════════════════════════════════════»\n",
      "                                                                              »\n",
      " cr_2: 0 ═════════════════════════════════════════════════════════════════════»\n",
      "                                                                              »\n",
      " cr_3: 0 ═════════════════════════════════════════════════════════════════════»\n",
      "                                                                              »\n",
      "«      ┌────────────┐┌─┐                                     \n",
      "«qr_0: ┤ Rx(1.5708) ├┤M├─────────────────────────────────────\n",
      "«      └──┬─────┬───┘└╥┘    ┌───┐        ┌────────────┐┌─┐   \n",
      "«qr_1: ───┤ Sdg ├─────╫─────┤ H ├────────┤ Rx(1.5708) ├┤M├───\n",
      "«         └┬───┬┘     ║ ┌───┴───┴────┐┌─┐└────────────┘└╥┘   \n",
      "«qr_2: ────┤ H ├──────╫─┤ Rx(1.5708) ├┤M├───────────────╫────\n",
      "«          ├───┤      ║ └───┬───┬────┘└╥┘┌────────────┐ ║ ┌─┐\n",
      "«qr_3: ────┤ H ├──────╫─────┤ S ├──────╫─┤ Rx(1.5708) ├─╫─┤M├\n",
      "«          └───┘      ║     └───┘      ║ └────────────┘ ║ └╥┘\n",
      "«cr_0: ═══════════════╩════════════════╬════════════════╬══╬═\n",
      "«                                      ║                ║  ║ \n",
      "«cr_1: ════════════════════════════════╬════════════════╩══╬═\n",
      "«                                      ║                   ║ \n",
      "«cr_2: ════════════════════════════════╩═══════════════════╬═\n",
      "«                                                          ║ \n",
      "«cr_3: ════════════════════════════════════════════════════╩═\n",
      "«                                                            \n"
     ]
    }
   ],
   "source": [
    "print (rb_purity_circs[0][4][0])"
   ]
  },
  {
   "cell_type": "code",
   "execution_count": 16,
   "metadata": {},
   "outputs": [
    {
     "name": "stdout",
     "output_type": "stream",
     "text": [
      "                          ┌───┐┌─────┐┌───┐┌───┐ ░  ┌───┐ ┌───┐┌───┐┌───┐     »\n",
      "qr_0: |0>──────────────■──┤ X ├┤ Sdg ├┤ H ├┤ Y ├─░──┤ Y ├─┤ H ├┤ S ├┤ X ├──■──»\n",
      "          ┌───┐ ┌───┐┌─┴─┐└─┬─┘└┬───┬┘├───┤└───┘ ░ ┌┴───┴┐├───┤└───┘└─┬─┘┌─┴─┐»\n",
      "qr_1: |0>─┤ H ├─┤ S ├┤ X ├──■───┤ H ├─┤ S ├──────░─┤ Sdg ├┤ H ├───────■──┤ X ├»\n",
      "          ├───┤ └───┘└───┘┌───┐ ├───┤ └───┘      ░ └┬───┬┘└───┘     ┌───┐└───┘»\n",
      "qr_2: |0>─┤ H ├────────■──┤ X ├─┤ X ├────────────░──┤ X ├───────────┤ X ├──■──»\n",
      "         ┌┴───┴┐┌───┐┌─┴─┐└─┬─┘┌┴───┴┐┌───┐┌───┐ ░  ├───┤ ┌───┐┌───┐└─┬─┘┌─┴─┐»\n",
      "qr_3: |0>┤ Sdg ├┤ H ├┤ X ├──■──┤ Sdg ├┤ H ├┤ X ├─░──┤ X ├─┤ H ├┤ S ├──■──┤ X ├»\n",
      "         └─────┘└───┘└───┘     └─────┘└───┘└───┘ ░  └───┘ └───┘└───┘     └───┘»\n",
      " cr_0: 0 ═════════════════════════════════════════════════════════════════════»\n",
      "                                                                              »\n",
      " cr_1: 0 ═════════════════════════════════════════════════════════════════════»\n",
      "                                                                              »\n",
      " cr_2: 0 ═════════════════════════════════════════════════════════════════════»\n",
      "                                                                              »\n",
      " cr_3: 0 ═════════════════════════════════════════════════════════════════════»\n",
      "                                                                              »\n",
      "«      ┌────────────┐┌─┐                                     \n",
      "«qr_0: ┤ Ry(1.5708) ├┤M├─────────────────────────────────────\n",
      "«      └──┬─────┬───┘└╥┘    ┌───┐        ┌────────────┐┌─┐   \n",
      "«qr_1: ───┤ Sdg ├─────╫─────┤ H ├────────┤ Rx(1.5708) ├┤M├───\n",
      "«         └┬───┬┘     ║ ┌───┴───┴────┐┌─┐└────────────┘└╥┘   \n",
      "«qr_2: ────┤ H ├──────╫─┤ Ry(1.5708) ├┤M├───────────────╫────\n",
      "«          ├───┤      ║ └───┬───┬────┘└╥┘┌────────────┐ ║ ┌─┐\n",
      "«qr_3: ────┤ H ├──────╫─────┤ S ├──────╫─┤ Rx(1.5708) ├─╫─┤M├\n",
      "«          └───┘      ║     └───┘      ║ └────────────┘ ║ └╥┘\n",
      "«cr_0: ═══════════════╩════════════════╬════════════════╬══╬═\n",
      "«                                      ║                ║  ║ \n",
      "«cr_1: ════════════════════════════════╬════════════════╩══╬═\n",
      "«                                      ║                   ║ \n",
      "«cr_2: ════════════════════════════════╩═══════════════════╬═\n",
      "«                                                          ║ \n",
      "«cr_3: ════════════════════════════════════════════════════╩═\n",
      "«                                                            \n"
     ]
    }
   ],
   "source": [
    "print (rb_purity_circs[0][5][0])"
   ]
  },
  {
   "cell_type": "code",
   "execution_count": 17,
   "metadata": {},
   "outputs": [
    {
     "name": "stdout",
     "output_type": "stream",
     "text": [
      "                          ┌───┐┌─────┐┌───┐┌───┐ ░  ┌───┐ ┌───┐┌───┐┌───┐     »\n",
      "qr_0: |0>──────────────■──┤ X ├┤ Sdg ├┤ H ├┤ Y ├─░──┤ Y ├─┤ H ├┤ S ├┤ X ├──■──»\n",
      "          ┌───┐ ┌───┐┌─┴─┐└─┬─┘└┬───┬┘├───┤└───┘ ░ ┌┴───┴┐├───┤└───┘└─┬─┘┌─┴─┐»\n",
      "qr_1: |0>─┤ H ├─┤ S ├┤ X ├──■───┤ H ├─┤ S ├──────░─┤ Sdg ├┤ H ├───────■──┤ X ├»\n",
      "          ├───┤ └───┘└───┘┌───┐ ├───┤ └───┘      ░ └┬───┬┘└───┘     ┌───┐└───┘»\n",
      "qr_2: |0>─┤ H ├────────■──┤ X ├─┤ X ├────────────░──┤ X ├───────────┤ X ├──■──»\n",
      "         ┌┴───┴┐┌───┐┌─┴─┐└─┬─┘┌┴───┴┐┌───┐┌───┐ ░  ├───┤ ┌───┐┌───┐└─┬─┘┌─┴─┐»\n",
      "qr_3: |0>┤ Sdg ├┤ H ├┤ X ├──■──┤ Sdg ├┤ H ├┤ X ├─░──┤ X ├─┤ H ├┤ S ├──■──┤ X ├»\n",
      "         └─────┘└───┘└───┘     └─────┘└───┘└───┘ ░  └───┘ └───┘└───┘     └───┘»\n",
      " cr_0: 0 ═════════════════════════════════════════════════════════════════════»\n",
      "                                                                              »\n",
      " cr_1: 0 ═════════════════════════════════════════════════════════════════════»\n",
      "                                                                              »\n",
      " cr_2: 0 ═════════════════════════════════════════════════════════════════════»\n",
      "                                                                              »\n",
      " cr_3: 0 ═════════════════════════════════════════════════════════════════════»\n",
      "                                                                              »\n",
      "«      ┌─┐                                   \n",
      "«qr_0: ┤M├───────────────────────────────────\n",
      "«      └╥┘┌─────┐   ┌───┐┌────────────┐┌─┐   \n",
      "«qr_1: ─╫─┤ Sdg ├───┤ H ├┤ Ry(1.5708) ├┤M├───\n",
      "«       ║ └┬───┬┘┌─┐└───┘└────────────┘└╥┘   \n",
      "«qr_2: ─╫──┤ H ├─┤M├────────────────────╫────\n",
      "«       ║  ├───┤ └╥┘┌───┐┌────────────┐ ║ ┌─┐\n",
      "«qr_3: ─╫──┤ H ├──╫─┤ S ├┤ Ry(1.5708) ├─╫─┤M├\n",
      "«       ║  └───┘  ║ └───┘└────────────┘ ║ └╥┘\n",
      "«cr_0: ═╩═════════╬═════════════════════╬══╬═\n",
      "«                 ║                     ║  ║ \n",
      "«cr_1: ═══════════╬═════════════════════╩══╬═\n",
      "«                 ║                        ║ \n",
      "«cr_2: ═══════════╩════════════════════════╬═\n",
      "«                                          ║ \n",
      "«cr_3: ════════════════════════════════════╩═\n",
      "«                                            \n"
     ]
    }
   ],
   "source": [
    "print (rb_purity_circs[0][6][0])"
   ]
  },
  {
   "cell_type": "code",
   "execution_count": 18,
   "metadata": {},
   "outputs": [
    {
     "name": "stdout",
     "output_type": "stream",
     "text": [
      "                          ┌───┐┌─────┐┌───┐┌───┐ ░  ┌───┐ ┌───┐┌───┐┌───┐     »\n",
      "qr_0: |0>──────────────■──┤ X ├┤ Sdg ├┤ H ├┤ Y ├─░──┤ Y ├─┤ H ├┤ S ├┤ X ├──■──»\n",
      "          ┌───┐ ┌───┐┌─┴─┐└─┬─┘└┬───┬┘├───┤└───┘ ░ ┌┴───┴┐├───┤└───┘└─┬─┘┌─┴─┐»\n",
      "qr_1: |0>─┤ H ├─┤ S ├┤ X ├──■───┤ H ├─┤ S ├──────░─┤ Sdg ├┤ H ├───────■──┤ X ├»\n",
      "          ├───┤ └───┘└───┘┌───┐ ├───┤ └───┘      ░ └┬───┬┘└───┘     ┌───┐└───┘»\n",
      "qr_2: |0>─┤ H ├────────■──┤ X ├─┤ X ├────────────░──┤ X ├───────────┤ X ├──■──»\n",
      "         ┌┴───┴┐┌───┐┌─┴─┐└─┬─┘┌┴───┴┐┌───┐┌───┐ ░  ├───┤ ┌───┐┌───┐└─┬─┘┌─┴─┐»\n",
      "qr_3: |0>┤ Sdg ├┤ H ├┤ X ├──■──┤ Sdg ├┤ H ├┤ X ├─░──┤ X ├─┤ H ├┤ S ├──■──┤ X ├»\n",
      "         └─────┘└───┘└───┘     └─────┘└───┘└───┘ ░  └───┘ └───┘└───┘     └───┘»\n",
      " cr_0: 0 ═════════════════════════════════════════════════════════════════════»\n",
      "                                                                              »\n",
      " cr_1: 0 ═════════════════════════════════════════════════════════════════════»\n",
      "                                                                              »\n",
      " cr_2: 0 ═════════════════════════════════════════════════════════════════════»\n",
      "                                                                              »\n",
      " cr_3: 0 ═════════════════════════════════════════════════════════════════════»\n",
      "                                                                              »\n",
      "«      ┌────────────┐┌─┐                                     \n",
      "«qr_0: ┤ Rx(1.5708) ├┤M├─────────────────────────────────────\n",
      "«      └──┬─────┬───┘└╥┘    ┌───┐        ┌────────────┐┌─┐   \n",
      "«qr_1: ───┤ Sdg ├─────╫─────┤ H ├────────┤ Ry(1.5708) ├┤M├───\n",
      "«         └┬───┬┘     ║ ┌───┴───┴────┐┌─┐└────────────┘└╥┘   \n",
      "«qr_2: ────┤ H ├──────╫─┤ Rx(1.5708) ├┤M├───────────────╫────\n",
      "«          ├───┤      ║ └───┬───┬────┘└╥┘┌────────────┐ ║ ┌─┐\n",
      "«qr_3: ────┤ H ├──────╫─────┤ S ├──────╫─┤ Ry(1.5708) ├─╫─┤M├\n",
      "«          └───┘      ║     └───┘      ║ └────────────┘ ║ └╥┘\n",
      "«cr_0: ═══════════════╩════════════════╬════════════════╬══╬═\n",
      "«                                      ║                ║  ║ \n",
      "«cr_1: ════════════════════════════════╬════════════════╩══╬═\n",
      "«                                      ║                   ║ \n",
      "«cr_2: ════════════════════════════════╩═══════════════════╬═\n",
      "«                                                          ║ \n",
      "«cr_3: ════════════════════════════════════════════════════╩═\n",
      "«                                                            \n"
     ]
    }
   ],
   "source": [
    "print (rb_purity_circs[0][7][0])"
   ]
  },
  {
   "cell_type": "code",
   "execution_count": 19,
   "metadata": {},
   "outputs": [
    {
     "name": "stdout",
     "output_type": "stream",
     "text": [
      "                          ┌───┐┌─────┐┌───┐┌───┐ ░  ┌───┐ ┌───┐┌───┐┌───┐     »\n",
      "qr_0: |0>──────────────■──┤ X ├┤ Sdg ├┤ H ├┤ Y ├─░──┤ Y ├─┤ H ├┤ S ├┤ X ├──■──»\n",
      "          ┌───┐ ┌───┐┌─┴─┐└─┬─┘└┬───┬┘├───┤└───┘ ░ ┌┴───┴┐├───┤└───┘└─┬─┘┌─┴─┐»\n",
      "qr_1: |0>─┤ H ├─┤ S ├┤ X ├──■───┤ H ├─┤ S ├──────░─┤ Sdg ├┤ H ├───────■──┤ X ├»\n",
      "          ├───┤ └───┘└───┘┌───┐ ├───┤ └───┘      ░ └┬───┬┘└───┘     ┌───┐└───┘»\n",
      "qr_2: |0>─┤ H ├────────■──┤ X ├─┤ X ├────────────░──┤ X ├───────────┤ X ├──■──»\n",
      "         ┌┴───┴┐┌───┐┌─┴─┐└─┬─┘┌┴───┴┐┌───┐┌───┐ ░  ├───┤ ┌───┐┌───┐└─┬─┘┌─┴─┐»\n",
      "qr_3: |0>┤ Sdg ├┤ H ├┤ X ├──■──┤ Sdg ├┤ H ├┤ X ├─░──┤ X ├─┤ H ├┤ S ├──■──┤ X ├»\n",
      "         └─────┘└───┘└───┘     └─────┘└───┘└───┘ ░  └───┘ └───┘└───┘     └───┘»\n",
      " cr_0: 0 ═════════════════════════════════════════════════════════════════════»\n",
      "                                                                              »\n",
      " cr_1: 0 ═════════════════════════════════════════════════════════════════════»\n",
      "                                                                              »\n",
      " cr_2: 0 ═════════════════════════════════════════════════════════════════════»\n",
      "                                                                              »\n",
      " cr_3: 0 ═════════════════════════════════════════════════════════════════════»\n",
      "                                                                              »\n",
      "«      ┌────────────┐┌─┐                                     \n",
      "«qr_0: ┤ Ry(1.5708) ├┤M├─────────────────────────────────────\n",
      "«      └──┬─────┬───┘└╥┘    ┌───┐        ┌────────────┐┌─┐   \n",
      "«qr_1: ───┤ Sdg ├─────╫─────┤ H ├────────┤ Ry(1.5708) ├┤M├───\n",
      "«         └┬───┬┘     ║ ┌───┴───┴────┐┌─┐└────────────┘└╥┘   \n",
      "«qr_2: ────┤ H ├──────╫─┤ Ry(1.5708) ├┤M├───────────────╫────\n",
      "«          ├───┤      ║ └───┬───┬────┘└╥┘┌────────────┐ ║ ┌─┐\n",
      "«qr_3: ────┤ H ├──────╫─────┤ S ├──────╫─┤ Ry(1.5708) ├─╫─┤M├\n",
      "«          └───┘      ║     └───┘      ║ └────────────┘ ║ └╥┘\n",
      "«cr_0: ═══════════════╩════════════════╬════════════════╬══╬═\n",
      "«                                      ║                ║  ║ \n",
      "«cr_1: ════════════════════════════════╬════════════════╩══╬═\n",
      "«                                      ║                   ║ \n",
      "«cr_2: ════════════════════════════════╩═══════════════════╬═\n",
      "«                                                          ║ \n",
      "«cr_3: ════════════════════════════════════════════════════╩═\n",
      "«                                                            \n"
     ]
    }
   ],
   "source": [
    "print (rb_purity_circs[0][8][0])"
   ]
  },
  {
   "cell_type": "code",
   "execution_count": 20,
   "metadata": {
    "collapsed": true
   },
   "outputs": [],
   "source": [
    "noise_model = NoiseModel()\n",
    "p1Q = 0.002\n",
    "p2Q = 0.01\n",
    "noise_model.add_all_qubit_quantum_error(depolarizing_error(p1Q, 1), 'u2')\n",
    "noise_model.add_all_qubit_quantum_error(depolarizing_error(2*p1Q, 1), 'u3')\n",
    "noise_model.add_all_qubit_quantum_error(depolarizing_error(p2Q, 2), 'cx')"
   ]
  },
  {
   "cell_type": "code",
   "execution_count": 21,
   "metadata": {},
   "outputs": [
    {
     "name": "stdout",
     "output_type": "stream",
     "text": [
      "Executing seed 0 purity 0 length 5\n",
      "Executing seed 0 purity 1 length 5\n",
      "Executing seed 0 purity 2 length 5\n",
      "Executing seed 0 purity 3 length 5\n",
      "Executing seed 0 purity 4 length 5\n",
      "Executing seed 0 purity 5 length 5\n",
      "Executing seed 0 purity 6 length 5\n",
      "Executing seed 0 purity 7 length 5\n",
      "Executing seed 0 purity 8 length 5\n",
      "Executing seed 1 purity 0 length 5\n",
      "Executing seed 1 purity 1 length 5\n",
      "Executing seed 1 purity 2 length 5\n",
      "Executing seed 1 purity 3 length 5\n",
      "Executing seed 1 purity 4 length 5\n",
      "Executing seed 1 purity 5 length 5\n",
      "Executing seed 1 purity 6 length 5\n",
      "Executing seed 1 purity 7 length 5\n",
      "Executing seed 1 purity 8 length 5\n",
      "Executing seed 2 purity 0 length 5\n",
      "Executing seed 2 purity 1 length 5\n",
      "Executing seed 2 purity 2 length 5\n",
      "Executing seed 2 purity 3 length 5\n",
      "Executing seed 2 purity 4 length 5\n",
      "Executing seed 2 purity 5 length 5\n",
      "Executing seed 2 purity 6 length 5\n",
      "Executing seed 2 purity 7 length 5\n",
      "Executing seed 2 purity 8 length 5\n",
      "Finished Simulating Purity RB Circuits\n"
     ]
    }
   ],
   "source": [
    "#Purity RB circuits - generation using execute - with noise\n",
    "backend = qiskit.Aer.get_backend('qasm_simulator')\n",
    "basis_gates = ['u1','u2','u3','cx'] # use U,CX for now\n",
    "shots = 200\n",
    "purity_result_list = [[] for d in range(npurity)]\n",
    "import time\n",
    "for rb_seed in range(len(rb_purity_circs)):\n",
    "    for d in range(npurity):\n",
    "        print('Executing seed %d purity %d length %d'%(rb_seed, d, len(nCliffs)))\n",
    "        new_circ = rb_purity_circs[rb_seed][d]\n",
    "        job = qiskit.execute(new_circ, backend=backend, noise_model=noise_model, basis_gates=['u1','u2','u3','cx'])\n",
    "        purity_result_list[d].append(job.result())\n",
    "        #for l in range(len(nCliffs)):\n",
    "        #    print (new_circ[l].name, job.result().get_counts(rb_purity_circs[rb_seed][d][l]))\n",
    "print(\"Finished Simulating Purity RB Circuits\")"
   ]
  },
  {
   "cell_type": "code",
   "execution_count": 22,
   "metadata": {
    "scrolled": false
   },
   "outputs": [
    {
     "name": "stdout",
     "output_type": "stream",
     "text": [
      "9\n",
      "0 0 0 rb_purity_ZZ_length_0_seed_0\n",
      "0 0 1 rb_purity_ZZ_length_1_seed_0\n",
      "0 0 2 rb_purity_ZZ_length_2_seed_0\n",
      "0 0 3 rb_purity_ZZ_length_3_seed_0\n",
      "0 0 4 rb_purity_ZZ_length_4_seed_0\n",
      "0 1 0 rb_purity_ZZ_length_0_seed_1\n",
      "0 1 1 rb_purity_ZZ_length_1_seed_1\n",
      "0 1 2 rb_purity_ZZ_length_2_seed_1\n",
      "0 1 3 rb_purity_ZZ_length_3_seed_1\n",
      "0 1 4 rb_purity_ZZ_length_4_seed_1\n",
      "0 2 0 rb_purity_ZZ_length_0_seed_2\n",
      "0 2 1 rb_purity_ZZ_length_1_seed_2\n",
      "0 2 2 rb_purity_ZZ_length_2_seed_2\n",
      "0 2 3 rb_purity_ZZ_length_3_seed_2\n",
      "0 2 4 rb_purity_ZZ_length_4_seed_2\n",
      "1 0 0 rb_purity_XZ_length_0_seed_0\n",
      "1 0 1 rb_purity_XZ_length_1_seed_0\n",
      "1 0 2 rb_purity_XZ_length_2_seed_0\n",
      "1 0 3 rb_purity_XZ_length_3_seed_0\n",
      "1 0 4 rb_purity_XZ_length_4_seed_0\n",
      "1 1 0 rb_purity_XZ_length_0_seed_1\n",
      "1 1 1 rb_purity_XZ_length_1_seed_1\n",
      "1 1 2 rb_purity_XZ_length_2_seed_1\n",
      "1 1 3 rb_purity_XZ_length_3_seed_1\n",
      "1 1 4 rb_purity_XZ_length_4_seed_1\n",
      "1 2 0 rb_purity_XZ_length_0_seed_2\n",
      "1 2 1 rb_purity_XZ_length_1_seed_2\n",
      "1 2 2 rb_purity_XZ_length_2_seed_2\n",
      "1 2 3 rb_purity_XZ_length_3_seed_2\n",
      "1 2 4 rb_purity_XZ_length_4_seed_2\n",
      "2 0 0 rb_purity_YZ_length_0_seed_0\n",
      "2 0 1 rb_purity_YZ_length_1_seed_0\n",
      "2 0 2 rb_purity_YZ_length_2_seed_0\n",
      "2 0 3 rb_purity_YZ_length_3_seed_0\n",
      "2 0 4 rb_purity_YZ_length_4_seed_0\n",
      "2 1 0 rb_purity_YZ_length_0_seed_1\n",
      "2 1 1 rb_purity_YZ_length_1_seed_1\n",
      "2 1 2 rb_purity_YZ_length_2_seed_1\n",
      "2 1 3 rb_purity_YZ_length_3_seed_1\n",
      "2 1 4 rb_purity_YZ_length_4_seed_1\n",
      "2 2 0 rb_purity_YZ_length_0_seed_2\n",
      "2 2 1 rb_purity_YZ_length_1_seed_2\n",
      "2 2 2 rb_purity_YZ_length_2_seed_2\n",
      "2 2 3 rb_purity_YZ_length_3_seed_2\n",
      "2 2 4 rb_purity_YZ_length_4_seed_2\n",
      "3 0 0 rb_purity_ZX_length_0_seed_0\n",
      "3 0 1 rb_purity_ZX_length_1_seed_0\n",
      "3 0 2 rb_purity_ZX_length_2_seed_0\n",
      "3 0 3 rb_purity_ZX_length_3_seed_0\n",
      "3 0 4 rb_purity_ZX_length_4_seed_0\n",
      "3 1 0 rb_purity_ZX_length_0_seed_1\n",
      "3 1 1 rb_purity_ZX_length_1_seed_1\n",
      "3 1 2 rb_purity_ZX_length_2_seed_1\n",
      "3 1 3 rb_purity_ZX_length_3_seed_1\n",
      "3 1 4 rb_purity_ZX_length_4_seed_1\n",
      "3 2 0 rb_purity_ZX_length_0_seed_2\n",
      "3 2 1 rb_purity_ZX_length_1_seed_2\n",
      "3 2 2 rb_purity_ZX_length_2_seed_2\n",
      "3 2 3 rb_purity_ZX_length_3_seed_2\n",
      "3 2 4 rb_purity_ZX_length_4_seed_2\n",
      "4 0 0 rb_purity_XX_length_0_seed_0\n",
      "4 0 1 rb_purity_XX_length_1_seed_0\n",
      "4 0 2 rb_purity_XX_length_2_seed_0\n",
      "4 0 3 rb_purity_XX_length_3_seed_0\n",
      "4 0 4 rb_purity_XX_length_4_seed_0\n",
      "4 1 0 rb_purity_XX_length_0_seed_1\n",
      "4 1 1 rb_purity_XX_length_1_seed_1\n",
      "4 1 2 rb_purity_XX_length_2_seed_1\n",
      "4 1 3 rb_purity_XX_length_3_seed_1\n",
      "4 1 4 rb_purity_XX_length_4_seed_1\n",
      "4 2 0 rb_purity_XX_length_0_seed_2\n",
      "4 2 1 rb_purity_XX_length_1_seed_2\n",
      "4 2 2 rb_purity_XX_length_2_seed_2\n",
      "4 2 3 rb_purity_XX_length_3_seed_2\n",
      "4 2 4 rb_purity_XX_length_4_seed_2\n",
      "5 0 0 rb_purity_YX_length_0_seed_0\n",
      "5 0 1 rb_purity_YX_length_1_seed_0\n",
      "5 0 2 rb_purity_YX_length_2_seed_0\n",
      "5 0 3 rb_purity_YX_length_3_seed_0\n",
      "5 0 4 rb_purity_YX_length_4_seed_0\n",
      "5 1 0 rb_purity_YX_length_0_seed_1\n",
      "5 1 1 rb_purity_YX_length_1_seed_1\n",
      "5 1 2 rb_purity_YX_length_2_seed_1\n",
      "5 1 3 rb_purity_YX_length_3_seed_1\n",
      "5 1 4 rb_purity_YX_length_4_seed_1\n",
      "5 2 0 rb_purity_YX_length_0_seed_2\n",
      "5 2 1 rb_purity_YX_length_1_seed_2\n",
      "5 2 2 rb_purity_YX_length_2_seed_2\n",
      "5 2 3 rb_purity_YX_length_3_seed_2\n",
      "5 2 4 rb_purity_YX_length_4_seed_2\n",
      "6 0 0 rb_purity_ZY_length_0_seed_0\n",
      "6 0 1 rb_purity_ZY_length_1_seed_0\n",
      "6 0 2 rb_purity_ZY_length_2_seed_0\n",
      "6 0 3 rb_purity_ZY_length_3_seed_0\n",
      "6 0 4 rb_purity_ZY_length_4_seed_0\n",
      "6 1 0 rb_purity_ZY_length_0_seed_1\n",
      "6 1 1 rb_purity_ZY_length_1_seed_1\n",
      "6 1 2 rb_purity_ZY_length_2_seed_1\n",
      "6 1 3 rb_purity_ZY_length_3_seed_1\n",
      "6 1 4 rb_purity_ZY_length_4_seed_1\n",
      "6 2 0 rb_purity_ZY_length_0_seed_2\n",
      "6 2 1 rb_purity_ZY_length_1_seed_2\n",
      "6 2 2 rb_purity_ZY_length_2_seed_2\n",
      "6 2 3 rb_purity_ZY_length_3_seed_2\n",
      "6 2 4 rb_purity_ZY_length_4_seed_2\n",
      "7 0 0 rb_purity_XY_length_0_seed_0\n",
      "7 0 1 rb_purity_XY_length_1_seed_0\n",
      "7 0 2 rb_purity_XY_length_2_seed_0\n",
      "7 0 3 rb_purity_XY_length_3_seed_0\n",
      "7 0 4 rb_purity_XY_length_4_seed_0\n",
      "7 1 0 rb_purity_XY_length_0_seed_1\n",
      "7 1 1 rb_purity_XY_length_1_seed_1\n",
      "7 1 2 rb_purity_XY_length_2_seed_1\n",
      "7 1 3 rb_purity_XY_length_3_seed_1\n",
      "7 1 4 rb_purity_XY_length_4_seed_1\n",
      "7 2 0 rb_purity_XY_length_0_seed_2\n",
      "7 2 1 rb_purity_XY_length_1_seed_2\n",
      "7 2 2 rb_purity_XY_length_2_seed_2\n",
      "7 2 3 rb_purity_XY_length_3_seed_2\n",
      "7 2 4 rb_purity_XY_length_4_seed_2\n",
      "8 0 0 rb_purity_YY_length_0_seed_0\n",
      "8 0 1 rb_purity_YY_length_1_seed_0\n",
      "8 0 2 rb_purity_YY_length_2_seed_0\n",
      "8 0 3 rb_purity_YY_length_3_seed_0\n",
      "8 0 4 rb_purity_YY_length_4_seed_0\n",
      "8 1 0 rb_purity_YY_length_0_seed_1\n",
      "8 1 1 rb_purity_YY_length_1_seed_1\n",
      "8 1 2 rb_purity_YY_length_2_seed_1\n",
      "8 1 3 rb_purity_YY_length_3_seed_1\n",
      "8 1 4 rb_purity_YY_length_4_seed_1\n",
      "8 2 0 rb_purity_YY_length_0_seed_2\n",
      "8 2 1 rb_purity_YY_length_1_seed_2\n",
      "8 2 2 rb_purity_YY_length_2_seed_2\n",
      "8 2 3 rb_purity_YY_length_3_seed_2\n",
      "8 2 4 rb_purity_YY_length_4_seed_2\n"
     ]
    }
   ],
   "source": [
    "# List of results\n",
    "print (len(purity_result_list))\n",
    "for i in range(len(purity_result_list)):\n",
    "    for j in range(len(rb_purity_circs)):\n",
    "        for l in range(len(nCliffs)):\n",
    "            print (i, j, l, purity_result_list[i][j].results[l].header.name)"
   ]
  },
  {
   "cell_type": "markdown",
   "metadata": {},
   "source": [
    "#Purity RB circuits - generation using compile and run - with noise\n",
    "backend = qiskit.Aer.get_backend('qasm_simulator')\n",
    "basis_gates = ['u1','u2','u3','cx'] # use U,CX for now\n",
    "shots = 200\n",
    "purity_result_list = [[] for d in range(npurity)]\n",
    "purity_qobj_list = [[] for d in range(npurity)]\n",
    "import time\n",
    "for rb_seed in range(len(rb_purity_circs)):\n",
    "    for d in range(npurity):\n",
    "        print('Compiling seed %d purity %d'%(rb_seed, d))\n",
    "        new_circ = rb_purity_circs[rb_seed][d]\n",
    "        new_rb_circ_seed = qiskit.compiler.transpile(new_circ, basis_gates=basis_gates)\n",
    "        qobj = qiskit.compiler.assemble(new_rb_circ_seed, shots=shots)\n",
    "        print('Simulating seed %d purity %d'%(rb_seed, d))\n",
    "        job = backend.run(qobj, noise_model=noise_model)\n",
    "        purity_result_list[d].append(job.result())\n",
    "        purity_qobj_list[d].append(qobj)    \n",
    "print(\"Finished Simulating Purity RB Circuits\")"
   ]
  },
  {
   "cell_type": "code",
   "execution_count": 23,
   "metadata": {},
   "outputs": [
    {
     "name": "stdout",
     "output_type": "stream",
     "text": [
      "9\n",
      "0 0 0 rb_purity_ZZ_length_0_seed_0\n",
      "0 0 1 rb_purity_ZZ_length_1_seed_0\n",
      "0 0 2 rb_purity_ZZ_length_2_seed_0\n",
      "0 0 3 rb_purity_ZZ_length_3_seed_0\n",
      "0 0 4 rb_purity_ZZ_length_4_seed_0\n",
      "0 1 0 rb_purity_ZZ_length_0_seed_1\n",
      "0 1 1 rb_purity_ZZ_length_1_seed_1\n",
      "0 1 2 rb_purity_ZZ_length_2_seed_1\n",
      "0 1 3 rb_purity_ZZ_length_3_seed_1\n",
      "0 1 4 rb_purity_ZZ_length_4_seed_1\n",
      "0 2 0 rb_purity_ZZ_length_0_seed_2\n",
      "0 2 1 rb_purity_ZZ_length_1_seed_2\n",
      "0 2 2 rb_purity_ZZ_length_2_seed_2\n",
      "0 2 3 rb_purity_ZZ_length_3_seed_2\n",
      "0 2 4 rb_purity_ZZ_length_4_seed_2\n",
      "1 0 0 rb_purity_XZ_length_0_seed_0\n",
      "1 0 1 rb_purity_XZ_length_1_seed_0\n",
      "1 0 2 rb_purity_XZ_length_2_seed_0\n",
      "1 0 3 rb_purity_XZ_length_3_seed_0\n",
      "1 0 4 rb_purity_XZ_length_4_seed_0\n",
      "1 1 0 rb_purity_XZ_length_0_seed_1\n",
      "1 1 1 rb_purity_XZ_length_1_seed_1\n",
      "1 1 2 rb_purity_XZ_length_2_seed_1\n",
      "1 1 3 rb_purity_XZ_length_3_seed_1\n",
      "1 1 4 rb_purity_XZ_length_4_seed_1\n",
      "1 2 0 rb_purity_XZ_length_0_seed_2\n",
      "1 2 1 rb_purity_XZ_length_1_seed_2\n",
      "1 2 2 rb_purity_XZ_length_2_seed_2\n",
      "1 2 3 rb_purity_XZ_length_3_seed_2\n",
      "1 2 4 rb_purity_XZ_length_4_seed_2\n",
      "2 0 0 rb_purity_YZ_length_0_seed_0\n",
      "2 0 1 rb_purity_YZ_length_1_seed_0\n",
      "2 0 2 rb_purity_YZ_length_2_seed_0\n",
      "2 0 3 rb_purity_YZ_length_3_seed_0\n",
      "2 0 4 rb_purity_YZ_length_4_seed_0\n",
      "2 1 0 rb_purity_YZ_length_0_seed_1\n",
      "2 1 1 rb_purity_YZ_length_1_seed_1\n",
      "2 1 2 rb_purity_YZ_length_2_seed_1\n",
      "2 1 3 rb_purity_YZ_length_3_seed_1\n",
      "2 1 4 rb_purity_YZ_length_4_seed_1\n",
      "2 2 0 rb_purity_YZ_length_0_seed_2\n",
      "2 2 1 rb_purity_YZ_length_1_seed_2\n",
      "2 2 2 rb_purity_YZ_length_2_seed_2\n",
      "2 2 3 rb_purity_YZ_length_3_seed_2\n",
      "2 2 4 rb_purity_YZ_length_4_seed_2\n",
      "3 0 0 rb_purity_ZX_length_0_seed_0\n",
      "3 0 1 rb_purity_ZX_length_1_seed_0\n",
      "3 0 2 rb_purity_ZX_length_2_seed_0\n",
      "3 0 3 rb_purity_ZX_length_3_seed_0\n",
      "3 0 4 rb_purity_ZX_length_4_seed_0\n",
      "3 1 0 rb_purity_ZX_length_0_seed_1\n",
      "3 1 1 rb_purity_ZX_length_1_seed_1\n",
      "3 1 2 rb_purity_ZX_length_2_seed_1\n",
      "3 1 3 rb_purity_ZX_length_3_seed_1\n",
      "3 1 4 rb_purity_ZX_length_4_seed_1\n",
      "3 2 0 rb_purity_ZX_length_0_seed_2\n",
      "3 2 1 rb_purity_ZX_length_1_seed_2\n",
      "3 2 2 rb_purity_ZX_length_2_seed_2\n",
      "3 2 3 rb_purity_ZX_length_3_seed_2\n",
      "3 2 4 rb_purity_ZX_length_4_seed_2\n",
      "4 0 0 rb_purity_XX_length_0_seed_0\n",
      "4 0 1 rb_purity_XX_length_1_seed_0\n",
      "4 0 2 rb_purity_XX_length_2_seed_0\n",
      "4 0 3 rb_purity_XX_length_3_seed_0\n",
      "4 0 4 rb_purity_XX_length_4_seed_0\n",
      "4 1 0 rb_purity_XX_length_0_seed_1\n",
      "4 1 1 rb_purity_XX_length_1_seed_1\n",
      "4 1 2 rb_purity_XX_length_2_seed_1\n",
      "4 1 3 rb_purity_XX_length_3_seed_1\n",
      "4 1 4 rb_purity_XX_length_4_seed_1\n",
      "4 2 0 rb_purity_XX_length_0_seed_2\n",
      "4 2 1 rb_purity_XX_length_1_seed_2\n",
      "4 2 2 rb_purity_XX_length_2_seed_2\n",
      "4 2 3 rb_purity_XX_length_3_seed_2\n",
      "4 2 4 rb_purity_XX_length_4_seed_2\n",
      "5 0 0 rb_purity_YX_length_0_seed_0\n",
      "5 0 1 rb_purity_YX_length_1_seed_0\n",
      "5 0 2 rb_purity_YX_length_2_seed_0\n",
      "5 0 3 rb_purity_YX_length_3_seed_0\n",
      "5 0 4 rb_purity_YX_length_4_seed_0\n",
      "5 1 0 rb_purity_YX_length_0_seed_1\n",
      "5 1 1 rb_purity_YX_length_1_seed_1\n",
      "5 1 2 rb_purity_YX_length_2_seed_1\n",
      "5 1 3 rb_purity_YX_length_3_seed_1\n",
      "5 1 4 rb_purity_YX_length_4_seed_1\n",
      "5 2 0 rb_purity_YX_length_0_seed_2\n",
      "5 2 1 rb_purity_YX_length_1_seed_2\n",
      "5 2 2 rb_purity_YX_length_2_seed_2\n",
      "5 2 3 rb_purity_YX_length_3_seed_2\n",
      "5 2 4 rb_purity_YX_length_4_seed_2\n",
      "6 0 0 rb_purity_ZY_length_0_seed_0\n",
      "6 0 1 rb_purity_ZY_length_1_seed_0\n",
      "6 0 2 rb_purity_ZY_length_2_seed_0\n",
      "6 0 3 rb_purity_ZY_length_3_seed_0\n",
      "6 0 4 rb_purity_ZY_length_4_seed_0\n",
      "6 1 0 rb_purity_ZY_length_0_seed_1\n",
      "6 1 1 rb_purity_ZY_length_1_seed_1\n",
      "6 1 2 rb_purity_ZY_length_2_seed_1\n",
      "6 1 3 rb_purity_ZY_length_3_seed_1\n",
      "6 1 4 rb_purity_ZY_length_4_seed_1\n",
      "6 2 0 rb_purity_ZY_length_0_seed_2\n",
      "6 2 1 rb_purity_ZY_length_1_seed_2\n",
      "6 2 2 rb_purity_ZY_length_2_seed_2\n",
      "6 2 3 rb_purity_ZY_length_3_seed_2\n",
      "6 2 4 rb_purity_ZY_length_4_seed_2\n",
      "7 0 0 rb_purity_XY_length_0_seed_0\n",
      "7 0 1 rb_purity_XY_length_1_seed_0\n",
      "7 0 2 rb_purity_XY_length_2_seed_0\n",
      "7 0 3 rb_purity_XY_length_3_seed_0\n",
      "7 0 4 rb_purity_XY_length_4_seed_0\n",
      "7 1 0 rb_purity_XY_length_0_seed_1\n",
      "7 1 1 rb_purity_XY_length_1_seed_1\n",
      "7 1 2 rb_purity_XY_length_2_seed_1\n",
      "7 1 3 rb_purity_XY_length_3_seed_1\n",
      "7 1 4 rb_purity_XY_length_4_seed_1\n",
      "7 2 0 rb_purity_XY_length_0_seed_2\n",
      "7 2 1 rb_purity_XY_length_1_seed_2\n",
      "7 2 2 rb_purity_XY_length_2_seed_2\n",
      "7 2 3 rb_purity_XY_length_3_seed_2\n",
      "7 2 4 rb_purity_XY_length_4_seed_2\n",
      "8 0 0 rb_purity_YY_length_0_seed_0\n",
      "8 0 1 rb_purity_YY_length_1_seed_0\n",
      "8 0 2 rb_purity_YY_length_2_seed_0\n",
      "8 0 3 rb_purity_YY_length_3_seed_0\n",
      "8 0 4 rb_purity_YY_length_4_seed_0\n",
      "8 1 0 rb_purity_YY_length_0_seed_1\n",
      "8 1 1 rb_purity_YY_length_1_seed_1\n",
      "8 1 2 rb_purity_YY_length_2_seed_1\n",
      "8 1 3 rb_purity_YY_length_3_seed_1\n",
      "8 1 4 rb_purity_YY_length_4_seed_1\n",
      "8 2 0 rb_purity_YY_length_0_seed_2\n",
      "8 2 1 rb_purity_YY_length_1_seed_2\n",
      "8 2 2 rb_purity_YY_length_2_seed_2\n",
      "8 2 3 rb_purity_YY_length_3_seed_2\n",
      "8 2 4 rb_purity_YY_length_4_seed_2\n"
     ]
    }
   ],
   "source": [
    "# List of results\n",
    "print (len(purity_result_list))\n",
    "for i in range(len(purity_result_list)):\n",
    "    for j in range(len(rb_purity_circs)):\n",
    "        for l in range(len(nCliffs)):\n",
    "            print (i, j, l, purity_result_list[i][j].results[l].header.name)"
   ]
  },
  {
   "cell_type": "code",
   "execution_count": 24,
   "metadata": {},
   "outputs": [
    {
     "name": "stdout",
     "output_type": "stream",
     "text": [
      "0\n",
      "[[[0.9580078125, 0.8271484375, 0.744140625, 0.6455078125, 0.5673828125], [0.9755859375, 0.8427734375, 0.7275390625, 0.62890625, 0.5625], [0.9755859375, 0.8447265625, 0.7470703125, 0.66796875, 0.5751953125]], [[0.947265625, 0.89453125, 0.7626953125, 0.697265625, 0.6083984375], [0.9697265625, 0.8271484375, 0.767578125, 0.6484375, 0.6181640625], [0.9892578125, 0.857421875, 0.7587890625, 0.6787109375, 0.6025390625]]]\n",
      "[{'mean': array([0.96972656, 0.83821615, 0.73958333, 0.64746094, 0.56835938]), 'std': array([0.00828641, 0.00786657, 0.00860016, 0.01600689, 0.00522864])}, {'mean': array([0.96875   , 0.85970052, 0.76302083, 0.67480469, 0.60970052]), 'std': array([0.01715714, 0.02755606, 0.0035955 , 0.02012446, 0.00644498])}]\n",
      "1\n",
      "[[[0.4443359375, 0.45703125, 0.41796875, 0.369140625, 0.3544921875], [0.48828125, 0.4443359375, 0.388671875, 0.3935546875, 0.359375], [0.5224609375, 0.453125, 0.3955078125, 0.3896484375, 0.3515625]], [[0.4970703125, 0.455078125, 0.4560546875, 0.3818359375, 0.38671875], [0.4931640625, 0.435546875, 0.43359375, 0.3681640625, 0.35546875], [0.4794921875, 0.4619140625, 0.4130859375, 0.3837890625, 0.3427734375]]]\n",
      "[{'mean': array([0.48502604, 0.4514974 , 0.40071615, 0.38411458, 0.35514323]), 'std': array([0.03197735, 0.00530908, 0.01251457, 0.01070761, 0.00322249])}, {'mean': array([0.48990885, 0.45084635, 0.43424479, 0.37792969, 0.36165365]), 'std': array([0.00753635, 0.01117253, 0.01754796, 0.00695122, 0.01846596])}]\n",
      "2\n",
      "[[[0.4833984375, 0.46484375, 0.41796875, 0.4072265625, 0.341796875], [0.4873046875, 0.44921875, 0.431640625, 0.365234375, 0.36328125], [0.501953125, 0.474609375, 0.4033203125, 0.41015625, 0.3779296875]], [[0.47265625, 0.47265625, 0.4375, 0.408203125, 0.375], [0.4736328125, 0.4130859375, 0.4248046875, 0.365234375, 0.357421875], [0.4697265625, 0.4208984375, 0.439453125, 0.3671875, 0.3388671875]]]\n",
      "[{'mean': array([0.49088542, 0.46289062, 0.41764323, 0.39420573, 0.3610026 ]), 'std': array([0.00798688, 0.01045728, 0.01156401, 0.02052073, 0.01483889])}, {'mean': array([0.47200521, 0.43554688, 0.43391927, 0.38020833, 0.35709635]), 'std': array([0.00165984, 0.02643341, 0.00649412, 0.01981136, 0.01475295])}]\n",
      "3\n",
      "[[[0.505859375, 0.443359375, 0.4150390625, 0.37109375, 0.357421875], [0.46875, 0.447265625, 0.396484375, 0.3701171875, 0.3671875], [0.5029296875, 0.46875, 0.3955078125, 0.3818359375, 0.3427734375]], [[0.4990234375, 0.4853515625, 0.419921875, 0.3623046875, 0.41015625], [0.4931640625, 0.470703125, 0.40234375, 0.37109375, 0.3740234375], [0.5, 0.443359375, 0.4013671875, 0.376953125, 0.3681640625]]]\n",
      "[{'mean': array([0.49251302, 0.453125  , 0.40234375, 0.37434896, 0.35579427]), 'std': array([0.01684551, 0.01116304, 0.00898579, 0.00530908, 0.01003323])}, {'mean': array([0.49739583, 0.46647135, 0.4078776 , 0.37011719, 0.38411458]), 'std': array([0.00301876, 0.01740243, 0.00852591, 0.00601994, 0.01856896])}]\n",
      "4\n",
      "[[[0.2607421875, 0.2568359375, 0.259765625, 0.2421875, 0.2431640625], [0.265625, 0.2568359375, 0.259765625, 0.2373046875, 0.25390625], [0.251953125, 0.2734375, 0.244140625, 0.23828125, 0.2451171875]], [[0.244140625, 0.2412109375, 0.25390625, 0.234375, 0.244140625], [0.23828125, 0.2451171875, 0.2275390625, 0.2568359375, 0.2509765625], [0.2490234375, 0.228515625, 0.2353515625, 0.2607421875, 0.2470703125]]]\n",
      "[{'mean': array([0.2594401 , 0.26236979, 0.25455729, 0.23925781, 0.24739583]), 'std': array([0.00565695, 0.00782605, 0.0073657 , 0.00210962, 0.0046721 ])}, {'mean': array([0.2438151 , 0.23828125, 0.23893229, 0.25065104, 0.24739583]), 'std': array([0.00439152, 0.00708709, 0.01105813, 0.01161886, 0.00280024])}]\n",
      "5\n",
      "[[[0.2294921875, 0.244140625, 0.2685546875, 0.25, 0.255859375], [0.2255859375, 0.2666015625, 0.244140625, 0.24609375, 0.2705078125], [0.2333984375, 0.25390625, 0.251953125, 0.24609375, 0.2470703125]], [[0.224609375, 0.23828125, 0.2412109375, 0.2421875, 0.2578125], [0.2548828125, 0.2548828125, 0.2294921875, 0.23828125, 0.2587890625], [0.232421875, 0.283203125, 0.2626953125, 0.2265625, 0.2431640625]]]\n",
      "[{'mean': array([0.22949219, 0.25488281, 0.25488281, 0.24739583, 0.2578125 ]), 'std': array([0.00318944, 0.0091956 , 0.01018001, 0.00184142, 0.00966748])}, {'mean': array([0.23730469, 0.25878906, 0.24446615, 0.23567708, 0.25325521]), 'std': array([0.01283229, 0.01854612, 0.01374916, 0.00663935, 0.00714665])}]\n",
      "6\n",
      "[[[0.48828125, 0.4404296875, 0.4267578125, 0.380859375, 0.3701171875], [0.5048828125, 0.451171875, 0.3876953125, 0.3798828125, 0.361328125], [0.5283203125, 0.44921875, 0.4306640625, 0.4189453125, 0.3427734375]], [[0.47265625, 0.4658203125, 0.4365234375, 0.3974609375, 0.3291015625], [0.501953125, 0.453125, 0.396484375, 0.3798828125, 0.3740234375], [0.4931640625, 0.431640625, 0.4287109375, 0.396484375, 0.3681640625]]]\n",
      "[{'mean': array([0.50716146, 0.4469401 , 0.41503906, 0.39322917, 0.35807292]), 'std': array([0.0164251 , 0.0046721 , 0.0194006 , 0.01818843, 0.01139788])}, {'mean': array([0.48925781, 0.45019531, 0.42057292, 0.39127604, 0.35709635]), 'std': array([0.0122752 , 0.01410674, 0.01732921, 0.00806609, 0.01993931])}]\n",
      "7\n",
      "[[[0.2431640625, 0.251953125, 0.2490234375, 0.2275390625, 0.22265625], [0.2646484375, 0.2568359375, 0.25, 0.248046875, 0.255859375], [0.2626953125, 0.2509765625, 0.23828125, 0.2548828125, 0.265625]], [[0.23828125, 0.2509765625, 0.2470703125, 0.2451171875, 0.2607421875], [0.2685546875, 0.24609375, 0.23828125, 0.2529296875, 0.2158203125], [0.259765625, 0.251953125, 0.2509765625, 0.2255859375, 0.2490234375]]]\n",
      "[{'mean': array([0.25683594, 0.25325521, 0.24576823, 0.24348958, 0.24804688]), 'std': array([0.0097003 , 0.00256315, 0.00530908, 0.01161886, 0.01839121])}, {'mean': array([0.25553385, 0.24967448, 0.24544271, 0.24121094, 0.24186198]), 'std': array([0.01271616, 0.00256315, 0.00530908, 0.01149969, 0.01902557])}]\n",
      "8\n",
      "[[[0.251953125, 0.2451171875, 0.2265625, 0.2451171875, 0.2666015625], [0.25, 0.236328125, 0.2431640625, 0.2490234375, 0.25390625], [0.263671875, 0.2412109375, 0.2412109375, 0.2490234375, 0.2451171875]], [[0.2373046875, 0.23828125, 0.2412109375, 0.27734375, 0.2236328125], [0.2646484375, 0.2724609375, 0.244140625, 0.26171875, 0.2646484375], [0.2578125, 0.25390625, 0.228515625, 0.251953125, 0.24609375]]]\n",
      "[{'mean': array([0.25520833, 0.24088542, 0.23697917, 0.24772135, 0.25520833]), 'std': array([0.00603751, 0.0035955 , 0.00740873, 0.00184142, 0.00881915])}, {'mean': array([0.25325521, 0.25488281, 0.23795573, 0.26367188, 0.24479167]), 'std': array([0.01161886, 0.01397087, 0.00678147, 0.01045728, 0.01676985])}]\n"
     ]
    }
   ],
   "source": [
    "for i in range(len(purity_result_list)):\n",
    "    print (i)\n",
    "    print (rb.RBFitter(purity_result_list[i], xdata, rb_opts['rb_pattern']).raw_data)\n",
    "    print (rb.RBFitter(purity_result_list[i], xdata, rb_opts['rb_pattern']).ydata)"
   ]
  },
  {
   "cell_type": "code",
   "execution_count": 25,
   "metadata": {},
   "outputs": [
    {
     "name": "stdout",
     "output_type": "stream",
     "text": [
      "0 [[[0.9580078125, 0.8271484375, 0.744140625, 0.6455078125, 0.5673828125], [0.9755859375, 0.8427734375, 0.7275390625, 0.62890625, 0.5625], [0.9755859375, 0.8447265625, 0.7470703125, 0.66796875, 0.5751953125]], [[0.947265625, 0.89453125, 0.7626953125, 0.697265625, 0.6083984375], [0.9697265625, 0.8271484375, 0.767578125, 0.6484375, 0.6181640625], [0.9892578125, 0.857421875, 0.7587890625, 0.6787109375, 0.6025390625]]]\n",
      "1 [[[0.4443359375, 0.45703125, 0.41796875, 0.369140625, 0.3544921875], [0.48828125, 0.4443359375, 0.388671875, 0.3935546875, 0.359375], [0.5224609375, 0.453125, 0.3955078125, 0.3896484375, 0.3515625]], [[0.4970703125, 0.455078125, 0.4560546875, 0.3818359375, 0.38671875], [0.4931640625, 0.435546875, 0.43359375, 0.3681640625, 0.35546875], [0.4794921875, 0.4619140625, 0.4130859375, 0.3837890625, 0.3427734375]]]\n",
      "2 [[[0.4833984375, 0.46484375, 0.41796875, 0.4072265625, 0.341796875], [0.4873046875, 0.44921875, 0.431640625, 0.365234375, 0.36328125], [0.501953125, 0.474609375, 0.4033203125, 0.41015625, 0.3779296875]], [[0.47265625, 0.47265625, 0.4375, 0.408203125, 0.375], [0.4736328125, 0.4130859375, 0.4248046875, 0.365234375, 0.357421875], [0.4697265625, 0.4208984375, 0.439453125, 0.3671875, 0.3388671875]]]\n",
      "3 [[[0.505859375, 0.443359375, 0.4150390625, 0.37109375, 0.357421875], [0.46875, 0.447265625, 0.396484375, 0.3701171875, 0.3671875], [0.5029296875, 0.46875, 0.3955078125, 0.3818359375, 0.3427734375]], [[0.4990234375, 0.4853515625, 0.419921875, 0.3623046875, 0.41015625], [0.4931640625, 0.470703125, 0.40234375, 0.37109375, 0.3740234375], [0.5, 0.443359375, 0.4013671875, 0.376953125, 0.3681640625]]]\n",
      "4 [[[0.2607421875, 0.2568359375, 0.259765625, 0.2421875, 0.2431640625], [0.265625, 0.2568359375, 0.259765625, 0.2373046875, 0.25390625], [0.251953125, 0.2734375, 0.244140625, 0.23828125, 0.2451171875]], [[0.244140625, 0.2412109375, 0.25390625, 0.234375, 0.244140625], [0.23828125, 0.2451171875, 0.2275390625, 0.2568359375, 0.2509765625], [0.2490234375, 0.228515625, 0.2353515625, 0.2607421875, 0.2470703125]]]\n",
      "5 [[[0.2294921875, 0.244140625, 0.2685546875, 0.25, 0.255859375], [0.2255859375, 0.2666015625, 0.244140625, 0.24609375, 0.2705078125], [0.2333984375, 0.25390625, 0.251953125, 0.24609375, 0.2470703125]], [[0.224609375, 0.23828125, 0.2412109375, 0.2421875, 0.2578125], [0.2548828125, 0.2548828125, 0.2294921875, 0.23828125, 0.2587890625], [0.232421875, 0.283203125, 0.2626953125, 0.2265625, 0.2431640625]]]\n",
      "6 [[[0.48828125, 0.4404296875, 0.4267578125, 0.380859375, 0.3701171875], [0.5048828125, 0.451171875, 0.3876953125, 0.3798828125, 0.361328125], [0.5283203125, 0.44921875, 0.4306640625, 0.4189453125, 0.3427734375]], [[0.47265625, 0.4658203125, 0.4365234375, 0.3974609375, 0.3291015625], [0.501953125, 0.453125, 0.396484375, 0.3798828125, 0.3740234375], [0.4931640625, 0.431640625, 0.4287109375, 0.396484375, 0.3681640625]]]\n",
      "7 [[[0.2431640625, 0.251953125, 0.2490234375, 0.2275390625, 0.22265625], [0.2646484375, 0.2568359375, 0.25, 0.248046875, 0.255859375], [0.2626953125, 0.2509765625, 0.23828125, 0.2548828125, 0.265625]], [[0.23828125, 0.2509765625, 0.2470703125, 0.2451171875, 0.2607421875], [0.2685546875, 0.24609375, 0.23828125, 0.2529296875, 0.2158203125], [0.259765625, 0.251953125, 0.2509765625, 0.2255859375, 0.2490234375]]]\n",
      "8 [[[0.251953125, 0.2451171875, 0.2265625, 0.2451171875, 0.2666015625], [0.25, 0.236328125, 0.2431640625, 0.2490234375, 0.25390625], [0.263671875, 0.2412109375, 0.2412109375, 0.2490234375, 0.2451171875]], [[0.2373046875, 0.23828125, 0.2412109375, 0.27734375, 0.2236328125], [0.2646484375, 0.2724609375, 0.244140625, 0.26171875, 0.2646484375], [0.2578125, 0.25390625, 0.228515625, 0.251953125, 0.24609375]]]\n"
     ]
    }
   ],
   "source": [
    "rbfit_purity = [[] for d in range(npurity)]\n",
    "for d in range(npurity):\n",
    "    rbfit_purity[d] = rb.RBFitter(purity_result_list[d], xdata, rb_opts['rb_pattern'])\n",
    "    print (d, rbfit_purity[d].raw_data)"
   ]
  },
  {
   "cell_type": "code",
   "execution_count": 26,
   "metadata": {},
   "outputs": [],
   "source": [
    "rbfit_purity1 = rb.PurityRBFitter(purity_result_list, npurity, xdata, rb_opts['rb_pattern'])"
   ]
  },
  {
   "cell_type": "code",
   "execution_count": 28,
   "metadata": {},
   "outputs": [
    {
     "name": "stdout",
     "output_type": "stream",
     "text": [
      "[[[[0.9580078125, 0.8271484375, 0.744140625, 0.6455078125, 0.5673828125], [0.9755859375, 0.8427734375, 0.7275390625, 0.62890625, 0.5625], [0.9755859375, 0.8447265625, 0.7470703125, 0.66796875, 0.5751953125]], [[0.947265625, 0.89453125, 0.7626953125, 0.697265625, 0.6083984375], [0.9697265625, 0.8271484375, 0.767578125, 0.6484375, 0.6181640625], [0.9892578125, 0.857421875, 0.7587890625, 0.6787109375, 0.6025390625]]], [[[0.4443359375, 0.45703125, 0.41796875, 0.369140625, 0.3544921875], [0.48828125, 0.4443359375, 0.388671875, 0.3935546875, 0.359375], [0.5224609375, 0.453125, 0.3955078125, 0.3896484375, 0.3515625]], [[0.4970703125, 0.455078125, 0.4560546875, 0.3818359375, 0.38671875], [0.4931640625, 0.435546875, 0.43359375, 0.3681640625, 0.35546875], [0.4794921875, 0.4619140625, 0.4130859375, 0.3837890625, 0.3427734375]]], [[[0.4833984375, 0.46484375, 0.41796875, 0.4072265625, 0.341796875], [0.4873046875, 0.44921875, 0.431640625, 0.365234375, 0.36328125], [0.501953125, 0.474609375, 0.4033203125, 0.41015625, 0.3779296875]], [[0.47265625, 0.47265625, 0.4375, 0.408203125, 0.375], [0.4736328125, 0.4130859375, 0.4248046875, 0.365234375, 0.357421875], [0.4697265625, 0.4208984375, 0.439453125, 0.3671875, 0.3388671875]]], [[[0.505859375, 0.443359375, 0.4150390625, 0.37109375, 0.357421875], [0.46875, 0.447265625, 0.396484375, 0.3701171875, 0.3671875], [0.5029296875, 0.46875, 0.3955078125, 0.3818359375, 0.3427734375]], [[0.4990234375, 0.4853515625, 0.419921875, 0.3623046875, 0.41015625], [0.4931640625, 0.470703125, 0.40234375, 0.37109375, 0.3740234375], [0.5, 0.443359375, 0.4013671875, 0.376953125, 0.3681640625]]], [[[0.2607421875, 0.2568359375, 0.259765625, 0.2421875, 0.2431640625], [0.265625, 0.2568359375, 0.259765625, 0.2373046875, 0.25390625], [0.251953125, 0.2734375, 0.244140625, 0.23828125, 0.2451171875]], [[0.244140625, 0.2412109375, 0.25390625, 0.234375, 0.244140625], [0.23828125, 0.2451171875, 0.2275390625, 0.2568359375, 0.2509765625], [0.2490234375, 0.228515625, 0.2353515625, 0.2607421875, 0.2470703125]]], [[[0.2294921875, 0.244140625, 0.2685546875, 0.25, 0.255859375], [0.2255859375, 0.2666015625, 0.244140625, 0.24609375, 0.2705078125], [0.2333984375, 0.25390625, 0.251953125, 0.24609375, 0.2470703125]], [[0.224609375, 0.23828125, 0.2412109375, 0.2421875, 0.2578125], [0.2548828125, 0.2548828125, 0.2294921875, 0.23828125, 0.2587890625], [0.232421875, 0.283203125, 0.2626953125, 0.2265625, 0.2431640625]]], [[[0.48828125, 0.4404296875, 0.4267578125, 0.380859375, 0.3701171875], [0.5048828125, 0.451171875, 0.3876953125, 0.3798828125, 0.361328125], [0.5283203125, 0.44921875, 0.4306640625, 0.4189453125, 0.3427734375]], [[0.47265625, 0.4658203125, 0.4365234375, 0.3974609375, 0.3291015625], [0.501953125, 0.453125, 0.396484375, 0.3798828125, 0.3740234375], [0.4931640625, 0.431640625, 0.4287109375, 0.396484375, 0.3681640625]]], [[[0.2431640625, 0.251953125, 0.2490234375, 0.2275390625, 0.22265625], [0.2646484375, 0.2568359375, 0.25, 0.248046875, 0.255859375], [0.2626953125, 0.2509765625, 0.23828125, 0.2548828125, 0.265625]], [[0.23828125, 0.2509765625, 0.2470703125, 0.2451171875, 0.2607421875], [0.2685546875, 0.24609375, 0.23828125, 0.2529296875, 0.2158203125], [0.259765625, 0.251953125, 0.2509765625, 0.2255859375, 0.2490234375]]], [[[0.251953125, 0.2451171875, 0.2265625, 0.2451171875, 0.2666015625], [0.25, 0.236328125, 0.2431640625, 0.2490234375, 0.25390625], [0.263671875, 0.2412109375, 0.2412109375, 0.2490234375, 0.2451171875]], [[0.2373046875, 0.23828125, 0.2412109375, 0.27734375, 0.2236328125], [0.2646484375, 0.2724609375, 0.244140625, 0.26171875, 0.2646484375], [0.2578125, 0.25390625, 0.228515625, 0.251953125, 0.24609375]]]]\n",
      "[[0, 1, 2], [0, 1, 2], [0, 1, 2], [0, 1, 2], [0, 1, 2], [0, 1, 2], [0, 1, 2], [0, 1, 2], [0, 1, 2]]\n",
      "[{}, {}]\n",
      "[[{'params': array([0.84375763, 0.97958502, 0.14159248]), 'params_err': array([0.07436286, 0.00268103, 0.07716612]), 'epc': 0.015311238312906594, 'epc_err': 4.19054574890071e-05}, {'params': array([0.81999271, 0.98165559, 0.16434363]), 'params_err': array([0.03677264, 0.00128202, 0.03966082]), 'epc': 0.013758305881919397, 'epc_err': 1.7967974714631774e-05}], [{'params': array([0.24964411, 0.9724318 , 0.25596347]), 'params_err': array([0.08274436, 0.01962741, 0.09935144]), 'epc': 0.02067615226299807, 'epc_err': 0.0004173242068907195}, {'params': array([ 0.5351114 ,  0.99050711, -0.03971265]), 'params_err': array([1.21759008, 0.02471373, 1.22170748]), 'epc': 0.00711966971975686, 'epc_err': 0.00017763992107120257}], [{'params': array([ 0.9784862 ,  0.99546011, -0.48200054]), 'params_err': array([2.56518481, 0.01274055, 2.56785616]), 'epc': 0.0034049139649018623, 'epc_err': 4.3578324969285566e-05}, {'params': array([ 2.        ,  0.99845335, -1.52463528]), 'params_err': array([5.26968634e+01, 4.15209576e-02, 5.26986366e+01]), 'epc': 0.0011599848623739528, 'epc_err': 4.823828988740044e-05}], [{'params': array([0.22067297, 0.96455109, 0.28580103]), 'params_err': array([0.04250116, 0.01382081, 0.04836804]), 'epc': 0.026586684373215208, 'epc_err': 0.00038095391831988407}, {'params': array([0.21673447, 0.96424155, 0.28870955]), 'params_err': array([0.13810712, 0.03698011, 0.14146484]), 'epc': 0.02681883567026172, 'epc_err': 0.0010285427011140214}], [{'params': array([0.02775773, 0.94281774, 0.2356234 ]), 'params_err': array([0.02894747, 0.15568241, 0.03177682]), 'epc': 0.04288669262130529, 'epc_err': 0.00708164848461083}, {'params': array([-1.75808935,  0.99990836,  1.99999995]), 'params_err': array([5.12168052e+03, 2.67378341e-01, 5.12168264e+03]), 'epc': 6.872777859223689e-05, 'epc_err': 1.8378003508487093e-05}], [{'params': array([-0.12634582,  0.14828948,  0.24822816]), 'params_err': array([3.49351310e+04, 4.10026443e+04, 1.84151413e-03]), 'epc': 0.6387828917986165, 'epc_err': 176626.07028375793}, {'params': array([-1.76254199,  0.99983008,  1.99943418]), 'params_err': array([3.90668249e+03, 3.77755697e-01, 3.90669317e+03]), 'epc': 0.00012744250606080976, 'epc_err': 4.8150314555444685e-05}], [{'params': array([0.19676513, 0.95729061, 0.31498602]), 'params_err': array([0.02475319, 0.0140143 , 0.0317031 ]), 'epc': 0.0320320433534258, 'epc_err': 0.0004689345609548067}, {'params': array([ 0.621234  ,  0.99281569, -0.12872744]), 'params_err': array([0.64939366, 0.00836017, 0.6512268 ]), 'epc': 0.005388231339666066, 'epc_err': 4.5372496885939903e-05}], [{'params': array([0.02731961, 0.96504703, 0.23287987]), 'params_err': array([0.02836664, 0.06213438, 0.03140369]), 'epc': 0.026214730860349894, 'epc_err': 0.0016878307107570944}, {'params': array([0.02158015, 0.9573741 , 0.23507676]), 'params_err': array([0.0042869 , 0.01757312, 0.0051249 ]), 'epc': 0.03196942721200499, 'epc_err': 0.0005868160406113501}], [{'params': array([-1.75607104,  0.99992185,  2.        ]), 'params_err': array([1.70056872e+04, 7.57742276e-01, 1.70056956e+04]), 'epc': 5.8615006559625815e-05, 'epc_err': 4.4418539922924655e-05}, {'params': array([0.00920935, 0.76834486, 0.24647742]), 'params_err': array([0.03709464, 2.80234072, 0.01030978]), 'epc': 0.17374135748463865, 'epc_err': 0.6336770216021373}]]\n",
      "<function RBFitter._rb_fit_fun at 0x7f75c62c4f28>\n",
      "[[Result(backend_name='qasm_simulator', backend_version='0.1.1', date=datetime.datetime(2019, 6, 20, 14, 6, 40, 805999), header=Obj(backend_name='qasm_simulator', backend_version='0.1.1'), job_id='20a6938e-db2c-4fb0-9ee5-0eabf904d47a', metadata={'omp_available_threads': 4, 'omp_circuit_threads': 1, 'omp_enabled': True, 'time_taken': 8.880885229}, qobj_id='ecee8c66-90f9-45b6-97d1-fdfab136631e', results=[ExperimentResult(data=ExperimentResultData(counts=Obj(0x0=930, 0x1=15, 0x2=8, 0x3=17, 0x4=9, 0x5=1, 0x7=1, 0x8=23, 0xc=19, 0xe=1)), header=Obj(clbit_labels=[['cr', 0], ['cr', 1], ['cr', 2], ['cr', 3]], creg_sizes=[['cr', 4]], memory_slots=4, n_qubits=4, name='rb_purity_ZZ_length_0_seed_0', qreg_sizes=[['qr', 4]], qubit_labels=[['qr', 0], ['qr', 1], ['qr', 2], ['qr', 3]]), meas_level=2, metadata={'method': 'statevector', 'omp_shot_threads': 1, 'omp_state_threads': 4}, seed=359053595, shots=1024, status='DONE', success=True, time_taken=0.311177007), ExperimentResult(data=ExperimentResultData(counts=Obj(0x0=763, 0x1=52, 0x2=41, 0x3=60, 0x4=24, 0x5=2, 0x6=3, 0x7=4, 0x8=31, 0x9=5, 0xa=3, 0xc=29, 0xd=2, 0xe=4, 0xf=1)), header=Obj(clbit_labels=[['cr', 0], ['cr', 1], ['cr', 2], ['cr', 3]], creg_sizes=[['cr', 4]], memory_slots=4, n_qubits=4, name='rb_purity_ZZ_length_1_seed_0', qreg_sizes=[['qr', 4]], qubit_labels=[['qr', 0], ['qr', 1], ['qr', 2], ['qr', 3]]), meas_level=2, metadata={'method': 'statevector', 'omp_shot_threads': 1, 'omp_state_threads': 4}, seed=2663112813, shots=1024, status='DONE', success=True, time_taken=0.978506705), ExperimentResult(data=ExperimentResultData(counts=Obj(0x0=576, 0x1=64, 0x2=71, 0x3=70, 0x4=54, 0x5=6, 0x6=8, 0x7=6, 0x8=63, 0x9=10, 0xa=6, 0xb=10, 0xc=69, 0xd=4, 0xe=7)), header=Obj(clbit_labels=[['cr', 0], ['cr', 1], ['cr', 2], ['cr', 3]], creg_sizes=[['cr', 4]], memory_slots=4, n_qubits=4, name='rb_purity_ZZ_length_2_seed_0', qreg_sizes=[['qr', 4]], qubit_labels=[['qr', 0], ['qr', 1], ['qr', 2], ['qr', 3]]), meas_level=2, metadata={'method': 'statevector', 'omp_shot_threads': 1, 'omp_state_threads': 4}, seed=2525957771, shots=1024, status='DONE', success=True, time_taken=2.022820522), ExperimentResult(data=ExperimentResultData(counts=Obj(0x0=457, 0x1=87, 0x2=82, 0x3=88, 0x4=71, 0x5=17, 0x6=9, 0x7=13, 0x8=73, 0x9=8, 0xa=6, 0xb=8, 0xc=60, 0xd=14, 0xe=19, 0xf=12)), header=Obj(clbit_labels=[['cr', 0], ['cr', 1], ['cr', 2], ['cr', 3]], creg_sizes=[['cr', 4]], memory_slots=4, n_qubits=4, name='rb_purity_ZZ_length_3_seed_0', qreg_sizes=[['qr', 4]], qubit_labels=[['qr', 0], ['qr', 1], ['qr', 2], ['qr', 3]]), meas_level=2, metadata={'method': 'statevector', 'omp_shot_threads': 1, 'omp_state_threads': 4}, seed=3341147129, shots=1024, status='DONE', success=True, time_taken=2.030043651), ExperimentResult(data=ExperimentResultData(counts=Obj(0x0=354, 0x1=92, 0x2=91, 0x3=86, 0x4=76, 0x5=14, 0x6=19, 0x7=20, 0x8=67, 0x9=24, 0xa=18, 0xb=16, 0xc=84, 0xd=23, 0xe=18, 0xf=22)), header=Obj(clbit_labels=[['cr', 0], ['cr', 1], ['cr', 2], ['cr', 3]], creg_sizes=[['cr', 4]], memory_slots=4, n_qubits=4, name='rb_purity_ZZ_length_4_seed_0', qreg_sizes=[['qr', 4]], qubit_labels=[['qr', 0], ['qr', 1], ['qr', 2], ['qr', 3]]), meas_level=2, metadata={'method': 'statevector', 'omp_shot_threads': 1, 'omp_state_threads': 4}, seed=1358942665, shots=1024, status='DONE', success=True, time_taken=3.530352811)], status='COMPLETED', success=True, time_taken=9.059536695480347), Result(backend_name='qasm_simulator', backend_version='0.1.1', date=datetime.datetime(2019, 6, 20, 14, 8, 24, 642332), header=Obj(backend_name='qasm_simulator', backend_version='0.1.1'), job_id='786c50a8-b879-4761-944f-85f8e8846b60', metadata={'omp_available_threads': 4, 'omp_circuit_threads': 1, 'omp_enabled': True, 'time_taken': 10.559484412000002}, qobj_id='28ab5e4e-f2e0-47ed-855f-48d08cb46346', results=[ExperimentResult(data=ExperimentResultData(counts=Obj(0x0=969, 0x1=13, 0x2=3, 0x3=8, 0x4=6, 0x8=16, 0xa=1, 0xc=8)), header=Obj(clbit_labels=[['cr', 0], ['cr', 1], ['cr', 2], ['cr', 3]], creg_sizes=[['cr', 4]], memory_slots=4, n_qubits=4, name='rb_purity_ZZ_length_0_seed_1', qreg_sizes=[['qr', 4]], qubit_labels=[['qr', 0], ['qr', 1], ['qr', 2], ['qr', 3]]), meas_level=2, metadata={'method': 'statevector', 'omp_shot_threads': 1, 'omp_state_threads': 4}, seed=1531427515, shots=1024, status='DONE', success=True, time_taken=0.36626827700000003), ExperimentResult(data=ExperimentResultData(counts=Obj(0x0=709, 0x1=60, 0x2=35, 0x3=43, 0x4=47, 0x5=3, 0x6=3, 0x7=2, 0x8=45, 0x9=1, 0xa=1, 0xb=1, 0xc=62, 0xd=2, 0xe=4, 0xf=6)), header=Obj(clbit_labels=[['cr', 0], ['cr', 1], ['cr', 2], ['cr', 3]], creg_sizes=[['cr', 4]], memory_slots=4, n_qubits=4, name='rb_purity_ZZ_length_1_seed_1', qreg_sizes=[['qr', 4]], qubit_labels=[['qr', 0], ['qr', 1], ['qr', 2], ['qr', 3]]), meas_level=2, metadata={'method': 'statevector', 'omp_shot_threads': 1, 'omp_state_threads': 4}, seed=4269166607, shots=1024, status='DONE', success=True, time_taken=1.3648038150000001), ExperimentResult(data=ExperimentResultData(counts=Obj(0x0=567, 0x1=67, 0x2=75, 0x3=77, 0x4=65, 0x5=5, 0x6=9, 0x7=8, 0x8=66, 0x9=9, 0xa=4, 0xb=5, 0xc=47, 0xd=7, 0xe=5, 0xf=8)), header=Obj(clbit_labels=[['cr', 0], ['cr', 1], ['cr', 2], ['cr', 3]], creg_sizes=[['cr', 4]], memory_slots=4, n_qubits=4, name='rb_purity_ZZ_length_2_seed_1', qreg_sizes=[['qr', 4]], qubit_labels=[['qr', 0], ['qr', 1], ['qr', 2], ['qr', 3]]), meas_level=2, metadata={'method': 'statevector', 'omp_shot_threads': 1, 'omp_state_threads': 4}, seed=3453372897, shots=1024, status='DONE', success=True, time_taken=2.5101656770000003), ExperimentResult(data=ExperimentResultData(counts=Obj(0x0=417, 0x1=92, 0x2=68, 0x3=87, 0x4=77, 0x5=12, 0x6=13, 0x7=14, 0x8=76, 0x9=18, 0xa=13, 0xb=13, 0xc=74, 0xd=22, 0xe=10, 0xf=18)), header=Obj(clbit_labels=[['cr', 0], ['cr', 1], ['cr', 2], ['cr', 3]], creg_sizes=[['cr', 4]], memory_slots=4, n_qubits=4, name='rb_purity_ZZ_length_3_seed_1', qreg_sizes=[['qr', 4]], qubit_labels=[['qr', 0], ['qr', 1], ['qr', 2], ['qr', 3]]), meas_level=2, metadata={'method': 'statevector', 'omp_shot_threads': 1, 'omp_state_threads': 4}, seed=3843102113, shots=1024, status='DONE', success=True, time_taken=2.827827386), ExperimentResult(data=ExperimentResultData(counts=Obj(0x0=344, 0x1=99, 0x2=108, 0x3=82, 0x4=71, 0x5=14, 0x6=17, 0x7=21, 0x8=73, 0x9=20, 0xa=15, 0xb=18, 0xc=88, 0xd=16, 0xe=18, 0xf=20)), header=Obj(clbit_labels=[['cr', 0], ['cr', 1], ['cr', 2], ['cr', 3]], creg_sizes=[['cr', 4]], memory_slots=4, n_qubits=4, name='rb_purity_ZZ_length_4_seed_1', qreg_sizes=[['qr', 4]], qubit_labels=[['qr', 0], ['qr', 1], ['qr', 2], ['qr', 3]]), meas_level=2, metadata={'method': 'statevector', 'omp_shot_threads': 1, 'omp_state_threads': 4}, seed=821477180, shots=1024, status='DONE', success=True, time_taken=3.4852847170000003)], status='COMPLETED', success=True, time_taken=10.768418073654175), Result(backend_name='qasm_simulator', backend_version='0.1.1', date=datetime.datetime(2019, 6, 20, 14, 10, 18, 940159), header=Obj(backend_name='qasm_simulator', backend_version='0.1.1'), job_id='4bacb64b-1cbd-4a38-8538-5fb4346adaaf', metadata={'omp_available_threads': 4, 'omp_circuit_threads': 1, 'omp_enabled': True, 'time_taken': 7.7213570680000005}, qobj_id='e59b4255-f83e-47da-92c0-d672e9ab9f38', results=[ExperimentResult(data=ExperimentResultData(counts=Obj(0x0=988, 0x1=5, 0x2=14, 0x3=6, 0x4=2, 0x8=9)), header=Obj(clbit_labels=[['cr', 0], ['cr', 1], ['cr', 2], ['cr', 3]], creg_sizes=[['cr', 4]], memory_slots=4, n_qubits=4, name='rb_purity_ZZ_length_0_seed_2', qreg_sizes=[['qr', 4]], qubit_labels=[['qr', 0], ['qr', 1], ['qr', 2], ['qr', 3]]), meas_level=2, metadata={'method': 'statevector', 'omp_shot_threads': 1, 'omp_state_threads': 4}, seed=1749240244, shots=1024, status='DONE', success=True, time_taken=0.18748125300000001), ExperimentResult(data=ExperimentResultData(counts=Obj(0x0=739, 0x1=42, 0x2=50, 0x3=47, 0x4=47, 0x5=3, 0x6=3, 0x7=2, 0x8=46, 0x9=2, 0xa=3, 0xb=1, 0xc=33, 0xd=3, 0xe=1, 0xf=2)), header=Obj(clbit_labels=[['cr', 0], ['cr', 1], ['cr', 2], ['cr', 3]], creg_sizes=[['cr', 4]], memory_slots=4, n_qubits=4, name='rb_purity_ZZ_length_1_seed_2', qreg_sizes=[['qr', 4]], qubit_labels=[['qr', 0], ['qr', 1], ['qr', 2], ['qr', 3]]), meas_level=2, metadata={'method': 'statevector', 'omp_shot_threads': 1, 'omp_state_threads': 4}, seed=3682786013, shots=1024, status='DONE', success=True, time_taken=0.8843632920000001), ExperimentResult(data=ExperimentResultData(counts=Obj(0x0=584, 0x1=55, 0x2=72, 0x3=66, 0x4=61, 0x5=5, 0x6=9, 0x7=9, 0x8=66, 0x9=5, 0xa=8, 0xb=7, 0xc=54, 0xd=8, 0xe=5, 0xf=10)), header=Obj(clbit_labels=[['cr', 0], ['cr', 1], ['cr', 2], ['cr', 3]], creg_sizes=[['cr', 4]], memory_slots=4, n_qubits=4, name='rb_purity_ZZ_length_2_seed_2', qreg_sizes=[['qr', 4]], qubit_labels=[['qr', 0], ['qr', 1], ['qr', 2], ['qr', 3]]), meas_level=2, metadata={'method': 'statevector', 'omp_shot_threads': 1, 'omp_state_threads': 4}, seed=3834719432, shots=1024, status='DONE', success=True, time_taken=1.484180222), ExperimentResult(data=ExperimentResultData(counts=Obj(0x0=455, 0x1=73, 0x2=80, 0x3=87, 0x4=86, 0x5=6, 0x6=15, 0x7=10, 0x8=68, 0x9=12, 0xa=11, 0xb=8, 0xc=75, 0xd=12, 0xe=16, 0xf=10)), header=Obj(clbit_labels=[['cr', 0], ['cr', 1], ['cr', 2], ['cr', 3]], creg_sizes=[['cr', 4]], memory_slots=4, n_qubits=4, name='rb_purity_ZZ_length_3_seed_2', qreg_sizes=[['qr', 4]], qubit_labels=[['qr', 0], ['qr', 1], ['qr', 2], ['qr', 3]]), meas_level=2, metadata={'method': 'statevector', 'omp_shot_threads': 1, 'omp_state_threads': 4}, seed=3176676320, shots=1024, status='DONE', success=True, time_taken=2.03744279), ExperimentResult(data=ExperimentResultData(counts=Obj(0x0=356, 0x1=95, 0x2=87, 0x3=79, 0x4=83, 0x5=11, 0x6=24, 0x7=20, 0x8=84, 0x9=23, 0xa=18, 0xb=17, 0xc=66, 0xd=23, 0xe=16, 0xf=22)), header=Obj(clbit_labels=[['cr', 0], ['cr', 1], ['cr', 2], ['cr', 3]], creg_sizes=[['cr', 4]], memory_slots=4, n_qubits=4, name='rb_purity_ZZ_length_4_seed_2', qreg_sizes=[['qr', 4]], qubit_labels=[['qr', 0], ['qr', 1], ['qr', 2], ['qr', 3]]), meas_level=2, metadata={'method': 'statevector', 'omp_shot_threads': 1, 'omp_state_threads': 4}, seed=91118832, shots=1024, status='DONE', success=True, time_taken=3.1241239960000002)], status='COMPLETED', success=True, time_taken=7.864579677581787)], [Result(backend_name='qasm_simulator', backend_version='0.1.1', date=datetime.datetime(2019, 6, 20, 14, 6, 52, 363676), header=Obj(backend_name='qasm_simulator', backend_version='0.1.1'), job_id='83839c32-65f6-4512-a9fc-1d3aaba0380b', metadata={'omp_available_threads': 4, 'omp_circuit_threads': 1, 'omp_enabled': True, 'time_taken': 9.267541937}, qobj_id='2b0a872e-8de6-4911-bd5e-9721416c91cd', results=[ExperimentResult(data=ExperimentResultData(counts=Obj(0x0=223, 0x1=269, 0x2=9, 0x3=8, 0x4=219, 0x5=246, 0x6=10, 0x7=9, 0x8=6, 0x9=10, 0xc=7, 0xd=7, 0xe=1)), header=Obj(clbit_labels=[['cr', 0], ['cr', 1], ['cr', 2], ['cr', 3]], creg_sizes=[['cr', 4]], memory_slots=4, n_qubits=4, name='rb_purity_XZ_length_0_seed_0', qreg_sizes=[['qr', 4]], qubit_labels=[['qr', 0], ['qr', 1], ['qr', 2], ['qr', 3]]), meas_level=2, metadata={'method': 'statevector', 'omp_shot_threads': 1, 'omp_state_threads': 4}, seed=2632864090, shots=1024, status='DONE', success=True, time_taken=0.214161117), ExperimentResult(data=ExperimentResultData(counts=Obj(0x0=215, 0x1=208, 0x2=19, 0x3=24, 0x4=216, 0x5=196, 0x6=38, 0x7=27, 0x8=18, 0x9=18, 0xa=1, 0xb=3, 0xc=19, 0xd=14, 0xe=4, 0xf=4)), header=Obj(clbit_labels=[['cr', 0], ['cr', 1], ['cr', 2], ['cr', 3]], creg_sizes=[['cr', 4]], memory_slots=4, n_qubits=4, name='rb_purity_XZ_length_1_seed_0', qreg_sizes=[['qr', 4]], qubit_labels=[['qr', 0], ['qr', 1], ['qr', 2], ['qr', 3]]), meas_level=2, metadata={'method': 'statevector', 'omp_shot_threads': 1, 'omp_state_threads': 4}, seed=1925444486, shots=1024, status='DONE', success=True, time_taken=0.8550891570000001), ExperimentResult(data=ExperimentResultData(counts=Obj(0x0=199, 0x1=185, 0x2=43, 0x3=40, 0x4=161, 0x5=175, 0x6=30, 0x7=42, 0x8=36, 0x9=30, 0xa=7, 0xb=10, 0xc=32, 0xd=20, 0xe=4, 0xf=10)), header=Obj(clbit_labels=[['cr', 0], ['cr', 1], ['cr', 2], ['cr', 3]], creg_sizes=[['cr', 4]], memory_slots=4, n_qubits=4, name='rb_purity_XZ_length_2_seed_0', qreg_sizes=[['qr', 4]], qubit_labels=[['qr', 0], ['qr', 1], ['qr', 2], ['qr', 3]]), meas_level=2, metadata={'method': 'statevector', 'omp_shot_threads': 1, 'omp_state_threads': 4}, seed=4104172696, shots=1024, status='DONE', success=True, time_taken=2.18521338), ExperimentResult(data=ExperimentResultData(counts=Obj(0x0=156, 0x1=156, 0x2=39, 0x3=40, 0x4=152, 0x5=157, 0x6=57, 0x7=41, 0x8=34, 0x9=36, 0xa=17, 0xb=20, 0xc=36, 0xd=54, 0xe=12, 0xf=17)), header=Obj(clbit_labels=[['cr', 0], ['cr', 1], ['cr', 2], ['cr', 3]], creg_sizes=[['cr', 4]], memory_slots=4, n_qubits=4, name='rb_purity_XZ_length_3_seed_0', qreg_sizes=[['qr', 4]], qubit_labels=[['qr', 0], ['qr', 1], ['qr', 2], ['qr', 3]]), meas_level=2, metadata={'method': 'statevector', 'omp_shot_threads': 1, 'omp_state_threads': 4}, seed=3320973508, shots=1024, status='DONE', success=True, time_taken=2.4626741020000003), ExperimentResult(data=ExperimentResultData(counts=Obj(0x0=147, 0x1=138, 0x2=45, 0x3=66, 0x4=132, 0x5=136, 0x6=59, 0x7=64, 0x8=41, 0x9=43, 0xa=10, 0xb=17, 0xc=43, 0xd=49, 0xe=16, 0xf=18)), header=Obj(clbit_labels=[['cr', 0], ['cr', 1], ['cr', 2], ['cr', 3]], creg_sizes=[['cr', 4]], memory_slots=4, n_qubits=4, name='rb_purity_XZ_length_4_seed_0', qreg_sizes=[['qr', 4]], qubit_labels=[['qr', 0], ['qr', 1], ['qr', 2], ['qr', 3]]), meas_level=2, metadata={'method': 'statevector', 'omp_shot_threads': 1, 'omp_state_threads': 4}, seed=2133535608, shots=1024, status='DONE', success=True, time_taken=3.5470797860000003)], status='COMPLETED', success=True, time_taken=9.430200099945068), Result(backend_name='qasm_simulator', backend_version='0.1.1', date=datetime.datetime(2019, 6, 20, 14, 8, 37, 595955), header=Obj(backend_name='qasm_simulator', backend_version='0.1.1'), job_id='48c88630-ebec-4e7e-af91-7ff984fc2ba2', metadata={'omp_available_threads': 4, 'omp_circuit_threads': 1, 'omp_enabled': True, 'time_taken': 10.490401203000001}, qobj_id='3573bf9d-4ba7-4df0-9eeb-9b08c7808afa', results=[ExperimentResult(data=ExperimentResultData(counts=Obj(0x0=254, 0x1=237, 0x2=9, 0x3=5, 0x4=233, 0x5=257, 0x6=1, 0x7=4, 0x8=4, 0x9=5, 0xc=9, 0xd=6)), header=Obj(clbit_labels=[['cr', 0], ['cr', 1], ['cr', 2], ['cr', 3]], creg_sizes=[['cr', 4]], memory_slots=4, n_qubits=4, name='rb_purity_XZ_length_0_seed_1', qreg_sizes=[['qr', 4]], qubit_labels=[['qr', 0], ['qr', 1], ['qr', 2], ['qr', 3]]), meas_level=2, metadata={'method': 'statevector', 'omp_shot_threads': 1, 'omp_state_threads': 4}, seed=301826159, shots=1024, status='DONE', success=True, time_taken=0.29909134200000004), ExperimentResult(data=ExperimentResultData(counts=Obj(0x0=196, 0x1=204, 0x2=18, 0x3=28, 0x4=203, 0x5=196, 0x6=27, 0x7=31, 0x8=36, 0x9=32, 0xa=3, 0xb=2, 0xc=20, 0xd=25, 0xe=1, 0xf=2)), header=Obj(clbit_labels=[['cr', 0], ['cr', 1], ['cr', 2], ['cr', 3]], creg_sizes=[['cr', 4]], memory_slots=4, n_qubits=4, name='rb_purity_XZ_length_1_seed_1', qreg_sizes=[['qr', 4]], qubit_labels=[['qr', 0], ['qr', 1], ['qr', 2], ['qr', 3]]), meas_level=2, metadata={'method': 'statevector', 'omp_shot_threads': 1, 'omp_state_threads': 4}, seed=1023358078, shots=1024, status='DONE', success=True, time_taken=1.010782352), ExperimentResult(data=ExperimentResultData(counts=Obj(0x0=179, 0x1=191, 0x2=39, 0x3=35, 0x4=162, 0x5=186, 0x6=42, 0x7=37, 0x8=29, 0x9=40, 0xa=7, 0xb=5, 0xc=28, 0xd=34, 0xe=3, 0xf=7)), header=Obj(clbit_labels=[['cr', 0], ['cr', 1], ['cr', 2], ['cr', 3]], creg_sizes=[['cr', 4]], memory_slots=4, n_qubits=4, name='rb_purity_XZ_length_2_seed_1', qreg_sizes=[['qr', 4]], qubit_labels=[['qr', 0], ['qr', 1], ['qr', 2], ['qr', 3]]), meas_level=2, metadata={'method': 'statevector', 'omp_shot_threads': 1, 'omp_state_threads': 4}, seed=1960008612, shots=1024, status='DONE', success=True, time_taken=2.2318992420000003), ExperimentResult(data=ExperimentResultData(counts=Obj(0x0=140, 0x1=144, 0x2=43, 0x3=50, 0x4=164, 0x5=158, 0x6=43, 0x7=49, 0x8=48, 0x9=34, 0xa=10, 0xb=11, 0xc=51, 0xd=52, 0xe=10, 0xf=17)), header=Obj(clbit_labels=[['cr', 0], ['cr', 1], ['cr', 2], ['cr', 3]], creg_sizes=[['cr', 4]], memory_slots=4, n_qubits=4, name='rb_purity_XZ_length_3_seed_1', qreg_sizes=[['qr', 4]], qubit_labels=[['qr', 0], ['qr', 1], ['qr', 2], ['qr', 3]]), meas_level=2, metadata={'method': 'statevector', 'omp_shot_threads': 1, 'omp_state_threads': 4}, seed=206391914, shots=1024, status='DONE', success=True, time_taken=3.1006008040000004), ExperimentResult(data=ExperimentResultData(counts=Obj(0x0=128, 0x1=133, 0x2=53, 0x3=50, 0x4=138, 0x5=118, 0x6=48, 0x7=72, 0x8=59, 0x9=54, 0xa=20, 0xb=23, 0xc=43, 0xd=57, 0xe=13, 0xf=15)), header=Obj(clbit_labels=[['cr', 0], ['cr', 1], ['cr', 2], ['cr', 3]], creg_sizes=[['cr', 4]], memory_slots=4, n_qubits=4, name='rb_purity_XZ_length_4_seed_1', qreg_sizes=[['qr', 4]], qubit_labels=[['qr', 0], ['qr', 1], ['qr', 2], ['qr', 3]]), meas_level=2, metadata={'method': 'statevector', 'omp_shot_threads': 1, 'omp_state_threads': 4}, seed=3235621853, shots=1024, status='DONE', success=True, time_taken=3.8420987600000003)], status='COMPLETED', success=True, time_taken=10.71001386642456), Result(backend_name='qasm_simulator', backend_version='0.1.1', date=datetime.datetime(2019, 6, 20, 14, 10, 31, 165883), header=Obj(backend_name='qasm_simulator', backend_version='0.1.1'), job_id='95fbfe71-b7b3-4a83-99f3-30babeb37843', metadata={'omp_available_threads': 4, 'omp_circuit_threads': 1, 'omp_enabled': True, 'time_taken': 9.789703624000001}, qobj_id='e55af3b7-8919-4dc2-b587-b048d8972a3f', results=[ExperimentResult(data=ExperimentResultData(counts=Obj(0x0=270, 0x1=211, 0x2=2, 0x3=8, 0x4=265, 0x5=255, 0x6=4, 0x7=5, 0x9=2, 0xd=2)), header=Obj(clbit_labels=[['cr', 0], ['cr', 1], ['cr', 2], ['cr', 3]], creg_sizes=[['cr', 4]], memory_slots=4, n_qubits=4, name='rb_purity_XZ_length_0_seed_2', qreg_sizes=[['qr', 4]], qubit_labels=[['qr', 0], ['qr', 1], ['qr', 2], ['qr', 3]]), meas_level=2, metadata={'method': 'statevector', 'omp_shot_threads': 1, 'omp_state_threads': 4}, seed=1445090051, shots=1024, status='DONE', success=True, time_taken=0.270786079), ExperimentResult(data=ExperimentResultData(counts=Obj(0x0=200, 0x1=225, 0x2=28, 0x3=20, 0x4=210, 0x5=190, 0x6=23, 0x7=19, 0x8=27, 0x9=26, 0xb=1, 0xc=27, 0xd=26, 0xe=1, 0xf=1)), header=Obj(clbit_labels=[['cr', 0], ['cr', 1], ['cr', 2], ['cr', 3]], creg_sizes=[['cr', 4]], memory_slots=4, n_qubits=4, name='rb_purity_XZ_length_1_seed_2', qreg_sizes=[['qr', 4]], qubit_labels=[['qr', 0], ['qr', 1], ['qr', 2], ['qr', 3]]), meas_level=2, metadata={'method': 'statevector', 'omp_shot_threads': 1, 'omp_state_threads': 4}, seed=3021120747, shots=1024, status='DONE', success=True, time_taken=1.2969135330000001), ExperimentResult(data=ExperimentResultData(counts=Obj(0x0=161, 0x1=173, 0x2=50, 0x3=39, 0x4=169, 0x5=164, 0x6=41, 0x7=40, 0x8=38, 0x9=40, 0xa=5, 0xb=7, 0xc=37, 0xd=40, 0xe=9, 0xf=11)), header=Obj(clbit_labels=[['cr', 0], ['cr', 1], ['cr', 2], ['cr', 3]], creg_sizes=[['cr', 4]], memory_slots=4, n_qubits=4, name='rb_purity_XZ_length_2_seed_2', qreg_sizes=[['qr', 4]], qubit_labels=[['qr', 0], ['qr', 1], ['qr', 2], ['qr', 3]]), meas_level=2, metadata={'method': 'statevector', 'omp_shot_threads': 1, 'omp_state_threads': 4}, seed=1748322767, shots=1024, status='DONE', success=True, time_taken=2.099995738), ExperimentResult(data=ExperimentResultData(counts=Obj(0x0=147, 0x1=162, 0x2=35, 0x3=49, 0x4=173, 0x5=163, 0x6=42, 0x7=40, 0x8=38, 0x9=26, 0xa=15, 0xb=20, 0xc=41, 0xd=51, 0xe=12, 0xf=10)), header=Obj(clbit_labels=[['cr', 0], ['cr', 1], ['cr', 2], ['cr', 3]], creg_sizes=[['cr', 4]], memory_slots=4, n_qubits=4, name='rb_purity_XZ_length_3_seed_2', qreg_sizes=[['qr', 4]], qubit_labels=[['qr', 0], ['qr', 1], ['qr', 2], ['qr', 3]]), meas_level=2, metadata={'method': 'statevector', 'omp_shot_threads': 1, 'omp_state_threads': 4}, seed=1317397984, shots=1024, status='DONE', success=True, time_taken=2.372496835), ExperimentResult(data=ExperimentResultData(counts=Obj(0x0=131, 0x1=126, 0x2=52, 0x3=42, 0x4=133, 0x5=146, 0x6=52, 0x7=66, 0x8=48, 0x9=55, 0xa=25, 0xb=17, 0xc=48, 0xd=43, 0xe=17, 0xf=23)), header=Obj(clbit_labels=[['cr', 0], ['cr', 1], ['cr', 2], ['cr', 3]], creg_sizes=[['cr', 4]], memory_slots=4, n_qubits=4, name='rb_purity_XZ_length_4_seed_2', qreg_sizes=[['qr', 4]], qubit_labels=[['qr', 0], ['qr', 1], ['qr', 2], ['qr', 3]]), meas_level=2, metadata={'method': 'statevector', 'omp_shot_threads': 1, 'omp_state_threads': 4}, seed=730608382, shots=1024, status='DONE', success=True, time_taken=3.7445709600000003)], status='COMPLETED', success=True, time_taken=10.003146409988403)], [Result(backend_name='qasm_simulator', backend_version='0.1.1', date=datetime.datetime(2019, 6, 20, 14, 7, 4, 778864), header=Obj(backend_name='qasm_simulator', backend_version='0.1.1'), job_id='55256f57-28d4-45ce-b5dc-820b675cfbdc', metadata={'omp_available_threads': 4, 'omp_circuit_threads': 1, 'omp_enabled': True, 'time_taken': 9.655437625000001}, qobj_id='3d27fc27-2f7a-4ce5-8fae-d59326789fe6', results=[ExperimentResult(data=ExperimentResultData(counts=Obj(0x0=229, 0x1=247, 0x2=5, 0x3=3, 0x4=249, 0x5=238, 0x6=5, 0x7=15, 0x8=9, 0x9=7, 0xb=1, 0xc=8, 0xd=8)), header=Obj(clbit_labels=[['cr', 0], ['cr', 1], ['cr', 2], ['cr', 3]], creg_sizes=[['cr', 4]], memory_slots=4, n_qubits=4, name='rb_purity_YZ_length_0_seed_0', qreg_sizes=[['qr', 4]], qubit_labels=[['qr', 0], ['qr', 1], ['qr', 2], ['qr', 3]]), meas_level=2, metadata={'method': 'statevector', 'omp_shot_threads': 1, 'omp_state_threads': 4}, seed=55247353, shots=1024, status='DONE', success=True, time_taken=0.32852394), ExperimentResult(data=ExperimentResultData(counts=Obj(0x0=234, 0x1=205, 0x2=18, 0x3=27, 0x4=214, 0x5=217, 0x6=22, 0x7=11, 0x8=11, 0x9=16, 0xa=7, 0xc=17, 0xd=19, 0xe=4, 0xf=2)), header=Obj(clbit_labels=[['cr', 0], ['cr', 1], ['cr', 2], ['cr', 3]], creg_sizes=[['cr', 4]], memory_slots=4, n_qubits=4, name='rb_purity_YZ_length_1_seed_0', qreg_sizes=[['qr', 4]], qubit_labels=[['qr', 0], ['qr', 1], ['qr', 2], ['qr', 3]]), meas_level=2, metadata={'method': 'statevector', 'omp_shot_threads': 1, 'omp_state_threads': 4}, seed=1238828162, shots=1024, status='DONE', success=True, time_taken=1.217037638), ExperimentResult(data=ExperimentResultData(counts=Obj(0x0=185, 0x1=192, 0x2=41, 0x3=30, 0x4=180, 0x5=185, 0x6=36, 0x7=31, 0x8=32, 0x9=30, 0xa=9, 0xb=6, 0xc=31, 0xd=23, 0xe=7, 0xf=6)), header=Obj(clbit_labels=[['cr', 0], ['cr', 1], ['cr', 2], ['cr', 3]], creg_sizes=[['cr', 4]], memory_slots=4, n_qubits=4, name='rb_purity_YZ_length_2_seed_0', qreg_sizes=[['qr', 4]], qubit_labels=[['qr', 0], ['qr', 1], ['qr', 2], ['qr', 3]]), meas_level=2, metadata={'method': 'statevector', 'omp_shot_threads': 1, 'omp_state_threads': 4}, seed=2454084721, shots=1024, status='DONE', success=True, time_taken=2.071186515), ExperimentResult(data=ExperimentResultData(counts=Obj(0x0=161, 0x1=166, 0x2=45, 0x3=46, 0x4=156, 0x5=130, 0x6=46, 0x7=37, 0x8=48, 0x9=47, 0xa=10, 0xb=16, 0xc=52, 0xd=38, 0xe=13, 0xf=13)), header=Obj(clbit_labels=[['cr', 0], ['cr', 1], ['cr', 2], ['cr', 3]], creg_sizes=[['cr', 4]], memory_slots=4, n_qubits=4, name='rb_purity_YZ_length_3_seed_0', qreg_sizes=[['qr', 4]], qubit_labels=[['qr', 0], ['qr', 1], ['qr', 2], ['qr', 3]]), meas_level=2, metadata={'method': 'statevector', 'omp_shot_threads': 1, 'omp_state_threads': 4}, seed=2511762738, shots=1024, status='DONE', success=True, time_taken=2.7469784340000003), ExperimentResult(data=ExperimentResultData(counts=Obj(0x0=133, 0x1=127, 0x2=65, 0x3=59, 0x4=131, 0x5=150, 0x6=50, 0x7=53, 0x8=41, 0x9=41, 0xa=25, 0xb=15, 0xc=45, 0xd=47, 0xe=22, 0xf=20)), header=Obj(clbit_labels=[['cr', 0], ['cr', 1], ['cr', 2], ['cr', 3]], creg_sizes=[['cr', 4]], memory_slots=4, n_qubits=4, name='rb_purity_YZ_length_4_seed_0', qreg_sizes=[['qr', 4]], qubit_labels=[['qr', 0], ['qr', 1], ['qr', 2], ['qr', 3]]), meas_level=2, metadata={'method': 'statevector', 'omp_shot_threads': 1, 'omp_state_threads': 4}, seed=3765165785, shots=1024, status='DONE', success=True, time_taken=3.287070747)], status='COMPLETED', success=True, time_taken=9.830241441726685), Result(backend_name='qasm_simulator', backend_version='0.1.1', date=datetime.datetime(2019, 6, 20, 14, 8, 52, 357956), header=Obj(backend_name='qasm_simulator', backend_version='0.1.1'), job_id='19df9272-f647-492f-9ae6-b0642a66ed7f', metadata={'omp_available_threads': 4, 'omp_circuit_threads': 1, 'omp_enabled': True, 'time_taken': 12.123342563000001}, qobj_id='d5ee5d62-30eb-459c-a553-331a50a909d2', results=[ExperimentResult(data=ExperimentResultData(counts=Obj(0x0=244, 0x1=236, 0x2=4, 0x3=1, 0x4=242, 0x5=257, 0x6=6, 0x7=7, 0x8=8, 0x9=7, 0xc=5, 0xd=7)), header=Obj(clbit_labels=[['cr', 0], ['cr', 1], ['cr', 2], ['cr', 3]], creg_sizes=[['cr', 4]], memory_slots=4, n_qubits=4, name='rb_purity_YZ_length_0_seed_1', qreg_sizes=[['qr', 4]], qubit_labels=[['qr', 0], ['qr', 1], ['qr', 2], ['qr', 3]]), meas_level=2, metadata={'method': 'statevector', 'omp_shot_threads': 1, 'omp_state_threads': 4}, seed=443069609, shots=1024, status='DONE', success=True, time_taken=0.297453301), ExperimentResult(data=ExperimentResultData(counts=Obj(0x0=198, 0x1=164, 0x2=29, 0x3=32, 0x4=214, 0x5=231, 0x6=18, 0x7=17, 0x8=16, 0x9=29, 0xa=2, 0xb=2, 0xc=32, 0xd=35, 0xe=3, 0xf=2)), header=Obj(clbit_labels=[['cr', 0], ['cr', 1], ['cr', 2], ['cr', 3]], creg_sizes=[['cr', 4]], memory_slots=4, n_qubits=4, name='rb_purity_YZ_length_1_seed_1', qreg_sizes=[['qr', 4]], qubit_labels=[['qr', 0], ['qr', 1], ['qr', 2], ['qr', 3]]), meas_level=2, metadata={'method': 'statevector', 'omp_shot_threads': 1, 'omp_state_threads': 4}, seed=3388049998, shots=1024, status='DONE', success=True, time_taken=1.3227477600000002), ExperimentResult(data=ExperimentResultData(counts=Obj(0x0=195, 0x1=169, 0x2=34, 0x3=37, 0x4=173, 0x5=167, 0x6=30, 0x7=50, 0x8=41, 0x9=32, 0xa=8, 0xb=8, 0xc=33, 0xd=25, 0xe=14, 0xf=8)), header=Obj(clbit_labels=[['cr', 0], ['cr', 1], ['cr', 2], ['cr', 3]], creg_sizes=[['cr', 4]], memory_slots=4, n_qubits=4, name='rb_purity_YZ_length_2_seed_1', qreg_sizes=[['qr', 4]], qubit_labels=[['qr', 0], ['qr', 1], ['qr', 2], ['qr', 3]]), meas_level=2, metadata={'method': 'statevector', 'omp_shot_threads': 1, 'omp_state_threads': 4}, seed=1695205911, shots=1024, status='DONE', success=True, time_taken=2.43952989), ExperimentResult(data=ExperimentResultData(counts=Obj(0x0=123, 0x1=137, 0x2=53, 0x3=61, 0x4=173, 0x5=145, 0x6=49, 0x7=52, 0x8=37, 0x9=60, 0xa=16, 0xb=13, 0xc=41, 0xd=42, 0xe=16, 0xf=6)), header=Obj(clbit_labels=[['cr', 0], ['cr', 1], ['cr', 2], ['cr', 3]], creg_sizes=[['cr', 4]], memory_slots=4, n_qubits=4, name='rb_purity_YZ_length_3_seed_1', qreg_sizes=[['qr', 4]], qubit_labels=[['qr', 0], ['qr', 1], ['qr', 2], ['qr', 3]]), meas_level=2, metadata={'method': 'statevector', 'omp_shot_threads': 1, 'omp_state_threads': 4}, seed=2050830890, shots=1024, status='DONE', success=True, time_taken=3.4457298250000004), ExperimentResult(data=ExperimentResultData(counts=Obj(0x0=132, 0x1=132, 0x2=57, 0x3=45, 0x4=117, 0x5=112, 0x6=56, 0x7=55, 0x8=63, 0x9=56, 0xa=21, 0xb=17, 0xc=60, 0xd=60, 0xe=19, 0xf=22)), header=Obj(clbit_labels=[['cr', 0], ['cr', 1], ['cr', 2], ['cr', 3]], creg_sizes=[['cr', 4]], memory_slots=4, n_qubits=4, name='rb_purity_YZ_length_4_seed_1', qreg_sizes=[['qr', 4]], qubit_labels=[['qr', 0], ['qr', 1], ['qr', 2], ['qr', 3]]), meas_level=2, metadata={'method': 'statevector', 'omp_shot_threads': 1, 'omp_state_threads': 4}, seed=1153185121, shots=1024, status='DONE', success=True, time_taken=4.612778391)], status='COMPLETED', success=True, time_taken=12.579789400100708), Result(backend_name='qasm_simulator', backend_version='0.1.1', date=datetime.datetime(2019, 6, 20, 14, 10, 42, 676651), header=Obj(backend_name='qasm_simulator', backend_version='0.1.1'), job_id='40496f70-e33c-4ec3-8f15-68dd5fb2cb91', metadata={'omp_available_threads': 4, 'omp_circuit_threads': 1, 'omp_enabled': True, 'time_taken': 8.686952494}, qobj_id='ba5b8503-0f76-4716-b394-0de623bf0e4b', results=[ExperimentResult(data=ExperimentResultData(counts=Obj(0x0=236, 0x1=237, 0x2=2, 0x3=6, 0x4=275, 0x5=251, 0x6=3, 0x7=7, 0x8=1, 0x9=2, 0xc=2, 0xd=2)), header=Obj(clbit_labels=[['cr', 0], ['cr', 1], ['cr', 2], ['cr', 3]], creg_sizes=[['cr', 4]], memory_slots=4, n_qubits=4, name='rb_purity_YZ_length_0_seed_2', qreg_sizes=[['qr', 4]], qubit_labels=[['qr', 0], ['qr', 1], ['qr', 2], ['qr', 3]]), meas_level=2, metadata={'method': 'statevector', 'omp_shot_threads': 1, 'omp_state_threads': 4}, seed=2093840185, shots=1024, status='DONE', success=True, time_taken=0.26506834100000004), ExperimentResult(data=ExperimentResultData(counts=Obj(0x0=198, 0x1=200, 0x2=17, 0x3=16, 0x4=247, 0x5=192, 0x6=25, 0x7=27, 0x8=21, 0x9=25, 0xa=4, 0xb=5, 0xc=20, 0xd=21, 0xe=2, 0xf=4)), header=Obj(clbit_labels=[['cr', 0], ['cr', 1], ['cr', 2], ['cr', 3]], creg_sizes=[['cr', 4]], memory_slots=4, n_qubits=4, name='rb_purity_YZ_length_1_seed_2', qreg_sizes=[['qr', 4]], qubit_labels=[['qr', 0], ['qr', 1], ['qr', 2], ['qr', 3]]), meas_level=2, metadata={'method': 'statevector', 'omp_shot_threads': 1, 'omp_state_threads': 4}, seed=4185204281, shots=1024, status='DONE', success=True, time_taken=0.920593301), ExperimentResult(data=ExperimentResultData(counts=Obj(0x0=180, 0x1=186, 0x2=42, 0x3=42, 0x4=158, 0x5=159, 0x6=29, 0x7=37, 0x8=44, 0x9=41, 0xa=9, 0xb=6, 0xc=31, 0xd=40, 0xe=10, 0xf=10)), header=Obj(clbit_labels=[['cr', 0], ['cr', 1], ['cr', 2], ['cr', 3]], creg_sizes=[['cr', 4]], memory_slots=4, n_qubits=4, name='rb_purity_YZ_length_2_seed_2', qreg_sizes=[['qr', 4]], qubit_labels=[['qr', 0], ['qr', 1], ['qr', 2], ['qr', 3]]), meas_level=2, metadata={'method': 'statevector', 'omp_shot_threads': 1, 'omp_state_threads': 4}, seed=4130303098, shots=1024, status='DONE', success=True, time_taken=2.081766681), ExperimentResult(data=ExperimentResultData(counts=Obj(0x0=148, 0x1=155, 0x2=33, 0x3=40, 0x4=179, 0x5=168, 0x6=32, 0x7=35, 0x8=43, 0x9=47, 0xa=15, 0xb=17, 0xc=50, 0xd=34, 0xe=10, 0xf=18)), header=Obj(clbit_labels=[['cr', 0], ['cr', 1], ['cr', 2], ['cr', 3]], creg_sizes=[['cr', 4]], memory_slots=4, n_qubits=4, name='rb_purity_YZ_length_3_seed_2', qreg_sizes=[['qr', 4]], qubit_labels=[['qr', 0], ['qr', 1], ['qr', 2], ['qr', 3]]), meas_level=2, metadata={'method': 'statevector', 'omp_shot_threads': 1, 'omp_state_threads': 4}, seed=1672052336, shots=1024, status='DONE', success=True, time_taken=2.2753999730000003), ExperimentResult(data=ExperimentResultData(counts=Obj(0x0=135, 0x1=120, 0x2=44, 0x3=48, 0x4=139, 0x5=136, 0x6=60, 0x7=48, 0x8=54, 0x9=51, 0xa=21, 0xb=20, 0xc=59, 0xd=49, 0xe=24, 0xf=16)), header=Obj(clbit_labels=[['cr', 0], ['cr', 1], ['cr', 2], ['cr', 3]], creg_sizes=[['cr', 4]], memory_slots=4, n_qubits=4, name='rb_purity_YZ_length_4_seed_2', qreg_sizes=[['qr', 4]], qubit_labels=[['qr', 0], ['qr', 1], ['qr', 2], ['qr', 3]]), meas_level=2, metadata={'method': 'statevector', 'omp_shot_threads': 1, 'omp_state_threads': 4}, seed=952753175, shots=1024, status='DONE', success=True, time_taken=3.1391647590000002)], status='COMPLETED', success=True, time_taken=8.85986065864563)], [Result(backend_name='qasm_simulator', backend_version='0.1.1', date=datetime.datetime(2019, 6, 20, 14, 7, 15, 798160), header=Obj(backend_name='qasm_simulator', backend_version='0.1.1'), job_id='cdfac71b-44fe-4f11-917b-224f1085c1b3', metadata={'omp_available_threads': 4, 'omp_circuit_threads': 1, 'omp_enabled': True, 'time_taken': 8.798918862}, qobj_id='408cd2b4-4a6f-4e7d-8b32-2b833f02bbb8', results=[ExperimentResult(data=ExperimentResultData(counts=Obj(0x0=254, 0x1=4, 0x2=244, 0x3=9, 0x4=8, 0x5=1, 0x6=8, 0x8=250, 0x9=6, 0xa=222, 0xb=5, 0xc=6, 0xe=7)), header=Obj(clbit_labels=[['cr', 0], ['cr', 1], ['cr', 2], ['cr', 3]], creg_sizes=[['cr', 4]], memory_slots=4, n_qubits=4, name='rb_purity_ZX_length_0_seed_0', qreg_sizes=[['qr', 4]], qubit_labels=[['qr', 0], ['qr', 1], ['qr', 2], ['qr', 3]]), meas_level=2, metadata={'method': 'statevector', 'omp_shot_threads': 1, 'omp_state_threads': 4}, seed=782420439, shots=1024, status='DONE', success=True, time_taken=0.277130467), ExperimentResult(data=ExperimentResultData(counts=Obj(0x0=211, 0x1=29, 0x2=229, 0x3=28, 0x4=18, 0x5=3, 0x6=18, 0x7=4, 0x8=213, 0x9=26, 0xa=188, 0xb=26, 0xc=12, 0xd=1, 0xe=16, 0xf=2)), header=Obj(clbit_labels=[['cr', 0], ['cr', 1], ['cr', 2], ['cr', 3]], creg_sizes=[['cr', 4]], memory_slots=4, n_qubits=4, name='rb_purity_ZX_length_1_seed_0', qreg_sizes=[['qr', 4]], qubit_labels=[['qr', 0], ['qr', 1], ['qr', 2], ['qr', 3]]), meas_level=2, metadata={'method': 'statevector', 'omp_shot_threads': 1, 'omp_state_threads': 4}, seed=3965963683, shots=1024, status='DONE', success=True, time_taken=0.8850761290000001), ExperimentResult(data=ExperimentResultData(counts=Obj(0x0=169, 0x1=42, 0x2=177, 0x3=42, 0x4=36, 0x5=8, 0x6=36, 0x7=2, 0x8=183, 0x9=43, 0xa=169, 0xb=40, 0xc=37, 0xd=7, 0xe=27, 0xf=6)), header=Obj(clbit_labels=[['cr', 0], ['cr', 1], ['cr', 2], ['cr', 3]], creg_sizes=[['cr', 4]], memory_slots=4, n_qubits=4, name='rb_purity_ZX_length_2_seed_0', qreg_sizes=[['qr', 4]], qubit_labels=[['qr', 0], ['qr', 1], ['qr', 2], ['qr', 3]]), meas_level=2, metadata={'method': 'statevector', 'omp_shot_threads': 1, 'omp_state_threads': 4}, seed=2164642573, shots=1024, status='DONE', success=True, time_taken=1.4602130500000001), ExperimentResult(data=ExperimentResultData(counts=Obj(0x0=157, 0x1=52, 0x2=124, 0x3=38, 0x4=46, 0x5=16, 0x6=50, 0x7=13, 0x8=145, 0x9=50, 0xa=182, 0xb=44, 0xc=32, 0xd=12, 0xe=43, 0xf=20)), header=Obj(clbit_labels=[['cr', 0], ['cr', 1], ['cr', 2], ['cr', 3]], creg_sizes=[['cr', 4]], memory_slots=4, n_qubits=4, name='rb_purity_ZX_length_3_seed_0', qreg_sizes=[['qr', 4]], qubit_labels=[['qr', 0], ['qr', 1], ['qr', 2], ['qr', 3]]), meas_level=2, metadata={'method': 'statevector', 'omp_shot_threads': 1, 'omp_state_threads': 4}, seed=2584074333, shots=1024, status='DONE', success=True, time_taken=3.0265441650000002), ExperimentResult(data=ExperimentResultData(counts=Obj(0x0=156, 0x1=49, 0x2=156, 0x3=59, 0x4=49, 0x5=21, 0x6=44, 0x7=14, 0x8=120, 0x9=51, 0xa=133, 0xb=44, 0xc=41, 0xd=18, 0xe=52, 0xf=17)), header=Obj(clbit_labels=[['cr', 0], ['cr', 1], ['cr', 2], ['cr', 3]], creg_sizes=[['cr', 4]], memory_slots=4, n_qubits=4, name='rb_purity_ZX_length_4_seed_0', qreg_sizes=[['qr', 4]], qubit_labels=[['qr', 0], ['qr', 1], ['qr', 2], ['qr', 3]]), meas_level=2, metadata={'method': 'statevector', 'omp_shot_threads': 1, 'omp_state_threads': 4}, seed=692009296, shots=1024, status='DONE', success=True, time_taken=3.1444383080000002)], status='COMPLETED', success=True, time_taken=9.01393437385559), Result(backend_name='qasm_simulator', backend_version='0.1.1', date=datetime.datetime(2019, 6, 20, 14, 9, 6, 139087), header=Obj(backend_name='qasm_simulator', backend_version='0.1.1'), job_id='8c9e29a7-8776-4dfd-9115-9ef16d166b16', metadata={'omp_available_threads': 4, 'omp_circuit_threads': 1, 'omp_enabled': True, 'time_taken': 10.951673851}, qobj_id='fe33191d-d0de-4237-a38a-a00ae4d21394', results=[ExperimentResult(data=ExperimentResultData(counts=Obj(0x0=232, 0x1=2, 0x2=263, 0x3=8, 0x4=7, 0x6=3, 0x8=235, 0x9=4, 0xa=251, 0xb=4, 0xc=6, 0xe=9)), header=Obj(clbit_labels=[['cr', 0], ['cr', 1], ['cr', 2], ['cr', 3]], creg_sizes=[['cr', 4]], memory_slots=4, n_qubits=4, name='rb_purity_ZX_length_0_seed_1', qreg_sizes=[['qr', 4]], qubit_labels=[['qr', 0], ['qr', 1], ['qr', 2], ['qr', 3]]), meas_level=2, metadata={'method': 'statevector', 'omp_shot_threads': 1, 'omp_state_threads': 4}, seed=3649891266, shots=1024, status='DONE', success=True, time_taken=0.304064626), ExperimentResult(data=ExperimentResultData(counts=Obj(0x0=217, 0x1=27, 0x2=215, 0x3=23, 0x4=29, 0x5=1, 0x6=22, 0x7=1, 0x8=192, 0x9=24, 0xa=198, 0xb=25, 0xc=20, 0xd=4, 0xe=23, 0xf=3)), header=Obj(clbit_labels=[['cr', 0], ['cr', 1], ['cr', 2], ['cr', 3]], creg_sizes=[['cr', 4]], memory_slots=4, n_qubits=4, name='rb_purity_ZX_length_1_seed_1', qreg_sizes=[['qr', 4]], qubit_labels=[['qr', 0], ['qr', 1], ['qr', 2], ['qr', 3]]), meas_level=2, metadata={'method': 'statevector', 'omp_shot_threads': 1, 'omp_state_threads': 4}, seed=1217224593, shots=1024, status='DONE', success=True, time_taken=0.92197887), ExperimentResult(data=ExperimentResultData(counts=Obj(0x0=173, 0x1=44, 0x2=162, 0x3=33, 0x4=28, 0x5=6, 0x6=46, 0x7=8, 0x8=178, 0x9=44, 0xa=172, 0xb=41, 0xc=27, 0xd=8, 0xe=42, 0xf=12)), header=Obj(clbit_labels=[['cr', 0], ['cr', 1], ['cr', 2], ['cr', 3]], creg_sizes=[['cr', 4]], memory_slots=4, n_qubits=4, name='rb_purity_ZX_length_2_seed_1', qreg_sizes=[['qr', 4]], qubit_labels=[['qr', 0], ['qr', 1], ['qr', 2], ['qr', 3]]), meas_level=2, metadata={'method': 'statevector', 'omp_shot_threads': 1, 'omp_state_threads': 4}, seed=2648076317, shots=1024, status='DONE', success=True, time_taken=1.791624152), ExperimentResult(data=ExperimentResultData(counts=Obj(0x0=137, 0x1=46, 0x2=146, 0x3=51, 0x4=39, 0x5=21, 0x6=38, 0x7=21, 0x8=156, 0x9=43, 0xa=164, 0xb=56, 0xc=47, 0xd=11, 0xe=40, 0xf=8)), header=Obj(clbit_labels=[['cr', 0], ['cr', 1], ['cr', 2], ['cr', 3]], creg_sizes=[['cr', 4]], memory_slots=4, n_qubits=4, name='rb_purity_ZX_length_3_seed_1', qreg_sizes=[['qr', 4]], qubit_labels=[['qr', 0], ['qr', 1], ['qr', 2], ['qr', 3]]), meas_level=2, metadata={'method': 'statevector', 'omp_shot_threads': 1, 'omp_state_threads': 4}, seed=1535734401, shots=1024, status='DONE', success=True, time_taken=3.3727735880000003), ExperimentResult(data=ExperimentResultData(counts=Obj(0x0=136, 0x1=64, 0x2=130, 0x3=53, 0x4=48, 0x5=20, 0x6=46, 0x7=19, 0x8=132, 0x9=53, 0xa=134, 0xb=47, 0xc=60, 0xd=18, 0xe=37, 0xf=27)), header=Obj(clbit_labels=[['cr', 0], ['cr', 1], ['cr', 2], ['cr', 3]], creg_sizes=[['cr', 4]], memory_slots=4, n_qubits=4, name='rb_purity_ZX_length_4_seed_1', qreg_sizes=[['qr', 4]], qubit_labels=[['qr', 0], ['qr', 1], ['qr', 2], ['qr', 3]]), meas_level=2, metadata={'method': 'statevector', 'omp_shot_threads': 1, 'omp_state_threads': 4}, seed=3644550794, shots=1024, status='DONE', success=True, time_taken=4.555947581)], status='COMPLETED', success=True, time_taken=11.142481803894043), Result(backend_name='qasm_simulator', backend_version='0.1.1', date=datetime.datetime(2019, 6, 20, 14, 10, 53, 112437), header=Obj(backend_name='qasm_simulator', backend_version='0.1.1'), job_id='c946557b-276f-42df-a65b-cd0787d2cec8', metadata={'omp_available_threads': 4, 'omp_circuit_threads': 1, 'omp_enabled': True, 'time_taken': 8.325622990000001}, qobj_id='bcda2ef2-3b41-4658-921a-02f4594e1e7d', results=[ExperimentResult(data=ExperimentResultData(counts=Obj(0x0=252, 0x1=3, 0x2=250, 0x3=7, 0x6=1, 0x8=263, 0x9=3, 0xa=243, 0xb=1, 0xe=1)), header=Obj(clbit_labels=[['cr', 0], ['cr', 1], ['cr', 2], ['cr', 3]], creg_sizes=[['cr', 4]], memory_slots=4, n_qubits=4, name='rb_purity_ZX_length_0_seed_2', qreg_sizes=[['qr', 4]], qubit_labels=[['qr', 0], ['qr', 1], ['qr', 2], ['qr', 3]]), meas_level=2, metadata={'method': 'statevector', 'omp_shot_threads': 1, 'omp_state_threads': 4}, seed=4226723737, shots=1024, status='DONE', success=True, time_taken=0.26613362500000004), ExperimentResult(data=ExperimentResultData(counts=Obj(0x0=220, 0x1=20, 0x2=195, 0x3=19, 0x4=21, 0x5=3, 0x6=33, 0x7=2, 0x8=207, 0x9=16, 0xa=210, 0xb=18, 0xc=32, 0xd=2, 0xe=23, 0xf=3)), header=Obj(clbit_labels=[['cr', 0], ['cr', 1], ['cr', 2], ['cr', 3]], creg_sizes=[['cr', 4]], memory_slots=4, n_qubits=4, name='rb_purity_ZX_length_1_seed_2', qreg_sizes=[['qr', 4]], qubit_labels=[['qr', 0], ['qr', 1], ['qr', 2], ['qr', 3]]), meas_level=2, metadata={'method': 'statevector', 'omp_shot_threads': 1, 'omp_state_threads': 4}, seed=3645337834, shots=1024, status='DONE', success=True, time_taken=0.9682038310000001), ExperimentResult(data=ExperimentResultData(counts=Obj(0x0=157, 0x1=44, 0x2=173, 0x3=37, 0x4=38, 0x5=8, 0x6=48, 0x7=9, 0x8=182, 0x9=34, 0xa=181, 0xb=37, 0xc=28, 0xd=6, 0xe=34, 0xf=8)), header=Obj(clbit_labels=[['cr', 0], ['cr', 1], ['cr', 2], ['cr', 3]], creg_sizes=[['cr', 4]], memory_slots=4, n_qubits=4, name='rb_purity_ZX_length_2_seed_2', qreg_sizes=[['qr', 4]], qubit_labels=[['qr', 0], ['qr', 1], ['qr', 2], ['qr', 3]]), meas_level=2, metadata={'method': 'statevector', 'omp_shot_threads': 1, 'omp_state_threads': 4}, seed=1634995628, shots=1024, status='DONE', success=True, time_taken=1.6630590600000001), ExperimentResult(data=ExperimentResultData(counts=Obj(0x0=142, 0x1=44, 0x2=149, 0x3=51, 0x4=42, 0x5=16, 0x6=40, 0x7=10, 0x8=162, 0x9=56, 0xa=161, 0xb=44, 0xc=45, 0xd=13, 0xe=41, 0xf=8)), header=Obj(clbit_labels=[['cr', 0], ['cr', 1], ['cr', 2], ['cr', 3]], creg_sizes=[['cr', 4]], memory_slots=4, n_qubits=4, name='rb_purity_ZX_length_3_seed_2', qreg_sizes=[['qr', 4]], qubit_labels=[['qr', 0], ['qr', 1], ['qr', 2], ['qr', 3]]), meas_level=2, metadata={'method': 'statevector', 'omp_shot_threads': 1, 'omp_state_threads': 4}, seed=1663319711, shots=1024, status='DONE', success=True, time_taken=2.25308645), ExperimentResult(data=ExperimentResultData(counts=Obj(0x0=144, 0x1=48, 0x2=137, 0x3=48, 0x4=44, 0x5=22, 0x6=55, 0x7=23, 0x8=129, 0x9=68, 0xa=127, 0xb=48, 0xc=34, 0xd=25, 0xe=49, 0xf=23)), header=Obj(clbit_labels=[['cr', 0], ['cr', 1], ['cr', 2], ['cr', 3]], creg_sizes=[['cr', 4]], memory_slots=4, n_qubits=4, name='rb_purity_ZX_length_4_seed_2', qreg_sizes=[['qr', 4]], qubit_labels=[['qr', 0], ['qr', 1], ['qr', 2], ['qr', 3]]), meas_level=2, metadata={'method': 'statevector', 'omp_shot_threads': 1, 'omp_state_threads': 4}, seed=2172212906, shots=1024, status='DONE', success=True, time_taken=3.1705857820000003)], status='COMPLETED', success=True, time_taken=8.504161834716797)], [Result(backend_name='qasm_simulator', backend_version='0.1.1', date=datetime.datetime(2019, 6, 20, 14, 7, 27, 363484), header=Obj(backend_name='qasm_simulator', backend_version='0.1.1'), job_id='24ba29f0-3282-4196-816d-f50d6ab4a177', metadata={'omp_available_threads': 4, 'omp_circuit_threads': 1, 'omp_enabled': True, 'time_taken': 9.43651138}, qobj_id='e31dbc60-2cb7-4a9e-9111-1bea6fd48b8a', results=[ExperimentResult(data=ExperimentResultData(counts=Obj(0x0=59, 0x1=56, 0x2=65, 0x3=70, 0x4=61, 0x5=73, 0x6=70, 0x7=53, 0x8=83, 0x9=66, 0xa=59, 0xb=42, 0xc=64, 0xd=75, 0xe=59, 0xf=69)), header=Obj(clbit_labels=[['cr', 0], ['cr', 1], ['cr', 2], ['cr', 3]], creg_sizes=[['cr', 4]], memory_slots=4, n_qubits=4, name='rb_purity_XX_length_0_seed_0', qreg_sizes=[['qr', 4]], qubit_labels=[['qr', 0], ['qr', 1], ['qr', 2], ['qr', 3]]), meas_level=2, metadata={'method': 'statevector', 'omp_shot_threads': 1, 'omp_state_threads': 4}, seed=3712686741, shots=1024, status='DONE', success=True, time_taken=0.377042931), ExperimentResult(data=ExperimentResultData(counts=Obj(0x0=59, 0x1=66, 0x2=52, 0x3=70, 0x4=67, 0x5=51, 0x6=44, 0x7=70, 0x8=66, 0x9=52, 0xa=74, 0xb=70, 0xc=71, 0xd=73, 0xe=69, 0xf=70)), header=Obj(clbit_labels=[['cr', 0], ['cr', 1], ['cr', 2], ['cr', 3]], creg_sizes=[['cr', 4]], memory_slots=4, n_qubits=4, name='rb_purity_XX_length_1_seed_0', qreg_sizes=[['qr', 4]], qubit_labels=[['qr', 0], ['qr', 1], ['qr', 2], ['qr', 3]]), meas_level=2, metadata={'method': 'statevector', 'omp_shot_threads': 1, 'omp_state_threads': 4}, seed=2143117438, shots=1024, status='DONE', success=True, time_taken=1.195339662), ExperimentResult(data=ExperimentResultData(counts=Obj(0x0=69, 0x1=64, 0x2=61, 0x3=66, 0x4=67, 0x5=55, 0x6=56, 0x7=69, 0x8=68, 0x9=66, 0xa=68, 0xb=72, 0xc=62, 0xd=59, 0xe=60, 0xf=62)), header=Obj(clbit_labels=[['cr', 0], ['cr', 1], ['cr', 2], ['cr', 3]], creg_sizes=[['cr', 4]], memory_slots=4, n_qubits=4, name='rb_purity_XX_length_2_seed_0', qreg_sizes=[['qr', 4]], qubit_labels=[['qr', 0], ['qr', 1], ['qr', 2], ['qr', 3]]), meas_level=2, metadata={'method': 'statevector', 'omp_shot_threads': 1, 'omp_state_threads': 4}, seed=410232599, shots=1024, status='DONE', success=True, time_taken=1.7846157790000001), ExperimentResult(data=ExperimentResultData(counts=Obj(0x0=54, 0x1=55, 0x2=67, 0x3=64, 0x4=73, 0x5=59, 0x6=56, 0x7=72, 0x8=57, 0x9=72, 0xa=64, 0xb=66, 0xc=64, 0xd=55, 0xe=77, 0xf=69)), header=Obj(clbit_labels=[['cr', 0], ['cr', 1], ['cr', 2], ['cr', 3]], creg_sizes=[['cr', 4]], memory_slots=4, n_qubits=4, name='rb_purity_XX_length_3_seed_0', qreg_sizes=[['qr', 4]], qubit_labels=[['qr', 0], ['qr', 1], ['qr', 2], ['qr', 3]]), meas_level=2, metadata={'method': 'statevector', 'omp_shot_threads': 1, 'omp_state_threads': 4}, seed=600696288, shots=1024, status='DONE', success=True, time_taken=2.5500782650000002), ExperimentResult(data=ExperimentResultData(counts=Obj(0x0=58, 0x1=66, 0x2=73, 0x3=53, 0x4=56, 0x5=63, 0x6=70, 0x7=62, 0x8=67, 0x9=63, 0xa=66, 0xb=70, 0xc=68, 0xd=69, 0xe=59, 0xf=61)), header=Obj(clbit_labels=[['cr', 0], ['cr', 1], ['cr', 2], ['cr', 3]], creg_sizes=[['cr', 4]], memory_slots=4, n_qubits=4, name='rb_purity_XX_length_4_seed_0', qreg_sizes=[['qr', 4]], qubit_labels=[['qr', 0], ['qr', 1], ['qr', 2], ['qr', 3]]), meas_level=2, metadata={'method': 'statevector', 'omp_shot_threads': 1, 'omp_state_threads': 4}, seed=1393905031, shots=1024, status='DONE', success=True, time_taken=3.5247362780000002)], status='COMPLETED', success=True, time_taken=9.603460788726807), Result(backend_name='qasm_simulator', backend_version='0.1.1', date=datetime.datetime(2019, 6, 20, 14, 9, 18, 564396), header=Obj(backend_name='qasm_simulator', backend_version='0.1.1'), job_id='ece55b4c-2c64-4f4b-b0e0-67ae07fc9681', metadata={'omp_available_threads': 4, 'omp_circuit_threads': 1, 'omp_enabled': True, 'time_taken': 9.103625163}, qobj_id='d330abb3-5293-4b0d-909c-09e85e3a7ff0', results=[ExperimentResult(data=ExperimentResultData(counts=Obj(0x0=65, 0x1=54, 0x2=59, 0x3=66, 0x4=64, 0x5=63, 0x6=59, 0x7=67, 0x8=73, 0x9=66, 0xa=66, 0xb=60, 0xc=70, 0xd=69, 0xe=60, 0xf=63)), header=Obj(clbit_labels=[['cr', 0], ['cr', 1], ['cr', 2], ['cr', 3]], creg_sizes=[['cr', 4]], memory_slots=4, n_qubits=4, name='rb_purity_XX_length_0_seed_1', qreg_sizes=[['qr', 4]], qubit_labels=[['qr', 0], ['qr', 1], ['qr', 2], ['qr', 3]]), meas_level=2, metadata={'method': 'statevector', 'omp_shot_threads': 1, 'omp_state_threads': 4}, seed=1411110838, shots=1024, status='DONE', success=True, time_taken=0.42689256400000003), ExperimentResult(data=ExperimentResultData(counts=Obj(0x0=67, 0x1=60, 0x2=68, 0x3=56, 0x4=54, 0x5=69, 0x6=65, 0x7=54, 0x8=70, 0x9=64, 0xa=77, 0xb=59, 0xc=72, 0xd=47, 0xe=72, 0xf=70)), header=Obj(clbit_labels=[['cr', 0], ['cr', 1], ['cr', 2], ['cr', 3]], creg_sizes=[['cr', 4]], memory_slots=4, n_qubits=4, name='rb_purity_XX_length_1_seed_1', qreg_sizes=[['qr', 4]], qubit_labels=[['qr', 0], ['qr', 1], ['qr', 2], ['qr', 3]]), meas_level=2, metadata={'method': 'statevector', 'omp_shot_threads': 1, 'omp_state_threads': 4}, seed=4219954136, shots=1024, status='DONE', success=True, time_taken=1.423624279), ExperimentResult(data=ExperimentResultData(counts=Obj(0x0=66, 0x1=61, 0x2=50, 0x3=56, 0x4=60, 0x5=72, 0x6=63, 0x7=60, 0x8=74, 0x9=75, 0xa=58, 0xb=75, 0xc=66, 0xd=64, 0xe=76, 0xf=48)), header=Obj(clbit_labels=[['cr', 0], ['cr', 1], ['cr', 2], ['cr', 3]], creg_sizes=[['cr', 4]], memory_slots=4, n_qubits=4, name='rb_purity_XX_length_2_seed_1', qreg_sizes=[['qr', 4]], qubit_labels=[['qr', 0], ['qr', 1], ['qr', 2], ['qr', 3]]), meas_level=2, metadata={'method': 'statevector', 'omp_shot_threads': 1, 'omp_state_threads': 4}, seed=4074749220, shots=1024, status='DONE', success=True, time_taken=1.7388759980000001), ExperimentResult(data=ExperimentResultData(counts=Obj(0x0=55, 0x1=69, 0x2=58, 0x3=81, 0x4=74, 0x5=69, 0x6=76, 0x7=59, 0x8=69, 0x9=56, 0xa=67, 0xb=67, 0xc=45, 0xd=69, 0xe=55, 0xf=55)), header=Obj(clbit_labels=[['cr', 0], ['cr', 1], ['cr', 2], ['cr', 3]], creg_sizes=[['cr', 4]], memory_slots=4, n_qubits=4, name='rb_purity_XX_length_3_seed_1', qreg_sizes=[['qr', 4]], qubit_labels=[['qr', 0], ['qr', 1], ['qr', 2], ['qr', 3]]), meas_level=2, metadata={'method': 'statevector', 'omp_shot_threads': 1, 'omp_state_threads': 4}, seed=1213047657, shots=1024, status='DONE', success=True, time_taken=2.380155518), ExperimentResult(data=ExperimentResultData(counts=Obj(0x0=69, 0x1=61, 0x2=68, 0x3=59, 0x4=64, 0x5=72, 0x6=68, 0x7=54, 0x8=72, 0x9=71, 0xa=59, 0xb=60, 0xc=55, 0xd=63, 0xe=74, 0xf=55)), header=Obj(clbit_labels=[['cr', 0], ['cr', 1], ['cr', 2], ['cr', 3]], creg_sizes=[['cr', 4]], memory_slots=4, n_qubits=4, name='rb_purity_XX_length_4_seed_1', qreg_sizes=[['qr', 4]], qubit_labels=[['qr', 0], ['qr', 1], ['qr', 2], ['qr', 3]]), meas_level=2, metadata={'method': 'statevector', 'omp_shot_threads': 1, 'omp_state_threads': 4}, seed=2877435819, shots=1024, status='DONE', success=True, time_taken=3.127524429)], status='COMPLETED', success=True, time_taken=9.304653406143188), Result(backend_name='qasm_simulator', backend_version='0.1.1', date=datetime.datetime(2019, 6, 20, 14, 11, 3, 825290), header=Obj(backend_name='qasm_simulator', backend_version='0.1.1'), job_id='d17506c8-5084-43d2-89b4-2a8ff90213bb', metadata={'omp_available_threads': 4, 'omp_circuit_threads': 1, 'omp_enabled': True, 'time_taken': 8.315209897}, qobj_id='bfd914d4-3f6a-47b1-bf46-3ab570d7165b', results=[ExperimentResult(data=ExperimentResultData(counts=Obj(0x0=60, 0x1=67, 0x2=59, 0x3=69, 0x4=72, 0x5=78, 0x6=66, 0x7=55, 0x8=60, 0x9=63, 0xa=69, 0xb=69, 0xc=66, 0xd=61, 0xe=54, 0xf=56)), header=Obj(clbit_labels=[['cr', 0], ['cr', 1], ['cr', 2], ['cr', 3]], creg_sizes=[['cr', 4]], memory_slots=4, n_qubits=4, name='rb_purity_XX_length_0_seed_2', qreg_sizes=[['qr', 4]], qubit_labels=[['qr', 0], ['qr', 1], ['qr', 2], ['qr', 3]]), meas_level=2, metadata={'method': 'statevector', 'omp_shot_threads': 1, 'omp_state_threads': 4}, seed=1941593333, shots=1024, status='DONE', success=True, time_taken=0.31304087), ExperimentResult(data=ExperimentResultData(counts=Obj(0x0=56, 0x1=56, 0x2=63, 0x3=59, 0x4=74, 0x5=64, 0x6=65, 0x7=65, 0x8=71, 0x9=60, 0xa=64, 0xb=69, 0xc=79, 0xd=55, 0xe=64, 0xf=60)), header=Obj(clbit_labels=[['cr', 0], ['cr', 1], ['cr', 2], ['cr', 3]], creg_sizes=[['cr', 4]], memory_slots=4, n_qubits=4, name='rb_purity_XX_length_1_seed_2', qreg_sizes=[['qr', 4]], qubit_labels=[['qr', 0], ['qr', 1], ['qr', 2], ['qr', 3]]), meas_level=2, metadata={'method': 'statevector', 'omp_shot_threads': 1, 'omp_state_threads': 4}, seed=3429911479, shots=1024, status='DONE', success=True, time_taken=1.219986512), ExperimentResult(data=ExperimentResultData(counts=Obj(0x0=69, 0x1=51, 0x2=51, 0x3=70, 0x4=57, 0x5=66, 0x6=54, 0x7=67, 0x8=60, 0x9=80, 0xa=71, 0xb=68, 0xc=64, 0xd=71, 0xe=71, 0xf=54)), header=Obj(clbit_labels=[['cr', 0], ['cr', 1], ['cr', 2], ['cr', 3]], creg_sizes=[['cr', 4]], memory_slots=4, n_qubits=4, name='rb_purity_XX_length_2_seed_2', qreg_sizes=[['qr', 4]], qubit_labels=[['qr', 0], ['qr', 1], ['qr', 2], ['qr', 3]]), meas_level=2, metadata={'method': 'statevector', 'omp_shot_threads': 1, 'omp_state_threads': 4}, seed=3085822036, shots=1024, status='DONE', success=True, time_taken=1.963336804), ExperimentResult(data=ExperimentResultData(counts=Obj(0x0=69, 0x1=67, 0x2=56, 0x3=75, 0x4=62, 0x5=63, 0x6=63, 0x7=67, 0x8=59, 0x9=63, 0xa=59, 0xb=63, 0xc=54, 0xd=58, 0xe=63, 0xf=83)), header=Obj(clbit_labels=[['cr', 0], ['cr', 1], ['cr', 2], ['cr', 3]], creg_sizes=[['cr', 4]], memory_slots=4, n_qubits=4, name='rb_purity_XX_length_3_seed_2', qreg_sizes=[['qr', 4]], qubit_labels=[['qr', 0], ['qr', 1], ['qr', 2], ['qr', 3]]), meas_level=2, metadata={'method': 'statevector', 'omp_shot_threads': 1, 'omp_state_threads': 4}, seed=1568599863, shots=1024, status='DONE', success=True, time_taken=2.2534682800000003), ExperimentResult(data=ExperimentResultData(counts=Obj(0x0=62, 0x1=58, 0x2=65, 0x3=68, 0x4=64, 0x5=70, 0x6=59, 0x7=52, 0x8=55, 0x9=65, 0xa=75, 0xb=59, 0xc=70, 0xd=71, 0xe=72, 0xf=59)), header=Obj(clbit_labels=[['cr', 0], ['cr', 1], ['cr', 2], ['cr', 3]], creg_sizes=[['cr', 4]], memory_slots=4, n_qubits=4, name='rb_purity_XX_length_4_seed_2', qreg_sizes=[['qr', 4]], qubit_labels=[['qr', 0], ['qr', 1], ['qr', 2], ['qr', 3]]), meas_level=2, metadata={'method': 'statevector', 'omp_shot_threads': 1, 'omp_state_threads': 4}, seed=1178829722, shots=1024, status='DONE', success=True, time_taken=2.560237288)], status='COMPLETED', success=True, time_taken=8.541584730148315)], [Result(backend_name='qasm_simulator', backend_version='0.1.1', date=datetime.datetime(2019, 6, 20, 14, 7, 38, 802992), header=Obj(backend_name='qasm_simulator', backend_version='0.1.1'), job_id='ca8516ee-782d-4561-a1c5-36bfc853f3fa', metadata={'omp_available_threads': 4, 'omp_circuit_threads': 1, 'omp_enabled': True, 'time_taken': 8.969241929}, qobj_id='5e346f3f-ef16-4246-b8c3-7e9d10d2489f', results=[ExperimentResult(data=ExperimentResultData(counts=Obj(0x0=56, 0x1=60, 0x2=49, 0x3=65, 0x4=59, 0x5=67, 0x6=83, 0x7=60, 0x8=63, 0x9=61, 0xa=58, 0xb=54, 0xc=57, 0xd=93, 0xe=65, 0xf=74)), header=Obj(clbit_labels=[['cr', 0], ['cr', 1], ['cr', 2], ['cr', 3]], creg_sizes=[['cr', 4]], memory_slots=4, n_qubits=4, name='rb_purity_YX_length_0_seed_0', qreg_sizes=[['qr', 4]], qubit_labels=[['qr', 0], ['qr', 1], ['qr', 2], ['qr', 3]]), meas_level=2, metadata={'method': 'statevector', 'omp_shot_threads': 1, 'omp_state_threads': 4}, seed=1073261532, shots=1024, status='DONE', success=True, time_taken=0.37086517100000005), ExperimentResult(data=ExperimentResultData(counts=Obj(0x0=61, 0x1=51, 0x2=72, 0x3=60, 0x4=57, 0x5=57, 0x6=57, 0x7=64, 0x8=70, 0x9=59, 0xa=75, 0xb=67, 0xc=62, 0xd=55, 0xe=72, 0xf=85)), header=Obj(clbit_labels=[['cr', 0], ['cr', 1], ['cr', 2], ['cr', 3]], creg_sizes=[['cr', 4]], memory_slots=4, n_qubits=4, name='rb_purity_YX_length_1_seed_0', qreg_sizes=[['qr', 4]], qubit_labels=[['qr', 0], ['qr', 1], ['qr', 2], ['qr', 3]]), meas_level=2, metadata={'method': 'statevector', 'omp_shot_threads': 1, 'omp_state_threads': 4}, seed=1701136120, shots=1024, status='DONE', success=True, time_taken=1.2320605020000002), ExperimentResult(data=ExperimentResultData(counts=Obj(0x0=84, 0x1=48, 0x2=58, 0x3=57, 0x4=63, 0x5=61, 0x6=65, 0x7=55, 0x8=63, 0x9=74, 0xa=65, 0xb=52, 0xc=65, 0xd=74, 0xe=81, 0xf=59)), header=Obj(clbit_labels=[['cr', 0], ['cr', 1], ['cr', 2], ['cr', 3]], creg_sizes=[['cr', 4]], memory_slots=4, n_qubits=4, name='rb_purity_YX_length_2_seed_0', qreg_sizes=[['qr', 4]], qubit_labels=[['qr', 0], ['qr', 1], ['qr', 2], ['qr', 3]]), meas_level=2, metadata={'method': 'statevector', 'omp_shot_threads': 1, 'omp_state_threads': 4}, seed=2177682681, shots=1024, status='DONE', success=True, time_taken=1.575944503), ExperimentResult(data=ExperimentResultData(counts=Obj(0x0=59, 0x1=56, 0x2=66, 0x3=67, 0x4=57, 0x5=46, 0x6=72, 0x7=58, 0x8=71, 0x9=68, 0xa=84, 0xb=69, 0xc=69, 0xd=64, 0xe=65, 0xf=53)), header=Obj(clbit_labels=[['cr', 0], ['cr', 1], ['cr', 2], ['cr', 3]], creg_sizes=[['cr', 4]], memory_slots=4, n_qubits=4, name='rb_purity_YX_length_3_seed_0', qreg_sizes=[['qr', 4]], qubit_labels=[['qr', 0], ['qr', 1], ['qr', 2], ['qr', 3]]), meas_level=2, metadata={'method': 'statevector', 'omp_shot_threads': 1, 'omp_state_threads': 4}, seed=328697242, shots=1024, status='DONE', success=True, time_taken=2.3761005610000003), ExperimentResult(data=ExperimentResultData(counts=Obj(0x0=57, 0x1=63, 0x2=66, 0x3=78, 0x4=61, 0x5=62, 0x6=57, 0x7=46, 0x8=70, 0x9=65, 0xa=66, 0xb=59, 0xc=74, 0xd=66, 0xe=67, 0xf=67)), header=Obj(clbit_labels=[['cr', 0], ['cr', 1], ['cr', 2], ['cr', 3]], creg_sizes=[['cr', 4]], memory_slots=4, n_qubits=4, name='rb_purity_YX_length_4_seed_0', qreg_sizes=[['qr', 4]], qubit_labels=[['qr', 0], ['qr', 1], ['qr', 2], ['qr', 3]]), meas_level=2, metadata={'method': 'statevector', 'omp_shot_threads': 1, 'omp_state_threads': 4}, seed=4078793952, shots=1024, status='DONE', success=True, time_taken=3.4078958270000004)], status='COMPLETED', success=True, time_taken=9.162352085113525), Result(backend_name='qasm_simulator', backend_version='0.1.1', date=datetime.datetime(2019, 6, 20, 14, 9, 31, 19543), header=Obj(backend_name='qasm_simulator', backend_version='0.1.1'), job_id='978fd18d-cc49-41fb-845b-23e273bd1ac8', metadata={'omp_available_threads': 4, 'omp_circuit_threads': 1, 'omp_enabled': True, 'time_taken': 9.930147134}, qobj_id='4ad3784d-1679-4dcf-b312-9fd7927be551', results=[ExperimentResult(data=ExperimentResultData(counts=Obj(0x0=57, 0x1=73, 0x2=68, 0x3=63, 0x4=41, 0x5=73, 0x6=58, 0x7=74, 0x8=60, 0x9=67, 0xa=63, 0xb=56, 0xc=73, 0xd=58, 0xe=77, 0xf=63)), header=Obj(clbit_labels=[['cr', 0], ['cr', 1], ['cr', 2], ['cr', 3]], creg_sizes=[['cr', 4]], memory_slots=4, n_qubits=4, name='rb_purity_YX_length_0_seed_1', qreg_sizes=[['qr', 4]], qubit_labels=[['qr', 0], ['qr', 1], ['qr', 2], ['qr', 3]]), meas_level=2, metadata={'method': 'statevector', 'omp_shot_threads': 1, 'omp_state_threads': 4}, seed=747247534, shots=1024, status='DONE', success=True, time_taken=0.34273067900000004), ExperimentResult(data=ExperimentResultData(counts=Obj(0x0=78, 0x1=60, 0x2=67, 0x3=56, 0x4=65, 0x5=73, 0x6=65, 0x7=56, 0x8=64, 0x9=74, 0xa=50, 0xb=62, 0xc=66, 0xd=64, 0xe=60, 0xf=64)), header=Obj(clbit_labels=[['cr', 0], ['cr', 1], ['cr', 2], ['cr', 3]], creg_sizes=[['cr', 4]], memory_slots=4, n_qubits=4, name='rb_purity_YX_length_1_seed_1', qreg_sizes=[['qr', 4]], qubit_labels=[['qr', 0], ['qr', 1], ['qr', 2], ['qr', 3]]), meas_level=2, metadata={'method': 'statevector', 'omp_shot_threads': 1, 'omp_state_threads': 4}, seed=4163445261, shots=1024, status='DONE', success=True, time_taken=0.974784041), ExperimentResult(data=ExperimentResultData(counts=Obj(0x0=51, 0x1=55, 0x2=66, 0x3=63, 0x4=65, 0x5=77, 0x6=66, 0x7=70, 0x8=72, 0x9=52, 0xa=56, 0xb=90, 0xc=62, 0xd=61, 0xe=64, 0xf=54)), header=Obj(clbit_labels=[['cr', 0], ['cr', 1], ['cr', 2], ['cr', 3]], creg_sizes=[['cr', 4]], memory_slots=4, n_qubits=4, name='rb_purity_YX_length_2_seed_1', qreg_sizes=[['qr', 4]], qubit_labels=[['qr', 0], ['qr', 1], ['qr', 2], ['qr', 3]]), meas_level=2, metadata={'method': 'statevector', 'omp_shot_threads': 1, 'omp_state_threads': 4}, seed=3944780047, shots=1024, status='DONE', success=True, time_taken=2.0542549990000003), ExperimentResult(data=ExperimentResultData(counts=Obj(0x0=69, 0x1=55, 0x2=56, 0x3=64, 0x4=62, 0x5=58, 0x6=61, 0x7=70, 0x8=66, 0x9=77, 0xa=57, 0xb=72, 0xc=55, 0xd=66, 0xe=74, 0xf=62)), header=Obj(clbit_labels=[['cr', 0], ['cr', 1], ['cr', 2], ['cr', 3]], creg_sizes=[['cr', 4]], memory_slots=4, n_qubits=4, name='rb_purity_YX_length_3_seed_1', qreg_sizes=[['qr', 4]], qubit_labels=[['qr', 0], ['qr', 1], ['qr', 2], ['qr', 3]]), meas_level=2, metadata={'method': 'statevector', 'omp_shot_threads': 1, 'omp_state_threads': 4}, seed=1667263077, shots=1024, status='DONE', success=True, time_taken=2.5823406280000003), ExperimentResult(data=ExperimentResultData(counts=Obj(0x0=65, 0x1=74, 0x2=55, 0x3=71, 0x4=61, 0x5=55, 0x6=50, 0x7=78, 0x8=74, 0x9=61, 0xa=60, 0xb=57, 0xc=77, 0xd=54, 0xe=61, 0xf=71)), header=Obj(clbit_labels=[['cr', 0], ['cr', 1], ['cr', 2], ['cr', 3]], creg_sizes=[['cr', 4]], memory_slots=4, n_qubits=4, name='rb_purity_YX_length_4_seed_1', qreg_sizes=[['qr', 4]], qubit_labels=[['qr', 0], ['qr', 1], ['qr', 2], ['qr', 3]]), meas_level=2, metadata={'method': 'statevector', 'omp_shot_threads': 1, 'omp_state_threads': 4}, seed=462724955, shots=1024, status='DONE', success=True, time_taken=3.958076799)], status='COMPLETED', success=True, time_taken=10.103115558624268), Result(backend_name='qasm_simulator', backend_version='0.1.1', date=datetime.datetime(2019, 6, 20, 14, 11, 14, 750984), header=Obj(backend_name='qasm_simulator', backend_version='0.1.1'), job_id='d31b4de0-e557-45c6-940c-b1c7eb951402', metadata={'omp_available_threads': 4, 'omp_circuit_threads': 1, 'omp_enabled': True, 'time_taken': 8.6885671}, qobj_id='da20c67e-7eb8-4d4c-84f6-3e9b848a1a77', results=[ExperimentResult(data=ExperimentResultData(counts=Obj(0x0=59, 0x1=41, 0x2=80, 0x3=58, 0x4=62, 0x5=62, 0x6=69, 0x7=66, 0x8=59, 0x9=60, 0xa=88, 0xb=65, 0xc=59, 0xd=67, 0xe=72, 0xf=57)), header=Obj(clbit_labels=[['cr', 0], ['cr', 1], ['cr', 2], ['cr', 3]], creg_sizes=[['cr', 4]], memory_slots=4, n_qubits=4, name='rb_purity_YX_length_0_seed_2', qreg_sizes=[['qr', 4]], qubit_labels=[['qr', 0], ['qr', 1], ['qr', 2], ['qr', 3]]), meas_level=2, metadata={'method': 'statevector', 'omp_shot_threads': 1, 'omp_state_threads': 4}, seed=22307627, shots=1024, status='DONE', success=True, time_taken=0.19839113800000002), ExperimentResult(data=ExperimentResultData(counts=Obj(0x0=81, 0x1=75, 0x2=73, 0x3=61, 0x4=67, 0x5=72, 0x6=59, 0x7=63, 0x8=58, 0x9=54, 0xa=58, 0xb=53, 0xc=54, 0xd=64, 0xe=67, 0xf=65)), header=Obj(clbit_labels=[['cr', 0], ['cr', 1], ['cr', 2], ['cr', 3]], creg_sizes=[['cr', 4]], memory_slots=4, n_qubits=4, name='rb_purity_YX_length_1_seed_2', qreg_sizes=[['qr', 4]], qubit_labels=[['qr', 0], ['qr', 1], ['qr', 2], ['qr', 3]]), meas_level=2, metadata={'method': 'statevector', 'omp_shot_threads': 1, 'omp_state_threads': 4}, seed=74111170, shots=1024, status='DONE', success=True, time_taken=0.928119659), ExperimentResult(data=ExperimentResultData(counts=Obj(0x0=70, 0x1=65, 0x2=70, 0x3=64, 0x4=60, 0x5=57, 0x6=59, 0x7=76, 0x8=61, 0x9=55, 0xa=76, 0xb=67, 0xc=67, 0xd=66, 0xe=50, 0xf=61)), header=Obj(clbit_labels=[['cr', 0], ['cr', 1], ['cr', 2], ['cr', 3]], creg_sizes=[['cr', 4]], memory_slots=4, n_qubits=4, name='rb_purity_YX_length_2_seed_2', qreg_sizes=[['qr', 4]], qubit_labels=[['qr', 0], ['qr', 1], ['qr', 2], ['qr', 3]]), meas_level=2, metadata={'method': 'statevector', 'omp_shot_threads': 1, 'omp_state_threads': 4}, seed=3806276241, shots=1024, status='DONE', success=True, time_taken=1.7250632000000001), ExperimentResult(data=ExperimentResultData(counts=Obj(0x0=56, 0x1=54, 0x2=67, 0x3=55, 0x4=63, 0x5=66, 0x6=62, 0x7=71, 0x8=64, 0x9=67, 0xa=78, 0xb=53, 0xc=69, 0xd=76, 0xe=64, 0xf=59)), header=Obj(clbit_labels=[['cr', 0], ['cr', 1], ['cr', 2], ['cr', 3]], creg_sizes=[['cr', 4]], memory_slots=4, n_qubits=4, name='rb_purity_YX_length_3_seed_2', qreg_sizes=[['qr', 4]], qubit_labels=[['qr', 0], ['qr', 1], ['qr', 2], ['qr', 3]]), meas_level=2, metadata={'method': 'statevector', 'omp_shot_threads': 1, 'omp_state_threads': 4}, seed=2793443163, shots=1024, status='DONE', success=True, time_taken=2.6096836690000003), ExperimentResult(data=ExperimentResultData(counts=Obj(0x0=58, 0x1=65, 0x2=62, 0x3=64, 0x4=61, 0x5=72, 0x6=70, 0x7=55, 0x8=61, 0x9=56, 0xa=65, 0xb=61, 0xc=73, 0xd=79, 0xe=57, 0xf=65)), header=Obj(clbit_labels=[['cr', 0], ['cr', 1], ['cr', 2], ['cr', 3]], creg_sizes=[['cr', 4]], memory_slots=4, n_qubits=4, name='rb_purity_YX_length_4_seed_2', qreg_sizes=[['qr', 4]], qubit_labels=[['qr', 0], ['qr', 1], ['qr', 2], ['qr', 3]]), meas_level=2, metadata={'method': 'statevector', 'omp_shot_threads': 1, 'omp_state_threads': 4}, seed=3106881223, shots=1024, status='DONE', success=True, time_taken=3.224400493)], status='COMPLETED', success=True, time_taken=8.81666874885559)], [Result(backend_name='qasm_simulator', backend_version='0.1.1', date=datetime.datetime(2019, 6, 20, 14, 7, 48, 931536), header=Obj(backend_name='qasm_simulator', backend_version='0.1.1'), job_id='d1db16bd-5b73-47d1-b136-6cbc02813457', metadata={'omp_available_threads': 4, 'omp_circuit_threads': 1, 'omp_enabled': True, 'time_taken': 7.573426786000001}, qobj_id='5f64b1ba-2ec0-4663-b513-d757ce2e2a64', results=[ExperimentResult(data=ExperimentResultData(counts=Obj(0x0=251, 0x1=5, 0x2=224, 0x3=4, 0x4=3, 0x6=7, 0x8=240, 0x9=9, 0xa=259, 0xb=5, 0xc=6, 0xe=11)), header=Obj(clbit_labels=[['cr', 0], ['cr', 1], ['cr', 2], ['cr', 3]], creg_sizes=[['cr', 4]], memory_slots=4, n_qubits=4, name='rb_purity_ZY_length_0_seed_0', qreg_sizes=[['qr', 4]], qubit_labels=[['qr', 0], ['qr', 1], ['qr', 2], ['qr', 3]]), meas_level=2, metadata={'method': 'statevector', 'omp_shot_threads': 1, 'omp_state_threads': 4}, seed=3591190257, shots=1024, status='DONE', success=True, time_taken=0.198319463), ExperimentResult(data=ExperimentResultData(counts=Obj(0x0=209, 0x1=34, 0x2=211, 0x3=23, 0x4=21, 0x6=19, 0x7=2, 0x8=202, 0x9=33, 0xa=207, 0xb=28, 0xc=19, 0xe=14, 0xf=2)), header=Obj(clbit_labels=[['cr', 0], ['cr', 1], ['cr', 2], ['cr', 3]], creg_sizes=[['cr', 4]], memory_slots=4, n_qubits=4, name='rb_purity_ZY_length_1_seed_0', qreg_sizes=[['qr', 4]], qubit_labels=[['qr', 0], ['qr', 1], ['qr', 2], ['qr', 3]]), meas_level=2, metadata={'method': 'statevector', 'omp_shot_threads': 1, 'omp_state_threads': 4}, seed=1111567452, shots=1024, status='DONE', success=True, time_taken=0.807215615), ExperimentResult(data=ExperimentResultData(counts=Obj(0x0=192, 0x1=27, 0x2=181, 0x3=47, 0x4=31, 0x5=3, 0x6=34, 0x7=11, 0x8=184, 0x9=35, 0xa=165, 0xb=43, 0xc=30, 0xd=5, 0xe=31, 0xf=5)), header=Obj(clbit_labels=[['cr', 0], ['cr', 1], ['cr', 2], ['cr', 3]], creg_sizes=[['cr', 4]], memory_slots=4, n_qubits=4, name='rb_purity_ZY_length_2_seed_0', qreg_sizes=[['qr', 4]], qubit_labels=[['qr', 0], ['qr', 1], ['qr', 2], ['qr', 3]]), meas_level=2, metadata={'method': 'statevector', 'omp_shot_threads': 1, 'omp_state_threads': 4}, seed=3614864014, shots=1024, status='DONE', success=True, time_taken=1.4602833080000002), ExperimentResult(data=ExperimentResultData(counts=Obj(0x0=150, 0x1=38, 0x2=159, 0x3=60, 0x4=47, 0x5=22, 0x6=37, 0x7=20, 0x8=154, 0x9=47, 0xa=147, 0xb=44, 0xc=39, 0xd=15, 0xe=37, 0xf=8)), header=Obj(clbit_labels=[['cr', 0], ['cr', 1], ['cr', 2], ['cr', 3]], creg_sizes=[['cr', 4]], memory_slots=4, n_qubits=4, name='rb_purity_ZY_length_3_seed_0', qreg_sizes=[['qr', 4]], qubit_labels=[['qr', 0], ['qr', 1], ['qr', 2], ['qr', 3]]), meas_level=2, metadata={'method': 'statevector', 'omp_shot_threads': 1, 'omp_state_threads': 4}, seed=2035347527, shots=1024, status='DONE', success=True, time_taken=2.113754847), ExperimentResult(data=ExperimentResultData(counts=Obj(0x0=114, 0x1=55, 0x2=126, 0x3=42, 0x4=56, 0x5=23, 0x6=33, 0x7=18, 0x8=163, 0x9=51, 0xa=153, 0xb=52, 0xc=46, 0xd=26, 0xe=55, 0xf=11)), header=Obj(clbit_labels=[['cr', 0], ['cr', 1], ['cr', 2], ['cr', 3]], creg_sizes=[['cr', 4]], memory_slots=4, n_qubits=4, name='rb_purity_ZY_length_4_seed_0', qreg_sizes=[['qr', 4]], qubit_labels=[['qr', 0], ['qr', 1], ['qr', 2], ['qr', 3]]), meas_level=2, metadata={'method': 'statevector', 'omp_shot_threads': 1, 'omp_state_threads': 4}, seed=3088278417, shots=1024, status='DONE', success=True, time_taken=2.990081397)], status='COMPLETED', success=True, time_taken=7.761448383331299), Result(backend_name='qasm_simulator', backend_version='0.1.1', date=datetime.datetime(2019, 6, 20, 14, 9, 42, 589494), header=Obj(backend_name='qasm_simulator', backend_version='0.1.1'), job_id='185ee66e-b30e-4260-af40-02aa332acf63', metadata={'omp_available_threads': 4, 'omp_circuit_threads': 1, 'omp_enabled': True, 'time_taken': 8.964150357000001}, qobj_id='16cf3498-7184-40c7-829d-42c1ccb3b048', results=[ExperimentResult(data=ExperimentResultData(counts=Obj(0x0=243, 0x1=4, 0x2=260, 0x3=7, 0x4=6, 0x6=6, 0x8=261, 0x9=4, 0xa=217, 0xb=4, 0xc=7, 0xe=5)), header=Obj(clbit_labels=[['cr', 0], ['cr', 1], ['cr', 2], ['cr', 3]], creg_sizes=[['cr', 4]], memory_slots=4, n_qubits=4, name='rb_purity_ZY_length_0_seed_1', qreg_sizes=[['qr', 4]], qubit_labels=[['qr', 0], ['qr', 1], ['qr', 2], ['qr', 3]]), meas_level=2, metadata={'method': 'statevector', 'omp_shot_threads': 1, 'omp_state_threads': 4}, seed=4199486425, shots=1024, status='DONE', success=True, time_taken=0.299018176), ExperimentResult(data=ExperimentResultData(counts=Obj(0x0=207, 0x1=31, 0x2=196, 0x3=30, 0x4=24, 0x5=3, 0x6=18, 0x7=4, 0x8=199, 0x9=20, 0xa=192, 0xb=38, 0xc=32, 0xd=3, 0xe=25, 0xf=2)), header=Obj(clbit_labels=[['cr', 0], ['cr', 1], ['cr', 2], ['cr', 3]], creg_sizes=[['cr', 4]], memory_slots=4, n_qubits=4, name='rb_purity_ZY_length_1_seed_1', qreg_sizes=[['qr', 4]], qubit_labels=[['qr', 0], ['qr', 1], ['qr', 2], ['qr', 3]]), meas_level=2, metadata={'method': 'statevector', 'omp_shot_threads': 1, 'omp_state_threads': 4}, seed=4191708018, shots=1024, status='DONE', success=True, time_taken=0.8958841280000001), ExperimentResult(data=ExperimentResultData(counts=Obj(0x0=152, 0x1=42, 0x2=167, 0x3=45, 0x4=32, 0x5=10, 0x6=30, 0x7=5, 0x8=172, 0x9=47, 0xa=184, 0xb=43, 0xc=41, 0xd=6, 0xe=43, 0xf=5)), header=Obj(clbit_labels=[['cr', 0], ['cr', 1], ['cr', 2], ['cr', 3]], creg_sizes=[['cr', 4]], memory_slots=4, n_qubits=4, name='rb_purity_ZY_length_2_seed_1', qreg_sizes=[['qr', 4]], qubit_labels=[['qr', 0], ['qr', 1], ['qr', 2], ['qr', 3]]), meas_level=2, metadata={'method': 'statevector', 'omp_shot_threads': 1, 'omp_state_threads': 4}, seed=4252399886, shots=1024, status='DONE', success=True, time_taken=1.694241754), ExperimentResult(data=ExperimentResultData(counts=Obj(0x0=143, 0x1=57, 0x2=138, 0x3=51, 0x4=45, 0x5=11, 0x6=40, 0x7=9, 0x8=158, 0x9=57, 0xa=165, 0xb=48, 0xc=43, 0xd=12, 0xe=32, 0xf=15)), header=Obj(clbit_labels=[['cr', 0], ['cr', 1], ['cr', 2], ['cr', 3]], creg_sizes=[['cr', 4]], memory_slots=4, n_qubits=4, name='rb_purity_ZY_length_3_seed_1', qreg_sizes=[['qr', 4]], qubit_labels=[['qr', 0], ['qr', 1], ['qr', 2], ['qr', 3]]), meas_level=2, metadata={'method': 'statevector', 'omp_shot_threads': 1, 'omp_state_threads': 4}, seed=4274918449, shots=1024, status='DONE', success=True, time_taken=2.39864532), ExperimentResult(data=ExperimentResultData(counts=Obj(0x0=148, 0x1=52, 0x2=138, 0x3=45, 0x4=41, 0x5=18, 0x6=46, 0x7=17, 0x8=135, 0x9=68, 0xa=128, 0xb=57, 0xc=46, 0xd=19, 0xe=48, 0xf=18)), header=Obj(clbit_labels=[['cr', 0], ['cr', 1], ['cr', 2], ['cr', 3]], creg_sizes=[['cr', 4]], memory_slots=4, n_qubits=4, name='rb_purity_ZY_length_4_seed_1', qreg_sizes=[['qr', 4]], qubit_labels=[['qr', 0], ['qr', 1], ['qr', 2], ['qr', 3]]), meas_level=2, metadata={'method': 'statevector', 'omp_shot_threads': 1, 'omp_state_threads': 4}, seed=135469982, shots=1024, status='DONE', success=True, time_taken=3.6712788260000004)], status='COMPLETED', success=True, time_taken=9.197393655776978), Result(backend_name='qasm_simulator', backend_version='0.1.1', date=datetime.datetime(2019, 6, 20, 14, 11, 26, 624047), header=Obj(backend_name='qasm_simulator', backend_version='0.1.1'), job_id='179b03c4-82a4-4835-bf12-b24d065773a7', metadata={'omp_available_threads': 4, 'omp_circuit_threads': 1, 'omp_enabled': True, 'time_taken': 9.427452722}, qobj_id='91333aa4-d695-4322-9920-ebc0fe97f72d', results=[ExperimentResult(data=ExperimentResultData(counts=Obj(0x0=282, 0x1=2, 0x2=214, 0x3=7, 0x4=1, 0x6=1, 0x8=258, 0x9=4, 0xa=248, 0xb=6, 0xe=1)), header=Obj(clbit_labels=[['cr', 0], ['cr', 1], ['cr', 2], ['cr', 3]], creg_sizes=[['cr', 4]], memory_slots=4, n_qubits=4, name='rb_purity_ZY_length_0_seed_2', qreg_sizes=[['qr', 4]], qubit_labels=[['qr', 0], ['qr', 1], ['qr', 2], ['qr', 3]]), meas_level=2, metadata={'method': 'statevector', 'omp_shot_threads': 1, 'omp_state_threads': 4}, seed=94890510, shots=1024, status='DONE', success=True, time_taken=0.313498055), ExperimentResult(data=ExperimentResultData(counts=Obj(0x0=215, 0x1=22, 0x2=184, 0x3=21, 0x4=19, 0x6=28, 0x7=3, 0x8=205, 0x9=13, 0xa=238, 0xb=26, 0xc=21, 0xd=2, 0xe=23, 0xf=4)), header=Obj(clbit_labels=[['cr', 0], ['cr', 1], ['cr', 2], ['cr', 3]], creg_sizes=[['cr', 4]], memory_slots=4, n_qubits=4, name='rb_purity_ZY_length_1_seed_2', qreg_sizes=[['qr', 4]], qubit_labels=[['qr', 0], ['qr', 1], ['qr', 2], ['qr', 3]]), meas_level=2, metadata={'method': 'statevector', 'omp_shot_threads': 1, 'omp_state_threads': 4}, seed=1484230010, shots=1024, status='DONE', success=True, time_taken=1.3395762210000002), ExperimentResult(data=ExperimentResultData(counts=Obj(0x0=192, 0x1=35, 0x2=171, 0x3=41, 0x4=33, 0x5=8, 0x6=43, 0x8=178, 0x9=36, 0xa=169, 0xb=37, 0xc=38, 0xd=3, 0xe=33, 0xf=7)), header=Obj(clbit_labels=[['cr', 0], ['cr', 1], ['cr', 2], ['cr', 3]], creg_sizes=[['cr', 4]], memory_slots=4, n_qubits=4, name='rb_purity_ZY_length_2_seed_2', qreg_sizes=[['qr', 4]], qubit_labels=[['qr', 0], ['qr', 1], ['qr', 2], ['qr', 3]]), meas_level=2, metadata={'method': 'statevector', 'omp_shot_threads': 1, 'omp_state_threads': 4}, seed=2173699972, shots=1024, status='DONE', success=True, time_taken=1.563587864), ExperimentResult(data=ExperimentResultData(counts=Obj(0x0=167, 0x1=35, 0x2=166, 0x3=38, 0x4=55, 0x5=9, 0x6=41, 0x7=8, 0x8=165, 0x9=41, 0xa=142, 0xb=45, 0xc=42, 0xd=14, 0xe=44, 0xf=12)), header=Obj(clbit_labels=[['cr', 0], ['cr', 1], ['cr', 2], ['cr', 3]], creg_sizes=[['cr', 4]], memory_slots=4, n_qubits=4, name='rb_purity_ZY_length_3_seed_2', qreg_sizes=[['qr', 4]], qubit_labels=[['qr', 0], ['qr', 1], ['qr', 2], ['qr', 3]]), meas_level=2, metadata={'method': 'statevector', 'omp_shot_threads': 1, 'omp_state_threads': 4}, seed=1984513444, shots=1024, status='DONE', success=True, time_taken=2.199518271), ExperimentResult(data=ExperimentResultData(counts=Obj(0x0=126, 0x1=39, 0x2=165, 0x3=47, 0x4=44, 0x5=21, 0x6=53, 0x7=21, 0x8=139, 0x9=52, 0xa=137, 0xb=44, 0xc=42, 0xd=21, 0xe=53, 0xf=20)), header=Obj(clbit_labels=[['cr', 0], ['cr', 1], ['cr', 2], ['cr', 3]], creg_sizes=[['cr', 4]], memory_slots=4, n_qubits=4, name='rb_purity_ZY_length_4_seed_2', qreg_sizes=[['qr', 4]], qubit_labels=[['qr', 0], ['qr', 1], ['qr', 2], ['qr', 3]]), meas_level=2, metadata={'method': 'statevector', 'omp_shot_threads': 1, 'omp_state_threads': 4}, seed=2639602312, shots=1024, status='DONE', success=True, time_taken=4.004437521)], status='COMPLETED', success=True, time_taken=9.642342567443848)], [Result(backend_name='qasm_simulator', backend_version='0.1.1', date=datetime.datetime(2019, 6, 20, 14, 7, 59, 939274), header=Obj(backend_name='qasm_simulator', backend_version='0.1.1'), job_id='23a217a2-e364-4243-b9c2-ee7e100f4ff5', metadata={'omp_available_threads': 4, 'omp_circuit_threads': 1, 'omp_enabled': True, 'time_taken': 8.733507146}, qobj_id='81b29459-4982-461b-b553-78393974d4d5', results=[ExperimentResult(data=ExperimentResultData(counts=Obj(0x0=61, 0x1=61, 0x2=57, 0x3=65, 0x4=63, 0x5=76, 0x6=64, 0x7=61, 0x8=64, 0x9=70, 0xa=65, 0xb=58, 0xc=61, 0xd=60, 0xe=81, 0xf=57)), header=Obj(clbit_labels=[['cr', 0], ['cr', 1], ['cr', 2], ['cr', 3]], creg_sizes=[['cr', 4]], memory_slots=4, n_qubits=4, name='rb_purity_XY_length_0_seed_0', qreg_sizes=[['qr', 4]], qubit_labels=[['qr', 0], ['qr', 1], ['qr', 2], ['qr', 3]]), meas_level=2, metadata={'method': 'statevector', 'omp_shot_threads': 1, 'omp_state_threads': 4}, seed=1331415497, shots=1024, status='DONE', success=True, time_taken=0.319165546), ExperimentResult(data=ExperimentResultData(counts=Obj(0x0=63, 0x1=72, 0x2=61, 0x3=61, 0x4=64, 0x5=54, 0x6=56, 0x7=66, 0x8=62, 0x9=65, 0xa=76, 0xb=60, 0xc=69, 0xd=63, 0xe=57, 0xf=75)), header=Obj(clbit_labels=[['cr', 0], ['cr', 1], ['cr', 2], ['cr', 3]], creg_sizes=[['cr', 4]], memory_slots=4, n_qubits=4, name='rb_purity_XY_length_1_seed_0', qreg_sizes=[['qr', 4]], qubit_labels=[['qr', 0], ['qr', 1], ['qr', 2], ['qr', 3]]), meas_level=2, metadata={'method': 'statevector', 'omp_shot_threads': 1, 'omp_state_threads': 4}, seed=225210787, shots=1024, status='DONE', success=True, time_taken=1.3569694190000001), ExperimentResult(data=ExperimentResultData(counts=Obj(0x0=78, 0x1=56, 0x2=58, 0x3=61, 0x4=59, 0x5=68, 0x6=64, 0x7=65, 0x8=62, 0x9=68, 0xa=48, 0xb=60, 0xc=56, 0xd=77, 0xe=67, 0xf=77)), header=Obj(clbit_labels=[['cr', 0], ['cr', 1], ['cr', 2], ['cr', 3]], creg_sizes=[['cr', 4]], memory_slots=4, n_qubits=4, name='rb_purity_XY_length_2_seed_0', qreg_sizes=[['qr', 4]], qubit_labels=[['qr', 0], ['qr', 1], ['qr', 2], ['qr', 3]]), meas_level=2, metadata={'method': 'statevector', 'omp_shot_threads': 1, 'omp_state_threads': 4}, seed=1885027296, shots=1024, status='DONE', success=True, time_taken=1.506596279), ExperimentResult(data=ExperimentResultData(counts=Obj(0x0=63, 0x1=66, 0x2=57, 0x3=65, 0x4=54, 0x5=71, 0x6=64, 0x7=61, 0x8=49, 0x9=67, 0xa=63, 0xb=67, 0xc=67, 0xd=79, 0xe=68, 0xf=63)), header=Obj(clbit_labels=[['cr', 0], ['cr', 1], ['cr', 2], ['cr', 3]], creg_sizes=[['cr', 4]], memory_slots=4, n_qubits=4, name='rb_purity_XY_length_3_seed_0', qreg_sizes=[['qr', 4]], qubit_labels=[['qr', 0], ['qr', 1], ['qr', 2], ['qr', 3]]), meas_level=2, metadata={'method': 'statevector', 'omp_shot_threads': 1, 'omp_state_threads': 4}, seed=1349554081, shots=1024, status='DONE', success=True, time_taken=2.078115593), ExperimentResult(data=ExperimentResultData(counts=Obj(0x0=64, 0x1=68, 0x2=67, 0x3=68, 0x4=52, 0x5=69, 0x6=54, 0x7=63, 0x8=58, 0x9=75, 0xa=60, 0xb=74, 0xc=54, 0xd=61, 0xe=61, 0xf=76)), header=Obj(clbit_labels=[['cr', 0], ['cr', 1], ['cr', 2], ['cr', 3]], creg_sizes=[['cr', 4]], memory_slots=4, n_qubits=4, name='rb_purity_XY_length_4_seed_0', qreg_sizes=[['qr', 4]], qubit_labels=[['qr', 0], ['qr', 1], ['qr', 2], ['qr', 3]]), meas_level=2, metadata={'method': 'statevector', 'omp_shot_threads': 1, 'omp_state_threads': 4}, seed=590138179, shots=1024, status='DONE', success=True, time_taken=3.468019597)], status='COMPLETED', success=True, time_taken=8.912485122680664), Result(backend_name='qasm_simulator', backend_version='0.1.1', date=datetime.datetime(2019, 6, 20, 14, 9, 55, 831702), header=Obj(backend_name='qasm_simulator', backend_version='0.1.1'), job_id='c5d4e577-4848-454f-946d-76838b560585', metadata={'omp_available_threads': 4, 'omp_circuit_threads': 1, 'omp_enabled': True, 'time_taken': 10.207016618}, qobj_id='92682c8a-a85e-4795-94ee-5833511487f1', results=[ExperimentResult(data=ExperimentResultData(counts=Obj(0x0=82, 0x1=71, 0x2=52, 0x3=70, 0x4=59, 0x5=67, 0x6=63, 0x7=54, 0x8=70, 0x9=58, 0xa=60, 0xb=66, 0xc=60, 0xd=62, 0xe=70, 0xf=60)), header=Obj(clbit_labels=[['cr', 0], ['cr', 1], ['cr', 2], ['cr', 3]], creg_sizes=[['cr', 4]], memory_slots=4, n_qubits=4, name='rb_purity_XY_length_0_seed_1', qreg_sizes=[['qr', 4]], qubit_labels=[['qr', 0], ['qr', 1], ['qr', 2], ['qr', 3]]), meas_level=2, metadata={'method': 'statevector', 'omp_shot_threads': 1, 'omp_state_threads': 4}, seed=2766456737, shots=1024, status='DONE', success=True, time_taken=0.3592632), ExperimentResult(data=ExperimentResultData(counts=Obj(0x0=57, 0x1=75, 0x2=61, 0x3=59, 0x4=73, 0x5=52, 0x6=58, 0x7=66, 0x8=66, 0x9=60, 0xa=71, 0xb=56, 0xc=67, 0xd=68, 0xe=75, 0xf=60)), header=Obj(clbit_labels=[['cr', 0], ['cr', 1], ['cr', 2], ['cr', 3]], creg_sizes=[['cr', 4]], memory_slots=4, n_qubits=4, name='rb_purity_XY_length_1_seed_1', qreg_sizes=[['qr', 4]], qubit_labels=[['qr', 0], ['qr', 1], ['qr', 2], ['qr', 3]]), meas_level=2, metadata={'method': 'statevector', 'omp_shot_threads': 1, 'omp_state_threads': 4}, seed=3385326696, shots=1024, status='DONE', success=True, time_taken=1.09969494), ExperimentResult(data=ExperimentResultData(counts=Obj(0x0=60, 0x1=62, 0x2=68, 0x3=54, 0x4=71, 0x5=57, 0x6=67, 0x7=71, 0x8=62, 0x9=53, 0xa=75, 0xb=71, 0xc=63, 0xd=69, 0xe=64, 0xf=57)), header=Obj(clbit_labels=[['cr', 0], ['cr', 1], ['cr', 2], ['cr', 3]], creg_sizes=[['cr', 4]], memory_slots=4, n_qubits=4, name='rb_purity_XY_length_2_seed_1', qreg_sizes=[['qr', 4]], qubit_labels=[['qr', 0], ['qr', 1], ['qr', 2], ['qr', 3]]), meas_level=2, metadata={'method': 'statevector', 'omp_shot_threads': 1, 'omp_state_threads': 4}, seed=1100662213, shots=1024, status='DONE', success=True, time_taken=1.9148652860000002), ExperimentResult(data=ExperimentResultData(counts=Obj(0x0=57, 0x1=69, 0x2=69, 0x3=64, 0x4=71, 0x5=77, 0x6=64, 0x7=56, 0x8=61, 0x9=59, 0xa=70, 0xb=74, 0xc=65, 0xd=52, 0xe=67, 0xf=49)), header=Obj(clbit_labels=[['cr', 0], ['cr', 1], ['cr', 2], ['cr', 3]], creg_sizes=[['cr', 4]], memory_slots=4, n_qubits=4, name='rb_purity_XY_length_3_seed_1', qreg_sizes=[['qr', 4]], qubit_labels=[['qr', 0], ['qr', 1], ['qr', 2], ['qr', 3]]), meas_level=2, metadata={'method': 'statevector', 'omp_shot_threads': 1, 'omp_state_threads': 4}, seed=3489832667, shots=1024, status='DONE', success=True, time_taken=2.617052038), ExperimentResult(data=ExperimentResultData(counts=Obj(0x0=58, 0x1=55, 0x2=60, 0x3=48, 0x4=63, 0x5=70, 0x6=64, 0x7=74, 0x8=65, 0x9=64, 0xa=64, 0xb=64, 0xc=76, 0xd=66, 0xe=74, 0xf=59)), header=Obj(clbit_labels=[['cr', 0], ['cr', 1], ['cr', 2], ['cr', 3]], creg_sizes=[['cr', 4]], memory_slots=4, n_qubits=4, name='rb_purity_XY_length_4_seed_1', qreg_sizes=[['qr', 4]], qubit_labels=[['qr', 0], ['qr', 1], ['qr', 2], ['qr', 3]]), meas_level=2, metadata={'method': 'statevector', 'omp_shot_threads': 1, 'omp_state_threads': 4}, seed=2523332641, shots=1024, status='DONE', success=True, time_taken=4.210753664)], status='COMPLETED', success=True, time_taken=10.38896918296814), Result(backend_name='qasm_simulator', backend_version='0.1.1', date=datetime.datetime(2019, 6, 20, 14, 11, 37, 392591), header=Obj(backend_name='qasm_simulator', backend_version='0.1.1'), job_id='3e448d75-8f06-4dfb-aab8-e8845b3d2634', metadata={'omp_available_threads': 4, 'omp_circuit_threads': 1, 'omp_enabled': True, 'time_taken': 8.312605168000001}, qobj_id='07ce8060-100a-430c-b48d-5b77f8e4f508', results=[ExperimentResult(data=ExperimentResultData(counts=Obj(0x0=67, 0x1=61, 0x2=74, 0x3=64, 0x4=69, 0x5=60, 0x6=54, 0x7=56, 0x8=61, 0x9=69, 0xa=76, 0xb=51, 0xc=72, 0xd=71, 0xe=63, 0xf=56)), header=Obj(clbit_labels=[['cr', 0], ['cr', 1], ['cr', 2], ['cr', 3]], creg_sizes=[['cr', 4]], memory_slots=4, n_qubits=4, name='rb_purity_XY_length_0_seed_2', qreg_sizes=[['qr', 4]], qubit_labels=[['qr', 0], ['qr', 1], ['qr', 2], ['qr', 3]]), meas_level=2, metadata={'method': 'statevector', 'omp_shot_threads': 1, 'omp_state_threads': 4}, seed=2663379945, shots=1024, status='DONE', success=True, time_taken=0.27429965300000003), ExperimentResult(data=ExperimentResultData(counts=Obj(0x0=64, 0x1=63, 0x2=64, 0x3=67, 0x4=59, 0x5=72, 0x6=66, 0x7=60, 0x8=77, 0x9=54, 0xa=61, 0xb=70, 0xc=57, 0xd=67, 0xe=62, 0xf=61)), header=Obj(clbit_labels=[['cr', 0], ['cr', 1], ['cr', 2], ['cr', 3]], creg_sizes=[['cr', 4]], memory_slots=4, n_qubits=4, name='rb_purity_XY_length_1_seed_2', qreg_sizes=[['qr', 4]], qubit_labels=[['qr', 0], ['qr', 1], ['qr', 2], ['qr', 3]]), meas_level=2, metadata={'method': 'statevector', 'omp_shot_threads': 1, 'omp_state_threads': 4}, seed=1459799614, shots=1024, status='DONE', success=True, time_taken=0.7675721910000001), ExperimentResult(data=ExperimentResultData(counts=Obj(0x0=52, 0x1=60, 0x2=68, 0x3=77, 0x4=69, 0x5=57, 0x6=67, 0x7=54, 0x8=69, 0x9=58, 0xa=78, 0xb=57, 0xc=54, 0xd=67, 0xe=66, 0xf=71)), header=Obj(clbit_labels=[['cr', 0], ['cr', 1], ['cr', 2], ['cr', 3]], creg_sizes=[['cr', 4]], memory_slots=4, n_qubits=4, name='rb_purity_XY_length_2_seed_2', qreg_sizes=[['qr', 4]], qubit_labels=[['qr', 0], ['qr', 1], ['qr', 2], ['qr', 3]]), meas_level=2, metadata={'method': 'statevector', 'omp_shot_threads': 1, 'omp_state_threads': 4}, seed=554372456, shots=1024, status='DONE', success=True, time_taken=1.6618187070000001), ExperimentResult(data=ExperimentResultData(counts=Obj(0x0=55, 0x1=57, 0x2=54, 0x3=65, 0x4=76, 0x5=63, 0x6=76, 0x7=68, 0x8=67, 0x9=71, 0xa=62, 0xb=62, 0xc=63, 0xd=52, 0xe=67, 0xf=66)), header=Obj(clbit_labels=[['cr', 0], ['cr', 1], ['cr', 2], ['cr', 3]], creg_sizes=[['cr', 4]], memory_slots=4, n_qubits=4, name='rb_purity_XY_length_3_seed_2', qreg_sizes=[['qr', 4]], qubit_labels=[['qr', 0], ['qr', 1], ['qr', 2], ['qr', 3]]), meas_level=2, metadata={'method': 'statevector', 'omp_shot_threads': 1, 'omp_state_threads': 4}, seed=3019168941, shots=1024, status='DONE', success=True, time_taken=2.6485510260000003), ExperimentResult(data=ExperimentResultData(counts=Obj(0x0=80, 0x1=55, 0x2=65, 0x3=55, 0x4=62, 0x5=65, 0x6=57, 0x7=63, 0x8=62, 0x9=64, 0xa=68, 0xb=70, 0xc=68, 0xd=71, 0xe=56, 0xf=63)), header=Obj(clbit_labels=[['cr', 0], ['cr', 1], ['cr', 2], ['cr', 3]], creg_sizes=[['cr', 4]], memory_slots=4, n_qubits=4, name='rb_purity_XY_length_4_seed_2', qreg_sizes=[['qr', 4]], qubit_labels=[['qr', 0], ['qr', 1], ['qr', 2], ['qr', 3]]), meas_level=2, metadata={'method': 'statevector', 'omp_shot_threads': 1, 'omp_state_threads': 4}, seed=457116879, shots=1024, status='DONE', success=True, time_taken=2.955798616)], status='COMPLETED', success=True, time_taken=8.489353656768799)], [Result(backend_name='qasm_simulator', backend_version='0.1.1', date=datetime.datetime(2019, 6, 20, 14, 8, 11, 30207), header=Obj(backend_name='qasm_simulator', backend_version='0.1.1'), job_id='715647ed-8313-4010-8c91-764c2f6f3a23', metadata={'omp_available_threads': 4, 'omp_circuit_threads': 1, 'omp_enabled': True, 'time_taken': 8.46957697}, qobj_id='1a518ce8-9d89-45d5-87c3-6a5d33b6cd4c', results=[ExperimentResult(data=ExperimentResultData(counts=Obj(0x0=64, 0x1=55, 0x2=51, 0x3=73, 0x4=69, 0x5=61, 0x6=64, 0x7=64, 0x8=57, 0x9=61, 0xa=60, 0xb=78, 0xc=68, 0xd=80, 0xe=60, 0xf=59)), header=Obj(clbit_labels=[['cr', 0], ['cr', 1], ['cr', 2], ['cr', 3]], creg_sizes=[['cr', 4]], memory_slots=4, n_qubits=4, name='rb_purity_YY_length_0_seed_0', qreg_sizes=[['qr', 4]], qubit_labels=[['qr', 0], ['qr', 1], ['qr', 2], ['qr', 3]]), meas_level=2, metadata={'method': 'statevector', 'omp_shot_threads': 1, 'omp_state_threads': 4}, seed=2598464116, shots=1024, status='DONE', success=True, time_taken=0.29510642200000003), ExperimentResult(data=ExperimentResultData(counts=Obj(0x0=64, 0x1=51, 0x2=63, 0x3=66, 0x4=61, 0x5=56, 0x6=66, 0x7=81, 0x8=65, 0x9=65, 0xa=66, 0xb=66, 0xc=61, 0xd=67, 0xe=62, 0xf=64)), header=Obj(clbit_labels=[['cr', 0], ['cr', 1], ['cr', 2], ['cr', 3]], creg_sizes=[['cr', 4]], memory_slots=4, n_qubits=4, name='rb_purity_YY_length_1_seed_0', qreg_sizes=[['qr', 4]], qubit_labels=[['qr', 0], ['qr', 1], ['qr', 2], ['qr', 3]]), meas_level=2, metadata={'method': 'statevector', 'omp_shot_threads': 1, 'omp_state_threads': 4}, seed=1253173970, shots=1024, status='DONE', success=True, time_taken=1.141569108), ExperimentResult(data=ExperimentResultData(counts=Obj(0x0=43, 0x1=64, 0x2=69, 0x3=71, 0x4=59, 0x5=59, 0x6=62, 0x7=72, 0x8=62, 0x9=71, 0xa=75, 0xb=61, 0xc=68, 0xd=58, 0xe=74, 0xf=56)), header=Obj(clbit_labels=[['cr', 0], ['cr', 1], ['cr', 2], ['cr', 3]], creg_sizes=[['cr', 4]], memory_slots=4, n_qubits=4, name='rb_purity_YY_length_2_seed_0', qreg_sizes=[['qr', 4]], qubit_labels=[['qr', 0], ['qr', 1], ['qr', 2], ['qr', 3]]), meas_level=2, metadata={'method': 'statevector', 'omp_shot_threads': 1, 'omp_state_threads': 4}, seed=55255783, shots=1024, status='DONE', success=True, time_taken=1.883697798), ExperimentResult(data=ExperimentResultData(counts=Obj(0x0=64, 0x1=79, 0x2=76, 0x3=65, 0x4=61, 0x5=62, 0x6=53, 0x7=71, 0x8=66, 0x9=58, 0xa=55, 0xb=66, 0xc=60, 0xd=65, 0xe=69, 0xf=54)), header=Obj(clbit_labels=[['cr', 0], ['cr', 1], ['cr', 2], ['cr', 3]], creg_sizes=[['cr', 4]], memory_slots=4, n_qubits=4, name='rb_purity_YY_length_3_seed_0', qreg_sizes=[['qr', 4]], qubit_labels=[['qr', 0], ['qr', 1], ['qr', 2], ['qr', 3]]), meas_level=2, metadata={'method': 'statevector', 'omp_shot_threads': 1, 'omp_state_threads': 4}, seed=653294709, shots=1024, status='DONE', success=True, time_taken=2.0961895480000003), ExperimentResult(data=ExperimentResultData(counts=Obj(0x0=58, 0x1=53, 0x2=59, 0x3=59, 0x4=76, 0x5=65, 0x6=63, 0x7=66, 0x8=68, 0x9=67, 0xa=53, 0xb=56, 0xc=71, 0xd=67, 0xe=70, 0xf=73)), header=Obj(clbit_labels=[['cr', 0], ['cr', 1], ['cr', 2], ['cr', 3]], creg_sizes=[['cr', 4]], memory_slots=4, n_qubits=4, name='rb_purity_YY_length_4_seed_0', qreg_sizes=[['qr', 4]], qubit_labels=[['qr', 0], ['qr', 1], ['qr', 2], ['qr', 3]]), meas_level=2, metadata={'method': 'statevector', 'omp_shot_threads': 1, 'omp_state_threads': 4}, seed=619471650, shots=1024, status='DONE', success=True, time_taken=3.048056718)], status='COMPLETED', success=True, time_taken=8.954325914382935), Result(backend_name='qasm_simulator', backend_version='0.1.1', date=datetime.datetime(2019, 6, 20, 14, 10, 9, 39783), header=Obj(backend_name='qasm_simulator', backend_version='0.1.1'), job_id='9f7ff883-d0f0-4cab-b908-186b263033a1', metadata={'omp_available_threads': 4, 'omp_circuit_threads': 1, 'omp_enabled': True, 'time_taken': 10.5750305}, qobj_id='45e3fa7b-d0ff-42a4-91c0-5ce5f91b263e', results=[ExperimentResult(data=ExperimentResultData(counts=Obj(0x0=73, 0x1=68, 0x2=67, 0x3=63, 0x4=66, 0x5=65, 0x6=61, 0x7=61, 0x8=56, 0x9=65, 0xa=62, 0xb=66, 0xc=61, 0xd=61, 0xe=70, 0xf=59)), header=Obj(clbit_labels=[['cr', 0], ['cr', 1], ['cr', 2], ['cr', 3]], creg_sizes=[['cr', 4]], memory_slots=4, n_qubits=4, name='rb_purity_YY_length_0_seed_1', qreg_sizes=[['qr', 4]], qubit_labels=[['qr', 0], ['qr', 1], ['qr', 2], ['qr', 3]]), meas_level=2, metadata={'method': 'statevector', 'omp_shot_threads': 1, 'omp_state_threads': 4}, seed=2370038140, shots=1024, status='DONE', success=True, time_taken=0.361684934), ExperimentResult(data=ExperimentResultData(counts=Obj(0x0=64, 0x1=71, 0x2=64, 0x3=80, 0x4=58, 0x5=71, 0x6=62, 0x7=58, 0x8=57, 0x9=64, 0xa=53, 0xb=68, 0xc=63, 0xd=57, 0xe=70, 0xf=64)), header=Obj(clbit_labels=[['cr', 0], ['cr', 1], ['cr', 2], ['cr', 3]], creg_sizes=[['cr', 4]], memory_slots=4, n_qubits=4, name='rb_purity_YY_length_1_seed_1', qreg_sizes=[['qr', 4]], qubit_labels=[['qr', 0], ['qr', 1], ['qr', 2], ['qr', 3]]), meas_level=2, metadata={'method': 'statevector', 'omp_shot_threads': 1, 'omp_state_threads': 4}, seed=3338285549, shots=1024, status='DONE', success=True, time_taken=1.1640562620000001), ExperimentResult(data=ExperimentResultData(counts=Obj(0x0=64, 0x1=62, 0x2=66, 0x3=58, 0x4=68, 0x5=70, 0x6=74, 0x7=57, 0x8=61, 0x9=77, 0xa=55, 0xb=66, 0xc=56, 0xd=50, 0xe=72, 0xf=68)), header=Obj(clbit_labels=[['cr', 0], ['cr', 1], ['cr', 2], ['cr', 3]], creg_sizes=[['cr', 4]], memory_slots=4, n_qubits=4, name='rb_purity_YY_length_2_seed_1', qreg_sizes=[['qr', 4]], qubit_labels=[['qr', 0], ['qr', 1], ['qr', 2], ['qr', 3]]), meas_level=2, metadata={'method': 'statevector', 'omp_shot_threads': 1, 'omp_state_threads': 4}, seed=161551470, shots=1024, status='DONE', success=True, time_taken=1.8189424840000001), ExperimentResult(data=ExperimentResultData(counts=Obj(0x0=69, 0x1=73, 0x2=56, 0x3=70, 0x4=65, 0x5=60, 0x6=64, 0x7=64, 0x8=64, 0x9=78, 0xa=63, 0xb=55, 0xc=57, 0xd=57, 0xe=66, 0xf=63)), header=Obj(clbit_labels=[['cr', 0], ['cr', 1], ['cr', 2], ['cr', 3]], creg_sizes=[['cr', 4]], memory_slots=4, n_qubits=4, name='rb_purity_YY_length_3_seed_1', qreg_sizes=[['qr', 4]], qubit_labels=[['qr', 0], ['qr', 1], ['qr', 2], ['qr', 3]]), meas_level=2, metadata={'method': 'statevector', 'omp_shot_threads': 1, 'omp_state_threads': 4}, seed=50564574, shots=1024, status='DONE', success=True, time_taken=3.587185948), ExperimentResult(data=ExperimentResultData(counts=Obj(0x0=60, 0x1=58, 0x2=83, 0x3=70, 0x4=61, 0x5=54, 0x6=67, 0x7=69, 0x8=60, 0x9=73, 0xa=57, 0xb=65, 0xc=79, 0xd=53, 0xe=62, 0xf=53)), header=Obj(clbit_labels=[['cr', 0], ['cr', 1], ['cr', 2], ['cr', 3]], creg_sizes=[['cr', 4]], memory_slots=4, n_qubits=4, name='rb_purity_YY_length_4_seed_1', qreg_sizes=[['qr', 4]], qubit_labels=[['qr', 0], ['qr', 1], ['qr', 2], ['qr', 3]]), meas_level=2, metadata={'method': 'statevector', 'omp_shot_threads': 1, 'omp_state_threads': 4}, seed=4167801651, shots=1024, status='DONE', success=True, time_taken=3.637789235)], status='COMPLETED', success=True, time_taken=10.796085834503174), Result(backend_name='qasm_simulator', backend_version='0.1.1', date=datetime.datetime(2019, 6, 20, 14, 11, 48, 188454), header=Obj(backend_name='qasm_simulator', backend_version='0.1.1'), job_id='68a78ed9-89c8-4983-8163-0e258b7d8097', metadata={'omp_available_threads': 4, 'omp_circuit_threads': 1, 'omp_enabled': True, 'time_taken': 8.486141202}, qobj_id='fed0c1fc-b596-4330-bc56-432d856db06c', results=[ExperimentResult(data=ExperimentResultData(counts=Obj(0x0=86, 0x1=63, 0x2=56, 0x3=59, 0x4=51, 0x5=71, 0x6=68, 0x7=58, 0x8=63, 0x9=55, 0xa=54, 0xb=69, 0xc=70, 0xd=72, 0xe=65, 0xf=64)), header=Obj(clbit_labels=[['cr', 0], ['cr', 1], ['cr', 2], ['cr', 3]], creg_sizes=[['cr', 4]], memory_slots=4, n_qubits=4, name='rb_purity_YY_length_0_seed_2', qreg_sizes=[['qr', 4]], qubit_labels=[['qr', 0], ['qr', 1], ['qr', 2], ['qr', 3]]), meas_level=2, metadata={'method': 'statevector', 'omp_shot_threads': 1, 'omp_state_threads': 4}, seed=1505986424, shots=1024, status='DONE', success=True, time_taken=0.287838806), ExperimentResult(data=ExperimentResultData(counts=Obj(0x0=60, 0x1=73, 0x2=55, 0x3=72, 0x4=68, 0x5=55, 0x6=52, 0x7=72, 0x8=56, 0x9=49, 0xa=60, 0xb=78, 0xc=63, 0xd=76, 0xe=74, 0xf=61)), header=Obj(clbit_labels=[['cr', 0], ['cr', 1], ['cr', 2], ['cr', 3]], creg_sizes=[['cr', 4]], memory_slots=4, n_qubits=4, name='rb_purity_YY_length_1_seed_2', qreg_sizes=[['qr', 4]], qubit_labels=[['qr', 0], ['qr', 1], ['qr', 2], ['qr', 3]]), meas_level=2, metadata={'method': 'statevector', 'omp_shot_threads': 1, 'omp_state_threads': 4}, seed=1893434558, shots=1024, status='DONE', success=True, time_taken=1.2489423480000001), ExperimentResult(data=ExperimentResultData(counts=Obj(0x0=48, 0x1=75, 0x2=53, 0x3=58, 0x4=73, 0x5=60, 0x6=66, 0x7=74, 0x8=49, 0x9=57, 0xa=64, 0xb=79, 0xc=77, 0xd=61, 0xe=61, 0xf=69)), header=Obj(clbit_labels=[['cr', 0], ['cr', 1], ['cr', 2], ['cr', 3]], creg_sizes=[['cr', 4]], memory_slots=4, n_qubits=4, name='rb_purity_YY_length_2_seed_2', qreg_sizes=[['qr', 4]], qubit_labels=[['qr', 0], ['qr', 1], ['qr', 2], ['qr', 3]]), meas_level=2, metadata={'method': 'statevector', 'omp_shot_threads': 1, 'omp_state_threads': 4}, seed=2893610684, shots=1024, status='DONE', success=True, time_taken=1.7584499980000001), ExperimentResult(data=ExperimentResultData(counts=Obj(0x0=60, 0x1=71, 0x2=65, 0x3=62, 0x4=62, 0x5=56, 0x6=65, 0x7=69, 0x8=68, 0x9=53, 0xa=67, 0xb=65, 0xc=65, 0xd=75, 0xe=52, 0xf=69)), header=Obj(clbit_labels=[['cr', 0], ['cr', 1], ['cr', 2], ['cr', 3]], creg_sizes=[['cr', 4]], memory_slots=4, n_qubits=4, name='rb_purity_YY_length_3_seed_2', qreg_sizes=[['qr', 4]], qubit_labels=[['qr', 0], ['qr', 1], ['qr', 2], ['qr', 3]]), meas_level=2, metadata={'method': 'statevector', 'omp_shot_threads': 1, 'omp_state_threads': 4}, seed=4175397825, shots=1024, status='DONE', success=True, time_taken=2.1514682290000002), ExperimentResult(data=ExperimentResultData(counts=Obj(0x0=58, 0x1=67, 0x2=63, 0x3=64, 0x4=71, 0x5=70, 0x6=66, 0x7=49, 0x8=64, 0x9=45, 0xa=52, 0xb=80, 0xc=58, 0xd=65, 0xe=78, 0xf=74)), header=Obj(clbit_labels=[['cr', 0], ['cr', 1], ['cr', 2], ['cr', 3]], creg_sizes=[['cr', 4]], memory_slots=4, n_qubits=4, name='rb_purity_YY_length_4_seed_2', qreg_sizes=[['qr', 4]], qubit_labels=[['qr', 0], ['qr', 1], ['qr', 2], ['qr', 3]]), meas_level=2, metadata={'method': 'statevector', 'omp_shot_threads': 1, 'omp_state_threads': 4}, seed=970332635, shots=1024, status='DONE', success=True, time_taken=3.033678527)], status='COMPLETED', success=True, time_taken=8.667986631393433)]]\n",
      "[[{'mean': array([0.96972656, 0.83821615, 0.73958333, 0.64746094, 0.56835938]), 'std': array([0.00828641, 0.00786657, 0.00860016, 0.01600689, 0.00522864])}, {'mean': array([0.96875   , 0.85970052, 0.76302083, 0.67480469, 0.60970052]), 'std': array([0.01715714, 0.02755606, 0.0035955 , 0.02012446, 0.00644498])}], [{'mean': array([0.48502604, 0.4514974 , 0.40071615, 0.38411458, 0.35514323]), 'std': array([0.03197735, 0.00530908, 0.01251457, 0.01070761, 0.00322249])}, {'mean': array([0.48990885, 0.45084635, 0.43424479, 0.37792969, 0.36165365]), 'std': array([0.00753635, 0.01117253, 0.01754796, 0.00695122, 0.01846596])}], [{'mean': array([0.49088542, 0.46289062, 0.41764323, 0.39420573, 0.3610026 ]), 'std': array([0.00798688, 0.01045728, 0.01156401, 0.02052073, 0.01483889])}, {'mean': array([0.47200521, 0.43554688, 0.43391927, 0.38020833, 0.35709635]), 'std': array([0.00165984, 0.02643341, 0.00649412, 0.01981136, 0.01475295])}], [{'mean': array([0.49251302, 0.453125  , 0.40234375, 0.37434896, 0.35579427]), 'std': array([0.01684551, 0.01116304, 0.00898579, 0.00530908, 0.01003323])}, {'mean': array([0.49739583, 0.46647135, 0.4078776 , 0.37011719, 0.38411458]), 'std': array([0.00301876, 0.01740243, 0.00852591, 0.00601994, 0.01856896])}], [{'mean': array([0.2594401 , 0.26236979, 0.25455729, 0.23925781, 0.24739583]), 'std': array([0.00565695, 0.00782605, 0.0073657 , 0.00210962, 0.0046721 ])}, {'mean': array([0.2438151 , 0.23828125, 0.23893229, 0.25065104, 0.24739583]), 'std': array([0.00439152, 0.00708709, 0.01105813, 0.01161886, 0.00280024])}], [{'mean': array([0.22949219, 0.25488281, 0.25488281, 0.24739583, 0.2578125 ]), 'std': array([0.00318944, 0.0091956 , 0.01018001, 0.00184142, 0.00966748])}, {'mean': array([0.23730469, 0.25878906, 0.24446615, 0.23567708, 0.25325521]), 'std': array([0.01283229, 0.01854612, 0.01374916, 0.00663935, 0.00714665])}], [{'mean': array([0.50716146, 0.4469401 , 0.41503906, 0.39322917, 0.35807292]), 'std': array([0.0164251 , 0.0046721 , 0.0194006 , 0.01818843, 0.01139788])}, {'mean': array([0.48925781, 0.45019531, 0.42057292, 0.39127604, 0.35709635]), 'std': array([0.0122752 , 0.01410674, 0.01732921, 0.00806609, 0.01993931])}], [{'mean': array([0.25683594, 0.25325521, 0.24576823, 0.24348958, 0.24804688]), 'std': array([0.0097003 , 0.00256315, 0.00530908, 0.01161886, 0.01839121])}, {'mean': array([0.25553385, 0.24967448, 0.24544271, 0.24121094, 0.24186198]), 'std': array([0.01271616, 0.00256315, 0.00530908, 0.01149969, 0.01902557])}], [{'mean': array([0.25520833, 0.24088542, 0.23697917, 0.24772135, 0.25520833]), 'std': array([0.00603751, 0.0035955 , 0.00740873, 0.00184142, 0.00881915])}, {'mean': array([0.25325521, 0.25488281, 0.23795573, 0.26367188, 0.24479167]), 'std': array([0.01161886, 0.01397087, 0.00678147, 0.01045728, 0.01676985])}]]\n",
      "[[ 1  9 17 25 33]\n",
      " [ 1  9 17 25 33]]\n"
     ]
    }
   ],
   "source": [
    "print (rbfit_purity1.raw_data)\n",
    "print (rbfit_purity1.seeds)\n",
    "print (rbfit_purity1.fit)\n",
    "print (rbfit_purity1.fit_pur)\n",
    "print (rbfit_purity1.rb_fit_fun)\n",
    "print (rbfit_purity1.results)\n",
    "print (rbfit_purity1.ydata_pur)\n",
    "#print (rbfit_purity1.ydata)\n",
    "print (rbfit_purity1.cliff_lengths)"
   ]
  },
  {
   "cell_type": "code",
   "execution_count": 30,
   "metadata": {},
   "outputs": [
    {
     "name": "stdout",
     "output_type": "stream",
     "text": [
      "[[{'mean': array([0.96972656, 0.83821615, 0.73958333, 0.64746094, 0.56835938]), 'std': array([0.00828641, 0.00786657, 0.00860016, 0.01600689, 0.00522864])}, {'mean': array([0.96875   , 0.85970052, 0.76302083, 0.67480469, 0.60970052]), 'std': array([0.01715714, 0.02755606, 0.0035955 , 0.02012446, 0.00644498])}], [{'mean': array([0.48502604, 0.4514974 , 0.40071615, 0.38411458, 0.35514323]), 'std': array([0.03197735, 0.00530908, 0.01251457, 0.01070761, 0.00322249])}, {'mean': array([0.48990885, 0.45084635, 0.43424479, 0.37792969, 0.36165365]), 'std': array([0.00753635, 0.01117253, 0.01754796, 0.00695122, 0.01846596])}], [{'mean': array([0.49088542, 0.46289062, 0.41764323, 0.39420573, 0.3610026 ]), 'std': array([0.00798688, 0.01045728, 0.01156401, 0.02052073, 0.01483889])}, {'mean': array([0.47200521, 0.43554688, 0.43391927, 0.38020833, 0.35709635]), 'std': array([0.00165984, 0.02643341, 0.00649412, 0.01981136, 0.01475295])}], [{'mean': array([0.49251302, 0.453125  , 0.40234375, 0.37434896, 0.35579427]), 'std': array([0.01684551, 0.01116304, 0.00898579, 0.00530908, 0.01003323])}, {'mean': array([0.49739583, 0.46647135, 0.4078776 , 0.37011719, 0.38411458]), 'std': array([0.00301876, 0.01740243, 0.00852591, 0.00601994, 0.01856896])}], [{'mean': array([0.2594401 , 0.26236979, 0.25455729, 0.23925781, 0.24739583]), 'std': array([0.00565695, 0.00782605, 0.0073657 , 0.00210962, 0.0046721 ])}, {'mean': array([0.2438151 , 0.23828125, 0.23893229, 0.25065104, 0.24739583]), 'std': array([0.00439152, 0.00708709, 0.01105813, 0.01161886, 0.00280024])}], [{'mean': array([0.22949219, 0.25488281, 0.25488281, 0.24739583, 0.2578125 ]), 'std': array([0.00318944, 0.0091956 , 0.01018001, 0.00184142, 0.00966748])}, {'mean': array([0.23730469, 0.25878906, 0.24446615, 0.23567708, 0.25325521]), 'std': array([0.01283229, 0.01854612, 0.01374916, 0.00663935, 0.00714665])}], [{'mean': array([0.50716146, 0.4469401 , 0.41503906, 0.39322917, 0.35807292]), 'std': array([0.0164251 , 0.0046721 , 0.0194006 , 0.01818843, 0.01139788])}, {'mean': array([0.48925781, 0.45019531, 0.42057292, 0.39127604, 0.35709635]), 'std': array([0.0122752 , 0.01410674, 0.01732921, 0.00806609, 0.01993931])}], [{'mean': array([0.25683594, 0.25325521, 0.24576823, 0.24348958, 0.24804688]), 'std': array([0.0097003 , 0.00256315, 0.00530908, 0.01161886, 0.01839121])}, {'mean': array([0.25553385, 0.24967448, 0.24544271, 0.24121094, 0.24186198]), 'std': array([0.01271616, 0.00256315, 0.00530908, 0.01149969, 0.01902557])}], [{'mean': array([0.25520833, 0.24088542, 0.23697917, 0.24772135, 0.25520833]), 'std': array([0.00603751, 0.0035955 , 0.00740873, 0.00184142, 0.00881915])}, {'mean': array([0.25325521, 0.25488281, 0.23795573, 0.26367188, 0.24479167]), 'std': array([0.01161886, 0.01397087, 0.00678147, 0.01045728, 0.01676985])}]]\n",
      "------------------\n",
      "[{'mean': array([0.98657227, 0.91601562, 0.84187826, 0.79280599, 0.75170898]), 'std': array([0.04337374, 0.02260906, 0.03259437, 0.03601679, 0.03193424])}, {'mean': array([0.97680664, 0.91609701, 0.85660807, 0.79638672, 0.76424154]), 'std': array([0.03153354, 0.05177521, 0.03348912, 0.03698352, 0.04521811])}]\n"
     ]
    }
   ],
   "source": [
    "print (rbfit_purity1.ydata_pur)\n",
    "print (\"------------------\")\n",
    "#rbfit_purity1.add_data(purity_result_list)\n",
    "#rbfit_purity1.calc_data()\n",
    "rbfit_purity1.calc_statistics()\n",
    "print (rbfit_purity1.ydata)"
   ]
  },
  {
   "cell_type": "code",
   "execution_count": 32,
   "metadata": {},
   "outputs": [
    {
     "name": "stdout",
     "output_type": "stream",
     "text": [
      "[[{'params': array([0.84375763, 0.97958502, 0.14159248]), 'params_err': array([0.07436286, 0.00268103, 0.07716612]), 'epc': 0.015311238312906594, 'epc_err': 4.19054574890071e-05}, {'params': array([0.81999271, 0.98165559, 0.16434363]), 'params_err': array([0.03677264, 0.00128202, 0.03966082]), 'epc': 0.013758305881919397, 'epc_err': 1.7967974714631774e-05}], [{'params': array([0.24964411, 0.9724318 , 0.25596347]), 'params_err': array([0.08274436, 0.01962741, 0.09935144]), 'epc': 0.02067615226299807, 'epc_err': 0.0004173242068907195}, {'params': array([ 0.5351114 ,  0.99050711, -0.03971265]), 'params_err': array([1.21759008, 0.02471373, 1.22170748]), 'epc': 0.00711966971975686, 'epc_err': 0.00017763992107120257}], [{'params': array([ 0.9784862 ,  0.99546011, -0.48200054]), 'params_err': array([2.56518481, 0.01274055, 2.56785616]), 'epc': 0.0034049139649018623, 'epc_err': 4.3578324969285566e-05}, {'params': array([ 2.        ,  0.99845335, -1.52463528]), 'params_err': array([5.26968634e+01, 4.15209576e-02, 5.26986366e+01]), 'epc': 0.0011599848623739528, 'epc_err': 4.823828988740044e-05}], [{'params': array([0.22067297, 0.96455109, 0.28580103]), 'params_err': array([0.04250116, 0.01382081, 0.04836804]), 'epc': 0.026586684373215208, 'epc_err': 0.00038095391831988407}, {'params': array([0.21673447, 0.96424155, 0.28870955]), 'params_err': array([0.13810712, 0.03698011, 0.14146484]), 'epc': 0.02681883567026172, 'epc_err': 0.0010285427011140214}], [{'params': array([0.02775773, 0.94281774, 0.2356234 ]), 'params_err': array([0.02894747, 0.15568241, 0.03177682]), 'epc': 0.04288669262130529, 'epc_err': 0.00708164848461083}, {'params': array([-1.75808935,  0.99990836,  1.99999995]), 'params_err': array([5.12168052e+03, 2.67378341e-01, 5.12168264e+03]), 'epc': 6.872777859223689e-05, 'epc_err': 1.8378003508487093e-05}], [{'params': array([-0.12634582,  0.14828948,  0.24822816]), 'params_err': array([3.49351310e+04, 4.10026443e+04, 1.84151413e-03]), 'epc': 0.6387828917986165, 'epc_err': 176626.07028375793}, {'params': array([-1.76254199,  0.99983008,  1.99943418]), 'params_err': array([3.90668249e+03, 3.77755697e-01, 3.90669317e+03]), 'epc': 0.00012744250606080976, 'epc_err': 4.8150314555444685e-05}], [{'params': array([0.19676513, 0.95729061, 0.31498602]), 'params_err': array([0.02475319, 0.0140143 , 0.0317031 ]), 'epc': 0.0320320433534258, 'epc_err': 0.0004689345609548067}, {'params': array([ 0.621234  ,  0.99281569, -0.12872744]), 'params_err': array([0.64939366, 0.00836017, 0.6512268 ]), 'epc': 0.005388231339666066, 'epc_err': 4.5372496885939903e-05}], [{'params': array([0.02731961, 0.96504703, 0.23287987]), 'params_err': array([0.02836664, 0.06213438, 0.03140369]), 'epc': 0.026214730860349894, 'epc_err': 0.0016878307107570944}, {'params': array([0.02158015, 0.9573741 , 0.23507676]), 'params_err': array([0.0042869 , 0.01757312, 0.0051249 ]), 'epc': 0.03196942721200499, 'epc_err': 0.0005868160406113501}], [{'params': array([-1.75607104,  0.99992185,  2.        ]), 'params_err': array([1.70056872e+04, 7.57742276e-01, 1.70056956e+04]), 'epc': 5.8615006559625815e-05, 'epc_err': 4.4418539922924655e-05}, {'params': array([0.00920935, 0.76834486, 0.24647742]), 'params_err': array([0.03709464, 2.80234072, 0.01030978]), 'epc': 0.17374135748463865, 'epc_err': 0.6336770216021373}]]\n",
      "-------------------\n",
      "[{'params': array([0.45946037, 0.97618933, 0.54254737]), 'params_err': array([0.08617722, 0.00712864, 0.0919767 ]), 'epc': 0.017858005407399846, 'epc_err': 0.00013040847910138223}, {'params': array([0.53597021, 0.98340831, 0.4507673 ]), 'params_err': array([0.20870543, 0.00833981, 0.21155379]), 'epc': 0.012443766894922714, 'epc_err': 0.00010552954198841082}]\n"
     ]
    }
   ],
   "source": [
    "print (rbfit_purity1.fit_pur)\n",
    "rbfit_purity1.fit_data()\n",
    "print (\"-------------------\")\n",
    "print (rbfit_purity1.fit)"
   ]
  },
  {
   "cell_type": "code",
   "execution_count": 33,
   "metadata": {},
   "outputs": [
    {
     "name": "stdout",
     "output_type": "stream",
     "text": [
      "[{'params': array([0.45946037, 0.97618933, 0.54254737]), 'params_err': array([0.08617722, 0.00712864, 0.0919767 ]), 'epc': 0.017858005407399846, 'epc_err': 0.00013040847910138223}, {'params': array([0.53597021, 0.98340831, 0.4507673 ]), 'params_err': array([0.20870543, 0.00833981, 0.21155379]), 'epc': 0.012443766894922714, 'epc_err': 0.00010552954198841082}]\n"
     ]
    }
   ],
   "source": [
    "rbfit_purity1.fit_data()\n",
    "print (rbfit_purity1.fit)"
   ]
  },
  {
   "cell_type": "code",
   "execution_count": null,
   "metadata": {
    "collapsed": true
   },
   "outputs": [],
   "source": []
  }
 ],
 "metadata": {
  "kernelspec": {
   "display_name": "Python 3",
   "language": "python",
   "name": "python3"
  },
  "language_info": {
   "codemirror_mode": {
    "name": "ipython",
    "version": 3
   },
   "file_extension": ".py",
   "mimetype": "text/x-python",
   "name": "python",
   "nbconvert_exporter": "python",
   "pygments_lexer": "ipython3",
   "version": "3.6.3"
  }
 },
 "nbformat": 4,
 "nbformat_minor": 2
}
