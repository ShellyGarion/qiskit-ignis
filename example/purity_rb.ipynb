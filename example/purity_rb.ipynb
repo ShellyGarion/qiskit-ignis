{
 "cells": [
  {
   "cell_type": "markdown",
   "metadata": {},
   "source": [
    "<img src=\"../../images/qiskit-heading.gif\" alt=\"Note: In order for images to show up in this jupyter notebook you need to select File => Trusted Notebook\" width=\"500 px\\\" align=\"left\">"
   ]
  },
  {
   "cell_type": "markdown",
   "metadata": {},
   "source": [
    "# Purity Randomized Benchmarking"
   ]
  },
  {
   "cell_type": "code",
   "execution_count": 1,
   "metadata": {},
   "outputs": [],
   "source": [
    "#Import general libraries (needed for functions)\n",
    "import numpy as np\n",
    "import matplotlib.pyplot as plt\n",
    "from IPython import display\n",
    "\n",
    "import qiskit.ignis.verification.randomized_benchmarking as rb\n",
    "\n",
    "#Import Qiskit classes classes\n",
    "import qiskit\n",
    "from qiskit.providers.aer.noise import NoiseModel\n",
    "from qiskit.providers.aer.noise.errors.standard_errors import depolarizing_error, thermal_relaxation_error"
   ]
  },
  {
   "cell_type": "code",
   "execution_count": 2,
   "metadata": {},
   "outputs": [],
   "source": [
    "# Example of 1-qubit Purity RB\n",
    "#Number of qubits\n",
    "nQ = 3\n",
    "#There are 3 qubits: Q0,Q1,Q2.\n",
    "#Number of seeds (random sequences)\n",
    "nseeds = 5\n",
    "#Number of Cliffords in the sequence (start, stop, steps)\n",
    "nCliffs = np.arange(1,20,2)\n",
    "#2Q RB on Q0,Q2 and 1Q RB on Q1\n",
    "rb_pattern = [[0],[1],[2]]"
   ]
  },
  {
   "cell_type": "code",
   "execution_count": 3,
   "metadata": {},
   "outputs": [
    {
     "name": "stdout",
     "output_type": "stream",
     "text": [
      "3\n"
     ]
    }
   ],
   "source": [
    "rb_opts = {}\n",
    "rb_opts['length_vector'] = nCliffs\n",
    "rb_opts['nseeds'] = nseeds\n",
    "rb_opts['rb_pattern'] = rb_pattern\n",
    "rb_opts['is_purity'] = True\n",
    "rb_purity_circs, xdata, npurity = rb.randomized_benchmarking_seq(**rb_opts)\n",
    "print (npurity)"
   ]
  },
  {
   "cell_type": "code",
   "execution_count": 4,
   "metadata": {},
   "outputs": [
    {
     "name": "stdout",
     "output_type": "stream",
     "text": [
      "         ┌───┐   ░   ┌───┐┌─┐                                   \n",
      "qr_0: |0>┤ Z ├───░───┤ Z ├┤M├───────────────────────────────────\n",
      "         ├───┤┌─────┐├───┤└╥┘┌───┐  ░   ┌───┐ ┌───┐┌───┐┌───┐┌─┐\n",
      "qr_1: |0>┤ H ├┤ Sdg ├┤ H ├─╫─┤ Y ├──░───┤ Y ├─┤ H ├┤ S ├┤ H ├┤M├\n",
      "         ├───┤└┬───┬┘├───┤ ║ └─░─┘┌───┐┌┴───┴┐├───┤└┬─┬┘└───┘└╥┘\n",
      "qr_2: |0>┤ H ├─┤ S ├─┤ Y ├─╫───░──┤ Y ├┤ Sdg ├┤ H ├─┤M├───────╫─\n",
      "         └───┘ └───┘ └───┘ ║   ░  └───┘└─────┘└───┘ └╥┘       ║ \n",
      " cr_0: 0 ══════════════════╩═════════════════════════╬════════╬═\n",
      "                                                     ║        ║ \n",
      " cr_1: 0 ════════════════════════════════════════════╬════════╩═\n",
      "                                                     ║          \n",
      " cr_2: 0 ════════════════════════════════════════════╩══════════\n",
      "                                                                \n"
     ]
    }
   ],
   "source": [
    "print (rb_purity_circs[0][0][0])"
   ]
  },
  {
   "cell_type": "code",
   "execution_count": 5,
   "metadata": {},
   "outputs": [
    {
     "name": "stdout",
     "output_type": "stream",
     "text": [
      "         ┌───┐   ░   ┌───┐┌────────────┐┌─┐                                    »\n",
      "qr_0: |0>┤ Z ├───░───┤ Z ├┤ Rx(1.5708) ├┤M├────────────────────────────────────»\n",
      "         ├───┤┌─────┐├───┤└───┬───┬────┘└╥┘  ░   ┌───┐ ┌───┐    ┌───┐     ┌───┐»\n",
      "qr_1: |0>┤ H ├┤ Sdg ├┤ H ├────┤ Y ├──────╫───░───┤ Y ├─┤ H ├────┤ S ├─────┤ H ├»\n",
      "         ├───┤└┬───┬┘├───┤    └─░─┘      ║ ┌───┐┌┴───┴┐├───┤┌───┴───┴────┐└┬─┬┘»\n",
      "qr_2: |0>┤ H ├─┤ S ├─┤ Y ├──────░────────╫─┤ Y ├┤ Sdg ├┤ H ├┤ Rx(1.5708) ├─┤M├─»\n",
      "         └───┘ └───┘ └───┘      ░        ║ └───┘└─────┘└───┘└────────────┘ └╥┘ »\n",
      " cr_0: 0 ════════════════════════════════╩══════════════════════════════════╬══»\n",
      "                                                                            ║  »\n",
      " cr_1: 0 ═══════════════════════════════════════════════════════════════════╬══»\n",
      "                                                                            ║  »\n",
      " cr_2: 0 ═══════════════════════════════════════════════════════════════════╩══»\n",
      "                                                                               »\n",
      "«                       \n",
      "«qr_0: ─────────────────\n",
      "«      ┌────────────┐┌─┐\n",
      "«qr_1: ┤ Rx(1.5708) ├┤M├\n",
      "«      └────────────┘└╥┘\n",
      "«qr_2: ───────────────╫─\n",
      "«                     ║ \n",
      "«cr_0: ═══════════════╬═\n",
      "«                     ║ \n",
      "«cr_1: ═══════════════╩═\n",
      "«                       \n",
      "«cr_2: ═════════════════\n",
      "«                       \n"
     ]
    }
   ],
   "source": [
    "print (rb_purity_circs[0][1][0])"
   ]
  },
  {
   "cell_type": "code",
   "execution_count": 6,
   "metadata": {},
   "outputs": [
    {
     "name": "stdout",
     "output_type": "stream",
     "text": [
      "         ┌───┐   ░   ┌───┐┌────────────┐┌─┐                                    »\n",
      "qr_0: |0>┤ Z ├───░───┤ Z ├┤ Ry(1.5708) ├┤M├────────────────────────────────────»\n",
      "         ├───┤┌─────┐├───┤└───┬───┬────┘└╥┘  ░   ┌───┐ ┌───┐    ┌───┐     ┌───┐»\n",
      "qr_1: |0>┤ H ├┤ Sdg ├┤ H ├────┤ Y ├──────╫───░───┤ Y ├─┤ H ├────┤ S ├─────┤ H ├»\n",
      "         ├───┤└┬───┬┘├───┤    └─░─┘      ║ ┌───┐┌┴───┴┐├───┤┌───┴───┴────┐└┬─┬┘»\n",
      "qr_2: |0>┤ H ├─┤ S ├─┤ Y ├──────░────────╫─┤ Y ├┤ Sdg ├┤ H ├┤ Ry(1.5708) ├─┤M├─»\n",
      "         └───┘ └───┘ └───┘      ░        ║ └───┘└─────┘└───┘└────────────┘ └╥┘ »\n",
      " cr_0: 0 ════════════════════════════════╩══════════════════════════════════╬══»\n",
      "                                                                            ║  »\n",
      " cr_1: 0 ═══════════════════════════════════════════════════════════════════╬══»\n",
      "                                                                            ║  »\n",
      " cr_2: 0 ═══════════════════════════════════════════════════════════════════╩══»\n",
      "                                                                               »\n",
      "«                       \n",
      "«qr_0: ─────────────────\n",
      "«      ┌────────────┐┌─┐\n",
      "«qr_1: ┤ Ry(1.5708) ├┤M├\n",
      "«      └────────────┘└╥┘\n",
      "«qr_2: ───────────────╫─\n",
      "«                     ║ \n",
      "«cr_0: ═══════════════╬═\n",
      "«                     ║ \n",
      "«cr_1: ═══════════════╩═\n",
      "«                       \n",
      "«cr_2: ═════════════════\n",
      "«                       \n"
     ]
    }
   ],
   "source": [
    "print (rb_purity_circs[0][2][0])"
   ]
  },
  {
   "cell_type": "code",
   "execution_count": 7,
   "metadata": {},
   "outputs": [],
   "source": [
    "# Example of 2-qubits Purity RB\n",
    "#Number of qubits\n",
    "nQ = 4\n",
    "#Number of seeds (random sequences)\n",
    "nseeds = 5\n",
    "#Number of Cliffords in the sequence (start, stop, steps)\n",
    "nCliffs = np.arange(1,20,2)\n",
    "#2Q RB on Q0,Q2 and 1Q RB on Q1\n",
    "rb_pattern = [[0,1],[2,3]]"
   ]
  },
  {
   "cell_type": "code",
   "execution_count": 8,
   "metadata": {},
   "outputs": [
    {
     "name": "stdout",
     "output_type": "stream",
     "text": [
      "9\n"
     ]
    }
   ],
   "source": [
    "rb_opts = {}\n",
    "rb_opts['length_vector'] = nCliffs\n",
    "rb_opts['nseeds'] = nseeds\n",
    "rb_opts['rb_pattern'] = rb_pattern\n",
    "rb_opts['is_purity'] = True\n",
    "rb_purity_circs, xdata, npurity = rb.randomized_benchmarking_seq(**rb_opts)\n",
    "print (npurity)"
   ]
  },
  {
   "cell_type": "code",
   "execution_count": 9,
   "metadata": {},
   "outputs": [
    {
     "name": "stdout",
     "output_type": "stream",
     "text": [
      "         ┌───┐┌───┐┌───┐     ┌───┐ ┌───┐   ░  ┌───┐┌───┐     ┌─────┐┌───┐┌───┐»\n",
      "qr_0: |0>┤ H ├┤ H ├┤ S ├──■──┤ X ├─┤ Y ├───░──┤ Y ├┤ X ├──■──┤ Sdg ├┤ H ├┤ H ├»\n",
      "         ├───┤└───┘└───┘┌─┴─┐└─┬─┘ ├───┤   ░  ├───┤└─┬─┘┌─┴─┐└┬───┬┘└┬─┬┘└───┘»\n",
      "qr_1: |0>┤ H ├──────────┤ X ├──■───┤ Y ├───░──┤ Y ├──■──┤ X ├─┤ H ├──┤M├──────»\n",
      "         ├───┤     ┌───┐├───┤  ░  ┌┴───┴┐┌───┐└───┘┌───┐└┬─┬┘ └───┘  └╥┘      »\n",
      "qr_2: |0>┤ H ├──■──┤ H ├┤ S ├──░──┤ Sdg ├┤ H ├──■──┤ H ├─┤M├──────────╫───────»\n",
      "         └───┘┌─┴─┐└───┘└───┘  ░  └─────┘└───┘┌─┴─┐└┬─┬┘ └╥┘          ║       »\n",
      "qr_3: |0>─────┤ X ├────────────░──────────────┤ X ├─┤M├───╫───────────╫───────»\n",
      "              └───┘            ░              └───┘ └╥┘   ║           ║       »\n",
      " cr_0: 0 ════════════════════════════════════════════╬════╬═══════════╬═══════»\n",
      "                                                     ║    ║           ║       »\n",
      " cr_1: 0 ════════════════════════════════════════════╬════╬═══════════╩═══════»\n",
      "                                                     ║    ║                   »\n",
      " cr_2: 0 ════════════════════════════════════════════╬════╩═══════════════════»\n",
      "                                                     ║                        »\n",
      " cr_3: 0 ════════════════════════════════════════════╩════════════════════════»\n",
      "                                                                              »\n",
      "«      ┌─┐\n",
      "«qr_0: ┤M├\n",
      "«      └╥┘\n",
      "«qr_1: ─╫─\n",
      "«       ║ \n",
      "«qr_2: ─╫─\n",
      "«       ║ \n",
      "«qr_3: ─╫─\n",
      "«       ║ \n",
      "«cr_0: ═╩═\n",
      "«         \n",
      "«cr_1: ═══\n",
      "«         \n",
      "«cr_2: ═══\n",
      "«         \n",
      "«cr_3: ═══\n",
      "«         \n"
     ]
    }
   ],
   "source": [
    "print (rb_purity_circs[0][0][0])"
   ]
  },
  {
   "cell_type": "code",
   "execution_count": 10,
   "metadata": {},
   "outputs": [
    {
     "name": "stdout",
     "output_type": "stream",
     "text": [
      "         ┌───┐┌───┐┌───┐     ┌───┐ ┌───┐   ░  ┌───┐┌───┐              ┌─────┐»\n",
      "qr_0: |0>┤ H ├┤ H ├┤ S ├──■──┤ X ├─┤ Y ├───░──┤ Y ├┤ X ├──────■───────┤ Sdg ├»\n",
      "         ├───┤└───┘└───┘┌─┴─┐└─┬─┘ ├───┤   ░  ├───┤└─┬─┘    ┌─┴─┐     └┬───┬┘»\n",
      "qr_1: |0>┤ H ├──────────┤ X ├──■───┤ Y ├───░──┤ Y ├──■──────┤ X ├──────┤ H ├─»\n",
      "         ├───┤     ┌───┐├───┤  ░  ┌┴───┴┐┌───┐└───┘┌───┐┌───┴───┴────┐ └┬─┬┘ »\n",
      "qr_2: |0>┤ H ├──■──┤ H ├┤ S ├──░──┤ Sdg ├┤ H ├──■──┤ H ├┤ Rx(1.5708) ├──┤M├──»\n",
      "         └───┘┌─┴─┐└───┘└───┘  ░  └─────┘└───┘┌─┴─┐└┬─┬┘└────────────┘  └╥┘  »\n",
      "qr_3: |0>─────┤ X ├────────────░──────────────┤ X ├─┤M├──────────────────╫───»\n",
      "              └───┘            ░              └───┘ └╥┘                  ║   »\n",
      " cr_0: 0 ════════════════════════════════════════════╬═══════════════════╬═══»\n",
      "                                                     ║                   ║   »\n",
      " cr_1: 0 ════════════════════════════════════════════╬═══════════════════╬═══»\n",
      "                                                     ║                   ║   »\n",
      " cr_2: 0 ════════════════════════════════════════════╬═══════════════════╩═══»\n",
      "                                                     ║                       »\n",
      " cr_3: 0 ════════════════════════════════════════════╩═══════════════════════»\n",
      "                                                                             »\n",
      "«      ┌───┐┌───┐┌────────────┐┌─┐\n",
      "«qr_0: ┤ H ├┤ H ├┤ Rx(1.5708) ├┤M├\n",
      "«      └┬─┬┘└───┘└────────────┘└╥┘\n",
      "«qr_1: ─┤M├─────────────────────╫─\n",
      "«       └╥┘                     ║ \n",
      "«qr_2: ──╫──────────────────────╫─\n",
      "«        ║                      ║ \n",
      "«qr_3: ──╫──────────────────────╫─\n",
      "«        ║                      ║ \n",
      "«cr_0: ══╬══════════════════════╩═\n",
      "«        ║                        \n",
      "«cr_1: ══╩════════════════════════\n",
      "«                                 \n",
      "«cr_2: ═══════════════════════════\n",
      "«                                 \n",
      "«cr_3: ═══════════════════════════\n",
      "«                                 \n"
     ]
    }
   ],
   "source": [
    "print (rb_purity_circs[0][1][0])"
   ]
  },
  {
   "cell_type": "code",
   "execution_count": 11,
   "metadata": {},
   "outputs": [
    {
     "name": "stdout",
     "output_type": "stream",
     "text": [
      "         ┌───┐┌───┐┌───┐     ┌───┐ ┌───┐   ░  ┌───┐┌───┐              ┌─────┐»\n",
      "qr_0: |0>┤ H ├┤ H ├┤ S ├──■──┤ X ├─┤ Y ├───░──┤ Y ├┤ X ├──────■───────┤ Sdg ├»\n",
      "         ├───┤└───┘└───┘┌─┴─┐└─┬─┘ ├───┤   ░  ├───┤└─┬─┘    ┌─┴─┐     └┬───┬┘»\n",
      "qr_1: |0>┤ H ├──────────┤ X ├──■───┤ Y ├───░──┤ Y ├──■──────┤ X ├──────┤ H ├─»\n",
      "         ├───┤     ┌───┐├───┤  ░  ┌┴───┴┐┌───┐└───┘┌───┐┌───┴───┴────┐ └┬─┬┘ »\n",
      "qr_2: |0>┤ H ├──■──┤ H ├┤ S ├──░──┤ Sdg ├┤ H ├──■──┤ H ├┤ Ry(1.5708) ├──┤M├──»\n",
      "         └───┘┌─┴─┐└───┘└───┘  ░  └─────┘└───┘┌─┴─┐└┬─┬┘└────────────┘  └╥┘  »\n",
      "qr_3: |0>─────┤ X ├────────────░──────────────┤ X ├─┤M├──────────────────╫───»\n",
      "              └───┘            ░              └───┘ └╥┘                  ║   »\n",
      " cr_0: 0 ════════════════════════════════════════════╬═══════════════════╬═══»\n",
      "                                                     ║                   ║   »\n",
      " cr_1: 0 ════════════════════════════════════════════╬═══════════════════╬═══»\n",
      "                                                     ║                   ║   »\n",
      " cr_2: 0 ════════════════════════════════════════════╬═══════════════════╩═══»\n",
      "                                                     ║                       »\n",
      " cr_3: 0 ════════════════════════════════════════════╩═══════════════════════»\n",
      "                                                                             »\n",
      "«      ┌───┐┌───┐┌────────────┐┌─┐\n",
      "«qr_0: ┤ H ├┤ H ├┤ Ry(1.5708) ├┤M├\n",
      "«      └┬─┬┘└───┘└────────────┘└╥┘\n",
      "«qr_1: ─┤M├─────────────────────╫─\n",
      "«       └╥┘                     ║ \n",
      "«qr_2: ──╫──────────────────────╫─\n",
      "«        ║                      ║ \n",
      "«qr_3: ──╫──────────────────────╫─\n",
      "«        ║                      ║ \n",
      "«cr_0: ══╬══════════════════════╩═\n",
      "«        ║                        \n",
      "«cr_1: ══╩════════════════════════\n",
      "«                                 \n",
      "«cr_2: ═══════════════════════════\n",
      "«                                 \n",
      "«cr_3: ═══════════════════════════\n",
      "«                                 \n"
     ]
    }
   ],
   "source": [
    "print (rb_purity_circs[0][2][0])"
   ]
  },
  {
   "cell_type": "code",
   "execution_count": 12,
   "metadata": {},
   "outputs": [
    {
     "name": "stdout",
     "output_type": "stream",
     "text": [
      "         ┌───┐┌───┐┌───┐     ┌───┐ ┌───┐   ░  ┌───┐    ┌───┐                »\n",
      "qr_0: |0>┤ H ├┤ H ├┤ S ├──■──┤ X ├─┤ Y ├───░──┤ Y ├────┤ X ├─────────────■──»\n",
      "         ├───┤└───┘└───┘┌─┴─┐└─┬─┘ ├───┤   ░  ├───┤    └─┬─┘           ┌─┴─┐»\n",
      "qr_1: |0>┤ H ├──────────┤ X ├──■───┤ Y ├───░──┤ Y ├──────■─────────────┤ X ├»\n",
      "         ├───┤     ┌───┐├───┤  ░  ┌┴───┴┐┌───┐└───┘    ┌───┐     ┌─┐   └───┘»\n",
      "qr_2: |0>┤ H ├──■──┤ H ├┤ S ├──░──┤ Sdg ├┤ H ├──■──────┤ H ├─────┤M├────────»\n",
      "         └───┘┌─┴─┐└───┘└───┘  ░  └─────┘└───┘┌─┴─┐┌───┴───┴────┐└╥┘┌─┐     »\n",
      "qr_3: |0>─────┤ X ├────────────░──────────────┤ X ├┤ Rx(1.5708) ├─╫─┤M├─────»\n",
      "              └───┘            ░              └───┘└────────────┘ ║ └╥┘     »\n",
      " cr_0: 0 ═════════════════════════════════════════════════════════╬══╬══════»\n",
      "                                                                  ║  ║      »\n",
      " cr_1: 0 ═════════════════════════════════════════════════════════╬══╬══════»\n",
      "                                                                  ║  ║      »\n",
      " cr_2: 0 ═════════════════════════════════════════════════════════╩══╬══════»\n",
      "                                                                     ║      »\n",
      " cr_3: 0 ════════════════════════════════════════════════════════════╩══════»\n",
      "                                                                            »\n",
      "«      ┌─────┐    ┌───┐     ┌───┐┌─┐\n",
      "«qr_0: ┤ Sdg ├────┤ H ├─────┤ H ├┤M├\n",
      "«      └┬───┬┘┌───┴───┴────┐└┬─┬┘└╥┘\n",
      "«qr_1: ─┤ H ├─┤ Rx(1.5708) ├─┤M├──╫─\n",
      "«       └───┘ └────────────┘ └╥┘  ║ \n",
      "«qr_2: ───────────────────────╫───╫─\n",
      "«                             ║   ║ \n",
      "«qr_3: ───────────────────────╫───╫─\n",
      "«                             ║   ║ \n",
      "«cr_0: ═══════════════════════╬═══╩═\n",
      "«                             ║     \n",
      "«cr_1: ═══════════════════════╩═════\n",
      "«                                   \n",
      "«cr_2: ═════════════════════════════\n",
      "«                                   \n",
      "«cr_3: ═════════════════════════════\n",
      "«                                   \n"
     ]
    }
   ],
   "source": [
    "print (rb_purity_circs[0][3][0])"
   ]
  },
  {
   "cell_type": "code",
   "execution_count": 13,
   "metadata": {},
   "outputs": [
    {
     "name": "stdout",
     "output_type": "stream",
     "text": [
      "         ┌───┐┌───┐┌───┐     ┌───┐ ┌───┐   ░  ┌───┐    ┌───┐                   »\n",
      "qr_0: |0>┤ H ├┤ H ├┤ S ├──■──┤ X ├─┤ Y ├───░──┤ Y ├────┤ X ├───────────■───────»\n",
      "         ├───┤└───┘└───┘┌─┴─┐└─┬─┘ ├───┤   ░  ├───┤    └─┬─┘         ┌─┴─┐     »\n",
      "qr_1: |0>┤ H ├──────────┤ X ├──■───┤ Y ├───░──┤ Y ├──────■───────────┤ X ├─────»\n",
      "         ├───┤     ┌───┐├───┤  ░  ┌┴───┴┐┌───┐└───┘    ┌───┐     ┌───┴───┴────┐»\n",
      "qr_2: |0>┤ H ├──■──┤ H ├┤ S ├──░──┤ Sdg ├┤ H ├──■──────┤ H ├─────┤ Rx(1.5708) ├»\n",
      "         └───┘┌─┴─┐└───┘└───┘  ░  └─────┘└───┘┌─┴─┐┌───┴───┴────┐└────┬─┬─────┘»\n",
      "qr_3: |0>─────┤ X ├────────────░──────────────┤ X ├┤ Rx(1.5708) ├─────┤M├──────»\n",
      "              └───┘            ░              └───┘└────────────┘     └╥┘      »\n",
      " cr_0: 0 ══════════════════════════════════════════════════════════════╬═══════»\n",
      "                                                                       ║       »\n",
      " cr_1: 0 ══════════════════════════════════════════════════════════════╬═══════»\n",
      "                                                                       ║       »\n",
      " cr_2: 0 ══════════════════════════════════════════════════════════════╬═══════»\n",
      "                                                                       ║       »\n",
      " cr_3: 0 ══════════════════════════════════════════════════════════════╩═══════»\n",
      "                                                                               »\n",
      "«      ┌─────┐    ┌───┐     ┌───┐┌────────────┐┌─┐\n",
      "«qr_0: ┤ Sdg ├────┤ H ├─────┤ H ├┤ Rx(1.5708) ├┤M├\n",
      "«      └┬───┬┘┌───┴───┴────┐└┬─┬┘└────────────┘└╥┘\n",
      "«qr_1: ─┤ H ├─┤ Rx(1.5708) ├─┤M├────────────────╫─\n",
      "«       └┬─┬┘ └────────────┘ └╥┘                ║ \n",
      "«qr_2: ──┤M├──────────────────╫─────────────────╫─\n",
      "«        └╥┘                  ║                 ║ \n",
      "«qr_3: ───╫───────────────────╫─────────────────╫─\n",
      "«         ║                   ║                 ║ \n",
      "«cr_0: ═══╬═══════════════════╬═════════════════╩═\n",
      "«         ║                   ║                   \n",
      "«cr_1: ═══╬═══════════════════╩═══════════════════\n",
      "«         ║                                       \n",
      "«cr_2: ═══╩═══════════════════════════════════════\n",
      "«                                                 \n",
      "«cr_3: ═══════════════════════════════════════════\n",
      "«                                                 \n"
     ]
    }
   ],
   "source": [
    "print (rb_purity_circs[0][4][0])"
   ]
  },
  {
   "cell_type": "code",
   "execution_count": 14,
   "metadata": {},
   "outputs": [
    {
     "name": "stdout",
     "output_type": "stream",
     "text": [
      "         ┌───┐┌───┐┌───┐     ┌───┐ ┌───┐   ░  ┌───┐    ┌───┐                   »\n",
      "qr_0: |0>┤ H ├┤ H ├┤ S ├──■──┤ X ├─┤ Y ├───░──┤ Y ├────┤ X ├───────────■───────»\n",
      "         ├───┤└───┘└───┘┌─┴─┐└─┬─┘ ├───┤   ░  ├───┤    └─┬─┘         ┌─┴─┐     »\n",
      "qr_1: |0>┤ H ├──────────┤ X ├──■───┤ Y ├───░──┤ Y ├──────■───────────┤ X ├─────»\n",
      "         ├───┤     ┌───┐├───┤  ░  ┌┴───┴┐┌───┐└───┘    ┌───┐     ┌───┴───┴────┐»\n",
      "qr_2: |0>┤ H ├──■──┤ H ├┤ S ├──░──┤ Sdg ├┤ H ├──■──────┤ H ├─────┤ Ry(1.5708) ├»\n",
      "         └───┘┌─┴─┐└───┘└───┘  ░  └─────┘└───┘┌─┴─┐┌───┴───┴────┐└────┬─┬─────┘»\n",
      "qr_3: |0>─────┤ X ├────────────░──────────────┤ X ├┤ Rx(1.5708) ├─────┤M├──────»\n",
      "              └───┘            ░              └───┘└────────────┘     └╥┘      »\n",
      " cr_0: 0 ══════════════════════════════════════════════════════════════╬═══════»\n",
      "                                                                       ║       »\n",
      " cr_1: 0 ══════════════════════════════════════════════════════════════╬═══════»\n",
      "                                                                       ║       »\n",
      " cr_2: 0 ══════════════════════════════════════════════════════════════╬═══════»\n",
      "                                                                       ║       »\n",
      " cr_3: 0 ══════════════════════════════════════════════════════════════╩═══════»\n",
      "                                                                               »\n",
      "«      ┌─────┐    ┌───┐     ┌───┐┌────────────┐┌─┐\n",
      "«qr_0: ┤ Sdg ├────┤ H ├─────┤ H ├┤ Ry(1.5708) ├┤M├\n",
      "«      └┬───┬┘┌───┴───┴────┐└┬─┬┘└────────────┘└╥┘\n",
      "«qr_1: ─┤ H ├─┤ Rx(1.5708) ├─┤M├────────────────╫─\n",
      "«       └┬─┬┘ └────────────┘ └╥┘                ║ \n",
      "«qr_2: ──┤M├──────────────────╫─────────────────╫─\n",
      "«        └╥┘                  ║                 ║ \n",
      "«qr_3: ───╫───────────────────╫─────────────────╫─\n",
      "«         ║                   ║                 ║ \n",
      "«cr_0: ═══╬═══════════════════╬═════════════════╩═\n",
      "«         ║                   ║                   \n",
      "«cr_1: ═══╬═══════════════════╩═══════════════════\n",
      "«         ║                                       \n",
      "«cr_2: ═══╩═══════════════════════════════════════\n",
      "«                                                 \n",
      "«cr_3: ═══════════════════════════════════════════\n",
      "«                                                 \n"
     ]
    }
   ],
   "source": [
    "print (rb_purity_circs[0][5][0])"
   ]
  },
  {
   "cell_type": "code",
   "execution_count": 15,
   "metadata": {},
   "outputs": [
    {
     "name": "stdout",
     "output_type": "stream",
     "text": [
      "         ┌───┐┌───┐┌───┐     ┌───┐ ┌───┐   ░  ┌───┐    ┌───┐                »\n",
      "qr_0: |0>┤ H ├┤ H ├┤ S ├──■──┤ X ├─┤ Y ├───░──┤ Y ├────┤ X ├─────────────■──»\n",
      "         ├───┤└───┘└───┘┌─┴─┐└─┬─┘ ├───┤   ░  ├───┤    └─┬─┘           ┌─┴─┐»\n",
      "qr_1: |0>┤ H ├──────────┤ X ├──■───┤ Y ├───░──┤ Y ├──────■─────────────┤ X ├»\n",
      "         ├───┤     ┌───┐├───┤  ░  ┌┴───┴┐┌───┐└───┘    ┌───┐     ┌─┐   └───┘»\n",
      "qr_2: |0>┤ H ├──■──┤ H ├┤ S ├──░──┤ Sdg ├┤ H ├──■──────┤ H ├─────┤M├────────»\n",
      "         └───┘┌─┴─┐└───┘└───┘  ░  └─────┘└───┘┌─┴─┐┌───┴───┴────┐└╥┘┌─┐     »\n",
      "qr_3: |0>─────┤ X ├────────────░──────────────┤ X ├┤ Ry(1.5708) ├─╫─┤M├─────»\n",
      "              └───┘            ░              └───┘└────────────┘ ║ └╥┘     »\n",
      " cr_0: 0 ═════════════════════════════════════════════════════════╬══╬══════»\n",
      "                                                                  ║  ║      »\n",
      " cr_1: 0 ═════════════════════════════════════════════════════════╬══╬══════»\n",
      "                                                                  ║  ║      »\n",
      " cr_2: 0 ═════════════════════════════════════════════════════════╩══╬══════»\n",
      "                                                                     ║      »\n",
      " cr_3: 0 ════════════════════════════════════════════════════════════╩══════»\n",
      "                                                                            »\n",
      "«      ┌─────┐    ┌───┐     ┌───┐┌─┐\n",
      "«qr_0: ┤ Sdg ├────┤ H ├─────┤ H ├┤M├\n",
      "«      └┬───┬┘┌───┴───┴────┐└┬─┬┘└╥┘\n",
      "«qr_1: ─┤ H ├─┤ Ry(1.5708) ├─┤M├──╫─\n",
      "«       └───┘ └────────────┘ └╥┘  ║ \n",
      "«qr_2: ───────────────────────╫───╫─\n",
      "«                             ║   ║ \n",
      "«qr_3: ───────────────────────╫───╫─\n",
      "«                             ║   ║ \n",
      "«cr_0: ═══════════════════════╬═══╩═\n",
      "«                             ║     \n",
      "«cr_1: ═══════════════════════╩═════\n",
      "«                                   \n",
      "«cr_2: ═════════════════════════════\n",
      "«                                   \n",
      "«cr_3: ═════════════════════════════\n",
      "«                                   \n"
     ]
    }
   ],
   "source": [
    "print (rb_purity_circs[0][6][0])"
   ]
  },
  {
   "cell_type": "code",
   "execution_count": 16,
   "metadata": {},
   "outputs": [
    {
     "name": "stdout",
     "output_type": "stream",
     "text": [
      "         ┌───┐┌───┐┌───┐     ┌───┐ ┌───┐   ░  ┌───┐    ┌───┐                   »\n",
      "qr_0: |0>┤ H ├┤ H ├┤ S ├──■──┤ X ├─┤ Y ├───░──┤ Y ├────┤ X ├───────────■───────»\n",
      "         ├───┤└───┘└───┘┌─┴─┐└─┬─┘ ├───┤   ░  ├───┤    └─┬─┘         ┌─┴─┐     »\n",
      "qr_1: |0>┤ H ├──────────┤ X ├──■───┤ Y ├───░──┤ Y ├──────■───────────┤ X ├─────»\n",
      "         ├───┤     ┌───┐├───┤  ░  ┌┴───┴┐┌───┐└───┘    ┌───┐     ┌───┴───┴────┐»\n",
      "qr_2: |0>┤ H ├──■──┤ H ├┤ S ├──░──┤ Sdg ├┤ H ├──■──────┤ H ├─────┤ Rx(1.5708) ├»\n",
      "         └───┘┌─┴─┐└───┘└───┘  ░  └─────┘└───┘┌─┴─┐┌───┴───┴────┐└────┬─┬─────┘»\n",
      "qr_3: |0>─────┤ X ├────────────░──────────────┤ X ├┤ Ry(1.5708) ├─────┤M├──────»\n",
      "              └───┘            ░              └───┘└────────────┘     └╥┘      »\n",
      " cr_0: 0 ══════════════════════════════════════════════════════════════╬═══════»\n",
      "                                                                       ║       »\n",
      " cr_1: 0 ══════════════════════════════════════════════════════════════╬═══════»\n",
      "                                                                       ║       »\n",
      " cr_2: 0 ══════════════════════════════════════════════════════════════╬═══════»\n",
      "                                                                       ║       »\n",
      " cr_3: 0 ══════════════════════════════════════════════════════════════╩═══════»\n",
      "                                                                               »\n",
      "«      ┌─────┐    ┌───┐     ┌───┐┌────────────┐┌─┐\n",
      "«qr_0: ┤ Sdg ├────┤ H ├─────┤ H ├┤ Rx(1.5708) ├┤M├\n",
      "«      └┬───┬┘┌───┴───┴────┐└┬─┬┘└────────────┘└╥┘\n",
      "«qr_1: ─┤ H ├─┤ Ry(1.5708) ├─┤M├────────────────╫─\n",
      "«       └┬─┬┘ └────────────┘ └╥┘                ║ \n",
      "«qr_2: ──┤M├──────────────────╫─────────────────╫─\n",
      "«        └╥┘                  ║                 ║ \n",
      "«qr_3: ───╫───────────────────╫─────────────────╫─\n",
      "«         ║                   ║                 ║ \n",
      "«cr_0: ═══╬═══════════════════╬═════════════════╩═\n",
      "«         ║                   ║                   \n",
      "«cr_1: ═══╬═══════════════════╩═══════════════════\n",
      "«         ║                                       \n",
      "«cr_2: ═══╩═══════════════════════════════════════\n",
      "«                                                 \n",
      "«cr_3: ═══════════════════════════════════════════\n",
      "«                                                 \n"
     ]
    }
   ],
   "source": [
    "print (rb_purity_circs[0][7][0])"
   ]
  },
  {
   "cell_type": "code",
   "execution_count": 17,
   "metadata": {},
   "outputs": [
    {
     "name": "stdout",
     "output_type": "stream",
     "text": [
      "         ┌───┐┌───┐┌───┐     ┌───┐ ┌───┐   ░  ┌───┐    ┌───┐                   »\n",
      "qr_0: |0>┤ H ├┤ H ├┤ S ├──■──┤ X ├─┤ Y ├───░──┤ Y ├────┤ X ├───────────■───────»\n",
      "         ├───┤└───┘└───┘┌─┴─┐└─┬─┘ ├───┤   ░  ├───┤    └─┬─┘         ┌─┴─┐     »\n",
      "qr_1: |0>┤ H ├──────────┤ X ├──■───┤ Y ├───░──┤ Y ├──────■───────────┤ X ├─────»\n",
      "         ├───┤     ┌───┐├───┤  ░  ┌┴───┴┐┌───┐└───┘    ┌───┐     ┌───┴───┴────┐»\n",
      "qr_2: |0>┤ H ├──■──┤ H ├┤ S ├──░──┤ Sdg ├┤ H ├──■──────┤ H ├─────┤ Ry(1.5708) ├»\n",
      "         └───┘┌─┴─┐└───┘└───┘  ░  └─────┘└───┘┌─┴─┐┌───┴───┴────┐└────┬─┬─────┘»\n",
      "qr_3: |0>─────┤ X ├────────────░──────────────┤ X ├┤ Ry(1.5708) ├─────┤M├──────»\n",
      "              └───┘            ░              └───┘└────────────┘     └╥┘      »\n",
      " cr_0: 0 ══════════════════════════════════════════════════════════════╬═══════»\n",
      "                                                                       ║       »\n",
      " cr_1: 0 ══════════════════════════════════════════════════════════════╬═══════»\n",
      "                                                                       ║       »\n",
      " cr_2: 0 ══════════════════════════════════════════════════════════════╬═══════»\n",
      "                                                                       ║       »\n",
      " cr_3: 0 ══════════════════════════════════════════════════════════════╩═══════»\n",
      "                                                                               »\n",
      "«      ┌─────┐    ┌───┐     ┌───┐┌────────────┐┌─┐\n",
      "«qr_0: ┤ Sdg ├────┤ H ├─────┤ H ├┤ Ry(1.5708) ├┤M├\n",
      "«      └┬───┬┘┌───┴───┴────┐└┬─┬┘└────────────┘└╥┘\n",
      "«qr_1: ─┤ H ├─┤ Ry(1.5708) ├─┤M├────────────────╫─\n",
      "«       └┬─┬┘ └────────────┘ └╥┘                ║ \n",
      "«qr_2: ──┤M├──────────────────╫─────────────────╫─\n",
      "«        └╥┘                  ║                 ║ \n",
      "«qr_3: ───╫───────────────────╫─────────────────╫─\n",
      "«         ║                   ║                 ║ \n",
      "«cr_0: ═══╬═══════════════════╬═════════════════╩═\n",
      "«         ║                   ║                   \n",
      "«cr_1: ═══╬═══════════════════╩═══════════════════\n",
      "«         ║                                       \n",
      "«cr_2: ═══╩═══════════════════════════════════════\n",
      "«                                                 \n",
      "«cr_3: ═══════════════════════════════════════════\n",
      "«                                                 \n"
     ]
    }
   ],
   "source": [
    "print (rb_purity_circs[0][8][0])"
   ]
  },
  {
   "cell_type": "code",
   "execution_count": 18,
   "metadata": {},
   "outputs": [
    {
     "name": "stdout",
     "output_type": "stream",
     "text": [
      "0 0 10\n",
      "0 1 10\n",
      "0 2 10\n",
      "0 3 10\n",
      "0 4 10\n",
      "0 5 10\n",
      "0 6 10\n",
      "0 7 10\n",
      "0 8 10\n",
      "1 0 10\n",
      "1 1 10\n",
      "1 2 10\n",
      "1 3 10\n",
      "1 4 10\n",
      "1 5 10\n",
      "1 6 10\n",
      "1 7 10\n",
      "1 8 10\n",
      "2 0 10\n",
      "2 1 10\n",
      "2 2 10\n",
      "2 3 10\n",
      "2 4 10\n",
      "2 5 10\n",
      "2 6 10\n",
      "2 7 10\n",
      "2 8 10\n",
      "3 0 10\n",
      "3 1 10\n",
      "3 2 10\n",
      "3 3 10\n",
      "3 4 10\n",
      "3 5 10\n",
      "3 6 10\n",
      "3 7 10\n",
      "3 8 10\n",
      "4 0 10\n",
      "4 1 10\n",
      "4 2 10\n",
      "4 3 10\n",
      "4 4 10\n",
      "4 5 10\n",
      "4 6 10\n",
      "4 7 10\n",
      "4 8 10\n",
      "Finished Simulating Purity RB Circuits\n"
     ]
    }
   ],
   "source": [
    "#Purity RB circuits - generation using execute\n",
    "backend = qiskit.Aer.get_backend('qasm_simulator')\n",
    "basis_gates = ['u1','u2','u3','cx'] # use U,CX for now\n",
    "shots = 200\n",
    "purity_result_list = []\n",
    "purity_qobj_list = []\n",
    "import time\n",
    "for rb_seed,rb_circ_seed in enumerate(rb_purity_circs):\n",
    "    for d in range(npurity):\n",
    "        print (rb_seed, d, len(rb_circ_seed[d]))\n",
    "        job = qiskit.execute(rb_circ_seed[rb_seed][d], backend=backend,\n",
    "         basis_gates=['u1','u2','u3','cx'])\n",
    "        purity_result_list.append(job.result())\n",
    "print(\"Finished Simulating Purity RB Circuits\")"
   ]
  },
  {
   "cell_type": "code",
   "execution_count": 19,
   "metadata": {},
   "outputs": [
    {
     "name": "stdout",
     "output_type": "stream",
     "text": [
      "Compiling seed 0 purity 0\n",
      "Simulating seed 0 purity 0\n",
      "Compiling seed 0 purity 1\n",
      "Simulating seed 0 purity 1\n",
      "Compiling seed 0 purity 2\n",
      "Simulating seed 0 purity 2\n",
      "Compiling seed 0 purity 3\n",
      "Simulating seed 0 purity 3\n",
      "Compiling seed 0 purity 4\n",
      "Simulating seed 0 purity 4\n",
      "Compiling seed 0 purity 5\n",
      "Simulating seed 0 purity 5\n",
      "Compiling seed 0 purity 6\n",
      "Simulating seed 0 purity 6\n",
      "Compiling seed 0 purity 7\n",
      "Simulating seed 0 purity 7\n",
      "Compiling seed 0 purity 8\n",
      "Simulating seed 0 purity 8\n",
      "Compiling seed 1 purity 0\n",
      "Simulating seed 1 purity 0\n",
      "Compiling seed 1 purity 1\n",
      "Simulating seed 1 purity 1\n",
      "Compiling seed 1 purity 2\n",
      "Simulating seed 1 purity 2\n",
      "Compiling seed 1 purity 3\n",
      "Simulating seed 1 purity 3\n",
      "Compiling seed 1 purity 4\n",
      "Simulating seed 1 purity 4\n",
      "Compiling seed 1 purity 5\n",
      "Simulating seed 1 purity 5\n",
      "Compiling seed 1 purity 6\n",
      "Simulating seed 1 purity 6\n",
      "Compiling seed 1 purity 7\n",
      "Simulating seed 1 purity 7\n",
      "Compiling seed 1 purity 8\n",
      "Simulating seed 1 purity 8\n",
      "Compiling seed 2 purity 0\n",
      "Simulating seed 2 purity 0\n",
      "Compiling seed 2 purity 1\n",
      "Simulating seed 2 purity 1\n",
      "Compiling seed 2 purity 2\n",
      "Simulating seed 2 purity 2\n",
      "Compiling seed 2 purity 3\n",
      "Simulating seed 2 purity 3\n",
      "Compiling seed 2 purity 4\n",
      "Simulating seed 2 purity 4\n",
      "Compiling seed 2 purity 5\n",
      "Simulating seed 2 purity 5\n",
      "Compiling seed 2 purity 6\n",
      "Simulating seed 2 purity 6\n",
      "Compiling seed 2 purity 7\n",
      "Simulating seed 2 purity 7\n",
      "Compiling seed 2 purity 8\n",
      "Simulating seed 2 purity 8\n",
      "Compiling seed 3 purity 0\n",
      "Simulating seed 3 purity 0\n",
      "Compiling seed 3 purity 1\n",
      "Simulating seed 3 purity 1\n",
      "Compiling seed 3 purity 2\n",
      "Simulating seed 3 purity 2\n",
      "Compiling seed 3 purity 3\n",
      "Simulating seed 3 purity 3\n",
      "Compiling seed 3 purity 4\n",
      "Simulating seed 3 purity 4\n",
      "Compiling seed 3 purity 5\n",
      "Simulating seed 3 purity 5\n",
      "Compiling seed 3 purity 6\n",
      "Simulating seed 3 purity 6\n",
      "Compiling seed 3 purity 7\n",
      "Simulating seed 3 purity 7\n",
      "Compiling seed 3 purity 8\n",
      "Simulating seed 3 purity 8\n",
      "Compiling seed 4 purity 0\n",
      "Simulating seed 4 purity 0\n",
      "Compiling seed 4 purity 1\n",
      "Simulating seed 4 purity 1\n",
      "Compiling seed 4 purity 2\n",
      "Simulating seed 4 purity 2\n",
      "Compiling seed 4 purity 3\n",
      "Simulating seed 4 purity 3\n",
      "Compiling seed 4 purity 4\n",
      "Simulating seed 4 purity 4\n",
      "Compiling seed 4 purity 5\n",
      "Simulating seed 4 purity 5\n",
      "Compiling seed 4 purity 6\n",
      "Simulating seed 4 purity 6\n",
      "Compiling seed 4 purity 7\n",
      "Simulating seed 4 purity 7\n",
      "Compiling seed 4 purity 8\n",
      "Simulating seed 4 purity 8\n",
      "Finished Simulating Purity RB Circuits\n"
     ]
    }
   ],
   "source": [
    "#Purity RB circuits - generation using compile and run\n",
    "backend = qiskit.Aer.get_backend('qasm_simulator')\n",
    "basis_gates = ['u1','u2','u3','cx'] # use U,CX for now\n",
    "shots = 200\n",
    "purity_result_list = []\n",
    "purity_qobj_list = []\n",
    "import time\n",
    "for rb_seed,rb_circ_seed in enumerate(rb_purity_circs):\n",
    "    for d in range(npurity):\n",
    "        print('Compiling seed %d purity %d'%(rb_seed, d))\n",
    "        new_rb_circ_seed = qiskit.compiler.transpile(rb_circ_seed[rb_seed][d], basis_gates=basis_gates)\n",
    "        qobj = qiskit.compiler.assemble(new_rb_circ_seed, shots=shots)\n",
    "        print('Simulating seed %d purity %d'%(rb_seed, d))\n",
    "        job = backend.run(qobj)\n",
    "        purity_result_list.append(job.result())\n",
    "        purity_qobj_list.append(qobj)    \n",
    "print(\"Finished Simulating Purity RB Circuits\")"
   ]
  },
  {
   "cell_type": "code",
   "execution_count": 20,
   "metadata": {},
   "outputs": [
    {
     "name": "stdout",
     "output_type": "stream",
     "text": [
      "45\n",
      "Result(backend_name='qasm_simulator', backend_version='0.1.1', date=datetime.datetime(2019, 6, 12, 16, 47, 27, 378914), job_id='e2f08eca-e6fe-4c76-967e-a6b497960224', metadata={'omp_available_threads': 4, 'omp_circuit_threads': 1, 'omp_enabled': True, 'time_taken': 0.0010771090000000001}, qobj_id='371c3eef-dd14-4478-8bc5-6104a2b8dfc6', results=[ExperimentResult(data=ExperimentResultData(counts=Obj(0x0=200)), header=Obj(clbit_labels=[['cr', 0], ['cr', 1], ['cr', 2], ['cr', 3]], creg_sizes=[['cr', 4]], memory_slots=4, n_qubits=4, name='rb_purity_ZZ_length_0_seed_0', qreg_sizes=[['qr', 4]], qubit_labels=[['qr', 0], ['qr', 1], ['qr', 2], ['qr', 3]]), meas_level=2, metadata={'method': 'statevector', 'omp_shot_threads': 1, 'omp_state_threads': 4}, seed=917314053, shots=200, status='DONE', success=True, time_taken=0.000898131)], status='COMPLETED', success=True, time_taken=0.005528926849365234)\n"
     ]
    }
   ],
   "source": [
    "# Example of one of the results\n",
    "print (len(purity_result_list))\n",
    "print (purity_result_list[0])"
   ]
  },
  {
   "cell_type": "code",
   "execution_count": null,
   "metadata": {},
   "outputs": [],
   "source": []
  }
 ],
 "metadata": {
  "kernelspec": {
   "display_name": "Python 3",
   "language": "python",
   "name": "python3"
  },
  "language_info": {
   "codemirror_mode": {
    "name": "ipython",
    "version": 3
   },
   "file_extension": ".py",
   "mimetype": "text/x-python",
   "name": "python",
   "nbconvert_exporter": "python",
   "pygments_lexer": "ipython3",
   "version": "3.6.8"
  }
 },
 "nbformat": 4,
 "nbformat_minor": 2
}
