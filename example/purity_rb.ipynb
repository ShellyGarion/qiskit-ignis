{
 "cells": [
  {
   "cell_type": "markdown",
   "metadata": {},
   "source": [
    "<img src=\"../../images/qiskit-heading.gif\" alt=\"Note: In order for images to show up in this jupyter notebook you need to select File => Trusted Notebook\" width=\"500 px\\\" align=\"left\">"
   ]
  },
  {
   "cell_type": "markdown",
   "metadata": {},
   "source": [
    "# Purity Randomized Benchmarking"
   ]
  },
  {
   "cell_type": "code",
   "execution_count": 1,
   "metadata": {},
   "outputs": [],
   "source": [
    "#Import general libraries (needed for functions)\n",
    "import numpy as np\n",
    "import matplotlib.pyplot as plt\n",
    "from IPython import display\n",
    "\n",
    "import qiskit.ignis.verification.randomized_benchmarking as rb\n",
    "\n",
    "#Import Qiskit classes classes\n",
    "import qiskit\n",
    "from qiskit.providers.aer.noise import NoiseModel\n",
    "from qiskit.providers.aer.noise.errors.standard_errors import depolarizing_error, thermal_relaxation_error\n"
   ]
  },
  {
   "cell_type": "code",
   "execution_count": 2,
   "metadata": {},
   "outputs": [
    {
     "name": "stdout",
     "output_type": "stream",
     "text": [
      "5\n"
     ]
    }
   ],
   "source": [
    "# Example of 1-qubit Purity RB\n",
    "#Number of qubits\n",
    "nQ = 3\n",
    "#There are 3 qubits: Q0,Q1,Q2.\n",
    "#Number of seeds (random sequences)\n",
    "nseeds = 5\n",
    "#Number of Cliffords in the sequence (start, stop, steps)\n",
    "nCliffs = np.arange(1,20,4)\n",
    "print (len(nCliffs))\n",
    "#2Q RB on Q0,Q2 and 1Q RB on Q1\n",
    "rb_pattern = [[0],[1],[2]]"
   ]
  },
  {
   "cell_type": "code",
   "execution_count": 3,
   "metadata": {},
   "outputs": [
    {
     "name": "stdout",
     "output_type": "stream",
     "text": [
      "3\n"
     ]
    }
   ],
   "source": [
    "rb_opts = {}\n",
    "rb_opts['length_vector'] = nCliffs\n",
    "rb_opts['nseeds'] = nseeds\n",
    "rb_opts['rb_pattern'] = rb_pattern\n",
    "rb_opts['is_purity'] = True\n",
    "rb_purity_circs, xdata, npurity = rb.randomized_benchmarking_seq(**rb_opts)\n",
    "print (npurity)"
   ]
  },
  {
   "cell_type": "code",
   "execution_count": 4,
   "metadata": {},
   "outputs": [
    {
     "name": "stdout",
     "output_type": "stream",
     "text": [
      "0 0 0 rb_purity_Z_length_0_seed_0\n",
      "0 0 1 rb_purity_Z_length_1_seed_0\n",
      "0 0 2 rb_purity_Z_length_2_seed_0\n",
      "0 0 3 rb_purity_Z_length_3_seed_0\n",
      "0 0 4 rb_purity_Z_length_4_seed_0\n",
      "0 1 0 rb_purity_X_length_0_seed_0\n",
      "0 1 1 rb_purity_X_length_1_seed_0\n",
      "0 1 2 rb_purity_X_length_2_seed_0\n",
      "0 1 3 rb_purity_X_length_3_seed_0\n",
      "0 1 4 rb_purity_X_length_4_seed_0\n",
      "0 2 0 rb_purity_Y_length_0_seed_0\n",
      "0 2 1 rb_purity_Y_length_1_seed_0\n",
      "0 2 2 rb_purity_Y_length_2_seed_0\n",
      "0 2 3 rb_purity_Y_length_3_seed_0\n",
      "0 2 4 rb_purity_Y_length_4_seed_0\n",
      "1 0 0 rb_purity_Z_length_0_seed_1\n",
      "1 0 1 rb_purity_Z_length_1_seed_1\n",
      "1 0 2 rb_purity_Z_length_2_seed_1\n",
      "1 0 3 rb_purity_Z_length_3_seed_1\n",
      "1 0 4 rb_purity_Z_length_4_seed_1\n",
      "1 1 0 rb_purity_X_length_0_seed_1\n",
      "1 1 1 rb_purity_X_length_1_seed_1\n",
      "1 1 2 rb_purity_X_length_2_seed_1\n",
      "1 1 3 rb_purity_X_length_3_seed_1\n",
      "1 1 4 rb_purity_X_length_4_seed_1\n",
      "1 2 0 rb_purity_Y_length_0_seed_1\n",
      "1 2 1 rb_purity_Y_length_1_seed_1\n",
      "1 2 2 rb_purity_Y_length_2_seed_1\n",
      "1 2 3 rb_purity_Y_length_3_seed_1\n",
      "1 2 4 rb_purity_Y_length_4_seed_1\n",
      "2 0 0 rb_purity_Z_length_0_seed_2\n",
      "2 0 1 rb_purity_Z_length_1_seed_2\n",
      "2 0 2 rb_purity_Z_length_2_seed_2\n",
      "2 0 3 rb_purity_Z_length_3_seed_2\n",
      "2 0 4 rb_purity_Z_length_4_seed_2\n",
      "2 1 0 rb_purity_X_length_0_seed_2\n",
      "2 1 1 rb_purity_X_length_1_seed_2\n",
      "2 1 2 rb_purity_X_length_2_seed_2\n",
      "2 1 3 rb_purity_X_length_3_seed_2\n",
      "2 1 4 rb_purity_X_length_4_seed_2\n",
      "2 2 0 rb_purity_Y_length_0_seed_2\n",
      "2 2 1 rb_purity_Y_length_1_seed_2\n",
      "2 2 2 rb_purity_Y_length_2_seed_2\n",
      "2 2 3 rb_purity_Y_length_3_seed_2\n",
      "2 2 4 rb_purity_Y_length_4_seed_2\n",
      "3 0 0 rb_purity_Z_length_0_seed_3\n",
      "3 0 1 rb_purity_Z_length_1_seed_3\n",
      "3 0 2 rb_purity_Z_length_2_seed_3\n",
      "3 0 3 rb_purity_Z_length_3_seed_3\n",
      "3 0 4 rb_purity_Z_length_4_seed_3\n",
      "3 1 0 rb_purity_X_length_0_seed_3\n",
      "3 1 1 rb_purity_X_length_1_seed_3\n",
      "3 1 2 rb_purity_X_length_2_seed_3\n",
      "3 1 3 rb_purity_X_length_3_seed_3\n",
      "3 1 4 rb_purity_X_length_4_seed_3\n",
      "3 2 0 rb_purity_Y_length_0_seed_3\n",
      "3 2 1 rb_purity_Y_length_1_seed_3\n",
      "3 2 2 rb_purity_Y_length_2_seed_3\n",
      "3 2 3 rb_purity_Y_length_3_seed_3\n",
      "3 2 4 rb_purity_Y_length_4_seed_3\n",
      "4 0 0 rb_purity_Z_length_0_seed_4\n",
      "4 0 1 rb_purity_Z_length_1_seed_4\n",
      "4 0 2 rb_purity_Z_length_2_seed_4\n",
      "4 0 3 rb_purity_Z_length_3_seed_4\n",
      "4 0 4 rb_purity_Z_length_4_seed_4\n",
      "4 1 0 rb_purity_X_length_0_seed_4\n",
      "4 1 1 rb_purity_X_length_1_seed_4\n",
      "4 1 2 rb_purity_X_length_2_seed_4\n",
      "4 1 3 rb_purity_X_length_3_seed_4\n",
      "4 1 4 rb_purity_X_length_4_seed_4\n",
      "4 2 0 rb_purity_Y_length_0_seed_4\n",
      "4 2 1 rb_purity_Y_length_1_seed_4\n",
      "4 2 2 rb_purity_Y_length_2_seed_4\n",
      "4 2 3 rb_purity_Y_length_3_seed_4\n",
      "4 2 4 rb_purity_Y_length_4_seed_4\n"
     ]
    }
   ],
   "source": [
    "for i in range(len(rb_purity_circs)):\n",
    "    for j in range(len(rb_purity_circs[i])):\n",
    "        for k in range(len(rb_purity_circs[i][j])):\n",
    "            print (i,j,k, rb_purity_circs[i][j][k].name)"
   ]
  },
  {
   "cell_type": "code",
   "execution_count": 5,
   "metadata": {},
   "outputs": [
    {
     "name": "stdout",
     "output_type": "stream",
     "text": [
      "           ░  ┌─┐                                                \n",
      "qr_0: |0>──░──┤M├────────────────────────────────────────────────\n",
      "         ┌───┐└╥┘┌───┐  ░  ┌───┐┌───┐┌─┐                         \n",
      "qr_1: |0>┤ H ├─╫─┤ X ├──░──┤ X ├┤ H ├┤M├─────────────────────────\n",
      "         ├───┤ ║ ├───┤┌───┐├───┤└─░─┘└╥┘┌───┐┌─────┐┌───┐┌───┐┌─┐\n",
      "qr_2: |0>┤ H ├─╫─┤ H ├┤ S ├┤ Y ├──░───╫─┤ Y ├┤ Sdg ├┤ H ├┤ H ├┤M├\n",
      "         └───┘ ║ └───┘└───┘└───┘  ░   ║ └───┘└─────┘└───┘└───┘└╥┘\n",
      " cr_0: 0 ══════╩══════════════════════╬════════════════════════╬═\n",
      "                                      ║                        ║ \n",
      " cr_1: 0 ═════════════════════════════╩════════════════════════╬═\n",
      "                                                               ║ \n",
      " cr_2: 0 ══════════════════════════════════════════════════════╩═\n",
      "                                                                 \n"
     ]
    }
   ],
   "source": [
    "print (rb_purity_circs[0][0][0])"
   ]
  },
  {
   "cell_type": "code",
   "execution_count": 6,
   "metadata": {},
   "outputs": [
    {
     "name": "stdout",
     "output_type": "stream",
     "text": [
      "           ░  ┌────────────┐┌─┐                                            »\n",
      "qr_0: |0>──░──┤ Rx(1.5708) ├┤M├────────────────────────────────────────────»\n",
      "         ┌───┐└───┬───┬────┘└╥┘  ░  ┌───┐┌───┐┌────────────┐┌─┐            »\n",
      "qr_1: |0>┤ H ├────┤ X ├──────╫───░──┤ X ├┤ H ├┤ Rx(1.5708) ├┤M├────────────»\n",
      "         ├───┤    ├───┤      ║ ┌───┐├───┤└─░─┘└───┬───┬────┘└╥┘┌─────┐┌───┐»\n",
      "qr_2: |0>┤ H ├────┤ H ├──────╫─┤ S ├┤ Y ├──░──────┤ Y ├──────╫─┤ Sdg ├┤ H ├»\n",
      "         └───┘    └───┘      ║ └───┘└───┘  ░      └───┘      ║ └─────┘└───┘»\n",
      " cr_0: 0 ════════════════════╩═══════════════════════════════╬═════════════»\n",
      "                                                             ║             »\n",
      " cr_1: 0 ════════════════════════════════════════════════════╩═════════════»\n",
      "                                                                           »\n",
      " cr_2: 0 ══════════════════════════════════════════════════════════════════»\n",
      "                                                                           »\n",
      "«                            \n",
      "«qr_0: ──────────────────────\n",
      "«                            \n",
      "«qr_1: ──────────────────────\n",
      "«      ┌───┐┌────────────┐┌─┐\n",
      "«qr_2: ┤ H ├┤ Rx(1.5708) ├┤M├\n",
      "«      └───┘└────────────┘└╥┘\n",
      "«cr_0: ════════════════════╬═\n",
      "«                          ║ \n",
      "«cr_1: ════════════════════╬═\n",
      "«                          ║ \n",
      "«cr_2: ════════════════════╩═\n",
      "«                            \n"
     ]
    }
   ],
   "source": [
    "print (rb_purity_circs[0][1][0])"
   ]
  },
  {
   "cell_type": "code",
   "execution_count": 7,
   "metadata": {},
   "outputs": [
    {
     "name": "stdout",
     "output_type": "stream",
     "text": [
      "           ░  ┌────────────┐┌─┐                                            »\n",
      "qr_0: |0>──░──┤ Ry(1.5708) ├┤M├────────────────────────────────────────────»\n",
      "         ┌───┐└───┬───┬────┘└╥┘  ░  ┌───┐┌───┐┌────────────┐┌─┐            »\n",
      "qr_1: |0>┤ H ├────┤ X ├──────╫───░──┤ X ├┤ H ├┤ Ry(1.5708) ├┤M├────────────»\n",
      "         ├───┤    ├───┤      ║ ┌───┐├───┤└─░─┘└───┬───┬────┘└╥┘┌─────┐┌───┐»\n",
      "qr_2: |0>┤ H ├────┤ H ├──────╫─┤ S ├┤ Y ├──░──────┤ Y ├──────╫─┤ Sdg ├┤ H ├»\n",
      "         └───┘    └───┘      ║ └───┘└───┘  ░      └───┘      ║ └─────┘└───┘»\n",
      " cr_0: 0 ════════════════════╩═══════════════════════════════╬═════════════»\n",
      "                                                             ║             »\n",
      " cr_1: 0 ════════════════════════════════════════════════════╩═════════════»\n",
      "                                                                           »\n",
      " cr_2: 0 ══════════════════════════════════════════════════════════════════»\n",
      "                                                                           »\n",
      "«                            \n",
      "«qr_0: ──────────────────────\n",
      "«                            \n",
      "«qr_1: ──────────────────────\n",
      "«      ┌───┐┌────────────┐┌─┐\n",
      "«qr_2: ┤ H ├┤ Ry(1.5708) ├┤M├\n",
      "«      └───┘└────────────┘└╥┘\n",
      "«cr_0: ════════════════════╬═\n",
      "«                          ║ \n",
      "«cr_1: ════════════════════╬═\n",
      "«                          ║ \n",
      "«cr_2: ════════════════════╩═\n",
      "«                            \n"
     ]
    }
   ],
   "source": [
    "print (rb_purity_circs[0][2][0])"
   ]
  },
  {
   "cell_type": "code",
   "execution_count": 8,
   "metadata": {},
   "outputs": [
    {
     "name": "stdout",
     "output_type": "stream",
     "text": [
      "5\n"
     ]
    }
   ],
   "source": [
    "# Example of 2-qubits Purity RB\n",
    "#Number of qubits\n",
    "nQ = 4\n",
    "#Number of seeds (random sequences)\n",
    "nseeds = 3\n",
    "#Number of Cliffords in the sequence (start, stop, steps)\n",
    "nCliffs = np.arange(1,40,8)\n",
    "print (len(nCliffs))\n",
    "#2Q RB on Q0,Q2 and 1Q RB on Q1\n",
    "rb_pattern = [[0,1],[2,3]]"
   ]
  },
  {
   "cell_type": "code",
   "execution_count": 9,
   "metadata": {},
   "outputs": [
    {
     "name": "stdout",
     "output_type": "stream",
     "text": [
      "9\n"
     ]
    }
   ],
   "source": [
    "rb_opts = {}\n",
    "rb_opts['length_vector'] = nCliffs\n",
    "rb_opts['nseeds'] = nseeds\n",
    "rb_opts['rb_pattern'] = rb_pattern\n",
    "rb_opts['is_purity'] = True\n",
    "rb_purity_circs, xdata, npurity = rb.randomized_benchmarking_seq(**rb_opts)\n",
    "print (npurity)"
   ]
  },
  {
   "cell_type": "code",
   "execution_count": 10,
   "metadata": {},
   "outputs": [
    {
     "name": "stdout",
     "output_type": "stream",
     "text": [
      "0 0 0 rb_purity_ZZ_length_0_seed_0\n",
      "0 0 1 rb_purity_ZZ_length_1_seed_0\n",
      "0 0 2 rb_purity_ZZ_length_2_seed_0\n",
      "0 0 3 rb_purity_ZZ_length_3_seed_0\n",
      "0 0 4 rb_purity_ZZ_length_4_seed_0\n",
      "0 1 0 rb_purity_XZ_length_0_seed_0\n",
      "0 1 1 rb_purity_XZ_length_1_seed_0\n",
      "0 1 2 rb_purity_XZ_length_2_seed_0\n",
      "0 1 3 rb_purity_XZ_length_3_seed_0\n",
      "0 1 4 rb_purity_XZ_length_4_seed_0\n",
      "0 2 0 rb_purity_YZ_length_0_seed_0\n",
      "0 2 1 rb_purity_YZ_length_1_seed_0\n",
      "0 2 2 rb_purity_YZ_length_2_seed_0\n",
      "0 2 3 rb_purity_YZ_length_3_seed_0\n",
      "0 2 4 rb_purity_YZ_length_4_seed_0\n",
      "0 3 0 rb_purity_ZX_length_0_seed_0\n",
      "0 3 1 rb_purity_ZX_length_1_seed_0\n",
      "0 3 2 rb_purity_ZX_length_2_seed_0\n",
      "0 3 3 rb_purity_ZX_length_3_seed_0\n",
      "0 3 4 rb_purity_ZX_length_4_seed_0\n",
      "0 4 0 rb_purity_XX_length_0_seed_0\n",
      "0 4 1 rb_purity_XX_length_1_seed_0\n",
      "0 4 2 rb_purity_XX_length_2_seed_0\n",
      "0 4 3 rb_purity_XX_length_3_seed_0\n",
      "0 4 4 rb_purity_XX_length_4_seed_0\n",
      "0 5 0 rb_purity_YX_length_0_seed_0\n",
      "0 5 1 rb_purity_YX_length_1_seed_0\n",
      "0 5 2 rb_purity_YX_length_2_seed_0\n",
      "0 5 3 rb_purity_YX_length_3_seed_0\n",
      "0 5 4 rb_purity_YX_length_4_seed_0\n",
      "0 6 0 rb_purity_ZY_length_0_seed_0\n",
      "0 6 1 rb_purity_ZY_length_1_seed_0\n",
      "0 6 2 rb_purity_ZY_length_2_seed_0\n",
      "0 6 3 rb_purity_ZY_length_3_seed_0\n",
      "0 6 4 rb_purity_ZY_length_4_seed_0\n",
      "0 7 0 rb_purity_XY_length_0_seed_0\n",
      "0 7 1 rb_purity_XY_length_1_seed_0\n",
      "0 7 2 rb_purity_XY_length_2_seed_0\n",
      "0 7 3 rb_purity_XY_length_3_seed_0\n",
      "0 7 4 rb_purity_XY_length_4_seed_0\n",
      "0 8 0 rb_purity_YY_length_0_seed_0\n",
      "0 8 1 rb_purity_YY_length_1_seed_0\n",
      "0 8 2 rb_purity_YY_length_2_seed_0\n",
      "0 8 3 rb_purity_YY_length_3_seed_0\n",
      "0 8 4 rb_purity_YY_length_4_seed_0\n",
      "1 0 0 rb_purity_ZZ_length_0_seed_1\n",
      "1 0 1 rb_purity_ZZ_length_1_seed_1\n",
      "1 0 2 rb_purity_ZZ_length_2_seed_1\n",
      "1 0 3 rb_purity_ZZ_length_3_seed_1\n",
      "1 0 4 rb_purity_ZZ_length_4_seed_1\n",
      "1 1 0 rb_purity_XZ_length_0_seed_1\n",
      "1 1 1 rb_purity_XZ_length_1_seed_1\n",
      "1 1 2 rb_purity_XZ_length_2_seed_1\n",
      "1 1 3 rb_purity_XZ_length_3_seed_1\n",
      "1 1 4 rb_purity_XZ_length_4_seed_1\n",
      "1 2 0 rb_purity_YZ_length_0_seed_1\n",
      "1 2 1 rb_purity_YZ_length_1_seed_1\n",
      "1 2 2 rb_purity_YZ_length_2_seed_1\n",
      "1 2 3 rb_purity_YZ_length_3_seed_1\n",
      "1 2 4 rb_purity_YZ_length_4_seed_1\n",
      "1 3 0 rb_purity_ZX_length_0_seed_1\n",
      "1 3 1 rb_purity_ZX_length_1_seed_1\n",
      "1 3 2 rb_purity_ZX_length_2_seed_1\n",
      "1 3 3 rb_purity_ZX_length_3_seed_1\n",
      "1 3 4 rb_purity_ZX_length_4_seed_1\n",
      "1 4 0 rb_purity_XX_length_0_seed_1\n",
      "1 4 1 rb_purity_XX_length_1_seed_1\n",
      "1 4 2 rb_purity_XX_length_2_seed_1\n",
      "1 4 3 rb_purity_XX_length_3_seed_1\n",
      "1 4 4 rb_purity_XX_length_4_seed_1\n",
      "1 5 0 rb_purity_YX_length_0_seed_1\n",
      "1 5 1 rb_purity_YX_length_1_seed_1\n",
      "1 5 2 rb_purity_YX_length_2_seed_1\n",
      "1 5 3 rb_purity_YX_length_3_seed_1\n",
      "1 5 4 rb_purity_YX_length_4_seed_1\n",
      "1 6 0 rb_purity_ZY_length_0_seed_1\n",
      "1 6 1 rb_purity_ZY_length_1_seed_1\n",
      "1 6 2 rb_purity_ZY_length_2_seed_1\n",
      "1 6 3 rb_purity_ZY_length_3_seed_1\n",
      "1 6 4 rb_purity_ZY_length_4_seed_1\n",
      "1 7 0 rb_purity_XY_length_0_seed_1\n",
      "1 7 1 rb_purity_XY_length_1_seed_1\n",
      "1 7 2 rb_purity_XY_length_2_seed_1\n",
      "1 7 3 rb_purity_XY_length_3_seed_1\n",
      "1 7 4 rb_purity_XY_length_4_seed_1\n",
      "1 8 0 rb_purity_YY_length_0_seed_1\n",
      "1 8 1 rb_purity_YY_length_1_seed_1\n",
      "1 8 2 rb_purity_YY_length_2_seed_1\n",
      "1 8 3 rb_purity_YY_length_3_seed_1\n",
      "1 8 4 rb_purity_YY_length_4_seed_1\n",
      "2 0 0 rb_purity_ZZ_length_0_seed_2\n",
      "2 0 1 rb_purity_ZZ_length_1_seed_2\n",
      "2 0 2 rb_purity_ZZ_length_2_seed_2\n",
      "2 0 3 rb_purity_ZZ_length_3_seed_2\n",
      "2 0 4 rb_purity_ZZ_length_4_seed_2\n",
      "2 1 0 rb_purity_XZ_length_0_seed_2\n",
      "2 1 1 rb_purity_XZ_length_1_seed_2\n",
      "2 1 2 rb_purity_XZ_length_2_seed_2\n",
      "2 1 3 rb_purity_XZ_length_3_seed_2\n",
      "2 1 4 rb_purity_XZ_length_4_seed_2\n",
      "2 2 0 rb_purity_YZ_length_0_seed_2\n",
      "2 2 1 rb_purity_YZ_length_1_seed_2\n",
      "2 2 2 rb_purity_YZ_length_2_seed_2\n",
      "2 2 3 rb_purity_YZ_length_3_seed_2\n",
      "2 2 4 rb_purity_YZ_length_4_seed_2\n",
      "2 3 0 rb_purity_ZX_length_0_seed_2\n",
      "2 3 1 rb_purity_ZX_length_1_seed_2\n",
      "2 3 2 rb_purity_ZX_length_2_seed_2\n",
      "2 3 3 rb_purity_ZX_length_3_seed_2\n",
      "2 3 4 rb_purity_ZX_length_4_seed_2\n",
      "2 4 0 rb_purity_XX_length_0_seed_2\n",
      "2 4 1 rb_purity_XX_length_1_seed_2\n",
      "2 4 2 rb_purity_XX_length_2_seed_2\n",
      "2 4 3 rb_purity_XX_length_3_seed_2\n",
      "2 4 4 rb_purity_XX_length_4_seed_2\n",
      "2 5 0 rb_purity_YX_length_0_seed_2\n",
      "2 5 1 rb_purity_YX_length_1_seed_2\n",
      "2 5 2 rb_purity_YX_length_2_seed_2\n",
      "2 5 3 rb_purity_YX_length_3_seed_2\n",
      "2 5 4 rb_purity_YX_length_4_seed_2\n",
      "2 6 0 rb_purity_ZY_length_0_seed_2\n",
      "2 6 1 rb_purity_ZY_length_1_seed_2\n",
      "2 6 2 rb_purity_ZY_length_2_seed_2\n",
      "2 6 3 rb_purity_ZY_length_3_seed_2\n",
      "2 6 4 rb_purity_ZY_length_4_seed_2\n",
      "2 7 0 rb_purity_XY_length_0_seed_2\n",
      "2 7 1 rb_purity_XY_length_1_seed_2\n",
      "2 7 2 rb_purity_XY_length_2_seed_2\n",
      "2 7 3 rb_purity_XY_length_3_seed_2\n",
      "2 7 4 rb_purity_XY_length_4_seed_2\n",
      "2 8 0 rb_purity_YY_length_0_seed_2\n",
      "2 8 1 rb_purity_YY_length_1_seed_2\n",
      "2 8 2 rb_purity_YY_length_2_seed_2\n",
      "2 8 3 rb_purity_YY_length_3_seed_2\n",
      "2 8 4 rb_purity_YY_length_4_seed_2\n"
     ]
    }
   ],
   "source": [
    "for i in range(len(rb_purity_circs)):\n",
    "    for j in range(len(rb_purity_circs[i])):\n",
    "        for k in range(len(rb_purity_circs[i][j])):\n",
    "            print (i,j,k, rb_purity_circs[i][j][k].name)"
   ]
  },
  {
   "cell_type": "code",
   "execution_count": 11,
   "metadata": {},
   "outputs": [
    {
     "name": "stdout",
     "output_type": "stream",
     "text": [
      "          ┌───┐ ┌───┐┌───┐      ┌───┐                  ░                   »\n",
      "qr_0: |0>─┤ H ├─┤ H ├┤ S ├──■───┤ X ├──────────────────░───────────────────»\n",
      "          ├───┤ ├───┤└───┘┌─┴─┐ └─┬─┘ ┌───┐┌───┐┌───┐  ░  ┌───┐┌─────┐┌───┐»\n",
      "qr_1: |0>─┤ H ├─┤ S ├─────┤ X ├───■───┤ H ├┤ S ├┤ Z ├──░──┤ Z ├┤ Sdg ├┤ H ├»\n",
      "         ┌┴───┴┐├───┤     ├───┤┌─────┐├───┤├───┤└─░─┘┌───┐├───┤└┬───┬┘├───┤»\n",
      "qr_2: |0>┤ Sdg ├┤ H ├──■──┤ X ├┤ Sdg ├┤ H ├┤ X ├──░──┤ X ├┤ H ├─┤ S ├─┤ X ├»\n",
      "         └┬───┬┘├───┤┌─┴─┐└─┬─┘├─────┤├───┤└───┘  ░  ├───┤├───┤ └───┘ └─┬─┘»\n",
      "qr_3: |0>─┤ H ├─┤ S ├┤ X ├──■──┤ Sdg ├┤ H ├───────░──┤ H ├┤ S ├─────────■──»\n",
      "          └───┘ └───┘└───┘     └─────┘└───┘       ░  └───┘└───┘            »\n",
      " cr_0: 0 ══════════════════════════════════════════════════════════════════»\n",
      "                                                                           »\n",
      " cr_1: 0 ══════════════════════════════════════════════════════════════════»\n",
      "                                                                           »\n",
      " cr_2: 0 ══════════════════════════════════════════════════════════════════»\n",
      "                                                                           »\n",
      " cr_3: 0 ══════════════════════════════════════════════════════════════════»\n",
      "                                                                           »\n",
      "«      ┌───┐       ┌─────┐      ┌───┐┌───┐┌─┐\n",
      "«qr_0: ┤ X ├───■───┤ Sdg ├──────┤ H ├┤ H ├┤M├\n",
      "«      └─┬─┘ ┌─┴─┐ ├─────┤      ├───┤└┬─┬┘└╥┘\n",
      "«qr_1: ──■───┤ X ├─┤ Sdg ├──────┤ H ├─┤M├──╫─\n",
      "«            ├───┤ └┬───┬┘┌─┐   └───┘ └╥┘  ║ \n",
      "«qr_2: ──■───┤ H ├──┤ S ├─┤M├──────────╫───╫─\n",
      "«      ┌─┴─┐┌┴───┴┐ ├───┤ └╥┘┌─┐       ║   ║ \n",
      "«qr_3: ┤ X ├┤ Sdg ├─┤ H ├──╫─┤M├───────╫───╫─\n",
      "«      └───┘└─────┘ └───┘  ║ └╥┘       ║   ║ \n",
      "«cr_0: ════════════════════╬══╬════════╬═══╩═\n",
      "«                          ║  ║        ║     \n",
      "«cr_1: ════════════════════╬══╬════════╩═════\n",
      "«                          ║  ║              \n",
      "«cr_2: ════════════════════╩══╬══════════════\n",
      "«                             ║              \n",
      "«cr_3: ═══════════════════════╩══════════════\n",
      "«                                            \n"
     ]
    }
   ],
   "source": [
    "print (rb_purity_circs[0][0][0])"
   ]
  },
  {
   "cell_type": "code",
   "execution_count": 12,
   "metadata": {},
   "outputs": [
    {
     "name": "stdout",
     "output_type": "stream",
     "text": [
      "          ┌───┐ ┌───┐┌───┐      ┌───┐                  ░                   »\n",
      "qr_0: |0>─┤ H ├─┤ H ├┤ S ├──■───┤ X ├──────────────────░───────────────────»\n",
      "          ├───┤ ├───┤└───┘┌─┴─┐ └─┬─┘ ┌───┐┌───┐┌───┐  ░  ┌───┐┌─────┐┌───┐»\n",
      "qr_1: |0>─┤ H ├─┤ S ├─────┤ X ├───■───┤ H ├┤ S ├┤ Z ├──░──┤ Z ├┤ Sdg ├┤ H ├»\n",
      "         ┌┴───┴┐├───┤     ├───┤┌─────┐├───┤├───┤└─░─┘┌───┐├───┤└┬───┬┘├───┤»\n",
      "qr_2: |0>┤ Sdg ├┤ H ├──■──┤ X ├┤ Sdg ├┤ H ├┤ X ├──░──┤ X ├┤ H ├─┤ S ├─┤ X ├»\n",
      "         └┬───┬┘├───┤┌─┴─┐└─┬─┘├─────┤├───┤└───┘  ░  ├───┤├───┤ └───┘ └─┬─┘»\n",
      "qr_3: |0>─┤ H ├─┤ S ├┤ X ├──■──┤ Sdg ├┤ H ├───────░──┤ H ├┤ S ├─────────■──»\n",
      "          └───┘ └───┘└───┘     └─────┘└───┘       ░  └───┘└───┘            »\n",
      " cr_0: 0 ══════════════════════════════════════════════════════════════════»\n",
      "                                                                           »\n",
      " cr_1: 0 ══════════════════════════════════════════════════════════════════»\n",
      "                                                                           »\n",
      " cr_2: 0 ══════════════════════════════════════════════════════════════════»\n",
      "                                                                           »\n",
      " cr_3: 0 ══════════════════════════════════════════════════════════════════»\n",
      "                                                                           »\n",
      "«      ┌───┐       ┌─────┐    ┌───┐           ┌───┐┌────────────┐┌─┐\n",
      "«qr_0: ┤ X ├───■───┤ Sdg ├────┤ H ├───────────┤ H ├┤ Rx(1.5708) ├┤M├\n",
      "«      └─┬─┘ ┌─┴─┐ ├─────┤    ├───┤     ┌─┐   └───┘└────────────┘└╥┘\n",
      "«qr_1: ──■───┤ X ├─┤ Sdg ├────┤ H ├─────┤M├───────────────────────╫─\n",
      "«            ├───┤ └┬───┬┘┌───┴───┴────┐└╥┘┌─┐                    ║ \n",
      "«qr_2: ──■───┤ H ├──┤ S ├─┤ Rx(1.5708) ├─╫─┤M├────────────────────╫─\n",
      "«      ┌─┴─┐┌┴───┴┐ ├───┤ └────┬─┬─────┘ ║ └╥┘                    ║ \n",
      "«qr_3: ┤ X ├┤ Sdg ├─┤ H ├──────┤M├───────╫──╫─────────────────────╫─\n",
      "«      └───┘└─────┘ └───┘      └╥┘       ║  ║                     ║ \n",
      "«cr_0: ═════════════════════════╬════════╬══╬═════════════════════╩═\n",
      "«                               ║        ║  ║                       \n",
      "«cr_1: ═════════════════════════╬════════╩══╬═══════════════════════\n",
      "«                               ║           ║                       \n",
      "«cr_2: ═════════════════════════╬═══════════╩═══════════════════════\n",
      "«                               ║                                   \n",
      "«cr_3: ═════════════════════════╩═══════════════════════════════════\n",
      "«                                                                   \n"
     ]
    }
   ],
   "source": [
    "print (rb_purity_circs[0][1][0])"
   ]
  },
  {
   "cell_type": "code",
   "execution_count": 13,
   "metadata": {},
   "outputs": [
    {
     "name": "stdout",
     "output_type": "stream",
     "text": [
      "          ┌───┐ ┌───┐┌───┐      ┌───┐                  ░                   »\n",
      "qr_0: |0>─┤ H ├─┤ H ├┤ S ├──■───┤ X ├──────────────────░───────────────────»\n",
      "          ├───┤ ├───┤└───┘┌─┴─┐ └─┬─┘ ┌───┐┌───┐┌───┐  ░  ┌───┐┌─────┐┌───┐»\n",
      "qr_1: |0>─┤ H ├─┤ S ├─────┤ X ├───■───┤ H ├┤ S ├┤ Z ├──░──┤ Z ├┤ Sdg ├┤ H ├»\n",
      "         ┌┴───┴┐├───┤     ├───┤┌─────┐├───┤├───┤└─░─┘┌───┐├───┤└┬───┬┘├───┤»\n",
      "qr_2: |0>┤ Sdg ├┤ H ├──■──┤ X ├┤ Sdg ├┤ H ├┤ X ├──░──┤ X ├┤ H ├─┤ S ├─┤ X ├»\n",
      "         └┬───┬┘├───┤┌─┴─┐└─┬─┘├─────┤├───┤└───┘  ░  ├───┤├───┤ └───┘ └─┬─┘»\n",
      "qr_3: |0>─┤ H ├─┤ S ├┤ X ├──■──┤ Sdg ├┤ H ├───────░──┤ H ├┤ S ├─────────■──»\n",
      "          └───┘ └───┘└───┘     └─────┘└───┘       ░  └───┘└───┘            »\n",
      " cr_0: 0 ══════════════════════════════════════════════════════════════════»\n",
      "                                                                           »\n",
      " cr_1: 0 ══════════════════════════════════════════════════════════════════»\n",
      "                                                                           »\n",
      " cr_2: 0 ══════════════════════════════════════════════════════════════════»\n",
      "                                                                           »\n",
      " cr_3: 0 ══════════════════════════════════════════════════════════════════»\n",
      "                                                                           »\n",
      "«      ┌───┐       ┌─────┐    ┌───┐           ┌───┐┌────────────┐┌─┐\n",
      "«qr_0: ┤ X ├───■───┤ Sdg ├────┤ H ├───────────┤ H ├┤ Ry(1.5708) ├┤M├\n",
      "«      └─┬─┘ ┌─┴─┐ ├─────┤    ├───┤     ┌─┐   └───┘└────────────┘└╥┘\n",
      "«qr_1: ──■───┤ X ├─┤ Sdg ├────┤ H ├─────┤M├───────────────────────╫─\n",
      "«            ├───┤ └┬───┬┘┌───┴───┴────┐└╥┘┌─┐                    ║ \n",
      "«qr_2: ──■───┤ H ├──┤ S ├─┤ Ry(1.5708) ├─╫─┤M├────────────────────╫─\n",
      "«      ┌─┴─┐┌┴───┴┐ ├───┤ └────┬─┬─────┘ ║ └╥┘                    ║ \n",
      "«qr_3: ┤ X ├┤ Sdg ├─┤ H ├──────┤M├───────╫──╫─────────────────────╫─\n",
      "«      └───┘└─────┘ └───┘      └╥┘       ║  ║                     ║ \n",
      "«cr_0: ═════════════════════════╬════════╬══╬═════════════════════╩═\n",
      "«                               ║        ║  ║                       \n",
      "«cr_1: ═════════════════════════╬════════╩══╬═══════════════════════\n",
      "«                               ║           ║                       \n",
      "«cr_2: ═════════════════════════╬═══════════╩═══════════════════════\n",
      "«                               ║                                   \n",
      "«cr_3: ═════════════════════════╩═══════════════════════════════════\n",
      "«                                                                   \n"
     ]
    }
   ],
   "source": [
    "print (rb_purity_circs[0][2][0])"
   ]
  },
  {
   "cell_type": "code",
   "execution_count": 14,
   "metadata": {},
   "outputs": [
    {
     "name": "stdout",
     "output_type": "stream",
     "text": [
      "          ┌───┐ ┌───┐┌───┐      ┌───┐                  ░                   »\n",
      "qr_0: |0>─┤ H ├─┤ H ├┤ S ├──■───┤ X ├──────────────────░───────────────────»\n",
      "          ├───┤ ├───┤└───┘┌─┴─┐ └─┬─┘ ┌───┐┌───┐┌───┐  ░  ┌───┐┌─────┐┌───┐»\n",
      "qr_1: |0>─┤ H ├─┤ S ├─────┤ X ├───■───┤ H ├┤ S ├┤ Z ├──░──┤ Z ├┤ Sdg ├┤ H ├»\n",
      "         ┌┴───┴┐├───┤     ├───┤┌─────┐├───┤├───┤└─░─┘┌───┐├───┤└┬───┬┘├───┤»\n",
      "qr_2: |0>┤ Sdg ├┤ H ├──■──┤ X ├┤ Sdg ├┤ H ├┤ X ├──░──┤ X ├┤ H ├─┤ S ├─┤ X ├»\n",
      "         └┬───┬┘├───┤┌─┴─┐└─┬─┘├─────┤├───┤└───┘  ░  ├───┤├───┤ └───┘ └─┬─┘»\n",
      "qr_3: |0>─┤ H ├─┤ S ├┤ X ├──■──┤ Sdg ├┤ H ├───────░──┤ H ├┤ S ├─────────■──»\n",
      "          └───┘ └───┘└───┘     └─────┘└───┘       ░  └───┘└───┘            »\n",
      " cr_0: 0 ══════════════════════════════════════════════════════════════════»\n",
      "                                                                           »\n",
      " cr_1: 0 ══════════════════════════════════════════════════════════════════»\n",
      "                                                                           »\n",
      " cr_2: 0 ══════════════════════════════════════════════════════════════════»\n",
      "                                                                           »\n",
      " cr_3: 0 ══════════════════════════════════════════════════════════════════»\n",
      "                                                                           »\n",
      "«      ┌───┐       ┌─────┐       ┌───┐         ┌───┐     ┌─┐   \n",
      "«qr_0: ┤ X ├───■───┤ Sdg ├───────┤ H ├─────────┤ H ├─────┤M├───\n",
      "«      └─┬─┘ ┌─┴─┐ ├─────┤       ├───┤     ┌───┴───┴────┐└╥┘┌─┐\n",
      "«qr_1: ──■───┤ X ├─┤ Sdg ├───────┤ H ├─────┤ Rx(1.5708) ├─╫─┤M├\n",
      "«            ├───┤ └┬───┬┘┌─┐    └───┘     └────────────┘ ║ └╥┘\n",
      "«qr_2: ──■───┤ H ├──┤ S ├─┤M├─────────────────────────────╫──╫─\n",
      "«      ┌─┴─┐┌┴───┴┐ ├───┤ └╥┘┌────────────┐     ┌─┐       ║  ║ \n",
      "«qr_3: ┤ X ├┤ Sdg ├─┤ H ├──╫─┤ Rx(1.5708) ├─────┤M├───────╫──╫─\n",
      "«      └───┘└─────┘ └───┘  ║ └────────────┘     └╥┘       ║  ║ \n",
      "«cr_0: ════════════════════╬═════════════════════╬════════╩══╬═\n",
      "«                          ║                     ║           ║ \n",
      "«cr_1: ════════════════════╬═════════════════════╬═══════════╩═\n",
      "«                          ║                     ║             \n",
      "«cr_2: ════════════════════╩═════════════════════╬═════════════\n",
      "«                                                ║             \n",
      "«cr_3: ══════════════════════════════════════════╩═════════════\n",
      "«                                                              \n"
     ]
    }
   ],
   "source": [
    "print (rb_purity_circs[0][3][0])"
   ]
  },
  {
   "cell_type": "code",
   "execution_count": 15,
   "metadata": {},
   "outputs": [
    {
     "name": "stdout",
     "output_type": "stream",
     "text": [
      "          ┌───┐ ┌───┐┌───┐      ┌───┐                  ░                   »\n",
      "qr_0: |0>─┤ H ├─┤ H ├┤ S ├──■───┤ X ├──────────────────░───────────────────»\n",
      "          ├───┤ ├───┤└───┘┌─┴─┐ └─┬─┘ ┌───┐┌───┐┌───┐  ░  ┌───┐┌─────┐┌───┐»\n",
      "qr_1: |0>─┤ H ├─┤ S ├─────┤ X ├───■───┤ H ├┤ S ├┤ Z ├──░──┤ Z ├┤ Sdg ├┤ H ├»\n",
      "         ┌┴───┴┐├───┤     ├───┤┌─────┐├───┤├───┤└─░─┘┌───┐├───┤└┬───┬┘├───┤»\n",
      "qr_2: |0>┤ Sdg ├┤ H ├──■──┤ X ├┤ Sdg ├┤ H ├┤ X ├──░──┤ X ├┤ H ├─┤ S ├─┤ X ├»\n",
      "         └┬───┬┘├───┤┌─┴─┐└─┬─┘├─────┤├───┤└───┘  ░  ├───┤├───┤ └───┘ └─┬─┘»\n",
      "qr_3: |0>─┤ H ├─┤ S ├┤ X ├──■──┤ Sdg ├┤ H ├───────░──┤ H ├┤ S ├─────────■──»\n",
      "          └───┘ └───┘└───┘     └─────┘└───┘       ░  └───┘└───┘            »\n",
      " cr_0: 0 ══════════════════════════════════════════════════════════════════»\n",
      "                                                                           »\n",
      " cr_1: 0 ══════════════════════════════════════════════════════════════════»\n",
      "                                                                           »\n",
      " cr_2: 0 ══════════════════════════════════════════════════════════════════»\n",
      "                                                                           »\n",
      " cr_3: 0 ══════════════════════════════════════════════════════════════════»\n",
      "                                                                           »\n",
      "«      ┌───┐       ┌─────┐    ┌───┐               ┌───┐     ┌────────────┐┌─┐\n",
      "«qr_0: ┤ X ├───■───┤ Sdg ├────┤ H ├───────────────┤ H ├─────┤ Rx(1.5708) ├┤M├\n",
      "«      └─┬─┘ ┌─┴─┐ ├─────┤    ├───┤           ┌───┴───┴────┐└────┬─┬─────┘└╥┘\n",
      "«qr_1: ──■───┤ X ├─┤ Sdg ├────┤ H ├───────────┤ Rx(1.5708) ├─────┤M├───────╫─\n",
      "«            ├───┤ └┬───┬┘┌───┴───┴────┐┌─┐   └────────────┘     └╥┘       ║ \n",
      "«qr_2: ──■───┤ H ├──┤ S ├─┤ Rx(1.5708) ├┤M├───────────────────────╫────────╫─\n",
      "«      ┌─┴─┐┌┴───┴┐ ├───┤ ├────────────┤└╥┘┌─┐                    ║        ║ \n",
      "«qr_3: ┤ X ├┤ Sdg ├─┤ H ├─┤ Rx(1.5708) ├─╫─┤M├────────────────────╫────────╫─\n",
      "«      └───┘└─────┘ └───┘ └────────────┘ ║ └╥┘                    ║        ║ \n",
      "«cr_0: ══════════════════════════════════╬══╬═════════════════════╬════════╩═\n",
      "«                                        ║  ║                     ║          \n",
      "«cr_1: ══════════════════════════════════╬══╬═════════════════════╩══════════\n",
      "«                                        ║  ║                                \n",
      "«cr_2: ══════════════════════════════════╩══╬════════════════════════════════\n",
      "«                                           ║                                \n",
      "«cr_3: ═════════════════════════════════════╩════════════════════════════════\n",
      "«                                                                            \n"
     ]
    }
   ],
   "source": [
    "print (rb_purity_circs[0][4][0])"
   ]
  },
  {
   "cell_type": "code",
   "execution_count": 16,
   "metadata": {},
   "outputs": [
    {
     "name": "stdout",
     "output_type": "stream",
     "text": [
      "          ┌───┐ ┌───┐┌───┐      ┌───┐                  ░                   »\n",
      "qr_0: |0>─┤ H ├─┤ H ├┤ S ├──■───┤ X ├──────────────────░───────────────────»\n",
      "          ├───┤ ├───┤└───┘┌─┴─┐ └─┬─┘ ┌───┐┌───┐┌───┐  ░  ┌───┐┌─────┐┌───┐»\n",
      "qr_1: |0>─┤ H ├─┤ S ├─────┤ X ├───■───┤ H ├┤ S ├┤ Z ├──░──┤ Z ├┤ Sdg ├┤ H ├»\n",
      "         ┌┴───┴┐├───┤     ├───┤┌─────┐├───┤├───┤└─░─┘┌───┐├───┤└┬───┬┘├───┤»\n",
      "qr_2: |0>┤ Sdg ├┤ H ├──■──┤ X ├┤ Sdg ├┤ H ├┤ X ├──░──┤ X ├┤ H ├─┤ S ├─┤ X ├»\n",
      "         └┬───┬┘├───┤┌─┴─┐└─┬─┘├─────┤├───┤└───┘  ░  ├───┤├───┤ └───┘ └─┬─┘»\n",
      "qr_3: |0>─┤ H ├─┤ S ├┤ X ├──■──┤ Sdg ├┤ H ├───────░──┤ H ├┤ S ├─────────■──»\n",
      "          └───┘ └───┘└───┘     └─────┘└───┘       ░  └───┘└───┘            »\n",
      " cr_0: 0 ══════════════════════════════════════════════════════════════════»\n",
      "                                                                           »\n",
      " cr_1: 0 ══════════════════════════════════════════════════════════════════»\n",
      "                                                                           »\n",
      " cr_2: 0 ══════════════════════════════════════════════════════════════════»\n",
      "                                                                           »\n",
      " cr_3: 0 ══════════════════════════════════════════════════════════════════»\n",
      "                                                                           »\n",
      "«      ┌───┐       ┌─────┐    ┌───┐               ┌───┐     ┌────────────┐┌─┐\n",
      "«qr_0: ┤ X ├───■───┤ Sdg ├────┤ H ├───────────────┤ H ├─────┤ Ry(1.5708) ├┤M├\n",
      "«      └─┬─┘ ┌─┴─┐ ├─────┤    ├───┤           ┌───┴───┴────┐└────┬─┬─────┘└╥┘\n",
      "«qr_1: ──■───┤ X ├─┤ Sdg ├────┤ H ├───────────┤ Rx(1.5708) ├─────┤M├───────╫─\n",
      "«            ├───┤ └┬───┬┘┌───┴───┴────┐┌─┐   └────────────┘     └╥┘       ║ \n",
      "«qr_2: ──■───┤ H ├──┤ S ├─┤ Ry(1.5708) ├┤M├───────────────────────╫────────╫─\n",
      "«      ┌─┴─┐┌┴───┴┐ ├───┤ ├────────────┤└╥┘┌─┐                    ║        ║ \n",
      "«qr_3: ┤ X ├┤ Sdg ├─┤ H ├─┤ Rx(1.5708) ├─╫─┤M├────────────────────╫────────╫─\n",
      "«      └───┘└─────┘ └───┘ └────────────┘ ║ └╥┘                    ║        ║ \n",
      "«cr_0: ══════════════════════════════════╬══╬═════════════════════╬════════╩═\n",
      "«                                        ║  ║                     ║          \n",
      "«cr_1: ══════════════════════════════════╬══╬═════════════════════╩══════════\n",
      "«                                        ║  ║                                \n",
      "«cr_2: ══════════════════════════════════╩══╬════════════════════════════════\n",
      "«                                           ║                                \n",
      "«cr_3: ═════════════════════════════════════╩════════════════════════════════\n",
      "«                                                                            \n"
     ]
    }
   ],
   "source": [
    "print (rb_purity_circs[0][5][0])"
   ]
  },
  {
   "cell_type": "code",
   "execution_count": 17,
   "metadata": {},
   "outputs": [
    {
     "name": "stdout",
     "output_type": "stream",
     "text": [
      "          ┌───┐ ┌───┐┌───┐      ┌───┐                  ░                   »\n",
      "qr_0: |0>─┤ H ├─┤ H ├┤ S ├──■───┤ X ├──────────────────░───────────────────»\n",
      "          ├───┤ ├───┤└───┘┌─┴─┐ └─┬─┘ ┌───┐┌───┐┌───┐  ░  ┌───┐┌─────┐┌───┐»\n",
      "qr_1: |0>─┤ H ├─┤ S ├─────┤ X ├───■───┤ H ├┤ S ├┤ Z ├──░──┤ Z ├┤ Sdg ├┤ H ├»\n",
      "         ┌┴───┴┐├───┤     ├───┤┌─────┐├───┤├───┤└─░─┘┌───┐├───┤└┬───┬┘├───┤»\n",
      "qr_2: |0>┤ Sdg ├┤ H ├──■──┤ X ├┤ Sdg ├┤ H ├┤ X ├──░──┤ X ├┤ H ├─┤ S ├─┤ X ├»\n",
      "         └┬───┬┘├───┤┌─┴─┐└─┬─┘├─────┤├───┤└───┘  ░  ├───┤├───┤ └───┘ └─┬─┘»\n",
      "qr_3: |0>─┤ H ├─┤ S ├┤ X ├──■──┤ Sdg ├┤ H ├───────░──┤ H ├┤ S ├─────────■──»\n",
      "          └───┘ └───┘└───┘     └─────┘└───┘       ░  └───┘└───┘            »\n",
      " cr_0: 0 ══════════════════════════════════════════════════════════════════»\n",
      "                                                                           »\n",
      " cr_1: 0 ══════════════════════════════════════════════════════════════════»\n",
      "                                                                           »\n",
      " cr_2: 0 ══════════════════════════════════════════════════════════════════»\n",
      "                                                                           »\n",
      " cr_3: 0 ══════════════════════════════════════════════════════════════════»\n",
      "                                                                           »\n",
      "«      ┌───┐       ┌─────┐       ┌───┐         ┌───┐     ┌─┐   \n",
      "«qr_0: ┤ X ├───■───┤ Sdg ├───────┤ H ├─────────┤ H ├─────┤M├───\n",
      "«      └─┬─┘ ┌─┴─┐ ├─────┤       ├───┤     ┌───┴───┴────┐└╥┘┌─┐\n",
      "«qr_1: ──■───┤ X ├─┤ Sdg ├───────┤ H ├─────┤ Ry(1.5708) ├─╫─┤M├\n",
      "«            ├───┤ └┬───┬┘┌─┐    └───┘     └────────────┘ ║ └╥┘\n",
      "«qr_2: ──■───┤ H ├──┤ S ├─┤M├─────────────────────────────╫──╫─\n",
      "«      ┌─┴─┐┌┴───┴┐ ├───┤ └╥┘┌────────────┐     ┌─┐       ║  ║ \n",
      "«qr_3: ┤ X ├┤ Sdg ├─┤ H ├──╫─┤ Ry(1.5708) ├─────┤M├───────╫──╫─\n",
      "«      └───┘└─────┘ └───┘  ║ └────────────┘     └╥┘       ║  ║ \n",
      "«cr_0: ════════════════════╬═════════════════════╬════════╩══╬═\n",
      "«                          ║                     ║           ║ \n",
      "«cr_1: ════════════════════╬═════════════════════╬═══════════╩═\n",
      "«                          ║                     ║             \n",
      "«cr_2: ════════════════════╩═════════════════════╬═════════════\n",
      "«                                                ║             \n",
      "«cr_3: ══════════════════════════════════════════╩═════════════\n",
      "«                                                              \n"
     ]
    }
   ],
   "source": [
    "print (rb_purity_circs[0][6][0])"
   ]
  },
  {
   "cell_type": "code",
   "execution_count": 18,
   "metadata": {},
   "outputs": [
    {
     "name": "stdout",
     "output_type": "stream",
     "text": [
      "          ┌───┐ ┌───┐┌───┐      ┌───┐                  ░                   »\n",
      "qr_0: |0>─┤ H ├─┤ H ├┤ S ├──■───┤ X ├──────────────────░───────────────────»\n",
      "          ├───┤ ├───┤└───┘┌─┴─┐ └─┬─┘ ┌───┐┌───┐┌───┐  ░  ┌───┐┌─────┐┌───┐»\n",
      "qr_1: |0>─┤ H ├─┤ S ├─────┤ X ├───■───┤ H ├┤ S ├┤ Z ├──░──┤ Z ├┤ Sdg ├┤ H ├»\n",
      "         ┌┴───┴┐├───┤     ├───┤┌─────┐├───┤├───┤└─░─┘┌───┐├───┤└┬───┬┘├───┤»\n",
      "qr_2: |0>┤ Sdg ├┤ H ├──■──┤ X ├┤ Sdg ├┤ H ├┤ X ├──░──┤ X ├┤ H ├─┤ S ├─┤ X ├»\n",
      "         └┬───┬┘├───┤┌─┴─┐└─┬─┘├─────┤├───┤└───┘  ░  ├───┤├───┤ └───┘ └─┬─┘»\n",
      "qr_3: |0>─┤ H ├─┤ S ├┤ X ├──■──┤ Sdg ├┤ H ├───────░──┤ H ├┤ S ├─────────■──»\n",
      "          └───┘ └───┘└───┘     └─────┘└───┘       ░  └───┘└───┘            »\n",
      " cr_0: 0 ══════════════════════════════════════════════════════════════════»\n",
      "                                                                           »\n",
      " cr_1: 0 ══════════════════════════════════════════════════════════════════»\n",
      "                                                                           »\n",
      " cr_2: 0 ══════════════════════════════════════════════════════════════════»\n",
      "                                                                           »\n",
      " cr_3: 0 ══════════════════════════════════════════════════════════════════»\n",
      "                                                                           »\n",
      "«      ┌───┐       ┌─────┐    ┌───┐               ┌───┐     ┌────────────┐┌─┐\n",
      "«qr_0: ┤ X ├───■───┤ Sdg ├────┤ H ├───────────────┤ H ├─────┤ Rx(1.5708) ├┤M├\n",
      "«      └─┬─┘ ┌─┴─┐ ├─────┤    ├───┤           ┌───┴───┴────┐└────┬─┬─────┘└╥┘\n",
      "«qr_1: ──■───┤ X ├─┤ Sdg ├────┤ H ├───────────┤ Ry(1.5708) ├─────┤M├───────╫─\n",
      "«            ├───┤ └┬───┬┘┌───┴───┴────┐┌─┐   └────────────┘     └╥┘       ║ \n",
      "«qr_2: ──■───┤ H ├──┤ S ├─┤ Rx(1.5708) ├┤M├───────────────────────╫────────╫─\n",
      "«      ┌─┴─┐┌┴───┴┐ ├───┤ ├────────────┤└╥┘┌─┐                    ║        ║ \n",
      "«qr_3: ┤ X ├┤ Sdg ├─┤ H ├─┤ Ry(1.5708) ├─╫─┤M├────────────────────╫────────╫─\n",
      "«      └───┘└─────┘ └───┘ └────────────┘ ║ └╥┘                    ║        ║ \n",
      "«cr_0: ══════════════════════════════════╬══╬═════════════════════╬════════╩═\n",
      "«                                        ║  ║                     ║          \n",
      "«cr_1: ══════════════════════════════════╬══╬═════════════════════╩══════════\n",
      "«                                        ║  ║                                \n",
      "«cr_2: ══════════════════════════════════╩══╬════════════════════════════════\n",
      "«                                           ║                                \n",
      "«cr_3: ═════════════════════════════════════╩════════════════════════════════\n",
      "«                                                                            \n"
     ]
    }
   ],
   "source": [
    "print (rb_purity_circs[0][7][0])"
   ]
  },
  {
   "cell_type": "code",
   "execution_count": 19,
   "metadata": {},
   "outputs": [
    {
     "name": "stdout",
     "output_type": "stream",
     "text": [
      "          ┌───┐ ┌───┐┌───┐      ┌───┐                  ░                   »\n",
      "qr_0: |0>─┤ H ├─┤ H ├┤ S ├──■───┤ X ├──────────────────░───────────────────»\n",
      "          ├───┤ ├───┤└───┘┌─┴─┐ └─┬─┘ ┌───┐┌───┐┌───┐  ░  ┌───┐┌─────┐┌───┐»\n",
      "qr_1: |0>─┤ H ├─┤ S ├─────┤ X ├───■───┤ H ├┤ S ├┤ Z ├──░──┤ Z ├┤ Sdg ├┤ H ├»\n",
      "         ┌┴───┴┐├───┤     ├───┤┌─────┐├───┤├───┤└─░─┘┌───┐├───┤└┬───┬┘├───┤»\n",
      "qr_2: |0>┤ Sdg ├┤ H ├──■──┤ X ├┤ Sdg ├┤ H ├┤ X ├──░──┤ X ├┤ H ├─┤ S ├─┤ X ├»\n",
      "         └┬───┬┘├───┤┌─┴─┐└─┬─┘├─────┤├───┤└───┘  ░  ├───┤├───┤ └───┘ └─┬─┘»\n",
      "qr_3: |0>─┤ H ├─┤ S ├┤ X ├──■──┤ Sdg ├┤ H ├───────░──┤ H ├┤ S ├─────────■──»\n",
      "          └───┘ └───┘└───┘     └─────┘└───┘       ░  └───┘└───┘            »\n",
      " cr_0: 0 ══════════════════════════════════════════════════════════════════»\n",
      "                                                                           »\n",
      " cr_1: 0 ══════════════════════════════════════════════════════════════════»\n",
      "                                                                           »\n",
      " cr_2: 0 ══════════════════════════════════════════════════════════════════»\n",
      "                                                                           »\n",
      " cr_3: 0 ══════════════════════════════════════════════════════════════════»\n",
      "                                                                           »\n",
      "«      ┌───┐       ┌─────┐    ┌───┐               ┌───┐     ┌────────────┐┌─┐\n",
      "«qr_0: ┤ X ├───■───┤ Sdg ├────┤ H ├───────────────┤ H ├─────┤ Ry(1.5708) ├┤M├\n",
      "«      └─┬─┘ ┌─┴─┐ ├─────┤    ├───┤           ┌───┴───┴────┐└────┬─┬─────┘└╥┘\n",
      "«qr_1: ──■───┤ X ├─┤ Sdg ├────┤ H ├───────────┤ Ry(1.5708) ├─────┤M├───────╫─\n",
      "«            ├───┤ └┬───┬┘┌───┴───┴────┐┌─┐   └────────────┘     └╥┘       ║ \n",
      "«qr_2: ──■───┤ H ├──┤ S ├─┤ Ry(1.5708) ├┤M├───────────────────────╫────────╫─\n",
      "«      ┌─┴─┐┌┴───┴┐ ├───┤ ├────────────┤└╥┘┌─┐                    ║        ║ \n",
      "«qr_3: ┤ X ├┤ Sdg ├─┤ H ├─┤ Ry(1.5708) ├─╫─┤M├────────────────────╫────────╫─\n",
      "«      └───┘└─────┘ └───┘ └────────────┘ ║ └╥┘                    ║        ║ \n",
      "«cr_0: ══════════════════════════════════╬══╬═════════════════════╬════════╩═\n",
      "«                                        ║  ║                     ║          \n",
      "«cr_1: ══════════════════════════════════╬══╬═════════════════════╩══════════\n",
      "«                                        ║  ║                                \n",
      "«cr_2: ══════════════════════════════════╩══╬════════════════════════════════\n",
      "«                                           ║                                \n",
      "«cr_3: ═════════════════════════════════════╩════════════════════════════════\n",
      "«                                                                            \n"
     ]
    }
   ],
   "source": [
    "print (rb_purity_circs[0][8][0])"
   ]
  },
  {
   "cell_type": "code",
   "execution_count": 20,
   "metadata": {
    "collapsed": true
   },
   "outputs": [],
   "source": [
    "noise_model = NoiseModel()\n",
    "p1Q = 0.002\n",
    "p2Q = 0.01\n",
    "noise_model.add_all_qubit_quantum_error(depolarizing_error(p1Q, 1), 'u2')\n",
    "noise_model.add_all_qubit_quantum_error(depolarizing_error(2*p1Q, 1), 'u3')\n",
    "noise_model.add_all_qubit_quantum_error(depolarizing_error(p2Q, 2), 'cx')"
   ]
  },
  {
   "cell_type": "code",
   "execution_count": 21,
   "metadata": {},
   "outputs": [
    {
     "name": "stdout",
     "output_type": "stream",
     "text": [
      "Executing seed 0 purity 0 length 5\n",
      "Executing seed 0 purity 1 length 5\n",
      "Executing seed 0 purity 2 length 5\n",
      "Executing seed 0 purity 3 length 5\n",
      "Executing seed 0 purity 4 length 5\n",
      "Executing seed 0 purity 5 length 5\n",
      "Executing seed 0 purity 6 length 5\n",
      "Executing seed 0 purity 7 length 5\n",
      "Executing seed 0 purity 8 length 5\n",
      "Executing seed 1 purity 0 length 5\n",
      "Executing seed 1 purity 1 length 5\n",
      "Executing seed 1 purity 2 length 5\n",
      "Executing seed 1 purity 3 length 5\n",
      "Executing seed 1 purity 4 length 5\n",
      "Executing seed 1 purity 5 length 5\n",
      "Executing seed 1 purity 6 length 5\n",
      "Executing seed 1 purity 7 length 5\n",
      "Executing seed 1 purity 8 length 5\n",
      "Executing seed 2 purity 0 length 5\n",
      "Executing seed 2 purity 1 length 5\n",
      "Executing seed 2 purity 2 length 5\n",
      "Executing seed 2 purity 3 length 5\n",
      "Executing seed 2 purity 4 length 5\n",
      "Executing seed 2 purity 5 length 5\n",
      "Executing seed 2 purity 6 length 5\n",
      "Executing seed 2 purity 7 length 5\n",
      "Executing seed 2 purity 8 length 5\n",
      "Finished Simulating Purity RB Circuits\n"
     ]
    }
   ],
   "source": [
    "#Purity RB circuits - generation using execute - with noise\n",
    "backend = qiskit.Aer.get_backend('qasm_simulator')\n",
    "basis_gates = ['u1','u2','u3','cx'] # use U,CX for now\n",
    "shots = 200\n",
    "purity_result_list = [[] for d in range(npurity)]\n",
    "import time\n",
    "for rb_seed in range(len(rb_purity_circs)):\n",
    "    for d in range(npurity):\n",
    "        print('Executing seed %d purity %d length %d'%(rb_seed, d, len(nCliffs)))\n",
    "        new_circ = rb_purity_circs[rb_seed][d]\n",
    "        job = qiskit.execute(new_circ, backend=backend, noise_model=noise_model, basis_gates=['u1','u2','u3','cx'])\n",
    "        purity_result_list[d].append(job.result())\n",
    "        #for l in range(len(nCliffs)):\n",
    "        #    print (new_circ[l].name, job.result().get_counts(rb_purity_circs[rb_seed][d][l]))\n",
    "print(\"Finished Simulating Purity RB Circuits\")"
   ]
  },
  {
   "cell_type": "code",
   "execution_count": 22,
   "metadata": {
    "scrolled": false
   },
   "outputs": [
    {
     "name": "stdout",
     "output_type": "stream",
     "text": [
      "9\n",
      "0 0 0 rb_purity_ZZ_length_0_seed_0\n",
      "0 0 1 rb_purity_ZZ_length_1_seed_0\n",
      "0 0 2 rb_purity_ZZ_length_2_seed_0\n",
      "0 0 3 rb_purity_ZZ_length_3_seed_0\n",
      "0 0 4 rb_purity_ZZ_length_4_seed_0\n",
      "0 1 0 rb_purity_ZZ_length_0_seed_1\n",
      "0 1 1 rb_purity_ZZ_length_1_seed_1\n",
      "0 1 2 rb_purity_ZZ_length_2_seed_1\n",
      "0 1 3 rb_purity_ZZ_length_3_seed_1\n",
      "0 1 4 rb_purity_ZZ_length_4_seed_1\n",
      "0 2 0 rb_purity_ZZ_length_0_seed_2\n",
      "0 2 1 rb_purity_ZZ_length_1_seed_2\n",
      "0 2 2 rb_purity_ZZ_length_2_seed_2\n",
      "0 2 3 rb_purity_ZZ_length_3_seed_2\n",
      "0 2 4 rb_purity_ZZ_length_4_seed_2\n",
      "1 0 0 rb_purity_XZ_length_0_seed_0\n",
      "1 0 1 rb_purity_XZ_length_1_seed_0\n",
      "1 0 2 rb_purity_XZ_length_2_seed_0\n",
      "1 0 3 rb_purity_XZ_length_3_seed_0\n",
      "1 0 4 rb_purity_XZ_length_4_seed_0\n",
      "1 1 0 rb_purity_XZ_length_0_seed_1\n",
      "1 1 1 rb_purity_XZ_length_1_seed_1\n",
      "1 1 2 rb_purity_XZ_length_2_seed_1\n",
      "1 1 3 rb_purity_XZ_length_3_seed_1\n",
      "1 1 4 rb_purity_XZ_length_4_seed_1\n",
      "1 2 0 rb_purity_XZ_length_0_seed_2\n",
      "1 2 1 rb_purity_XZ_length_1_seed_2\n",
      "1 2 2 rb_purity_XZ_length_2_seed_2\n",
      "1 2 3 rb_purity_XZ_length_3_seed_2\n",
      "1 2 4 rb_purity_XZ_length_4_seed_2\n",
      "2 0 0 rb_purity_YZ_length_0_seed_0\n",
      "2 0 1 rb_purity_YZ_length_1_seed_0\n",
      "2 0 2 rb_purity_YZ_length_2_seed_0\n",
      "2 0 3 rb_purity_YZ_length_3_seed_0\n",
      "2 0 4 rb_purity_YZ_length_4_seed_0\n",
      "2 1 0 rb_purity_YZ_length_0_seed_1\n",
      "2 1 1 rb_purity_YZ_length_1_seed_1\n",
      "2 1 2 rb_purity_YZ_length_2_seed_1\n",
      "2 1 3 rb_purity_YZ_length_3_seed_1\n",
      "2 1 4 rb_purity_YZ_length_4_seed_1\n",
      "2 2 0 rb_purity_YZ_length_0_seed_2\n",
      "2 2 1 rb_purity_YZ_length_1_seed_2\n",
      "2 2 2 rb_purity_YZ_length_2_seed_2\n",
      "2 2 3 rb_purity_YZ_length_3_seed_2\n",
      "2 2 4 rb_purity_YZ_length_4_seed_2\n",
      "3 0 0 rb_purity_ZX_length_0_seed_0\n",
      "3 0 1 rb_purity_ZX_length_1_seed_0\n",
      "3 0 2 rb_purity_ZX_length_2_seed_0\n",
      "3 0 3 rb_purity_ZX_length_3_seed_0\n",
      "3 0 4 rb_purity_ZX_length_4_seed_0\n",
      "3 1 0 rb_purity_ZX_length_0_seed_1\n",
      "3 1 1 rb_purity_ZX_length_1_seed_1\n",
      "3 1 2 rb_purity_ZX_length_2_seed_1\n",
      "3 1 3 rb_purity_ZX_length_3_seed_1\n",
      "3 1 4 rb_purity_ZX_length_4_seed_1\n",
      "3 2 0 rb_purity_ZX_length_0_seed_2\n",
      "3 2 1 rb_purity_ZX_length_1_seed_2\n",
      "3 2 2 rb_purity_ZX_length_2_seed_2\n",
      "3 2 3 rb_purity_ZX_length_3_seed_2\n",
      "3 2 4 rb_purity_ZX_length_4_seed_2\n",
      "4 0 0 rb_purity_XX_length_0_seed_0\n",
      "4 0 1 rb_purity_XX_length_1_seed_0\n",
      "4 0 2 rb_purity_XX_length_2_seed_0\n",
      "4 0 3 rb_purity_XX_length_3_seed_0\n",
      "4 0 4 rb_purity_XX_length_4_seed_0\n",
      "4 1 0 rb_purity_XX_length_0_seed_1\n",
      "4 1 1 rb_purity_XX_length_1_seed_1\n",
      "4 1 2 rb_purity_XX_length_2_seed_1\n",
      "4 1 3 rb_purity_XX_length_3_seed_1\n",
      "4 1 4 rb_purity_XX_length_4_seed_1\n",
      "4 2 0 rb_purity_XX_length_0_seed_2\n",
      "4 2 1 rb_purity_XX_length_1_seed_2\n",
      "4 2 2 rb_purity_XX_length_2_seed_2\n",
      "4 2 3 rb_purity_XX_length_3_seed_2\n",
      "4 2 4 rb_purity_XX_length_4_seed_2\n",
      "5 0 0 rb_purity_YX_length_0_seed_0\n",
      "5 0 1 rb_purity_YX_length_1_seed_0\n",
      "5 0 2 rb_purity_YX_length_2_seed_0\n",
      "5 0 3 rb_purity_YX_length_3_seed_0\n",
      "5 0 4 rb_purity_YX_length_4_seed_0\n",
      "5 1 0 rb_purity_YX_length_0_seed_1\n",
      "5 1 1 rb_purity_YX_length_1_seed_1\n",
      "5 1 2 rb_purity_YX_length_2_seed_1\n",
      "5 1 3 rb_purity_YX_length_3_seed_1\n",
      "5 1 4 rb_purity_YX_length_4_seed_1\n",
      "5 2 0 rb_purity_YX_length_0_seed_2\n",
      "5 2 1 rb_purity_YX_length_1_seed_2\n",
      "5 2 2 rb_purity_YX_length_2_seed_2\n",
      "5 2 3 rb_purity_YX_length_3_seed_2\n",
      "5 2 4 rb_purity_YX_length_4_seed_2\n",
      "6 0 0 rb_purity_ZY_length_0_seed_0\n",
      "6 0 1 rb_purity_ZY_length_1_seed_0\n",
      "6 0 2 rb_purity_ZY_length_2_seed_0\n",
      "6 0 3 rb_purity_ZY_length_3_seed_0\n",
      "6 0 4 rb_purity_ZY_length_4_seed_0\n",
      "6 1 0 rb_purity_ZY_length_0_seed_1\n",
      "6 1 1 rb_purity_ZY_length_1_seed_1\n",
      "6 1 2 rb_purity_ZY_length_2_seed_1\n",
      "6 1 3 rb_purity_ZY_length_3_seed_1\n",
      "6 1 4 rb_purity_ZY_length_4_seed_1\n",
      "6 2 0 rb_purity_ZY_length_0_seed_2\n",
      "6 2 1 rb_purity_ZY_length_1_seed_2\n",
      "6 2 2 rb_purity_ZY_length_2_seed_2\n",
      "6 2 3 rb_purity_ZY_length_3_seed_2\n",
      "6 2 4 rb_purity_ZY_length_4_seed_2\n",
      "7 0 0 rb_purity_XY_length_0_seed_0\n",
      "7 0 1 rb_purity_XY_length_1_seed_0\n",
      "7 0 2 rb_purity_XY_length_2_seed_0\n",
      "7 0 3 rb_purity_XY_length_3_seed_0\n",
      "7 0 4 rb_purity_XY_length_4_seed_0\n",
      "7 1 0 rb_purity_XY_length_0_seed_1\n",
      "7 1 1 rb_purity_XY_length_1_seed_1\n",
      "7 1 2 rb_purity_XY_length_2_seed_1\n",
      "7 1 3 rb_purity_XY_length_3_seed_1\n",
      "7 1 4 rb_purity_XY_length_4_seed_1\n",
      "7 2 0 rb_purity_XY_length_0_seed_2\n",
      "7 2 1 rb_purity_XY_length_1_seed_2\n",
      "7 2 2 rb_purity_XY_length_2_seed_2\n",
      "7 2 3 rb_purity_XY_length_3_seed_2\n",
      "7 2 4 rb_purity_XY_length_4_seed_2\n",
      "8 0 0 rb_purity_YY_length_0_seed_0\n",
      "8 0 1 rb_purity_YY_length_1_seed_0\n",
      "8 0 2 rb_purity_YY_length_2_seed_0\n",
      "8 0 3 rb_purity_YY_length_3_seed_0\n",
      "8 0 4 rb_purity_YY_length_4_seed_0\n",
      "8 1 0 rb_purity_YY_length_0_seed_1\n",
      "8 1 1 rb_purity_YY_length_1_seed_1\n",
      "8 1 2 rb_purity_YY_length_2_seed_1\n",
      "8 1 3 rb_purity_YY_length_3_seed_1\n",
      "8 1 4 rb_purity_YY_length_4_seed_1\n",
      "8 2 0 rb_purity_YY_length_0_seed_2\n",
      "8 2 1 rb_purity_YY_length_1_seed_2\n",
      "8 2 2 rb_purity_YY_length_2_seed_2\n",
      "8 2 3 rb_purity_YY_length_3_seed_2\n",
      "8 2 4 rb_purity_YY_length_4_seed_2\n"
     ]
    }
   ],
   "source": [
    "# List of results\n",
    "print (len(purity_result_list))\n",
    "for i in range(len(purity_result_list)):\n",
    "    for j in range(len(rb_purity_circs)):\n",
    "        for l in range(len(nCliffs)):\n",
    "            print (i, j, l, purity_result_list[i][j].results[l].header.name)"
   ]
  },
  {
   "cell_type": "markdown",
   "metadata": {},
   "source": [
    "#Purity RB circuits - generation using compile and run - with noise\n",
    "backend = qiskit.Aer.get_backend('qasm_simulator')\n",
    "basis_gates = ['u1','u2','u3','cx'] # use U,CX for now\n",
    "shots = 200\n",
    "purity_result_list = [[] for d in range(npurity)]\n",
    "purity_qobj_list = [[] for d in range(npurity)]\n",
    "import time\n",
    "for rb_seed in range(len(rb_purity_circs)):\n",
    "    for d in range(npurity):\n",
    "        print('Compiling seed %d purity %d'%(rb_seed, d))\n",
    "        new_circ = rb_purity_circs[rb_seed][d]\n",
    "        new_rb_circ_seed = qiskit.compiler.transpile(new_circ, basis_gates=basis_gates)\n",
    "        qobj = qiskit.compiler.assemble(new_rb_circ_seed, shots=shots)\n",
    "        print('Simulating seed %d purity %d'%(rb_seed, d))\n",
    "        job = backend.run(qobj, noise_model=noise_model)\n",
    "        purity_result_list[d].append(job.result())\n",
    "        purity_qobj_list[d].append(qobj)    \n",
    "print(\"Finished Simulating Purity RB Circuits\")"
   ]
  },
  {
   "cell_type": "code",
   "execution_count": 23,
   "metadata": {},
   "outputs": [
    {
     "name": "stdout",
     "output_type": "stream",
     "text": [
      "9\n",
      "0 0 0 rb_purity_ZZ_length_0_seed_0\n",
      "0 0 1 rb_purity_ZZ_length_1_seed_0\n",
      "0 0 2 rb_purity_ZZ_length_2_seed_0\n",
      "0 0 3 rb_purity_ZZ_length_3_seed_0\n",
      "0 0 4 rb_purity_ZZ_length_4_seed_0\n",
      "0 1 0 rb_purity_ZZ_length_0_seed_1\n",
      "0 1 1 rb_purity_ZZ_length_1_seed_1\n",
      "0 1 2 rb_purity_ZZ_length_2_seed_1\n",
      "0 1 3 rb_purity_ZZ_length_3_seed_1\n",
      "0 1 4 rb_purity_ZZ_length_4_seed_1\n",
      "0 2 0 rb_purity_ZZ_length_0_seed_2\n",
      "0 2 1 rb_purity_ZZ_length_1_seed_2\n",
      "0 2 2 rb_purity_ZZ_length_2_seed_2\n",
      "0 2 3 rb_purity_ZZ_length_3_seed_2\n",
      "0 2 4 rb_purity_ZZ_length_4_seed_2\n",
      "1 0 0 rb_purity_XZ_length_0_seed_0\n",
      "1 0 1 rb_purity_XZ_length_1_seed_0\n",
      "1 0 2 rb_purity_XZ_length_2_seed_0\n",
      "1 0 3 rb_purity_XZ_length_3_seed_0\n",
      "1 0 4 rb_purity_XZ_length_4_seed_0\n",
      "1 1 0 rb_purity_XZ_length_0_seed_1\n",
      "1 1 1 rb_purity_XZ_length_1_seed_1\n",
      "1 1 2 rb_purity_XZ_length_2_seed_1\n",
      "1 1 3 rb_purity_XZ_length_3_seed_1\n",
      "1 1 4 rb_purity_XZ_length_4_seed_1\n",
      "1 2 0 rb_purity_XZ_length_0_seed_2\n",
      "1 2 1 rb_purity_XZ_length_1_seed_2\n",
      "1 2 2 rb_purity_XZ_length_2_seed_2\n",
      "1 2 3 rb_purity_XZ_length_3_seed_2\n",
      "1 2 4 rb_purity_XZ_length_4_seed_2\n",
      "2 0 0 rb_purity_YZ_length_0_seed_0\n",
      "2 0 1 rb_purity_YZ_length_1_seed_0\n",
      "2 0 2 rb_purity_YZ_length_2_seed_0\n",
      "2 0 3 rb_purity_YZ_length_3_seed_0\n",
      "2 0 4 rb_purity_YZ_length_4_seed_0\n",
      "2 1 0 rb_purity_YZ_length_0_seed_1\n",
      "2 1 1 rb_purity_YZ_length_1_seed_1\n",
      "2 1 2 rb_purity_YZ_length_2_seed_1\n",
      "2 1 3 rb_purity_YZ_length_3_seed_1\n",
      "2 1 4 rb_purity_YZ_length_4_seed_1\n",
      "2 2 0 rb_purity_YZ_length_0_seed_2\n",
      "2 2 1 rb_purity_YZ_length_1_seed_2\n",
      "2 2 2 rb_purity_YZ_length_2_seed_2\n",
      "2 2 3 rb_purity_YZ_length_3_seed_2\n",
      "2 2 4 rb_purity_YZ_length_4_seed_2\n",
      "3 0 0 rb_purity_ZX_length_0_seed_0\n",
      "3 0 1 rb_purity_ZX_length_1_seed_0\n",
      "3 0 2 rb_purity_ZX_length_2_seed_0\n",
      "3 0 3 rb_purity_ZX_length_3_seed_0\n",
      "3 0 4 rb_purity_ZX_length_4_seed_0\n",
      "3 1 0 rb_purity_ZX_length_0_seed_1\n",
      "3 1 1 rb_purity_ZX_length_1_seed_1\n",
      "3 1 2 rb_purity_ZX_length_2_seed_1\n",
      "3 1 3 rb_purity_ZX_length_3_seed_1\n",
      "3 1 4 rb_purity_ZX_length_4_seed_1\n",
      "3 2 0 rb_purity_ZX_length_0_seed_2\n",
      "3 2 1 rb_purity_ZX_length_1_seed_2\n",
      "3 2 2 rb_purity_ZX_length_2_seed_2\n",
      "3 2 3 rb_purity_ZX_length_3_seed_2\n",
      "3 2 4 rb_purity_ZX_length_4_seed_2\n",
      "4 0 0 rb_purity_XX_length_0_seed_0\n",
      "4 0 1 rb_purity_XX_length_1_seed_0\n",
      "4 0 2 rb_purity_XX_length_2_seed_0\n",
      "4 0 3 rb_purity_XX_length_3_seed_0\n",
      "4 0 4 rb_purity_XX_length_4_seed_0\n",
      "4 1 0 rb_purity_XX_length_0_seed_1\n",
      "4 1 1 rb_purity_XX_length_1_seed_1\n",
      "4 1 2 rb_purity_XX_length_2_seed_1\n",
      "4 1 3 rb_purity_XX_length_3_seed_1\n",
      "4 1 4 rb_purity_XX_length_4_seed_1\n",
      "4 2 0 rb_purity_XX_length_0_seed_2\n",
      "4 2 1 rb_purity_XX_length_1_seed_2\n",
      "4 2 2 rb_purity_XX_length_2_seed_2\n",
      "4 2 3 rb_purity_XX_length_3_seed_2\n",
      "4 2 4 rb_purity_XX_length_4_seed_2\n",
      "5 0 0 rb_purity_YX_length_0_seed_0\n",
      "5 0 1 rb_purity_YX_length_1_seed_0\n",
      "5 0 2 rb_purity_YX_length_2_seed_0\n",
      "5 0 3 rb_purity_YX_length_3_seed_0\n",
      "5 0 4 rb_purity_YX_length_4_seed_0\n",
      "5 1 0 rb_purity_YX_length_0_seed_1\n",
      "5 1 1 rb_purity_YX_length_1_seed_1\n",
      "5 1 2 rb_purity_YX_length_2_seed_1\n",
      "5 1 3 rb_purity_YX_length_3_seed_1\n",
      "5 1 4 rb_purity_YX_length_4_seed_1\n",
      "5 2 0 rb_purity_YX_length_0_seed_2\n",
      "5 2 1 rb_purity_YX_length_1_seed_2\n",
      "5 2 2 rb_purity_YX_length_2_seed_2\n",
      "5 2 3 rb_purity_YX_length_3_seed_2\n",
      "5 2 4 rb_purity_YX_length_4_seed_2\n",
      "6 0 0 rb_purity_ZY_length_0_seed_0\n",
      "6 0 1 rb_purity_ZY_length_1_seed_0\n",
      "6 0 2 rb_purity_ZY_length_2_seed_0\n",
      "6 0 3 rb_purity_ZY_length_3_seed_0\n",
      "6 0 4 rb_purity_ZY_length_4_seed_0\n",
      "6 1 0 rb_purity_ZY_length_0_seed_1\n",
      "6 1 1 rb_purity_ZY_length_1_seed_1\n",
      "6 1 2 rb_purity_ZY_length_2_seed_1\n",
      "6 1 3 rb_purity_ZY_length_3_seed_1\n",
      "6 1 4 rb_purity_ZY_length_4_seed_1\n",
      "6 2 0 rb_purity_ZY_length_0_seed_2\n",
      "6 2 1 rb_purity_ZY_length_1_seed_2\n",
      "6 2 2 rb_purity_ZY_length_2_seed_2\n",
      "6 2 3 rb_purity_ZY_length_3_seed_2\n",
      "6 2 4 rb_purity_ZY_length_4_seed_2\n",
      "7 0 0 rb_purity_XY_length_0_seed_0\n",
      "7 0 1 rb_purity_XY_length_1_seed_0\n",
      "7 0 2 rb_purity_XY_length_2_seed_0\n",
      "7 0 3 rb_purity_XY_length_3_seed_0\n",
      "7 0 4 rb_purity_XY_length_4_seed_0\n",
      "7 1 0 rb_purity_XY_length_0_seed_1\n",
      "7 1 1 rb_purity_XY_length_1_seed_1\n",
      "7 1 2 rb_purity_XY_length_2_seed_1\n",
      "7 1 3 rb_purity_XY_length_3_seed_1\n",
      "7 1 4 rb_purity_XY_length_4_seed_1\n",
      "7 2 0 rb_purity_XY_length_0_seed_2\n",
      "7 2 1 rb_purity_XY_length_1_seed_2\n",
      "7 2 2 rb_purity_XY_length_2_seed_2\n",
      "7 2 3 rb_purity_XY_length_3_seed_2\n",
      "7 2 4 rb_purity_XY_length_4_seed_2\n",
      "8 0 0 rb_purity_YY_length_0_seed_0\n",
      "8 0 1 rb_purity_YY_length_1_seed_0\n",
      "8 0 2 rb_purity_YY_length_2_seed_0\n",
      "8 0 3 rb_purity_YY_length_3_seed_0\n",
      "8 0 4 rb_purity_YY_length_4_seed_0\n",
      "8 1 0 rb_purity_YY_length_0_seed_1\n",
      "8 1 1 rb_purity_YY_length_1_seed_1\n",
      "8 1 2 rb_purity_YY_length_2_seed_1\n",
      "8 1 3 rb_purity_YY_length_3_seed_1\n",
      "8 1 4 rb_purity_YY_length_4_seed_1\n",
      "8 2 0 rb_purity_YY_length_0_seed_2\n",
      "8 2 1 rb_purity_YY_length_1_seed_2\n",
      "8 2 2 rb_purity_YY_length_2_seed_2\n",
      "8 2 3 rb_purity_YY_length_3_seed_2\n",
      "8 2 4 rb_purity_YY_length_4_seed_2\n"
     ]
    }
   ],
   "source": [
    "# List of results\n",
    "print (len(purity_result_list))\n",
    "for i in range(len(purity_result_list)):\n",
    "    for j in range(len(rb_purity_circs)):\n",
    "        for l in range(len(nCliffs)):\n",
    "            print (i, j, l, purity_result_list[i][j].results[l].header.name)"
   ]
  },
  {
   "cell_type": "code",
   "execution_count": 24,
   "metadata": {},
   "outputs": [
    {
     "name": "stdout",
     "output_type": "stream",
     "text": [
      "0\n",
      "[[[0.96484375, 0.861328125, 0.74609375, 0.6552734375, 0.6005859375], [0.9599609375, 0.83203125, 0.7421875, 0.6123046875, 0.546875], [0.95703125, 0.8564453125, 0.76953125, 0.6904296875, 0.599609375]], [[0.9541015625, 0.810546875, 0.740234375, 0.6865234375, 0.6123046875], [0.95703125, 0.8564453125, 0.7314453125, 0.6552734375, 0.6044921875], [0.9619140625, 0.837890625, 0.73046875, 0.6455078125, 0.58203125]]]\n",
      "[{'mean': array([0.96061198, 0.8499349 , 0.75260417, 0.65266927, 0.58235677]), 'std': array([0.00322249, 0.01281577, 0.01207502, 0.03194751, 0.02509257])}, {'mean': array([0.95768229, 0.83496094, 0.73404948, 0.6624349 , 0.59960938]), 'std': array([0.00322249, 0.01885213, 0.00439152, 0.01749353, 0.01283229])}]\n",
      "1\n",
      "[[[0.494140625, 0.4453125, 0.4189453125, 0.36328125, 0.3505859375], [0.4853515625, 0.4482421875, 0.4033203125, 0.4052734375, 0.3701171875], [0.44921875, 0.4580078125, 0.423828125, 0.3974609375, 0.3857421875]], [[0.4755859375, 0.4560546875, 0.4033203125, 0.380859375, 0.3720703125], [0.4931640625, 0.4365234375, 0.412109375, 0.4208984375, 0.3564453125], [0.4951171875, 0.4345703125, 0.390625, 0.380859375, 0.3779296875]]]\n",
      "[{'mean': array([0.47623698, 0.45052083, 0.41536458, 0.38867188, 0.3688151 ]), 'std': array([0.0194388 , 0.00542752, 0.00874676, 0.01823498, 0.01438198])}, {'mean': array([0.48795573, 0.44238281, 0.40201823, 0.39420573, 0.3688151 ]), 'std': array([0.00878303, 0.0097003 , 0.00881915, 0.0188746 , 0.00906796])}]\n",
      "2\n",
      "[[[0.5107421875, 0.4326171875, 0.4287109375, 0.38671875, 0.3388671875], [0.4912109375, 0.4375, 0.3994140625, 0.4052734375, 0.357421875], [0.474609375, 0.4404296875, 0.3994140625, 0.42578125, 0.3544921875]], [[0.501953125, 0.4296875, 0.421875, 0.3857421875, 0.3330078125], [0.4345703125, 0.4306640625, 0.4169921875, 0.419921875, 0.3681640625], [0.5078125, 0.439453125, 0.4091796875, 0.3935546875, 0.345703125]]]\n",
      "[{'mean': array([0.4921875 , 0.43684896, 0.40917969, 0.40592448, 0.35026042]), 'std': array([0.01476731, 0.00322249, 0.01381068, 0.01595384, 0.00814453])}, {'mean': array([0.48144531, 0.43326823, 0.41601562, 0.39973958, 0.34895833]), 'std': array([0.03323184, 0.00439152, 0.00522864, 0.0146231 , 0.01453588])}]\n",
      "3\n",
      "[[[0.4921875, 0.4189453125, 0.412109375, 0.38671875, 0.36328125], [0.4814453125, 0.4404296875, 0.3994140625, 0.3662109375, 0.38671875], [0.4765625, 0.4716796875, 0.42578125, 0.390625, 0.37109375]], [[0.470703125, 0.4345703125, 0.4091796875, 0.3828125, 0.3525390625], [0.4443359375, 0.421875, 0.373046875, 0.3759765625, 0.3603515625], [0.4873046875, 0.4453125, 0.4111328125, 0.375, 0.3505859375]]]\n",
      "[{'mean': array([0.48339844, 0.4436849 , 0.4124349 , 0.3811849 , 0.37369792]), 'std': array([0.00652667, 0.02165142, 0.01076682, 0.01070761, 0.0097439 ])}, {'mean': array([0.46744792, 0.43391927, 0.39778646, 0.37792969, 0.35449219]), 'std': array([0.01769229, 0.00957939, 0.01751169, 0.00347561, 0.00421923])}]\n",
      "4\n",
      "[[[0.271484375, 0.2529296875, 0.2490234375, 0.259765625, 0.2763671875], [0.2490234375, 0.2421875, 0.2529296875, 0.271484375, 0.26953125], [0.2607421875, 0.26953125, 0.2568359375, 0.240234375, 0.2431640625]], [[0.2587890625, 0.265625, 0.267578125, 0.2421875, 0.2451171875], [0.234375, 0.2548828125, 0.232421875, 0.23828125, 0.2333984375], [0.2265625, 0.255859375, 0.2578125, 0.2568359375, 0.25]]]\n",
      "[{'mean': array([0.26041667, 0.25488281, 0.25292969, 0.25716146, 0.26302083]), 'std': array([0.00917253, 0.01124815, 0.00318944, 0.01288997, 0.01431552])}, {'mean': array([0.23990885, 0.25878906, 0.25260417, 0.24576823, 0.24283854]), 'std': array([0.01372602, 0.00485015, 0.01481746, 0.00798688, 0.00696645])}]\n",
      "5\n",
      "[[[0.26171875, 0.267578125, 0.236328125, 0.2412109375, 0.2509765625], [0.240234375, 0.2333984375, 0.25390625, 0.2568359375, 0.26171875], [0.2529296875, 0.2568359375, 0.2421875, 0.2333984375, 0.248046875]], [[0.2568359375, 0.25, 0.255859375, 0.267578125, 0.259765625], [0.2529296875, 0.240234375, 0.255859375, 0.26171875, 0.25390625], [0.2509765625, 0.2373046875, 0.25, 0.26171875, 0.25]]]\n",
      "[{'mean': array([0.2516276 , 0.25260417, 0.24414062, 0.2438151 , 0.25358073]), 'std': array([0.00881915, 0.01427104, 0.00730792, 0.0097439 , 0.00587743])}, {'mean': array([0.25358073, 0.24251302, 0.25390625, 0.26367188, 0.25455729]), 'std': array([0.00243597, 0.00542752, 0.00276214, 0.00276214, 0.00401329])}]\n",
      "6\n",
      "[[[0.4736328125, 0.4599609375, 0.43359375, 0.4033203125, 0.36328125], [0.4951171875, 0.4462890625, 0.3935546875, 0.37890625, 0.3662109375], [0.4951171875, 0.439453125, 0.41796875, 0.404296875, 0.3828125]], [[0.4755859375, 0.44140625, 0.41796875, 0.3798828125, 0.3525390625], [0.4560546875, 0.4287109375, 0.4296875, 0.3896484375, 0.328125], [0.484375, 0.4501953125, 0.4482421875, 0.3671875, 0.37890625]]]\n",
      "[{'mean': array([0.48795573, 0.44856771, 0.41503906, 0.39550781, 0.37076823]), 'std': array([0.01012783, 0.00852591, 0.01647663, 0.01174585, 0.00860016])}, {'mean': array([0.47200521, 0.44010417, 0.43196615, 0.37890625, 0.3531901 ]), 'std': array([0.01183572, 0.00881915, 0.01246367, 0.0091956 , 0.02073647])}]\n",
      "7\n",
      "[[[0.2509765625, 0.2470703125, 0.2451171875, 0.2431640625, 0.2431640625], [0.2314453125, 0.2509765625, 0.2451171875, 0.2841796875, 0.2490234375], [0.216796875, 0.259765625, 0.2568359375, 0.25, 0.2421875]], [[0.2666015625, 0.263671875, 0.251953125, 0.2607421875, 0.2548828125], [0.2333984375, 0.236328125, 0.2578125, 0.23828125, 0.2412109375], [0.2548828125, 0.251953125, 0.251953125, 0.24609375, 0.23828125]]]\n",
      "[{'mean': array([0.23307292, 0.25260417, 0.24902344, 0.25911458, 0.24479167]), 'std': array([0.01400118, 0.00530908, 0.00552427, 0.01794208, 0.00301876])}, {'mean': array([0.2516276 , 0.25065104, 0.25390625, 0.2483724 , 0.24479167]), 'std': array([0.01374916, 0.01120094, 0.00276214, 0.00931012, 0.00723506])}]\n",
      "8\n",
      "[[[0.2470703125, 0.2431640625, 0.255859375, 0.2626953125, 0.2529296875], [0.2529296875, 0.2587890625, 0.2841796875, 0.25390625, 0.265625], [0.2529296875, 0.2646484375, 0.2626953125, 0.244140625, 0.2490234375]], [[0.2578125, 0.2421875, 0.2568359375, 0.2451171875, 0.265625], [0.26171875, 0.2470703125, 0.2490234375, 0.2568359375, 0.2392578125], [0.259765625, 0.244140625, 0.26171875, 0.2705078125, 0.248046875]]]\n",
      "[{'mean': array([0.25097656, 0.25553385, 0.26757812, 0.25358073, 0.25585938]), 'std': array([0.00276214, 0.00906796, 0.01206625, 0.00757842, 0.00708709])}, {'mean': array([0.25976562, 0.24446615, 0.25585938, 0.25748698, 0.25097656]), 'std': array([0.00159472, 0.00200665, 0.00522864, 0.0103759 , 0.01096189])}]\n"
     ]
    }
   ],
   "source": [
    "for i in range(len(purity_result_list)):\n",
    "    print (i)\n",
    "    print (rb.RBFitter(purity_result_list[i], xdata, rb_opts['rb_pattern']).raw_data)\n",
    "    print (rb.RBFitter(purity_result_list[i], xdata, rb_opts['rb_pattern']).ydata)"
   ]
  },
  {
   "cell_type": "code",
   "execution_count": 25,
   "metadata": {},
   "outputs": [
    {
     "name": "stdout",
     "output_type": "stream",
     "text": [
      "0 [[[0.96484375, 0.861328125, 0.74609375, 0.6552734375, 0.6005859375], [0.9599609375, 0.83203125, 0.7421875, 0.6123046875, 0.546875], [0.95703125, 0.8564453125, 0.76953125, 0.6904296875, 0.599609375]], [[0.9541015625, 0.810546875, 0.740234375, 0.6865234375, 0.6123046875], [0.95703125, 0.8564453125, 0.7314453125, 0.6552734375, 0.6044921875], [0.9619140625, 0.837890625, 0.73046875, 0.6455078125, 0.58203125]]]\n",
      "1 [[[0.494140625, 0.4453125, 0.4189453125, 0.36328125, 0.3505859375], [0.4853515625, 0.4482421875, 0.4033203125, 0.4052734375, 0.3701171875], [0.44921875, 0.4580078125, 0.423828125, 0.3974609375, 0.3857421875]], [[0.4755859375, 0.4560546875, 0.4033203125, 0.380859375, 0.3720703125], [0.4931640625, 0.4365234375, 0.412109375, 0.4208984375, 0.3564453125], [0.4951171875, 0.4345703125, 0.390625, 0.380859375, 0.3779296875]]]\n",
      "2 [[[0.5107421875, 0.4326171875, 0.4287109375, 0.38671875, 0.3388671875], [0.4912109375, 0.4375, 0.3994140625, 0.4052734375, 0.357421875], [0.474609375, 0.4404296875, 0.3994140625, 0.42578125, 0.3544921875]], [[0.501953125, 0.4296875, 0.421875, 0.3857421875, 0.3330078125], [0.4345703125, 0.4306640625, 0.4169921875, 0.419921875, 0.3681640625], [0.5078125, 0.439453125, 0.4091796875, 0.3935546875, 0.345703125]]]\n",
      "3 [[[0.4921875, 0.4189453125, 0.412109375, 0.38671875, 0.36328125], [0.4814453125, 0.4404296875, 0.3994140625, 0.3662109375, 0.38671875], [0.4765625, 0.4716796875, 0.42578125, 0.390625, 0.37109375]], [[0.470703125, 0.4345703125, 0.4091796875, 0.3828125, 0.3525390625], [0.4443359375, 0.421875, 0.373046875, 0.3759765625, 0.3603515625], [0.4873046875, 0.4453125, 0.4111328125, 0.375, 0.3505859375]]]\n",
      "4 [[[0.271484375, 0.2529296875, 0.2490234375, 0.259765625, 0.2763671875], [0.2490234375, 0.2421875, 0.2529296875, 0.271484375, 0.26953125], [0.2607421875, 0.26953125, 0.2568359375, 0.240234375, 0.2431640625]], [[0.2587890625, 0.265625, 0.267578125, 0.2421875, 0.2451171875], [0.234375, 0.2548828125, 0.232421875, 0.23828125, 0.2333984375], [0.2265625, 0.255859375, 0.2578125, 0.2568359375, 0.25]]]\n",
      "5 [[[0.26171875, 0.267578125, 0.236328125, 0.2412109375, 0.2509765625], [0.240234375, 0.2333984375, 0.25390625, 0.2568359375, 0.26171875], [0.2529296875, 0.2568359375, 0.2421875, 0.2333984375, 0.248046875]], [[0.2568359375, 0.25, 0.255859375, 0.267578125, 0.259765625], [0.2529296875, 0.240234375, 0.255859375, 0.26171875, 0.25390625], [0.2509765625, 0.2373046875, 0.25, 0.26171875, 0.25]]]\n",
      "6 [[[0.4736328125, 0.4599609375, 0.43359375, 0.4033203125, 0.36328125], [0.4951171875, 0.4462890625, 0.3935546875, 0.37890625, 0.3662109375], [0.4951171875, 0.439453125, 0.41796875, 0.404296875, 0.3828125]], [[0.4755859375, 0.44140625, 0.41796875, 0.3798828125, 0.3525390625], [0.4560546875, 0.4287109375, 0.4296875, 0.3896484375, 0.328125], [0.484375, 0.4501953125, 0.4482421875, 0.3671875, 0.37890625]]]\n",
      "7 [[[0.2509765625, 0.2470703125, 0.2451171875, 0.2431640625, 0.2431640625], [0.2314453125, 0.2509765625, 0.2451171875, 0.2841796875, 0.2490234375], [0.216796875, 0.259765625, 0.2568359375, 0.25, 0.2421875]], [[0.2666015625, 0.263671875, 0.251953125, 0.2607421875, 0.2548828125], [0.2333984375, 0.236328125, 0.2578125, 0.23828125, 0.2412109375], [0.2548828125, 0.251953125, 0.251953125, 0.24609375, 0.23828125]]]\n",
      "8 [[[0.2470703125, 0.2431640625, 0.255859375, 0.2626953125, 0.2529296875], [0.2529296875, 0.2587890625, 0.2841796875, 0.25390625, 0.265625], [0.2529296875, 0.2646484375, 0.2626953125, 0.244140625, 0.2490234375]], [[0.2578125, 0.2421875, 0.2568359375, 0.2451171875, 0.265625], [0.26171875, 0.2470703125, 0.2490234375, 0.2568359375, 0.2392578125], [0.259765625, 0.244140625, 0.26171875, 0.2705078125, 0.248046875]]]\n"
     ]
    }
   ],
   "source": [
    "rbfit_purity = [[] for d in range(npurity)]\n",
    "for d in range(npurity):\n",
    "    rbfit_purity[d] = rb.RBFitter(purity_result_list[d], xdata, rb_opts['rb_pattern'])\n",
    "    print (d, rbfit_purity[d].raw_data)"
   ]
  },
  {
   "cell_type": "code",
   "execution_count": 26,
   "metadata": {},
   "outputs": [],
   "source": [
    "rbfit_purity1 = rb.PurityRBFitter(purity_result_list, npurity, xdata, rb_opts['rb_pattern'])"
   ]
  },
  {
   "cell_type": "code",
   "execution_count": 27,
   "metadata": {},
   "outputs": [
    {
     "name": "stdout",
     "output_type": "stream",
     "text": [
      "[[[[0.96484375, 0.861328125, 0.74609375, 0.6552734375, 0.6005859375], [0.9599609375, 0.83203125, 0.7421875, 0.6123046875, 0.546875], [0.95703125, 0.8564453125, 0.76953125, 0.6904296875, 0.599609375]], [[0.9541015625, 0.810546875, 0.740234375, 0.6865234375, 0.6123046875], [0.95703125, 0.8564453125, 0.7314453125, 0.6552734375, 0.6044921875], [0.9619140625, 0.837890625, 0.73046875, 0.6455078125, 0.58203125]]], [[[0.494140625, 0.4453125, 0.4189453125, 0.36328125, 0.3505859375], [0.4853515625, 0.4482421875, 0.4033203125, 0.4052734375, 0.3701171875], [0.44921875, 0.4580078125, 0.423828125, 0.3974609375, 0.3857421875]], [[0.4755859375, 0.4560546875, 0.4033203125, 0.380859375, 0.3720703125], [0.4931640625, 0.4365234375, 0.412109375, 0.4208984375, 0.3564453125], [0.4951171875, 0.4345703125, 0.390625, 0.380859375, 0.3779296875]]], [[[0.5107421875, 0.4326171875, 0.4287109375, 0.38671875, 0.3388671875], [0.4912109375, 0.4375, 0.3994140625, 0.4052734375, 0.357421875], [0.474609375, 0.4404296875, 0.3994140625, 0.42578125, 0.3544921875]], [[0.501953125, 0.4296875, 0.421875, 0.3857421875, 0.3330078125], [0.4345703125, 0.4306640625, 0.4169921875, 0.419921875, 0.3681640625], [0.5078125, 0.439453125, 0.4091796875, 0.3935546875, 0.345703125]]], [[[0.4921875, 0.4189453125, 0.412109375, 0.38671875, 0.36328125], [0.4814453125, 0.4404296875, 0.3994140625, 0.3662109375, 0.38671875], [0.4765625, 0.4716796875, 0.42578125, 0.390625, 0.37109375]], [[0.470703125, 0.4345703125, 0.4091796875, 0.3828125, 0.3525390625], [0.4443359375, 0.421875, 0.373046875, 0.3759765625, 0.3603515625], [0.4873046875, 0.4453125, 0.4111328125, 0.375, 0.3505859375]]], [[[0.271484375, 0.2529296875, 0.2490234375, 0.259765625, 0.2763671875], [0.2490234375, 0.2421875, 0.2529296875, 0.271484375, 0.26953125], [0.2607421875, 0.26953125, 0.2568359375, 0.240234375, 0.2431640625]], [[0.2587890625, 0.265625, 0.267578125, 0.2421875, 0.2451171875], [0.234375, 0.2548828125, 0.232421875, 0.23828125, 0.2333984375], [0.2265625, 0.255859375, 0.2578125, 0.2568359375, 0.25]]], [[[0.26171875, 0.267578125, 0.236328125, 0.2412109375, 0.2509765625], [0.240234375, 0.2333984375, 0.25390625, 0.2568359375, 0.26171875], [0.2529296875, 0.2568359375, 0.2421875, 0.2333984375, 0.248046875]], [[0.2568359375, 0.25, 0.255859375, 0.267578125, 0.259765625], [0.2529296875, 0.240234375, 0.255859375, 0.26171875, 0.25390625], [0.2509765625, 0.2373046875, 0.25, 0.26171875, 0.25]]], [[[0.4736328125, 0.4599609375, 0.43359375, 0.4033203125, 0.36328125], [0.4951171875, 0.4462890625, 0.3935546875, 0.37890625, 0.3662109375], [0.4951171875, 0.439453125, 0.41796875, 0.404296875, 0.3828125]], [[0.4755859375, 0.44140625, 0.41796875, 0.3798828125, 0.3525390625], [0.4560546875, 0.4287109375, 0.4296875, 0.3896484375, 0.328125], [0.484375, 0.4501953125, 0.4482421875, 0.3671875, 0.37890625]]], [[[0.2509765625, 0.2470703125, 0.2451171875, 0.2431640625, 0.2431640625], [0.2314453125, 0.2509765625, 0.2451171875, 0.2841796875, 0.2490234375], [0.216796875, 0.259765625, 0.2568359375, 0.25, 0.2421875]], [[0.2666015625, 0.263671875, 0.251953125, 0.2607421875, 0.2548828125], [0.2333984375, 0.236328125, 0.2578125, 0.23828125, 0.2412109375], [0.2548828125, 0.251953125, 0.251953125, 0.24609375, 0.23828125]]], [[[0.2470703125, 0.2431640625, 0.255859375, 0.2626953125, 0.2529296875], [0.2529296875, 0.2587890625, 0.2841796875, 0.25390625, 0.265625], [0.2529296875, 0.2646484375, 0.2626953125, 0.244140625, 0.2490234375]], [[0.2578125, 0.2421875, 0.2568359375, 0.2451171875, 0.265625], [0.26171875, 0.2470703125, 0.2490234375, 0.2568359375, 0.2392578125], [0.259765625, 0.244140625, 0.26171875, 0.2705078125, 0.248046875]]]]\n",
      "[[0, 1, 2], [0, 1, 2], [0, 1, 2], [0, 1, 2], [0, 1, 2], [0, 1, 2], [0, 1, 2], [0, 1, 2], [0, 1, 2]]\n",
      "[{}, {}]\n",
      "[[{'params': array([ 1.14842558,  0.98732312, -0.17326045]), 'params_err': array([0.17248845, 0.00220892, 0.17292262]), 'epc': 0.009507663362482544, 'epc_err': 2.1271295129436704e-05}, {'params': array([0.57740974, 0.96864364, 0.39839716]), 'params_err': array([0.0161628 , 0.00125911, 0.01642731]), 'epc': 0.02351727210157431, 'epc_err': 3.056946579033417e-05}], [{'params': array([0.32136911, 0.98571844, 0.16662168]), 'params_err': array([0.22803009, 0.01329879, 0.23429472]), 'epc': 0.010711168717852465, 'epc_err': 0.00014450943398033807}, {'params': array([0.15678629, 0.95078441, 0.33952631]), 'params_err': array([0.01710765, 0.01196432, 0.01871101]), 'epc': 0.03691168955433827, 'epc_err': 0.00046448317150412407}], [{'params': array([0.21014485, 0.96997145, 0.2783511 ]), 'params_err': array([0.11499901, 0.03365208, 0.13494517]), 'epc': 0.02252141117150913, 'epc_err': 0.0007813553371266899}, {'params': array([ 2.        ,  0.99848266, -1.53693321]), 'params_err': array([6.07521538e+01, 4.73379752e-02, 6.07707925e+01]), 'epc': 0.001138002539695565, 'epc_err': 5.395260031984508e-05}], [{'params': array([0.15964163, 0.95949461, 0.33045038]), 'params_err': array([0.02756961, 0.01338618, 0.02884168]), 'epc': 0.030379040022346565, 'epc_err': 0.00042382645789942327}, {'params': array([0.28596421, 0.98415805, 0.1858149 ]), 'params_err': array([0.0614381 , 0.00482729, 0.06412484]), 'epc': 0.011881466099252974, 'epc_err': 5.827849131670049e-05}], [{'params': array([0.00986984, 0.68582746, 0.25366201]), 'params_err': array([0.02485834, 1.7292931 , 0.00184533]), 'epc': 0.2356294019060437, 'epc_err': 0.5941323733240758}, {'params': array([ 1.99999991,  0.99975447, -1.74017795]), 'params_err': array([1.63324467e+03, 2.01431339e-01, 1.63325692e+03]), 'epc': 0.00018414956591131237, 'epc_err': 3.710260351481892e-05}], [{'params': array([-1.75219035,  0.99995381,  2.        ]), 'params_err': array([2.48116516e+04, 6.54559134e-01, 2.48116564e+04]), 'epc': 3.464031023192593e-05, 'epc_err': 2.2675178761796458e-05}, {'params': array([-0.82502235,  0.99970623,  1.07691528]), 'params_err': array([7.46154244e+02, 2.66824408e-01, 7.46157379e+02]), 'epc': 0.00022032614563743946, 'epc_err': 5.880566858378985e-05}], [{'params': array([0.21107676, 0.97440912, 0.28187414]), 'params_err': array([0.02961826, 0.00580572, 0.03118888]), 'epc': 0.019193160839834522, 'epc_err': 0.00011435661750424244}, {'params': array([ 1.99999998,  0.99808617, -1.52244717]), 'params_err': array([3.70876317e+01, 3.65254000e-02, 3.70973971e+01]), 'epc': 0.0014353688082621718, 'epc_err': 5.252794920719311e-05}], [{'params': array([ 1.99999985,  0.99990635, -1.74845527]), 'params_err': array([8.65587501e+03, 4.06087374e-01, 8.65588700e+03]), 'epc': 7.023683661744329e-05, 'epc_err': 2.852496385885744e-05}, {'params': array([ 1.99999719,  0.99982437, -1.74120697]), 'params_err': array([1.22241716e+03, 1.07720389e-01, 1.22242412e+03]), 'epc': 0.0001317208090471922, 'epc_err': 1.4191509249002886e-05}], [{'params': array([-0.00796398,  0.70583482,  0.25659582]), 'params_err': array([0.01938858, 1.86159714, 0.00345552]), 'epc': 0.2206238858113092, 'epc_err': 0.5818823105425618}, {'params': array([0.09958371, 0.13398567, 0.24642251]), 'params_err': array([7.13254296e+04, 9.59654112e+04, 7.13524372e-03]), 'epc': 0.6495107489335371, 'epc_err': 465203.2341605774}]]\n",
      "<function RBFitter._rb_fit_fun at 0x7f0e04dbff28>\n",
      "[[Result(backend_name='qasm_simulator', backend_version='0.1.1', date=datetime.datetime(2019, 6, 20, 15, 15, 8, 161945), header=Obj(backend_name='qasm_simulator', backend_version='0.1.1'), job_id='b5320752-67d9-4411-aa23-0961fe0f8838', metadata={'omp_available_threads': 4, 'omp_circuit_threads': 1, 'omp_enabled': True, 'time_taken': 10.308666449}, qobj_id='be396577-50a8-43fb-af19-bbbcb533c670', results=[ExperimentResult(data=ExperimentResultData(counts=Obj(0x0=942, 0x1=16, 0x2=13, 0x3=6, 0x4=11, 0x8=19, 0xb=1, 0xc=16)), header=Obj(clbit_labels=[['cr', 0], ['cr', 1], ['cr', 2], ['cr', 3]], creg_sizes=[['cr', 4]], memory_slots=4, n_qubits=4, name='rb_purity_ZZ_length_0_seed_0', qreg_sizes=[['qr', 4]], qubit_labels=[['qr', 0], ['qr', 1], ['qr', 2], ['qr', 3]]), meas_level=2, metadata={'method': 'statevector', 'omp_shot_threads': 1, 'omp_state_threads': 4}, seed=1952960434, shots=1024, status='DONE', success=True, time_taken=0.23043865200000002), ExperimentResult(data=ExperimentResultData(counts=Obj(0x0=716, 0x1=35, 0x2=40, 0x3=39, 0x4=64, 0x5=6, 0x6=1, 0x7=5, 0x8=52, 0x9=3, 0xa=1, 0xb=4, 0xc=50, 0xd=3, 0xe=4, 0xf=1)), header=Obj(clbit_labels=[['cr', 0], ['cr', 1], ['cr', 2], ['cr', 3]], creg_sizes=[['cr', 4]], memory_slots=4, n_qubits=4, name='rb_purity_ZZ_length_1_seed_0', qreg_sizes=[['qr', 4]], qubit_labels=[['qr', 0], ['qr', 1], ['qr', 2], ['qr', 3]]), meas_level=2, metadata={'method': 'statevector', 'omp_shot_threads': 1, 'omp_state_threads': 4}, seed=1616258202, shots=1024, status='DONE', success=True, time_taken=0.892369245), ExperimentResult(data=ExperimentResultData(counts=Obj(0x0=558, 0x1=70, 0x2=64, 0x3=66, 0x4=68, 0x5=9, 0x6=4, 0x7=6, 0x8=70, 0x9=8, 0xa=5, 0xb=10, 0xc=68, 0xd=14, 0xe=1, 0xf=3)), header=Obj(clbit_labels=[['cr', 0], ['cr', 1], ['cr', 2], ['cr', 3]], creg_sizes=[['cr', 4]], memory_slots=4, n_qubits=4, name='rb_purity_ZZ_length_2_seed_0', qreg_sizes=[['qr', 4]], qubit_labels=[['qr', 0], ['qr', 1], ['qr', 2], ['qr', 3]]), meas_level=2, metadata={'method': 'statevector', 'omp_shot_threads': 1, 'omp_state_threads': 4}, seed=2397340748, shots=1024, status='DONE', success=True, time_taken=1.898244126), ExperimentResult(data=ExperimentResultData(counts=Obj(0x0=477, 0x1=79, 0x2=84, 0x3=63, 0x4=74, 0x5=17, 0x6=13, 0x7=18, 0x8=58, 0x9=14, 0xa=11, 0xb=12, 0xc=62, 0xd=16, 0xe=17, 0xf=9)), header=Obj(clbit_labels=[['cr', 0], ['cr', 1], ['cr', 2], ['cr', 3]], creg_sizes=[['cr', 4]], memory_slots=4, n_qubits=4, name='rb_purity_ZZ_length_3_seed_0', qreg_sizes=[['qr', 4]], qubit_labels=[['qr', 0], ['qr', 1], ['qr', 2], ['qr', 3]]), meas_level=2, metadata={'method': 'statevector', 'omp_shot_threads': 1, 'omp_state_threads': 4}, seed=978140484, shots=1024, status='DONE', success=True, time_taken=3.634518393), ExperimentResult(data=ExperimentResultData(counts=Obj(0x0=382, 0x1=86, 0x2=87, 0x3=72, 0x4=83, 0x5=19, 0x6=19, 0x7=24, 0x8=76, 0x9=17, 0xa=14, 0xb=19, 0xc=74, 0xd=18, 0xe=17, 0xf=17)), header=Obj(clbit_labels=[['cr', 0], ['cr', 1], ['cr', 2], ['cr', 3]], creg_sizes=[['cr', 4]], memory_slots=4, n_qubits=4, name='rb_purity_ZZ_length_4_seed_0', qreg_sizes=[['qr', 4]], qubit_labels=[['qr', 0], ['qr', 1], ['qr', 2], ['qr', 3]]), meas_level=2, metadata={'method': 'statevector', 'omp_shot_threads': 1, 'omp_state_threads': 4}, seed=3793202466, shots=1024, status='DONE', success=True, time_taken=3.6462520990000002)], status='COMPLETED', success=True, time_taken=10.454693794250488), Result(backend_name='qasm_simulator', backend_version='0.1.1', date=datetime.datetime(2019, 6, 20, 15, 17, 10, 328743), header=Obj(backend_name='qasm_simulator', backend_version='0.1.1'), job_id='217210cb-0a9e-42c5-ab3f-034b0aa1b054', metadata={'omp_available_threads': 4, 'omp_circuit_threads': 1, 'omp_enabled': True, 'time_taken': 11.250171337000001}, qobj_id='420f18e1-bc52-4e06-97e1-2538548e3086', results=[ExperimentResult(data=ExperimentResultData(counts=Obj(0x0=942, 0x1=10, 0x2=12, 0x3=16, 0x4=15, 0x5=1, 0x6=1, 0x7=1, 0x8=9, 0xc=17)), header=Obj(clbit_labels=[['cr', 0], ['cr', 1], ['cr', 2], ['cr', 3]], creg_sizes=[['cr', 4]], memory_slots=4, n_qubits=4, name='rb_purity_ZZ_length_0_seed_1', qreg_sizes=[['qr', 4]], qubit_labels=[['qr', 0], ['qr', 1], ['qr', 2], ['qr', 3]]), meas_level=2, metadata={'method': 'statevector', 'omp_shot_threads': 1, 'omp_state_threads': 4}, seed=2972147575, shots=1024, status='DONE', success=True, time_taken=0.18610123), ExperimentResult(data=ExperimentResultData(counts=Obj(0x0=729, 0x1=44, 0x2=45, 0x3=59, 0x4=35, 0x5=2, 0x6=1, 0x7=4, 0x8=30, 0x9=2, 0xa=3, 0xb=4, 0xc=58, 0xe=4, 0xf=4)), header=Obj(clbit_labels=[['cr', 0], ['cr', 1], ['cr', 2], ['cr', 3]], creg_sizes=[['cr', 4]], memory_slots=4, n_qubits=4, name='rb_purity_ZZ_length_1_seed_1', qreg_sizes=[['qr', 4]], qubit_labels=[['qr', 0], ['qr', 1], ['qr', 2], ['qr', 3]]), meas_level=2, metadata={'method': 'statevector', 'omp_shot_threads': 1, 'omp_state_threads': 4}, seed=1763937010, shots=1024, status='DONE', success=True, time_taken=1.091591817), ExperimentResult(data=ExperimentResultData(counts=Obj(0x0=554, 0x1=69, 0x2=58, 0x3=68, 0x4=78, 0x5=11, 0x6=6, 0x7=5, 0x8=60, 0x9=9, 0xa=12, 0xb=6, 0xc=68, 0xd=5, 0xe=8, 0xf=7)), header=Obj(clbit_labels=[['cr', 0], ['cr', 1], ['cr', 2], ['cr', 3]], creg_sizes=[['cr', 4]], memory_slots=4, n_qubits=4, name='rb_purity_ZZ_length_2_seed_1', qreg_sizes=[['qr', 4]], qubit_labels=[['qr', 0], ['qr', 1], ['qr', 2], ['qr', 3]]), meas_level=2, metadata={'method': 'statevector', 'omp_shot_threads': 1, 'omp_state_threads': 4}, seed=1009842541, shots=1024, status='DONE', success=True, time_taken=2.2649917150000003), ExperimentResult(data=ExperimentResultData(counts=Obj(0x0=415, 0x1=92, 0x2=72, 0x3=92, 0x4=78, 0x5=17, 0x6=15, 0x7=19, 0x8=53, 0x9=15, 0xa=8, 0xb=13, 0xc=81, 0xd=15, 0xe=21, 0xf=18)), header=Obj(clbit_labels=[['cr', 0], ['cr', 1], ['cr', 2], ['cr', 3]], creg_sizes=[['cr', 4]], memory_slots=4, n_qubits=4, name='rb_purity_ZZ_length_3_seed_1', qreg_sizes=[['qr', 4]], qubit_labels=[['qr', 0], ['qr', 1], ['qr', 2], ['qr', 3]]), meas_level=2, metadata={'method': 'statevector', 'omp_shot_threads': 1, 'omp_state_threads': 4}, seed=2152179068, shots=1024, status='DONE', success=True, time_taken=3.392433092), ExperimentResult(data=ExperimentResultData(counts=Obj(0x0=334, 0x1=98, 0x2=93, 0x3=94, 0x4=84, 0x5=21, 0x6=13, 0x7=17, 0x8=78, 0x9=22, 0xa=24, 0xb=12, 0xc=64, 0xd=19, 0xe=25, 0xf=26)), header=Obj(clbit_labels=[['cr', 0], ['cr', 1], ['cr', 2], ['cr', 3]], creg_sizes=[['cr', 4]], memory_slots=4, n_qubits=4, name='rb_purity_ZZ_length_4_seed_1', qreg_sizes=[['qr', 4]], qubit_labels=[['qr', 0], ['qr', 1], ['qr', 2], ['qr', 3]]), meas_level=2, metadata={'method': 'statevector', 'omp_shot_threads': 1, 'omp_state_threads': 4}, seed=506371206, shots=1024, status='DONE', success=True, time_taken=4.311453142)], status='COMPLETED', success=True, time_taken=11.420085906982422), Result(backend_name='qasm_simulator', backend_version='0.1.1', date=datetime.datetime(2019, 6, 20, 15, 19, 5, 821921), header=Obj(backend_name='qasm_simulator', backend_version='0.1.1'), job_id='46591523-04dc-4660-b99f-56c4c16338d6', metadata={'omp_available_threads': 4, 'omp_circuit_threads': 1, 'omp_enabled': True, 'time_taken': 9.315432443}, qobj_id='7ea2e1ac-84f2-4529-b979-d5e301f231df', results=[ExperimentResult(data=ExperimentResultData(counts=Obj(0x0=941, 0x1=12, 0x2=20, 0x3=12, 0x4=12, 0x8=11, 0xc=16)), header=Obj(clbit_labels=[['cr', 0], ['cr', 1], ['cr', 2], ['cr', 3]], creg_sizes=[['cr', 4]], memory_slots=4, n_qubits=4, name='rb_purity_ZZ_length_0_seed_2', qreg_sizes=[['qr', 4]], qubit_labels=[['qr', 0], ['qr', 1], ['qr', 2], ['qr', 3]]), meas_level=2, metadata={'method': 'statevector', 'omp_shot_threads': 1, 'omp_state_threads': 4}, seed=1908006525, shots=1024, status='DONE', success=True, time_taken=0.28707280500000004), ExperimentResult(data=ExperimentResultData(counts=Obj(0x0=731, 0x1=39, 0x2=37, 0x3=51, 0x4=41, 0x5=2, 0x6=1, 0x7=4, 0x8=56, 0x9=3, 0xa=5, 0xb=1, 0xc=49, 0xd=1, 0xe=2, 0xf=1)), header=Obj(clbit_labels=[['cr', 0], ['cr', 1], ['cr', 2], ['cr', 3]], creg_sizes=[['cr', 4]], memory_slots=4, n_qubits=4, name='rb_purity_ZZ_length_1_seed_2', qreg_sizes=[['qr', 4]], qubit_labels=[['qr', 0], ['qr', 1], ['qr', 2], ['qr', 3]]), meas_level=2, metadata={'method': 'statevector', 'omp_shot_threads': 1, 'omp_state_threads': 4}, seed=3708834276, shots=1024, status='DONE', success=True, time_taken=1.309027152), ExperimentResult(data=ExperimentResultData(counts=Obj(0x0=576, 0x1=62, 0x2=51, 0x3=59, 0x4=84, 0x5=7, 0x6=6, 0x7=8, 0x8=64, 0x9=4, 0xa=14, 0xb=7, 0xc=64, 0xd=5, 0xe=5, 0xf=8)), header=Obj(clbit_labels=[['cr', 0], ['cr', 1], ['cr', 2], ['cr', 3]], creg_sizes=[['cr', 4]], memory_slots=4, n_qubits=4, name='rb_purity_ZZ_length_2_seed_2', qreg_sizes=[['qr', 4]], qubit_labels=[['qr', 0], ['qr', 1], ['qr', 2], ['qr', 3]]), meas_level=2, metadata={'method': 'statevector', 'omp_shot_threads': 1, 'omp_state_threads': 4}, seed=3188194310, shots=1024, status='DONE', success=True, time_taken=2.218910824), ExperimentResult(data=ExperimentResultData(counts=Obj(0x0=456, 0x1=63, 0x2=69, 0x3=73, 0x4=90, 0x5=11, 0x6=13, 0x7=14, 0x8=68, 0x9=11, 0xa=10, 0xb=13, 0xc=93, 0xd=9, 0xe=13, 0xf=18)), header=Obj(clbit_labels=[['cr', 0], ['cr', 1], ['cr', 2], ['cr', 3]], creg_sizes=[['cr', 4]], memory_slots=4, n_qubits=4, name='rb_purity_ZZ_length_3_seed_2', qreg_sizes=[['qr', 4]], qubit_labels=[['qr', 0], ['qr', 1], ['qr', 2], ['qr', 3]]), meas_level=2, metadata={'method': 'statevector', 'omp_shot_threads': 1, 'omp_state_threads': 4}, seed=600830340, shots=1024, status='DONE', success=True, time_taken=1.900972088), ExperimentResult(data=ExperimentResultData(counts=Obj(0x0=359, 0x1=77, 0x2=88, 0x3=72, 0x4=89, 0x5=16, 0x6=17, 0x7=19, 0x8=84, 0x9=19, 0xa=17, 0xb=23, 0xc=82, 0xd=22, 0xe=21, 0xf=19)), header=Obj(clbit_labels=[['cr', 0], ['cr', 1], ['cr', 2], ['cr', 3]], creg_sizes=[['cr', 4]], memory_slots=4, n_qubits=4, name='rb_purity_ZZ_length_4_seed_2', qreg_sizes=[['qr', 4]], qubit_labels=[['qr', 0], ['qr', 1], ['qr', 2], ['qr', 3]]), meas_level=2, metadata={'method': 'statevector', 'omp_shot_threads': 1, 'omp_state_threads': 4}, seed=1778129428, shots=1024, status='DONE', success=True, time_taken=3.592377937)], status='COMPLETED', success=True, time_taken=9.541546106338501)], [Result(backend_name='qasm_simulator', backend_version='0.1.1', date=datetime.datetime(2019, 6, 20, 15, 15, 20, 605724), header=Obj(backend_name='qasm_simulator', backend_version='0.1.1'), job_id='25f6d76b-3e64-49fa-83d0-06d9d4ae7f23', metadata={'omp_available_threads': 4, 'omp_circuit_threads': 1, 'omp_enabled': True, 'time_taken': 9.683758217000001}, qobj_id='0bf20740-28da-48f9-9d3a-9f2425eb6c11', results=[ExperimentResult(data=ExperimentResultData(counts=Obj(0x0=241, 0x1=236, 0x2=4, 0x3=6, 0x4=252, 0x5=239, 0x6=5, 0x7=9, 0x8=4, 0x9=6, 0xa=1, 0xb=1, 0xc=9, 0xd=11)), header=Obj(clbit_labels=[['cr', 0], ['cr', 1], ['cr', 2], ['cr', 3]], creg_sizes=[['cr', 4]], memory_slots=4, n_qubits=4, name='rb_purity_XZ_length_0_seed_0', qreg_sizes=[['qr', 4]], qubit_labels=[['qr', 0], ['qr', 1], ['qr', 2], ['qr', 3]]), meas_level=2, metadata={'method': 'statevector', 'omp_shot_threads': 1, 'omp_state_threads': 4}, seed=3646157448, shots=1024, status='DONE', success=True, time_taken=0.341289605), ExperimentResult(data=ExperimentResultData(counts=Obj(0x0=203, 0x1=216, 0x2=27, 0x3=21, 0x4=190, 0x5=196, 0x6=19, 0x7=28, 0x8=27, 0x9=26, 0xa=5, 0xb=1, 0xc=36, 0xd=25, 0xf=4)), header=Obj(clbit_labels=[['cr', 0], ['cr', 1], ['cr', 2], ['cr', 3]], creg_sizes=[['cr', 4]], memory_slots=4, n_qubits=4, name='rb_purity_XZ_length_1_seed_0', qreg_sizes=[['qr', 4]], qubit_labels=[['qr', 0], ['qr', 1], ['qr', 2], ['qr', 3]]), meas_level=2, metadata={'method': 'statevector', 'omp_shot_threads': 1, 'omp_state_threads': 4}, seed=1808324578, shots=1024, status='DONE', success=True, time_taken=1.3529813190000002), ExperimentResult(data=ExperimentResultData(counts=Obj(0x0=184, 0x1=155, 0x2=32, 0x3=42, 0x4=161, 0x5=175, 0x6=35, 0x7=38, 0x8=42, 0x9=35, 0xa=5, 0xb=16, 0xc=42, 0xd=48, 0xe=7, 0xf=7)), header=Obj(clbit_labels=[['cr', 0], ['cr', 1], ['cr', 2], ['cr', 3]], creg_sizes=[['cr', 4]], memory_slots=4, n_qubits=4, name='rb_purity_XZ_length_2_seed_0', qreg_sizes=[['qr', 4]], qubit_labels=[['qr', 0], ['qr', 1], ['qr', 2], ['qr', 3]]), meas_level=2, metadata={'method': 'statevector', 'omp_shot_threads': 1, 'omp_state_threads': 4}, seed=652200028, shots=1024, status='DONE', success=True, time_taken=2.2304935550000002), ExperimentResult(data=ExperimentResultData(counts=Obj(0x0=144, 0x1=160, 0x2=39, 0x3=47, 0x4=141, 0x5=159, 0x6=37, 0x7=56, 0x8=55, 0x9=53, 0xa=13, 0xb=12, 0xc=32, 0xd=49, 0xe=13, 0xf=14)), header=Obj(clbit_labels=[['cr', 0], ['cr', 1], ['cr', 2], ['cr', 3]], creg_sizes=[['cr', 4]], memory_slots=4, n_qubits=4, name='rb_purity_XZ_length_3_seed_0', qreg_sizes=[['qr', 4]], qubit_labels=[['qr', 0], ['qr', 1], ['qr', 2], ['qr', 3]]), meas_level=2, metadata={'method': 'statevector', 'omp_shot_threads': 1, 'omp_state_threads': 4}, seed=1127919862, shots=1024, status='DONE', success=True, time_taken=2.881419062), ExperimentResult(data=ExperimentResultData(counts=Obj(0x0=138, 0x1=126, 0x2=55, 0x3=62, 0x4=123, 0x5=140, 0x6=56, 0x7=53, 0x8=56, 0x9=51, 0xa=22, 0xb=14, 0xc=42, 0xd=50, 0xe=16, 0xf=20)), header=Obj(clbit_labels=[['cr', 0], ['cr', 1], ['cr', 2], ['cr', 3]], creg_sizes=[['cr', 4]], memory_slots=4, n_qubits=4, name='rb_purity_XZ_length_4_seed_0', qreg_sizes=[['qr', 4]], qubit_labels=[['qr', 0], ['qr', 1], ['qr', 2], ['qr', 3]]), meas_level=2, metadata={'method': 'statevector', 'omp_shot_threads': 1, 'omp_state_threads': 4}, seed=1110351956, shots=1024, status='DONE', success=True, time_taken=2.871445909)], status='COMPLETED', success=True, time_taken=9.927712440490723), Result(backend_name='qasm_simulator', backend_version='0.1.1', date=datetime.datetime(2019, 6, 20, 15, 17, 23, 381440), header=Obj(backend_name='qasm_simulator', backend_version='0.1.1'), job_id='5df04294-daf8-4e23-9860-b95f9b4e6bc9', metadata={'omp_available_threads': 4, 'omp_circuit_threads': 1, 'omp_enabled': True, 'time_taken': 10.431462201}, qobj_id='88c84790-53dd-4bcf-8b0d-6a1034c5e0bd', results=[ExperimentResult(data=ExperimentResultData(counts=Obj(0x0=246, 0x1=246, 0x2=6, 0x3=7, 0x4=239, 0x5=236, 0x6=10, 0x7=8, 0x8=5, 0x9=6, 0xc=7, 0xd=7, 0xf=1)), header=Obj(clbit_labels=[['cr', 0], ['cr', 1], ['cr', 2], ['cr', 3]], creg_sizes=[['cr', 4]], memory_slots=4, n_qubits=4, name='rb_purity_XZ_length_0_seed_1', qreg_sizes=[['qr', 4]], qubit_labels=[['qr', 0], ['qr', 1], ['qr', 2], ['qr', 3]]), meas_level=2, metadata={'method': 'statevector', 'omp_shot_threads': 1, 'omp_state_threads': 4}, seed=2055229810, shots=1024, status='DONE', success=True, time_taken=0.449321948), ExperimentResult(data=ExperimentResultData(counts=Obj(0x0=193, 0x1=200, 0x2=28, 0x3=26, 0x4=205, 0x5=191, 0x6=25, 0x7=34, 0x8=33, 0x9=26, 0xb=3, 0xc=28, 0xd=28, 0xe=2, 0xf=2)), header=Obj(clbit_labels=[['cr', 0], ['cr', 1], ['cr', 2], ['cr', 3]], creg_sizes=[['cr', 4]], memory_slots=4, n_qubits=4, name='rb_purity_XZ_length_1_seed_1', qreg_sizes=[['qr', 4]], qubit_labels=[['qr', 0], ['qr', 1], ['qr', 2], ['qr', 3]]), meas_level=2, metadata={'method': 'statevector', 'omp_shot_threads': 1, 'omp_state_threads': 4}, seed=1811294112, shots=1024, status='DONE', success=True, time_taken=1.312445663), ExperimentResult(data=ExperimentResultData(counts=Obj(0x0=165, 0x1=179, 0x2=41, 0x3=37, 0x4=168, 0x5=161, 0x6=43, 0x7=24, 0x8=42, 0x9=53, 0xa=9, 0xb=8, 0xc=38, 0xd=39, 0xe=4, 0xf=13)), header=Obj(clbit_labels=[['cr', 0], ['cr', 1], ['cr', 2], ['cr', 3]], creg_sizes=[['cr', 4]], memory_slots=4, n_qubits=4, name='rb_purity_XZ_length_2_seed_1', qreg_sizes=[['qr', 4]], qubit_labels=[['qr', 0], ['qr', 1], ['qr', 2], ['qr', 3]]), meas_level=2, metadata={'method': 'statevector', 'omp_shot_threads': 1, 'omp_state_threads': 4}, seed=2749545194, shots=1024, status='DONE', success=True, time_taken=1.9680961240000001), ExperimentResult(data=ExperimentResultData(counts=Obj(0x0=178, 0x1=150, 0x2=51, 0x3=52, 0x4=148, 0x5=136, 0x6=50, 0x7=33, 0x8=52, 0x9=46, 0xa=12, 0xb=16, 0xc=37, 0xd=38, 0xe=17, 0xf=8)), header=Obj(clbit_labels=[['cr', 0], ['cr', 1], ['cr', 2], ['cr', 3]], creg_sizes=[['cr', 4]], memory_slots=4, n_qubits=4, name='rb_purity_XZ_length_3_seed_1', qreg_sizes=[['qr', 4]], qubit_labels=[['qr', 0], ['qr', 1], ['qr', 2], ['qr', 3]]), meas_level=2, metadata={'method': 'statevector', 'omp_shot_threads': 1, 'omp_state_threads': 4}, seed=47973570, shots=1024, status='DONE', success=True, time_taken=2.675695032), ExperimentResult(data=ExperimentResultData(counts=Obj(0x0=138, 0x1=115, 0x2=49, 0x3=63, 0x4=142, 0x5=147, 0x6=46, 0x7=52, 0x8=49, 0x9=50, 0xa=17, 0xb=23, 0xc=50, 0xd=47, 0xe=21, 0xf=15)), header=Obj(clbit_labels=[['cr', 0], ['cr', 1], ['cr', 2], ['cr', 3]], creg_sizes=[['cr', 4]], memory_slots=4, n_qubits=4, name='rb_purity_XZ_length_4_seed_1', qreg_sizes=[['qr', 4]], qubit_labels=[['qr', 0], ['qr', 1], ['qr', 2], ['qr', 3]]), meas_level=2, metadata={'method': 'statevector', 'omp_shot_threads': 1, 'omp_state_threads': 4}, seed=1487773450, shots=1024, status='DONE', success=True, time_taken=4.020497043000001)], status='COMPLETED', success=True, time_taken=10.630637645721436), Result(backend_name='qasm_simulator', backend_version='0.1.1', date=datetime.datetime(2019, 6, 20, 15, 19, 16, 24589), header=Obj(backend_name='qasm_simulator', backend_version='0.1.1'), job_id='bd2259a1-6ad3-4915-ad33-9105fd9481d0', metadata={'omp_available_threads': 4, 'omp_circuit_threads': 1, 'omp_enabled': True, 'time_taken': 8.001775828000001}, qobj_id='186cc41e-f9bf-40e0-8c4d-809cb6eb78b0', results=[ExperimentResult(data=ExperimentResultData(counts=Obj(0x0=235, 0x1=257, 0x2=6, 0x3=9, 0x4=211, 0x5=272, 0x7=6, 0x8=6, 0x9=8, 0xc=8, 0xd=5, 0xe=1)), header=Obj(clbit_labels=[['cr', 0], ['cr', 1], ['cr', 2], ['cr', 3]], creg_sizes=[['cr', 4]], memory_slots=4, n_qubits=4, name='rb_purity_XZ_length_0_seed_2', qreg_sizes=[['qr', 4]], qubit_labels=[['qr', 0], ['qr', 1], ['qr', 2], ['qr', 3]]), meas_level=2, metadata={'method': 'statevector', 'omp_shot_threads': 1, 'omp_state_threads': 4}, seed=1632295763, shots=1024, status='DONE', success=True, time_taken=0.19785750600000002), ExperimentResult(data=ExperimentResultData(counts=Obj(0x0=206, 0x1=196, 0x2=18, 0x3=25, 0x4=216, 0x5=207, 0x6=27, 0x7=20, 0x8=21, 0x9=19, 0xa=2, 0xb=3, 0xc=26, 0xd=31, 0xe=4, 0xf=3)), header=Obj(clbit_labels=[['cr', 0], ['cr', 1], ['cr', 2], ['cr', 3]], creg_sizes=[['cr', 4]], memory_slots=4, n_qubits=4, name='rb_purity_XZ_length_1_seed_2', qreg_sizes=[['qr', 4]], qubit_labels=[['qr', 0], ['qr', 1], ['qr', 2], ['qr', 3]]), meas_level=2, metadata={'method': 'statevector', 'omp_shot_threads': 1, 'omp_state_threads': 4}, seed=1593783062, shots=1024, status='DONE', success=True, time_taken=1.037416954), ExperimentResult(data=ExperimentResultData(counts=Obj(0x0=170, 0x1=163, 0x2=30, 0x3=37, 0x4=187, 0x5=179, 0x6=38, 0x7=35, 0x8=32, 0x9=39, 0xa=13, 0xb=8, 0xc=45, 0xd=33, 0xe=9, 0xf=6)), header=Obj(clbit_labels=[['cr', 0], ['cr', 1], ['cr', 2], ['cr', 3]], creg_sizes=[['cr', 4]], memory_slots=4, n_qubits=4, name='rb_purity_XZ_length_2_seed_2', qreg_sizes=[['qr', 4]], qubit_labels=[['qr', 0], ['qr', 1], ['qr', 2], ['qr', 3]]), meas_level=2, metadata={'method': 'statevector', 'omp_shot_threads': 1, 'omp_state_threads': 4}, seed=4227602533, shots=1024, status='DONE', success=True, time_taken=1.486423011), ExperimentResult(data=ExperimentResultData(counts=Obj(0x0=162, 0x1=147, 0x2=35, 0x3=46, 0x4=138, 0x5=171, 0x6=33, 0x7=39, 0x8=51, 0x9=44, 0xa=23, 0xb=16, 0xc=56, 0xd=38, 0xe=11, 0xf=14)), header=Obj(clbit_labels=[['cr', 0], ['cr', 1], ['cr', 2], ['cr', 3]], creg_sizes=[['cr', 4]], memory_slots=4, n_qubits=4, name='rb_purity_XZ_length_3_seed_2', qreg_sizes=[['qr', 4]], qubit_labels=[['qr', 0], ['qr', 1], ['qr', 2], ['qr', 3]]), meas_level=2, metadata={'method': 'statevector', 'omp_shot_threads': 1, 'omp_state_threads': 4}, seed=847275684, shots=1024, status='DONE', success=True, time_taken=2.3727458390000002), ExperimentResult(data=ExperimentResultData(counts=Obj(0x0=156, 0x1=133, 0x2=42, 0x3=56, 0x4=145, 0x5=121, 0x6=49, 0x7=53, 0x8=46, 0x9=46, 0xa=17, 0xb=15, 0xc=48, 0xd=55, 0xe=21, 0xf=21)), header=Obj(clbit_labels=[['cr', 0], ['cr', 1], ['cr', 2], ['cr', 3]], creg_sizes=[['cr', 4]], memory_slots=4, n_qubits=4, name='rb_purity_XZ_length_4_seed_2', qreg_sizes=[['qr', 4]], qubit_labels=[['qr', 0], ['qr', 1], ['qr', 2], ['qr', 3]]), meas_level=2, metadata={'method': 'statevector', 'omp_shot_threads': 1, 'omp_state_threads': 4}, seed=453898562, shots=1024, status='DONE', success=True, time_taken=2.897702411)], status='COMPLETED', success=True, time_taken=8.179447174072266)], [Result(backend_name='qasm_simulator', backend_version='0.1.1', date=datetime.datetime(2019, 6, 20, 15, 15, 35, 643415), header=Obj(backend_name='qasm_simulator', backend_version='0.1.1'), job_id='15f47584-fa3c-4117-b84e-fa625ac97329', metadata={'omp_available_threads': 4, 'omp_circuit_threads': 1, 'omp_enabled': True, 'time_taken': 11.564112091}, qobj_id='af407976-773a-4efb-9cf7-5a9f92d98a0c', results=[ExperimentResult(data=ExperimentResultData(counts=Obj(0x0=268, 0x1=228, 0x2=11, 0x3=7, 0x4=244, 0x5=229, 0x6=8, 0x7=4, 0x8=7, 0x9=5, 0xc=4, 0xd=8, 0xe=1)), header=Obj(clbit_labels=[['cr', 0], ['cr', 1], ['cr', 2], ['cr', 3]], creg_sizes=[['cr', 4]], memory_slots=4, n_qubits=4, name='rb_purity_YZ_length_0_seed_0', qreg_sizes=[['qr', 4]], qubit_labels=[['qr', 0], ['qr', 1], ['qr', 2], ['qr', 3]]), meas_level=2, metadata={'method': 'statevector', 'omp_shot_threads': 1, 'omp_state_threads': 4}, seed=1492018362, shots=1024, status='DONE', success=True, time_taken=0.31763501), ExperimentResult(data=ExperimentResultData(counts=Obj(0x0=186, 0x1=212, 0x2=22, 0x3=20, 0x4=210, 0x5=202, 0x6=30, 0x7=21, 0x8=20, 0x9=31, 0xa=7, 0xb=2, 0xc=27, 0xd=30, 0xe=4)), header=Obj(clbit_labels=[['cr', 0], ['cr', 1], ['cr', 2], ['cr', 3]], creg_sizes=[['cr', 4]], memory_slots=4, n_qubits=4, name='rb_purity_YZ_length_1_seed_0', qreg_sizes=[['qr', 4]], qubit_labels=[['qr', 0], ['qr', 1], ['qr', 2], ['qr', 3]]), meas_level=2, metadata={'method': 'statevector', 'omp_shot_threads': 1, 'omp_state_threads': 4}, seed=586116285, shots=1024, status='DONE', success=True, time_taken=1.4759596730000002), ExperimentResult(data=ExperimentResultData(counts=Obj(0x0=184, 0x1=178, 0x2=32, 0x3=38, 0x4=191, 0x5=164, 0x6=35, 0x7=33, 0x8=30, 0x9=30, 0xa=9, 0xb=8, 0xc=34, 0xd=46, 0xe=7, 0xf=5)), header=Obj(clbit_labels=[['cr', 0], ['cr', 1], ['cr', 2], ['cr', 3]], creg_sizes=[['cr', 4]], memory_slots=4, n_qubits=4, name='rb_purity_YZ_length_2_seed_0', qreg_sizes=[['qr', 4]], qubit_labels=[['qr', 0], ['qr', 1], ['qr', 2], ['qr', 3]]), meas_level=2, metadata={'method': 'statevector', 'omp_shot_threads': 1, 'omp_state_threads': 4}, seed=20883835, shots=1024, status='DONE', success=True, time_taken=1.93334369), ExperimentResult(data=ExperimentResultData(counts=Obj(0x0=159, 0x1=149, 0x2=49, 0x3=38, 0x4=151, 0x5=161, 0x6=41, 0x7=51, 0x8=45, 0x9=46, 0xa=16, 0xb=11, 0xc=41, 0xd=45, 0xe=12, 0xf=9)), header=Obj(clbit_labels=[['cr', 0], ['cr', 1], ['cr', 2], ['cr', 3]], creg_sizes=[['cr', 4]], memory_slots=4, n_qubits=4, name='rb_purity_YZ_length_3_seed_0', qreg_sizes=[['qr', 4]], qubit_labels=[['qr', 0], ['qr', 1], ['qr', 2], ['qr', 3]]), meas_level=2, metadata={'method': 'statevector', 'omp_shot_threads': 1, 'omp_state_threads': 4}, seed=4001581571, shots=1024, status='DONE', success=True, time_taken=3.4677463960000003), ExperimentResult(data=ExperimentResultData(counts=Obj(0x0=122, 0x1=117, 0x2=58, 0x3=44, 0x4=138, 0x5=161, 0x6=46, 0x7=62, 0x8=45, 0x9=47, 0xa=25, 0xb=21, 0xc=42, 0xd=55, 0xe=16, 0xf=25)), header=Obj(clbit_labels=[['cr', 0], ['cr', 1], ['cr', 2], ['cr', 3]], creg_sizes=[['cr', 4]], memory_slots=4, n_qubits=4, name='rb_purity_YZ_length_4_seed_0', qreg_sizes=[['qr', 4]], qubit_labels=[['qr', 0], ['qr', 1], ['qr', 2], ['qr', 3]]), meas_level=2, metadata={'method': 'statevector', 'omp_shot_threads': 1, 'omp_state_threads': 4}, seed=2709402790, shots=1024, status='DONE', success=True, time_taken=4.364267320000001)], status='COMPLETED', success=True, time_taken=11.748120307922363), Result(backend_name='qasm_simulator', backend_version='0.1.1', date=datetime.datetime(2019, 6, 20, 15, 17, 38, 203943), header=Obj(backend_name='qasm_simulator', backend_version='0.1.1'), job_id='7acc7193-e060-4316-8c85-b3f58ac1b6a6', metadata={'omp_available_threads': 4, 'omp_circuit_threads': 1, 'omp_enabled': True, 'time_taken': 11.202084181}, qobj_id='e4a672e6-bd10-41ce-b0fa-3e28a7ba4abf', results=[ExperimentResult(data=ExperimentResultData(counts=Obj(0x0=226, 0x1=207, 0x2=4, 0x3=8, 0x4=268, 0x5=274, 0x6=7, 0x7=7, 0x8=4, 0x9=5, 0xc=5, 0xd=9)), header=Obj(clbit_labels=[['cr', 0], ['cr', 1], ['cr', 2], ['cr', 3]], creg_sizes=[['cr', 4]], memory_slots=4, n_qubits=4, name='rb_purity_YZ_length_0_seed_1', qreg_sizes=[['qr', 4]], qubit_labels=[['qr', 0], ['qr', 1], ['qr', 2], ['qr', 3]]), meas_level=2, metadata={'method': 'statevector', 'omp_shot_threads': 1, 'omp_state_threads': 4}, seed=372604503, shots=1024, status='DONE', success=True, time_taken=0.33309083300000003), ExperimentResult(data=ExperimentResultData(counts=Obj(0x0=189, 0x1=199, 0x2=24, 0x3=29, 0x4=187, 0x5=200, 0x6=28, 0x7=26, 0x8=35, 0x9=30, 0xa=3, 0xc=37, 0xd=28, 0xe=4, 0xf=5)), header=Obj(clbit_labels=[['cr', 0], ['cr', 1], ['cr', 2], ['cr', 3]], creg_sizes=[['cr', 4]], memory_slots=4, n_qubits=4, name='rb_purity_YZ_length_1_seed_1', qreg_sizes=[['qr', 4]], qubit_labels=[['qr', 0], ['qr', 1], ['qr', 2], ['qr', 3]]), meas_level=2, metadata={'method': 'statevector', 'omp_shot_threads': 1, 'omp_state_threads': 4}, seed=243095895, shots=1024, status='DONE', success=True, time_taken=1.3902153160000001), ExperimentResult(data=ExperimentResultData(counts=Obj(0x0=170, 0x1=192, 0x2=34, 0x3=31, 0x4=165, 0x5=176, 0x6=42, 0x7=34, 0x8=35, 0x9=36, 0xa=7, 0xb=12, 0xc=39, 0xd=41, 0xe=6, 0xf=4)), header=Obj(clbit_labels=[['cr', 0], ['cr', 1], ['cr', 2], ['cr', 3]], creg_sizes=[['cr', 4]], memory_slots=4, n_qubits=4, name='rb_purity_YZ_length_2_seed_1', qreg_sizes=[['qr', 4]], qubit_labels=[['qr', 0], ['qr', 1], ['qr', 2], ['qr', 3]]), meas_level=2, metadata={'method': 'statevector', 'omp_shot_threads': 1, 'omp_state_threads': 4}, seed=1882676301, shots=1024, status='DONE', success=True, time_taken=1.9688752660000002), ExperimentResult(data=ExperimentResultData(counts=Obj(0x0=191, 0x1=145, 0x2=43, 0x3=51, 0x4=127, 0x5=163, 0x6=45, 0x7=41, 0x8=50, 0x9=36, 0xa=10, 0xb=11, 0xc=47, 0xd=40, 0xe=12, 0xf=12)), header=Obj(clbit_labels=[['cr', 0], ['cr', 1], ['cr', 2], ['cr', 3]], creg_sizes=[['cr', 4]], memory_slots=4, n_qubits=4, name='rb_purity_YZ_length_3_seed_1', qreg_sizes=[['qr', 4]], qubit_labels=[['qr', 0], ['qr', 1], ['qr', 2], ['qr', 3]]), meas_level=2, metadata={'method': 'statevector', 'omp_shot_threads': 1, 'omp_state_threads': 4}, seed=899720270, shots=1024, status='DONE', success=True, time_taken=3.2300411450000004), ExperimentResult(data=ExperimentResultData(counts=Obj(0x0=131, 0x1=128, 0x2=55, 0x3=63, 0x4=134, 0x5=124, 0x6=68, 0x7=55, 0x8=50, 0x9=51, 0xa=18, 0xb=14, 0xc=51, 0xd=41, 0xe=20, 0xf=21)), header=Obj(clbit_labels=[['cr', 0], ['cr', 1], ['cr', 2], ['cr', 3]], creg_sizes=[['cr', 4]], memory_slots=4, n_qubits=4, name='rb_purity_YZ_length_4_seed_1', qreg_sizes=[['qr', 4]], qubit_labels=[['qr', 0], ['qr', 1], ['qr', 2], ['qr', 3]]), meas_level=2, metadata={'method': 'statevector', 'omp_shot_threads': 1, 'omp_state_threads': 4}, seed=3565031853, shots=1024, status='DONE', success=True, time_taken=4.2705655920000005)], status='COMPLETED', success=True, time_taken=11.445286512374878), Result(backend_name='qasm_simulator', backend_version='0.1.1', date=datetime.datetime(2019, 6, 20, 15, 19, 29, 439309), header=Obj(backend_name='qasm_simulator', backend_version='0.1.1'), job_id='acf8ab8d-fecd-4d0c-a328-1bc5e5a00a38', metadata={'omp_available_threads': 4, 'omp_circuit_threads': 1, 'omp_enabled': True, 'time_taken': 10.787688167}, qobj_id='63756779-2964-498b-8688-702f09f875b1', results=[ExperimentResult(data=ExperimentResultData(counts=Obj(0x0=255, 0x1=248, 0x2=7, 0x3=10, 0x4=218, 0x5=248, 0x6=6, 0x7=7, 0x8=7, 0x9=5, 0xc=6, 0xd=5, 0xe=1, 0xf=1)), header=Obj(clbit_labels=[['cr', 0], ['cr', 1], ['cr', 2], ['cr', 3]], creg_sizes=[['cr', 4]], memory_slots=4, n_qubits=4, name='rb_purity_YZ_length_0_seed_2', qreg_sizes=[['qr', 4]], qubit_labels=[['qr', 0], ['qr', 1], ['qr', 2], ['qr', 3]]), meas_level=2, metadata={'method': 'statevector', 'omp_shot_threads': 1, 'omp_state_threads': 4}, seed=274022960, shots=1024, status='DONE', success=True, time_taken=0.23450178100000002), ExperimentResult(data=ExperimentResultData(counts=Obj(0x0=199, 0x1=208, 0x2=22, 0x3=21, 0x4=200, 0x5=196, 0x6=20, 0x7=26, 0x8=18, 0x9=32, 0xa=3, 0xc=34, 0xd=39, 0xe=4, 0xf=2)), header=Obj(clbit_labels=[['cr', 0], ['cr', 1], ['cr', 2], ['cr', 3]], creg_sizes=[['cr', 4]], memory_slots=4, n_qubits=4, name='rb_purity_YZ_length_1_seed_2', qreg_sizes=[['qr', 4]], qubit_labels=[['qr', 0], ['qr', 1], ['qr', 2], ['qr', 3]]), meas_level=2, metadata={'method': 'statevector', 'omp_shot_threads': 1, 'omp_state_threads': 4}, seed=448907963, shots=1024, status='DONE', success=True, time_taken=1.430610285), ExperimentResult(data=ExperimentResultData(counts=Obj(0x0=160, 0x1=190, 0x2=35, 0x3=34, 0x4=179, 0x5=177, 0x6=29, 0x7=40, 0x8=44, 0x9=40, 0xa=9, 0xb=8, 0xc=26, 0xd=35, 0xe=9, 0xf=9)), header=Obj(clbit_labels=[['cr', 0], ['cr', 1], ['cr', 2], ['cr', 3]], creg_sizes=[['cr', 4]], memory_slots=4, n_qubits=4, name='rb_purity_YZ_length_2_seed_2', qreg_sizes=[['qr', 4]], qubit_labels=[['qr', 0], ['qr', 1], ['qr', 2], ['qr', 3]]), meas_level=2, metadata={'method': 'statevector', 'omp_shot_threads': 1, 'omp_state_threads': 4}, seed=2358262975, shots=1024, status='DONE', success=True, time_taken=2.476416984), ExperimentResult(data=ExperimentResultData(counts=Obj(0x0=170, 0x1=153, 0x2=33, 0x3=47, 0x4=166, 0x5=139, 0x6=39, 0x7=44, 0x8=55, 0x9=38, 0xa=15, 0xb=12, 0xc=45, 0xd=46, 0xe=12, 0xf=10)), header=Obj(clbit_labels=[['cr', 0], ['cr', 1], ['cr', 2], ['cr', 3]], creg_sizes=[['cr', 4]], memory_slots=4, n_qubits=4, name='rb_purity_YZ_length_3_seed_2', qreg_sizes=[['qr', 4]], qubit_labels=[['qr', 0], ['qr', 1], ['qr', 2], ['qr', 3]]), meas_level=2, metadata={'method': 'statevector', 'omp_shot_threads': 1, 'omp_state_threads': 4}, seed=2009651726, shots=1024, status='DONE', success=True, time_taken=3.101008804), ExperimentResult(data=ExperimentResultData(counts=Obj(0x0=129, 0x1=142, 0x2=43, 0x3=40, 0x4=124, 0x5=166, 0x6=42, 0x7=55, 0x8=50, 0x9=54, 0xa=17, 0xb=21, 0xc=60, 0xd=51, 0xe=16, 0xf=14)), header=Obj(clbit_labels=[['cr', 0], ['cr', 1], ['cr', 2], ['cr', 3]], creg_sizes=[['cr', 4]], memory_slots=4, n_qubits=4, name='rb_purity_YZ_length_4_seed_2', qreg_sizes=[['qr', 4]], qubit_labels=[['qr', 0], ['qr', 1], ['qr', 2], ['qr', 3]]), meas_level=2, metadata={'method': 'statevector', 'omp_shot_threads': 1, 'omp_state_threads': 4}, seed=3516077200, shots=1024, status='DONE', success=True, time_taken=3.540179891)], status='COMPLETED', success=True, time_taken=10.971518516540527)], [Result(backend_name='qasm_simulator', backend_version='0.1.1', date=datetime.datetime(2019, 6, 20, 15, 15, 46, 806520), header=Obj(backend_name='qasm_simulator', backend_version='0.1.1'), job_id='7fa9909d-efe6-4d42-ad7c-539412b68a62', metadata={'omp_available_threads': 4, 'omp_circuit_threads': 1, 'omp_enabled': True, 'time_taken': 8.479219038}, qobj_id='cadfed10-f994-4645-be17-c9e97d3075c8', results=[ExperimentResult(data=ExperimentResultData(counts=Obj(0x0=233, 0x1=6, 0x2=242, 0x3=1, 0x4=6, 0x6=2, 0x8=258, 0x9=6, 0xa=245, 0xb=7, 0xc=7, 0xe=11)), header=Obj(clbit_labels=[['cr', 0], ['cr', 1], ['cr', 2], ['cr', 3]], creg_sizes=[['cr', 4]], memory_slots=4, n_qubits=4, name='rb_purity_ZX_length_0_seed_0', qreg_sizes=[['qr', 4]], qubit_labels=[['qr', 0], ['qr', 1], ['qr', 2], ['qr', 3]]), meas_level=2, metadata={'method': 'statevector', 'omp_shot_threads': 1, 'omp_state_threads': 4}, seed=2556756806, shots=1024, status='DONE', success=True, time_taken=0.348128039), ExperimentResult(data=ExperimentResultData(counts=Obj(0x0=195, 0x1=25, 0x2=204, 0x3=21, 0x4=27, 0x5=7, 0x6=24, 0x7=3, 0x8=181, 0x9=21, 0xa=222, 0xb=25, 0xc=26, 0xd=4, 0xe=36, 0xf=3)), header=Obj(clbit_labels=[['cr', 0], ['cr', 1], ['cr', 2], ['cr', 3]], creg_sizes=[['cr', 4]], memory_slots=4, n_qubits=4, name='rb_purity_ZX_length_1_seed_0', qreg_sizes=[['qr', 4]], qubit_labels=[['qr', 0], ['qr', 1], ['qr', 2], ['qr', 3]]), meas_level=2, metadata={'method': 'statevector', 'omp_shot_threads': 1, 'omp_state_threads': 4}, seed=2936775913, shots=1024, status='DONE', success=True, time_taken=1.398574067), ExperimentResult(data=ExperimentResultData(counts=Obj(0x0=177, 0x1=39, 0x2=170, 0x3=33, 0x4=45, 0x5=11, 0x6=40, 0x7=11, 0x8=159, 0x9=34, 0xa=151, 0xb=46, 0xc=41, 0xd=12, 0xe=46, 0xf=9)), header=Obj(clbit_labels=[['cr', 0], ['cr', 1], ['cr', 2], ['cr', 3]], creg_sizes=[['cr', 4]], memory_slots=4, n_qubits=4, name='rb_purity_ZX_length_2_seed_0', qreg_sizes=[['qr', 4]], qubit_labels=[['qr', 0], ['qr', 1], ['qr', 2], ['qr', 3]]), meas_level=2, metadata={'method': 'statevector', 'omp_shot_threads': 1, 'omp_state_threads': 4}, seed=112189415, shots=1024, status='DONE', success=True, time_taken=1.6434225640000002), ExperimentResult(data=ExperimentResultData(counts=Obj(0x0=145, 0x1=44, 0x2=153, 0x3=50, 0x4=47, 0x5=15, 0x6=46, 0x7=12, 0x8=164, 0x9=48, 0xa=145, 0xb=39, 0xc=40, 0xd=16, 0xe=44, 0xf=16)), header=Obj(clbit_labels=[['cr', 0], ['cr', 1], ['cr', 2], ['cr', 3]], creg_sizes=[['cr', 4]], memory_slots=4, n_qubits=4, name='rb_purity_ZX_length_3_seed_0', qreg_sizes=[['qr', 4]], qubit_labels=[['qr', 0], ['qr', 1], ['qr', 2], ['qr', 3]]), meas_level=2, metadata={'method': 'statevector', 'omp_shot_threads': 1, 'omp_state_threads': 4}, seed=880669859, shots=1024, status='DONE', success=True, time_taken=2.190697191), ExperimentResult(data=ExperimentResultData(counts=Obj(0x0=124, 0x1=43, 0x2=137, 0x3=57, 0x4=61, 0x5=23, 0x6=46, 0x7=23, 0x8=129, 0x9=36, 0xa=124, 0xb=57, 0xc=58, 0xd=21, 0xe=56, 0xf=29)), header=Obj(clbit_labels=[['cr', 0], ['cr', 1], ['cr', 2], ['cr', 3]], creg_sizes=[['cr', 4]], memory_slots=4, n_qubits=4, name='rb_purity_ZX_length_4_seed_0', qreg_sizes=[['qr', 4]], qubit_labels=[['qr', 0], ['qr', 1], ['qr', 2], ['qr', 3]]), meas_level=2, metadata={'method': 'statevector', 'omp_shot_threads': 1, 'omp_state_threads': 4}, seed=872126303, shots=1024, status='DONE', success=True, time_taken=2.893229395)], status='COMPLETED', success=True, time_taken=8.668284177780151), Result(backend_name='qasm_simulator', backend_version='0.1.1', date=datetime.datetime(2019, 6, 20, 15, 17, 51, 95679), header=Obj(backend_name='qasm_simulator', backend_version='0.1.1'), job_id='2b49589d-cf95-4985-946b-817322f3185a', metadata={'omp_available_threads': 4, 'omp_circuit_threads': 1, 'omp_enabled': True, 'time_taken': 9.790749247}, qobj_id='ec1760cf-3714-465c-a281-e1c07ece9b04', results=[ExperimentResult(data=ExperimentResultData(counts=Obj(0x0=215, 0x1=11, 0x2=225, 0x3=4, 0x4=11, 0x6=5, 0x7=1, 0x8=259, 0x9=3, 0xa=268, 0xb=3, 0xc=8, 0xd=1, 0xe=9, 0xf=1)), header=Obj(clbit_labels=[['cr', 0], ['cr', 1], ['cr', 2], ['cr', 3]], creg_sizes=[['cr', 4]], memory_slots=4, n_qubits=4, name='rb_purity_ZX_length_0_seed_1', qreg_sizes=[['qr', 4]], qubit_labels=[['qr', 0], ['qr', 1], ['qr', 2], ['qr', 3]]), meas_level=2, metadata={'method': 'statevector', 'omp_shot_threads': 1, 'omp_state_threads': 4}, seed=3465225415, shots=1024, status='DONE', success=True, time_taken=0.329087987), ExperimentResult(data=ExperimentResultData(counts=Obj(0x0=188, 0x1=23, 0x2=190, 0x3=31, 0x4=30, 0x5=6, 0x6=15, 0x7=4, 0x8=205, 0x9=22, 0xa=222, 0xb=30, 0xc=28, 0xd=4, 0xe=25, 0xf=1)), header=Obj(clbit_labels=[['cr', 0], ['cr', 1], ['cr', 2], ['cr', 3]], creg_sizes=[['cr', 4]], memory_slots=4, n_qubits=4, name='rb_purity_ZX_length_1_seed_1', qreg_sizes=[['qr', 4]], qubit_labels=[['qr', 0], ['qr', 1], ['qr', 2], ['qr', 3]]), meas_level=2, metadata={'method': 'statevector', 'omp_shot_threads': 1, 'omp_state_threads': 4}, seed=3391777839, shots=1024, status='DONE', success=True, time_taken=0.971614147), ExperimentResult(data=ExperimentResultData(counts=Obj(0x0=148, 0x1=39, 0x2=155, 0x3=40, 0x4=37, 0x5=5, 0x6=34, 0x7=8, 0x8=189, 0x9=38, 0xa=192, 0xb=35, 0xc=35, 0xd=6, 0xe=52, 0xf=11)), header=Obj(clbit_labels=[['cr', 0], ['cr', 1], ['cr', 2], ['cr', 3]], creg_sizes=[['cr', 4]], memory_slots=4, n_qubits=4, name='rb_purity_ZX_length_2_seed_1', qreg_sizes=[['qr', 4]], qubit_labels=[['qr', 0], ['qr', 1], ['qr', 2], ['qr', 3]]), meas_level=2, metadata={'method': 'statevector', 'omp_shot_threads': 1, 'omp_state_threads': 4}, seed=2476321994, shots=1024, status='DONE', success=True, time_taken=1.959417063), ExperimentResult(data=ExperimentResultData(counts=Obj(0x0=145, 0x1=43, 0x2=145, 0x3=52, 0x4=42, 0x5=17, 0x6=44, 0x7=20, 0x8=154, 0x9=49, 0xa=172, 0xb=44, 0xc=34, 0xd=10, 0xe=46, 0xf=7)), header=Obj(clbit_labels=[['cr', 0], ['cr', 1], ['cr', 2], ['cr', 3]], creg_sizes=[['cr', 4]], memory_slots=4, n_qubits=4, name='rb_purity_ZX_length_3_seed_1', qreg_sizes=[['qr', 4]], qubit_labels=[['qr', 0], ['qr', 1], ['qr', 2], ['qr', 3]]), meas_level=2, metadata={'method': 'statevector', 'omp_shot_threads': 1, 'omp_state_threads': 4}, seed=1886035474, shots=1024, status='DONE', success=True, time_taken=2.9793185330000003), ExperimentResult(data=ExperimentResultData(counts=Obj(0x0=136, 0x1=65, 0x2=117, 0x3=51, 0x4=53, 0x5=17, 0x6=52, 0x7=14, 0x8=143, 0x9=39, 0xa=121, 0xb=49, 0xc=64, 0xd=22, 0xe=61, 0xf=20)), header=Obj(clbit_labels=[['cr', 0], ['cr', 1], ['cr', 2], ['cr', 3]], creg_sizes=[['cr', 4]], memory_slots=4, n_qubits=4, name='rb_purity_ZX_length_4_seed_1', qreg_sizes=[['qr', 4]], qubit_labels=[['qr', 0], ['qr', 1], ['qr', 2], ['qr', 3]]), meas_level=2, metadata={'method': 'statevector', 'omp_shot_threads': 1, 'omp_state_threads': 4}, seed=3793985135, shots=1024, status='DONE', success=True, time_taken=3.5452326480000003)], status='COMPLETED', success=True, time_taken=10.054992198944092), Result(backend_name='qasm_simulator', backend_version='0.1.1', date=datetime.datetime(2019, 6, 20, 15, 19, 41, 727174), header=Obj(backend_name='qasm_simulator', backend_version='0.1.1'), job_id='6117921e-6f05-472b-90a6-6644182b6807', metadata={'omp_available_threads': 4, 'omp_circuit_threads': 1, 'omp_enabled': True, 'time_taken': 9.420078810000001}, qobj_id='f642ab9f-657a-48da-9be8-0c8589783c8e', results=[ExperimentResult(data=ExperimentResultData(counts=Obj(0x0=241, 0x1=4, 0x2=244, 0x3=10, 0x4=7, 0x6=5, 0x8=234, 0x9=5, 0xa=245, 0xb=10, 0xc=6, 0xd=1, 0xe=11, 0xf=1)), header=Obj(clbit_labels=[['cr', 0], ['cr', 1], ['cr', 2], ['cr', 3]], creg_sizes=[['cr', 4]], memory_slots=4, n_qubits=4, name='rb_purity_ZX_length_0_seed_2', qreg_sizes=[['qr', 4]], qubit_labels=[['qr', 0], ['qr', 1], ['qr', 2], ['qr', 3]]), meas_level=2, metadata={'method': 'statevector', 'omp_shot_threads': 1, 'omp_state_threads': 4}, seed=3803465222, shots=1024, status='DONE', success=True, time_taken=0.231173392), ExperimentResult(data=ExperimentResultData(counts=Obj(0x0=224, 0x1=17, 0x2=196, 0x3=19, 0x4=26, 0x5=4, 0x6=23, 0x7=3, 0x8=206, 0x9=20, 0xa=213, 0xb=20, 0xc=27, 0xe=23, 0xf=3)), header=Obj(clbit_labels=[['cr', 0], ['cr', 1], ['cr', 2], ['cr', 3]], creg_sizes=[['cr', 4]], memory_slots=4, n_qubits=4, name='rb_purity_ZX_length_1_seed_2', qreg_sizes=[['qr', 4]], qubit_labels=[['qr', 0], ['qr', 1], ['qr', 2], ['qr', 3]]), meas_level=2, metadata={'method': 'statevector', 'omp_shot_threads': 1, 'omp_state_threads': 4}, seed=4184403122, shots=1024, status='DONE', success=True, time_taken=1.2173763750000002), ExperimentResult(data=ExperimentResultData(counts=Obj(0x0=182, 0x1=24, 0x2=174, 0x3=41, 0x4=39, 0x5=4, 0x6=45, 0x7=10, 0x8=172, 0x9=27, 0xa=165, 0xb=42, 0xc=43, 0xd=6, 0xe=43, 0xf=7)), header=Obj(clbit_labels=[['cr', 0], ['cr', 1], ['cr', 2], ['cr', 3]], creg_sizes=[['cr', 4]], memory_slots=4, n_qubits=4, name='rb_purity_ZX_length_2_seed_2', qreg_sizes=[['qr', 4]], qubit_labels=[['qr', 0], ['qr', 1], ['qr', 2], ['qr', 3]]), meas_level=2, metadata={'method': 'statevector', 'omp_shot_threads': 1, 'omp_state_threads': 4}, seed=1436423610, shots=1024, status='DONE', success=True, time_taken=1.9195943460000002), ExperimentResult(data=ExperimentResultData(counts=Obj(0x0=152, 0x1=39, 0x2=148, 0x3=45, 0x4=60, 0x5=15, 0x6=55, 0x7=16, 0x8=138, 0x9=30, 0xa=145, 0xb=57, 0xc=50, 0xd=12, 0xe=52, 0xf=10)), header=Obj(clbit_labels=[['cr', 0], ['cr', 1], ['cr', 2], ['cr', 3]], creg_sizes=[['cr', 4]], memory_slots=4, n_qubits=4, name='rb_purity_ZX_length_3_seed_2', qreg_sizes=[['qr', 4]], qubit_labels=[['qr', 0], ['qr', 1], ['qr', 2], ['qr', 3]]), meas_level=2, metadata={'method': 'statevector', 'omp_shot_threads': 1, 'omp_state_threads': 4}, seed=2275317652, shots=1024, status='DONE', success=True, time_taken=2.6304196980000003), ExperimentResult(data=ExperimentResultData(counts=Obj(0x0=145, 0x1=48, 0x2=113, 0x3=53, 0x4=60, 0x5=24, 0x6=39, 0x7=18, 0x8=115, 0x9=53, 0xa=156, 0xb=49, 0xc=60, 0xd=15, 0xe=61, 0xf=15)), header=Obj(clbit_labels=[['cr', 0], ['cr', 1], ['cr', 2], ['cr', 3]], creg_sizes=[['cr', 4]], memory_slots=4, n_qubits=4, name='rb_purity_ZX_length_4_seed_2', qreg_sizes=[['qr', 4]], qubit_labels=[['qr', 0], ['qr', 1], ['qr', 2], ['qr', 3]]), meas_level=2, metadata={'method': 'statevector', 'omp_shot_threads': 1, 'omp_state_threads': 4}, seed=3684735038, shots=1024, status='DONE', success=True, time_taken=3.416620211)], status='COMPLETED', success=True, time_taken=9.584291696548462)], [Result(backend_name='qasm_simulator', backend_version='0.1.1', date=datetime.datetime(2019, 6, 20, 15, 15, 58, 867698), header=Obj(backend_name='qasm_simulator', backend_version='0.1.1'), job_id='2de5acb6-dd4d-4cdb-b4a0-a53a6cef67f8', metadata={'omp_available_threads': 4, 'omp_circuit_threads': 1, 'omp_enabled': True, 'time_taken': 9.290937755}, qobj_id='14422d2f-ccf6-49bb-8f8f-d78c0a7f1b41', results=[ExperimentResult(data=ExperimentResultData(counts=Obj(0x0=66, 0x1=58, 0x2=69, 0x3=72, 0x4=74, 0x5=51, 0x6=75, 0x7=60, 0x8=66, 0x9=52, 0xa=58, 0xb=61, 0xc=72, 0xd=64, 0xe=54, 0xf=72)), header=Obj(clbit_labels=[['cr', 0], ['cr', 1], ['cr', 2], ['cr', 3]], creg_sizes=[['cr', 4]], memory_slots=4, n_qubits=4, name='rb_purity_XX_length_0_seed_0', qreg_sizes=[['qr', 4]], qubit_labels=[['qr', 0], ['qr', 1], ['qr', 2], ['qr', 3]]), meas_level=2, metadata={'method': 'statevector', 'omp_shot_threads': 1, 'omp_state_threads': 4}, seed=894880621, shots=1024, status='DONE', success=True, time_taken=0.427699304), ExperimentResult(data=ExperimentResultData(counts=Obj(0x0=63, 0x1=75, 0x2=74, 0x3=60, 0x4=65, 0x5=64, 0x6=75, 0x7=59, 0x8=61, 0x9=55, 0xa=60, 0xb=63, 0xc=70, 0xd=49, 0xe=64, 0xf=67)), header=Obj(clbit_labels=[['cr', 0], ['cr', 1], ['cr', 2], ['cr', 3]], creg_sizes=[['cr', 4]], memory_slots=4, n_qubits=4, name='rb_purity_XX_length_1_seed_0', qreg_sizes=[['qr', 4]], qubit_labels=[['qr', 0], ['qr', 1], ['qr', 2], ['qr', 3]]), meas_level=2, metadata={'method': 'statevector', 'omp_shot_threads': 1, 'omp_state_threads': 4}, seed=3734360866, shots=1024, status='DONE', success=True, time_taken=1.5907022990000002), ExperimentResult(data=ExperimentResultData(counts=Obj(0x0=59, 0x1=75, 0x2=77, 0x3=63, 0x4=61, 0x5=61, 0x6=57, 0x7=65, 0x8=66, 0x9=57, 0xa=57, 0xb=79, 0xc=69, 0xd=54, 0xe=56, 0xf=68)), header=Obj(clbit_labels=[['cr', 0], ['cr', 1], ['cr', 2], ['cr', 3]], creg_sizes=[['cr', 4]], memory_slots=4, n_qubits=4, name='rb_purity_XX_length_2_seed_0', qreg_sizes=[['qr', 4]], qubit_labels=[['qr', 0], ['qr', 1], ['qr', 2], ['qr', 3]]), meas_level=2, metadata={'method': 'statevector', 'omp_shot_threads': 1, 'omp_state_threads': 4}, seed=3564493821, shots=1024, status='DONE', success=True, time_taken=2.206118844), ExperimentResult(data=ExperimentResultData(counts=Obj(0x0=64, 0x1=45, 0x2=68, 0x3=71, 0x4=63, 0x5=54, 0x6=76, 0x7=78, 0x8=77, 0x9=65, 0xa=47, 0xb=68, 0xc=62, 0xd=67, 0xe=64, 0xf=55)), header=Obj(clbit_labels=[['cr', 0], ['cr', 1], ['cr', 2], ['cr', 3]], creg_sizes=[['cr', 4]], memory_slots=4, n_qubits=4, name='rb_purity_XX_length_3_seed_0', qreg_sizes=[['qr', 4]], qubit_labels=[['qr', 0], ['qr', 1], ['qr', 2], ['qr', 3]]), meas_level=2, metadata={'method': 'statevector', 'omp_shot_threads': 1, 'omp_state_threads': 4}, seed=2144810723, shots=1024, status='DONE', success=True, time_taken=2.2507531480000003), ExperimentResult(data=ExperimentResultData(counts=Obj(0x0=75, 0x1=57, 0x2=51, 0x3=68, 0x4=79, 0x5=75, 0x6=70, 0x7=66, 0x8=62, 0x9=60, 0xa=53, 0xb=49, 0xc=67, 0xd=69, 0xe=68, 0xf=55)), header=Obj(clbit_labels=[['cr', 0], ['cr', 1], ['cr', 2], ['cr', 3]], creg_sizes=[['cr', 4]], memory_slots=4, n_qubits=4, name='rb_purity_XX_length_4_seed_0', qreg_sizes=[['qr', 4]], qubit_labels=[['qr', 0], ['qr', 1], ['qr', 2], ['qr', 3]]), meas_level=2, metadata={'method': 'statevector', 'omp_shot_threads': 1, 'omp_state_threads': 4}, seed=3572792914, shots=1024, status='DONE', success=True, time_taken=2.810220262)], status='COMPLETED', success=True, time_taken=9.489886045455933), Result(backend_name='qasm_simulator', backend_version='0.1.1', date=datetime.datetime(2019, 6, 20, 15, 18, 2, 823348), header=Obj(backend_name='qasm_simulator', backend_version='0.1.1'), job_id='8707a4bb-0173-49b9-8d03-94b0a3a4cb4b', metadata={'omp_available_threads': 4, 'omp_circuit_threads': 1, 'omp_enabled': True, 'time_taken': 8.842356183}, qobj_id='7be805c0-92ff-4632-87b1-99e502913f1a', results=[ExperimentResult(data=ExperimentResultData(counts=Obj(0x0=62, 0x1=59, 0x2=63, 0x3=56, 0x4=64, 0x5=65, 0x6=67, 0x7=62, 0x8=66, 0x9=51, 0xa=66, 0xb=74, 0xc=63, 0xd=61, 0xe=76, 0xf=69)), header=Obj(clbit_labels=[['cr', 0], ['cr', 1], ['cr', 2], ['cr', 3]], creg_sizes=[['cr', 4]], memory_slots=4, n_qubits=4, name='rb_purity_XX_length_0_seed_1', qreg_sizes=[['qr', 4]], qubit_labels=[['qr', 0], ['qr', 1], ['qr', 2], ['qr', 3]]), meas_level=2, metadata={'method': 'statevector', 'omp_shot_threads': 1, 'omp_state_threads': 4}, seed=2040705831, shots=1024, status='DONE', success=True, time_taken=0.33044102000000003), ExperimentResult(data=ExperimentResultData(counts=Obj(0x0=60, 0x1=78, 0x2=57, 0x3=66, 0x4=61, 0x5=52, 0x6=57, 0x7=69, 0x8=67, 0x9=71, 0xa=72, 0xb=63, 0xc=60, 0xd=71, 0xe=64, 0xf=56)), header=Obj(clbit_labels=[['cr', 0], ['cr', 1], ['cr', 2], ['cr', 3]], creg_sizes=[['cr', 4]], memory_slots=4, n_qubits=4, name='rb_purity_XX_length_1_seed_1', qreg_sizes=[['qr', 4]], qubit_labels=[['qr', 0], ['qr', 1], ['qr', 2], ['qr', 3]]), meas_level=2, metadata={'method': 'statevector', 'omp_shot_threads': 1, 'omp_state_threads': 4}, seed=2762282742, shots=1024, status='DONE', success=True, time_taken=1.2533098230000002), ExperimentResult(data=ExperimentResultData(counts=Obj(0x0=60, 0x1=61, 0x2=58, 0x3=59, 0x4=66, 0x5=71, 0x6=63, 0x7=71, 0x8=64, 0x9=57, 0xa=54, 0xb=59, 0xc=69, 0xd=78, 0xe=78, 0xf=56)), header=Obj(clbit_labels=[['cr', 0], ['cr', 1], ['cr', 2], ['cr', 3]], creg_sizes=[['cr', 4]], memory_slots=4, n_qubits=4, name='rb_purity_XX_length_2_seed_1', qreg_sizes=[['qr', 4]], qubit_labels=[['qr', 0], ['qr', 1], ['qr', 2], ['qr', 3]]), meas_level=2, metadata={'method': 'statevector', 'omp_shot_threads': 1, 'omp_state_threads': 4}, seed=3108642056, shots=1024, status='DONE', success=True, time_taken=2.114080532), ExperimentResult(data=ExperimentResultData(counts=Obj(0x0=61, 0x1=67, 0x2=61, 0x3=55, 0x4=57, 0x5=61, 0x6=70, 0x7=65, 0x8=77, 0x9=51, 0xa=64, 0xb=53, 0xc=83, 0xd=65, 0xe=68, 0xf=66)), header=Obj(clbit_labels=[['cr', 0], ['cr', 1], ['cr', 2], ['cr', 3]], creg_sizes=[['cr', 4]], memory_slots=4, n_qubits=4, name='rb_purity_XX_length_3_seed_1', qreg_sizes=[['qr', 4]], qubit_labels=[['qr', 0], ['qr', 1], ['qr', 2], ['qr', 3]]), meas_level=2, metadata={'method': 'statevector', 'omp_shot_threads': 1, 'omp_state_threads': 4}, seed=3403660069, shots=1024, status='DONE', success=True, time_taken=2.204118692), ExperimentResult(data=ExperimentResultData(counts=Obj(0x0=71, 0x1=58, 0x2=49, 0x3=61, 0x4=71, 0x5=74, 0x6=59, 0x7=66, 0x8=66, 0x9=66, 0xa=57, 0xb=66, 0xc=68, 0xd=80, 0xe=65, 0xf=47)), header=Obj(clbit_labels=[['cr', 0], ['cr', 1], ['cr', 2], ['cr', 3]], creg_sizes=[['cr', 4]], memory_slots=4, n_qubits=4, name='rb_purity_XX_length_4_seed_1', qreg_sizes=[['qr', 4]], qubit_labels=[['qr', 0], ['qr', 1], ['qr', 2], ['qr', 3]]), meas_level=2, metadata={'method': 'statevector', 'omp_shot_threads': 1, 'omp_state_threads': 4}, seed=4105974543, shots=1024, status='DONE', success=True, time_taken=2.9348580710000003)], status='COMPLETED', success=True, time_taken=9.043469190597534), Result(backend_name='qasm_simulator', backend_version='0.1.1', date=datetime.datetime(2019, 6, 20, 15, 19, 53, 300021), header=Obj(backend_name='qasm_simulator', backend_version='0.1.1'), job_id='f7f92373-b2f7-4b66-ae1f-043f0f194d34', metadata={'omp_available_threads': 4, 'omp_circuit_threads': 1, 'omp_enabled': True, 'time_taken': 9.355693651000001}, qobj_id='19723047-957c-402d-9bd7-35e01de1d4fc', results=[ExperimentResult(data=ExperimentResultData(counts=Obj(0x0=55, 0x1=59, 0x2=59, 0x3=59, 0x4=76, 0x5=63, 0x6=70, 0x7=54, 0x8=74, 0x9=61, 0xa=74, 0xb=69, 0xc=62, 0xd=57, 0xe=76, 0xf=56)), header=Obj(clbit_labels=[['cr', 0], ['cr', 1], ['cr', 2], ['cr', 3]], creg_sizes=[['cr', 4]], memory_slots=4, n_qubits=4, name='rb_purity_XX_length_0_seed_2', qreg_sizes=[['qr', 4]], qubit_labels=[['qr', 0], ['qr', 1], ['qr', 2], ['qr', 3]]), meas_level=2, metadata={'method': 'statevector', 'omp_shot_threads': 1, 'omp_state_threads': 4}, seed=2903118510, shots=1024, status='DONE', success=True, time_taken=0.250070024), ExperimentResult(data=ExperimentResultData(counts=Obj(0x0=74, 0x1=67, 0x2=65, 0x3=56, 0x4=68, 0x5=62, 0x6=69, 0x7=65, 0x8=62, 0x9=63, 0xa=56, 0xb=63, 0xc=72, 0xd=52, 0xe=69, 0xf=61)), header=Obj(clbit_labels=[['cr', 0], ['cr', 1], ['cr', 2], ['cr', 3]], creg_sizes=[['cr', 4]], memory_slots=4, n_qubits=4, name='rb_purity_XX_length_1_seed_2', qreg_sizes=[['qr', 4]], qubit_labels=[['qr', 0], ['qr', 1], ['qr', 2], ['qr', 3]]), meas_level=2, metadata={'method': 'statevector', 'omp_shot_threads': 1, 'omp_state_threads': 4}, seed=1979333308, shots=1024, status='DONE', success=True, time_taken=1.2610633150000001), ExperimentResult(data=ExperimentResultData(counts=Obj(0x0=64, 0x1=62, 0x2=73, 0x3=65, 0x4=61, 0x5=56, 0x6=86, 0x7=63, 0x8=73, 0x9=59, 0xa=58, 0xb=52, 0xc=65, 0xd=56, 0xe=68, 0xf=63)), header=Obj(clbit_labels=[['cr', 0], ['cr', 1], ['cr', 2], ['cr', 3]], creg_sizes=[['cr', 4]], memory_slots=4, n_qubits=4, name='rb_purity_XX_length_2_seed_2', qreg_sizes=[['qr', 4]], qubit_labels=[['qr', 0], ['qr', 1], ['qr', 2], ['qr', 3]]), meas_level=2, metadata={'method': 'statevector', 'omp_shot_threads': 1, 'omp_state_threads': 4}, seed=3890911767, shots=1024, status='DONE', success=True, time_taken=1.8539491950000002), ExperimentResult(data=ExperimentResultData(counts=Obj(0x0=66, 0x1=62, 0x2=60, 0x3=75, 0x4=45, 0x5=56, 0x6=66, 0x7=67, 0x8=71, 0x9=67, 0xa=72, 0xb=69, 0xc=64, 0xd=72, 0xe=53, 0xf=59)), header=Obj(clbit_labels=[['cr', 0], ['cr', 1], ['cr', 2], ['cr', 3]], creg_sizes=[['cr', 4]], memory_slots=4, n_qubits=4, name='rb_purity_XX_length_3_seed_2', qreg_sizes=[['qr', 4]], qubit_labels=[['qr', 0], ['qr', 1], ['qr', 2], ['qr', 3]]), meas_level=2, metadata={'method': 'statevector', 'omp_shot_threads': 1, 'omp_state_threads': 4}, seed=2889974553, shots=1024, status='DONE', success=True, time_taken=2.637465905), ExperimentResult(data=ExperimentResultData(counts=Obj(0x0=61, 0x1=67, 0x2=68, 0x3=60, 0x4=65, 0x5=66, 0x6=58, 0x7=57, 0x8=64, 0x9=68, 0xa=50, 0xb=69, 0xc=59, 0xd=65, 0xe=72, 0xf=75)), header=Obj(clbit_labels=[['cr', 0], ['cr', 1], ['cr', 2], ['cr', 3]], creg_sizes=[['cr', 4]], memory_slots=4, n_qubits=4, name='rb_purity_XX_length_4_seed_2', qreg_sizes=[['qr', 4]], qubit_labels=[['qr', 0], ['qr', 1], ['qr', 2], ['qr', 3]]), meas_level=2, metadata={'method': 'statevector', 'omp_shot_threads': 1, 'omp_state_threads': 4}, seed=679640491, shots=1024, status='DONE', success=True, time_taken=3.3475725630000004)], status='COMPLETED', success=True, time_taken=9.57951545715332)], [Result(backend_name='qasm_simulator', backend_version='0.1.1', date=datetime.datetime(2019, 6, 20, 15, 16, 13, 427309), header=Obj(backend_name='qasm_simulator', backend_version='0.1.1'), job_id='4d3889cb-7d45-4146-ba73-30bcd3ca2975', metadata={'omp_available_threads': 4, 'omp_circuit_threads': 1, 'omp_enabled': True, 'time_taken': 11.227569859}, qobj_id='884c882e-86cd-4038-bb4a-1e01c2502ee3', results=[ExperimentResult(data=ExperimentResultData(counts=Obj(0x0=77, 0x1=70, 0x2=65, 0x3=51, 0x4=68, 0x5=71, 0x6=64, 0x7=61, 0x8=64, 0x9=60, 0xa=56, 0xb=71, 0xc=59, 0xd=69, 0xe=56, 0xf=62)), header=Obj(clbit_labels=[['cr', 0], ['cr', 1], ['cr', 2], ['cr', 3]], creg_sizes=[['cr', 4]], memory_slots=4, n_qubits=4, name='rb_purity_YX_length_0_seed_0', qreg_sizes=[['qr', 4]], qubit_labels=[['qr', 0], ['qr', 1], ['qr', 2], ['qr', 3]]), meas_level=2, metadata={'method': 'statevector', 'omp_shot_threads': 1, 'omp_state_threads': 4}, seed=3950064141, shots=1024, status='DONE', success=True, time_taken=0.42641119600000005), ExperimentResult(data=ExperimentResultData(counts=Obj(0x0=67, 0x1=70, 0x2=65, 0x3=54, 0x4=71, 0x5=44, 0x6=50, 0x7=67, 0x8=73, 0x9=66, 0xa=71, 0xb=60, 0xc=63, 0xd=63, 0xe=77, 0xf=63)), header=Obj(clbit_labels=[['cr', 0], ['cr', 1], ['cr', 2], ['cr', 3]], creg_sizes=[['cr', 4]], memory_slots=4, n_qubits=4, name='rb_purity_YX_length_1_seed_0', qreg_sizes=[['qr', 4]], qubit_labels=[['qr', 0], ['qr', 1], ['qr', 2], ['qr', 3]]), meas_level=2, metadata={'method': 'statevector', 'omp_shot_threads': 1, 'omp_state_threads': 4}, seed=2566648459, shots=1024, status='DONE', success=True, time_taken=1.474434161), ExperimentResult(data=ExperimentResultData(counts=Obj(0x0=66, 0x1=68, 0x2=61, 0x3=67, 0x4=56, 0x5=73, 0x6=58, 0x7=54, 0x8=58, 0x9=60, 0xa=68, 0xb=68, 0xc=62, 0xd=70, 0xe=70, 0xf=65)), header=Obj(clbit_labels=[['cr', 0], ['cr', 1], ['cr', 2], ['cr', 3]], creg_sizes=[['cr', 4]], memory_slots=4, n_qubits=4, name='rb_purity_YX_length_2_seed_0', qreg_sizes=[['qr', 4]], qubit_labels=[['qr', 0], ['qr', 1], ['qr', 2], ['qr', 3]]), meas_level=2, metadata={'method': 'statevector', 'omp_shot_threads': 1, 'omp_state_threads': 4}, seed=3403330695, shots=1024, status='DONE', success=True, time_taken=2.4044961650000003), ExperimentResult(data=ExperimentResultData(counts=Obj(0x0=71, 0x1=76, 0x2=64, 0x3=63, 0x4=53, 0x5=72, 0x6=58, 0x7=66, 0x8=57, 0x9=60, 0xa=64, 0xb=75, 0xc=66, 0xd=63, 0xe=68, 0xf=48)), header=Obj(clbit_labels=[['cr', 0], ['cr', 1], ['cr', 2], ['cr', 3]], creg_sizes=[['cr', 4]], memory_slots=4, n_qubits=4, name='rb_purity_YX_length_3_seed_0', qreg_sizes=[['qr', 4]], qubit_labels=[['qr', 0], ['qr', 1], ['qr', 2], ['qr', 3]]), meas_level=2, metadata={'method': 'statevector', 'omp_shot_threads': 1, 'omp_state_threads': 4}, seed=765878973, shots=1024, status='DONE', success=True, time_taken=2.916046025), ExperimentResult(data=ExperimentResultData(counts=Obj(0x0=78, 0x1=61, 0x2=72, 0x3=55, 0x4=49, 0x5=59, 0x6=60, 0x7=69, 0x8=64, 0x9=71, 0xa=63, 0xb=72, 0xc=66, 0xd=53, 0xe=64, 0xf=68)), header=Obj(clbit_labels=[['cr', 0], ['cr', 1], ['cr', 2], ['cr', 3]], creg_sizes=[['cr', 4]], memory_slots=4, n_qubits=4, name='rb_purity_YX_length_4_seed_0', qreg_sizes=[['qr', 4]], qubit_labels=[['qr', 0], ['qr', 1], ['qr', 2], ['qr', 3]]), meas_level=2, metadata={'method': 'statevector', 'omp_shot_threads': 1, 'omp_state_threads': 4}, seed=1131755969, shots=1024, status='DONE', success=True, time_taken=4.0006531050000005)], status='COMPLETED', success=True, time_taken=11.472525119781494), Result(backend_name='qasm_simulator', backend_version='0.1.1', date=datetime.datetime(2019, 6, 20, 15, 18, 15, 950428), header=Obj(backend_name='qasm_simulator', backend_version='0.1.1'), job_id='e7121ea5-a5db-4daf-b29e-23b9c7709a4e', metadata={'omp_available_threads': 4, 'omp_circuit_threads': 1, 'omp_enabled': True, 'time_taken': 10.091946297}, qobj_id='b3595ad4-250a-4111-affb-a196d0db7084', results=[ExperimentResult(data=ExperimentResultData(counts=Obj(0x0=63, 0x1=62, 0x2=61, 0x3=73, 0x4=59, 0x5=67, 0x6=57, 0x7=71, 0x8=56, 0x9=55, 0xa=57, 0xb=75, 0xc=68, 0xd=59, 0xe=69, 0xf=72)), header=Obj(clbit_labels=[['cr', 0], ['cr', 1], ['cr', 2], ['cr', 3]], creg_sizes=[['cr', 4]], memory_slots=4, n_qubits=4, name='rb_purity_YX_length_0_seed_1', qreg_sizes=[['qr', 4]], qubit_labels=[['qr', 0], ['qr', 1], ['qr', 2], ['qr', 3]]), meas_level=2, metadata={'method': 'statevector', 'omp_shot_threads': 1, 'omp_state_threads': 4}, seed=777783650, shots=1024, status='DONE', success=True, time_taken=0.261943564), ExperimentResult(data=ExperimentResultData(counts=Obj(0x0=61, 0x1=62, 0x2=58, 0x3=65, 0x4=59, 0x5=70, 0x6=55, 0x7=66, 0x8=61, 0x9=63, 0xa=74, 0xb=78, 0xc=58, 0xd=62, 0xe=54, 0xf=78)), header=Obj(clbit_labels=[['cr', 0], ['cr', 1], ['cr', 2], ['cr', 3]], creg_sizes=[['cr', 4]], memory_slots=4, n_qubits=4, name='rb_purity_YX_length_1_seed_1', qreg_sizes=[['qr', 4]], qubit_labels=[['qr', 0], ['qr', 1], ['qr', 2], ['qr', 3]]), meas_level=2, metadata={'method': 'statevector', 'omp_shot_threads': 1, 'omp_state_threads': 4}, seed=3396903300, shots=1024, status='DONE', success=True, time_taken=1.0247501330000002), ExperimentResult(data=ExperimentResultData(counts=Obj(0x0=67, 0x1=70, 0x2=56, 0x3=69, 0x4=57, 0x5=61, 0x6=65, 0x7=74, 0x8=66, 0x9=54, 0xa=62, 0xb=67, 0xc=70, 0xd=66, 0xe=51, 0xf=69)), header=Obj(clbit_labels=[['cr', 0], ['cr', 1], ['cr', 2], ['cr', 3]], creg_sizes=[['cr', 4]], memory_slots=4, n_qubits=4, name='rb_purity_YX_length_2_seed_1', qreg_sizes=[['qr', 4]], qubit_labels=[['qr', 0], ['qr', 1], ['qr', 2], ['qr', 3]]), meas_level=2, metadata={'method': 'statevector', 'omp_shot_threads': 1, 'omp_state_threads': 4}, seed=680593052, shots=1024, status='DONE', success=True, time_taken=2.016733475), ExperimentResult(data=ExperimentResultData(counts=Obj(0x0=62, 0x1=64, 0x2=65, 0x3=77, 0x4=55, 0x5=58, 0x6=57, 0x7=64, 0x8=77, 0x9=67, 0xa=77, 0xb=49, 0xc=69, 0xd=72, 0xe=50, 0xf=61)), header=Obj(clbit_labels=[['cr', 0], ['cr', 1], ['cr', 2], ['cr', 3]], creg_sizes=[['cr', 4]], memory_slots=4, n_qubits=4, name='rb_purity_YX_length_3_seed_1', qreg_sizes=[['qr', 4]], qubit_labels=[['qr', 0], ['qr', 1], ['qr', 2], ['qr', 3]]), meas_level=2, metadata={'method': 'statevector', 'omp_shot_threads': 1, 'omp_state_threads': 4}, seed=1737669583, shots=1024, status='DONE', success=True, time_taken=2.553685508), ExperimentResult(data=ExperimentResultData(counts=Obj(0x0=67, 0x1=63, 0x2=58, 0x3=72, 0x4=67, 0x5=56, 0x6=57, 0x7=58, 0x8=65, 0x9=58, 0xa=75, 0xb=72, 0xc=69, 0xd=68, 0xe=67, 0xf=52)), header=Obj(clbit_labels=[['cr', 0], ['cr', 1], ['cr', 2], ['cr', 3]], creg_sizes=[['cr', 4]], memory_slots=4, n_qubits=4, name='rb_purity_YX_length_4_seed_1', qreg_sizes=[['qr', 4]], qubit_labels=[['qr', 0], ['qr', 1], ['qr', 2], ['qr', 3]]), meas_level=2, metadata={'method': 'statevector', 'omp_shot_threads': 1, 'omp_state_threads': 4}, seed=2875092855, shots=1024, status='DONE', success=True, time_taken=4.231344239)], status='COMPLETED', success=True, time_taken=10.222725868225098), Result(backend_name='qasm_simulator', backend_version='0.1.1', date=datetime.datetime(2019, 6, 20, 15, 20, 5, 325423), header=Obj(backend_name='qasm_simulator', backend_version='0.1.1'), job_id='7b173138-9956-44b6-bcb9-6c61e5f8ec0f', metadata={'omp_available_threads': 4, 'omp_circuit_threads': 1, 'omp_enabled': True, 'time_taken': 9.485123769000001}, qobj_id='5b38b6d5-c0ea-46a2-9ba8-40c0c16a5ebc', results=[ExperimentResult(data=ExperimentResultData(counts=Obj(0x0=61, 0x1=76, 0x2=58, 0x3=62, 0x4=75, 0x5=53, 0x6=72, 0x7=58, 0x8=59, 0x9=59, 0xa=55, 0xb=64, 0xc=64, 0xd=79, 0xe=71, 0xf=58)), header=Obj(clbit_labels=[['cr', 0], ['cr', 1], ['cr', 2], ['cr', 3]], creg_sizes=[['cr', 4]], memory_slots=4, n_qubits=4, name='rb_purity_YX_length_0_seed_2', qreg_sizes=[['qr', 4]], qubit_labels=[['qr', 0], ['qr', 1], ['qr', 2], ['qr', 3]]), meas_level=2, metadata={'method': 'statevector', 'omp_shot_threads': 1, 'omp_state_threads': 4}, seed=994607418, shots=1024, status='DONE', success=True, time_taken=0.248045122), ExperimentResult(data=ExperimentResultData(counts=Obj(0x0=62, 0x1=62, 0x2=65, 0x3=54, 0x4=65, 0x5=64, 0x6=68, 0x7=69, 0x8=69, 0x9=70, 0xa=68, 0xb=69, 0xc=67, 0xd=51, 0xe=59, 0xf=62)), header=Obj(clbit_labels=[['cr', 0], ['cr', 1], ['cr', 2], ['cr', 3]], creg_sizes=[['cr', 4]], memory_slots=4, n_qubits=4, name='rb_purity_YX_length_1_seed_2', qreg_sizes=[['qr', 4]], qubit_labels=[['qr', 0], ['qr', 1], ['qr', 2], ['qr', 3]]), meas_level=2, metadata={'method': 'statevector', 'omp_shot_threads': 1, 'omp_state_threads': 4}, seed=2719053442, shots=1024, status='DONE', success=True, time_taken=1.207142026), ExperimentResult(data=ExperimentResultData(counts=Obj(0x0=60, 0x1=68, 0x2=76, 0x3=52, 0x4=63, 0x5=64, 0x6=52, 0x7=64, 0x8=69, 0x9=76, 0xa=62, 0xb=58, 0xc=56, 0xd=74, 0xe=62, 0xf=68)), header=Obj(clbit_labels=[['cr', 0], ['cr', 1], ['cr', 2], ['cr', 3]], creg_sizes=[['cr', 4]], memory_slots=4, n_qubits=4, name='rb_purity_YX_length_2_seed_2', qreg_sizes=[['qr', 4]], qubit_labels=[['qr', 0], ['qr', 1], ['qr', 2], ['qr', 3]]), meas_level=2, metadata={'method': 'statevector', 'omp_shot_threads': 1, 'omp_state_threads': 4}, seed=3854433897, shots=1024, status='DONE', success=True, time_taken=1.73140566), ExperimentResult(data=ExperimentResultData(counts=Obj(0x0=69, 0x1=68, 0x2=61, 0x3=70, 0x4=55, 0x5=52, 0x6=79, 0x7=72, 0x8=58, 0x9=61, 0xa=56, 0xb=67, 0xc=57, 0xd=63, 0xe=68, 0xf=68)), header=Obj(clbit_labels=[['cr', 0], ['cr', 1], ['cr', 2], ['cr', 3]], creg_sizes=[['cr', 4]], memory_slots=4, n_qubits=4, name='rb_purity_YX_length_3_seed_2', qreg_sizes=[['qr', 4]], qubit_labels=[['qr', 0], ['qr', 1], ['qr', 2], ['qr', 3]]), meas_level=2, metadata={'method': 'statevector', 'omp_shot_threads': 1, 'omp_state_threads': 4}, seed=586069280, shots=1024, status='DONE', success=True, time_taken=3.214807726), ExperimentResult(data=ExperimentResultData(counts=Obj(0x0=63, 0x1=69, 0x2=63, 0x3=61, 0x4=68, 0x5=71, 0x6=53, 0x7=57, 0x8=72, 0x9=65, 0xa=66, 0xb=66, 0xc=51, 0xd=71, 0xe=60, 0xf=68)), header=Obj(clbit_labels=[['cr', 0], ['cr', 1], ['cr', 2], ['cr', 3]], creg_sizes=[['cr', 4]], memory_slots=4, n_qubits=4, name='rb_purity_YX_length_4_seed_2', qreg_sizes=[['qr', 4]], qubit_labels=[['qr', 0], ['qr', 1], ['qr', 2], ['qr', 3]]), meas_level=2, metadata={'method': 'statevector', 'omp_shot_threads': 1, 'omp_state_threads': 4}, seed=2578060774, shots=1024, status='DONE', success=True, time_taken=3.078767441)], status='COMPLETED', success=True, time_taken=9.663167238235474)], [Result(backend_name='qasm_simulator', backend_version='0.1.1', date=datetime.datetime(2019, 6, 20, 15, 16, 27, 257200), header=Obj(backend_name='qasm_simulator', backend_version='0.1.1'), job_id='ee79b416-d9b5-41e0-8637-4da01fc9687d', metadata={'omp_available_threads': 4, 'omp_circuit_threads': 1, 'omp_enabled': True, 'time_taken': 10.960679122}, qobj_id='75efefe3-eb79-47f3-bb23-452de70da6a9', results=[ExperimentResult(data=ExperimentResultData(counts=Obj(0x0=249, 0x1=4, 0x2=230, 0x3=4, 0x4=7, 0x6=4, 0x8=223, 0x9=3, 0xa=279, 0xb=10, 0xc=6, 0xe=5)), header=Obj(clbit_labels=[['cr', 0], ['cr', 1], ['cr', 2], ['cr', 3]], creg_sizes=[['cr', 4]], memory_slots=4, n_qubits=4, name='rb_purity_ZY_length_0_seed_0', qreg_sizes=[['qr', 4]], qubit_labels=[['qr', 0], ['qr', 1], ['qr', 2], ['qr', 3]]), meas_level=2, metadata={'method': 'statevector', 'omp_shot_threads': 1, 'omp_state_threads': 4}, seed=2885940191, shots=1024, status='DONE', success=True, time_taken=0.36308244500000003), ExperimentResult(data=ExperimentResultData(counts=Obj(0x0=207, 0x1=27, 0x2=199, 0x3=19, 0x4=20, 0x5=1, 0x6=23, 0x7=11, 0x8=212, 0x9=20, 0xa=183, 0xb=32, 0xc=32, 0xd=5, 0xe=32, 0xf=1)), header=Obj(clbit_labels=[['cr', 0], ['cr', 1], ['cr', 2], ['cr', 3]], creg_sizes=[['cr', 4]], memory_slots=4, n_qubits=4, name='rb_purity_ZY_length_1_seed_0', qreg_sizes=[['qr', 4]], qubit_labels=[['qr', 0], ['qr', 1], ['qr', 2], ['qr', 3]]), meas_level=2, metadata={'method': 'statevector', 'omp_shot_threads': 1, 'omp_state_threads': 4}, seed=1260330160, shots=1024, status='DONE', success=True, time_taken=1.30742694), ExperimentResult(data=ExperimentResultData(counts=Obj(0x0=189, 0x1=37, 0x2=170, 0x3=32, 0x4=47, 0x5=13, 0x6=43, 0x7=8, 0x8=180, 0x9=47, 0xa=147, 0xb=35, 0xc=28, 0xd=7, 0xe=36, 0xf=5)), header=Obj(clbit_labels=[['cr', 0], ['cr', 1], ['cr', 2], ['cr', 3]], creg_sizes=[['cr', 4]], memory_slots=4, n_qubits=4, name='rb_purity_ZY_length_2_seed_0', qreg_sizes=[['qr', 4]], qubit_labels=[['qr', 0], ['qr', 1], ['qr', 2], ['qr', 3]]), meas_level=2, metadata={'method': 'statevector', 'omp_shot_threads': 1, 'omp_state_threads': 4}, seed=2338881497, shots=1024, status='DONE', success=True, time_taken=1.801495405), ExperimentResult(data=ExperimentResultData(counts=Obj(0x0=160, 0x1=43, 0x2=143, 0x3=43, 0x4=34, 0x5=11, 0x6=44, 0x7=15, 0x8=169, 0x9=47, 0xa=146, 0xb=45, 0xc=50, 0xd=16, 0xe=47, 0xf=11)), header=Obj(clbit_labels=[['cr', 0], ['cr', 1], ['cr', 2], ['cr', 3]], creg_sizes=[['cr', 4]], memory_slots=4, n_qubits=4, name='rb_purity_ZY_length_3_seed_0', qreg_sizes=[['qr', 4]], qubit_labels=[['qr', 0], ['qr', 1], ['qr', 2], ['qr', 3]]), meas_level=2, metadata={'method': 'statevector', 'omp_shot_threads': 1, 'omp_state_threads': 4}, seed=824673872, shots=1024, status='DONE', success=True, time_taken=3.326306064), ExperimentResult(data=ExperimentResultData(counts=Obj(0x0=128, 0x1=47, 0x2=132, 0x3=54, 0x4=57, 0x5=27, 0x6=59, 0x7=16, 0x8=138, 0x9=50, 0xa=129, 0xb=47, 0xc=49, 0xd=23, 0xe=49, 0xf=19)), header=Obj(clbit_labels=[['cr', 0], ['cr', 1], ['cr', 2], ['cr', 3]], creg_sizes=[['cr', 4]], memory_slots=4, n_qubits=4, name='rb_purity_ZY_length_4_seed_0', qreg_sizes=[['qr', 4]], qubit_labels=[['qr', 0], ['qr', 1], ['qr', 2], ['qr', 3]]), meas_level=2, metadata={'method': 'statevector', 'omp_shot_threads': 1, 'omp_state_threads': 4}, seed=1914252329, shots=1024, status='DONE', success=True, time_taken=4.156047636)], status='COMPLETED', success=True, time_taken=11.164336681365967), Result(backend_name='qasm_simulator', backend_version='0.1.1', date=datetime.datetime(2019, 6, 20, 15, 18, 28, 527640), header=Obj(backend_name='qasm_simulator', backend_version='0.1.1'), job_id='ab2b383e-398f-4acf-95bf-ac28507adc7c', metadata={'omp_available_threads': 4, 'omp_circuit_threads': 1, 'omp_enabled': True, 'time_taken': 10.229927899}, qobj_id='85b5b600-0e87-4707-b82c-008ab7f8f571', results=[ExperimentResult(data=ExperimentResultData(counts=Obj(0x0=232, 0x1=4, 0x2=228, 0x3=3, 0x4=11, 0x5=1, 0x6=11, 0x8=251, 0x9=10, 0xa=240, 0xb=9, 0xc=13, 0xe=10, 0xf=1)), header=Obj(clbit_labels=[['cr', 0], ['cr', 1], ['cr', 2], ['cr', 3]], creg_sizes=[['cr', 4]], memory_slots=4, n_qubits=4, name='rb_purity_ZY_length_0_seed_1', qreg_sizes=[['qr', 4]], qubit_labels=[['qr', 0], ['qr', 1], ['qr', 2], ['qr', 3]]), meas_level=2, metadata={'method': 'statevector', 'omp_shot_threads': 1, 'omp_state_threads': 4}, seed=1974567194, shots=1024, status='DONE', success=True, time_taken=0.207746799), ExperimentResult(data=ExperimentResultData(counts=Obj(0x0=192, 0x1=33, 0x2=193, 0x3=21, 0x4=26, 0x5=7, 0x6=27, 0x7=7, 0x8=208, 0x9=24, 0xa=203, 0xb=19, 0xc=31, 0xd=4, 0xe=26, 0xf=3)), header=Obj(clbit_labels=[['cr', 0], ['cr', 1], ['cr', 2], ['cr', 3]], creg_sizes=[['cr', 4]], memory_slots=4, n_qubits=4, name='rb_purity_ZY_length_1_seed_1', qreg_sizes=[['qr', 4]], qubit_labels=[['qr', 0], ['qr', 1], ['qr', 2], ['qr', 3]]), meas_level=2, metadata={'method': 'statevector', 'omp_shot_threads': 1, 'omp_state_threads': 4}, seed=3364040216, shots=1024, status='DONE', success=True, time_taken=1.334569753), ExperimentResult(data=ExperimentResultData(counts=Obj(0x0=173, 0x1=38, 0x2=195, 0x3=34, 0x4=34, 0x5=10, 0x6=31, 0x7=5, 0x8=167, 0x9=41, 0xa=169, 0xb=31, 0xc=29, 0xd=9, 0xe=50, 0xf=8)), header=Obj(clbit_labels=[['cr', 0], ['cr', 1], ['cr', 2], ['cr', 3]], creg_sizes=[['cr', 4]], memory_slots=4, n_qubits=4, name='rb_purity_ZY_length_2_seed_1', qreg_sizes=[['qr', 4]], qubit_labels=[['qr', 0], ['qr', 1], ['qr', 2], ['qr', 3]]), meas_level=2, metadata={'method': 'statevector', 'omp_shot_threads': 1, 'omp_state_threads': 4}, seed=1832752489, shots=1024, status='DONE', success=True, time_taken=2.35092933), ExperimentResult(data=ExperimentResultData(counts=Obj(0x0=155, 0x1=39, 0x2=158, 0x3=47, 0x4=44, 0x5=11, 0x6=48, 0x7=21, 0x8=148, 0x9=50, 0xa=139, 0xb=47, 0xc=41, 0xd=14, 0xe=42, 0xf=20)), header=Obj(clbit_labels=[['cr', 0], ['cr', 1], ['cr', 2], ['cr', 3]], creg_sizes=[['cr', 4]], memory_slots=4, n_qubits=4, name='rb_purity_ZY_length_3_seed_1', qreg_sizes=[['qr', 4]], qubit_labels=[['qr', 0], ['qr', 1], ['qr', 2], ['qr', 3]]), meas_level=2, metadata={'method': 'statevector', 'omp_shot_threads': 1, 'omp_state_threads': 4}, seed=2920960967, shots=1024, status='DONE', success=True, time_taken=2.935734892), ExperimentResult(data=ExperimentResultData(counts=Obj(0x0=111, 0x1=48, 0x2=127, 0x3=50, 0x4=59, 0x5=24, 0x6=50, 0x7=27, 0x8=161, 0x9=47, 0xa=130, 0xb=66, 0xc=44, 0xd=21, 0xe=39, 0xf=20)), header=Obj(clbit_labels=[['cr', 0], ['cr', 1], ['cr', 2], ['cr', 3]], creg_sizes=[['cr', 4]], memory_slots=4, n_qubits=4, name='rb_purity_ZY_length_4_seed_1', qreg_sizes=[['qr', 4]], qubit_labels=[['qr', 0], ['qr', 1], ['qr', 2], ['qr', 3]]), meas_level=2, metadata={'method': 'statevector', 'omp_shot_threads': 1, 'omp_state_threads': 4}, seed=1732357438, shots=1024, status='DONE', success=True, time_taken=3.396102409)], status='COMPLETED', success=True, time_taken=10.371427536010742), Result(backend_name='qasm_simulator', backend_version='0.1.1', date=datetime.datetime(2019, 6, 20, 15, 20, 17, 74211), header=Obj(backend_name='qasm_simulator', backend_version='0.1.1'), job_id='b75afd77-2084-452b-a51d-b75b9f1bc3e9', metadata={'omp_available_threads': 4, 'omp_circuit_threads': 1, 'omp_enabled': True, 'time_taken': 9.274507861}, qobj_id='8acf2768-0958-4e1b-b93c-8891854e17b6', results=[ExperimentResult(data=ExperimentResultData(counts=Obj(0x0=236, 0x1=7, 0x2=248, 0x3=5, 0x4=6, 0x5=1, 0x6=9, 0x8=261, 0x9=4, 0xa=229, 0xb=8, 0xc=4, 0xe=6)), header=Obj(clbit_labels=[['cr', 0], ['cr', 1], ['cr', 2], ['cr', 3]], creg_sizes=[['cr', 4]], memory_slots=4, n_qubits=4, name='rb_purity_ZY_length_0_seed_2', qreg_sizes=[['qr', 4]], qubit_labels=[['qr', 0], ['qr', 1], ['qr', 2], ['qr', 3]]), meas_level=2, metadata={'method': 'statevector', 'omp_shot_threads': 1, 'omp_state_threads': 4}, seed=1267990304, shots=1024, status='DONE', success=True, time_taken=0.262978111), ExperimentResult(data=ExperimentResultData(counts=Obj(0x0=204, 0x1=25, 0x2=210, 0x3=22, 0x4=20, 0x5=5, 0x6=23, 0x7=3, 0x8=192, 0x9=21, 0xa=211, 0xb=21, 0xc=34, 0xd=5, 0xe=26, 0xf=2)), header=Obj(clbit_labels=[['cr', 0], ['cr', 1], ['cr', 2], ['cr', 3]], creg_sizes=[['cr', 4]], memory_slots=4, n_qubits=4, name='rb_purity_ZY_length_1_seed_2', qreg_sizes=[['qr', 4]], qubit_labels=[['qr', 0], ['qr', 1], ['qr', 2], ['qr', 3]]), meas_level=2, metadata={'method': 'statevector', 'omp_shot_threads': 1, 'omp_state_threads': 4}, seed=108883369, shots=1024, status='DONE', success=True, time_taken=1.3013180320000002), ExperimentResult(data=ExperimentResultData(counts=Obj(0x0=202, 0x1=31, 0x2=202, 0x3=24, 0x4=30, 0x5=11, 0x6=31, 0x7=4, 0x8=171, 0x9=36, 0xa=166, 0xb=30, 0xc=25, 0xd=13, 0xe=44, 0xf=4)), header=Obj(clbit_labels=[['cr', 0], ['cr', 1], ['cr', 2], ['cr', 3]], creg_sizes=[['cr', 4]], memory_slots=4, n_qubits=4, name='rb_purity_ZY_length_2_seed_2', qreg_sizes=[['qr', 4]], qubit_labels=[['qr', 0], ['qr', 1], ['qr', 2], ['qr', 3]]), meas_level=2, metadata={'method': 'statevector', 'omp_shot_threads': 1, 'omp_state_threads': 4}, seed=4122490733, shots=1024, status='DONE', success=True, time_taken=1.8761155610000002), ExperimentResult(data=ExperimentResultData(counts=Obj(0x0=157, 0x1=47, 0x2=134, 0x3=38, 0x4=46, 0x5=16, 0x6=44, 0x7=12, 0x8=157, 0x9=55, 0xa=155, 0xb=43, 0xc=54, 0xd=11, 0xe=42, 0xf=13)), header=Obj(clbit_labels=[['cr', 0], ['cr', 1], ['cr', 2], ['cr', 3]], creg_sizes=[['cr', 4]], memory_slots=4, n_qubits=4, name='rb_purity_ZY_length_3_seed_2', qreg_sizes=[['qr', 4]], qubit_labels=[['qr', 0], ['qr', 1], ['qr', 2], ['qr', 3]]), meas_level=2, metadata={'method': 'statevector', 'omp_shot_threads': 1, 'omp_state_threads': 4}, seed=3940916734, shots=1024, status='DONE', success=True, time_taken=2.765276891), ExperimentResult(data=ExperimentResultData(counts=Obj(0x0=153, 0x1=42, 0x2=147, 0x3=46, 0x4=53, 0x5=13, 0x6=48, 0x7=18, 0x8=133, 0x9=56, 0xa=127, 0xb=39, 0xc=53, 0xd=14, 0xe=60, 0xf=22)), header=Obj(clbit_labels=[['cr', 0], ['cr', 1], ['cr', 2], ['cr', 3]], creg_sizes=[['cr', 4]], memory_slots=4, n_qubits=4, name='rb_purity_ZY_length_4_seed_2', qreg_sizes=[['qr', 4]], qubit_labels=[['qr', 0], ['qr', 1], ['qr', 2], ['qr', 3]]), meas_level=2, metadata={'method': 'statevector', 'omp_shot_threads': 1, 'omp_state_threads': 4}, seed=3394946526, shots=1024, status='DONE', success=True, time_taken=3.0622560510000003)], status='COMPLETED', success=True, time_taken=9.463818073272705)], [Result(backend_name='qasm_simulator', backend_version='0.1.1', date=datetime.datetime(2019, 6, 20, 15, 16, 42, 122272), header=Obj(backend_name='qasm_simulator', backend_version='0.1.1'), job_id='0309395b-fc7f-41cc-ac20-37cee3fed759', metadata={'omp_available_threads': 4, 'omp_circuit_threads': 1, 'omp_enabled': True, 'time_taken': 12.231144624}, qobj_id='78408d58-b941-4e8f-b44c-0af9a3ddbba6', results=[ExperimentResult(data=ExperimentResultData(counts=Obj(0x0=70, 0x1=64, 0x2=60, 0x3=79, 0x4=61, 0x5=72, 0x6=62, 0x7=54, 0x8=61, 0x9=54, 0xa=60, 0xb=68, 0xc=65, 0xd=59, 0xe=68, 0xf=67)), header=Obj(clbit_labels=[['cr', 0], ['cr', 1], ['cr', 2], ['cr', 3]], creg_sizes=[['cr', 4]], memory_slots=4, n_qubits=4, name='rb_purity_XY_length_0_seed_0', qreg_sizes=[['qr', 4]], qubit_labels=[['qr', 0], ['qr', 1], ['qr', 2], ['qr', 3]]), meas_level=2, metadata={'method': 'statevector', 'omp_shot_threads': 1, 'omp_state_threads': 4}, seed=3734643387, shots=1024, status='DONE', success=True, time_taken=0.41470675500000004), ExperimentResult(data=ExperimentResultData(counts=Obj(0x0=70, 0x1=66, 0x2=71, 0x3=63, 0x4=60, 0x5=56, 0x6=67, 0x7=52, 0x8=53, 0x9=64, 0xa=59, 0xb=67, 0xc=70, 0xd=62, 0xe=71, 0xf=73)), header=Obj(clbit_labels=[['cr', 0], ['cr', 1], ['cr', 2], ['cr', 3]], creg_sizes=[['cr', 4]], memory_slots=4, n_qubits=4, name='rb_purity_XY_length_1_seed_0', qreg_sizes=[['qr', 4]], qubit_labels=[['qr', 0], ['qr', 1], ['qr', 2], ['qr', 3]]), meas_level=2, metadata={'method': 'statevector', 'omp_shot_threads': 1, 'omp_state_threads': 4}, seed=2546052872, shots=1024, status='DONE', success=True, time_taken=1.8508082670000001), ExperimentResult(data=ExperimentResultData(counts=Obj(0x0=66, 0x1=50, 0x2=60, 0x3=82, 0x4=64, 0x5=46, 0x6=66, 0x7=70, 0x8=56, 0x9=63, 0xa=63, 0xb=61, 0xc=65, 0xd=83, 0xe=67, 0xf=62)), header=Obj(clbit_labels=[['cr', 0], ['cr', 1], ['cr', 2], ['cr', 3]], creg_sizes=[['cr', 4]], memory_slots=4, n_qubits=4, name='rb_purity_XY_length_2_seed_0', qreg_sizes=[['qr', 4]], qubit_labels=[['qr', 0], ['qr', 1], ['qr', 2], ['qr', 3]]), meas_level=2, metadata={'method': 'statevector', 'omp_shot_threads': 1, 'omp_state_threads': 4}, seed=520810807, shots=1024, status='DONE', success=True, time_taken=1.9287684330000001), ExperimentResult(data=ExperimentResultData(counts=Obj(0x0=71, 0x1=67, 0x2=59, 0x3=70, 0x4=64, 0x5=71, 0x6=71, 0x7=61, 0x8=51, 0x9=65, 0xa=68, 0xb=62, 0xc=63, 0xd=68, 0xe=58, 0xf=55)), header=Obj(clbit_labels=[['cr', 0], ['cr', 1], ['cr', 2], ['cr', 3]], creg_sizes=[['cr', 4]], memory_slots=4, n_qubits=4, name='rb_purity_XY_length_3_seed_0', qreg_sizes=[['qr', 4]], qubit_labels=[['qr', 0], ['qr', 1], ['qr', 2], ['qr', 3]]), meas_level=2, metadata={'method': 'statevector', 'omp_shot_threads': 1, 'omp_state_threads': 4}, seed=1832988658, shots=1024, status='DONE', success=True, time_taken=3.615766379), ExperimentResult(data=ExperimentResultData(counts=Obj(0x0=54, 0x1=63, 0x2=77, 0x3=67, 0x4=65, 0x5=58, 0x6=65, 0x7=74, 0x8=73, 0x9=70, 0xa=60, 0xb=62, 0xc=57, 0xd=58, 0xe=63, 0xf=58)), header=Obj(clbit_labels=[['cr', 0], ['cr', 1], ['cr', 2], ['cr', 3]], creg_sizes=[['cr', 4]], memory_slots=4, n_qubits=4, name='rb_purity_XY_length_4_seed_0', qreg_sizes=[['qr', 4]], qubit_labels=[['qr', 0], ['qr', 1], ['qr', 2], ['qr', 3]]), meas_level=2, metadata={'method': 'statevector', 'omp_shot_threads': 1, 'omp_state_threads': 4}, seed=1108904811, shots=1024, status='DONE', success=True, time_taken=4.414433046)], status='COMPLETED', success=True, time_taken=12.384155988693237), Result(backend_name='qasm_simulator', backend_version='0.1.1', date=datetime.datetime(2019, 6, 20, 15, 18, 40, 697101), header=Obj(backend_name='qasm_simulator', backend_version='0.1.1'), job_id='0c816f48-5532-48c3-b34d-0a231e3af004', metadata={'omp_available_threads': 4, 'omp_circuit_threads': 1, 'omp_enabled': True, 'time_taken': 9.915804085000001}, qobj_id='a83eaeda-daee-4f7d-b990-7bc049dc85aa', results=[ExperimentResult(data=ExperimentResultData(counts=Obj(0x0=57, 0x1=61, 0x2=68, 0x3=53, 0x4=67, 0x5=64, 0x6=68, 0x7=68, 0x8=54, 0x9=71, 0xa=73, 0xb=64, 0xc=59, 0xd=75, 0xe=65, 0xf=57)), header=Obj(clbit_labels=[['cr', 0], ['cr', 1], ['cr', 2], ['cr', 3]], creg_sizes=[['cr', 4]], memory_slots=4, n_qubits=4, name='rb_purity_XY_length_0_seed_1', qreg_sizes=[['qr', 4]], qubit_labels=[['qr', 0], ['qr', 1], ['qr', 2], ['qr', 3]]), meas_level=2, metadata={'method': 'statevector', 'omp_shot_threads': 1, 'omp_state_threads': 4}, seed=3210672363, shots=1024, status='DONE', success=True, time_taken=0.293634149), ExperimentResult(data=ExperimentResultData(counts=Obj(0x0=61, 0x1=65, 0x2=55, 0x3=61, 0x4=73, 0x5=73, 0x6=63, 0x7=62, 0x8=58, 0x9=61, 0xa=64, 0xb=60, 0xc=65, 0xd=69, 0xe=62, 0xf=72)), header=Obj(clbit_labels=[['cr', 0], ['cr', 1], ['cr', 2], ['cr', 3]], creg_sizes=[['cr', 4]], memory_slots=4, n_qubits=4, name='rb_purity_XY_length_1_seed_1', qreg_sizes=[['qr', 4]], qubit_labels=[['qr', 0], ['qr', 1], ['qr', 2], ['qr', 3]]), meas_level=2, metadata={'method': 'statevector', 'omp_shot_threads': 1, 'omp_state_threads': 4}, seed=2289648367, shots=1024, status='DONE', success=True, time_taken=1.0548922840000001), ExperimentResult(data=ExperimentResultData(counts=Obj(0x0=52, 0x1=73, 0x2=55, 0x3=84, 0x4=62, 0x5=74, 0x6=65, 0x7=54, 0x8=63, 0x9=64, 0xa=37, 0xb=78, 0xc=74, 0xd=68, 0xe=58, 0xf=63)), header=Obj(clbit_labels=[['cr', 0], ['cr', 1], ['cr', 2], ['cr', 3]], creg_sizes=[['cr', 4]], memory_slots=4, n_qubits=4, name='rb_purity_XY_length_2_seed_1', qreg_sizes=[['qr', 4]], qubit_labels=[['qr', 0], ['qr', 1], ['qr', 2], ['qr', 3]]), meas_level=2, metadata={'method': 'statevector', 'omp_shot_threads': 1, 'omp_state_threads': 4}, seed=1878183961, shots=1024, status='DONE', success=True, time_taken=1.6430346370000002), ExperimentResult(data=ExperimentResultData(counts=Obj(0x0=71, 0x1=51, 0x2=63, 0x3=59, 0x4=69, 0x5=54, 0x6=62, 0x7=78, 0x8=65, 0x9=51, 0xa=63, 0xb=72, 0xc=86, 0xd=65, 0xe=67, 0xf=48)), header=Obj(clbit_labels=[['cr', 0], ['cr', 1], ['cr', 2], ['cr', 3]], creg_sizes=[['cr', 4]], memory_slots=4, n_qubits=4, name='rb_purity_XY_length_3_seed_1', qreg_sizes=[['qr', 4]], qubit_labels=[['qr', 0], ['qr', 1], ['qr', 2], ['qr', 3]]), meas_level=2, metadata={'method': 'statevector', 'omp_shot_threads': 1, 'omp_state_threads': 4}, seed=235142801, shots=1024, status='DONE', success=True, time_taken=3.102857596), ExperimentResult(data=ExperimentResultData(counts=Obj(0x0=63, 0x1=60, 0x2=60, 0x3=64, 0x4=52, 0x5=64, 0x6=54, 0x7=72, 0x8=73, 0x9=86, 0xa=78, 0xb=51, 0xc=67, 0xd=60, 0xe=65, 0xf=55)), header=Obj(clbit_labels=[['cr', 0], ['cr', 1], ['cr', 2], ['cr', 3]], creg_sizes=[['cr', 4]], memory_slots=4, n_qubits=4, name='rb_purity_XY_length_4_seed_1', qreg_sizes=[['qr', 4]], qubit_labels=[['qr', 0], ['qr', 1], ['qr', 2], ['qr', 3]]), meas_level=2, metadata={'method': 'statevector', 'omp_shot_threads': 1, 'omp_state_threads': 4}, seed=680116051, shots=1024, status='DONE', success=True, time_taken=3.817409501)], status='COMPLETED', success=True, time_taken=10.055892705917358), Result(backend_name='qasm_simulator', backend_version='0.1.1', date=datetime.datetime(2019, 6, 20, 15, 20, 28, 916791), header=Obj(backend_name='qasm_simulator', backend_version='0.1.1'), job_id='d2863d6c-9ea2-4058-8859-9bd7501df341', metadata={'omp_available_threads': 4, 'omp_circuit_threads': 1, 'omp_enabled': True, 'time_taken': 8.471485577000001}, qobj_id='5cbe6e34-470f-4b51-b9e9-22bedfea28b7', results=[ExperimentResult(data=ExperimentResultData(counts=Obj(0x0=56, 0x1=69, 0x2=80, 0x3=56, 0x4=59, 0x5=67, 0x6=85, 0x7=68, 0x8=50, 0x9=68, 0xa=55, 0xb=53, 0xc=57, 0xd=68, 0xe=63, 0xf=70)), header=Obj(clbit_labels=[['cr', 0], ['cr', 1], ['cr', 2], ['cr', 3]], creg_sizes=[['cr', 4]], memory_slots=4, n_qubits=4, name='rb_purity_XY_length_0_seed_2', qreg_sizes=[['qr', 4]], qubit_labels=[['qr', 0], ['qr', 1], ['qr', 2], ['qr', 3]]), meas_level=2, metadata={'method': 'statevector', 'omp_shot_threads': 1, 'omp_state_threads': 4}, seed=1521383501, shots=1024, status='DONE', success=True, time_taken=0.325597658), ExperimentResult(data=ExperimentResultData(counts=Obj(0x0=77, 0x1=56, 0x2=63, 0x3=62, 0x4=53, 0x5=67, 0x6=74, 0x7=57, 0x8=58, 0x9=67, 0xa=60, 0xb=69, 0xc=78, 0xd=51, 0xe=63, 0xf=69)), header=Obj(clbit_labels=[['cr', 0], ['cr', 1], ['cr', 2], ['cr', 3]], creg_sizes=[['cr', 4]], memory_slots=4, n_qubits=4, name='rb_purity_XY_length_1_seed_2', qreg_sizes=[['qr', 4]], qubit_labels=[['qr', 0], ['qr', 1], ['qr', 2], ['qr', 3]]), meas_level=2, metadata={'method': 'statevector', 'omp_shot_threads': 1, 'omp_state_threads': 4}, seed=3147812088, shots=1024, status='DONE', success=True, time_taken=0.8647563920000001), ExperimentResult(data=ExperimentResultData(counts=Obj(0x0=72, 0x1=58, 0x2=65, 0x3=63, 0x4=60, 0x5=66, 0x6=65, 0x7=69, 0x8=69, 0x9=60, 0xa=72, 0xb=60, 0xc=62, 0xd=56, 0xe=58, 0xf=69)), header=Obj(clbit_labels=[['cr', 0], ['cr', 1], ['cr', 2], ['cr', 3]], creg_sizes=[['cr', 4]], memory_slots=4, n_qubits=4, name='rb_purity_XY_length_2_seed_2', qreg_sizes=[['qr', 4]], qubit_labels=[['qr', 0], ['qr', 1], ['qr', 2], ['qr', 3]]), meas_level=2, metadata={'method': 'statevector', 'omp_shot_threads': 1, 'omp_state_threads': 4}, seed=4105673879, shots=1024, status='DONE', success=True, time_taken=1.7953274160000001), ExperimentResult(data=ExperimentResultData(counts=Obj(0x0=66, 0x1=64, 0x2=75, 0x3=47, 0x4=68, 0x5=56, 0x6=56, 0x7=68, 0x8=65, 0x9=75, 0xa=61, 0xb=66, 0xc=57, 0xd=65, 0xe=64, 0xf=71)), header=Obj(clbit_labels=[['cr', 0], ['cr', 1], ['cr', 2], ['cr', 3]], creg_sizes=[['cr', 4]], memory_slots=4, n_qubits=4, name='rb_purity_XY_length_3_seed_2', qreg_sizes=[['qr', 4]], qubit_labels=[['qr', 0], ['qr', 1], ['qr', 2], ['qr', 3]]), meas_level=2, metadata={'method': 'statevector', 'omp_shot_threads': 1, 'omp_state_threads': 4}, seed=507130877, shots=1024, status='DONE', success=True, time_taken=2.622129493), ExperimentResult(data=ExperimentResultData(counts=Obj(0x0=64, 0x1=70, 0x2=55, 0x3=55, 0x4=57, 0x5=59, 0x6=79, 0x7=61, 0x8=67, 0x9=61, 0xa=55, 0xb=71, 0xc=60, 0xd=75, 0xe=73, 0xf=62)), header=Obj(clbit_labels=[['cr', 0], ['cr', 1], ['cr', 2], ['cr', 3]], creg_sizes=[['cr', 4]], memory_slots=4, n_qubits=4, name='rb_purity_XY_length_4_seed_2', qreg_sizes=[['qr', 4]], qubit_labels=[['qr', 0], ['qr', 1], ['qr', 2], ['qr', 3]]), meas_level=2, metadata={'method': 'statevector', 'omp_shot_threads': 1, 'omp_state_threads': 4}, seed=3643028584, shots=1024, status='DONE', success=True, time_taken=2.858548819)], status='COMPLETED', success=True, time_taken=8.662233352661133)], [Result(backend_name='qasm_simulator', backend_version='0.1.1', date=datetime.datetime(2019, 6, 20, 15, 16, 56, 543881), header=Obj(backend_name='qasm_simulator', backend_version='0.1.1'), job_id='e24f542e-e3a6-4c39-8db1-a97f9c126457', metadata={'omp_available_threads': 4, 'omp_circuit_threads': 1, 'omp_enabled': True, 'time_taken': 11.134777633}, qobj_id='a9c6a21d-dff5-4d2d-a9ca-6f28d31b13f7', results=[ExperimentResult(data=ExperimentResultData(counts=Obj(0x0=69, 0x1=61, 0x2=70, 0x3=64, 0x4=60, 0x5=56, 0x6=72, 0x7=63, 0x8=67, 0x9=62, 0xa=69, 0xb=63, 0xc=57, 0xd=57, 0xe=70, 0xf=64)), header=Obj(clbit_labels=[['cr', 0], ['cr', 1], ['cr', 2], ['cr', 3]], creg_sizes=[['cr', 4]], memory_slots=4, n_qubits=4, name='rb_purity_YY_length_0_seed_0', qreg_sizes=[['qr', 4]], qubit_labels=[['qr', 0], ['qr', 1], ['qr', 2], ['qr', 3]]), meas_level=2, metadata={'method': 'statevector', 'omp_shot_threads': 1, 'omp_state_threads': 4}, seed=3423408702, shots=1024, status='DONE', success=True, time_taken=0.36997326), ExperimentResult(data=ExperimentResultData(counts=Obj(0x0=59, 0x1=70, 0x2=65, 0x3=54, 0x4=73, 0x5=61, 0x6=59, 0x7=79, 0x8=71, 0x9=62, 0xa=65, 0xb=48, 0xc=46, 0xd=74, 0xe=58, 0xf=80)), header=Obj(clbit_labels=[['cr', 0], ['cr', 1], ['cr', 2], ['cr', 3]], creg_sizes=[['cr', 4]], memory_slots=4, n_qubits=4, name='rb_purity_YY_length_1_seed_0', qreg_sizes=[['qr', 4]], qubit_labels=[['qr', 0], ['qr', 1], ['qr', 2], ['qr', 3]]), meas_level=2, metadata={'method': 'statevector', 'omp_shot_threads': 1, 'omp_state_threads': 4}, seed=4035471598, shots=1024, status='DONE', success=True, time_taken=1.366882984), ExperimentResult(data=ExperimentResultData(counts=Obj(0x0=59, 0x1=82, 0x2=57, 0x3=65, 0x4=66, 0x5=62, 0x6=71, 0x7=58, 0x8=60, 0x9=66, 0xa=64, 0xb=52, 0xc=77, 0xd=53, 0xe=61, 0xf=71)), header=Obj(clbit_labels=[['cr', 0], ['cr', 1], ['cr', 2], ['cr', 3]], creg_sizes=[['cr', 4]], memory_slots=4, n_qubits=4, name='rb_purity_YY_length_2_seed_0', qreg_sizes=[['qr', 4]], qubit_labels=[['qr', 0], ['qr', 1], ['qr', 2], ['qr', 3]]), meas_level=2, metadata={'method': 'statevector', 'omp_shot_threads': 1, 'omp_state_threads': 4}, seed=2331287070, shots=1024, status='DONE', success=True, time_taken=1.8770549060000001), ExperimentResult(data=ExperimentResultData(counts=Obj(0x0=67, 0x1=66, 0x2=59, 0x3=59, 0x4=78, 0x5=54, 0x6=74, 0x7=53, 0x8=69, 0x9=64, 0xa=67, 0xb=66, 0xc=55, 0xd=59, 0xe=70, 0xf=64)), header=Obj(clbit_labels=[['cr', 0], ['cr', 1], ['cr', 2], ['cr', 3]], creg_sizes=[['cr', 4]], memory_slots=4, n_qubits=4, name='rb_purity_YY_length_3_seed_0', qreg_sizes=[['qr', 4]], qubit_labels=[['qr', 0], ['qr', 1], ['qr', 2], ['qr', 3]]), meas_level=2, metadata={'method': 'statevector', 'omp_shot_threads': 1, 'omp_state_threads': 4}, seed=3372574755, shots=1024, status='DONE', success=True, time_taken=3.300538587), ExperimentResult(data=ExperimentResultData(counts=Obj(0x0=70, 0x1=73, 0x2=62, 0x3=67, 0x4=57, 0x5=64, 0x6=63, 0x7=64, 0x8=70, 0x9=51, 0xa=55, 0xb=71, 0xc=62, 0xd=68, 0xe=66, 0xf=61)), header=Obj(clbit_labels=[['cr', 0], ['cr', 1], ['cr', 2], ['cr', 3]], creg_sizes=[['cr', 4]], memory_slots=4, n_qubits=4, name='rb_purity_YY_length_4_seed_0', qreg_sizes=[['qr', 4]], qubit_labels=[['qr', 0], ['qr', 1], ['qr', 2], ['qr', 3]]), meas_level=2, metadata={'method': 'statevector', 'omp_shot_threads': 1, 'omp_state_threads': 4}, seed=3398982788, shots=1024, status='DONE', success=True, time_taken=4.214757232)], status='COMPLETED', success=True, time_taken=11.33163046836853), Result(backend_name='qasm_simulator', backend_version='0.1.1', date=datetime.datetime(2019, 6, 20, 15, 18, 53, 221868), header=Obj(backend_name='qasm_simulator', backend_version='0.1.1'), job_id='9a185dc0-9f4d-4649-a0c0-7b49c018509d', metadata={'omp_available_threads': 4, 'omp_circuit_threads': 1, 'omp_enabled': True, 'time_taken': 9.972961846}, qobj_id='bd03be4a-aa35-4bae-ba12-7df0f601b3fa', results=[ExperimentResult(data=ExperimentResultData(counts=Obj(0x0=64, 0x1=74, 0x2=73, 0x3=57, 0x4=59, 0x5=60, 0x6=64, 0x7=55, 0x8=62, 0x9=65, 0xa=66, 0xb=73, 0xc=74, 0xd=57, 0xe=59, 0xf=62)), header=Obj(clbit_labels=[['cr', 0], ['cr', 1], ['cr', 2], ['cr', 3]], creg_sizes=[['cr', 4]], memory_slots=4, n_qubits=4, name='rb_purity_YY_length_0_seed_1', qreg_sizes=[['qr', 4]], qubit_labels=[['qr', 0], ['qr', 1], ['qr', 2], ['qr', 3]]), meas_level=2, metadata={'method': 'statevector', 'omp_shot_threads': 1, 'omp_state_threads': 4}, seed=3236188824, shots=1024, status='DONE', success=True, time_taken=0.23914248000000002), ExperimentResult(data=ExperimentResultData(counts=Obj(0x0=77, 0x1=58, 0x2=58, 0x3=60, 0x4=58, 0x5=67, 0x6=66, 0x7=62, 0x8=62, 0x9=82, 0xa=61, 0xb=56, 0xc=68, 0xd=52, 0xe=75, 0xf=62)), header=Obj(clbit_labels=[['cr', 0], ['cr', 1], ['cr', 2], ['cr', 3]], creg_sizes=[['cr', 4]], memory_slots=4, n_qubits=4, name='rb_purity_YY_length_1_seed_1', qreg_sizes=[['qr', 4]], qubit_labels=[['qr', 0], ['qr', 1], ['qr', 2], ['qr', 3]]), meas_level=2, metadata={'method': 'statevector', 'omp_shot_threads': 1, 'omp_state_threads': 4}, seed=3190610491, shots=1024, status='DONE', success=True, time_taken=1.1693241540000001), ExperimentResult(data=ExperimentResultData(counts=Obj(0x0=69, 0x1=59, 0x2=67, 0x3=60, 0x4=70, 0x5=51, 0x6=53, 0x7=69, 0x8=83, 0x9=67, 0xa=68, 0xb=74, 0xc=69, 0xd=66, 0xe=50, 0xf=49)), header=Obj(clbit_labels=[['cr', 0], ['cr', 1], ['cr', 2], ['cr', 3]], creg_sizes=[['cr', 4]], memory_slots=4, n_qubits=4, name='rb_purity_YY_length_2_seed_1', qreg_sizes=[['qr', 4]], qubit_labels=[['qr', 0], ['qr', 1], ['qr', 2], ['qr', 3]]), meas_level=2, metadata={'method': 'statevector', 'omp_shot_threads': 1, 'omp_state_threads': 4}, seed=541799672, shots=1024, status='DONE', success=True, time_taken=1.7205206370000001), ExperimentResult(data=ExperimentResultData(counts=Obj(0x0=62, 0x1=69, 0x2=73, 0x3=59, 0x4=63, 0x5=58, 0x6=64, 0x7=63, 0x8=68, 0x9=67, 0xa=61, 0xb=60, 0xc=67, 0xd=58, 0xe=65, 0xf=67)), header=Obj(clbit_labels=[['cr', 0], ['cr', 1], ['cr', 2], ['cr', 3]], creg_sizes=[['cr', 4]], memory_slots=4, n_qubits=4, name='rb_purity_YY_length_3_seed_1', qreg_sizes=[['qr', 4]], qubit_labels=[['qr', 0], ['qr', 1], ['qr', 2], ['qr', 3]]), meas_level=2, metadata={'method': 'statevector', 'omp_shot_threads': 1, 'omp_state_threads': 4}, seed=752328355, shots=1024, status='DONE', success=True, time_taken=2.881800804), ExperimentResult(data=ExperimentResultData(counts=Obj(0x0=63, 0x1=63, 0x2=61, 0x3=58, 0x4=74, 0x5=54, 0x6=65, 0x7=72, 0x8=74, 0x9=73, 0xa=55, 0xb=59, 0xc=61, 0xd=66, 0xe=66, 0xf=60)), header=Obj(clbit_labels=[['cr', 0], ['cr', 1], ['cr', 2], ['cr', 3]], creg_sizes=[['cr', 4]], memory_slots=4, n_qubits=4, name='rb_purity_YY_length_4_seed_1', qreg_sizes=[['qr', 4]], qubit_labels=[['qr', 0], ['qr', 1], ['qr', 2], ['qr', 3]]), meas_level=2, metadata={'method': 'statevector', 'omp_shot_threads': 1, 'omp_state_threads': 4}, seed=3023263172, shots=1024, status='DONE', success=True, time_taken=3.9575677380000003)], status='COMPLETED', success=True, time_taken=10.121575117111206), Result(backend_name='qasm_simulator', backend_version='0.1.1', date=datetime.datetime(2019, 6, 20, 15, 20, 41, 99409), header=Obj(backend_name='qasm_simulator', backend_version='0.1.1'), job_id='caac4aed-8c5e-4a2e-b84b-902c1ffef54e', metadata={'omp_available_threads': 4, 'omp_circuit_threads': 1, 'omp_enabled': True, 'time_taken': 9.80402651}, qobj_id='56123787-4a01-4a86-b5ce-dbd5e1d593fd', results=[ExperimentResult(data=ExperimentResultData(counts=Obj(0x0=65, 0x1=61, 0x2=72, 0x3=68, 0x4=71, 0x5=50, 0x6=75, 0x7=64, 0x8=65, 0x9=58, 0xa=58, 0xb=66, 0xc=58, 0xd=71, 0xe=73, 0xf=49)), header=Obj(clbit_labels=[['cr', 0], ['cr', 1], ['cr', 2], ['cr', 3]], creg_sizes=[['cr', 4]], memory_slots=4, n_qubits=4, name='rb_purity_YY_length_0_seed_2', qreg_sizes=[['qr', 4]], qubit_labels=[['qr', 0], ['qr', 1], ['qr', 2], ['qr', 3]]), meas_level=2, metadata={'method': 'statevector', 'omp_shot_threads': 1, 'omp_state_threads': 4}, seed=2736019169, shots=1024, status='DONE', success=True, time_taken=0.235701929), ExperimentResult(data=ExperimentResultData(counts=Obj(0x0=74, 0x1=68, 0x2=49, 0x3=59, 0x4=62, 0x5=54, 0x6=53, 0x7=70, 0x8=55, 0x9=66, 0xa=60, 0xb=76, 0xc=80, 0xd=63, 0xe=78, 0xf=57)), header=Obj(clbit_labels=[['cr', 0], ['cr', 1], ['cr', 2], ['cr', 3]], creg_sizes=[['cr', 4]], memory_slots=4, n_qubits=4, name='rb_purity_YY_length_1_seed_2', qreg_sizes=[['qr', 4]], qubit_labels=[['qr', 0], ['qr', 1], ['qr', 2], ['qr', 3]]), meas_level=2, metadata={'method': 'statevector', 'omp_shot_threads': 1, 'omp_state_threads': 4}, seed=2286069629, shots=1024, status='DONE', success=True, time_taken=0.8555460850000001), ExperimentResult(data=ExperimentResultData(counts=Obj(0x0=68, 0x1=68, 0x2=74, 0x3=58, 0x4=76, 0x5=54, 0x6=67, 0x7=63, 0x8=65, 0x9=65, 0xa=57, 0xb=72, 0xc=60, 0xd=56, 0xe=55, 0xf=66)), header=Obj(clbit_labels=[['cr', 0], ['cr', 1], ['cr', 2], ['cr', 3]], creg_sizes=[['cr', 4]], memory_slots=4, n_qubits=4, name='rb_purity_YY_length_2_seed_2', qreg_sizes=[['qr', 4]], qubit_labels=[['qr', 0], ['qr', 1], ['qr', 2], ['qr', 3]]), meas_level=2, metadata={'method': 'statevector', 'omp_shot_threads': 1, 'omp_state_threads': 4}, seed=672794049, shots=1024, status='DONE', success=True, time_taken=1.8892944180000002), ExperimentResult(data=ExperimentResultData(counts=Obj(0x0=62, 0x1=78, 0x2=68, 0x3=69, 0x4=70, 0x5=63, 0x6=49, 0x7=63, 0x8=53, 0x9=65, 0xa=73, 0xb=49, 0xc=65, 0xd=71, 0xe=71, 0xf=55)), header=Obj(clbit_labels=[['cr', 0], ['cr', 1], ['cr', 2], ['cr', 3]], creg_sizes=[['cr', 4]], memory_slots=4, n_qubits=4, name='rb_purity_YY_length_3_seed_2', qreg_sizes=[['qr', 4]], qubit_labels=[['qr', 0], ['qr', 1], ['qr', 2], ['qr', 3]]), meas_level=2, metadata={'method': 'statevector', 'omp_shot_threads': 1, 'omp_state_threads': 4}, seed=2540577609, shots=1024, status='DONE', success=True, time_taken=2.887768221), ExperimentResult(data=ExperimentResultData(counts=Obj(0x0=62, 0x1=73, 0x2=58, 0x3=61, 0x4=63, 0x5=51, 0x6=68, 0x7=64, 0x8=61, 0x9=62, 0xa=66, 0xb=62, 0xc=69, 0xd=68, 0xe=72, 0xf=64)), header=Obj(clbit_labels=[['cr', 0], ['cr', 1], ['cr', 2], ['cr', 3]], creg_sizes=[['cr', 4]], memory_slots=4, n_qubits=4, name='rb_purity_YY_length_4_seed_2', qreg_sizes=[['qr', 4]], qubit_labels=[['qr', 0], ['qr', 1], ['qr', 2], ['qr', 3]]), meas_level=2, metadata={'method': 'statevector', 'omp_shot_threads': 1, 'omp_state_threads': 4}, seed=227274924, shots=1024, status='DONE', success=True, time_taken=3.9309181740000003)], status='COMPLETED', success=True, time_taken=9.983015775680542)]]\n",
      "[[{'mean': array([0.96061198, 0.8499349 , 0.75260417, 0.65266927, 0.58235677]), 'std': array([0.00322249, 0.01281577, 0.01207502, 0.03194751, 0.02509257])}, {'mean': array([0.95768229, 0.83496094, 0.73404948, 0.6624349 , 0.59960938]), 'std': array([0.00322249, 0.01885213, 0.00439152, 0.01749353, 0.01283229])}], [{'mean': array([0.47623698, 0.45052083, 0.41536458, 0.38867188, 0.3688151 ]), 'std': array([0.0194388 , 0.00542752, 0.00874676, 0.01823498, 0.01438198])}, {'mean': array([0.48795573, 0.44238281, 0.40201823, 0.39420573, 0.3688151 ]), 'std': array([0.00878303, 0.0097003 , 0.00881915, 0.0188746 , 0.00906796])}], [{'mean': array([0.4921875 , 0.43684896, 0.40917969, 0.40592448, 0.35026042]), 'std': array([0.01476731, 0.00322249, 0.01381068, 0.01595384, 0.00814453])}, {'mean': array([0.48144531, 0.43326823, 0.41601562, 0.39973958, 0.34895833]), 'std': array([0.03323184, 0.00439152, 0.00522864, 0.0146231 , 0.01453588])}], [{'mean': array([0.48339844, 0.4436849 , 0.4124349 , 0.3811849 , 0.37369792]), 'std': array([0.00652667, 0.02165142, 0.01076682, 0.01070761, 0.0097439 ])}, {'mean': array([0.46744792, 0.43391927, 0.39778646, 0.37792969, 0.35449219]), 'std': array([0.01769229, 0.00957939, 0.01751169, 0.00347561, 0.00421923])}], [{'mean': array([0.26041667, 0.25488281, 0.25292969, 0.25716146, 0.26302083]), 'std': array([0.00917253, 0.01124815, 0.00318944, 0.01288997, 0.01431552])}, {'mean': array([0.23990885, 0.25878906, 0.25260417, 0.24576823, 0.24283854]), 'std': array([0.01372602, 0.00485015, 0.01481746, 0.00798688, 0.00696645])}], [{'mean': array([0.2516276 , 0.25260417, 0.24414062, 0.2438151 , 0.25358073]), 'std': array([0.00881915, 0.01427104, 0.00730792, 0.0097439 , 0.00587743])}, {'mean': array([0.25358073, 0.24251302, 0.25390625, 0.26367188, 0.25455729]), 'std': array([0.00243597, 0.00542752, 0.00276214, 0.00276214, 0.00401329])}], [{'mean': array([0.48795573, 0.44856771, 0.41503906, 0.39550781, 0.37076823]), 'std': array([0.01012783, 0.00852591, 0.01647663, 0.01174585, 0.00860016])}, {'mean': array([0.47200521, 0.44010417, 0.43196615, 0.37890625, 0.3531901 ]), 'std': array([0.01183572, 0.00881915, 0.01246367, 0.0091956 , 0.02073647])}], [{'mean': array([0.23307292, 0.25260417, 0.24902344, 0.25911458, 0.24479167]), 'std': array([0.01400118, 0.00530908, 0.00552427, 0.01794208, 0.00301876])}, {'mean': array([0.2516276 , 0.25065104, 0.25390625, 0.2483724 , 0.24479167]), 'std': array([0.01374916, 0.01120094, 0.00276214, 0.00931012, 0.00723506])}], [{'mean': array([0.25097656, 0.25553385, 0.26757812, 0.25358073, 0.25585938]), 'std': array([0.00276214, 0.00906796, 0.01206625, 0.00757842, 0.00708709])}, {'mean': array([0.25976562, 0.24446615, 0.25585938, 0.25748698, 0.25097656]), 'std': array([0.00159472, 0.00200665, 0.00522864, 0.0103759 , 0.01096189])}]]\n",
      "[[ 1  9 17 25 33]\n",
      " [ 1  9 17 25 33]]\n"
     ]
    }
   ],
   "source": [
    "print (rbfit_purity1.raw_data)\n",
    "print (rbfit_purity1.seeds)\n",
    "print (rbfit_purity1.fit)\n",
    "print (rbfit_purity1.fit_pur)\n",
    "print (rbfit_purity1.rb_fit_fun)\n",
    "print (rbfit_purity1.results)\n",
    "print (rbfit_purity1.ydata_pur)\n",
    "print (rbfit_purity1.ydata)\n",
    "print (rbfit_purity1.cliff_lengths)"
   ]
  },
  {
   "cell_type": "code",
   "execution_count": 28,
   "metadata": {},
   "outputs": [
    {
     "name": "stdout",
     "output_type": "stream",
     "text": [
      "[[{'mean': array([0.96061198, 0.8499349 , 0.75260417, 0.65266927, 0.58235677]), 'std': array([0.00322249, 0.01281577, 0.01207502, 0.03194751, 0.02509257])}, {'mean': array([0.95768229, 0.83496094, 0.73404948, 0.6624349 , 0.59960938]), 'std': array([0.00322249, 0.01885213, 0.00439152, 0.01749353, 0.01283229])}], [{'mean': array([0.47623698, 0.45052083, 0.41536458, 0.38867188, 0.3688151 ]), 'std': array([0.0194388 , 0.00542752, 0.00874676, 0.01823498, 0.01438198])}, {'mean': array([0.48795573, 0.44238281, 0.40201823, 0.39420573, 0.3688151 ]), 'std': array([0.00878303, 0.0097003 , 0.00881915, 0.0188746 , 0.00906796])}], [{'mean': array([0.4921875 , 0.43684896, 0.40917969, 0.40592448, 0.35026042]), 'std': array([0.01476731, 0.00322249, 0.01381068, 0.01595384, 0.00814453])}, {'mean': array([0.48144531, 0.43326823, 0.41601562, 0.39973958, 0.34895833]), 'std': array([0.03323184, 0.00439152, 0.00522864, 0.0146231 , 0.01453588])}], [{'mean': array([0.48339844, 0.4436849 , 0.4124349 , 0.3811849 , 0.37369792]), 'std': array([0.00652667, 0.02165142, 0.01076682, 0.01070761, 0.0097439 ])}, {'mean': array([0.46744792, 0.43391927, 0.39778646, 0.37792969, 0.35449219]), 'std': array([0.01769229, 0.00957939, 0.01751169, 0.00347561, 0.00421923])}], [{'mean': array([0.26041667, 0.25488281, 0.25292969, 0.25716146, 0.26302083]), 'std': array([0.00917253, 0.01124815, 0.00318944, 0.01288997, 0.01431552])}, {'mean': array([0.23990885, 0.25878906, 0.25260417, 0.24576823, 0.24283854]), 'std': array([0.01372602, 0.00485015, 0.01481746, 0.00798688, 0.00696645])}], [{'mean': array([0.2516276 , 0.25260417, 0.24414062, 0.2438151 , 0.25358073]), 'std': array([0.00881915, 0.01427104, 0.00730792, 0.0097439 , 0.00587743])}, {'mean': array([0.25358073, 0.24251302, 0.25390625, 0.26367188, 0.25455729]), 'std': array([0.00243597, 0.00542752, 0.00276214, 0.00276214, 0.00401329])}], [{'mean': array([0.48795573, 0.44856771, 0.41503906, 0.39550781, 0.37076823]), 'std': array([0.01012783, 0.00852591, 0.01647663, 0.01174585, 0.00860016])}, {'mean': array([0.47200521, 0.44010417, 0.43196615, 0.37890625, 0.3531901 ]), 'std': array([0.01183572, 0.00881915, 0.01246367, 0.0091956 , 0.02073647])}], [{'mean': array([0.23307292, 0.25260417, 0.24902344, 0.25911458, 0.24479167]), 'std': array([0.01400118, 0.00530908, 0.00552427, 0.01794208, 0.00301876])}, {'mean': array([0.2516276 , 0.25065104, 0.25390625, 0.2483724 , 0.24479167]), 'std': array([0.01374916, 0.01120094, 0.00276214, 0.00931012, 0.00723506])}], [{'mean': array([0.25097656, 0.25553385, 0.26757812, 0.25358073, 0.25585938]), 'std': array([0.00276214, 0.00906796, 0.01206625, 0.00757842, 0.00708709])}, {'mean': array([0.25976562, 0.24446615, 0.25585938, 0.25748698, 0.25097656]), 'std': array([0.00159472, 0.00200665, 0.00522864, 0.0103759 , 0.01096189])}]]\n",
      "------------------\n",
      "[{'mean': array([0.97412109, 0.91129557, 0.85457357, 0.80940755, 0.76578776]), 'std': array([0.0334226 , 0.03444066, 0.03225121, 0.05000746, 0.03702075])}, {'mean': array([0.96785482, 0.89526367, 0.84952799, 0.80712891, 0.75455729]), 'std': array([0.04506553, 0.02864953, 0.02913002, 0.0351924 , 0.03381032])}]\n"
     ]
    }
   ],
   "source": [
    "print (rbfit_purity1.ydata_pur)\n",
    "print (\"------------------\")\n",
    "#rbfit_purity1.add_data(purity_result_list)\n",
    "#rbfit_purity1.calc_data()\n",
    "#rbfit_purity1.calc_statistics()\n",
    "print (rbfit_purity1.ydata)"
   ]
  },
  {
   "cell_type": "code",
   "execution_count": 29,
   "metadata": {},
   "outputs": [
    {
     "name": "stdout",
     "output_type": "stream",
     "text": [
      "[[{'params': array([ 1.14842558,  0.98732312, -0.17326045]), 'params_err': array([0.17248845, 0.00220892, 0.17292262]), 'epc': 0.009507663362482544, 'epc_err': 2.1271295129436704e-05}, {'params': array([0.57740974, 0.96864364, 0.39839716]), 'params_err': array([0.0161628 , 0.00125911, 0.01642731]), 'epc': 0.02351727210157431, 'epc_err': 3.056946579033417e-05}], [{'params': array([0.32136911, 0.98571844, 0.16662168]), 'params_err': array([0.22803009, 0.01329879, 0.23429472]), 'epc': 0.010711168717852465, 'epc_err': 0.00014450943398033807}, {'params': array([0.15678629, 0.95078441, 0.33952631]), 'params_err': array([0.01710765, 0.01196432, 0.01871101]), 'epc': 0.03691168955433827, 'epc_err': 0.00046448317150412407}], [{'params': array([0.21014485, 0.96997145, 0.2783511 ]), 'params_err': array([0.11499901, 0.03365208, 0.13494517]), 'epc': 0.02252141117150913, 'epc_err': 0.0007813553371266899}, {'params': array([ 2.        ,  0.99848266, -1.53693321]), 'params_err': array([6.07521538e+01, 4.73379752e-02, 6.07707925e+01]), 'epc': 0.001138002539695565, 'epc_err': 5.395260031984508e-05}], [{'params': array([0.15964163, 0.95949461, 0.33045038]), 'params_err': array([0.02756961, 0.01338618, 0.02884168]), 'epc': 0.030379040022346565, 'epc_err': 0.00042382645789942327}, {'params': array([0.28596421, 0.98415805, 0.1858149 ]), 'params_err': array([0.0614381 , 0.00482729, 0.06412484]), 'epc': 0.011881466099252974, 'epc_err': 5.827849131670049e-05}], [{'params': array([0.00986984, 0.68582746, 0.25366201]), 'params_err': array([0.02485834, 1.7292931 , 0.00184533]), 'epc': 0.2356294019060437, 'epc_err': 0.5941323733240758}, {'params': array([ 1.99999991,  0.99975447, -1.74017795]), 'params_err': array([1.63324467e+03, 2.01431339e-01, 1.63325692e+03]), 'epc': 0.00018414956591131237, 'epc_err': 3.710260351481892e-05}], [{'params': array([-1.75219035,  0.99995381,  2.        ]), 'params_err': array([2.48116516e+04, 6.54559134e-01, 2.48116564e+04]), 'epc': 3.464031023192593e-05, 'epc_err': 2.2675178761796458e-05}, {'params': array([-0.82502235,  0.99970623,  1.07691528]), 'params_err': array([7.46154244e+02, 2.66824408e-01, 7.46157379e+02]), 'epc': 0.00022032614563743946, 'epc_err': 5.880566858378985e-05}], [{'params': array([0.21107676, 0.97440912, 0.28187414]), 'params_err': array([0.02961826, 0.00580572, 0.03118888]), 'epc': 0.019193160839834522, 'epc_err': 0.00011435661750424244}, {'params': array([ 1.99999998,  0.99808617, -1.52244717]), 'params_err': array([3.70876317e+01, 3.65254000e-02, 3.70973971e+01]), 'epc': 0.0014353688082621718, 'epc_err': 5.252794920719311e-05}], [{'params': array([ 1.99999985,  0.99990635, -1.74845527]), 'params_err': array([8.65587501e+03, 4.06087374e-01, 8.65588700e+03]), 'epc': 7.023683661744329e-05, 'epc_err': 2.852496385885744e-05}, {'params': array([ 1.99999719,  0.99982437, -1.74120697]), 'params_err': array([1.22241716e+03, 1.07720389e-01, 1.22242412e+03]), 'epc': 0.0001317208090471922, 'epc_err': 1.4191509249002886e-05}], [{'params': array([-0.00796398,  0.70583482,  0.25659582]), 'params_err': array([0.01938858, 1.86159714, 0.00345552]), 'epc': 0.2206238858113092, 'epc_err': 0.5818823105425618}, {'params': array([0.09958371, 0.13398567, 0.24642251]), 'params_err': array([7.13254296e+04, 9.59654112e+04, 7.13524372e-03]), 'epc': 0.6495107489335371, 'epc_err': 465203.2341605774}]]\n",
      "-------------------\n",
      "[{'params': array([0.49005741, 0.982459  , 0.49278108]), 'params_err': array([0.03241569, 0.00155993, 0.03312353]), 'epc': 0.013155751268702998, 'epc_err': 2.0888505919790247e-05}, {'params': array([0.53483051, 0.98487912, 0.4349331 ]), 'params_err': array([0.29617304, 0.01109382, 0.30372084]), 'epc': 0.011340657516619834, 'epc_err': 0.00012774275013988117}]\n"
     ]
    }
   ],
   "source": [
    "print (rbfit_purity1.fit_pur)\n",
    "#rbfit_purity1.fit_data()\n",
    "print (\"-------------------\")\n",
    "print (rbfit_purity1.fit)"
   ]
  },
  {
   "cell_type": "code",
   "execution_count": 30,
   "metadata": {},
   "outputs": [
    {
     "name": "stdout",
     "output_type": "stream",
     "text": [
      "[{'params': array([0.49005741, 0.982459  , 0.49278108]), 'params_err': array([0.03241569, 0.00155993, 0.03312353]), 'epc': 0.013155751268702998, 'epc_err': 2.0888505919790247e-05}, {'params': array([0.53483051, 0.98487912, 0.4349331 ]), 'params_err': array([0.29617304, 0.01109382, 0.30372084]), 'epc': 0.011340657516619834, 'epc_err': 0.00012774275013988117}]\n"
     ]
    }
   ],
   "source": [
    "rbfit_purity1.fit_data()\n",
    "print (rbfit_purity1.fit)"
   ]
  },
  {
   "cell_type": "code",
   "execution_count": null,
   "metadata": {
    "collapsed": true
   },
   "outputs": [],
   "source": []
  }
 ],
 "metadata": {
  "kernelspec": {
   "display_name": "Python 3",
   "language": "python",
   "name": "python3"
  },
  "language_info": {
   "codemirror_mode": {
    "name": "ipython",
    "version": 3
   },
   "file_extension": ".py",
   "mimetype": "text/x-python",
   "name": "python",
   "nbconvert_exporter": "python",
   "pygments_lexer": "ipython3",
   "version": "3.6.3"
  }
 },
 "nbformat": 4,
 "nbformat_minor": 2
}
