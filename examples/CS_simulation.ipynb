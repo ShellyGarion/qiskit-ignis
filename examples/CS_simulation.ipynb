{
 "cells": [
  {
   "cell_type": "markdown",
   "metadata": {},
   "source": [
    "# Non-Clifford CNOT-Dihedral Interleaved Randomized Benchmarking \n",
    "# of a CS gate"
   ]
  },
  {
   "cell_type": "code",
   "execution_count": 28,
   "metadata": {},
   "outputs": [],
   "source": [
    "#Import general libraries (needed for functions)\n",
    "import numpy as np\n",
    "import matplotlib.pyplot as plt\n",
    "from IPython import display\n",
    "\n",
    "#Import Qiskit classes\n",
    "import qiskit\n",
    "from qiskit.providers.aer.noise import NoiseModel, errors\n",
    "from qiskit.providers.aer.noise.errors.standard_errors import depolarizing_error, thermal_relaxation_error, coherent_unitary_error\n",
    "from qiskit.quantum_info.operators import Operator\n",
    "\n",
    "#Import the RB Functions\n",
    "import qiskit.ignis.verification.randomized_benchmarking as rb\n",
    "\n",
    "#from examples import CS_utils"
   ]
  },
  {
   "cell_type": "code",
   "execution_count": 2,
   "metadata": {},
   "outputs": [],
   "source": [
    "#Number of qubits\n",
    "nQ = 2\n",
    "#There are 3 qubits: Q0,Q1.\n",
    "#Number of seeds (random sequences)\n",
    "nseeds = 5\n",
    "#Number of Cliffords in the sequence (start, stop, steps)\n",
    "nCliffs = np.arange(1,200,20)\n",
    "#2Q RB on Q0,Q2 and 1Q RB on Q1\n",
    "rb_pattern = [[0,1]]\n",
    "# Non-Clifford RB\n",
    "group_gates = 'CNOT-Dihedral'"
   ]
  },
  {
   "cell_type": "markdown",
   "metadata": {},
   "source": [
    "### Interleaved RB with a CS gate \n",
    "\n",
    "Defining a CS gate using an operator."
   ]
  },
  {
   "cell_type": "code",
   "execution_count": 3,
   "metadata": {},
   "outputs": [],
   "source": [
    "rb_opts = {}\n",
    "rb_opts['length_vector'] = nCliffs\n",
    "rb_opts['nseeds'] = nseeds\n",
    "rb_opts['rb_pattern'] = rb_pattern\n",
    "rb_opts['group_gates'] = group_gates\n",
    "rb_opts['align_cliffs'] = True\n",
    "\n",
    "CS01 = rb.dihedral.CNOTDihedral(2)\n",
    "CS01.phase(1, 0)\n",
    "CS01.phase(1, 1)\n",
    "CS01.cnot(0, 1)\n",
    "CS01.phase(7, 1)\n",
    "CS01.cnot(0, 1)\n",
    "\n",
    "cs = Operator([[1, 0, 0, 0],\n",
    "               [0, 1, 0, 0],\n",
    "               [0, 0, 1, 0],\n",
    "               [0, 0, 0, 1j]])\n",
    "\n",
    "rb_opts['interleaved_gates'] = [(CS01, [('cs', 0, 1)])]\n",
    "\n",
    "rb_cnotdihedral_Z_circs, xdata, rb_cnotdihedral_X_circs, rb_cnotdihedral_interleaved_Z_circs, \\\n",
    "rb_cnotdihedral_interleaved_X_circs = rb.randomized_benchmarking_seq(**rb_opts)"
   ]
  },
  {
   "cell_type": "code",
   "execution_count": 4,
   "metadata": {},
   "outputs": [
    {
     "name": "stdout",
     "output_type": "stream",
     "text": [
      "          ┌──────────┐ ┌───┐ ░  ░ ┌───┐┌────────────┐┌─┐   \n",
      "qr_0: |0>─┤ U1(pi/2) ├─┤ X ├─░──░─┤ X ├┤ U1(4.7124) ├┤M├───\n",
      "         ┌┴──────────┴┐└─┬─┘ ░  ░ └─┬─┘└┬──────────┬┘└╥┘┌─┐\n",
      "qr_1: |0>┤ U1(4.7124) ├──■───░──░───■───┤ U1(pi/2) ├──╫─┤M├\n",
      "         └────────────┘      ░  ░       └──────────┘  ║ └╥┘\n",
      " cr_0: 0 ═════════════════════════════════════════════╩══╬═\n",
      "                                                         ║ \n",
      " cr_1: 0 ════════════════════════════════════════════════╩═\n",
      "                                                           \n"
     ]
    }
   ],
   "source": [
    "print (rb_cnotdihedral_Z_circs[0][0])"
   ]
  },
  {
   "cell_type": "code",
   "execution_count": 5,
   "metadata": {},
   "outputs": [
    {
     "name": "stdout",
     "output_type": "stream",
     "text": [
      "          ┌──────────┐ ┌───┐ ░ ┌──────────┐ ░  ░ ┌────────────┐┌───┐»\n",
      "qr_0: |0>─┤ U1(pi/2) ├─┤ X ├─░─┤0         ├─░──░─┤ U1(5.4978) ├┤ X ├»\n",
      "         ┌┴──────────┴┐└─┬─┘ ░ │  unitary │ ░  ░ └────────────┘└─┬─┘»\n",
      "qr_1: |0>┤ U1(4.7124) ├──■───░─┤1         ├─░──░─────────────────■──»\n",
      "         └────────────┘      ░ └──────────┘ ░  ░                    »\n",
      " cr_0: 0 ═══════════════════════════════════════════════════════════»\n",
      "                                                                    »\n",
      " cr_1: 0 ═══════════════════════════════════════════════════════════»\n",
      "                                                                    »\n",
      "«      ┌────────────┐┌─┐   \n",
      "«qr_0: ┤ U1(5.4978) ├┤M├───\n",
      "«      └┬──────────┬┘└╥┘┌─┐\n",
      "«qr_1: ─┤ U1(pi/4) ├──╫─┤M├\n",
      "«       └──────────┘  ║ └╥┘\n",
      "«cr_0: ═══════════════╩══╬═\n",
      "«                        ║ \n",
      "«cr_1: ══════════════════╩═\n",
      "«                          \n"
     ]
    }
   ],
   "source": [
    "print (rb_cnotdihedral_interleaved_Z_circs[0][0])"
   ]
  },
  {
   "cell_type": "code",
   "execution_count": 6,
   "metadata": {},
   "outputs": [
    {
     "name": "stdout",
     "output_type": "stream",
     "text": [
      "         ┌───┐ ░  ┌──────────┐ ┌───┐ ░  ░ ┌───┐┌────────────┐ ░ ┌───┐┌─┐   \n",
      "qr_0: |0>┤ H ├─░──┤ U1(pi/2) ├─┤ X ├─░──░─┤ X ├┤ U1(4.7124) ├─░─┤ H ├┤M├───\n",
      "         ├───┤ ░ ┌┴──────────┴┐└─┬─┘ ░  ░ └─┬─┘└┬──────────┬┘ ░ ├───┤└╥┘┌─┐\n",
      "qr_1: |0>┤ H ├─░─┤ U1(4.7124) ├──■───░──░───■───┤ U1(pi/2) ├──░─┤ H ├─╫─┤M├\n",
      "         └───┘ ░ └────────────┘      ░  ░       └──────────┘  ░ └───┘ ║ └╥┘\n",
      " cr_0: 0 ═════════════════════════════════════════════════════════════╩══╬═\n",
      "                                                                         ║ \n",
      " cr_1: 0 ════════════════════════════════════════════════════════════════╩═\n",
      "                                                                           \n"
     ]
    }
   ],
   "source": [
    "print (rb_cnotdihedral_X_circs[0][0])"
   ]
  },
  {
   "cell_type": "code",
   "execution_count": 7,
   "metadata": {},
   "outputs": [
    {
     "name": "stdout",
     "output_type": "stream",
     "text": [
      "         ┌───┐ ░  ┌──────────┐ ┌───┐ ░ ┌──────────┐ ░  ░ ┌────────────┐┌───┐»\n",
      "qr_0: |0>┤ H ├─░──┤ U1(pi/2) ├─┤ X ├─░─┤0         ├─░──░─┤ U1(5.4978) ├┤ X ├»\n",
      "         ├───┤ ░ ┌┴──────────┴┐└─┬─┘ ░ │  unitary │ ░  ░ └────────────┘└─┬─┘»\n",
      "qr_1: |0>┤ H ├─░─┤ U1(4.7124) ├──■───░─┤1         ├─░──░─────────────────■──»\n",
      "         └───┘ ░ └────────────┘      ░ └──────────┘ ░  ░                    »\n",
      " cr_0: 0 ═══════════════════════════════════════════════════════════════════»\n",
      "                                                                            »\n",
      " cr_1: 0 ═══════════════════════════════════════════════════════════════════»\n",
      "                                                                            »\n",
      "«      ┌────────────┐ ░ ┌───┐┌─┐   \n",
      "«qr_0: ┤ U1(5.4978) ├─░─┤ H ├┤M├───\n",
      "«      └┬──────────┬┘ ░ ├───┤└╥┘┌─┐\n",
      "«qr_1: ─┤ U1(pi/4) ├──░─┤ H ├─╫─┤M├\n",
      "«       └──────────┘  ░ └───┘ ║ └╥┘\n",
      "«cr_0: ═══════════════════════╩══╬═\n",
      "«                                ║ \n",
      "«cr_1: ══════════════════════════╩═\n",
      "«                                  \n"
     ]
    }
   ],
   "source": [
    "print (rb_cnotdihedral_interleaved_X_circs[0][0])"
   ]
  },
  {
   "cell_type": "markdown",
   "metadata": {},
   "source": [
    "### Add a coherent noise to the CS gate"
   ]
  },
  {
   "cell_type": "code",
   "execution_count": 108,
   "metadata": {},
   "outputs": [
    {
     "name": "stdout",
     "output_type": "stream",
     "text": [
      "err_unitary_u3: [[ 0.999998+0.j -0.002   +0.j]\n",
      " [ 0.002   +0.j  0.999998+0.j]]\n",
      "err_unitary_cs: [[ 9.99600053e-01+0.j -1.99946671e-02+0.j -1.99946671e-02+0.j\n",
      "   3.99946670e-04-0.j]\n",
      " [ 1.99946671e-02+0.j  9.99600053e-01+0.j -3.99946670e-04+0.j\n",
      "  -1.99946671e-02+0.j]\n",
      " [ 1.99946671e-02+0.j -3.99946670e-04+0.j  9.99600053e-01+0.j\n",
      "  -1.99946671e-02+0.j]\n",
      " [ 3.99946670e-04+0.j  1.99946671e-02+0.j  1.99946671e-02+0.j\n",
      "   9.99600053e-01+0.j]]\n",
      "err_unitary_cx: [[ 0.99840085+0.j -0.03995735+0.j -0.03995735+0.j  0.00159915-0.j]\n",
      " [ 0.03995735+0.j  0.99840085+0.j -0.00159915+0.j -0.03995735+0.j]\n",
      " [ 0.03995735+0.j -0.00159915+0.j  0.99840085+0.j -0.03995735+0.j]\n",
      " [ 0.00159915+0.j  0.03995735+0.j  0.03995735+0.j  0.99840085+0.j]]\n",
      "['cx', 'id', 'u3', 'unitary']\n"
     ]
    }
   ],
   "source": [
    "### Add coherent unitary error to \"cs\" gate\n",
    "\n",
    "def err_unitary(angle_err):\n",
    "    err_unitary = np.zeros([2, 2], dtype=complex)\n",
    "    for i in range(2):\n",
    "        err_unitary[i, i] = np.cos(angle_err)\n",
    "        err_unitary[i, (i+1) % 2] = np.sin(angle_err)\n",
    "    err_unitary[0, 1] *= -1.0\n",
    "    return (err_unitary)\n",
    "\n",
    "err_unitary_cs = np.kron(err_unitary(0.02), err_unitary(0.02))\n",
    "err_unitary_cx = np.kron(err_unitary(0.04), err_unitary(0.04))\n",
    "err_unitary_u3 = err_unitary(0.002)\n",
    "\n",
    "print (\"err_unitary_u3:\", err_unitary_u3)\n",
    "print (\"err_unitary_cs:\", err_unitary_cs)\n",
    "print (\"err_unitary_cx:\", err_unitary_cx)\n",
    "\n",
    "cx_error = errors.coherent_unitary_error(err_unitary_cx)\n",
    "cs_error = errors.coherent_unitary_error(err_unitary_cs)\n",
    "u3_error = errors.coherent_unitary_error(err_unitary_u3)\n",
    "\n",
    "noise_model = NoiseModel()\n",
    "noise_model.add_all_qubit_quantum_error(u3_error, 'u3')\n",
    "noise_model.add_all_qubit_quantum_error(cx_error, 'cx')\n",
    "noise_model.add_all_qubit_quantum_error(cs_error, 'cs')\n",
    "\n",
    "noise_model.add_basis_gates(['unitary'])\n",
    "basis_gates = noise_model.basis_gates\n",
    "print(basis_gates)"
   ]
  },
  {
   "cell_type": "markdown",
   "metadata": {},
   "source": [
    "### Execute the RB sequences"
   ]
  },
  {
   "cell_type": "code",
   "execution_count": 93,
   "metadata": {},
   "outputs": [
    {
     "name": "stdout",
     "output_type": "stream",
     "text": [
      "Compiling seed 0\n",
      "Simulating seed 0\n",
      "Compiling seed 1\n",
      "Simulating seed 1\n",
      "Compiling seed 2\n",
      "Simulating seed 2\n",
      "Compiling seed 3\n",
      "Simulating seed 3\n",
      "Compiling seed 4\n",
      "Simulating seed 4\n",
      "Finished Simulating CNOT-Dihedral X Circuits\n"
     ]
    }
   ],
   "source": [
    "#CNOT-Dihedral RB X circuits\n",
    "backend = qiskit.Aer.get_backend('qasm_simulator')\n",
    "#basis_gates = ['u1','u2','u3','cx'] # use U,CX for now\n",
    "shots = 200\n",
    "cnotdihedral_X_result_list = []\n",
    "cnotdihedral_X_qobj_list = []\n",
    "import time\n",
    "for rb_seed,rb_circ_seed in enumerate(rb_cnotdihedral_X_circs):\n",
    "    print('Compiling seed %d'%rb_seed)\n",
    "    new_rb_circ_seed = qiskit.compiler.transpile(rb_circ_seed, basis_gates=basis_gates)\n",
    "    qobj = qiskit.compiler.assemble(new_rb_circ_seed, shots=shots)\n",
    "    print('Simulating seed %d'%rb_seed)\n",
    "    job = backend.run(qobj, noise_model=noise_model, backend_options={'max_parallel_experiments': 0})\n",
    "    cnotdihedral_X_result_list.append(job.result())\n",
    "    cnotdihedral_X_qobj_list.append(qobj)    \n",
    "print(\"Finished Simulating CNOT-Dihedral X Circuits\")"
   ]
  },
  {
   "cell_type": "code",
   "execution_count": 94,
   "metadata": {},
   "outputs": [
    {
     "name": "stdout",
     "output_type": "stream",
     "text": [
      "Compiling seed 0\n",
      "Simulating seed 0\n",
      "Compiling seed 1\n",
      "Simulating seed 1\n",
      "Compiling seed 2\n",
      "Simulating seed 2\n",
      "Compiling seed 3\n",
      "Simulating seed 3\n",
      "Compiling seed 4\n",
      "Simulating seed 4\n",
      "Finished Simulating CNOT-Dihedral Interleaved X Circuits\n"
     ]
    }
   ],
   "source": [
    "#CNOT-Dihedral interleaved RB X circuits\n",
    "backend = qiskit.Aer.get_backend('qasm_simulator')\n",
    "#basis_gates = ['u1','u2','u3','cx'] # use U,CX for now\n",
    "shots = 200\n",
    "cnotdihedral_interleaved_X_result_list = []\n",
    "cnotdihedral_interleaved_X_qobj_list = []\n",
    "import time\n",
    "for rb_seed,rb_circ_seed in enumerate(rb_cnotdihedral_interleaved_X_circs):\n",
    "    print('Compiling seed %d'%rb_seed)\n",
    "    new_rb_circ_seed = qiskit.compiler.transpile(rb_circ_seed, basis_gates=basis_gates)\n",
    "    qobj = qiskit.compiler.assemble(new_rb_circ_seed, shots=shots)\n",
    "    print('Simulating seed %d'%rb_seed)\n",
    "    job = backend.run(qobj, noise_model=noise_model, backend_options={'max_parallel_experiments': 0})\n",
    "    cnotdihedral_interleaved_X_result_list.append(job.result())\n",
    "    cnotdihedral_interleaved_X_qobj_list.append(qobj)    \n",
    "print(\"Finished Simulating CNOT-Dihedral Interleaved X Circuits\")"
   ]
  },
  {
   "cell_type": "code",
   "execution_count": 95,
   "metadata": {},
   "outputs": [
    {
     "name": "stdout",
     "output_type": "stream",
     "text": [
      "Compiling seed 0\n",
      "Simulating seed 0\n",
      "Compiling seed 1\n",
      "Simulating seed 1\n",
      "Compiling seed 2\n",
      "Simulating seed 2\n",
      "Compiling seed 3\n",
      "Simulating seed 3\n",
      "Compiling seed 4\n",
      "Simulating seed 4\n",
      "Finished Simulating CNOT-Dihedral Z Circuits\n"
     ]
    }
   ],
   "source": [
    "#CNOT-Dihedral RB Z circuits\n",
    "backend = qiskit.Aer.get_backend('qasm_simulator')\n",
    "#basis_gates = ['u1','u2','u3','cx'] # use U,CX for now\n",
    "shots = 200\n",
    "cnotdihedral_Z_result_list = []\n",
    "cnotdihedral_Z_qobj_list = []\n",
    "import time\n",
    "for rb_seed,rb_circ_seed in enumerate(rb_cnotdihedral_Z_circs):\n",
    "    print('Compiling seed %d'%rb_seed)\n",
    "    new_rb_circ_seed = qiskit.compiler.transpile(rb_circ_seed, basis_gates=basis_gates)\n",
    "    qobj = qiskit.compiler.assemble(new_rb_circ_seed, shots=shots)\n",
    "    print('Simulating seed %d'%rb_seed)\n",
    "    job = backend.run(qobj, noise_model=noise_model, backend_options={'max_parallel_experiments': 0})\n",
    "    cnotdihedral_Z_result_list.append(job.result())\n",
    "    cnotdihedral_Z_qobj_list.append(qobj)    \n",
    "print(\"Finished Simulating CNOT-Dihedral Z Circuits\")"
   ]
  },
  {
   "cell_type": "code",
   "execution_count": 96,
   "metadata": {},
   "outputs": [
    {
     "name": "stdout",
     "output_type": "stream",
     "text": [
      "Compiling seed 0\n",
      "Simulating seed 0\n",
      "Compiling seed 1\n",
      "Simulating seed 1\n",
      "Compiling seed 2\n",
      "Simulating seed 2\n",
      "Compiling seed 3\n",
      "Simulating seed 3\n",
      "Compiling seed 4\n",
      "Simulating seed 4\n",
      "Finished Simulating CNOT-Dihedral Interleaved Z Circuits\n"
     ]
    }
   ],
   "source": [
    "#CNOT-Dihedral inteleaved RB Z circuits\n",
    "backend = qiskit.Aer.get_backend('qasm_simulator')\n",
    "#basis_gates = ['u1','u2','u3','cx'] # use U,CX for now\n",
    "shots = 200\n",
    "cnotdihedral_interleaved_Z_result_list = []\n",
    "cnotdihedral_interleaved_Z_qobj_list = []\n",
    "import time\n",
    "for rb_seed,rb_circ_seed in enumerate(rb_cnotdihedral_interleaved_Z_circs):\n",
    "    print('Compiling seed %d'%rb_seed)\n",
    "    new_rb_circ_seed = qiskit.compiler.transpile(rb_circ_seed, basis_gates=basis_gates)\n",
    "    qobj = qiskit.compiler.assemble(new_rb_circ_seed, shots=shots)\n",
    "    print('Simulating seed %d'%rb_seed)\n",
    "    job = backend.run(qobj, noise_model=noise_model, backend_options={'max_parallel_experiments': 0})\n",
    "    cnotdihedral_interleaved_Z_result_list.append(job.result())\n",
    "    cnotdihedral_interleaved_Z_qobj_list.append(qobj)    \n",
    "print(\"Finished Simulating CNOT-Dihedral Interleaved Z Circuits\")"
   ]
  },
  {
   "cell_type": "markdown",
   "metadata": {},
   "source": [
    "### Fit the results"
   ]
  },
  {
   "cell_type": "code",
   "execution_count": 97,
   "metadata": {},
   "outputs": [],
   "source": [
    "#Create the cnot-dihedral Z and X RB fitters\n",
    "cnotdihedral_Z_rb_fit = rb.RBFitter(cnotdihedral_Z_result_list, xdata, rb_opts['rb_pattern'])\n",
    "cnotdihedral_X_rb_fit = rb.RBFitter(cnotdihedral_X_result_list, xdata, rb_opts['rb_pattern'])"
   ]
  },
  {
   "cell_type": "code",
   "execution_count": 98,
   "metadata": {},
   "outputs": [
    {
     "name": "stdout",
     "output_type": "stream",
     "text": [
      "pattern: 0 - 2 qubit cnot-dihedral RB of Z circuits: {'params': array([9.94593867e-01, 9.95660409e-01, 3.48781286e-20]), 'params_err': array([0.5525476 , 0.00290556, 0.5537842 ]), 'epc': 0.0032546932089886627, 'epc_err': 0.0021886648931814193}\n"
     ]
    }
   ],
   "source": [
    "# Print the Z circuits fitter parameters\n",
    "for patt_ind, pattern in enumerate(rb_pattern):\n",
    "    print ('pattern:', patt_ind, '-', len(pattern), 'qubit cnot-dihedral RB of Z circuits:', cnotdihedral_Z_rb_fit.fit[patt_ind])"
   ]
  },
  {
   "cell_type": "code",
   "execution_count": 99,
   "metadata": {},
   "outputs": [
    {
     "name": "stdout",
     "output_type": "stream",
     "text": [
      "pattern: 0 - 2 qubit cnot-dihedral RB of X circuits: {'params': array([0.70241322, 0.99492817, 0.29625787]), 'params_err': array([0.1716596 , 0.00158855, 0.17206526]), 'epc': 0.0038038704092823172, 'epc_err': 0.0011974833090224776}\n"
     ]
    }
   ],
   "source": [
    "# Print the X circuits fitter parameters\n",
    "for patt_ind, pattern in enumerate(rb_pattern):\n",
    "    print ('pattern:', patt_ind, '-', len(pattern), 'qubit cnot-dihedral RB of X circuits:', cnotdihedral_X_rb_fit.fit[patt_ind])"
   ]
  },
  {
   "cell_type": "code",
   "execution_count": 100,
   "metadata": {},
   "outputs": [],
   "source": [
    "#Create the cnot-dihedral intelreaved Z and X RB fitters\n",
    "cnotdihedral_interleaved_Z_rb_fit = rb.RBFitter(cnotdihedral_interleaved_Z_result_list, xdata, rb_opts['rb_pattern'])\n",
    "cnotdihedral_interleaved_X_rb_fit = rb.RBFitter(cnotdihedral_interleaved_X_result_list, xdata, rb_opts['rb_pattern'])"
   ]
  },
  {
   "cell_type": "code",
   "execution_count": 101,
   "metadata": {},
   "outputs": [
    {
     "name": "stdout",
     "output_type": "stream",
     "text": [
      "pattern: 0 - 2 qubit cnot-dihedral RB of interleaved Z circuits: {'params': array([0.81387851, 0.98940472, 0.18580681]), 'params_err': array([0.1172378 , 0.00247501, 0.11792761]), 'epc': 0.007946463690673256, 'epc_err': 0.0018761369224064048}\n"
     ]
    }
   ],
   "source": [
    "# Print the interleaved Z circuits fitter parameters\n",
    "for patt_ind, pattern in enumerate(rb_pattern):\n",
    "    print ('pattern:', patt_ind, '-', len(pattern), 'qubit cnot-dihedral RB of interleaved Z circuits:', cnotdihedral_interleaved_Z_rb_fit.fit[patt_ind])"
   ]
  },
  {
   "cell_type": "code",
   "execution_count": 102,
   "metadata": {},
   "outputs": [
    {
     "name": "stdout",
     "output_type": "stream",
     "text": [
      "pattern: 0 - 2 qubit cnot-dihedral RB of interleaved X circuits: {'params': array([0.46387051, 0.98513357, 0.53000534]), 'params_err': array([0.05211523, 0.00357042, 0.05292169]), 'epc': 0.011149823421715777, 'epc_err': 0.0027182269943257483}\n"
     ]
    }
   ],
   "source": [
    "# Print the interleaved X circuits fitter parameters\n",
    "for patt_ind, pattern in enumerate(rb_pattern):\n",
    "    print ('pattern:', patt_ind, '-', len(pattern), 'qubit cnot-dihedral RB of interleaved X circuits:', cnotdihedral_interleaved_X_rb_fit.fit[patt_ind])"
   ]
  },
  {
   "cell_type": "code",
   "execution_count": 103,
   "metadata": {},
   "outputs": [],
   "source": [
    "#Calculate the joint fitter\n",
    "joint_rb_fit = rb.CNOTDihedralRBFitter(cnotdihedral_Z_result_list, cnotdihedral_X_result_list, xdata, rb_opts['rb_pattern'])\n",
    "joint_int_rb_fit = rb.CNOTDihedralRBFitter(cnotdihedral_interleaved_Z_result_list, cnotdihedral_interleaved_X_result_list, xdata, rb_opts['rb_pattern'])"
   ]
  },
  {
   "cell_type": "markdown",
   "metadata": {},
   "source": [
    "### Calculate the fidelity"
   ]
  },
  {
   "cell_type": "code",
   "execution_count": 104,
   "metadata": {},
   "outputs": [
    {
     "name": "stdout",
     "output_type": "stream",
     "text": [
      "pattern: 0 - 2 qubit cnot-dihedral RB: {'alpha': 0.9950746200410352, 'alpha_err': 0.0014043415708809713, 'epg_est': 0.003694034969223603, 'epg_est_err': 0.0010584695428341787}\n",
      "pattern: 0 - 2 qubit cnot-dihedral interleaved RB: {'alpha': 0.9859877980326569, 'alpha_err': 0.0029422895711803533, 'epg_est': 0.010509151475507322, 'epg_est_err': 0.0022380775733617914}\n"
     ]
    }
   ],
   "source": [
    "#Print the joint fitter parameters\n",
    "for patt_ind, pattern in enumerate(rb_pattern):\n",
    "    print ('pattern:', patt_ind, '-', len(pattern), 'qubit cnot-dihedral RB:', joint_rb_fit.fit_cnotdihedral[patt_ind])\n",
    "#Print the joint interleaved parameters\n",
    "for patt_ind, pattern in enumerate(rb_pattern):\n",
    "    print ('pattern:', patt_ind, '-', len(pattern), 'qubit cnot-dihedral interleaved RB:', joint_int_rb_fit.fit_cnotdihedral[patt_ind])"
   ]
  },
  {
   "cell_type": "code",
   "execution_count": 105,
   "metadata": {},
   "outputs": [
    {
     "name": "stdout",
     "output_type": "stream",
     "text": [
      "Estimated gate error: 0.006849 (0.001490)\n"
     ]
    }
   ],
   "source": [
    "#Expected error of the interleaved cs gate\n",
    "alpha = joint_rb_fit.fit_cnotdihedral[0]['alpha']\n",
    "alpha_c = joint_int_rb_fit.fit_cnotdihedral[0]['alpha']\n",
    "alpha_err = joint_rb_fit.fit_cnotdihedral[0]['alpha_err']\n",
    "alpha_c_err = joint_rb_fit.fit_cnotdihedral[0]['alpha_err']\n",
    "\n",
    "nrb = 2 ** nQ\n",
    "r_est = (nrb - 1) * (1 - alpha_c / alpha) / nrb\n",
    "\n",
    "alpha_err_sq = (alpha_err / alpha) * (alpha_err / alpha)\n",
    "alpha_c_err_sq = (alpha_c_err / alpha_c) * (alpha_c_err / alpha_c)\n",
    "r_est_err = ((nrb - 1) / nrb) * (alpha_c / alpha) * (np.sqrt(alpha_err_sq + alpha_c_err_sq))\n",
    "\n",
    "print (\"Estimated gate error: %f (%f)\" %(r_est, r_est_err))"
   ]
  },
  {
   "cell_type": "markdown",
   "metadata": {},
   "source": [
    "### Plot the results"
   ]
  },
  {
   "cell_type": "code",
   "execution_count": 106,
   "metadata": {},
   "outputs": [
    {
     "data": {
      "image/png": "[encoded data removed]",
      "text/plain": [
       "<Figure size 1080x432 with 1 Axes>"
      ]
     },
     "metadata": {
      "needs_background": "light"
     },
     "output_type": "display_data"
    }
   ],
   "source": [
    "#Plot the joint RB data\n",
    "plt.figure(figsize=(15, 6))\n",
    "\n",
    "for i in range(1):\n",
    "    ax = plt.subplot(1, 2, i+1)\n",
    "    pattern_ind = i\n",
    "\n",
    "    # Plot the essence by calling plot_rb_data\n",
    "    joint_rb_fit.plot_rb_data(pattern_ind, ax=ax, add_label=True, show_plt=False)\n",
    "\n",
    "    # Add title and label\n",
    "    ax.set_title('%d Qubit non-Clifford cnot-dihedral RB'%(len(rb_opts['rb_pattern'][i])), fontsize=18)\n",
    "\n",
    "plt.show()"
   ]
  },
  {
   "cell_type": "code",
   "execution_count": 107,
   "metadata": {},
   "outputs": [
    {
     "data": {
      "image/png": "[encoded data removed]",
      "text/plain": [
       "<Figure size 1080x432 with 1 Axes>"
      ]
     },
     "metadata": {
      "needs_background": "light"
     },
     "output_type": "display_data"
    }
   ],
   "source": [
    "#Plot the joint interleaved RB data\n",
    "plt.figure(figsize=(15, 6))\n",
    "\n",
    "for i in range(1):\n",
    "    ax = plt.subplot(1, 2, i+1)\n",
    "    pattern_ind = i\n",
    "\n",
    "    # Plot the essence by calling plot_rb_data\n",
    "    joint_int_rb_fit.plot_rb_data(pattern_ind, ax=ax, add_label=True, show_plt=False)\n",
    "\n",
    "    # Add title and label\n",
    "    ax.set_title('%d Qubit non-Clifford cnot-dihedral interleaved RB'%(len(rb_opts['rb_pattern'][i])), fontsize=18)\n",
    "\n",
    "plt.show()"
   ]
  },
  {
   "cell_type": "code",
   "execution_count": null,
   "metadata": {},
   "outputs": [],
   "source": []
  },
  {
   "cell_type": "code",
   "execution_count": null,
   "metadata": {},
   "outputs": [],
   "source": []
  }
 ],
 "metadata": {
  "kernelspec": {
   "display_name": "Python 3",
   "language": "python",
   "name": "python3"
  },
  "language_info": {
   "codemirror_mode": {
    "name": "ipython",
    "version": 3
   },
   "file_extension": ".py",
   "mimetype": "text/x-python",
   "name": "python",
   "nbconvert_exporter": "python",
   "pygments_lexer": "ipython3",
   "version": "3.6.9"
  }
 },
 "nbformat": 4,
 "nbformat_minor": 2
}
