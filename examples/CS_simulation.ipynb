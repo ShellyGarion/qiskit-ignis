{
 "cells": [
  {
   "cell_type": "markdown",
   "metadata": {},
   "source": [
    "# Non-Clifford CNOT-Dihedral Interleaved Randomized Benchmarking \n",
    "# of a CS gate"
   ]
  },
  {
   "cell_type": "code",
   "execution_count": 1,
   "metadata": {},
   "outputs": [],
   "source": [
    "#Import general libraries (needed for functions)\n",
    "import numpy as np\n",
    "import matplotlib.pyplot as plt\n",
    "from IPython import display\n",
    "\n",
    "#Import Qiskit classes\n",
    "import qiskit\n",
    "from qiskit.providers.aer.noise import NoiseModel, errors\n",
    "from qiskit.providers.aer.noise.errors.standard_errors import depolarizing_error, thermal_relaxation_error\n",
    "from qiskit.quantum_info.operators import Operator\n",
    "\n",
    "#Import the RB Functions\n",
    "import qiskit.ignis.verification.randomized_benchmarking as rb\n",
    "\n",
    "#from examples import CS_utils"
   ]
  },
  {
   "cell_type": "code",
   "execution_count": 2,
   "metadata": {},
   "outputs": [],
   "source": [
    "#Number of qubits\n",
    "nQ = 2\n",
    "#There are 3 qubits: Q0,Q1.\n",
    "#Number of seeds (random sequences)\n",
    "nseeds = 10\n",
    "#Number of Cliffords in the sequence (start, stop, steps)\n",
    "nCliffs = [1,5,10,20,30,50,75,100,125,150] # [1,10,25,50,100,150] #\n",
    "#2Q RB on Q0,Q2 and 1Q RB on Q1\n",
    "rb_pattern = [[0,1]]\n",
    "# Non-Clifford RB\n",
    "group_gates = 'CNOT-Dihedral'\n",
    "# number of shots\n",
    "nshots = 1024"
   ]
  },
  {
   "cell_type": "markdown",
   "metadata": {},
   "source": [
    "### Interleaved RB with a CS gate \n",
    "\n",
    "Defining a CS gate using an operator."
   ]
  },
  {
   "cell_type": "code",
   "execution_count": 3,
   "metadata": {},
   "outputs": [],
   "source": [
    "rb_opts = {}\n",
    "rb_opts['length_vector'] = nCliffs\n",
    "rb_opts['nseeds'] = nseeds\n",
    "rb_opts['rb_pattern'] = rb_pattern\n",
    "rb_opts['group_gates'] = group_gates\n",
    "rb_opts['align_cliffs'] = True\n",
    "\n",
    "CS01 = rb.dihedral.CNOTDihedral(2)\n",
    "CS01.phase(1, 0)\n",
    "CS01.phase(1, 1)\n",
    "CS01.cnot(0, 1)\n",
    "CS01.phase(7, 1)\n",
    "CS01.cnot(0, 1)\n",
    "\n",
    "cs = Operator([[1, 0, 0, 0],\n",
    "               [0, 1, 0, 0],\n",
    "               [0, 0, 1, 0],\n",
    "               [0, 0, 0, 1j]])\n",
    "\n",
    "rb_opts['interleaved_gates'] = [(CS01, [('cs', 0, 1)])]\n",
    "\n",
    "rb_cnotdihedral_Z_circs, xdata, rb_cnotdihedral_X_circs, rb_cnotdihedral_interleaved_Z_circs, \\\n",
    "rb_cnotdihedral_interleaved_X_circs = rb.randomized_benchmarking_seq(**rb_opts)"
   ]
  },
  {
   "cell_type": "code",
   "execution_count": 4,
   "metadata": {},
   "outputs": [
    {
     "name": "stdout",
     "output_type": "stream",
     "text": [
      "      ┌────────┐┌───┐                 ┌───┐┌──────────┐ ░  ░ ┌────────────┐»\n",
      "qr_0: ┤ U1(pi) ├┤ X ├──■──────────────┤ X ├┤ U1(pi/4) ├─░──░─┤ U1(5.4978) ├»\n",
      "      └─┬───┬──┘└───┘┌─┴─┐┌──────────┐└─┬─┘└──────────┘ ░  ░ └────────────┘»\n",
      "qr_1: ──┤ X ├────────┤ X ├┤ U1(pi/4) ├──■───────────────░──░───────────────»\n",
      "        └───┘        └───┘└──────────┘                  ░  ░               »\n",
      "cr: 2/═════════════════════════════════════════════════════════════════════»\n",
      "                                                                           »\n",
      "«      ┌───┐                   ┌───┐┌────────┐┌─┐\n",
      "«qr_0: ┤ X ├────────────────■──┤ X ├┤ U1(pi) ├┤M├\n",
      "«      └─┬─┘┌────────────┐┌─┴─┐├───┤└──┬─┬───┘└╥┘\n",
      "«qr_1: ──■──┤ U1(5.4978) ├┤ X ├┤ X ├───┤M├─────╫─\n",
      "«           └────────────┘└───┘└───┘   └╥┘     ║ \n",
      "«cr: 2/═════════════════════════════════╩══════╩═\n",
      "«                                       1      0 \n"
     ]
    }
   ],
   "source": [
    "print (rb_cnotdihedral_Z_circs[0][0])"
   ]
  },
  {
   "cell_type": "code",
   "execution_count": 5,
   "metadata": {},
   "outputs": [
    {
     "name": "stdout",
     "output_type": "stream",
     "text": [
      "      ┌────────┐┌───┐                 ┌───┐┌──────────┐ ░ ┌─────┐ ░  ░ »\n",
      "qr_0: ┤ U1(pi) ├┤ X ├──■──────────────┤ X ├┤ U1(pi/4) ├─░─┤0    ├─░──░─»\n",
      "      └─┬───┬──┘└───┘┌─┴─┐┌──────────┐└─┬─┘└──────────┘ ░ │  cs │ ░  ░ »\n",
      "qr_1: ──┤ X ├────────┤ X ├┤ U1(pi/4) ├──■───────────────░─┤1    ├─░──░─»\n",
      "        └───┘        └───┘└──────────┘                  ░ └─────┘ ░  ░ »\n",
      "cr: 2/═════════════════════════════════════════════════════════════════»\n",
      "                                                                       »\n",
      "«      ┌────────────┐┌───┐                   ┌───┐┌────────────┐┌─┐\n",
      "«qr_0: ┤ U1(4.7124) ├┤ X ├────────────────■──┤ X ├┤ U1(2.3562) ├┤M├\n",
      "«      └────────────┘└─┬─┘┌────────────┐┌─┴─┐├───┤└────┬─┬─────┘└╥┘\n",
      "«qr_1: ────────────────■──┤ U1(4.7124) ├┤ X ├┤ X ├─────┤M├───────╫─\n",
      "«                         └────────────┘└───┘└───┘     └╥┘       ║ \n",
      "«cr: 2/═════════════════════════════════════════════════╩════════╩═\n",
      "«                                                       1        0 \n"
     ]
    }
   ],
   "source": [
    "print (rb_cnotdihedral_interleaved_Z_circs[0][0])"
   ]
  },
  {
   "cell_type": "code",
   "execution_count": 6,
   "metadata": {},
   "outputs": [
    {
     "name": "stdout",
     "output_type": "stream",
     "text": [
      "      ┌───┐ ░ ┌────────┐┌───┐                 ┌───┐┌──────────┐ ░  ░ »\n",
      "qr_0: ┤ H ├─░─┤ U1(pi) ├┤ X ├──■──────────────┤ X ├┤ U1(pi/4) ├─░──░─»\n",
      "      ├───┤ ░ └─┬───┬──┘└───┘┌─┴─┐┌──────────┐└─┬─┘└──────────┘ ░  ░ »\n",
      "qr_1: ┤ H ├─░───┤ X ├────────┤ X ├┤ U1(pi/4) ├──■───────────────░──░─»\n",
      "      └───┘ ░   └───┘        └───┘└──────────┘                  ░  ░ »\n",
      "cr: 2/═══════════════════════════════════════════════════════════════»\n",
      "                                                                     »\n",
      "«      ┌────────────┐┌───┐                   ┌───┐┌────────┐  ░  ┌───┐┌─┐\n",
      "«qr_0: ┤ U1(5.4978) ├┤ X ├────────────────■──┤ X ├┤ U1(pi) ├──░──┤ H ├┤M├\n",
      "«      └────────────┘└─┬─┘┌────────────┐┌─┴─┐├───┤└───░────┘┌───┐└┬─┬┘└╥┘\n",
      "«qr_1: ────────────────■──┤ U1(5.4978) ├┤ X ├┤ X ├────░─────┤ H ├─┤M├──╫─\n",
      "«                         └────────────┘└───┘└───┘    ░     └───┘ └╥┘  ║ \n",
      "«cr: 2/════════════════════════════════════════════════════════════╩═══╩═\n",
      "«                                                                  1   0 \n"
     ]
    }
   ],
   "source": [
    "print (rb_cnotdihedral_X_circs[0][0])"
   ]
  },
  {
   "cell_type": "code",
   "execution_count": 7,
   "metadata": {},
   "outputs": [
    {
     "name": "stdout",
     "output_type": "stream",
     "text": [
      "      ┌───┐ ░ ┌────────┐┌───┐                 ┌───┐┌──────────┐ ░ ┌─────┐ ░  ░ »\n",
      "qr_0: ┤ H ├─░─┤ U1(pi) ├┤ X ├──■──────────────┤ X ├┤ U1(pi/4) ├─░─┤0    ├─░──░─»\n",
      "      ├───┤ ░ └─┬───┬──┘└───┘┌─┴─┐┌──────────┐└─┬─┘└──────────┘ ░ │  cs │ ░  ░ »\n",
      "qr_1: ┤ H ├─░───┤ X ├────────┤ X ├┤ U1(pi/4) ├──■───────────────░─┤1    ├─░──░─»\n",
      "      └───┘ ░   └───┘        └───┘└──────────┘                  ░ └─────┘ ░  ░ »\n",
      "cr: 2/═════════════════════════════════════════════════════════════════════════»\n",
      "                                                                               »\n",
      "«      ┌────────────┐┌───┐                   ┌───┐┌────────────┐  ░  ┌───┐┌─┐\n",
      "«qr_0: ┤ U1(4.7124) ├┤ X ├────────────────■──┤ X ├┤ U1(2.3562) ├──░──┤ H ├┤M├\n",
      "«      └────────────┘└─┬─┘┌────────────┐┌─┴─┐├───┤└─────░──────┘┌───┐└┬─┬┘└╥┘\n",
      "«qr_1: ────────────────■──┤ U1(4.7124) ├┤ X ├┤ X ├──────░───────┤ H ├─┤M├──╫─\n",
      "«                         └────────────┘└───┘└───┘      ░       └───┘ └╥┘  ║ \n",
      "«cr: 2/════════════════════════════════════════════════════════════════╩═══╩═\n",
      "«                                                                      1   0 \n"
     ]
    }
   ],
   "source": [
    "print (rb_cnotdihedral_interleaved_X_circs[0][0])"
   ]
  },
  {
   "cell_type": "markdown",
   "metadata": {},
   "source": [
    "### Add a depolarize noise to the CS gate"
   ]
  },
  {
   "cell_type": "code",
   "execution_count": 8,
   "metadata": {},
   "outputs": [
    {
     "name": "stdout",
     "output_type": "stream",
     "text": [
      "Depolarizing errors on u2,u3,cs,cx gates respectively: 0.00055 0.001 0.019466666666666667 0.019466666666666667\n",
      "NoiseModel:\n",
      "  Basis gates: ['cx', 'id', 'u2', 'u3']\n",
      "  Instructions with noise: ['u2', 'cx', 'cs', 'u3']\n",
      "  All-qubits errors: ['u2', 'u3', 'cx', 'cs']\n",
      "basis_gates: ['cx', 'id', 'u2', 'u3', 'unitary']\n"
     ]
    }
   ],
   "source": [
    "cs = Operator([[1, 0, 0, 0],\n",
    "               [0, 1, 0, 0],\n",
    "               [0, 0, 1, 0],\n",
    "               [0, 0, 0, 1j]])\n",
    "\n",
    "### Add depolarizing error to \"cs\" gate\n",
    "\n",
    "p1Qu2 = 0.00055\n",
    "p1Qu3 = 0.001\n",
    "p2Qcx = 0.0146/0.75\n",
    "p2Qcs = 0.0146/0.75\n",
    "\n",
    "# Construct the error\n",
    "cs_error = errors.depolarizing_error(p2Qcs, 2)\n",
    "print (\"Depolarizing errors on u2,u3,cs,cx gates respectively:\", p1Qu2, p1Qu3, p2Qcs, p2Qcx)\n",
    "\n",
    "# Build the noise model by adding the error to the \"cs\" gate\n",
    "noise_model = NoiseModel()\n",
    "noise_model.add_all_qubit_quantum_error(depolarizing_error(p1Qu2, 1), 'u2')\n",
    "noise_model.add_all_qubit_quantum_error(depolarizing_error(p1Qu3, 1), 'u3')\n",
    "noise_model.add_all_qubit_quantum_error(depolarizing_error(p2Qcx, 2), 'cx')\n",
    "noise_model.add_all_qubit_quantum_error(cs_error, 'cs')\n",
    "print (noise_model)\n",
    "\n",
    "noise_model.add_basis_gates(['unitary'])\n",
    "basis_gates = noise_model.basis_gates\n",
    "print(\"basis_gates:\", basis_gates)"
   ]
  },
  {
   "cell_type": "markdown",
   "metadata": {},
   "source": [
    "### Execute the RB sequences"
   ]
  },
  {
   "cell_type": "code",
   "execution_count": 9,
   "metadata": {},
   "outputs": [
    {
     "name": "stdout",
     "output_type": "stream",
     "text": [
      "Compiling seed 0\n",
      "Simulating seed 0\n",
      "Compiling seed 1\n",
      "Simulating seed 1\n",
      "Compiling seed 2\n",
      "Simulating seed 2\n",
      "Compiling seed 3\n",
      "Simulating seed 3\n",
      "Compiling seed 4\n",
      "Simulating seed 4\n",
      "Compiling seed 5\n",
      "Simulating seed 5\n",
      "Compiling seed 6\n",
      "Simulating seed 6\n",
      "Compiling seed 7\n",
      "Simulating seed 7\n",
      "Compiling seed 8\n",
      "Simulating seed 8\n",
      "Compiling seed 9\n",
      "Simulating seed 9\n",
      "Finished Simulating CNOT-Dihedral X Circuits\n"
     ]
    }
   ],
   "source": [
    "#CNOT-Dihedral RB X circuits\n",
    "backend = qiskit.Aer.get_backend('qasm_simulator')\n",
    "#basis_gates = ['u1','u2','u3','cx'] # use U,CX for now\n",
    "shots = nshots\n",
    "cnotdihedral_X_result_list = []\n",
    "cnotdihedral_X_qobj_list = []\n",
    "import time\n",
    "for rb_seed,rb_circ_seed in enumerate(rb_cnotdihedral_X_circs):\n",
    "    print('Compiling seed %d'%rb_seed)\n",
    "    new_rb_circ_seed = qiskit.compiler.transpile(rb_circ_seed, basis_gates=basis_gates)\n",
    "    qobj = qiskit.compiler.assemble(new_rb_circ_seed, shots=shots)\n",
    "    print('Simulating seed %d'%rb_seed)\n",
    "    job = backend.run(qobj, noise_model=noise_model, backend_options={'max_parallel_experiments': 0})\n",
    "    cnotdihedral_X_result_list.append(job.result())\n",
    "    cnotdihedral_X_qobj_list.append(qobj)    \n",
    "print(\"Finished Simulating CNOT-Dihedral X Circuits\")"
   ]
  },
  {
   "cell_type": "code",
   "execution_count": 10,
   "metadata": {},
   "outputs": [
    {
     "name": "stdout",
     "output_type": "stream",
     "text": [
      "Compiling seed 0\n",
      "Simulating seed 0\n",
      "Compiling seed 1\n",
      "Simulating seed 1\n",
      "Compiling seed 2\n",
      "Simulating seed 2\n",
      "Compiling seed 3\n",
      "Simulating seed 3\n",
      "Compiling seed 4\n",
      "Simulating seed 4\n",
      "Compiling seed 5\n",
      "Simulating seed 5\n",
      "Compiling seed 6\n",
      "Simulating seed 6\n",
      "Compiling seed 7\n",
      "Simulating seed 7\n",
      "Compiling seed 8\n",
      "Simulating seed 8\n",
      "Compiling seed 9\n",
      "Simulating seed 9\n",
      "Finished Simulating CNOT-Dihedral Interleaved X Circuits\n"
     ]
    }
   ],
   "source": [
    "#CNOT-Dihedral interleaved RB X circuits\n",
    "backend = qiskit.Aer.get_backend('qasm_simulator')\n",
    "#basis_gates = ['u1','u2','u3','cx'] # use U,CX for now\n",
    "shots = nshots\n",
    "cnotdihedral_interleaved_X_result_list = []\n",
    "cnotdihedral_interleaved_X_qobj_list = []\n",
    "import time\n",
    "for rb_seed,rb_circ_seed in enumerate(rb_cnotdihedral_interleaved_X_circs):\n",
    "    print('Compiling seed %d'%rb_seed)\n",
    "    new_rb_circ_seed = qiskit.compiler.transpile(rb_circ_seed, basis_gates=basis_gates)\n",
    "    qobj = qiskit.compiler.assemble(new_rb_circ_seed, shots=shots)\n",
    "    print('Simulating seed %d'%rb_seed)\n",
    "    job = backend.run(qobj, noise_model=noise_model, backend_options={'max_parallel_experiments': 0})\n",
    "    cnotdihedral_interleaved_X_result_list.append(job.result())\n",
    "    cnotdihedral_interleaved_X_qobj_list.append(qobj)    \n",
    "print(\"Finished Simulating CNOT-Dihedral Interleaved X Circuits\")"
   ]
  },
  {
   "cell_type": "code",
   "execution_count": 11,
   "metadata": {},
   "outputs": [
    {
     "name": "stdout",
     "output_type": "stream",
     "text": [
      "Compiling seed 0\n",
      "Simulating seed 0\n",
      "Compiling seed 1\n",
      "Simulating seed 1\n",
      "Compiling seed 2\n",
      "Simulating seed 2\n",
      "Compiling seed 3\n",
      "Simulating seed 3\n",
      "Compiling seed 4\n",
      "Simulating seed 4\n",
      "Compiling seed 5\n",
      "Simulating seed 5\n",
      "Compiling seed 6\n",
      "Simulating seed 6\n",
      "Compiling seed 7\n",
      "Simulating seed 7\n",
      "Compiling seed 8\n",
      "Simulating seed 8\n",
      "Compiling seed 9\n",
      "Simulating seed 9\n",
      "Finished Simulating CNOT-Dihedral Z Circuits\n"
     ]
    }
   ],
   "source": [
    "#CNOT-Dihedral RB Z circuits\n",
    "backend = qiskit.Aer.get_backend('qasm_simulator')\n",
    "#basis_gates = ['u1','u2','u3','cx'] # use U,CX for now\n",
    "shots = nshots\n",
    "cnotdihedral_Z_result_list = []\n",
    "cnotdihedral_Z_qobj_list = []\n",
    "import time\n",
    "for rb_seed,rb_circ_seed in enumerate(rb_cnotdihedral_Z_circs):\n",
    "    print('Compiling seed %d'%rb_seed)\n",
    "    new_rb_circ_seed = qiskit.compiler.transpile(rb_circ_seed, basis_gates=basis_gates)\n",
    "    qobj = qiskit.compiler.assemble(new_rb_circ_seed, shots=shots)\n",
    "    print('Simulating seed %d'%rb_seed)\n",
    "    job = backend.run(qobj, noise_model=noise_model, backend_options={'max_parallel_experiments': 0})\n",
    "    cnotdihedral_Z_result_list.append(job.result())\n",
    "    cnotdihedral_Z_qobj_list.append(qobj)    \n",
    "print(\"Finished Simulating CNOT-Dihedral Z Circuits\")"
   ]
  },
  {
   "cell_type": "code",
   "execution_count": 12,
   "metadata": {},
   "outputs": [
    {
     "name": "stdout",
     "output_type": "stream",
     "text": [
      "Compiling seed 0\n",
      "Simulating seed 0\n",
      "Compiling seed 1\n",
      "Simulating seed 1\n",
      "Compiling seed 2\n",
      "Simulating seed 2\n",
      "Compiling seed 3\n",
      "Simulating seed 3\n",
      "Compiling seed 4\n",
      "Simulating seed 4\n",
      "Compiling seed 5\n",
      "Simulating seed 5\n",
      "Compiling seed 6\n",
      "Simulating seed 6\n",
      "Compiling seed 7\n",
      "Simulating seed 7\n",
      "Compiling seed 8\n",
      "Simulating seed 8\n",
      "Compiling seed 9\n",
      "Simulating seed 9\n",
      "Finished Simulating CNOT-Dihedral Interleaved Z Circuits\n"
     ]
    }
   ],
   "source": [
    "#CNOT-Dihedral inteleaved RB Z circuits\n",
    "backend = qiskit.Aer.get_backend('qasm_simulator')\n",
    "#basis_gates = ['u1','u2','u3','cx'] # use U,CX for now\n",
    "shots = nshots\n",
    "cnotdihedral_interleaved_Z_result_list = []\n",
    "cnotdihedral_interleaved_Z_qobj_list = []\n",
    "import time\n",
    "for rb_seed,rb_circ_seed in enumerate(rb_cnotdihedral_interleaved_Z_circs):\n",
    "    print('Compiling seed %d'%rb_seed)\n",
    "    new_rb_circ_seed = qiskit.compiler.transpile(rb_circ_seed, basis_gates=basis_gates)\n",
    "    qobj = qiskit.compiler.assemble(new_rb_circ_seed, shots=shots)\n",
    "    print('Simulating seed %d'%rb_seed)\n",
    "    job = backend.run(qobj, noise_model=noise_model, backend_options={'max_parallel_experiments': 0})\n",
    "    cnotdihedral_interleaved_Z_result_list.append(job.result())\n",
    "    cnotdihedral_interleaved_Z_qobj_list.append(qobj)    \n",
    "print(\"Finished Simulating CNOT-Dihedral Interleaved Z Circuits\")"
   ]
  },
  {
   "cell_type": "markdown",
   "metadata": {},
   "source": [
    "### Fit the results"
   ]
  },
  {
   "cell_type": "code",
   "execution_count": 13,
   "metadata": {},
   "outputs": [],
   "source": [
    "#Create the cnot-dihedral Z and X RB fitters\n",
    "cnotdihedral_Z_rb_fit = rb.RBFitter(cnotdihedral_Z_result_list, xdata, rb_opts['rb_pattern'])\n",
    "cnotdihedral_X_rb_fit = rb.RBFitter(cnotdihedral_X_result_list, xdata, rb_opts['rb_pattern'])"
   ]
  },
  {
   "cell_type": "code",
   "execution_count": 14,
   "metadata": {},
   "outputs": [
    {
     "name": "stdout",
     "output_type": "stream",
     "text": [
      "pattern: 0 - 2 qubit cnot-dihedral RB of Z circuits: {'params': array([0.73137103, 0.96429388, 0.24678113]), 'params_err': array([0.00479928, 0.00073578, 0.00260576]), 'epc': 0.026779591001048042, 'epc_err': 0.0005722668279312232}\n"
     ]
    }
   ],
   "source": [
    "# Print the Z circuits fitter parameters\n",
    "for patt_ind, pattern in enumerate(rb_pattern):\n",
    "    print ('pattern:', patt_ind, '-', len(pattern), 'qubit cnot-dihedral RB of Z circuits:', cnotdihedral_Z_rb_fit.fit[patt_ind])"
   ]
  },
  {
   "cell_type": "code",
   "execution_count": 15,
   "metadata": {},
   "outputs": [
    {
     "name": "stdout",
     "output_type": "stream",
     "text": [
      "pattern: 0 - 2 qubit cnot-dihedral RB of X circuits: {'params': array([0.72226214, 0.96423952, 0.25053737]), 'params_err': array([0.00269836, 0.00037391, 0.00118351]), 'epc': 0.026820360743249533, 'epc_err': 0.00029083112918570003}\n"
     ]
    }
   ],
   "source": [
    "# Print the X circuits fitter parameters\n",
    "for patt_ind, pattern in enumerate(rb_pattern):\n",
    "    print ('pattern:', patt_ind, '-', len(pattern), 'qubit cnot-dihedral RB of X circuits:', cnotdihedral_X_rb_fit.fit[patt_ind])"
   ]
  },
  {
   "cell_type": "code",
   "execution_count": 16,
   "metadata": {},
   "outputs": [],
   "source": [
    "#Create the cnot-dihedral intelreaved Z and X RB fitters\n",
    "cnotdihedral_interleaved_Z_rb_fit = rb.RBFitter(cnotdihedral_interleaved_Z_result_list, xdata, rb_opts['rb_pattern'])\n",
    "cnotdihedral_interleaved_X_rb_fit = rb.RBFitter(cnotdihedral_interleaved_X_result_list, xdata, rb_opts['rb_pattern'])"
   ]
  },
  {
   "cell_type": "code",
   "execution_count": 17,
   "metadata": {},
   "outputs": [
    {
     "name": "stdout",
     "output_type": "stream",
     "text": [
      "pattern: 0 - 2 qubit cnot-dihedral RB of interleaved Z circuits: {'params': array([0.72293288, 0.94708637, 0.24907442]), 'params_err': array([0.00466625, 0.00084603, 0.0016529 ]), 'epc': 0.03968521977655182, 'epc_err': 0.000669971833355738}\n"
     ]
    }
   ],
   "source": [
    "# Print the interleaved Z circuits fitter parameters\n",
    "for patt_ind, pattern in enumerate(rb_pattern):\n",
    "    print ('pattern:', patt_ind, '-', len(pattern), 'qubit cnot-dihedral RB of interleaved Z circuits:', cnotdihedral_interleaved_Z_rb_fit.fit[patt_ind])"
   ]
  },
  {
   "cell_type": "code",
   "execution_count": 18,
   "metadata": {},
   "outputs": [
    {
     "name": "stdout",
     "output_type": "stream",
     "text": [
      "pattern: 0 - 2 qubit cnot-dihedral RB of interleaved X circuits: {'params': array([0.72753703, 0.94460299, 0.25128739]), 'params_err': array([0.00366595, 0.00065577, 0.00174561]), 'epc': 0.04154775757921553, 'epc_err': 0.0005206696124797914}\n"
     ]
    }
   ],
   "source": [
    "# Print the interleaved X circuits fitter parameters\n",
    "for patt_ind, pattern in enumerate(rb_pattern):\n",
    "    print ('pattern:', patt_ind, '-', len(pattern), 'qubit cnot-dihedral RB of interleaved X circuits:', cnotdihedral_interleaved_X_rb_fit.fit[patt_ind])"
   ]
  },
  {
   "cell_type": "code",
   "execution_count": 19,
   "metadata": {},
   "outputs": [],
   "source": [
    "#Calculate the joint fitter\n",
    "joint_rb_fit = rb.CNOTDihedralRBFitter(cnotdihedral_Z_result_list, cnotdihedral_X_result_list, xdata, rb_opts['rb_pattern'])\n",
    "joint_int_rb_fit = rb.CNOTDihedralRBFitter(cnotdihedral_interleaved_Z_result_list, cnotdihedral_interleaved_X_result_list, xdata, rb_opts['rb_pattern'])"
   ]
  },
  {
   "cell_type": "markdown",
   "metadata": {},
   "source": [
    "### Calculate the fidelity"
   ]
  },
  {
   "cell_type": "code",
   "execution_count": 20,
   "metadata": {},
   "outputs": [
    {
     "name": "stdout",
     "output_type": "stream",
     "text": [
      "pattern: 0 - 2 qubit cnot-dihedral RB: {'alpha': 0.9642503909402544, 'alpha_err': 0.0003457231522969746, 'epg_est': 0.026812206794809168, 'epg_est_err': 0.0002689056355682586}\n",
      "pattern: 0 - 2 qubit cnot-dihedral interleaved RB: {'alpha': 0.9450996666417563, 'alpha_err': 0.0005834098560549539, 'epg_est': 0.0411752500186828, 'epg_est_err': 0.0004629748665513743}\n"
     ]
    }
   ],
   "source": [
    "#Print the joint fitter parameters\n",
    "for patt_ind, pattern in enumerate(rb_pattern):\n",
    "    print ('pattern:', patt_ind, '-', len(pattern), 'qubit cnot-dihedral RB:', joint_rb_fit.fit_cnotdihedral[patt_ind])\n",
    "#Print the joint interleaved parameters\n",
    "for patt_ind, pattern in enumerate(rb_pattern):\n",
    "    print ('pattern:', patt_ind, '-', len(pattern), 'qubit cnot-dihedral interleaved RB:', joint_int_rb_fit.fit_cnotdihedral[patt_ind])"
   ]
  },
  {
   "cell_type": "code",
   "execution_count": 21,
   "metadata": {},
   "outputs": [
    {
     "name": "stdout",
     "output_type": "stream",
     "text": [
      "Estimated gate error: 0.014896 (0.000377)\n",
      "RB fidelity = 0.98510\n"
     ]
    }
   ],
   "source": [
    "#Expected error of the interleaved cs gate\n",
    "alpha = joint_rb_fit.fit_cnotdihedral[0]['alpha']\n",
    "alpha_c = joint_int_rb_fit.fit_cnotdihedral[0]['alpha']\n",
    "alpha_err = joint_rb_fit.fit_cnotdihedral[0]['alpha_err']\n",
    "alpha_c_err = joint_rb_fit.fit_cnotdihedral[0]['alpha_err']\n",
    "\n",
    "nrb = 2 ** nQ\n",
    "r_est = (nrb - 1) * (1 - alpha_c / alpha) / nrb\n",
    "\n",
    "alpha_err_sq = (alpha_err / alpha) * (alpha_err / alpha)\n",
    "alpha_c_err_sq = (alpha_c_err / alpha_c) * (alpha_c_err / alpha_c)\n",
    "r_est_err = ((nrb - 1) / nrb) * (alpha_c / alpha) * (np.sqrt(alpha_err_sq + alpha_c_err_sq))\n",
    "\n",
    "print (\"Estimated gate error: %f (%f)\" %(r_est, r_est_err))\n",
    "print('RB fidelity = %.5f' % (1 - r_est))"
   ]
  },
  {
   "cell_type": "markdown",
   "metadata": {},
   "source": [
    "### Plot the results"
   ]
  },
  {
   "cell_type": "code",
   "execution_count": 22,
   "metadata": {},
   "outputs": [
    {
     "data": {
      "image/png": "[encoded data removed]",
      "text/plain": [
       "<Figure size 1080x432 with 1 Axes>"
      ]
     },
     "metadata": {
      "needs_background": "light"
     },
     "output_type": "display_data"
    }
   ],
   "source": [
    "#Plot the joint RB data\n",
    "plt.figure(figsize=(15, 6))\n",
    "\n",
    "for i in range(1):\n",
    "    ax = plt.subplot(1, 2, i+1)\n",
    "    pattern_ind = i\n",
    "\n",
    "    # Plot the essence by calling plot_rb_data\n",
    "    joint_rb_fit.plot_rb_data(pattern_ind, ax=ax, add_label=True, show_plt=False)\n",
    "\n",
    "    # Add title and label\n",
    "    ax.set_title('%d Qubit non-Clifford cnot-dihedral RB'%(len(rb_opts['rb_pattern'][i])), fontsize=18)\n",
    "\n",
    "plt.show()"
   ]
  },
  {
   "cell_type": "code",
   "execution_count": 23,
   "metadata": {},
   "outputs": [
    {
     "data": {
      "image/png": "[encoded data removed]",
      "text/plain": [
       "<Figure size 1080x432 with 1 Axes>"
      ]
     },
     "metadata": {
      "needs_background": "light"
     },
     "output_type": "display_data"
    }
   ],
   "source": [
    "#Plot the joint interleaved RB data\n",
    "plt.figure(figsize=(15, 6))\n",
    "\n",
    "for i in range(1):\n",
    "    ax = plt.subplot(1, 2, i+1)\n",
    "    pattern_ind = i\n",
    "\n",
    "    # Plot the essence by calling plot_rb_data\n",
    "    joint_int_rb_fit.plot_rb_data(pattern_ind, ax=ax, add_label=True, show_plt=False)\n",
    "\n",
    "    # Add title and label\n",
    "    ax.set_title('%d Qubit non-Clifford cnot-dihedral interleaved RB'%(len(rb_opts['rb_pattern'][i])), fontsize=18)\n",
    "\n",
    "plt.show()"
   ]
  },
  {
   "cell_type": "code",
   "execution_count": 24,
   "metadata": {},
   "outputs": [],
   "source": [
    "import pickle\n",
    "rb_circs_tuple = rb_cnotdihedral_Z_circs, rb_cnotdihedral_X_circs, rb_cnotdihedral_interleaved_Z_circs, \\\n",
    "rb_cnotdihedral_interleaved_X_circs\n",
    "#with open('cs_rb_circs_n10_length10_sim5.pk', 'wb') as fp:\n",
    "#    pickle.dump(rb_circs_tuple, fp) "
   ]
  },
  {
   "cell_type": "code",
   "execution_count": null,
   "metadata": {},
   "outputs": [],
   "source": []
  },
  {
   "cell_type": "code",
   "execution_count": null,
   "metadata": {},
   "outputs": [],
   "source": []
  }
 ],
 "metadata": {
  "kernelspec": {
   "display_name": "Python 3",
   "language": "python",
   "name": "python3"
  },
  "language_info": {
   "codemirror_mode": {
    "name": "ipython",
    "version": 3
   },
   "file_extension": ".py",
   "mimetype": "text/x-python",
   "name": "python",
   "nbconvert_exporter": "python",
   "pygments_lexer": "ipython3",
   "version": "3.7.6"
  }
 },
 "nbformat": 4,
 "nbformat_minor": 2
}
