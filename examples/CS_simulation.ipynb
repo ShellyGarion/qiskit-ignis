{
 "cells": [
  {
   "cell_type": "markdown",
   "metadata": {},
   "source": [
    "# Non-Clifford CNOT-Dihedral Interleaved Randomized Benchmarking \n",
    "# of a CS gate"
   ]
  },
  {
   "cell_type": "code",
   "execution_count": 22,
   "metadata": {},
   "outputs": [],
   "source": [
    "#Import general libraries (needed for functions)\n",
    "import numpy as np\n",
    "import matplotlib.pyplot as plt\n",
    "from IPython import display\n",
    "\n",
    "#Import Qiskit classes\n",
    "import qiskit\n",
    "from qiskit.providers.aer.noise import NoiseModel, errors\n",
    "from qiskit.providers.aer.noise.errors.standard_errors import depolarizing_error, thermal_relaxation_error\n",
    "from qiskit.quantum_info.operators import Operator\n",
    "\n",
    "#Import the RB Functions\n",
    "import qiskit.ignis.verification.randomized_benchmarking as rb\n",
    "\n",
    "#from examples import CS_utils"
   ]
  },
  {
   "cell_type": "code",
   "execution_count": 2,
   "metadata": {},
   "outputs": [],
   "source": [
    "#Number of qubits\n",
    "nQ = 2\n",
    "#There are 3 qubits: Q0,Q1.\n",
    "#Number of seeds (random sequences)\n",
    "nseeds = 5\n",
    "#Number of Cliffords in the sequence (start, stop, steps)\n",
    "nCliffs = np.arange(1,200,20)\n",
    "#2Q RB on Q0,Q2 and 1Q RB on Q1\n",
    "rb_pattern = [[0,1]]\n",
    "# Non-Clifford RB\n",
    "group_gates = 'CNOT-Dihedral'"
   ]
  },
  {
   "cell_type": "markdown",
   "metadata": {},
   "source": [
    "### Interleaved RB with a CS gate \n",
    "\n",
    "Defining a CS gate using an operator."
   ]
  },
  {
   "cell_type": "code",
   "execution_count": 3,
   "metadata": {},
   "outputs": [],
   "source": [
    "rb_opts = {}\n",
    "rb_opts['length_vector'] = nCliffs\n",
    "rb_opts['nseeds'] = nseeds\n",
    "rb_opts['rb_pattern'] = rb_pattern\n",
    "rb_opts['group_gates'] = group_gates\n",
    "rb_opts['align_cliffs'] = True\n",
    "\n",
    "CS01 = rb.dihedral.CNOTDihedral(2)\n",
    "CS01.phase(1, 0)\n",
    "CS01.phase(1, 1)\n",
    "CS01.cnot(0, 1)\n",
    "CS01.phase(7, 1)\n",
    "CS01.cnot(0, 1)\n",
    "\n",
    "cs = Operator([[1, 0, 0, 0],\n",
    "               [0, 1, 0, 0],\n",
    "               [0, 0, 1, 0],\n",
    "               [0, 0, 0, 1j]])\n",
    "\n",
    "rb_opts['interleaved_gates'] = [(CS01, [('cs', 0, 1)])]\n",
    "\n",
    "rb_cnotdihedral_Z_circs, xdata, rb_cnotdihedral_X_circs, rb_cnotdihedral_interleaved_Z_circs, \\\n",
    "rb_cnotdihedral_interleaved_X_circs = rb.randomized_benchmarking_seq(**rb_opts)"
   ]
  },
  {
   "cell_type": "code",
   "execution_count": 4,
   "metadata": {},
   "outputs": [
    {
     "name": "stdout",
     "output_type": "stream",
     "text": [
      "          ┌──────────┐ ┌───┐ ░  ░ ┌───┐┌────────────┐┌─┐   \n",
      "qr_0: |0>─┤ U1(pi/2) ├─┤ X ├─░──░─┤ X ├┤ U1(4.7124) ├┤M├───\n",
      "         ┌┴──────────┴┐└─┬─┘ ░  ░ └─┬─┘└┬──────────┬┘└╥┘┌─┐\n",
      "qr_1: |0>┤ U1(4.7124) ├──■───░──░───■───┤ U1(pi/2) ├──╫─┤M├\n",
      "         └────────────┘      ░  ░       └──────────┘  ║ └╥┘\n",
      " cr_0: 0 ═════════════════════════════════════════════╩══╬═\n",
      "                                                         ║ \n",
      " cr_1: 0 ════════════════════════════════════════════════╩═\n",
      "                                                           \n"
     ]
    }
   ],
   "source": [
    "print (rb_cnotdihedral_Z_circs[0][0])"
   ]
  },
  {
   "cell_type": "code",
   "execution_count": 5,
   "metadata": {},
   "outputs": [
    {
     "name": "stdout",
     "output_type": "stream",
     "text": [
      "          ┌──────────┐ ┌───┐ ░ ┌──────────┐ ░  ░ ┌────────────┐┌───┐»\n",
      "qr_0: |0>─┤ U1(pi/2) ├─┤ X ├─░─┤0         ├─░──░─┤ U1(5.4978) ├┤ X ├»\n",
      "         ┌┴──────────┴┐└─┬─┘ ░ │  unitary │ ░  ░ └────────────┘└─┬─┘»\n",
      "qr_1: |0>┤ U1(4.7124) ├──■───░─┤1         ├─░──░─────────────────■──»\n",
      "         └────────────┘      ░ └──────────┘ ░  ░                    »\n",
      " cr_0: 0 ═══════════════════════════════════════════════════════════»\n",
      "                                                                    »\n",
      " cr_1: 0 ═══════════════════════════════════════════════════════════»\n",
      "                                                                    »\n",
      "«      ┌────────────┐┌─┐   \n",
      "«qr_0: ┤ U1(5.4978) ├┤M├───\n",
      "«      └┬──────────┬┘└╥┘┌─┐\n",
      "«qr_1: ─┤ U1(pi/4) ├──╫─┤M├\n",
      "«       └──────────┘  ║ └╥┘\n",
      "«cr_0: ═══════════════╩══╬═\n",
      "«                        ║ \n",
      "«cr_1: ══════════════════╩═\n",
      "«                          \n"
     ]
    }
   ],
   "source": [
    "print (rb_cnotdihedral_interleaved_Z_circs[0][0])"
   ]
  },
  {
   "cell_type": "code",
   "execution_count": 6,
   "metadata": {},
   "outputs": [
    {
     "name": "stdout",
     "output_type": "stream",
     "text": [
      "         ┌───┐ ░  ┌──────────┐ ┌───┐ ░  ░ ┌───┐┌────────────┐ ░ ┌───┐┌─┐   \n",
      "qr_0: |0>┤ H ├─░──┤ U1(pi/2) ├─┤ X ├─░──░─┤ X ├┤ U1(4.7124) ├─░─┤ H ├┤M├───\n",
      "         ├───┤ ░ ┌┴──────────┴┐└─┬─┘ ░  ░ └─┬─┘└┬──────────┬┘ ░ ├───┤└╥┘┌─┐\n",
      "qr_1: |0>┤ H ├─░─┤ U1(4.7124) ├──■───░──░───■───┤ U1(pi/2) ├──░─┤ H ├─╫─┤M├\n",
      "         └───┘ ░ └────────────┘      ░  ░       └──────────┘  ░ └───┘ ║ └╥┘\n",
      " cr_0: 0 ═════════════════════════════════════════════════════════════╩══╬═\n",
      "                                                                         ║ \n",
      " cr_1: 0 ════════════════════════════════════════════════════════════════╩═\n",
      "                                                                           \n"
     ]
    }
   ],
   "source": [
    "print (rb_cnotdihedral_X_circs[0][0])"
   ]
  },
  {
   "cell_type": "code",
   "execution_count": 7,
   "metadata": {},
   "outputs": [
    {
     "name": "stdout",
     "output_type": "stream",
     "text": [
      "         ┌───┐ ░  ┌──────────┐ ┌───┐ ░ ┌──────────┐ ░  ░ ┌────────────┐┌───┐»\n",
      "qr_0: |0>┤ H ├─░──┤ U1(pi/2) ├─┤ X ├─░─┤0         ├─░──░─┤ U1(5.4978) ├┤ X ├»\n",
      "         ├───┤ ░ ┌┴──────────┴┐└─┬─┘ ░ │  unitary │ ░  ░ └────────────┘└─┬─┘»\n",
      "qr_1: |0>┤ H ├─░─┤ U1(4.7124) ├──■───░─┤1         ├─░──░─────────────────■──»\n",
      "         └───┘ ░ └────────────┘      ░ └──────────┘ ░  ░                    »\n",
      " cr_0: 0 ═══════════════════════════════════════════════════════════════════»\n",
      "                                                                            »\n",
      " cr_1: 0 ═══════════════════════════════════════════════════════════════════»\n",
      "                                                                            »\n",
      "«      ┌────────────┐ ░ ┌───┐┌─┐   \n",
      "«qr_0: ┤ U1(5.4978) ├─░─┤ H ├┤M├───\n",
      "«      └┬──────────┬┘ ░ ├───┤└╥┘┌─┐\n",
      "«qr_1: ─┤ U1(pi/4) ├──░─┤ H ├─╫─┤M├\n",
      "«       └──────────┘  ░ └───┘ ║ └╥┘\n",
      "«cr_0: ═══════════════════════╩══╬═\n",
      "«                                ║ \n",
      "«cr_1: ══════════════════════════╩═\n",
      "«                                  \n"
     ]
    }
   ],
   "source": [
    "print (rb_cnotdihedral_interleaved_X_circs[0][0])"
   ]
  },
  {
   "cell_type": "markdown",
   "metadata": {},
   "source": [
    "### Add a depolarizing noise to the CS gate"
   ]
  },
  {
   "cell_type": "code",
   "execution_count": 8,
   "metadata": {},
   "outputs": [
    {
     "name": "stdout",
     "output_type": "stream",
     "text": [
      "NoiseModel:\n",
      "  Basis gates: ['cx', 'id', 'u3']\n",
      "  Instructions with noise: ['cx', 'cs', 'u3']\n",
      "  All-qubits errors: ['u3', 'cx', 'cs']\n",
      "['cx', 'id', 'u3', 'unitary']\n"
     ]
    }
   ],
   "source": [
    "### Add depolarizing error to \"cs\" gate\n",
    "\n",
    "p1Q = 0.002\n",
    "p2Q = 0.04\n",
    "\n",
    "# Construct the error\n",
    "cs_error = errors.depolarizing_error(p2Q/2, 2)\n",
    "\n",
    "# Build the noise model by adding the error to the \"cs\" gate\n",
    "noise_model = NoiseModel()\n",
    "noise_model.add_all_qubit_quantum_error(depolarizing_error(2*p1Q, 1), 'u3')\n",
    "noise_model.add_all_qubit_quantum_error(depolarizing_error(p2Q, 2), 'cx')\n",
    "noise_model.add_all_qubit_quantum_error(cs_error, 'cs')\n",
    "print (noise_model)\n",
    "\n",
    "noise_model.add_basis_gates(['unitary'])\n",
    "basis_gates = noise_model.basis_gates\n",
    "print(basis_gates)"
   ]
  },
  {
   "cell_type": "markdown",
   "metadata": {},
   "source": [
    "### Execute the RB sequences"
   ]
  },
  {
   "cell_type": "code",
   "execution_count": 9,
   "metadata": {},
   "outputs": [
    {
     "name": "stdout",
     "output_type": "stream",
     "text": [
      "Compiling seed 0\n",
      "Simulating seed 0\n",
      "Compiling seed 1\n",
      "Simulating seed 1\n",
      "Compiling seed 2\n",
      "Simulating seed 2\n",
      "Compiling seed 3\n",
      "Simulating seed 3\n",
      "Compiling seed 4\n",
      "Simulating seed 4\n",
      "Finished Simulating CNOT-Dihedral X Circuits\n"
     ]
    }
   ],
   "source": [
    "#CNOT-Dihedral RB X circuits\n",
    "backend = qiskit.Aer.get_backend('qasm_simulator')\n",
    "#basis_gates = ['u1','u2','u3','cx'] # use U,CX for now\n",
    "shots = 200\n",
    "cnotdihedral_X_result_list = []\n",
    "cnotdihedral_X_qobj_list = []\n",
    "import time\n",
    "for rb_seed,rb_circ_seed in enumerate(rb_cnotdihedral_X_circs):\n",
    "    print('Compiling seed %d'%rb_seed)\n",
    "    new_rb_circ_seed = qiskit.compiler.transpile(rb_circ_seed, basis_gates=basis_gates)\n",
    "    qobj = qiskit.compiler.assemble(new_rb_circ_seed, shots=shots)\n",
    "    print('Simulating seed %d'%rb_seed)\n",
    "    job = backend.run(qobj, noise_model=noise_model, backend_options={'max_parallel_experiments': 0})\n",
    "    cnotdihedral_X_result_list.append(job.result())\n",
    "    cnotdihedral_X_qobj_list.append(qobj)    \n",
    "print(\"Finished Simulating CNOT-Dihedral X Circuits\")"
   ]
  },
  {
   "cell_type": "code",
   "execution_count": 10,
   "metadata": {},
   "outputs": [
    {
     "name": "stdout",
     "output_type": "stream",
     "text": [
      "Compiling seed 0\n",
      "Simulating seed 0\n",
      "Compiling seed 1\n",
      "Simulating seed 1\n",
      "Compiling seed 2\n",
      "Simulating seed 2\n",
      "Compiling seed 3\n",
      "Simulating seed 3\n",
      "Compiling seed 4\n",
      "Simulating seed 4\n",
      "Finished Simulating CNOT-Dihedral Interleaved X Circuits\n"
     ]
    }
   ],
   "source": [
    "#CNOT-Dihedral interleaved RB X circuits\n",
    "backend = qiskit.Aer.get_backend('qasm_simulator')\n",
    "#basis_gates = ['u1','u2','u3','cx'] # use U,CX for now\n",
    "shots = 200\n",
    "cnotdihedral_interleaved_X_result_list = []\n",
    "cnotdihedral_interleaved_X_qobj_list = []\n",
    "import time\n",
    "for rb_seed,rb_circ_seed in enumerate(rb_cnotdihedral_interleaved_X_circs):\n",
    "    print('Compiling seed %d'%rb_seed)\n",
    "    new_rb_circ_seed = qiskit.compiler.transpile(rb_circ_seed, basis_gates=basis_gates)\n",
    "    qobj = qiskit.compiler.assemble(new_rb_circ_seed, shots=shots)\n",
    "    print('Simulating seed %d'%rb_seed)\n",
    "    job = backend.run(qobj, noise_model=noise_model, backend_options={'max_parallel_experiments': 0})\n",
    "    cnotdihedral_interleaved_X_result_list.append(job.result())\n",
    "    cnotdihedral_interleaved_X_qobj_list.append(qobj)    \n",
    "print(\"Finished Simulating CNOT-Dihedral Interleaved X Circuits\")"
   ]
  },
  {
   "cell_type": "code",
   "execution_count": 11,
   "metadata": {},
   "outputs": [
    {
     "name": "stdout",
     "output_type": "stream",
     "text": [
      "Compiling seed 0\n",
      "Simulating seed 0\n",
      "Compiling seed 1\n",
      "Simulating seed 1\n",
      "Compiling seed 2\n",
      "Simulating seed 2\n",
      "Compiling seed 3\n",
      "Simulating seed 3\n",
      "Compiling seed 4\n",
      "Simulating seed 4\n",
      "Finished Simulating CNOT-Dihedral Z Circuits\n"
     ]
    }
   ],
   "source": [
    "#CNOT-Dihedral RB Z circuits\n",
    "backend = qiskit.Aer.get_backend('qasm_simulator')\n",
    "#basis_gates = ['u1','u2','u3','cx'] # use U,CX for now\n",
    "shots = 200\n",
    "cnotdihedral_Z_result_list = []\n",
    "cnotdihedral_Z_qobj_list = []\n",
    "import time\n",
    "for rb_seed,rb_circ_seed in enumerate(rb_cnotdihedral_Z_circs):\n",
    "    print('Compiling seed %d'%rb_seed)\n",
    "    new_rb_circ_seed = qiskit.compiler.transpile(rb_circ_seed, basis_gates=basis_gates)\n",
    "    qobj = qiskit.compiler.assemble(new_rb_circ_seed, shots=shots)\n",
    "    print('Simulating seed %d'%rb_seed)\n",
    "    job = backend.run(qobj, noise_model=noise_model, backend_options={'max_parallel_experiments': 0})\n",
    "    cnotdihedral_Z_result_list.append(job.result())\n",
    "    cnotdihedral_Z_qobj_list.append(qobj)    \n",
    "print(\"Finished Simulating CNOT-Dihedral Z Circuits\")"
   ]
  },
  {
   "cell_type": "code",
   "execution_count": 12,
   "metadata": {},
   "outputs": [
    {
     "name": "stdout",
     "output_type": "stream",
     "text": [
      "Compiling seed 0\n",
      "Simulating seed 0\n",
      "Compiling seed 1\n",
      "Simulating seed 1\n",
      "Compiling seed 2\n",
      "Simulating seed 2\n",
      "Compiling seed 3\n",
      "Simulating seed 3\n",
      "Compiling seed 4\n",
      "Simulating seed 4\n",
      "Finished Simulating CNOT-Dihedral Interleved Z Circuits\n"
     ]
    }
   ],
   "source": [
    "#CNOT-Dihedral inteleaved RB Z circuits\n",
    "backend = qiskit.Aer.get_backend('qasm_simulator')\n",
    "#basis_gates = ['u1','u2','u3','cx'] # use U,CX for now\n",
    "shots = 200\n",
    "cnotdihedral_interleaved_Z_result_list = []\n",
    "cnotdihedral_interleaved_Z_qobj_list = []\n",
    "import time\n",
    "for rb_seed,rb_circ_seed in enumerate(rb_cnotdihedral_interleaved_Z_circs):\n",
    "    print('Compiling seed %d'%rb_seed)\n",
    "    new_rb_circ_seed = qiskit.compiler.transpile(rb_circ_seed, basis_gates=basis_gates)\n",
    "    qobj = qiskit.compiler.assemble(new_rb_circ_seed, shots=shots)\n",
    "    print('Simulating seed %d'%rb_seed)\n",
    "    job = backend.run(qobj, noise_model=noise_model, backend_options={'max_parallel_experiments': 0})\n",
    "    cnotdihedral_interleaved_Z_result_list.append(job.result())\n",
    "    cnotdihedral_interleaved_Z_qobj_list.append(qobj)    \n",
    "print(\"Finished Simulating CNOT-Dihedral Interleved Z Circuits\")"
   ]
  },
  {
   "cell_type": "markdown",
   "metadata": {},
   "source": [
    "### Fit the results"
   ]
  },
  {
   "cell_type": "code",
   "execution_count": 13,
   "metadata": {},
   "outputs": [],
   "source": [
    "#Create the cnot-dihedral Z and X RB fitters\n",
    "cnotdihedral_Z_rb_fit = rb.RBFitter(cnotdihedral_Z_result_list, xdata, rb_opts['rb_pattern'])\n",
    "cnotdihedral_X_rb_fit = rb.RBFitter(cnotdihedral_X_result_list, xdata, rb_opts['rb_pattern'])"
   ]
  },
  {
   "cell_type": "code",
   "execution_count": 23,
   "metadata": {},
   "outputs": [
    {
     "name": "stdout",
     "output_type": "stream",
     "text": [
      "pattern: 0 - 2 qubit cnot-dihedral RB of Z circuits: {'params': array([0.68845557, 0.92713392, 0.25040126]), 'params_err': array([0.02573173, 0.0038604 , 0.00264992]), 'epc': 0.05464955836157831, 'epc_err': 0.0031228470149681155}\n"
     ]
    }
   ],
   "source": [
    "# Print the Z circuits fitter parameters\n",
    "for patt_ind, pattern in enumerate(rb_pattern):\n",
    "    print ('pattern:', patt_ind, '-', len(pattern), 'qubit cnot-dihedral RB of Z circuits:', cnotdihedral_Z_rb_fit.fit[patt_ind])"
   ]
  },
  {
   "cell_type": "code",
   "execution_count": 24,
   "metadata": {},
   "outputs": [
    {
     "name": "stdout",
     "output_type": "stream",
     "text": [
      "pattern: 0 - 2 qubit cnot-dihedral RB of X circuits: {'params': array([0.73101175, 0.93507503, 0.23015801]), 'params_err': array([0.03656969, 0.00850779, 0.00475419]), 'epc': 0.04869372565453403, 'epc_err': 0.006823880117628161}\n"
     ]
    }
   ],
   "source": [
    "# Print the X circuits fitter parameters\n",
    "for patt_ind, pattern in enumerate(rb_pattern):\n",
    "    print ('pattern:', patt_ind, '-', len(pattern), 'qubit cnot-dihedral RB of X circuits:', cnotdihedral_X_rb_fit.fit[patt_ind])"
   ]
  },
  {
   "cell_type": "code",
   "execution_count": 14,
   "metadata": {},
   "outputs": [],
   "source": [
    "#Create the cnot-dihedral intelreaved Z and X RB fitters\n",
    "cnotdihedral_interleaved_Z_rb_fit = rb.RBFitter(cnotdihedral_interleaved_Z_result_list, xdata, rb_opts['rb_pattern'])\n",
    "cnotdihedral_interleaved_X_rb_fit = rb.RBFitter(cnotdihedral_interleaved_X_result_list, xdata, rb_opts['rb_pattern'])"
   ]
  },
  {
   "cell_type": "code",
   "execution_count": 26,
   "metadata": {},
   "outputs": [
    {
     "name": "stdout",
     "output_type": "stream",
     "text": [
      "pattern: 0 - 2 qubit cnot-dihedral RB of interleaved Z circuits: {'params': array([0.68960183, 0.91466517, 0.25407603]), 'params_err': array([0.0148677 , 0.00675638, 0.00353984]), 'epc': 0.06400111945307344, 'epc_err': 0.005540042062614662}\n"
     ]
    }
   ],
   "source": [
    "# Print the interleaved Z circuits fitter parameters\n",
    "for patt_ind, pattern in enumerate(rb_pattern):\n",
    "    print ('pattern:', patt_ind, '-', len(pattern), 'qubit cnot-dihedral RB of interleaved Z circuits:', cnotdihedral_interleaved_Z_rb_fit.fit[patt_ind])"
   ]
  },
  {
   "cell_type": "code",
   "execution_count": 27,
   "metadata": {},
   "outputs": [
    {
     "name": "stdout",
     "output_type": "stream",
     "text": [
      "pattern: 0 - 2 qubit cnot-dihedral RB of interleaved X circuits: {'params': array([0.6848395 , 0.9144517 , 0.25317438]), 'params_err': array([0.02992725, 0.01090076, 0.00571352]), 'epc': 0.06416122795969367, 'epc_err': 0.008940408309272656}\n"
     ]
    }
   ],
   "source": [
    "# Print the interleaved X circuits fitter parameters\n",
    "for patt_ind, pattern in enumerate(rb_pattern):\n",
    "    print ('pattern:', patt_ind, '-', len(pattern), 'qubit cnot-dihedral RB of interleaved X circuits:', cnotdihedral_interleaved_X_rb_fit.fit[patt_ind])"
   ]
  },
  {
   "cell_type": "code",
   "execution_count": 15,
   "metadata": {},
   "outputs": [],
   "source": [
    "#Calculate the joint fitter\n",
    "joint_rb_fit = rb.CNOTDihedralRBFitter(cnotdihedral_Z_result_list, cnotdihedral_X_result_list, xdata, rb_opts['rb_pattern'])\n",
    "joint_int_rb_fit = rb.CNOTDihedralRBFitter(cnotdihedral_interleaved_Z_result_list, cnotdihedral_interleaved_X_result_list, xdata, rb_opts['rb_pattern'])"
   ]
  },
  {
   "cell_type": "markdown",
   "metadata": {},
   "source": [
    "### Calculate the fidelity"
   ]
  },
  {
   "cell_type": "code",
   "execution_count": 17,
   "metadata": {},
   "outputs": [
    {
     "name": "stdout",
     "output_type": "stream",
     "text": [
      "pattern: 0 - 2 qubit cnot-dihedral RB: {'alpha': 0.9334868104054095, 'alpha_err': 0.0073262880641521535, 'epg_est': 0.04988489219594289, 'epg_est_err': 0.0058862278361788345}\n",
      "pattern: 0 - 2 qubit cnot-dihedral interleaved RB: {'alpha': 0.9144943916555072, 'alpha_err': 0.009650189093239017, 'epg_est': 0.06412920625836963, 'epg_est_err': 0.007914364359115397}\n"
     ]
    }
   ],
   "source": [
    "#Print the joint fitter parameters\n",
    "for patt_ind, pattern in enumerate(rb_pattern):\n",
    "    print ('pattern:', patt_ind, '-', len(pattern), 'qubit cnot-dihedral RB:', joint_rb_fit.fit_cnotdihedral[patt_ind])\n",
    "#Print the joint interleaved parameters\n",
    "for patt_ind, pattern in enumerate(rb_pattern):\n",
    "    print ('pattern:', patt_ind, '-', len(pattern), 'qubit cnot-dihedral interleaved RB:', joint_int_rb_fit.fit_cnotdihedral[patt_ind])"
   ]
  },
  {
   "cell_type": "code",
   "execution_count": 19,
   "metadata": {},
   "outputs": [
    {
     "name": "stdout",
     "output_type": "stream",
     "text": [
      "Estimated gate error: 0.015259 (0.008240)\n"
     ]
    }
   ],
   "source": [
    "#Expected error of the interleaved cs gate\n",
    "alpha = joint_rb_fit.fit_cnotdihedral[0]['alpha']\n",
    "alpha_c = joint_int_rb_fit.fit_cnotdihedral[0]['alpha']\n",
    "alpha_err = joint_rb_fit.fit_cnotdihedral[0]['alpha_err']\n",
    "alpha_c_err = joint_rb_fit.fit_cnotdihedral[0]['alpha_err']\n",
    "\n",
    "nrb = 2 ** nQ\n",
    "r_est = (nrb - 1) * (1 - alpha_c / alpha) / nrb\n",
    "\n",
    "alpha_err_sq = (alpha_err / alpha) * (alpha_err / alpha)\n",
    "alpha_c_err_sq = (alpha_c_err / alpha_c) * (alpha_c_err / alpha_c)\n",
    "r_est_err = ((nrb - 1) / nrb) * (alpha_c / alpha) * (np.sqrt(alpha_err_sq + alpha_c_err_sq))\n",
    "\n",
    "print (\"Estimated gate error: %f (%f)\" %(r_est, r_est_err))"
   ]
  },
  {
   "cell_type": "markdown",
   "metadata": {},
   "source": [
    "### Plot the results"
   ]
  },
  {
   "cell_type": "code",
   "execution_count": 20,
   "metadata": {},
   "outputs": [
    {
     "data": {
      "image/png": "[encoded data removed]",
      "text/plain": [
       "<Figure size 1080x432 with 1 Axes>"
      ]
     },
     "metadata": {
      "needs_background": "light"
     },
     "output_type": "display_data"
    }
   ],
   "source": [
    "#Plot the joint RB data\n",
    "plt.figure(figsize=(15, 6))\n",
    "\n",
    "for i in range(1):\n",
    "    ax = plt.subplot(1, 2, i+1)\n",
    "    pattern_ind = i\n",
    "\n",
    "    # Plot the essence by calling plot_rb_data\n",
    "    joint_rb_fit.plot_rb_data(pattern_ind, ax=ax, add_label=True, show_plt=False)\n",
    "\n",
    "    # Add title and label\n",
    "    ax.set_title('%d Qubit non-Clifford RB'%(len(rb_opts['rb_pattern'][i])), fontsize=18)\n",
    "\n",
    "plt.show()"
   ]
  },
  {
   "cell_type": "code",
   "execution_count": 21,
   "metadata": {},
   "outputs": [
    {
     "data": {
      "image/png": "[encoded data removed]",
      "text/plain": [
       "<Figure size 1080x432 with 1 Axes>"
      ]
     },
     "metadata": {
      "needs_background": "light"
     },
     "output_type": "display_data"
    }
   ],
   "source": [
    "#Plot the joint interleaved RB data\n",
    "plt.figure(figsize=(15, 6))\n",
    "\n",
    "for i in range(1):\n",
    "    ax = plt.subplot(1, 2, i+1)\n",
    "    pattern_ind = i\n",
    "\n",
    "    # Plot the essence by calling plot_rb_data\n",
    "    joint_int_rb_fit.plot_rb_data(pattern_ind, ax=ax, add_label=True, show_plt=False)\n",
    "\n",
    "    # Add title and label\n",
    "    ax.set_title('%d Qubit non-Clifford interleaved RB'%(len(rb_opts['rb_pattern'][i])), fontsize=18)\n",
    "\n",
    "plt.show()"
   ]
  },
  {
   "cell_type": "code",
   "execution_count": null,
   "metadata": {},
   "outputs": [],
   "source": []
  },
  {
   "cell_type": "code",
   "execution_count": null,
   "metadata": {},
   "outputs": [],
   "source": []
  }
 ],
 "metadata": {
  "kernelspec": {
   "display_name": "Python 3",
   "language": "python",
   "name": "python3"
  },
  "language_info": {
   "codemirror_mode": {
    "name": "ipython",
    "version": 3
   },
   "file_extension": ".py",
   "mimetype": "text/x-python",
   "name": "python",
   "nbconvert_exporter": "python",
   "pygments_lexer": "ipython3",
   "version": "3.6.9"
  }
 },
 "nbformat": 4,
 "nbformat_minor": 2
}
