{
 "cells": [
  {
   "cell_type": "markdown",
   "metadata": {},
   "source": [
    "# Non-Clifford Randomized Benchmarking of a CS gate"
   ]
  },
  {
   "cell_type": "code",
   "execution_count": 1,
   "metadata": {},
   "outputs": [
    {
     "name": "stdout",
     "output_type": "stream",
     "text": [
      "['/home/shelly/Quantum/qiskit-terra', '/home/shelly/Quantum/ignis2', '/opt/anaconda3/envs/ShellyEnv/lib/python36.zip', '/opt/anaconda3/envs/ShellyEnv/lib/python3.6', '/opt/anaconda3/envs/ShellyEnv/lib/python3.6/lib-dynload', '', '/opt/anaconda3/envs/ShellyEnv/lib/python3.6/site-packages', '/opt/anaconda3/envs/ShellyEnv/lib/python3.6/site-packages/IPython/extensions', '/home/shelly/.ipython']\n",
      "/home/shelly/Quantum/ignis2/qiskit/ignis/verification/randomized_benchmarking/__init__.py\n"
     ]
    }
   ],
   "source": [
    "#Import general libraries (needed for functions)\n",
    "import numpy as np\n",
    "import matplotlib.pyplot as plt\n",
    "from IPython import display\n",
    "\n",
    "import os, sys\n",
    "HOME = \"/home/shelly/Quantum/ignis2\"\n",
    "QISKIT_ROOT = HOME\n",
    "root_dir = os.path.expanduser(QISKIT_ROOT)\n",
    "sys.path = [os.path.expanduser(QISKIT_ROOT)] + sys.path\n",
    "HOME = \"/home/shelly/Quantum/qiskit-terra\"\n",
    "QISKIT_ROOT = HOME\n",
    "root_dir = os.path.expanduser(QISKIT_ROOT)\n",
    "sys.path = [os.path.expanduser(QISKIT_ROOT)] + sys.path\n",
    "print (sys.path)\n",
    "\n",
    "import qiskit.ignis.verification.randomized_benchmarking as rb\n",
    "print(rb.__file__)\n",
    "\n",
    "#Import Qiskit classes classes\n",
    "import qiskit\n",
    "from qiskit.providers.aer.noise import NoiseModel, errors\n",
    "from qiskit.providers.aer.noise.errors.standard_errors import depolarizing_error, thermal_relaxation_error\n",
    "from qiskit.quantum_info.operators import Operator\n",
    "\n",
    "#Import the RB Functions\n",
    "import qiskit.ignis.verification.randomized_benchmarking as rb\n",
    "\n",
    "#from examples import CS_utils"
   ]
  },
  {
   "cell_type": "code",
   "execution_count": 2,
   "metadata": {},
   "outputs": [],
   "source": [
    "#Number of qubits\n",
    "nQ = 2\n",
    "#There are 3 qubits: Q0,Q1.\n",
    "#Number of seeds (random sequences)\n",
    "nseeds = 5\n",
    "#Number of Cliffords in the sequence (start, stop, steps)\n",
    "nCliffs = np.arange(1,200,20)\n",
    "#2Q RB on Q0,Q2 and 1Q RB on Q1\n",
    "rb_pattern = [[0,1]]\n",
    "# Non-Clifford RB\n",
    "group_gates = 'Non-Clifford'"
   ]
  },
  {
   "cell_type": "markdown",
   "metadata": {},
   "source": [
    "### Interleaved RB with a CS gate \n",
    "\n",
    "Defining a CS gate using an operator."
   ]
  },
  {
   "cell_type": "code",
   "execution_count": 3,
   "metadata": {},
   "outputs": [],
   "source": [
    "rb_opts = {}\n",
    "rb_opts['length_vector'] = nCliffs\n",
    "rb_opts['nseeds'] = nseeds\n",
    "rb_opts['rb_pattern'] = rb_pattern\n",
    "rb_opts['group_gates'] = group_gates\n",
    "rb_opts['align_cliffs'] = True\n",
    "\n",
    "CS01 = rb.dihedral.CNOTDihedral(2)\n",
    "CS01.phase(1, 0)\n",
    "CS01.phase(1, 1)\n",
    "CS01.cnot(0, 1)\n",
    "CS01.phase(7, 1)\n",
    "CS01.cnot(0, 1)\n",
    "\n",
    "cs = Operator([[1, 0, 0, 0],\n",
    "               [0, 1, 0, 0],\n",
    "               [0, 0, 1, 0],\n",
    "               [0, 0, 0, 1j]])\n",
    "\n",
    "rb_opts['interleaved_gates'] = [(CS01, [('cs', 0, 1)])]\n",
    "\n",
    "rb_nonclifford_Z_circs, xdata, rb_nonclifford_X_circs, rb_nonclifford_interleaved_Z_circs, \\\n",
    "rb_nonclifford_interleaved_X_circs = rb.randomized_benchmarking_seq(**rb_opts)"
   ]
  },
  {
   "cell_type": "code",
   "execution_count": 4,
   "metadata": {},
   "outputs": [
    {
     "name": "stdout",
     "output_type": "stream",
     "text": [
      "         ┌────────────┐┌───┐      ░  ░          ┌───┐     ┌──────────┐┌─┐\n",
      "qr_0: |0>┤ U1(5.4978) ├┤ X ├──■───░──░───■──────┤ X ├─────┤ U1(pi/4) ├┤M├\n",
      "         └┬──────────┬┘└───┘┌─┴─┐ ░  ░ ┌─┴─┐┌───┴───┴────┐└───┬─┬────┘└╥┘\n",
      "qr_1: |0>─┤ U1(pi/2) ├──────┤ X ├─░──░─┤ X ├┤ U1(4.7124) ├────┤M├──────╫─\n",
      "          └──────────┘      └───┘ ░  ░ └───┘└────────────┘    └╥┘      ║ \n",
      " cr_0: 0 ══════════════════════════════════════════════════════╬═══════╩═\n",
      "                                                               ║         \n",
      " cr_1: 0 ══════════════════════════════════════════════════════╩═════════\n",
      "                                                                         \n"
     ]
    }
   ],
   "source": [
    "print (rb_nonclifford_Z_circs[0][0])"
   ]
  },
  {
   "cell_type": "code",
   "execution_count": 5,
   "metadata": {},
   "outputs": [
    {
     "name": "stdout",
     "output_type": "stream",
     "text": [
      "         ┌────────────┐┌───┐      ░ ┌──────────┐ ░  ░                    »\n",
      "qr_0: |0>┤ U1(5.4978) ├┤ X ├──■───░─┤0         ├─░──░─────────────────■──»\n",
      "         └┬──────────┬┘└───┘┌─┴─┐ ░ │  unitary │ ░  ░ ┌────────────┐┌─┴─┐»\n",
      "qr_1: |0>─┤ U1(pi/2) ├──────┤ X ├─░─┤1         ├─░──░─┤ U1(5.4978) ├┤ X ├»\n",
      "          └──────────┘      └───┘ ░ └──────────┘ ░  ░ └────────────┘└───┘»\n",
      " cr_0: 0 ════════════════════════════════════════════════════════════════»\n",
      "                                                                         »\n",
      " cr_1: 0 ════════════════════════════════════════════════════════════════»\n",
      "                                                                         »\n",
      "«          ┌───┐     ┌──────────┐┌─┐\n",
      "«qr_0: ────┤ X ├─────┤ U1(pi/2) ├┤M├\n",
      "«      ┌───┴───┴────┐└───┬─┬────┘└╥┘\n",
      "«qr_1: ┤ U1(5.4978) ├────┤M├──────╫─\n",
      "«      └────────────┘    └╥┘      ║ \n",
      "«cr_0: ═══════════════════╬═══════╩═\n",
      "«                         ║         \n",
      "«cr_1: ═══════════════════╩═════════\n",
      "«                                   \n"
     ]
    }
   ],
   "source": [
    "print (rb_nonclifford_interleaved_Z_circs[0][0])"
   ]
  },
  {
   "cell_type": "code",
   "execution_count": 6,
   "metadata": {},
   "outputs": [
    {
     "name": "stdout",
     "output_type": "stream",
     "text": [
      "         ┌───┐ ░ ┌────────────┐┌───┐      ░  ░          ┌───┐     ┌──────────┐»\n",
      "qr_0: |0>┤ H ├─░─┤ U1(5.4978) ├┤ X ├──■───░──░───■──────┤ X ├─────┤ U1(pi/4) ├»\n",
      "         ├───┤ ░ └┬──────────┬┘└───┘┌─┴─┐ ░  ░ ┌─┴─┐┌───┴───┴────┐└────░─────┘»\n",
      "qr_1: |0>┤ H ├─░──┤ U1(pi/2) ├──────┤ X ├─░──░─┤ X ├┤ U1(4.7124) ├─────░──────»\n",
      "         └───┘ ░  └──────────┘      └───┘ ░  ░ └───┘└────────────┘     ░      »\n",
      " cr_0: 0 ═════════════════════════════════════════════════════════════════════»\n",
      "                                                                              »\n",
      " cr_1: 0 ═════════════════════════════════════════════════════════════════════»\n",
      "                                                                              »\n",
      "«        ░  ┌───┐┌─┐\n",
      "«qr_0: ──░──┤ H ├┤M├\n",
      "«      ┌───┐└┬─┬┘└╥┘\n",
      "«qr_1: ┤ H ├─┤M├──╫─\n",
      "«      └───┘ └╥┘  ║ \n",
      "«cr_0: ═══════╬═══╩═\n",
      "«             ║     \n",
      "«cr_1: ═══════╩═════\n",
      "«                   \n"
     ]
    }
   ],
   "source": [
    "print (rb_nonclifford_X_circs[0][0])"
   ]
  },
  {
   "cell_type": "code",
   "execution_count": 7,
   "metadata": {},
   "outputs": [
    {
     "name": "stdout",
     "output_type": "stream",
     "text": [
      "         ┌───┐ ░ ┌────────────┐┌───┐      ░ ┌──────────┐ ░  ░               »\n",
      "qr_0: |0>┤ H ├─░─┤ U1(5.4978) ├┤ X ├──■───░─┤0         ├─░──░───────────────»\n",
      "         ├───┤ ░ └┬──────────┬┘└───┘┌─┴─┐ ░ │  unitary │ ░  ░ ┌────────────┐»\n",
      "qr_1: |0>┤ H ├─░──┤ U1(pi/2) ├──────┤ X ├─░─┤1         ├─░──░─┤ U1(5.4978) ├»\n",
      "         └───┘ ░  └──────────┘      └───┘ ░ └──────────┘ ░  ░ └────────────┘»\n",
      " cr_0: 0 ═══════════════════════════════════════════════════════════════════»\n",
      "                                                                            »\n",
      " cr_1: 0 ═══════════════════════════════════════════════════════════════════»\n",
      "                                                                            »\n",
      "«               ┌───┐     ┌──────────┐  ░  ┌───┐┌─┐\n",
      "«qr_0: ──■──────┤ X ├─────┤ U1(pi/2) ├──░──┤ H ├┤M├\n",
      "«      ┌─┴─┐┌───┴───┴────┐└────░─────┘┌───┐└┬─┬┘└╥┘\n",
      "«qr_1: ┤ X ├┤ U1(5.4978) ├─────░──────┤ H ├─┤M├──╫─\n",
      "«      └───┘└────────────┘     ░      └───┘ └╥┘  ║ \n",
      "«cr_0: ══════════════════════════════════════╬═══╩═\n",
      "«                                            ║     \n",
      "«cr_1: ══════════════════════════════════════╩═════\n",
      "«                                                  \n"
     ]
    }
   ],
   "source": [
    "print (rb_nonclifford_interleaved_X_circs[0][0])"
   ]
  },
  {
   "cell_type": "markdown",
   "metadata": {},
   "source": [
    "### Add a depolarizing noise to the CS gate"
   ]
  },
  {
   "cell_type": "code",
   "execution_count": 61,
   "metadata": {},
   "outputs": [
    {
     "name": "stdout",
     "output_type": "stream",
     "text": [
      "NoiseModel:\n",
      "  Basis gates: ['cx', 'id', 'u3']\n",
      "  Instructions with noise: ['cs']\n",
      "  All-qubits errors: ['cs']\n",
      "['cx', 'id', 'u3', 'unitary']\n"
     ]
    }
   ],
   "source": [
    "### Add depolarizing error to cs gate\n",
    "\n",
    "param_q0 = 0.01   # depolarizing parameter for qubit-0\n",
    "param_q1 = 0.01   # depolarizing parameter for qubit-1\n",
    "param_2q = 0.01   # depolarizing parameter for 2 qubits\n",
    "\n",
    "# Construct the error\n",
    "#qerror_q0 = errors.depolarizing_error(param_q0, 1)\n",
    "#qerror_q1 = errors.depolarizing_error(param_q1, 1)\n",
    "#cs_error = qerror_q1.tensor(qerror_q0)\n",
    "cs_error = errors.depolarizing_error(param_2q, 2)\n",
    "\n",
    "# Build the noise model by adding the error to the \"iswap\" gate\n",
    "noise_model = NoiseModel()\n",
    "noise_model.add_all_qubit_quantum_error(cs_error, 'cs')\n",
    "print (noise_model)\n",
    "\n",
    "noise_model.add_basis_gates(['unitary'])\n",
    "basis_gates = noise_model.basis_gates\n",
    "print(basis_gates)"
   ]
  },
  {
   "cell_type": "markdown",
   "metadata": {},
   "source": [
    "### Execute the RB sequences"
   ]
  },
  {
   "cell_type": "code",
   "execution_count": 62,
   "metadata": {},
   "outputs": [
    {
     "name": "stdout",
     "output_type": "stream",
     "text": [
      "Compiling seed 0\n",
      "Simulating seed 0\n",
      "Compiling seed 1\n",
      "Simulating seed 1\n",
      "Compiling seed 2\n",
      "Simulating seed 2\n",
      "Compiling seed 3\n",
      "Simulating seed 3\n",
      "Compiling seed 4\n",
      "Simulating seed 4\n",
      "Finished Simulating Non-Clifford X Circuits\n"
     ]
    }
   ],
   "source": [
    "#Non-Clifford RB X circuits\n",
    "backend = qiskit.Aer.get_backend('qasm_simulator')\n",
    "#basis_gates = ['u1','u2','u3','cx'] # use U,CX for now\n",
    "shots = 200\n",
    "nonclifford_X_result_list = []\n",
    "nonclifford_X_qobj_list = []\n",
    "import time\n",
    "for rb_seed,rb_circ_seed in enumerate(rb_nonclifford_X_circs):\n",
    "    print('Compiling seed %d'%rb_seed)\n",
    "    new_rb_circ_seed = qiskit.compiler.transpile(rb_circ_seed, basis_gates=basis_gates)\n",
    "    qobj = qiskit.compiler.assemble(new_rb_circ_seed, shots=shots)\n",
    "    print('Simulating seed %d'%rb_seed)\n",
    "    job = backend.run(qobj, noise_model=noise_model, backend_options={'max_parallel_experiments': 0})\n",
    "    nonclifford_X_result_list.append(job.result())\n",
    "    nonclifford_X_qobj_list.append(qobj)    \n",
    "print(\"Finished Simulating Non-Clifford X Circuits\")"
   ]
  },
  {
   "cell_type": "code",
   "execution_count": 63,
   "metadata": {},
   "outputs": [
    {
     "name": "stdout",
     "output_type": "stream",
     "text": [
      "Compiling seed 0\n",
      "Simulating seed 0\n",
      "Compiling seed 1\n",
      "Simulating seed 1\n",
      "Compiling seed 2\n",
      "Simulating seed 2\n",
      "Compiling seed 3\n",
      "Simulating seed 3\n",
      "Compiling seed 4\n",
      "Simulating seed 4\n",
      "Finished Simulating Non-Clifford X Circuits\n"
     ]
    }
   ],
   "source": [
    "#Non-Clifford interleaved RB X circuits\n",
    "backend = qiskit.Aer.get_backend('qasm_simulator')\n",
    "#basis_gates = ['u1','u2','u3','cx'] # use U,CX for now\n",
    "shots = 200\n",
    "nonclifford_interleaved_X_result_list = []\n",
    "nonclifford_interleaved_X_qobj_list = []\n",
    "import time\n",
    "for rb_seed,rb_circ_seed in enumerate(rb_nonclifford_interleaved_X_circs):\n",
    "    print('Compiling seed %d'%rb_seed)\n",
    "    new_rb_circ_seed = qiskit.compiler.transpile(rb_circ_seed, basis_gates=basis_gates)\n",
    "    qobj = qiskit.compiler.assemble(new_rb_circ_seed, shots=shots)\n",
    "    print('Simulating seed %d'%rb_seed)\n",
    "    job = backend.run(qobj, noise_model=noise_model, backend_options={'max_parallel_experiments': 0})\n",
    "    nonclifford_interleaved_X_result_list.append(job.result())\n",
    "    nonclifford_interleaved_X_qobj_list.append(qobj)    \n",
    "print(\"Finished Simulating Non-Clifford X Circuits\")"
   ]
  },
  {
   "cell_type": "code",
   "execution_count": 64,
   "metadata": {},
   "outputs": [
    {
     "name": "stdout",
     "output_type": "stream",
     "text": [
      "Compiling seed 0\n",
      "Simulating seed 0\n",
      "Compiling seed 1\n",
      "Simulating seed 1\n",
      "Compiling seed 2\n",
      "Simulating seed 2\n",
      "Compiling seed 3\n",
      "Simulating seed 3\n",
      "Compiling seed 4\n",
      "Simulating seed 4\n",
      "Finished Simulating Non-Clifford Z Circuits\n"
     ]
    }
   ],
   "source": [
    "#Non-Clifford RB Z circuits\n",
    "backend = qiskit.Aer.get_backend('qasm_simulator')\n",
    "#basis_gates = ['u1','u2','u3','cx'] # use U,CX for now\n",
    "shots = 200\n",
    "nonclifford_Z_result_list = []\n",
    "nonclifford_Z_qobj_list = []\n",
    "import time\n",
    "for rb_seed,rb_circ_seed in enumerate(rb_nonclifford_Z_circs):\n",
    "    print('Compiling seed %d'%rb_seed)\n",
    "    new_rb_circ_seed = qiskit.compiler.transpile(rb_circ_seed, basis_gates=basis_gates)\n",
    "    qobj = qiskit.compiler.assemble(new_rb_circ_seed, shots=shots)\n",
    "    print('Simulating seed %d'%rb_seed)\n",
    "    job = backend.run(qobj, noise_model=noise_model, backend_options={'max_parallel_experiments': 0})\n",
    "    nonclifford_Z_result_list.append(job.result())\n",
    "    nonclifford_Z_qobj_list.append(qobj)    \n",
    "print(\"Finished Simulating Non-Clifford Z Circuits\")"
   ]
  },
  {
   "cell_type": "code",
   "execution_count": 65,
   "metadata": {},
   "outputs": [
    {
     "name": "stdout",
     "output_type": "stream",
     "text": [
      "Compiling seed 0\n",
      "Simulating seed 0\n",
      "Compiling seed 1\n",
      "Simulating seed 1\n",
      "Compiling seed 2\n",
      "Simulating seed 2\n",
      "Compiling seed 3\n",
      "Simulating seed 3\n",
      "Compiling seed 4\n",
      "Simulating seed 4\n",
      "Finished Simulating Non-Clifford Z Circuits\n"
     ]
    }
   ],
   "source": [
    "#Non-Clifford inteleaved RB Z circuits\n",
    "backend = qiskit.Aer.get_backend('qasm_simulator')\n",
    "#basis_gates = ['u1','u2','u3','cx'] # use U,CX for now\n",
    "shots = 200\n",
    "nonclifford_interleaved_Z_result_list = []\n",
    "nonclifford_interleaved_Z_qobj_list = []\n",
    "import time\n",
    "for rb_seed,rb_circ_seed in enumerate(rb_nonclifford_interleaved_Z_circs):\n",
    "    print('Compiling seed %d'%rb_seed)\n",
    "    new_rb_circ_seed = qiskit.compiler.transpile(rb_circ_seed, basis_gates=basis_gates)\n",
    "    qobj = qiskit.compiler.assemble(new_rb_circ_seed, shots=shots)\n",
    "    print('Simulating seed %d'%rb_seed)\n",
    "    job = backend.run(qobj, noise_model=noise_model, backend_options={'max_parallel_experiments': 0})\n",
    "    nonclifford_interleaved_Z_result_list.append(job.result())\n",
    "    nonclifford_interleaved_Z_qobj_list.append(qobj)    \n",
    "print(\"Finished Simulating Non-Clifford Z Circuits\")"
   ]
  },
  {
   "cell_type": "markdown",
   "metadata": {},
   "source": [
    "### Fit the results"
   ]
  },
  {
   "cell_type": "code",
   "execution_count": 66,
   "metadata": {},
   "outputs": [],
   "source": [
    "#Create the non-Clifford Z and X RB fitters\n",
    "nonclifford_Z_rb_fit = rb.RBFitter(nonclifford_Z_result_list, xdata, rb_opts['rb_pattern'])\n",
    "nonclifford_X_rb_fit = rb.RBFitter(nonclifford_X_result_list, xdata, rb_opts['rb_pattern'])"
   ]
  },
  {
   "cell_type": "code",
   "execution_count": 67,
   "metadata": {},
   "outputs": [],
   "source": [
    "#Create the non-Clifford intelreaved Z and X RB fitters\n",
    "nonclifford_interleaved_Z_rb_fit = rb.RBFitter(nonclifford_interleaved_Z_result_list, xdata, rb_opts['rb_pattern'])\n",
    "nonclifford_interleaved_X_rb_fit = rb.RBFitter(nonclifford_interleaved_X_result_list, xdata, rb_opts['rb_pattern'])"
   ]
  },
  {
   "cell_type": "code",
   "execution_count": 68,
   "metadata": {},
   "outputs": [],
   "source": [
    "#Calculate the joint fitter\n",
    "joint_rb_fit = rb.NonCliffordRBFitter(nonclifford_Z_result_list, nonclifford_X_result_list, xdata, rb_opts['rb_pattern'])\n",
    "joint_int_rb_fit = rb.NonCliffordRBFitter(nonclifford_interleaved_Z_result_list, nonclifford_interleaved_X_result_list, xdata, rb_opts['rb_pattern'])"
   ]
  },
  {
   "cell_type": "markdown",
   "metadata": {},
   "source": [
    "### Calculate the fidelity"
   ]
  },
  {
   "cell_type": "code",
   "execution_count": 69,
   "metadata": {},
   "outputs": [
    {
     "name": "stdout",
     "output_type": "stream",
     "text": [
      "pattern: 0 - 2 qubit non-Clifford RB: {'alpha': 0.9999999528206999, 'alpha_err': 5.904788000459062e-06, 'epg_est': 3.5384475099986545e-08, 'epg_est_err': 4.42859120928213e-06}\n",
      "pattern: 0 - 2 qubit non-Clifford interleaved RB: {'alpha': 0.9905072666638566, 'alpha_err': 0.0010219344498351912, 'epg_est': 0.007119550002107566, 'epg_est_err': 0.0007737962791104893}\n"
     ]
    }
   ],
   "source": [
    "#Print the joint fitter parameters\n",
    "for patt_ind, pattern in enumerate(rb_pattern):\n",
    "    print ('pattern:', patt_ind, '-', len(pattern), 'qubit non-Clifford RB:', joint_rb_fit.fit_nonclifford[patt_ind])\n",
    "#Print the joint interleaved parameters\n",
    "for patt_ind, pattern in enumerate(rb_pattern):\n",
    "    print ('pattern:', patt_ind, '-', len(pattern), 'qubit non-Clifford interleaved RB:', joint_int_rb_fit.fit_nonclifford[patt_ind])"
   ]
  },
  {
   "cell_type": "code",
   "execution_count": 70,
   "metadata": {},
   "outputs": [
    {
     "name": "stdout",
     "output_type": "stream",
     "text": [
      "Estimated gate error: 0.007119514953526196\n"
     ]
    }
   ],
   "source": [
    "#Expected error of the interleaved gate\n",
    "alpha = joint_rb_fit.fit_nonclifford[0]['alpha']\n",
    "alpha_C = joint_int_rb_fit.fit_nonclifford[0]['alpha']\n",
    "d=4\n",
    "r_est = (d-1)*(1-alpha_C/alpha)/d\n",
    "print (\"Estimated gate error:\", r_est)"
   ]
  },
  {
   "cell_type": "markdown",
   "metadata": {},
   "source": [
    "### Plot the results"
   ]
  },
  {
   "cell_type": "code",
   "execution_count": 71,
   "metadata": {},
   "outputs": [
    {
     "data": {
      "image/png": "[encoded data removed]",
      "text/plain": [
       "<Figure size 1080x432 with 1 Axes>"
      ]
     },
     "metadata": {
      "needs_background": "light"
     },
     "output_type": "display_data"
    }
   ],
   "source": [
    "#Plot the joint RB data\n",
    "plt.figure(figsize=(15, 6))\n",
    "\n",
    "for i in range(1):\n",
    "    ax = plt.subplot(1, 2, i+1)\n",
    "    pattern_ind = i\n",
    "\n",
    "    # Plot the essence by calling plot_rb_data\n",
    "    joint_rb_fit.plot_rb_data(pattern_ind, ax=ax, add_label=True, show_plt=False)\n",
    "\n",
    "    # Add title and label\n",
    "    ax.set_title('%d Qubit non-Clifford RB'%(len(rb_opts['rb_pattern'][i])), fontsize=18)\n",
    "\n",
    "plt.show()"
   ]
  },
  {
   "cell_type": "code",
   "execution_count": 72,
   "metadata": {},
   "outputs": [
    {
     "data": {
      "image/png": "[encoded data removed]",
      "text/plain": [
       "<Figure size 1080x432 with 1 Axes>"
      ]
     },
     "metadata": {
      "needs_background": "light"
     },
     "output_type": "display_data"
    }
   ],
   "source": [
    "#Plot the joint interleaved RB data\n",
    "plt.figure(figsize=(15, 6))\n",
    "\n",
    "for i in range(1):\n",
    "    ax = plt.subplot(1, 2, i+1)\n",
    "    pattern_ind = i\n",
    "\n",
    "    # Plot the essence by calling plot_rb_data\n",
    "    joint_int_rb_fit.plot_rb_data(pattern_ind, ax=ax, add_label=True, show_plt=False)\n",
    "\n",
    "    # Add title and label\n",
    "    ax.set_title('%d Qubit non-Clifford interleaved RB'%(len(rb_opts['rb_pattern'][i])), fontsize=18)\n",
    "\n",
    "plt.show()"
   ]
  }
 ],
 "metadata": {
  "kernelspec": {
   "display_name": "Python 3",
   "language": "python",
   "name": "python3"
  },
  "language_info": {
   "codemirror_mode": {
    "name": "ipython",
    "version": 3
   },
   "file_extension": ".py",
   "mimetype": "text/x-python",
   "name": "python",
   "nbconvert_exporter": "python",
   "pygments_lexer": "ipython3",
   "version": "3.6.9"
  }
 },
 "nbformat": 4,
 "nbformat_minor": 2
}
