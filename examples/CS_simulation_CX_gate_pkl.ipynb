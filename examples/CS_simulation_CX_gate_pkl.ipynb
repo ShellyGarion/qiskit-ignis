{
 "cells": [
  {
   "cell_type": "markdown",
   "metadata": {},
   "source": [
    "# Non-Clifford CNOT-Dihedral Interleaved Randomized Benchmarking \n",
    "# of a CX gate"
   ]
  },
  {
   "cell_type": "code",
   "execution_count": 1,
   "metadata": {},
   "outputs": [],
   "source": [
    "#Import general libraries (needed for functions)\n",
    "import numpy as np\n",
    "import matplotlib.pyplot as plt\n",
    "from IPython import display\n",
    "\n",
    "#Import Qiskit classes\n",
    "import qiskit\n",
    "from qiskit.providers.aer.noise import NoiseModel, errors\n",
    "from qiskit.providers.aer.noise.errors.standard_errors import depolarizing_error, thermal_relaxation_error\n",
    "from qiskit.quantum_info.operators import Operator\n",
    "\n",
    "#Import the RB Functions\n",
    "import qiskit.ignis.verification.randomized_benchmarking as rb\n",
    "\n",
    "#from examples import CS_utils"
   ]
  },
  {
   "cell_type": "code",
   "execution_count": 2,
   "metadata": {},
   "outputs": [],
   "source": [
    "#Number of qubits\n",
    "nQ = 2\n",
    "#There are 2 qubits: Q0,Q1.\n",
    "#Number of seeds (random sequences)\n",
    "nseeds = 10\n",
    "#Number of Cliffords in the sequence \n",
    "nCliffs = [1, 10, 25, 50, 100, 150]\n",
    "#2Q RB on Q0,Q1 \n",
    "rb_pattern = [[0,1]]\n",
    "# Non-Clifford RB\n",
    "group_gates = 'CNOT-Dihedral'"
   ]
  },
  {
   "cell_type": "markdown",
   "metadata": {},
   "source": [
    "### Interleaved RB with a CX gate \n",
    "\n",
    "Defining a CS gate using an operator."
   ]
  },
  {
   "cell_type": "code",
   "execution_count": 3,
   "metadata": {},
   "outputs": [],
   "source": [
    "rb_opts = {}\n",
    "rb_opts['length_vector'] = nCliffs\n",
    "rb_opts['nseeds'] = nseeds\n",
    "rb_opts['rb_pattern'] = rb_pattern\n",
    "rb_opts['group_gates'] = group_gates\n",
    "rb_opts['align_cliffs'] = True\n",
    "\n",
    "CS01 = rb.dihedral.CNOTDihedral(2)\n",
    "CS01.phase(1, 0)\n",
    "CS01.phase(1, 1)\n",
    "CS01.cnot(0, 1)\n",
    "CS01.phase(7, 1)\n",
    "CS01.cnot(0, 1)\n",
    "\n",
    "CX01 = rb.dihedral.CNOTDihedral(2)\n",
    "CX01.cnot(0, 1)\n",
    "\n",
    "cs = Operator([[1, 0, 0, 0],\n",
    "               [0, 1, 0, 0],\n",
    "               [0, 0, 1, 0],\n",
    "               [0, 0, 0, 1j]])\n",
    "\n",
    "## interleaved CX gate\n",
    "rb_opts['interleaved_gates'] = [(CX01, [('usr_gate_cx', 0, 1)])]\n",
    "\n",
    "# constant circuits from experiment data\n",
    "import pickle\n",
    "with open('cx01_rb_circs_n10_length6_sim.pk', 'rb') as fp:\n",
    "    rb_circs_tuple = pickle.load(fp)    \n",
    "rb_cnotdihedral_Z_circs, rb_cnotdihedral_X_circs, rb_cnotdihedral_interleaved_Z_circs, \\\n",
    "rb_cnotdihedral_interleaved_X_circs = rb_circs_tuple\n",
    "#rb_cnotdihedral_Z_circs, xdata, rb_cnotdihedral_X_circs, rb_cnotdihedral_interleaved_Z_circs, \\\n",
    "#rb_cnotdihedral_interleaved_X_circs = rb.randomized_benchmarking_seq(**rb_opts)"
   ]
  },
  {
   "cell_type": "code",
   "execution_count": 4,
   "metadata": {},
   "outputs": [
    {
     "name": "stdout",
     "output_type": "stream",
     "text": [
      "      ┌────────┐┌───┐                                   ░  ░               »\n",
      "qr_0: ┤ U1(pi) ├┤ X ├──■────────────────■───────────────░──░───────────────»\n",
      "      └─┬───┬──┘└───┘┌─┴─┐┌──────────┐┌─┴─┐┌──────────┐ ░  ░ ┌────────────┐»\n",
      "qr_1: ──┤ X ├────────┤ X ├┤ U1(pi/2) ├┤ X ├┤ U1(pi/4) ├─░──░─┤ U1(5.4978) ├»\n",
      "        └───┘        └───┘└──────────┘└───┘└──────────┘ ░  ░ └────────────┘»\n",
      "cr_0: ═════════════════════════════════════════════════════════════════════»\n",
      "                                                                           »\n",
      "cr_1: ═════════════════════════════════════════════════════════════════════»\n",
      "                                                                           »\n",
      "«                              ┌───┐┌────────┐┌─┐\n",
      "«qr_0: ──■──────────────────■──┤ X ├┤ U1(pi) ├┤M├\n",
      "«      ┌─┴─┐┌────────────┐┌─┴─┐├───┤└──┬─┬───┘└╥┘\n",
      "«qr_1: ┤ X ├┤ U1(4.7124) ├┤ X ├┤ X ├───┤M├─────╫─\n",
      "«      └───┘└────────────┘└───┘└───┘   └╥┘     ║ \n",
      "«cr_0: ═════════════════════════════════╬══════╩═\n",
      "«                                       ║        \n",
      "«cr_1: ═════════════════════════════════╩════════\n",
      "«                                                \n"
     ]
    }
   ],
   "source": [
    "print (rb_cnotdihedral_Z_circs[0][0])"
   ]
  },
  {
   "cell_type": "code",
   "execution_count": 5,
   "metadata": {},
   "outputs": [
    {
     "name": "stdout",
     "output_type": "stream",
     "text": [
      "      ┌────────┐┌───┐                                   ░ ┌─────┐ ░  ░ »\n",
      "qr_0: ┤ U1(pi) ├┤ X ├──■────────────────■───────────────░─┤0    ├─░──░─»\n",
      "      └─┬───┬──┘└───┘┌─┴─┐┌──────────┐┌─┴─┐┌──────────┐ ░ │  cx │ ░  ░ »\n",
      "qr_1: ──┤ X ├────────┤ X ├┤ U1(pi/2) ├┤ X ├┤ U1(pi/4) ├─░─┤1    ├─░──░─»\n",
      "        └───┘        └───┘└──────────┘└───┘└──────────┘ ░ └─────┘ ░  ░ »\n",
      "cr_0: ═════════════════════════════════════════════════════════════════»\n",
      "                                                                       »\n",
      "cr_1: ═════════════════════════════════════════════════════════════════»\n",
      "                                                                       »\n",
      "«                         ┌───┐ ┌────────┐ ┌─┐   \n",
      "«qr_0: ────────────────■──┤ X ├─┤ U1(pi) ├─┤M├───\n",
      "«      ┌────────────┐┌─┴─┐├───┤┌┴────────┴┐└╥┘┌─┐\n",
      "«qr_1: ┤ U1(4.7124) ├┤ X ├┤ X ├┤ U1(pi/4) ├─╫─┤M├\n",
      "«      └────────────┘└───┘└───┘└──────────┘ ║ └╥┘\n",
      "«cr_0: ═════════════════════════════════════╩══╬═\n",
      "«                                              ║ \n",
      "«cr_1: ════════════════════════════════════════╩═\n",
      "«                                                \n"
     ]
    }
   ],
   "source": [
    "print (rb_cnotdihedral_interleaved_Z_circs[0][0])"
   ]
  },
  {
   "cell_type": "code",
   "execution_count": 6,
   "metadata": {},
   "outputs": [
    {
     "name": "stdout",
     "output_type": "stream",
     "text": [
      "      ┌───┐ ░ ┌────────┐┌───┐                                   ░  ░ »\n",
      "qr_0: ┤ H ├─░─┤ U1(pi) ├┤ X ├──■────────────────■───────────────░──░─»\n",
      "      ├───┤ ░ └─┬───┬──┘└───┘┌─┴─┐┌──────────┐┌─┴─┐┌──────────┐ ░  ░ »\n",
      "qr_1: ┤ H ├─░───┤ X ├────────┤ X ├┤ U1(pi/2) ├┤ X ├┤ U1(pi/4) ├─░──░─»\n",
      "      └───┘ ░   └───┘        └───┘└──────────┘└───┘└──────────┘ ░  ░ »\n",
      "cr_0: ═══════════════════════════════════════════════════════════════»\n",
      "                                                                     »\n",
      "cr_1: ═══════════════════════════════════════════════════════════════»\n",
      "                                                                     »\n",
      "«                                            ┌───┐┌────────┐  ░  ┌───┐┌─┐\n",
      "«qr_0: ────────────────■──────────────────■──┤ X ├┤ U1(pi) ├──░──┤ H ├┤M├\n",
      "«      ┌────────────┐┌─┴─┐┌────────────┐┌─┴─┐├───┤└───░────┘┌───┐└┬─┬┘└╥┘\n",
      "«qr_1: ┤ U1(5.4978) ├┤ X ├┤ U1(4.7124) ├┤ X ├┤ X ├────░─────┤ H ├─┤M├──╫─\n",
      "«      └────────────┘└───┘└────────────┘└───┘└───┘    ░     └───┘ └╥┘  ║ \n",
      "«cr_0: ════════════════════════════════════════════════════════════╬═══╩═\n",
      "«                                                                  ║     \n",
      "«cr_1: ════════════════════════════════════════════════════════════╩═════\n",
      "«                                                                        \n"
     ]
    }
   ],
   "source": [
    "print (rb_cnotdihedral_X_circs[0][0])"
   ]
  },
  {
   "cell_type": "code",
   "execution_count": 7,
   "metadata": {},
   "outputs": [
    {
     "name": "stdout",
     "output_type": "stream",
     "text": [
      "      ┌───┐ ░ ┌────────┐┌───┐                                   ░ ┌─────┐ ░  ░ »\n",
      "qr_0: ┤ H ├─░─┤ U1(pi) ├┤ X ├──■────────────────■───────────────░─┤0    ├─░──░─»\n",
      "      ├───┤ ░ └─┬───┬──┘└───┘┌─┴─┐┌──────────┐┌─┴─┐┌──────────┐ ░ │  cx │ ░  ░ »\n",
      "qr_1: ┤ H ├─░───┤ X ├────────┤ X ├┤ U1(pi/2) ├┤ X ├┤ U1(pi/4) ├─░─┤1    ├─░──░─»\n",
      "      └───┘ ░   └───┘        └───┘└──────────┘└───┘└──────────┘ ░ └─────┘ ░  ░ »\n",
      "cr_0: ═════════════════════════════════════════════════════════════════════════»\n",
      "                                                                               »\n",
      "cr_1: ═════════════════════════════════════════════════════════════════════════»\n",
      "                                                                               »\n",
      "«                         ┌───┐ ┌────────┐  ░ ┌───┐┌─┐   \n",
      "«qr_0: ────────────────■──┤ X ├─┤ U1(pi) ├──░─┤ H ├┤M├───\n",
      "«      ┌────────────┐┌─┴─┐├───┤┌┴────────┴┐ ░ ├───┤└╥┘┌─┐\n",
      "«qr_1: ┤ U1(4.7124) ├┤ X ├┤ X ├┤ U1(pi/4) ├─░─┤ H ├─╫─┤M├\n",
      "«      └────────────┘└───┘└───┘└──────────┘ ░ └───┘ ║ └╥┘\n",
      "«cr_0: ═════════════════════════════════════════════╩══╬═\n",
      "«                                                      ║ \n",
      "«cr_1: ════════════════════════════════════════════════╩═\n",
      "«                                                        \n"
     ]
    }
   ],
   "source": [
    "print (rb_cnotdihedral_interleaved_X_circs[0][0])"
   ]
  },
  {
   "cell_type": "markdown",
   "metadata": {},
   "source": [
    "### Add a depolarize noise to the CS gate"
   ]
  },
  {
   "cell_type": "code",
   "execution_count": 8,
   "metadata": {},
   "outputs": [
    {
     "name": "stdout",
     "output_type": "stream",
     "text": [
      "Depolarizing errors on u2,u3,cs,cx gates respectively: 0.00055 0.001 0.019466666666666667 0.019466666666666667\n",
      "NoiseModel:\n",
      "  Basis gates: ['cx', 'id', 'u2', 'u3']\n",
      "  Instructions with noise: ['cx', 'u2', 'usr_gate_cx', 'u3']\n",
      "  All-qubits errors: ['u2', 'u3', 'cx', 'usr_gate_cx']\n",
      "basis_gates: ['cx', 'id', 'u2', 'u3', 'unitary']\n"
     ]
    }
   ],
   "source": [
    "cs = Operator([[1, 0, 0, 0],\n",
    "               [0, 1, 0, 0],\n",
    "               [0, 0, 1, 0],\n",
    "               [0, 0, 0, 1j]])\n",
    "\n",
    "### Add depolarizing error to \"cs\" gate\n",
    "\n",
    "p1Qu2 = 0.00055\n",
    "p1Qu3 = 0.001\n",
    "p2Qcx = 0.0146/0.75\n",
    "p2Qcs = 0.0146/0.75\n",
    "\n",
    "# Construct the error\n",
    "cs_error = errors.depolarizing_error(p2Qcs, 2)\n",
    "cx_error = errors.depolarizing_error(p2Qcx, 2)\n",
    "print (\"Depolarizing errors on u2,u3,cs,cx gates respectively:\", p1Qu2,p1Qu3, p2Qcx, p2Qcs)\n",
    "\n",
    "# Build the noise model by adding the error to the \"cs\" gate\n",
    "noise_model = NoiseModel()\n",
    "noise_model.add_all_qubit_quantum_error(depolarizing_error(p1Qu2, 1), 'u2')\n",
    "noise_model.add_all_qubit_quantum_error(depolarizing_error(p1Qu3, 1), 'u3')\n",
    "noise_model.add_all_qubit_quantum_error(depolarizing_error(p2Qcx, 2), 'cx')\n",
    "#noise_model.add_all_qubit_quantum_error(cs_error, 'cs')\n",
    "noise_model.add_all_qubit_quantum_error(cx_error, 'usr_gate_cx')\n",
    "print (noise_model)\n",
    "\n",
    "noise_model.add_basis_gates(['unitary'])\n",
    "basis_gates = noise_model.basis_gates\n",
    "print(\"basis_gates:\", basis_gates)"
   ]
  },
  {
   "cell_type": "code",
   "execution_count": 9,
   "metadata": {},
   "outputs": [
    {
     "name": "stdout",
     "output_type": "stream",
     "text": [
      "[[-0.-1.j -0.+0.j  0.+0.j  0.-0.j]\n",
      " [-0.+0.j -0.-1.j -0.+0.j  0.+0.j]\n",
      " [ 0.-0.j -0.-0.j -0.-1.j  0.+0.j]\n",
      " [ 0.+0.j  0.-0.j  0.-0.j -0.-1.j]]\n"
     ]
    }
   ],
   "source": [
    "#Create a new circuit without the measurement\n",
    "qc = qiskit.QuantumCircuit(*rb_cnotdihedral_Z_circs[0][-1].qregs, *rb_cnotdihedral_Z_circs[0][-1].cregs)\n",
    "for i in rb_cnotdihedral_Z_circs[0][-1][0:-nQ]:\n",
    "    qc.data.append(i)\n",
    "\n",
    "#The Unitary is an identity (with a global phase)\n",
    "backend = qiskit.Aer.get_backend('unitary_simulator')\n",
    "#basis_gates = ['u1', 'u2', 'u3', 'cx'] # use U,CX for now\n",
    "job = qiskit.execute(qc, backend=backend, basis_gates=basis_gates)\n",
    "print(np.around(job.result().get_unitary(), 3))"
   ]
  },
  {
   "cell_type": "code",
   "execution_count": 10,
   "metadata": {},
   "outputs": [
    {
     "name": "stdout",
     "output_type": "stream",
     "text": [
      "[[-0.-1.j  0.-0.j  0.-0.j  0.-0.j]\n",
      " [ 0.-0.j -0.-1.j  0.-0.j  0.-0.j]\n",
      " [ 0.-0.j  0.-0.j -0.-1.j  0.-0.j]\n",
      " [ 0.-0.j  0.-0.j  0.-0.j -0.-1.j]]\n"
     ]
    }
   ],
   "source": [
    "#Create a new circuit without the measurement\n",
    "qc = qiskit.QuantumCircuit(*rb_cnotdihedral_X_circs[0][-1].qregs, *rb_cnotdihedral_X_circs[0][-1].cregs)\n",
    "for i in rb_cnotdihedral_X_circs[0][-1][0:-nQ]:\n",
    "    qc.data.append(i)\n",
    "\n",
    "#The Unitary is an identity (with a global phase)\n",
    "backend = qiskit.Aer.get_backend('unitary_simulator')\n",
    "#basis_gates = ['u1', 'u2', 'u3', 'cx'] # use U,CX for now\n",
    "job = qiskit.execute(qc, backend=backend, basis_gates=basis_gates)\n",
    "print(np.around(job.result().get_unitary(), 3))"
   ]
  },
  {
   "cell_type": "code",
   "execution_count": 11,
   "metadata": {},
   "outputs": [
    {
     "name": "stdout",
     "output_type": "stream",
     "text": [
      "[[ 1.-0.j -0.+0.j -0.-0.j  0.-0.j]\n",
      " [ 0.+0.j  1.-0.j -0.-0.j -0.-0.j]\n",
      " [ 0.-0.j  0.-0.j  1.-0.j -0.-0.j]\n",
      " [-0.-0.j  0.-0.j  0.-0.j  1.-0.j]]\n"
     ]
    }
   ],
   "source": [
    "#Create a new circuit without the measurement\n",
    "qc = qiskit.QuantumCircuit(*rb_cnotdihedral_interleaved_Z_circs[0][-1].qregs, *rb_cnotdihedral_interleaved_Z_circs[0][-1].cregs)\n",
    "for i in rb_cnotdihedral_interleaved_Z_circs[0][-1][0:-nQ]:\n",
    "    qc.data.append(i)\n",
    "\n",
    "#The Unitary is an identity (with a global phase)\n",
    "backend = qiskit.Aer.get_backend('unitary_simulator')\n",
    "#basis_gates = ['u1', 'u2', 'u3', 'cx'] # use U,CX for now\n",
    "job = qiskit.execute(qc, backend=backend, basis_gates=basis_gates)\n",
    "print(np.around(job.result().get_unitary(), 3))"
   ]
  },
  {
   "cell_type": "code",
   "execution_count": 12,
   "metadata": {},
   "outputs": [
    {
     "name": "stdout",
     "output_type": "stream",
     "text": [
      "[[1.-0.j 0.+0.j 0.+0.j 0.+0.j]\n",
      " [0.+0.j 1.-0.j 0.+0.j 0.+0.j]\n",
      " [0.+0.j 0.+0.j 1.-0.j 0.+0.j]\n",
      " [0.+0.j 0.+0.j 0.+0.j 1.-0.j]]\n"
     ]
    }
   ],
   "source": [
    "#Create a new circuit without the measurement\n",
    "qc = qiskit.QuantumCircuit(*rb_cnotdihedral_interleaved_X_circs[0][-1].qregs, *rb_cnotdihedral_interleaved_X_circs[0][-1].cregs)\n",
    "for i in rb_cnotdihedral_interleaved_X_circs[0][-1][0:-nQ]:\n",
    "    qc.data.append(i)\n",
    "\n",
    "#The Unitary is an identity (with a global phase)\n",
    "backend = qiskit.Aer.get_backend('unitary_simulator')\n",
    "#basis_gates = ['u1', 'u2', 'u3', 'cx'] # use U,CX for now\n",
    "job = qiskit.execute(qc, backend=backend, basis_gates=basis_gates)\n",
    "print(np.around(job.result().get_unitary(), 3))"
   ]
  },
  {
   "cell_type": "markdown",
   "metadata": {},
   "source": [
    "### Execute the RB sequences"
   ]
  },
  {
   "cell_type": "code",
   "execution_count": 13,
   "metadata": {},
   "outputs": [
    {
     "name": "stdout",
     "output_type": "stream",
     "text": [
      "Compiling seed 0\n",
      "Simulating seed 0\n",
      "Compiling seed 1\n",
      "Simulating seed 1\n",
      "Compiling seed 2\n",
      "Simulating seed 2\n",
      "Compiling seed 3\n",
      "Simulating seed 3\n",
      "Compiling seed 4\n",
      "Simulating seed 4\n",
      "Compiling seed 5\n",
      "Simulating seed 5\n",
      "Compiling seed 6\n",
      "Simulating seed 6\n",
      "Compiling seed 7\n",
      "Simulating seed 7\n",
      "Compiling seed 8\n",
      "Simulating seed 8\n",
      "Compiling seed 9\n",
      "Simulating seed 9\n",
      "Finished Simulating CNOT-Dihedral X Circuits\n"
     ]
    }
   ],
   "source": [
    "#CNOT-Dihedral RB X circuits\n",
    "backend = qiskit.Aer.get_backend('qasm_simulator')\n",
    "#basis_gates = ['u1','u2','u3','cx'] # use U,CX for now\n",
    "shots = 200\n",
    "cnotdihedral_X_result_list = []\n",
    "cnotdihedral_X_qobj_list = []\n",
    "import time\n",
    "for rb_seed,rb_circ_seed in enumerate(rb_cnotdihedral_X_circs):\n",
    "    print('Compiling seed %d'%rb_seed)\n",
    "    new_rb_circ_seed = qiskit.compiler.transpile(rb_circ_seed, basis_gates=basis_gates)\n",
    "    qobj = qiskit.compiler.assemble(new_rb_circ_seed, shots=shots)\n",
    "    print('Simulating seed %d'%rb_seed)\n",
    "    job = backend.run(qobj, noise_model=noise_model, backend_options={'max_parallel_experiments': 0})\n",
    "    cnotdihedral_X_result_list.append(job.result())\n",
    "    cnotdihedral_X_qobj_list.append(qobj)    \n",
    "print(\"Finished Simulating CNOT-Dihedral X Circuits\")"
   ]
  },
  {
   "cell_type": "code",
   "execution_count": 14,
   "metadata": {},
   "outputs": [
    {
     "name": "stdout",
     "output_type": "stream",
     "text": [
      "Compiling seed 0\n",
      "Simulating seed 0\n",
      "Compiling seed 1\n",
      "Simulating seed 1\n",
      "Compiling seed 2\n",
      "Simulating seed 2\n",
      "Compiling seed 3\n",
      "Simulating seed 3\n",
      "Compiling seed 4\n",
      "Simulating seed 4\n",
      "Compiling seed 5\n",
      "Simulating seed 5\n",
      "Compiling seed 6\n",
      "Simulating seed 6\n",
      "Compiling seed 7\n",
      "Simulating seed 7\n",
      "Compiling seed 8\n",
      "Simulating seed 8\n",
      "Compiling seed 9\n",
      "Simulating seed 9\n",
      "Finished Simulating CNOT-Dihedral Interleaved X Circuits\n"
     ]
    }
   ],
   "source": [
    "#CNOT-Dihedral interleaved RB X circuits\n",
    "backend = qiskit.Aer.get_backend('qasm_simulator')\n",
    "#basis_gates = ['u1','u2','u3','cx'] # use U,CX for now\n",
    "shots = 200\n",
    "cnotdihedral_interleaved_X_result_list = []\n",
    "cnotdihedral_interleaved_X_qobj_list = []\n",
    "import time\n",
    "for rb_seed,rb_circ_seed in enumerate(rb_cnotdihedral_interleaved_X_circs):\n",
    "    print('Compiling seed %d'%rb_seed)\n",
    "    new_rb_circ_seed = qiskit.compiler.transpile(rb_circ_seed, basis_gates=basis_gates)\n",
    "    qobj = qiskit.compiler.assemble(new_rb_circ_seed, shots=shots)\n",
    "    print('Simulating seed %d'%rb_seed)\n",
    "    job = backend.run(qobj, noise_model=noise_model, backend_options={'max_parallel_experiments': 0})\n",
    "    cnotdihedral_interleaved_X_result_list.append(job.result())\n",
    "    cnotdihedral_interleaved_X_qobj_list.append(qobj)    \n",
    "print(\"Finished Simulating CNOT-Dihedral Interleaved X Circuits\")"
   ]
  },
  {
   "cell_type": "code",
   "execution_count": 15,
   "metadata": {},
   "outputs": [
    {
     "name": "stdout",
     "output_type": "stream",
     "text": [
      "Compiling seed 0\n",
      "Simulating seed 0\n",
      "Compiling seed 1\n",
      "Simulating seed 1\n",
      "Compiling seed 2\n",
      "Simulating seed 2\n",
      "Compiling seed 3\n",
      "Simulating seed 3\n",
      "Compiling seed 4\n",
      "Simulating seed 4\n",
      "Compiling seed 5\n",
      "Simulating seed 5\n",
      "Compiling seed 6\n",
      "Simulating seed 6\n",
      "Compiling seed 7\n",
      "Simulating seed 7\n",
      "Compiling seed 8\n",
      "Simulating seed 8\n",
      "Compiling seed 9\n",
      "Simulating seed 9\n",
      "Finished Simulating CNOT-Dihedral Z Circuits\n"
     ]
    }
   ],
   "source": [
    "#CNOT-Dihedral RB Z circuits\n",
    "backend = qiskit.Aer.get_backend('qasm_simulator')\n",
    "#basis_gates = ['u1','u2','u3','cx'] # use U,CX for now\n",
    "shots = 200\n",
    "cnotdihedral_Z_result_list = []\n",
    "cnotdihedral_Z_qobj_list = []\n",
    "import time\n",
    "for rb_seed,rb_circ_seed in enumerate(rb_cnotdihedral_Z_circs):\n",
    "    print('Compiling seed %d'%rb_seed)\n",
    "    new_rb_circ_seed = qiskit.compiler.transpile(rb_circ_seed, basis_gates=basis_gates)\n",
    "    qobj = qiskit.compiler.assemble(new_rb_circ_seed, shots=shots)\n",
    "    print('Simulating seed %d'%rb_seed)\n",
    "    job = backend.run(qobj, noise_model=noise_model, backend_options={'max_parallel_experiments': 0})\n",
    "    cnotdihedral_Z_result_list.append(job.result())\n",
    "    cnotdihedral_Z_qobj_list.append(qobj)    \n",
    "print(\"Finished Simulating CNOT-Dihedral Z Circuits\")"
   ]
  },
  {
   "cell_type": "code",
   "execution_count": 16,
   "metadata": {},
   "outputs": [
    {
     "name": "stdout",
     "output_type": "stream",
     "text": [
      "Compiling seed 0\n",
      "Simulating seed 0\n",
      "Compiling seed 1\n",
      "Simulating seed 1\n",
      "Compiling seed 2\n",
      "Simulating seed 2\n",
      "Compiling seed 3\n",
      "Simulating seed 3\n",
      "Compiling seed 4\n",
      "Simulating seed 4\n",
      "Compiling seed 5\n",
      "Simulating seed 5\n",
      "Compiling seed 6\n",
      "Simulating seed 6\n",
      "Compiling seed 7\n",
      "Simulating seed 7\n",
      "Compiling seed 8\n",
      "Simulating seed 8\n",
      "Compiling seed 9\n",
      "Simulating seed 9\n",
      "Finished Simulating CNOT-Dihedral Interleaved Z Circuits\n"
     ]
    }
   ],
   "source": [
    "#CNOT-Dihedral inteleaved RB Z circuits\n",
    "backend = qiskit.Aer.get_backend('qasm_simulator')\n",
    "#basis_gates = ['u1','u2','u3','cx'] # use U,CX for now\n",
    "shots = 200\n",
    "cnotdihedral_interleaved_Z_result_list = []\n",
    "cnotdihedral_interleaved_Z_qobj_list = []\n",
    "import time\n",
    "for rb_seed,rb_circ_seed in enumerate(rb_cnotdihedral_interleaved_Z_circs):\n",
    "    print('Compiling seed %d'%rb_seed)\n",
    "    new_rb_circ_seed = qiskit.compiler.transpile(rb_circ_seed, basis_gates=basis_gates)\n",
    "    qobj = qiskit.compiler.assemble(new_rb_circ_seed, shots=shots)\n",
    "    print('Simulating seed %d'%rb_seed)\n",
    "    job = backend.run(qobj, noise_model=noise_model, backend_options={'max_parallel_experiments': 0})\n",
    "    cnotdihedral_interleaved_Z_result_list.append(job.result())\n",
    "    cnotdihedral_interleaved_Z_qobj_list.append(qobj)    \n",
    "print(\"Finished Simulating CNOT-Dihedral Interleaved Z Circuits\")"
   ]
  },
  {
   "cell_type": "markdown",
   "metadata": {},
   "source": [
    "### Fit the results"
   ]
  },
  {
   "cell_type": "code",
   "execution_count": 17,
   "metadata": {},
   "outputs": [],
   "source": [
    "#Create the cnot-dihedral Z and X RB fitters\n",
    "xdata = [[1, 10, 25, 50, 100, 150]]\n",
    "cnotdihedral_Z_rb_fit = rb.RBFitter(cnotdihedral_Z_result_list, xdata, rb_opts['rb_pattern'])\n",
    "cnotdihedral_X_rb_fit = rb.RBFitter(cnotdihedral_X_result_list, xdata, rb_opts['rb_pattern'])"
   ]
  },
  {
   "cell_type": "code",
   "execution_count": 18,
   "metadata": {},
   "outputs": [
    {
     "name": "stdout",
     "output_type": "stream",
     "text": [
      "pattern: 0 - 2 qubit cnot-dihedral RB of Z circuits: {'params': array([0.72773011, 0.9623461 , 0.26551161]), 'params_err': array([0.00531009, 0.00089301, 0.00376501]), 'epc': 0.028240425501817767, 'epc_err': 0.0006959613525831267}\n"
     ]
    }
   ],
   "source": [
    "# Print the Z circuits fitter parameters\n",
    "for patt_ind, pattern in enumerate(rb_pattern):\n",
    "    print ('pattern:', patt_ind, '-', len(pattern), 'qubit cnot-dihedral RB of Z circuits:', cnotdihedral_Z_rb_fit.fit[patt_ind])"
   ]
  },
  {
   "cell_type": "code",
   "execution_count": 19,
   "metadata": {},
   "outputs": [
    {
     "name": "stdout",
     "output_type": "stream",
     "text": [
      "pattern: 0 - 2 qubit cnot-dihedral RB of X circuits: {'params': array([0.72160733, 0.96054803, 0.26976146]), 'params_err': array([0.00647225, 0.0010292 , 0.0053056 ]), 'epc': 0.029588974964169457, 'epc_err': 0.0008036046731394405}\n"
     ]
    }
   ],
   "source": [
    "# Print the X circuits fitter parameters\n",
    "for patt_ind, pattern in enumerate(rb_pattern):\n",
    "    print ('pattern:', patt_ind, '-', len(pattern), 'qubit cnot-dihedral RB of X circuits:', cnotdihedral_X_rb_fit.fit[patt_ind])"
   ]
  },
  {
   "cell_type": "code",
   "execution_count": 20,
   "metadata": {},
   "outputs": [],
   "source": [
    "#Create the cnot-dihedral intelreaved Z and X RB fitters\n",
    "cnotdihedral_interleaved_Z_rb_fit = rb.RBFitter(cnotdihedral_interleaved_Z_result_list, xdata, rb_opts['rb_pattern'])\n",
    "cnotdihedral_interleaved_X_rb_fit = rb.RBFitter(cnotdihedral_interleaved_X_result_list, xdata, rb_opts['rb_pattern'])"
   ]
  },
  {
   "cell_type": "code",
   "execution_count": 21,
   "metadata": {},
   "outputs": [
    {
     "name": "stdout",
     "output_type": "stream",
     "text": [
      "pattern: 0 - 2 qubit cnot-dihedral RB of interleaved Z circuits: {'params': array([0.74484978, 0.94396235, 0.24808639]), 'params_err': array([0.00427262, 0.00076448, 0.00249822]), 'epc': 0.04202824122377233, 'epc_err': 0.0006073959127079564}\n"
     ]
    }
   ],
   "source": [
    "# Print the interleaved Z circuits fitter parameters\n",
    "for patt_ind, pattern in enumerate(rb_pattern):\n",
    "    print ('pattern:', patt_ind, '-', len(pattern), 'qubit cnot-dihedral RB of interleaved Z circuits:', cnotdihedral_interleaved_Z_rb_fit.fit[patt_ind])"
   ]
  },
  {
   "cell_type": "code",
   "execution_count": 22,
   "metadata": {},
   "outputs": [
    {
     "name": "stdout",
     "output_type": "stream",
     "text": [
      "pattern: 0 - 2 qubit cnot-dihedral RB of interleaved X circuits: {'params': array([0.72626162, 0.94284713, 0.25874936]), 'params_err': array([0.00726711, 0.0017309 , 0.00401034]), 'epc': 0.04286464962381498, 'epc_err': 0.001376868105679045}\n"
     ]
    }
   ],
   "source": [
    "# Print the interleaved X circuits fitter parameters\n",
    "for patt_ind, pattern in enumerate(rb_pattern):\n",
    "    print ('pattern:', patt_ind, '-', len(pattern), 'qubit cnot-dihedral RB of interleaved X circuits:', cnotdihedral_interleaved_X_rb_fit.fit[patt_ind])"
   ]
  },
  {
   "cell_type": "code",
   "execution_count": 23,
   "metadata": {},
   "outputs": [],
   "source": [
    "#Calculate the joint fitter\n",
    "joint_rb_fit = rb.CNOTDihedralRBFitter(cnotdihedral_Z_result_list, cnotdihedral_X_result_list, xdata, rb_opts['rb_pattern'])\n",
    "joint_int_rb_fit = rb.CNOTDihedralRBFitter(cnotdihedral_interleaved_Z_result_list, cnotdihedral_interleaved_X_result_list, xdata, rb_opts['rb_pattern'])"
   ]
  },
  {
   "cell_type": "markdown",
   "metadata": {},
   "source": [
    "### Calculate the fidelity"
   ]
  },
  {
   "cell_type": "code",
   "execution_count": 24,
   "metadata": {},
   "outputs": [
    {
     "name": "stdout",
     "output_type": "stream",
     "text": [
      "pattern: 0 - 2 qubit cnot-dihedral RB: {'alpha': 0.9609076465710679, 'alpha_err': 0.0008770394537322465, 'epg_est': 0.029319265071699102, 'epg_est_err': 0.0006845398646232294}\n",
      "pattern: 0 - 2 qubit cnot-dihedral interleaved RB: {'alpha': 0.9430701760749247, 'alpha_err': 0.0014775639358350122, 'epg_est': 0.042697367943806463, 'epg_est_err': 0.0011750694486899111}\n"
     ]
    }
   ],
   "source": [
    "#Print the joint fitter parameters\n",
    "for patt_ind, pattern in enumerate(rb_pattern):\n",
    "    print ('pattern:', patt_ind, '-', len(pattern), 'qubit cnot-dihedral RB:', joint_rb_fit.fit_cnotdihedral[patt_ind])\n",
    "#Print the joint interleaved parameters\n",
    "for patt_ind, pattern in enumerate(rb_pattern):\n",
    "    print ('pattern:', patt_ind, '-', len(pattern), 'qubit cnot-dihedral interleaved RB:', joint_int_rb_fit.fit_cnotdihedral[patt_ind])"
   ]
  },
  {
   "cell_type": "code",
   "execution_count": 25,
   "metadata": {},
   "outputs": [
    {
     "name": "stdout",
     "output_type": "stream",
     "text": [
      "Estimated gate error: 0.013922 (0.000959)\n",
      "RB fidelity = 0.98608\n"
     ]
    }
   ],
   "source": [
    "#Expected error of the interleaved cs gate\n",
    "alpha = joint_rb_fit.fit_cnotdihedral[0]['alpha']\n",
    "alpha_c = joint_int_rb_fit.fit_cnotdihedral[0]['alpha']\n",
    "alpha_err = joint_rb_fit.fit_cnotdihedral[0]['alpha_err']\n",
    "alpha_c_err = joint_rb_fit.fit_cnotdihedral[0]['alpha_err']\n",
    "\n",
    "nrb = 2 ** nQ\n",
    "r_est = (nrb - 1) * (1 - alpha_c / alpha) / nrb\n",
    "\n",
    "alpha_err_sq = (alpha_err / alpha) * (alpha_err / alpha)\n",
    "alpha_c_err_sq = (alpha_c_err / alpha_c) * (alpha_c_err / alpha_c)\n",
    "r_est_err = ((nrb - 1) / nrb) * (alpha_c / alpha) * (np.sqrt(alpha_err_sq + alpha_c_err_sq))\n",
    "\n",
    "print (\"Estimated gate error: %f (%f)\" %(r_est, r_est_err))\n",
    "print('RB fidelity = %.5f' % (1 - r_est))"
   ]
  },
  {
   "cell_type": "markdown",
   "metadata": {},
   "source": [
    "### Plot the results"
   ]
  },
  {
   "cell_type": "code",
   "execution_count": 26,
   "metadata": {},
   "outputs": [
    {
     "data": {
      "image/png": "[encoded data removed]",
      "text/plain": [
       "<Figure size 1080x432 with 1 Axes>"
      ]
     },
     "metadata": {
      "needs_background": "light"
     },
     "output_type": "display_data"
    }
   ],
   "source": [
    "#Plot the joint RB data\n",
    "plt.figure(figsize=(15, 6))\n",
    "\n",
    "for i in range(1):\n",
    "    ax = plt.subplot(1, 2, i+1)\n",
    "    pattern_ind = i\n",
    "\n",
    "    # Plot the essence by calling plot_rb_data\n",
    "    joint_rb_fit.plot_rb_data(pattern_ind, ax=ax, add_label=True, show_plt=False)\n",
    "\n",
    "    # Add title and label\n",
    "    ax.set_title('%d Qubit non-Clifford cnot-dihedral RB'%(len(rb_opts['rb_pattern'][i])), fontsize=18)\n",
    "\n",
    "plt.show()"
   ]
  },
  {
   "cell_type": "code",
   "execution_count": 27,
   "metadata": {},
   "outputs": [
    {
     "data": {
      "image/png": "[encoded data removed]",
      "text/plain": [
       "<Figure size 1080x432 with 1 Axes>"
      ]
     },
     "metadata": {
      "needs_background": "light"
     },
     "output_type": "display_data"
    }
   ],
   "source": [
    "#Plot the joint interleaved RB data\n",
    "plt.figure(figsize=(15, 6))\n",
    "\n",
    "for i in range(1):\n",
    "    ax = plt.subplot(1, 2, i+1)\n",
    "    pattern_ind = i\n",
    "\n",
    "    # Plot the essence by calling plot_rb_data\n",
    "    joint_int_rb_fit.plot_rb_data(pattern_ind, ax=ax, add_label=True, show_plt=False)\n",
    "\n",
    "    # Add title and label\n",
    "    ax.set_title('%d Qubit non-Clifford cnot-dihedral interleaved RB'%(len(rb_opts['rb_pattern'][i])), fontsize=18)\n",
    "\n",
    "plt.show()"
   ]
  },
  {
   "cell_type": "markdown",
   "metadata": {},
   "source": [
    "### Coherence limit"
   ]
  },
  {
   "cell_type": "code",
   "execution_count": 53,
   "metadata": {},
   "outputs": [
    {
     "name": "stdout",
     "output_type": "stream",
     "text": [
      "NoiseModel:\n",
      "  Basis gates: ['cx', 'id', 'u2', 'u3']\n",
      "  Instructions with noise: ['cx', 'u2', 'usr_gate_cx', 'u3']\n",
      "  All-qubits errors: ['u2', 'u3', 'cx', 'usr_gate_cx']\n",
      "basis_gates: ['cx', 'id', 'u2', 'u3', 'unitary']\n"
     ]
    }
   ],
   "source": [
    "noise_model2 = NoiseModel()\n",
    "\n",
    "#Add T1/T2 noise to the simulation\n",
    "t1 = 63.9\n",
    "t2 = 87.3\n",
    "gate1Qu2 = 0.035 \n",
    "gate1Qu3 = 0.071 \n",
    "gate2Qcx = 0.384\n",
    "gate2Qcxint = 0.1848\n",
    "gate2Qcs = 0.2203\n",
    "#cx: 2 x 0.035 + 2 x 256 / 4.5e9 / 1e6 = 0.07111 + 0.1137  = 0.1848\n",
    "#cs: 3 x 0.035 + 2 x 256 / 4.5e9 / 1e6 = 0.10666 + 0.1137 = 0.2203\n",
    "\n",
    "cx_error = errors.thermal_relaxation_error(t1,t2,gate2Qcxint).tensor(thermal_relaxation_error(t1,t2,gate2Qcxint))\n",
    "#cs_error = errors.thermal_relaxation_error(t1,t2,gate2Qcs).tensor(thermal_relaxation_error(t1,t2,gate2Qcs))\n",
    "noise_model2.add_all_qubit_quantum_error(thermal_relaxation_error(t1,t2,gate1Qu2), 'u2')\n",
    "noise_model2.add_all_qubit_quantum_error(thermal_relaxation_error(t1,t2,2*gate1Qu3), 'u3')\n",
    "noise_model2.add_all_qubit_quantum_error(\n",
    "    thermal_relaxation_error(t1,t2,gate2Qcx).tensor(thermal_relaxation_error(t1,t2,gate2Qcx)), 'cx')\n",
    "\n",
    "noise_model2.add_all_qubit_quantum_error(cx_error, 'usr_gate_cx')\n",
    "#noise_model2.add_all_qubit_quantum_error(cs_error, 'cs')\n",
    "print (noise_model2)\n",
    "\n",
    "noise_model2.add_basis_gates(['unitary'])\n",
    "basis_gates = noise_model2.basis_gates\n",
    "print(\"basis_gates:\", basis_gates)"
   ]
  },
  {
   "cell_type": "code",
   "execution_count": 58,
   "metadata": {},
   "outputs": [
    {
     "name": "stdout",
     "output_type": "stream",
     "text": [
      "u2 error by conherence limit 0.00022487548340063834\n",
      "u3 error by conherence limit 0.0009117101098770064\n",
      "cx error by conherence limit 0.005896813665684952\n",
      "usr_gate_cx error by conherence limit 0.0028442834080155688\n",
      "cs error by conherence limit 0.0033892986420398508\n"
     ]
    }
   ],
   "source": [
    "u2_error = rb.rb_utils.coherence_limit(1,[t1],[t2],gate1Qu2)\n",
    "u3_error = rb.rb_utils.coherence_limit(1,[t1],[t2],2*gate1Qu3)\n",
    "epg_2qcx = rb.rb_utils.coherence_limit(2,[t1,t1],[t2,t2],gate2Qcx)\n",
    "epg_2qcxint = rb.rb_utils.coherence_limit(2,[t1,t1],[t2,t2],gate2Qcxint)\n",
    "epg_2qcs = rb.rb_utils.coherence_limit(2,[t1,t1],[t2,t2],gate2Qcs)\n",
    "print (\"u2 error by conherence limit\", u2_error)\n",
    "print (\"u3 error by conherence limit\", u3_error)\n",
    "print (\"cx error by conherence limit\", epg_2qcx)\n",
    "print (\"usr_gate_cx error by conherence limit\", epg_2qcxint)\n",
    "print (\"cs error by conherence limit\", epg_2qcs)"
   ]
  },
  {
   "cell_type": "code",
   "execution_count": null,
   "metadata": {},
   "outputs": [],
   "source": []
  }
 ],
 "metadata": {
  "kernelspec": {
   "display_name": "Python 3",
   "language": "python",
   "name": "python3"
  },
  "language_info": {
   "codemirror_mode": {
    "name": "ipython",
    "version": 3
   },
   "file_extension": ".py",
   "mimetype": "text/x-python",
   "name": "python",
   "nbconvert_exporter": "python",
   "pygments_lexer": "ipython3",
   "version": "3.7.6"
  }
 },
 "nbformat": 4,
 "nbformat_minor": 2
}
