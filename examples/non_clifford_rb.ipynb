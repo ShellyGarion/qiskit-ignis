{
 "cells": [
  {
   "cell_type": "markdown",
   "metadata": {},
   "source": [
    "# Non-Clifford Randomized Benchmarking\n",
    "\n",
    "- Last Updated: ???\n",
    "- Requires: qiskit-terra ???, qiskit-ignis ???, qiskit-aer ???\n",
    "\n",
    "## Introduction\n",
    "\n",
    "The method is based on the paper \"Scalable randomized benchmarking of non-Clifford gates\"(https://arxiv.org/abs/1510.02720)."
   ]
  },
  {
   "cell_type": "code",
   "execution_count": 1,
   "metadata": {},
   "outputs": [],
   "source": [
    "#Import general libraries (needed for functions)\n",
    "import numpy as np\n",
    "import matplotlib.pyplot as plt\n",
    "from IPython import display\n",
    "\n",
    "#Import Qiskit classes classes\n",
    "import qiskit\n",
    "from qiskit.providers.aer.noise import NoiseModel\n",
    "from qiskit.providers.aer.noise.errors.standard_errors import depolarizing_error, thermal_relaxation_error\n",
    "\n",
    "#Import the RB Functions\n",
    "import qiskit.ignis.verification.randomized_benchmarking as rb"
   ]
  },
  {
   "cell_type": "code",
   "execution_count": 2,
   "metadata": {},
   "outputs": [],
   "source": [
    "#Number of qubits\n",
    "nQ = 3\n",
    "#There are 3 qubits: Q0,Q1,Q2.\n",
    "#Number of seeds (random sequences)\n",
    "nseeds = 5\n",
    "#Number of Cliffords in the sequence (start, stop, steps)\n",
    "nCliffs = np.arange(1,20,5)\n",
    "#2Q RB on Q0,Q2 and 1Q RB on Q1\n",
    "rb_pattern = [[0,2],[1]]\n",
    "#Do three times as many 1Q Cliffords\n",
    "length_multiplier = [1,3]\n",
    "# Non-Clifford RB\n",
    "group_gates = 'Non-Clifford'"
   ]
  },
  {
   "cell_type": "code",
   "execution_count": 3,
   "metadata": {},
   "outputs": [],
   "source": [
    "rb_opts = {}\n",
    "rb_opts['length_vector'] = nCliffs\n",
    "rb_opts['nseeds'] = nseeds\n",
    "rb_opts['rb_pattern'] = rb_pattern\n",
    "rb_opts['length_multiplier'] = length_multiplier\n",
    "rb_opts['group_gates'] = group_gates\n",
    "\n",
    "rb_nonclifford_Z_circs, xdata, rb_nonclifford_X_circs = rb.randomized_benchmarking_seq(**rb_opts)"
   ]
  },
  {
   "cell_type": "code",
   "execution_count": 4,
   "metadata": {},
   "outputs": [
    {
     "name": "stdout",
     "output_type": "stream",
     "text": [
      "                       ┌───┐     ┌────────┐                                  ░ »\n",
      "qr_0: |0>──────────────┤ X ├─────┤ U1(pi) ├──■───────────────────────────────░─»\n",
      "         ┌───────────┐ └─┬─┘┌───┐└───░────┘  │  ┌────────────┐      ░        ░ »\n",
      "qr_1: |0>┤ U1(3.927) ├───┼──┤ X ├────░───────┼──┤ U1(2.3562) ├──────░──────────»\n",
      "         ├───────────┴┐  │  └───┘  ┌───┐   ┌─┴─┐└────────────┘┌────────────┐ ░ »\n",
      "qr_2: |0>┤ U1(2.3562) ├──■─────────┤ X ├───┤ X ├──────────────┤ U1(5.4978) ├─░─»\n",
      "         └────────────┘            └───┘   └───┘              └────────────┘ ░ »\n",
      " cr_0: 0 ══════════════════════════════════════════════════════════════════════»\n",
      "                                                                               »\n",
      " cr_1: 0 ══════════════════════════════════════════════════════════════════════»\n",
      "                                                                               »\n",
      " cr_2: 0 ══════════════════════════════════════════════════════════════════════»\n",
      "                                                                               »\n",
      "«                                             ┌────────┐┌───┐┌─┐             »\n",
      "«qr_0: ───────────────────■───────────────────┤ U1(pi) ├┤ X ├┤M├─────────────»\n",
      "«      ┌───┐     ░        │  ┌────────────┐┌─┐└────────┘└─┬─┘└╥┘             »\n",
      "«qr_1: ┤ X ├─────░────────┼──┤ U1(4.7124) ├┤M├────────────┼───╫──────────────»\n",
      "«      └───┘┌──────────┐┌─┴─┐└────────────┘└╥┘  ┌───┐     │   ║ ┌───────────┐»\n",
      "«qr_2: ─────┤ U1(pi/4) ├┤ X ├───────────────╫───┤ X ├─────■───╫─┤ U1(3.927) ├»\n",
      "«           └──────────┘└───┘               ║   └───┘         ║ └───────────┘»\n",
      "«cr_0: ═════════════════════════════════════╬═════════════════╩══════════════»\n",
      "«                                           ║                                »\n",
      "«cr_1: ═════════════════════════════════════╬════════════════════════════════»\n",
      "«                                           ║                                »\n",
      "«cr_2: ═════════════════════════════════════╩════════════════════════════════»\n",
      "«                                                                            »\n",
      "«         \n",
      "«qr_0: ───\n",
      "«         \n",
      "«qr_1: ───\n",
      "«      ┌─┐\n",
      "«qr_2: ┤M├\n",
      "«      └╥┘\n",
      "«cr_0: ═╬═\n",
      "«       ║ \n",
      "«cr_1: ═╩═\n",
      "«         \n",
      "«cr_2: ═══\n",
      "«         \n"
     ]
    }
   ],
   "source": [
    "print (rb_nonclifford_Z_circs[0][0])"
   ]
  },
  {
   "cell_type": "code",
   "execution_count": 5,
   "metadata": {},
   "outputs": [
    {
     "name": "stdout",
     "output_type": "stream",
     "text": [
      "         ┌───┐              ┌───┐     ┌────────┐                   »\n",
      "qr_0: |0>┤ H ├──────────────┤ X ├─────┤ U1(pi) ├──■────────────────»\n",
      "         ├───┤┌───────────┐ └─┬─┘┌───┐└───░────┘  │  ┌────────────┐»\n",
      "qr_1: |0>┤ H ├┤ U1(3.927) ├───┼──┤ X ├────░───────┼──┤ U1(2.3562) ├»\n",
      "         ├───┤├───────────┴┐  │  └───┘  ┌───┐   ┌─┴─┐└────────────┘»\n",
      "qr_2: |0>┤ H ├┤ U1(2.3562) ├──■─────────┤ X ├───┤ X ├──────────────»\n",
      "         └───┘└────────────┘            └───┘   └───┘              »\n",
      " cr_0: 0 ══════════════════════════════════════════════════════════»\n",
      "                                                                   »\n",
      " cr_1: 0 ══════════════════════════════════════════════════════════»\n",
      "                                                                   »\n",
      " cr_2: 0 ══════════════════════════════════════════════════════════»\n",
      "                                                                   »\n",
      "«                     ░                                     ┌────────┐┌───┐   »\n",
      "«qr_0: ───────────────░────────────────────■────────────────┤ U1(pi) ├┤ X ├───»\n",
      "«            ░        ░ ┌───┐     ░        │  ┌────────────┐└─┬───┬──┘└─┬─┘┌─┐»\n",
      "«qr_1: ──────░──────────┤ X ├─────░────────┼──┤ U1(4.7124) ├──┤ H ├─────┼──┤M├»\n",
      "«      ┌────────────┐ ░ └───┘┌──────────┐┌─┴─┐└────────────┘  ├───┤     │  └╥┘»\n",
      "«qr_2: ┤ U1(5.4978) ├─░──────┤ U1(pi/4) ├┤ X ├────────────────┤ X ├─────■───╫─»\n",
      "«      └────────────┘ ░      └──────────┘└───┘                └───┘         ║ »\n",
      "«cr_0: ═════════════════════════════════════════════════════════════════════╬═»\n",
      "«                                                                           ║ »\n",
      "«cr_1: ═════════════════════════════════════════════════════════════════════╬═»\n",
      "«                                                                           ║ »\n",
      "«cr_2: ═════════════════════════════════════════════════════════════════════╩═»\n",
      "«                                                                             »\n",
      "«          ┌───┐    ┌─┐        \n",
      "«qr_0: ────┤ H ├────┤M├────────\n",
      "«          └───┘    └╥┘        \n",
      "«qr_1: ──────────────╫─────────\n",
      "«      ┌───────────┐ ║ ┌───┐┌─┐\n",
      "«qr_2: ┤ U1(3.927) ├─╫─┤ H ├┤M├\n",
      "«      └───────────┘ ║ └───┘└╥┘\n",
      "«cr_0: ══════════════╩═══════╬═\n",
      "«                            ║ \n",
      "«cr_1: ══════════════════════╩═\n",
      "«                              \n",
      "«cr_2: ════════════════════════\n",
      "«                              \n"
     ]
    }
   ],
   "source": [
    "print (rb_nonclifford_X_circs[0][0])"
   ]
  },
  {
   "cell_type": "code",
   "execution_count": null,
   "metadata": {},
   "outputs": [],
   "source": []
  }
 ],
 "metadata": {
  "kernelspec": {
   "display_name": "Python 3",
   "language": "python",
   "name": "python3"
  },
  "language_info": {
   "codemirror_mode": {
    "name": "ipython",
    "version": 3
   },
   "file_extension": ".py",
   "mimetype": "text/x-python",
   "name": "python",
   "nbconvert_exporter": "python",
   "pygments_lexer": "ipython3",
   "version": "3.6.9"
  }
 },
 "nbformat": 4,
 "nbformat_minor": 2
}
