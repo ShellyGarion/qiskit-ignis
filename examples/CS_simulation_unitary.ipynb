{
 "cells": [
  {
   "cell_type": "markdown",
   "metadata": {},
   "source": [
    "# Non-Clifford CNOT-Dihedral Interleaved Randomized Benchmarking \n",
    "# of a CS gate"
   ]
  },
  {
   "cell_type": "code",
   "execution_count": 1,
   "metadata": {},
   "outputs": [],
   "source": [
    "#Import general libraries (needed for functions)\n",
    "import numpy as np\n",
    "import matplotlib.pyplot as plt\n",
    "from IPython import display\n",
    "\n",
    "import os, sys\n",
    "HOME = \"/home/shelly/Quantum/ignis2\"\n",
    "QISKIT_ROOT = HOME\n",
    "root_dir = os.path.expanduser(QISKIT_ROOT)\n",
    "sys.path = [os.path.expanduser(QISKIT_ROOT)] + sys.path\n",
    "HOME = \"/home/shelly/Quantum/qiskit-terra\"\n",
    "QISKIT_ROOT = HOME\n",
    "root_dir = os.path.expanduser(QISKIT_ROOT)\n",
    "sys.path = [os.path.expanduser(QISKIT_ROOT)] + sys.path\n",
    "#print (sys.path)\n",
    "\n",
    "import qiskit.ignis.verification.randomized_benchmarking as rb\n",
    "#print(rb.__file__)\n",
    "\n",
    "#Import Qiskit classes\n",
    "import qiskit\n",
    "from qiskit.providers.aer.noise import NoiseModel, errors\n",
    "from qiskit.providers.aer.noise.errors.standard_errors import depolarizing_error, thermal_relaxation_error, coherent_unitary_error\n",
    "from qiskit.quantum_info.operators import Operator\n",
    "\n",
    "#Import the RB Functions\n",
    "import qiskit.ignis.verification.randomized_benchmarking as rb\n",
    "\n",
    "#from examples import CS_utils"
   ]
  },
  {
   "cell_type": "code",
   "execution_count": 2,
   "metadata": {},
   "outputs": [],
   "source": [
    "#Number of qubits\n",
    "nQ = 2\n",
    "#There are 3 qubits: Q0,Q1.\n",
    "#Number of seeds (random sequences)\n",
    "nseeds = 5\n",
    "#Number of Cliffords in the sequence (start, stop, steps)\n",
    "nCliffs = np.arange(1,200,20)\n",
    "#2Q RB on Q0,Q2 and 1Q RB on Q1\n",
    "rb_pattern = [[0,1]]\n",
    "# Non-Clifford RB\n",
    "group_gates = 'CNOT-Dihedral'"
   ]
  },
  {
   "cell_type": "markdown",
   "metadata": {},
   "source": [
    "### Interleaved RB with a CS gate \n",
    "\n",
    "Defining a CS gate using an operator."
   ]
  },
  {
   "cell_type": "code",
   "execution_count": 3,
   "metadata": {},
   "outputs": [],
   "source": [
    "rb_opts = {}\n",
    "rb_opts['length_vector'] = nCliffs\n",
    "rb_opts['nseeds'] = nseeds\n",
    "rb_opts['rb_pattern'] = rb_pattern\n",
    "rb_opts['group_gates'] = group_gates\n",
    "rb_opts['align_cliffs'] = True\n",
    "\n",
    "CS01 = rb.dihedral.CNOTDihedral(2)\n",
    "CS01.phase(1, 0)\n",
    "CS01.phase(1, 1)\n",
    "CS01.cnot(0, 1)\n",
    "CS01.phase(7, 1)\n",
    "CS01.cnot(0, 1)\n",
    "\n",
    "cs = Operator([[1, 0, 0, 0],\n",
    "               [0, 1, 0, 0],\n",
    "               [0, 0, 1, 0],\n",
    "               [0, 0, 0, 1j]])\n",
    "\n",
    "rb_opts['interleaved_gates'] = [(CS01, [('cs', 0, 1)])]\n",
    "\n",
    "rb_cnotdihedral_Z_circs, xdata, rb_cnotdihedral_X_circs, rb_cnotdihedral_interleaved_Z_circs, \\\n",
    "rb_cnotdihedral_interleaved_X_circs = rb.randomized_benchmarking_seq(**rb_opts)"
   ]
  },
  {
   "cell_type": "code",
   "execution_count": 4,
   "metadata": {},
   "outputs": [
    {
     "name": "stdout",
     "output_type": "stream",
     "text": [
      "         ┌──────────┐┌───┐ ░  ░     ┌───┐     ┌────────────┐┌─┐\n",
      "qr_0: |0>┤ U1(pi/2) ├┤ X ├─░──░─────┤ X ├─────┤ U1(4.7124) ├┤M├\n",
      "         ├──────────┤└───┘ ░  ░ ┌───┴───┴────┐└────┬─┬─────┘└╥┘\n",
      "qr_1: |0>┤ U1(pi/4) ├──────░──░─┤ U1(5.4978) ├─────┤M├───────╫─\n",
      "         └──────────┘      ░  ░ └────────────┘     └╥┘       ║ \n",
      " cr_0: 0 ═══════════════════════════════════════════╬════════╩═\n",
      "                                                    ║          \n",
      " cr_1: 0 ═══════════════════════════════════════════╩══════════\n",
      "                                                               \n"
     ]
    }
   ],
   "source": [
    "print (rb_cnotdihedral_Z_circs[0][0])"
   ]
  },
  {
   "cell_type": "code",
   "execution_count": 5,
   "metadata": {},
   "outputs": [
    {
     "name": "stdout",
     "output_type": "stream",
     "text": [
      "         ┌──────────┐┌───┐ ░ ┌──────────┐ ░  ░                                »\n",
      "qr_0: |0>┤ U1(pi/2) ├┤ X ├─░─┤0         ├─░──░────────────────■───────────────»\n",
      "         ├──────────┤└───┘ ░ │  unitary │ ░  ░ ┌───────────┐┌─┴─┐┌───────────┐»\n",
      "qr_1: |0>┤ U1(pi/4) ├──────░─┤1         ├─░──░─┤ U1(3.927) ├┤ X ├┤ U1(3.927) ├»\n",
      "         └──────────┘      ░ └──────────┘ ░  ░ └───────────┘└───┘└───────────┘»\n",
      " cr_0: 0 ═════════════════════════════════════════════════════════════════════»\n",
      "                                                                              »\n",
      " cr_1: 0 ═════════════════════════════════════════════════════════════════════»\n",
      "                                                                              »\n",
      "«               ┌───┐    ┌────────────┐┌─┐\n",
      "«qr_0: ──■──────┤ X ├────┤ U1(2.3562) ├┤M├\n",
      "«      ┌─┴─┐┌───┴───┴───┐└────┬─┬─────┘└╥┘\n",
      "«qr_1: ┤ X ├┤ U1(3.927) ├─────┤M├───────╫─\n",
      "«      └───┘└───────────┘     └╥┘       ║ \n",
      "«cr_0: ════════════════════════╬════════╩═\n",
      "«                              ║          \n",
      "«cr_1: ════════════════════════╩══════════\n",
      "«                                         \n"
     ]
    }
   ],
   "source": [
    "print (rb_cnotdihedral_interleaved_Z_circs[0][0])"
   ]
  },
  {
   "cell_type": "code",
   "execution_count": 6,
   "metadata": {},
   "outputs": [
    {
     "name": "stdout",
     "output_type": "stream",
     "text": [
      "         ┌───┐ ░ ┌──────────┐┌───┐ ░  ░     ┌───┐     ┌────────────┐  ░  ┌───┐»\n",
      "qr_0: |0>┤ H ├─░─┤ U1(pi/2) ├┤ X ├─░──░─────┤ X ├─────┤ U1(4.7124) ├──░──┤ H ├»\n",
      "         ├───┤ ░ ├──────────┤└───┘ ░  ░ ┌───┴───┴────┐└─────░──────┘┌───┐└┬─┬┘»\n",
      "qr_1: |0>┤ H ├─░─┤ U1(pi/4) ├──────░──░─┤ U1(5.4978) ├──────░───────┤ H ├─┤M├─»\n",
      "         └───┘ ░ └──────────┘      ░  ░ └────────────┘      ░       └───┘ └╥┘ »\n",
      " cr_0: 0 ══════════════════════════════════════════════════════════════════╬══»\n",
      "                                                                           ║  »\n",
      " cr_1: 0 ══════════════════════════════════════════════════════════════════╩══»\n",
      "                                                                              »\n",
      "«      ┌─┐\n",
      "«qr_0: ┤M├\n",
      "«      └╥┘\n",
      "«qr_1: ─╫─\n",
      "«       ║ \n",
      "«cr_0: ═╩═\n",
      "«         \n",
      "«cr_1: ═══\n",
      "«         \n"
     ]
    }
   ],
   "source": [
    "print (rb_cnotdihedral_X_circs[0][0])"
   ]
  },
  {
   "cell_type": "code",
   "execution_count": 7,
   "metadata": {},
   "outputs": [
    {
     "name": "stdout",
     "output_type": "stream",
     "text": [
      "         ┌───┐ ░ ┌──────────┐┌───┐ ░ ┌──────────┐ ░  ░                   »\n",
      "qr_0: |0>┤ H ├─░─┤ U1(pi/2) ├┤ X ├─░─┤0         ├─░──░────────────────■──»\n",
      "         ├───┤ ░ ├──────────┤└───┘ ░ │  unitary │ ░  ░ ┌───────────┐┌─┴─┐»\n",
      "qr_1: |0>┤ H ├─░─┤ U1(pi/4) ├──────░─┤1         ├─░──░─┤ U1(3.927) ├┤ X ├»\n",
      "         └───┘ ░ └──────────┘      ░ └──────────┘ ░  ░ └───────────┘└───┘»\n",
      " cr_0: 0 ════════════════════════════════════════════════════════════════»\n",
      "                                                                         »\n",
      " cr_1: 0 ════════════════════════════════════════════════════════════════»\n",
      "                                                                         »\n",
      "«                            ┌───┐    ┌────────────┐  ░  ┌───┐┌─┐\n",
      "«qr_0: ───────────────■──────┤ X ├────┤ U1(2.3562) ├──░──┤ H ├┤M├\n",
      "«      ┌───────────┐┌─┴─┐┌───┴───┴───┐└─────░──────┘┌───┐└┬─┬┘└╥┘\n",
      "«qr_1: ┤ U1(3.927) ├┤ X ├┤ U1(3.927) ├──────░───────┤ H ├─┤M├──╫─\n",
      "«      └───────────┘└───┘└───────────┘      ░       └───┘ └╥┘  ║ \n",
      "«cr_0: ════════════════════════════════════════════════════╬═══╩═\n",
      "«                                                          ║     \n",
      "«cr_1: ════════════════════════════════════════════════════╩═════\n",
      "«                                                                \n"
     ]
    }
   ],
   "source": [
    "print (rb_cnotdihedral_interleaved_X_circs[0][0])"
   ]
  },
  {
   "cell_type": "markdown",
   "metadata": {},
   "source": [
    "### Add a coherent noise to the CS gate"
   ]
  },
  {
   "cell_type": "code",
   "execution_count": 8,
   "metadata": {},
   "outputs": [
    {
     "name": "stdout",
     "output_type": "stream",
     "text": [
      "err_unitary_u3: [[ 0.999998+0.j -0.002   +0.j]\n",
      " [ 0.002   +0.j  0.999998+0.j]]\n",
      "err_unitary_cs: [[ 9.99600053e-01+0.j -1.99946671e-02+0.j -1.99946671e-02+0.j\n",
      "   3.99946670e-04-0.j]\n",
      " [ 1.99946671e-02+0.j  9.99600053e-01+0.j -3.99946670e-04+0.j\n",
      "  -1.99946671e-02+0.j]\n",
      " [ 1.99946671e-02+0.j -3.99946670e-04+0.j  9.99600053e-01+0.j\n",
      "  -1.99946671e-02+0.j]\n",
      " [ 3.99946670e-04+0.j  1.99946671e-02+0.j  1.99946671e-02+0.j\n",
      "   9.99600053e-01+0.j]]\n",
      "err_unitary_cx: [[ 0.99840085+0.j -0.03995735+0.j -0.03995735+0.j  0.00159915-0.j]\n",
      " [ 0.03995735+0.j  0.99840085+0.j -0.00159915+0.j -0.03995735+0.j]\n",
      " [ 0.03995735+0.j -0.00159915+0.j  0.99840085+0.j -0.03995735+0.j]\n",
      " [ 0.00159915+0.j  0.03995735+0.j  0.03995735+0.j  0.99840085+0.j]]\n",
      "['cx', 'id', 'u3', 'unitary']\n"
     ]
    }
   ],
   "source": [
    "### Add coherent unitary error to \"cs\" gate\n",
    "\n",
    "def err_unitary(angle_err):\n",
    "    err_unitary = np.zeros([2, 2], dtype=complex)\n",
    "    for i in range(2):\n",
    "        err_unitary[i, i] = np.cos(angle_err)\n",
    "        err_unitary[i, (i+1) % 2] = np.sin(angle_err)\n",
    "    err_unitary[0, 1] *= -1.0\n",
    "    return (err_unitary)\n",
    "\n",
    "err_unitary_cs = np.kron(err_unitary(0.02), err_unitary(0.02))\n",
    "err_unitary_cx = np.kron(err_unitary(0.04), err_unitary(0.04))\n",
    "err_unitary_u3 = err_unitary(0.002)\n",
    "\n",
    "print (\"err_unitary_u3:\", err_unitary_u3)\n",
    "print (\"err_unitary_cs:\", err_unitary_cs)\n",
    "print (\"err_unitary_cx:\", err_unitary_cx)\n",
    "\n",
    "cx_error = errors.coherent_unitary_error(err_unitary_cx)\n",
    "cs_error = errors.coherent_unitary_error(err_unitary_cs)\n",
    "u3_error = errors.coherent_unitary_error(err_unitary_u3)\n",
    "\n",
    "noise_model = NoiseModel()\n",
    "noise_model.add_all_qubit_quantum_error(u3_error, 'u3')\n",
    "noise_model.add_all_qubit_quantum_error(cx_error, 'cx')\n",
    "noise_model.add_all_qubit_quantum_error(cs_error, 'cs')\n",
    "\n",
    "noise_model.add_basis_gates(['unitary'])\n",
    "basis_gates = noise_model.basis_gates\n",
    "print(basis_gates)"
   ]
  },
  {
   "cell_type": "markdown",
   "metadata": {},
   "source": [
    "### Execute the RB sequences"
   ]
  },
  {
   "cell_type": "code",
   "execution_count": 9,
   "metadata": {},
   "outputs": [
    {
     "name": "stdout",
     "output_type": "stream",
     "text": [
      "Compiling seed 0\n",
      "Simulating seed 0\n",
      "Compiling seed 1\n",
      "Simulating seed 1\n",
      "Compiling seed 2\n",
      "Simulating seed 2\n",
      "Compiling seed 3\n",
      "Simulating seed 3\n",
      "Compiling seed 4\n",
      "Simulating seed 4\n",
      "Finished Simulating CNOT-Dihedral X Circuits\n"
     ]
    }
   ],
   "source": [
    "#CNOT-Dihedral RB X circuits\n",
    "backend = qiskit.Aer.get_backend('qasm_simulator')\n",
    "#basis_gates = ['u1','u2','u3','cx'] # use U,CX for now\n",
    "shots = 200\n",
    "cnotdihedral_X_result_list = []\n",
    "cnotdihedral_X_qobj_list = []\n",
    "import time\n",
    "for rb_seed,rb_circ_seed in enumerate(rb_cnotdihedral_X_circs):\n",
    "    print('Compiling seed %d'%rb_seed)\n",
    "    new_rb_circ_seed = qiskit.compiler.transpile(rb_circ_seed, basis_gates=basis_gates)\n",
    "    qobj = qiskit.compiler.assemble(new_rb_circ_seed, shots=shots)\n",
    "    print('Simulating seed %d'%rb_seed)\n",
    "    job = backend.run(qobj, noise_model=noise_model, backend_options={'max_parallel_experiments': 0})\n",
    "    cnotdihedral_X_result_list.append(job.result())\n",
    "    cnotdihedral_X_qobj_list.append(qobj)    \n",
    "print(\"Finished Simulating CNOT-Dihedral X Circuits\")"
   ]
  },
  {
   "cell_type": "code",
   "execution_count": 10,
   "metadata": {},
   "outputs": [
    {
     "name": "stdout",
     "output_type": "stream",
     "text": [
      "Compiling seed 0\n",
      "Simulating seed 0\n",
      "Compiling seed 1\n",
      "Simulating seed 1\n",
      "Compiling seed 2\n",
      "Simulating seed 2\n",
      "Compiling seed 3\n",
      "Simulating seed 3\n",
      "Compiling seed 4\n",
      "Simulating seed 4\n",
      "Finished Simulating CNOT-Dihedral Interleaved X Circuits\n"
     ]
    }
   ],
   "source": [
    "#CNOT-Dihedral interleaved RB X circuits\n",
    "backend = qiskit.Aer.get_backend('qasm_simulator')\n",
    "#basis_gates = ['u1','u2','u3','cx'] # use U,CX for now\n",
    "shots = 200\n",
    "cnotdihedral_interleaved_X_result_list = []\n",
    "cnotdihedral_interleaved_X_qobj_list = []\n",
    "import time\n",
    "for rb_seed,rb_circ_seed in enumerate(rb_cnotdihedral_interleaved_X_circs):\n",
    "    print('Compiling seed %d'%rb_seed)\n",
    "    new_rb_circ_seed = qiskit.compiler.transpile(rb_circ_seed, basis_gates=basis_gates)\n",
    "    qobj = qiskit.compiler.assemble(new_rb_circ_seed, shots=shots)\n",
    "    print('Simulating seed %d'%rb_seed)\n",
    "    job = backend.run(qobj, noise_model=noise_model, backend_options={'max_parallel_experiments': 0})\n",
    "    cnotdihedral_interleaved_X_result_list.append(job.result())\n",
    "    cnotdihedral_interleaved_X_qobj_list.append(qobj)    \n",
    "print(\"Finished Simulating CNOT-Dihedral Interleaved X Circuits\")"
   ]
  },
  {
   "cell_type": "code",
   "execution_count": 11,
   "metadata": {},
   "outputs": [
    {
     "name": "stdout",
     "output_type": "stream",
     "text": [
      "Compiling seed 0\n",
      "Simulating seed 0\n",
      "Compiling seed 1\n",
      "Simulating seed 1\n",
      "Compiling seed 2\n",
      "Simulating seed 2\n",
      "Compiling seed 3\n",
      "Simulating seed 3\n",
      "Compiling seed 4\n",
      "Simulating seed 4\n",
      "Finished Simulating CNOT-Dihedral Z Circuits\n"
     ]
    }
   ],
   "source": [
    "#CNOT-Dihedral RB Z circuits\n",
    "backend = qiskit.Aer.get_backend('qasm_simulator')\n",
    "#basis_gates = ['u1','u2','u3','cx'] # use U,CX for now\n",
    "shots = 200\n",
    "cnotdihedral_Z_result_list = []\n",
    "cnotdihedral_Z_qobj_list = []\n",
    "import time\n",
    "for rb_seed,rb_circ_seed in enumerate(rb_cnotdihedral_Z_circs):\n",
    "    print('Compiling seed %d'%rb_seed)\n",
    "    new_rb_circ_seed = qiskit.compiler.transpile(rb_circ_seed, basis_gates=basis_gates)\n",
    "    qobj = qiskit.compiler.assemble(new_rb_circ_seed, shots=shots)\n",
    "    print('Simulating seed %d'%rb_seed)\n",
    "    job = backend.run(qobj, noise_model=noise_model, backend_options={'max_parallel_experiments': 0})\n",
    "    cnotdihedral_Z_result_list.append(job.result())\n",
    "    cnotdihedral_Z_qobj_list.append(qobj)    \n",
    "print(\"Finished Simulating CNOT-Dihedral Z Circuits\")"
   ]
  },
  {
   "cell_type": "code",
   "execution_count": 12,
   "metadata": {},
   "outputs": [
    {
     "name": "stdout",
     "output_type": "stream",
     "text": [
      "Compiling seed 0\n",
      "Simulating seed 0\n",
      "Compiling seed 1\n",
      "Simulating seed 1\n",
      "Compiling seed 2\n",
      "Simulating seed 2\n",
      "Compiling seed 3\n",
      "Simulating seed 3\n",
      "Compiling seed 4\n",
      "Simulating seed 4\n",
      "Finished Simulating CNOT-Dihedral Interleaved Z Circuits\n"
     ]
    }
   ],
   "source": [
    "#CNOT-Dihedral inteleaved RB Z circuits\n",
    "backend = qiskit.Aer.get_backend('qasm_simulator')\n",
    "#basis_gates = ['u1','u2','u3','cx'] # use U,CX for now\n",
    "shots = 200\n",
    "cnotdihedral_interleaved_Z_result_list = []\n",
    "cnotdihedral_interleaved_Z_qobj_list = []\n",
    "import time\n",
    "for rb_seed,rb_circ_seed in enumerate(rb_cnotdihedral_interleaved_Z_circs):\n",
    "    print('Compiling seed %d'%rb_seed)\n",
    "    new_rb_circ_seed = qiskit.compiler.transpile(rb_circ_seed, basis_gates=basis_gates)\n",
    "    qobj = qiskit.compiler.assemble(new_rb_circ_seed, shots=shots)\n",
    "    print('Simulating seed %d'%rb_seed)\n",
    "    job = backend.run(qobj, noise_model=noise_model, backend_options={'max_parallel_experiments': 0})\n",
    "    cnotdihedral_interleaved_Z_result_list.append(job.result())\n",
    "    cnotdihedral_interleaved_Z_qobj_list.append(qobj)    \n",
    "print(\"Finished Simulating CNOT-Dihedral Interleaved Z Circuits\")"
   ]
  },
  {
   "cell_type": "markdown",
   "metadata": {},
   "source": [
    "### Fit the results"
   ]
  },
  {
   "cell_type": "code",
   "execution_count": 13,
   "metadata": {},
   "outputs": [],
   "source": [
    "#Create the cnot-dihedral Z and X RB fitters\n",
    "cnotdihedral_Z_rb_fit = rb.RBFitter(cnotdihedral_Z_result_list, xdata, rb_opts['rb_pattern'])\n",
    "cnotdihedral_X_rb_fit = rb.RBFitter(cnotdihedral_X_result_list, xdata, rb_opts['rb_pattern'])"
   ]
  },
  {
   "cell_type": "code",
   "execution_count": 14,
   "metadata": {},
   "outputs": [
    {
     "name": "stdout",
     "output_type": "stream",
     "text": [
      "pattern: 0 - 2 qubit cnot-dihedral RB of Z circuits: {'params': array([0.7091311 , 0.99216557, 0.28686974]), 'params_err': array([0.1093577 , 0.00178028, 0.10995541]), 'epc': 0.005875819252874143, 'epc_err': 0.0013457568530788567}\n"
     ]
    }
   ],
   "source": [
    "# Print the Z circuits fitter parameters\n",
    "for patt_ind, pattern in enumerate(rb_pattern):\n",
    "    print ('pattern:', patt_ind, '-', len(pattern), 'qubit cnot-dihedral RB of Z circuits:', cnotdihedral_Z_rb_fit.fit[patt_ind])"
   ]
  },
  {
   "cell_type": "code",
   "execution_count": 15,
   "metadata": {},
   "outputs": [
    {
     "name": "stdout",
     "output_type": "stream",
     "text": [
      "pattern: 0 - 2 qubit cnot-dihedral RB of X circuits: {'params': array([9.94904841e-01, 9.96358943e-01, 3.95888106e-13]), 'params_err': array([0.33690941, 0.00149341, 0.33742371]), 'epc': 0.002730792580764585, 'epc_err': 0.0011241537347164053}\n"
     ]
    }
   ],
   "source": [
    "# Print the X circuits fitter parameters\n",
    "for patt_ind, pattern in enumerate(rb_pattern):\n",
    "    print ('pattern:', patt_ind, '-', len(pattern), 'qubit cnot-dihedral RB of X circuits:', cnotdihedral_X_rb_fit.fit[patt_ind])"
   ]
  },
  {
   "cell_type": "code",
   "execution_count": 16,
   "metadata": {},
   "outputs": [],
   "source": [
    "#Create the cnot-dihedral intelreaved Z and X RB fitters\n",
    "cnotdihedral_interleaved_Z_rb_fit = rb.RBFitter(cnotdihedral_interleaved_Z_result_list, xdata, rb_opts['rb_pattern'])\n",
    "cnotdihedral_interleaved_X_rb_fit = rb.RBFitter(cnotdihedral_interleaved_X_result_list, xdata, rb_opts['rb_pattern'])"
   ]
  },
  {
   "cell_type": "code",
   "execution_count": 17,
   "metadata": {},
   "outputs": [
    {
     "name": "stdout",
     "output_type": "stream",
     "text": [
      "pattern: 0 - 2 qubit cnot-dihedral RB of interleaved Z circuits: {'params': array([9.87335623e-01, 9.95446858e-01, 2.99538459e-12]), 'params_err': array([0.33965773, 0.00204658, 0.34034824]), 'epc': 0.0034148568656380274, 'epc_err': 0.0015419590877697592}\n"
     ]
    }
   ],
   "source": [
    "# Print the interleaved Z circuits fitter parameters\n",
    "for patt_ind, pattern in enumerate(rb_pattern):\n",
    "    print ('pattern:', patt_ind, '-', len(pattern), 'qubit cnot-dihedral RB of interleaved Z circuits:', cnotdihedral_interleaved_Z_rb_fit.fit[patt_ind])"
   ]
  },
  {
   "cell_type": "code",
   "execution_count": 18,
   "metadata": {},
   "outputs": [
    {
     "name": "stdout",
     "output_type": "stream",
     "text": [
      "pattern: 0 - 2 qubit cnot-dihedral RB of interleaved X circuits: {'params': array([9.91156855e-01, 9.96516019e-01, 1.01319285e-20]), 'params_err': array([0.68459842, 0.00291918, 0.68548776]), 'epc': 0.002612986099952419, 'epc_err': 0.0021970424463923777}\n"
     ]
    }
   ],
   "source": [
    "# Print the interleaved X circuits fitter parameters\n",
    "for patt_ind, pattern in enumerate(rb_pattern):\n",
    "    print ('pattern:', patt_ind, '-', len(pattern), 'qubit cnot-dihedral RB of interleaved X circuits:', cnotdihedral_interleaved_X_rb_fit.fit[patt_ind])"
   ]
  },
  {
   "cell_type": "code",
   "execution_count": 19,
   "metadata": {},
   "outputs": [],
   "source": [
    "#Calculate the joint fitter\n",
    "joint_rb_fit = rb.CNOTDihedralRBFitter(cnotdihedral_Z_result_list, cnotdihedral_X_result_list, xdata, rb_opts['rb_pattern'])\n",
    "joint_int_rb_fit = rb.CNOTDihedralRBFitter(cnotdihedral_interleaved_Z_result_list, cnotdihedral_interleaved_X_result_list, xdata, rb_opts['rb_pattern'])"
   ]
  },
  {
   "cell_type": "markdown",
   "metadata": {},
   "source": [
    "### Calculate the fidelity"
   ]
  },
  {
   "cell_type": "code",
   "execution_count": 20,
   "metadata": {},
   "outputs": [
    {
     "name": "stdout",
     "output_type": "stream",
     "text": [
      "pattern: 0 - 2 qubit cnot-dihedral RB: {'alpha': 0.995520269446418, 'alpha_err': 0.0012516473032796256, 'epg_est': 0.00335979791518648, 'epg_est_err': 0.0009429596827613813}\n",
      "pattern: 0 - 2 qubit cnot-dihedral interleaved RB: {'alpha': 0.996302186329214, 'alpha_err': 0.0023793118109922662, 'epg_est': 0.002773360253089524, 'epg_est_err': 0.001791107038336401}\n"
     ]
    }
   ],
   "source": [
    "#Print the joint fitter parameters\n",
    "for patt_ind, pattern in enumerate(rb_pattern):\n",
    "    print ('pattern:', patt_ind, '-', len(pattern), 'qubit cnot-dihedral RB:', joint_rb_fit.fit_cnotdihedral[patt_ind])\n",
    "#Print the joint interleaved parameters\n",
    "for patt_ind, pattern in enumerate(rb_pattern):\n",
    "    print ('pattern:', patt_ind, '-', len(pattern), 'qubit cnot-dihedral interleaved RB:', joint_int_rb_fit.fit_cnotdihedral[patt_ind])"
   ]
  },
  {
   "cell_type": "code",
   "execution_count": 21,
   "metadata": {},
   "outputs": [
    {
     "name": "stdout",
     "output_type": "stream",
     "text": [
      "Estimated gate error: -0.000589 (0.001334)\n"
     ]
    }
   ],
   "source": [
    "#Expected error of the interleaved cs gate\n",
    "alpha = joint_rb_fit.fit_cnotdihedral[0]['alpha']\n",
    "alpha_c = joint_int_rb_fit.fit_cnotdihedral[0]['alpha']\n",
    "alpha_err = joint_rb_fit.fit_cnotdihedral[0]['alpha_err']\n",
    "alpha_c_err = joint_rb_fit.fit_cnotdihedral[0]['alpha_err']\n",
    "\n",
    "nrb = 2 ** nQ\n",
    "r_est = (nrb - 1) * (1 - alpha_c / alpha) / nrb\n",
    "\n",
    "alpha_err_sq = (alpha_err / alpha) * (alpha_err / alpha)\n",
    "alpha_c_err_sq = (alpha_c_err / alpha_c) * (alpha_c_err / alpha_c)\n",
    "r_est_err = ((nrb - 1) / nrb) * (alpha_c / alpha) * (np.sqrt(alpha_err_sq + alpha_c_err_sq))\n",
    "\n",
    "print (\"Estimated gate error: %f (%f)\" %(r_est, r_est_err))"
   ]
  },
  {
   "cell_type": "markdown",
   "metadata": {},
   "source": [
    "### Plot the results"
   ]
  },
  {
   "cell_type": "code",
   "execution_count": 22,
   "metadata": {},
   "outputs": [
    {
     "data": {
      "image/png": "[encoded data removed]",
      "text/plain": [
       "<Figure size 1080x432 with 1 Axes>"
      ]
     },
     "metadata": {
      "needs_background": "light"
     },
     "output_type": "display_data"
    }
   ],
   "source": [
    "#Plot the joint RB data\n",
    "plt.figure(figsize=(15, 6))\n",
    "\n",
    "for i in range(1):\n",
    "    ax = plt.subplot(1, 2, i+1)\n",
    "    pattern_ind = i\n",
    "\n",
    "    # Plot the essence by calling plot_rb_data\n",
    "    joint_rb_fit.plot_rb_data(pattern_ind, ax=ax, add_label=True, show_plt=False)\n",
    "\n",
    "    # Add title and label\n",
    "    ax.set_title('%d Qubit non-Clifford cnot-dihedral RB'%(len(rb_opts['rb_pattern'][i])), fontsize=18)\n",
    "\n",
    "plt.show()"
   ]
  },
  {
   "cell_type": "code",
   "execution_count": 23,
   "metadata": {},
   "outputs": [
    {
     "data": {
      "image/png": "[encoded data removed]",
      "text/plain": [
       "<Figure size 1080x432 with 1 Axes>"
      ]
     },
     "metadata": {
      "needs_background": "light"
     },
     "output_type": "display_data"
    }
   ],
   "source": [
    "#Plot the joint interleaved RB data\n",
    "plt.figure(figsize=(15, 6))\n",
    "\n",
    "for i in range(1):\n",
    "    ax = plt.subplot(1, 2, i+1)\n",
    "    pattern_ind = i\n",
    "\n",
    "    # Plot the essence by calling plot_rb_data\n",
    "    joint_int_rb_fit.plot_rb_data(pattern_ind, ax=ax, add_label=True, show_plt=False)\n",
    "\n",
    "    # Add title and label\n",
    "    ax.set_title('%d Qubit non-Clifford cnot-dihedral interleaved RB'%(len(rb_opts['rb_pattern'][i])), fontsize=18)\n",
    "\n",
    "plt.show()"
   ]
  },
  {
   "cell_type": "code",
   "execution_count": null,
   "metadata": {},
   "outputs": [],
   "source": []
  },
  {
   "cell_type": "code",
   "execution_count": null,
   "metadata": {},
   "outputs": [],
   "source": []
  }
 ],
 "metadata": {
  "kernelspec": {
   "display_name": "Python 3",
   "language": "python",
   "name": "python3"
  },
  "language_info": {
   "codemirror_mode": {
    "name": "ipython",
    "version": 3
   },
   "file_extension": ".py",
   "mimetype": "text/x-python",
   "name": "python",
   "nbconvert_exporter": "python",
   "pygments_lexer": "ipython3",
   "version": "3.6.9"
  }
 },
 "nbformat": 4,
 "nbformat_minor": 2
}
